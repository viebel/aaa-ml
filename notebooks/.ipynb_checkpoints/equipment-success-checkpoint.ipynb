{
 "cells": [
  {
   "cell_type": "code",
   "execution_count": 2,
   "metadata": {},
   "outputs": [],
   "source": [
    "from __future__ import print_function\n",
    "import math\n",
    "\n",
    "from IPython import display\n",
    "from matplotlib import cm\n",
    "from matplotlib import gridspec\n",
    "from matplotlib import pyplot as plt\n",
    "from mpl_toolkits.mplot3d import Axes3D \n",
    "import numpy as np\n",
    "import pandas as pd\n",
    "from sklearn import metrics\n",
    "import tensorflow as tf\n",
    "\n",
    "from tensorflow.python.data import Dataset\n",
    "\n",
    "tf.logging.set_verbosity(tf.logging.ERROR)\n",
    "pd.options.display.max_rows = 10\n",
    "pd.options.display.float_format = '{:.1f}'.format\n"
   ]
  },
  {
   "cell_type": "code",
   "execution_count": 3,
   "metadata": {},
   "outputs": [
    {
     "data": {
      "text/html": [
       "<div>\n",
       "<style scoped>\n",
       "    .dataframe tbody tr th:only-of-type {\n",
       "        vertical-align: middle;\n",
       "    }\n",
       "\n",
       "    .dataframe tbody tr th {\n",
       "        vertical-align: top;\n",
       "    }\n",
       "\n",
       "    .dataframe thead th {\n",
       "        text-align: right;\n",
       "    }\n",
       "</style>\n",
       "<table border=\"1\" class=\"dataframe\">\n",
       "  <thead>\n",
       "    <tr style=\"text-align: right;\">\n",
       "      <th></th>\n",
       "      <th>patient_id</th>\n",
       "      <th>center_id</th>\n",
       "      <th>months_since_equipped</th>\n",
       "      <th>average_loss</th>\n",
       "      <th>high_loss</th>\n",
       "      <th>low_loss</th>\n",
       "      <th>eq_average_loss</th>\n",
       "      <th>eq_high_loss</th>\n",
       "      <th>eq_low_loss</th>\n",
       "      <th>id</th>\n",
       "      <th>age_in_months_at_equipped_start</th>\n",
       "    </tr>\n",
       "  </thead>\n",
       "  <tbody>\n",
       "    <tr>\n",
       "      <th>count</th>\n",
       "      <td>252940.0</td>\n",
       "      <td>252940.0</td>\n",
       "      <td>252940.0</td>\n",
       "      <td>203717.0</td>\n",
       "      <td>252940.0</td>\n",
       "      <td>252940.0</td>\n",
       "      <td>214834.0</td>\n",
       "      <td>252940.0</td>\n",
       "      <td>252940.0</td>\n",
       "      <td>252940.0</td>\n",
       "      <td>200171.0</td>\n",
       "    </tr>\n",
       "    <tr>\n",
       "      <th>mean</th>\n",
       "      <td>174079.2</td>\n",
       "      <td>426.2</td>\n",
       "      <td>21.8</td>\n",
       "      <td>57.0</td>\n",
       "      <td>54.4</td>\n",
       "      <td>41.0</td>\n",
       "      <td>35.0</td>\n",
       "      <td>37.5</td>\n",
       "      <td>30.4</td>\n",
       "      <td>399476.5</td>\n",
       "      <td>831.0</td>\n",
       "    </tr>\n",
       "    <tr>\n",
       "      <th>std</th>\n",
       "      <td>63641.3</td>\n",
       "      <td>413.7</td>\n",
       "      <td>27.7</td>\n",
       "      <td>21.3</td>\n",
       "      <td>29.2</td>\n",
       "      <td>28.3</td>\n",
       "      <td>9.9</td>\n",
       "      <td>10.9</td>\n",
       "      <td>11.5</td>\n",
       "      <td>73017.6</td>\n",
       "      <td>228.0</td>\n",
       "    </tr>\n",
       "    <tr>\n",
       "      <th>min</th>\n",
       "      <td>51.0</td>\n",
       "      <td>2.0</td>\n",
       "      <td>0.0</td>\n",
       "      <td>-10.0</td>\n",
       "      <td>-10.0</td>\n",
       "      <td>-10.0</td>\n",
       "      <td>-1.2</td>\n",
       "      <td>-10.0</td>\n",
       "      <td>-10.0</td>\n",
       "      <td>273007.0</td>\n",
       "      <td>0.0</td>\n",
       "    </tr>\n",
       "    <tr>\n",
       "      <th>25%</th>\n",
       "      <td>138502.0</td>\n",
       "      <td>57.0</td>\n",
       "      <td>1.0</td>\n",
       "      <td>42.5</td>\n",
       "      <td>42.0</td>\n",
       "      <td>23.8</td>\n",
       "      <td>28.8</td>\n",
       "      <td>30.7</td>\n",
       "      <td>23.3</td>\n",
       "      <td>336241.8</td>\n",
       "      <td>759.0</td>\n",
       "    </tr>\n",
       "    <tr>\n",
       "      <th>50%</th>\n",
       "      <td>176129.0</td>\n",
       "      <td>240.0</td>\n",
       "      <td>10.0</td>\n",
       "      <td>52.5</td>\n",
       "      <td>56.0</td>\n",
       "      <td>37.5</td>\n",
       "      <td>33.8</td>\n",
       "      <td>36.0</td>\n",
       "      <td>30.0</td>\n",
       "      <td>399476.5</td>\n",
       "      <td>878.0</td>\n",
       "    </tr>\n",
       "    <tr>\n",
       "      <th>75%</th>\n",
       "      <td>222135.0</td>\n",
       "      <td>828.0</td>\n",
       "      <td>34.0</td>\n",
       "      <td>66.2</td>\n",
       "      <td>70.0</td>\n",
       "      <td>55.0</td>\n",
       "      <td>39.0</td>\n",
       "      <td>42.5</td>\n",
       "      <td>36.2</td>\n",
       "      <td>462711.2</td>\n",
       "      <td>966.0</td>\n",
       "    </tr>\n",
       "    <tr>\n",
       "      <th>max</th>\n",
       "      <td>288723.0</td>\n",
       "      <td>1390.0</td>\n",
       "      <td>215.0</td>\n",
       "      <td>125.0</td>\n",
       "      <td>126.0</td>\n",
       "      <td>125.0</td>\n",
       "      <td>120.0</td>\n",
       "      <td>120.0</td>\n",
       "      <td>117.5</td>\n",
       "      <td>525946.0</td>\n",
       "      <td>1559.0</td>\n",
       "    </tr>\n",
       "  </tbody>\n",
       "</table>\n",
       "</div>"
      ],
      "text/plain": [
       "       patient_id  center_id  months_since_equipped  average_loss  high_loss  \\\n",
       "count    252940.0   252940.0               252940.0      203717.0   252940.0   \n",
       "mean     174079.2      426.2                   21.8          57.0       54.4   \n",
       "std       63641.3      413.7                   27.7          21.3       29.2   \n",
       "min          51.0        2.0                    0.0         -10.0      -10.0   \n",
       "25%      138502.0       57.0                    1.0          42.5       42.0   \n",
       "50%      176129.0      240.0                   10.0          52.5       56.0   \n",
       "75%      222135.0      828.0                   34.0          66.2       70.0   \n",
       "max      288723.0     1390.0                  215.0         125.0      126.0   \n",
       "\n",
       "       low_loss  eq_average_loss  eq_high_loss  eq_low_loss       id  \\\n",
       "count  252940.0         214834.0      252940.0     252940.0 252940.0   \n",
       "mean       41.0             35.0          37.5         30.4 399476.5   \n",
       "std        28.3              9.9          10.9         11.5  73017.6   \n",
       "min       -10.0             -1.2         -10.0        -10.0 273007.0   \n",
       "25%        23.8             28.8          30.7         23.3 336241.8   \n",
       "50%        37.5             33.8          36.0         30.0 399476.5   \n",
       "75%        55.0             39.0          42.5         36.2 462711.2   \n",
       "max       125.0            120.0         120.0        117.5 525946.0   \n",
       "\n",
       "       age_in_months_at_equipped_start  \n",
       "count                         200171.0  \n",
       "mean                             831.0  \n",
       "std                              228.0  \n",
       "min                                0.0  \n",
       "25%                              759.0  \n",
       "50%                              878.0  \n",
       "75%                              966.0  \n",
       "max                             1559.0  "
      ]
     },
     "execution_count": 3,
     "metadata": {},
     "output_type": "execute_result"
    }
   ],
   "source": [
    "equipment_sucess_dataframe = pd.read_csv(\"https://www.dropbox.com/s/oqlhwut708hypte/equipment_success_201810151126.csv?dl=1\", sep=\",\")\n",
    "equipment_sucess_dataframe.describe()"
   ]
  },
  {
   "cell_type": "code",
   "execution_count": 4,
   "metadata": {},
   "outputs": [],
   "source": [
    "equipment_sucess_dataframe['valid'] = (equipment_sucess_dataframe['average_loss'].apply(lambda x : not math.isnan(x) and x > 20 and x < 90) & \n",
    "                                       equipment_sucess_dataframe['eq_average_loss'].apply(lambda x : not math.isnan(x)) &\n",
    "                                       equipment_sucess_dataframe['high_loss'].apply(lambda x : not math.isnan(x)) &\n",
    "                                       equipment_sucess_dataframe['low_loss'].apply(lambda x : not math.isnan(x)) &\n",
    "                                       equipment_sucess_dataframe['months_since_equipped'].apply(lambda x : x < 24) &\n",
    "                                       equipment_sucess_dataframe['age_in_months_at_equipped_start'].apply(lambda x : not math.isnan(x) and x < 12*90 and x > 12*20))"
   ]
  },
  {
   "cell_type": "code",
   "execution_count": 5,
   "metadata": {},
   "outputs": [],
   "source": [
    "equipment_sucess_dataframe['age'] = equipment_sucess_dataframe['age_in_months_at_equipped_start']/12"
   ]
  },
  {
   "cell_type": "code",
   "execution_count": 119,
   "metadata": {
    "scrolled": true
   },
   "outputs": [
    {
     "data": {
      "text/html": [
       "<div>\n",
       "<style scoped>\n",
       "    .dataframe tbody tr th:only-of-type {\n",
       "        vertical-align: middle;\n",
       "    }\n",
       "\n",
       "    .dataframe tbody tr th {\n",
       "        vertical-align: top;\n",
       "    }\n",
       "\n",
       "    .dataframe thead th {\n",
       "        text-align: right;\n",
       "    }\n",
       "</style>\n",
       "<table border=\"1\" class=\"dataframe\">\n",
       "  <thead>\n",
       "    <tr style=\"text-align: right;\">\n",
       "      <th></th>\n",
       "      <th>patient_id</th>\n",
       "      <th>center_id</th>\n",
       "      <th>ears</th>\n",
       "      <th>months_since_equipped</th>\n",
       "      <th>average_loss</th>\n",
       "      <th>high_loss</th>\n",
       "      <th>low_loss</th>\n",
       "      <th>eq_average_loss</th>\n",
       "      <th>eq_high_loss</th>\n",
       "      <th>eq_low_loss</th>\n",
       "      <th>id</th>\n",
       "      <th>age_in_months_at_equipped_start</th>\n",
       "      <th>valid</th>\n",
       "      <th>age</th>\n",
       "    </tr>\n",
       "  </thead>\n",
       "  <tbody>\n",
       "    <tr>\n",
       "      <th>150674</th>\n",
       "      <td>75203</td>\n",
       "      <td>29</td>\n",
       "      <td>L</td>\n",
       "      <td>9</td>\n",
       "      <td>66.2</td>\n",
       "      <td>69.0</td>\n",
       "      <td>60.0</td>\n",
       "      <td>28.8</td>\n",
       "      <td>31.0</td>\n",
       "      <td>17.5</td>\n",
       "      <td>423681</td>\n",
       "      <td>943.0</td>\n",
       "      <td>True</td>\n",
       "      <td>78.6</td>\n",
       "    </tr>\n",
       "    <tr>\n",
       "      <th>150834</th>\n",
       "      <td>124328</td>\n",
       "      <td>29</td>\n",
       "      <td>R</td>\n",
       "      <td>10</td>\n",
       "      <td>50.0</td>\n",
       "      <td>50.0</td>\n",
       "      <td>52.5</td>\n",
       "      <td>23.8</td>\n",
       "      <td>22.0</td>\n",
       "      <td>23.8</td>\n",
       "      <td>423841</td>\n",
       "      <td>693.0</td>\n",
       "      <td>True</td>\n",
       "      <td>57.8</td>\n",
       "    </tr>\n",
       "    <tr>\n",
       "      <th>150848</th>\n",
       "      <td>130034</td>\n",
       "      <td>29</td>\n",
       "      <td>BIN</td>\n",
       "      <td>0</td>\n",
       "      <td>32.5</td>\n",
       "      <td>40.0</td>\n",
       "      <td>18.3</td>\n",
       "      <td>22.5</td>\n",
       "      <td>25.0</td>\n",
       "      <td>18.8</td>\n",
       "      <td>423855</td>\n",
       "      <td>834.0</td>\n",
       "      <td>True</td>\n",
       "      <td>69.5</td>\n",
       "    </tr>\n",
       "    <tr>\n",
       "      <th>150849</th>\n",
       "      <td>130034</td>\n",
       "      <td>29</td>\n",
       "      <td>BIN</td>\n",
       "      <td>4</td>\n",
       "      <td>32.5</td>\n",
       "      <td>40.0</td>\n",
       "      <td>18.3</td>\n",
       "      <td>21.2</td>\n",
       "      <td>25.0</td>\n",
       "      <td>17.5</td>\n",
       "      <td>423856</td>\n",
       "      <td>834.0</td>\n",
       "      <td>True</td>\n",
       "      <td>69.5</td>\n",
       "    </tr>\n",
       "    <tr>\n",
       "      <th>150850</th>\n",
       "      <td>130034</td>\n",
       "      <td>29</td>\n",
       "      <td>BIN</td>\n",
       "      <td>9</td>\n",
       "      <td>32.5</td>\n",
       "      <td>40.0</td>\n",
       "      <td>18.3</td>\n",
       "      <td>31.2</td>\n",
       "      <td>38.6</td>\n",
       "      <td>17.5</td>\n",
       "      <td>423857</td>\n",
       "      <td>834.0</td>\n",
       "      <td>True</td>\n",
       "      <td>69.5</td>\n",
       "    </tr>\n",
       "    <tr>\n",
       "      <th>...</th>\n",
       "      <td>...</td>\n",
       "      <td>...</td>\n",
       "      <td>...</td>\n",
       "      <td>...</td>\n",
       "      <td>...</td>\n",
       "      <td>...</td>\n",
       "      <td>...</td>\n",
       "      <td>...</td>\n",
       "      <td>...</td>\n",
       "      <td>...</td>\n",
       "      <td>...</td>\n",
       "      <td>...</td>\n",
       "      <td>...</td>\n",
       "      <td>...</td>\n",
       "    </tr>\n",
       "    <tr>\n",
       "      <th>200745</th>\n",
       "      <td>87362</td>\n",
       "      <td>29</td>\n",
       "      <td>R</td>\n",
       "      <td>1</td>\n",
       "      <td>50.0</td>\n",
       "      <td>60.0</td>\n",
       "      <td>42.5</td>\n",
       "      <td>36.2</td>\n",
       "      <td>36.7</td>\n",
       "      <td>33.3</td>\n",
       "      <td>473752</td>\n",
       "      <td>980.0</td>\n",
       "      <td>True</td>\n",
       "      <td>81.7</td>\n",
       "    </tr>\n",
       "    <tr>\n",
       "      <th>200746</th>\n",
       "      <td>87362</td>\n",
       "      <td>29</td>\n",
       "      <td>R</td>\n",
       "      <td>13</td>\n",
       "      <td>50.0</td>\n",
       "      <td>60.0</td>\n",
       "      <td>42.5</td>\n",
       "      <td>37.5</td>\n",
       "      <td>43.3</td>\n",
       "      <td>31.2</td>\n",
       "      <td>473753</td>\n",
       "      <td>980.0</td>\n",
       "      <td>True</td>\n",
       "      <td>81.7</td>\n",
       "    </tr>\n",
       "    <tr>\n",
       "      <th>200747</th>\n",
       "      <td>87362</td>\n",
       "      <td>29</td>\n",
       "      <td>R</td>\n",
       "      <td>23</td>\n",
       "      <td>61.2</td>\n",
       "      <td>69.3</td>\n",
       "      <td>50.0</td>\n",
       "      <td>35.0</td>\n",
       "      <td>43.3</td>\n",
       "      <td>27.5</td>\n",
       "      <td>473754</td>\n",
       "      <td>980.0</td>\n",
       "      <td>True</td>\n",
       "      <td>81.7</td>\n",
       "    </tr>\n",
       "    <tr>\n",
       "      <th>200820</th>\n",
       "      <td>131892</td>\n",
       "      <td>29</td>\n",
       "      <td>L</td>\n",
       "      <td>4</td>\n",
       "      <td>53.8</td>\n",
       "      <td>56.7</td>\n",
       "      <td>51.2</td>\n",
       "      <td>30.0</td>\n",
       "      <td>35.0</td>\n",
       "      <td>26.2</td>\n",
       "      <td>473827</td>\n",
       "      <td>473.0</td>\n",
       "      <td>True</td>\n",
       "      <td>39.4</td>\n",
       "    </tr>\n",
       "    <tr>\n",
       "      <th>200841</th>\n",
       "      <td>166667</td>\n",
       "      <td>29</td>\n",
       "      <td>R</td>\n",
       "      <td>18</td>\n",
       "      <td>76.2</td>\n",
       "      <td>78.3</td>\n",
       "      <td>75.0</td>\n",
       "      <td>47.5</td>\n",
       "      <td>50.0</td>\n",
       "      <td>43.8</td>\n",
       "      <td>473848</td>\n",
       "      <td>1020.0</td>\n",
       "      <td>True</td>\n",
       "      <td>85.0</td>\n",
       "    </tr>\n",
       "  </tbody>\n",
       "</table>\n",
       "<p>3866 rows × 14 columns</p>\n",
       "</div>"
      ],
      "text/plain": [
       "        patient_id  center_id ears  months_since_equipped  average_loss  \\\n",
       "150674       75203         29    L                      9          66.2   \n",
       "150834      124328         29    R                     10          50.0   \n",
       "150848      130034         29  BIN                      0          32.5   \n",
       "150849      130034         29  BIN                      4          32.5   \n",
       "150850      130034         29  BIN                      9          32.5   \n",
       "...            ...        ...  ...                    ...           ...   \n",
       "200745       87362         29    R                      1          50.0   \n",
       "200746       87362         29    R                     13          50.0   \n",
       "200747       87362         29    R                     23          61.2   \n",
       "200820      131892         29    L                      4          53.8   \n",
       "200841      166667         29    R                     18          76.2   \n",
       "\n",
       "        high_loss  low_loss  eq_average_loss  eq_high_loss  eq_low_loss  \\\n",
       "150674       69.0      60.0             28.8          31.0         17.5   \n",
       "150834       50.0      52.5             23.8          22.0         23.8   \n",
       "150848       40.0      18.3             22.5          25.0         18.8   \n",
       "150849       40.0      18.3             21.2          25.0         17.5   \n",
       "150850       40.0      18.3             31.2          38.6         17.5   \n",
       "...           ...       ...              ...           ...          ...   \n",
       "200745       60.0      42.5             36.2          36.7         33.3   \n",
       "200746       60.0      42.5             37.5          43.3         31.2   \n",
       "200747       69.3      50.0             35.0          43.3         27.5   \n",
       "200820       56.7      51.2             30.0          35.0         26.2   \n",
       "200841       78.3      75.0             47.5          50.0         43.8   \n",
       "\n",
       "            id  age_in_months_at_equipped_start  valid  age  \n",
       "150674  423681                            943.0   True 78.6  \n",
       "150834  423841                            693.0   True 57.8  \n",
       "150848  423855                            834.0   True 69.5  \n",
       "150849  423856                            834.0   True 69.5  \n",
       "150850  423857                            834.0   True 69.5  \n",
       "...        ...                              ...    ...  ...  \n",
       "200745  473752                            980.0   True 81.7  \n",
       "200746  473753                            980.0   True 81.7  \n",
       "200747  473754                            980.0   True 81.7  \n",
       "200820  473827                            473.0   True 39.4  \n",
       "200841  473848                           1020.0   True 85.0  \n",
       "\n",
       "[3866 rows x 14 columns]"
      ]
     },
     "execution_count": 119,
     "metadata": {},
     "output_type": "execute_result"
    }
   ],
   "source": [
    "equipment_sucess = equipment_sucess_dataframe.query('valid == True and center_id == 29').copy()\n",
    "equipment_sucess"
   ]
  },
  {
   "cell_type": "code",
   "execution_count": 7,
   "metadata": {},
   "outputs": [
    {
     "data": {
      "text/plain": [
       "array([[<matplotlib.axes._subplots.AxesSubplot object at 0x7fd32db1f828>]],\n",
       "      dtype=object)"
      ]
     },
     "metadata": {},
     "output_type": "display_data"
    },
    {
     "data": {
      "text/plain": [
       "array([[<matplotlib.axes._subplots.AxesSubplot object at 0x7fd32d52b860>]],\n",
       "      dtype=object)"
      ]
     },
     "metadata": {},
     "output_type": "display_data"
    },
    {
     "data": {
      "text/plain": [
       "array([[<matplotlib.axes._subplots.AxesSubplot object at 0x7fd32dac61d0>]],\n",
       "      dtype=object)"
      ]
     },
     "metadata": {},
     "output_type": "display_data"
    },
    {
     "data": {
      "text/plain": [
       "array([[<matplotlib.axes._subplots.AxesSubplot object at 0x7fd32dfc7710>]],\n",
       "      dtype=object)"
      ]
     },
     "metadata": {},
     "output_type": "display_data"
    },
    {
     "data": {
      "text/plain": [
       "array([[<matplotlib.axes._subplots.AxesSubplot object at 0x7fd32da8e5f8>]],\n",
       "      dtype=object)"
      ]
     },
     "metadata": {},
     "output_type": "display_data"
    },
    {
     "data": {
      "text/plain": [
       "array([[<matplotlib.axes._subplots.AxesSubplot object at 0x7fd32dabc3c8>]],\n",
       "      dtype=object)"
      ]
     },
     "metadata": {},
     "output_type": "display_data"
    },
    {
     "data": {
      "image/png": "[encoded data removed]",
      "text/plain": [
       "<Figure size 432x288 with 1 Axes>"
      ]
     },
     "metadata": {
      "needs_background": "light"
     },
     "output_type": "display_data"
    },
    {
     "data": {
      "image/png": "[encoded data removed]",
      "text/plain": [
       "<Figure size 432x288 with 1 Axes>"
      ]
     },
     "metadata": {
      "needs_background": "light"
     },
     "output_type": "display_data"
    },
    {
     "data": {
      "image/png": "[encoded data removed]",
      "text/plain": [
       "<Figure size 432x288 with 1 Axes>"
      ]
     },
     "metadata": {
      "needs_background": "light"
     },
     "output_type": "display_data"
    },
    {
     "data": {
      "image/png": "[encoded data removed]",
      "text/plain": [
       "<Figure size 432x288 with 1 Axes>"
      ]
     },
     "metadata": {
      "needs_background": "light"
     },
     "output_type": "display_data"
    },
    {
     "data": {
      "image/png": "[encoded data removed]",
      "text/plain": [
       "<Figure size 432x288 with 1 Axes>"
      ]
     },
     "metadata": {
      "needs_background": "light"
     },
     "output_type": "display_data"
    },
    {
     "data": {
      "image/png": "[encoded data removed]",
      "text/plain": [
       "<Figure size 432x288 with 1 Axes>"
      ]
     },
     "metadata": {
      "needs_background": "light"
     },
     "output_type": "display_data"
    }
   ],
   "source": [
    "for feature in ['months_since_equipped', 'average_loss', 'eq_average_loss', 'high_loss', 'low_loss', 'age_in_months_at_equipped_start']:\n",
    "    display.display(equipment_sucess.hist(feature))"
   ]
  },
  {
   "cell_type": "code",
   "execution_count": 120,
   "metadata": {
    "scrolled": true
   },
   "outputs": [
    {
     "data": {
      "text/html": [
       "<div>\n",
       "<style scoped>\n",
       "    .dataframe tbody tr th:only-of-type {\n",
       "        vertical-align: middle;\n",
       "    }\n",
       "\n",
       "    .dataframe tbody tr th {\n",
       "        vertical-align: top;\n",
       "    }\n",
       "\n",
       "    .dataframe thead th {\n",
       "        text-align: right;\n",
       "    }\n",
       "</style>\n",
       "<table border=\"1\" class=\"dataframe\">\n",
       "  <thead>\n",
       "    <tr style=\"text-align: right;\">\n",
       "      <th></th>\n",
       "      <th>patient_id</th>\n",
       "      <th>center_id</th>\n",
       "      <th>months_since_equipped</th>\n",
       "      <th>average_loss</th>\n",
       "      <th>high_loss</th>\n",
       "      <th>low_loss</th>\n",
       "      <th>eq_average_loss</th>\n",
       "      <th>eq_high_loss</th>\n",
       "      <th>eq_low_loss</th>\n",
       "      <th>id</th>\n",
       "      <th>age_in_months_at_equipped_start</th>\n",
       "      <th>age</th>\n",
       "    </tr>\n",
       "  </thead>\n",
       "  <tbody>\n",
       "    <tr>\n",
       "      <th>count</th>\n",
       "      <td>3866.0</td>\n",
       "      <td>3866.0</td>\n",
       "      <td>3866.0</td>\n",
       "      <td>3866.0</td>\n",
       "      <td>3866.0</td>\n",
       "      <td>3866.0</td>\n",
       "      <td>3866.0</td>\n",
       "      <td>3866.0</td>\n",
       "      <td>3866.0</td>\n",
       "      <td>3866.0</td>\n",
       "      <td>3866.0</td>\n",
       "      <td>3866.0</td>\n",
       "    </tr>\n",
       "    <tr>\n",
       "      <th>mean</th>\n",
       "      <td>143512.2</td>\n",
       "      <td>29.0</td>\n",
       "      <td>8.6</td>\n",
       "      <td>50.8</td>\n",
       "      <td>56.1</td>\n",
       "      <td>41.9</td>\n",
       "      <td>34.4</td>\n",
       "      <td>36.5</td>\n",
       "      <td>29.8</td>\n",
       "      <td>448738.2</td>\n",
       "      <td>811.3</td>\n",
       "      <td>67.6</td>\n",
       "    </tr>\n",
       "    <tr>\n",
       "      <th>std</th>\n",
       "      <td>43863.8</td>\n",
       "      <td>0.0</td>\n",
       "      <td>7.3</td>\n",
       "      <td>15.3</td>\n",
       "      <td>15.5</td>\n",
       "      <td>18.1</td>\n",
       "      <td>10.4</td>\n",
       "      <td>11.0</td>\n",
       "      <td>11.4</td>\n",
       "      <td>14150.1</td>\n",
       "      <td>165.9</td>\n",
       "      <td>13.8</td>\n",
       "    </tr>\n",
       "    <tr>\n",
       "      <th>min</th>\n",
       "      <td>4115.0</td>\n",
       "      <td>29.0</td>\n",
       "      <td>0.0</td>\n",
       "      <td>21.2</td>\n",
       "      <td>17.1</td>\n",
       "      <td>3.3</td>\n",
       "      <td>11.2</td>\n",
       "      <td>10.0</td>\n",
       "      <td>0.0</td>\n",
       "      <td>423681.0</td>\n",
       "      <td>273.0</td>\n",
       "      <td>22.8</td>\n",
       "    </tr>\n",
       "    <tr>\n",
       "      <th>25%</th>\n",
       "      <td>120736.0</td>\n",
       "      <td>29.0</td>\n",
       "      <td>1.0</td>\n",
       "      <td>38.8</td>\n",
       "      <td>44.3</td>\n",
       "      <td>27.5</td>\n",
       "      <td>27.5</td>\n",
       "      <td>29.0</td>\n",
       "      <td>21.7</td>\n",
       "      <td>436383.5</td>\n",
       "      <td>727.0</td>\n",
       "      <td>60.6</td>\n",
       "    </tr>\n",
       "    <tr>\n",
       "      <th>50%</th>\n",
       "      <td>136468.0</td>\n",
       "      <td>29.0</td>\n",
       "      <td>8.0</td>\n",
       "      <td>48.8</td>\n",
       "      <td>55.0</td>\n",
       "      <td>38.8</td>\n",
       "      <td>32.5</td>\n",
       "      <td>35.0</td>\n",
       "      <td>27.5</td>\n",
       "      <td>449126.5</td>\n",
       "      <td>843.0</td>\n",
       "      <td>70.2</td>\n",
       "    </tr>\n",
       "    <tr>\n",
       "      <th>75%</th>\n",
       "      <td>167621.0</td>\n",
       "      <td>29.0</td>\n",
       "      <td>14.0</td>\n",
       "      <td>61.2</td>\n",
       "      <td>66.4</td>\n",
       "      <td>55.0</td>\n",
       "      <td>40.0</td>\n",
       "      <td>43.0</td>\n",
       "      <td>36.2</td>\n",
       "      <td>460945.5</td>\n",
       "      <td>932.0</td>\n",
       "      <td>77.7</td>\n",
       "    </tr>\n",
       "    <tr>\n",
       "      <th>max</th>\n",
       "      <td>288188.0</td>\n",
       "      <td>29.0</td>\n",
       "      <td>23.0</td>\n",
       "      <td>88.8</td>\n",
       "      <td>105.0</td>\n",
       "      <td>96.2</td>\n",
       "      <td>83.8</td>\n",
       "      <td>85.0</td>\n",
       "      <td>85.0</td>\n",
       "      <td>473848.0</td>\n",
       "      <td>1078.0</td>\n",
       "      <td>89.8</td>\n",
       "    </tr>\n",
       "  </tbody>\n",
       "</table>\n",
       "</div>"
      ],
      "text/plain": [
       "       patient_id  center_id  months_since_equipped  average_loss  high_loss  \\\n",
       "count      3866.0     3866.0                 3866.0        3866.0     3866.0   \n",
       "mean     143512.2       29.0                    8.6          50.8       56.1   \n",
       "std       43863.8        0.0                    7.3          15.3       15.5   \n",
       "min        4115.0       29.0                    0.0          21.2       17.1   \n",
       "25%      120736.0       29.0                    1.0          38.8       44.3   \n",
       "50%      136468.0       29.0                    8.0          48.8       55.0   \n",
       "75%      167621.0       29.0                   14.0          61.2       66.4   \n",
       "max      288188.0       29.0                   23.0          88.8      105.0   \n",
       "\n",
       "       low_loss  eq_average_loss  eq_high_loss  eq_low_loss       id  \\\n",
       "count    3866.0           3866.0        3866.0       3866.0   3866.0   \n",
       "mean       41.9             34.4          36.5         29.8 448738.2   \n",
       "std        18.1             10.4          11.0         11.4  14150.1   \n",
       "min         3.3             11.2          10.0          0.0 423681.0   \n",
       "25%        27.5             27.5          29.0         21.7 436383.5   \n",
       "50%        38.8             32.5          35.0         27.5 449126.5   \n",
       "75%        55.0             40.0          43.0         36.2 460945.5   \n",
       "max        96.2             83.8          85.0         85.0 473848.0   \n",
       "\n",
       "       age_in_months_at_equipped_start    age  \n",
       "count                           3866.0 3866.0  \n",
       "mean                             811.3   67.6  \n",
       "std                              165.9   13.8  \n",
       "min                              273.0   22.8  \n",
       "25%                              727.0   60.6  \n",
       "50%                              843.0   70.2  \n",
       "75%                              932.0   77.7  \n",
       "max                             1078.0   89.8  "
      ]
     },
     "execution_count": 120,
     "metadata": {},
     "output_type": "execute_result"
    }
   ],
   "source": [
    "equipment_sucess.describe()"
   ]
  },
  {
   "cell_type": "code",
   "execution_count": 15,
   "metadata": {},
   "outputs": [
    {
     "data": {
      "text/plain": [
       "[53.27380952380952,\n",
       " 62.333333333333336,\n",
       " 67.78571428571428,\n",
       " 72.54761904761904,\n",
       " 76.75,\n",
       " 81.41666666666667]"
      ]
     },
     "execution_count": 15,
     "metadata": {},
     "output_type": "execute_result"
    }
   ],
   "source": [
    "def get_quantile_based_boundaries(feature_values, num_buckets):\n",
    "  boundaries = np.arange(1.0, num_buckets) / num_buckets\n",
    "  quantiles = feature_values.quantile(boundaries)\n",
    "  return [quantiles[q] for q in quantiles.keys()]\n",
    "\n",
    "get_quantile_based_boundaries(\n",
    "      equipment_sucess[\"age\"], 7)"
   ]
  },
  {
   "cell_type": "code",
   "execution_count": 10,
   "metadata": {},
   "outputs": [],
   "source": [
    "def scaleInner(df, feature):\n",
    "    stats = df[feature].describe();\n",
    "    std = stats['std']\n",
    "    mean = stats['mean']\n",
    "    df[feature] = (df[feature] - mean)/std\n",
    "    return df\n",
    "\n",
    "def scale(df, features):\n",
    "    scaledDf = df.copy()\n",
    "    for feature in features:\n",
    "        scaleInner(scaledDf, feature)\n",
    "    return scaledDf        "
   ]
  },
  {
   "cell_type": "code",
   "execution_count": 194,
   "metadata": {},
   "outputs": [],
   "source": [
    "def preprocess_features(df):\n",
    "  \"\"\"Prepares input features from a data set.\n",
    "\n",
    "  Args:\n",
    "    df: A Pandas DataFrame expected to contain data\n",
    "      from the California housing data set.\n",
    "  Returns:\n",
    "    A DataFrame that contains the features to be used for the model, including\n",
    "    synthetic features.\n",
    "  \"\"\"\n",
    "  selected_features = scale(df, ['months_since_equipped', 'average_loss', 'high_loss', 'low_loss', 'age_in_months_at_equipped_start'])\n",
    "\n",
    "  selected_features = selected_features[\n",
    "    [\"months_since_equipped\",\n",
    "     \"average_loss\",\n",
    "     \"high_loss\",\n",
    "     \"low_loss\",\n",
    "     \"age_in_months_at_equipped_start\"\n",
    "    ]]\n",
    "  processed_features = selected_features.copy()\n",
    "  processed_features['x1'] = processed_features['average_loss'] * processed_features['high_loss']\n",
    "  processed_features['x2'] = processed_features['average_loss'] * processed_features['low_loss']\n",
    "  processed_features['x3'] = processed_features['high_loss'] * processed_features['low_loss']\n",
    "  processed_features['x4'] = processed_features['average_loss'] * processed_features['months_since_equipped']\n",
    "  processed_features['x5'] = processed_features['average_loss'] * processed_features['age_in_months_at_equipped_start']\n",
    "  processed_features['x6'] = processed_features['average_loss'] ** 2\n",
    "  processed_features['x7'] = processed_features['months_since_equipped'] ** 2\n",
    "  processed_features['x8'] = processed_features['age_in_months_at_equipped_start'] ** 2\n",
    "\n",
    "  return processed_features\n",
    "\n",
    "def preprocess_targets(df):\n",
    "  \"\"\"Prepares target features (i.e., labels) from a data set.\n",
    "\n",
    "  Args:\n",
    "    df: A Pandas DataFrame expected to contain data\n",
    "      from the California housing data set.\n",
    "  Returns:\n",
    "    A DataFrame that contains the target feature.\n",
    "  \"\"\"\n",
    "  output_targets = pd.DataFrame()\n",
    "  #output_targets['eq_average_loss'] = df['eq_average_loss'] \n",
    "  #output_targets['distance_from_target'] = ((df['eq_average_loss'] - df['average_loss']/2))\n",
    "  output_targets['target_reached'] = (df['eq_average_loss'] < df['average_loss']/2).astype('float')\n",
    "    \n",
    "\n",
    "  #output_targets['distance_from_target'] = ((df['eq_average_loss'] - df['average_loss']/2).apply (lambda x : max(x,0)))\n",
    "\n",
    "  return output_targets"
   ]
  },
  {
   "cell_type": "code",
   "execution_count": 195,
   "metadata": {},
   "outputs": [
    {
     "data": {
      "text/html": [
       "<div>\n",
       "<style scoped>\n",
       "    .dataframe tbody tr th:only-of-type {\n",
       "        vertical-align: middle;\n",
       "    }\n",
       "\n",
       "    .dataframe tbody tr th {\n",
       "        vertical-align: top;\n",
       "    }\n",
       "\n",
       "    .dataframe thead th {\n",
       "        text-align: right;\n",
       "    }\n",
       "</style>\n",
       "<table border=\"1\" class=\"dataframe\">\n",
       "  <thead>\n",
       "    <tr style=\"text-align: right;\">\n",
       "      <th></th>\n",
       "      <th>patient_id</th>\n",
       "      <th>center_id</th>\n",
       "      <th>months_since_equipped</th>\n",
       "      <th>average_loss</th>\n",
       "      <th>high_loss</th>\n",
       "      <th>low_loss</th>\n",
       "      <th>eq_average_loss</th>\n",
       "      <th>eq_high_loss</th>\n",
       "      <th>eq_low_loss</th>\n",
       "      <th>id</th>\n",
       "      <th>age_in_months_at_equipped_start</th>\n",
       "      <th>age</th>\n",
       "    </tr>\n",
       "  </thead>\n",
       "  <tbody>\n",
       "    <tr>\n",
       "      <th>count</th>\n",
       "      <td>3866.0</td>\n",
       "      <td>3866.0</td>\n",
       "      <td>3866.0</td>\n",
       "      <td>3866.0</td>\n",
       "      <td>3866.0</td>\n",
       "      <td>3866.0</td>\n",
       "      <td>3866.0</td>\n",
       "      <td>3866.0</td>\n",
       "      <td>3866.0</td>\n",
       "      <td>3866.0</td>\n",
       "      <td>3866.0</td>\n",
       "      <td>3866.0</td>\n",
       "    </tr>\n",
       "    <tr>\n",
       "      <th>mean</th>\n",
       "      <td>143512.2</td>\n",
       "      <td>29.0</td>\n",
       "      <td>8.6</td>\n",
       "      <td>50.8</td>\n",
       "      <td>56.1</td>\n",
       "      <td>41.9</td>\n",
       "      <td>34.4</td>\n",
       "      <td>36.5</td>\n",
       "      <td>29.8</td>\n",
       "      <td>448738.2</td>\n",
       "      <td>811.3</td>\n",
       "      <td>67.6</td>\n",
       "    </tr>\n",
       "    <tr>\n",
       "      <th>std</th>\n",
       "      <td>43863.8</td>\n",
       "      <td>0.0</td>\n",
       "      <td>7.3</td>\n",
       "      <td>15.3</td>\n",
       "      <td>15.5</td>\n",
       "      <td>18.1</td>\n",
       "      <td>10.4</td>\n",
       "      <td>11.0</td>\n",
       "      <td>11.4</td>\n",
       "      <td>14150.1</td>\n",
       "      <td>165.9</td>\n",
       "      <td>13.8</td>\n",
       "    </tr>\n",
       "    <tr>\n",
       "      <th>min</th>\n",
       "      <td>4115.0</td>\n",
       "      <td>29.0</td>\n",
       "      <td>0.0</td>\n",
       "      <td>21.2</td>\n",
       "      <td>17.1</td>\n",
       "      <td>3.3</td>\n",
       "      <td>11.2</td>\n",
       "      <td>10.0</td>\n",
       "      <td>0.0</td>\n",
       "      <td>423681.0</td>\n",
       "      <td>273.0</td>\n",
       "      <td>22.8</td>\n",
       "    </tr>\n",
       "    <tr>\n",
       "      <th>25%</th>\n",
       "      <td>120736.0</td>\n",
       "      <td>29.0</td>\n",
       "      <td>1.0</td>\n",
       "      <td>38.8</td>\n",
       "      <td>44.3</td>\n",
       "      <td>27.5</td>\n",
       "      <td>27.5</td>\n",
       "      <td>29.0</td>\n",
       "      <td>21.7</td>\n",
       "      <td>436383.5</td>\n",
       "      <td>727.0</td>\n",
       "      <td>60.6</td>\n",
       "    </tr>\n",
       "    <tr>\n",
       "      <th>50%</th>\n",
       "      <td>136468.0</td>\n",
       "      <td>29.0</td>\n",
       "      <td>8.0</td>\n",
       "      <td>48.8</td>\n",
       "      <td>55.0</td>\n",
       "      <td>38.8</td>\n",
       "      <td>32.5</td>\n",
       "      <td>35.0</td>\n",
       "      <td>27.5</td>\n",
       "      <td>449126.5</td>\n",
       "      <td>843.0</td>\n",
       "      <td>70.2</td>\n",
       "    </tr>\n",
       "    <tr>\n",
       "      <th>75%</th>\n",
       "      <td>167621.0</td>\n",
       "      <td>29.0</td>\n",
       "      <td>14.0</td>\n",
       "      <td>61.2</td>\n",
       "      <td>66.4</td>\n",
       "      <td>55.0</td>\n",
       "      <td>40.0</td>\n",
       "      <td>43.0</td>\n",
       "      <td>36.2</td>\n",
       "      <td>460945.5</td>\n",
       "      <td>932.0</td>\n",
       "      <td>77.7</td>\n",
       "    </tr>\n",
       "    <tr>\n",
       "      <th>max</th>\n",
       "      <td>288188.0</td>\n",
       "      <td>29.0</td>\n",
       "      <td>23.0</td>\n",
       "      <td>88.8</td>\n",
       "      <td>105.0</td>\n",
       "      <td>96.2</td>\n",
       "      <td>83.8</td>\n",
       "      <td>85.0</td>\n",
       "      <td>85.0</td>\n",
       "      <td>473848.0</td>\n",
       "      <td>1078.0</td>\n",
       "      <td>89.8</td>\n",
       "    </tr>\n",
       "  </tbody>\n",
       "</table>\n",
       "</div>"
      ],
      "text/plain": [
       "       patient_id  center_id  months_since_equipped  average_loss  high_loss  \\\n",
       "count      3866.0     3866.0                 3866.0        3866.0     3866.0   \n",
       "mean     143512.2       29.0                    8.6          50.8       56.1   \n",
       "std       43863.8        0.0                    7.3          15.3       15.5   \n",
       "min        4115.0       29.0                    0.0          21.2       17.1   \n",
       "25%      120736.0       29.0                    1.0          38.8       44.3   \n",
       "50%      136468.0       29.0                    8.0          48.8       55.0   \n",
       "75%      167621.0       29.0                   14.0          61.2       66.4   \n",
       "max      288188.0       29.0                   23.0          88.8      105.0   \n",
       "\n",
       "       low_loss  eq_average_loss  eq_high_loss  eq_low_loss       id  \\\n",
       "count    3866.0           3866.0        3866.0       3866.0   3866.0   \n",
       "mean       41.9             34.4          36.5         29.8 448738.2   \n",
       "std        18.1             10.4          11.0         11.4  14150.1   \n",
       "min         3.3             11.2          10.0          0.0 423681.0   \n",
       "25%        27.5             27.5          29.0         21.7 436383.5   \n",
       "50%        38.8             32.5          35.0         27.5 449126.5   \n",
       "75%        55.0             40.0          43.0         36.2 460945.5   \n",
       "max        96.2             83.8          85.0         85.0 473848.0   \n",
       "\n",
       "       age_in_months_at_equipped_start    age  \n",
       "count                           3866.0 3866.0  \n",
       "mean                             811.3   67.6  \n",
       "std                              165.9   13.8  \n",
       "min                              273.0   22.8  \n",
       "25%                              727.0   60.6  \n",
       "50%                              843.0   70.2  \n",
       "75%                              932.0   77.7  \n",
       "max                             1078.0   89.8  "
      ]
     },
     "execution_count": 195,
     "metadata": {},
     "output_type": "execute_result"
    }
   ],
   "source": [
    "equipment_sucess = equipment_sucess.sample(frac=1)\n",
    "equipment_sucess.describe()"
   ]
  },
  {
   "cell_type": "code",
   "execution_count": 196,
   "metadata": {},
   "outputs": [
    {
     "data": {
      "text/plain": [
       "[3092, 774]"
      ]
     },
     "execution_count": 196,
     "metadata": {},
     "output_type": "execute_result"
    }
   ],
   "source": [
    "total_samples = math.floor(equipment_sucess.count()['ears'])\n",
    "examples = preprocess_features(equipment_sucess)\n",
    "targets = preprocess_targets(equipment_sucess)\n",
    "\n",
    "training_test_ratio = 0.8\n",
    "training_samples = math.floor(total_samples*0.8)\n",
    "validation_samples = total_samples - training_samples\n",
    "\n",
    "[training_samples, validation_samples]"
   ]
  },
  {
   "cell_type": "code",
   "execution_count": 197,
   "metadata": {},
   "outputs": [
    {
     "data": {
      "text/html": [
       "<div>\n",
       "<style scoped>\n",
       "    .dataframe tbody tr th:only-of-type {\n",
       "        vertical-align: middle;\n",
       "    }\n",
       "\n",
       "    .dataframe tbody tr th {\n",
       "        vertical-align: top;\n",
       "    }\n",
       "\n",
       "    .dataframe thead th {\n",
       "        text-align: right;\n",
       "    }\n",
       "</style>\n",
       "<table border=\"1\" class=\"dataframe\">\n",
       "  <thead>\n",
       "    <tr style=\"text-align: right;\">\n",
       "      <th></th>\n",
       "      <th>months_since_equipped</th>\n",
       "      <th>average_loss</th>\n",
       "      <th>high_loss</th>\n",
       "      <th>low_loss</th>\n",
       "      <th>age_in_months_at_equipped_start</th>\n",
       "      <th>x1</th>\n",
       "      <th>x2</th>\n",
       "      <th>x3</th>\n",
       "      <th>x4</th>\n",
       "      <th>x5</th>\n",
       "      <th>x6</th>\n",
       "      <th>x7</th>\n",
       "      <th>x8</th>\n",
       "    </tr>\n",
       "  </thead>\n",
       "  <tbody>\n",
       "    <tr>\n",
       "      <th>174526</th>\n",
       "      <td>0.1</td>\n",
       "      <td>-1.3</td>\n",
       "      <td>-1.1</td>\n",
       "      <td>-1.7</td>\n",
       "      <td>-1.2</td>\n",
       "      <td>1.4</td>\n",
       "      <td>2.2</td>\n",
       "      <td>1.8</td>\n",
       "      <td>-0.1</td>\n",
       "      <td>1.6</td>\n",
       "      <td>1.6</td>\n",
       "      <td>0.0</td>\n",
       "      <td>1.6</td>\n",
       "    </tr>\n",
       "    <tr>\n",
       "      <th>199070</th>\n",
       "      <td>-1.0</td>\n",
       "      <td>1.8</td>\n",
       "      <td>1.5</td>\n",
       "      <td>2.0</td>\n",
       "      <td>0.6</td>\n",
       "      <td>2.7</td>\n",
       "      <td>3.7</td>\n",
       "      <td>3.0</td>\n",
       "      <td>-1.9</td>\n",
       "      <td>1.1</td>\n",
       "      <td>3.3</td>\n",
       "      <td>1.1</td>\n",
       "      <td>0.4</td>\n",
       "    </tr>\n",
       "    <tr>\n",
       "      <th>186512</th>\n",
       "      <td>-1.2</td>\n",
       "      <td>-1.2</td>\n",
       "      <td>-1.1</td>\n",
       "      <td>-1.1</td>\n",
       "      <td>-0.1</td>\n",
       "      <td>1.3</td>\n",
       "      <td>1.2</td>\n",
       "      <td>1.2</td>\n",
       "      <td>1.4</td>\n",
       "      <td>0.1</td>\n",
       "      <td>1.3</td>\n",
       "      <td>1.4</td>\n",
       "      <td>0.0</td>\n",
       "    </tr>\n",
       "    <tr>\n",
       "      <th>157246</th>\n",
       "      <td>-0.6</td>\n",
       "      <td>-0.9</td>\n",
       "      <td>-0.8</td>\n",
       "      <td>-1.0</td>\n",
       "      <td>0.8</td>\n",
       "      <td>0.7</td>\n",
       "      <td>0.9</td>\n",
       "      <td>0.8</td>\n",
       "      <td>0.5</td>\n",
       "      <td>-0.7</td>\n",
       "      <td>0.8</td>\n",
       "      <td>0.4</td>\n",
       "      <td>0.6</td>\n",
       "    </tr>\n",
       "    <tr>\n",
       "      <th>197617</th>\n",
       "      <td>1.8</td>\n",
       "      <td>2.3</td>\n",
       "      <td>2.1</td>\n",
       "      <td>1.4</td>\n",
       "      <td>-0.3</td>\n",
       "      <td>5.0</td>\n",
       "      <td>3.2</td>\n",
       "      <td>3.0</td>\n",
       "      <td>4.2</td>\n",
       "      <td>-0.6</td>\n",
       "      <td>5.4</td>\n",
       "      <td>3.3</td>\n",
       "      <td>0.1</td>\n",
       "    </tr>\n",
       "    <tr>\n",
       "      <th>...</th>\n",
       "      <td>...</td>\n",
       "      <td>...</td>\n",
       "      <td>...</td>\n",
       "      <td>...</td>\n",
       "      <td>...</td>\n",
       "      <td>...</td>\n",
       "      <td>...</td>\n",
       "      <td>...</td>\n",
       "      <td>...</td>\n",
       "      <td>...</td>\n",
       "      <td>...</td>\n",
       "      <td>...</td>\n",
       "      <td>...</td>\n",
       "    </tr>\n",
       "    <tr>\n",
       "      <th>169552</th>\n",
       "      <td>1.8</td>\n",
       "      <td>1.5</td>\n",
       "      <td>1.4</td>\n",
       "      <td>1.3</td>\n",
       "      <td>-2.0</td>\n",
       "      <td>2.0</td>\n",
       "      <td>2.0</td>\n",
       "      <td>1.8</td>\n",
       "      <td>2.7</td>\n",
       "      <td>-3.0</td>\n",
       "      <td>2.3</td>\n",
       "      <td>3.3</td>\n",
       "      <td>4.1</td>\n",
       "    </tr>\n",
       "    <tr>\n",
       "      <th>186437</th>\n",
       "      <td>-0.9</td>\n",
       "      <td>-1.2</td>\n",
       "      <td>-1.2</td>\n",
       "      <td>-0.9</td>\n",
       "      <td>0.7</td>\n",
       "      <td>1.5</td>\n",
       "      <td>1.1</td>\n",
       "      <td>1.2</td>\n",
       "      <td>1.1</td>\n",
       "      <td>-0.9</td>\n",
       "      <td>1.4</td>\n",
       "      <td>0.8</td>\n",
       "      <td>0.5</td>\n",
       "    </tr>\n",
       "    <tr>\n",
       "      <th>174798</th>\n",
       "      <td>0.1</td>\n",
       "      <td>1.3</td>\n",
       "      <td>1.1</td>\n",
       "      <td>1.2</td>\n",
       "      <td>0.4</td>\n",
       "      <td>1.5</td>\n",
       "      <td>1.6</td>\n",
       "      <td>1.3</td>\n",
       "      <td>0.1</td>\n",
       "      <td>0.6</td>\n",
       "      <td>1.8</td>\n",
       "      <td>0.0</td>\n",
       "      <td>0.2</td>\n",
       "    </tr>\n",
       "    <tr>\n",
       "      <th>169113</th>\n",
       "      <td>-0.9</td>\n",
       "      <td>0.8</td>\n",
       "      <td>0.7</td>\n",
       "      <td>0.9</td>\n",
       "      <td>0.7</td>\n",
       "      <td>0.6</td>\n",
       "      <td>0.8</td>\n",
       "      <td>0.6</td>\n",
       "      <td>-0.8</td>\n",
       "      <td>0.6</td>\n",
       "      <td>0.7</td>\n",
       "      <td>0.8</td>\n",
       "      <td>0.5</td>\n",
       "    </tr>\n",
       "    <tr>\n",
       "      <th>161011</th>\n",
       "      <td>0.1</td>\n",
       "      <td>1.3</td>\n",
       "      <td>1.0</td>\n",
       "      <td>1.6</td>\n",
       "      <td>-1.2</td>\n",
       "      <td>1.4</td>\n",
       "      <td>2.1</td>\n",
       "      <td>1.6</td>\n",
       "      <td>0.1</td>\n",
       "      <td>-1.6</td>\n",
       "      <td>1.8</td>\n",
       "      <td>0.0</td>\n",
       "      <td>1.4</td>\n",
       "    </tr>\n",
       "  </tbody>\n",
       "</table>\n",
       "<p>3866 rows × 13 columns</p>\n",
       "</div>"
      ],
      "text/plain": [
       "        months_since_equipped  average_loss  high_loss  low_loss  \\\n",
       "174526                    0.1          -1.3       -1.1      -1.7   \n",
       "199070                   -1.0           1.8        1.5       2.0   \n",
       "186512                   -1.2          -1.2       -1.1      -1.1   \n",
       "157246                   -0.6          -0.9       -0.8      -1.0   \n",
       "197617                    1.8           2.3        2.1       1.4   \n",
       "...                       ...           ...        ...       ...   \n",
       "169552                    1.8           1.5        1.4       1.3   \n",
       "186437                   -0.9          -1.2       -1.2      -0.9   \n",
       "174798                    0.1           1.3        1.1       1.2   \n",
       "169113                   -0.9           0.8        0.7       0.9   \n",
       "161011                    0.1           1.3        1.0       1.6   \n",
       "\n",
       "        age_in_months_at_equipped_start  x1  x2  x3   x4   x5  x6  x7  x8  \n",
       "174526                             -1.2 1.4 2.2 1.8 -0.1  1.6 1.6 0.0 1.6  \n",
       "199070                              0.6 2.7 3.7 3.0 -1.9  1.1 3.3 1.1 0.4  \n",
       "186512                             -0.1 1.3 1.2 1.2  1.4  0.1 1.3 1.4 0.0  \n",
       "157246                              0.8 0.7 0.9 0.8  0.5 -0.7 0.8 0.4 0.6  \n",
       "197617                             -0.3 5.0 3.2 3.0  4.2 -0.6 5.4 3.3 0.1  \n",
       "...                                 ...  ..  ..  ..  ...  ...  ..  ..  ..  \n",
       "169552                             -2.0 2.0 2.0 1.8  2.7 -3.0 2.3 3.3 4.1  \n",
       "186437                              0.7 1.5 1.1 1.2  1.1 -0.9 1.4 0.8 0.5  \n",
       "174798                              0.4 1.5 1.6 1.3  0.1  0.6 1.8 0.0 0.2  \n",
       "169113                              0.7 0.6 0.8 0.6 -0.8  0.6 0.7 0.8 0.5  \n",
       "161011                             -1.2 1.4 2.1 1.6  0.1 -1.6 1.8 0.0 1.4  \n",
       "\n",
       "[3866 rows x 13 columns]"
      ]
     },
     "execution_count": 197,
     "metadata": {},
     "output_type": "execute_result"
    }
   ],
   "source": [
    "examples"
   ]
  },
  {
   "cell_type": "code",
   "execution_count": 198,
   "metadata": {},
   "outputs": [
    {
     "data": {
      "text/html": [
       "<div>\n",
       "<style scoped>\n",
       "    .dataframe tbody tr th:only-of-type {\n",
       "        vertical-align: middle;\n",
       "    }\n",
       "\n",
       "    .dataframe tbody tr th {\n",
       "        vertical-align: top;\n",
       "    }\n",
       "\n",
       "    .dataframe thead th {\n",
       "        text-align: right;\n",
       "    }\n",
       "</style>\n",
       "<table border=\"1\" class=\"dataframe\">\n",
       "  <thead>\n",
       "    <tr style=\"text-align: right;\">\n",
       "      <th></th>\n",
       "      <th>target_reached</th>\n",
       "    </tr>\n",
       "  </thead>\n",
       "  <tbody>\n",
       "    <tr>\n",
       "      <th>count</th>\n",
       "      <td>3866.0</td>\n",
       "    </tr>\n",
       "    <tr>\n",
       "      <th>mean</th>\n",
       "      <td>0.2</td>\n",
       "    </tr>\n",
       "    <tr>\n",
       "      <th>std</th>\n",
       "      <td>0.4</td>\n",
       "    </tr>\n",
       "    <tr>\n",
       "      <th>min</th>\n",
       "      <td>0.0</td>\n",
       "    </tr>\n",
       "    <tr>\n",
       "      <th>25%</th>\n",
       "      <td>0.0</td>\n",
       "    </tr>\n",
       "    <tr>\n",
       "      <th>50%</th>\n",
       "      <td>0.0</td>\n",
       "    </tr>\n",
       "    <tr>\n",
       "      <th>75%</th>\n",
       "      <td>0.0</td>\n",
       "    </tr>\n",
       "    <tr>\n",
       "      <th>max</th>\n",
       "      <td>1.0</td>\n",
       "    </tr>\n",
       "  </tbody>\n",
       "</table>\n",
       "</div>"
      ],
      "text/plain": [
       "       target_reached\n",
       "count          3866.0\n",
       "mean              0.2\n",
       "std               0.4\n",
       "min               0.0\n",
       "25%               0.0\n",
       "50%               0.0\n",
       "75%               0.0\n",
       "max               1.0"
      ]
     },
     "execution_count": 198,
     "metadata": {},
     "output_type": "execute_result"
    }
   ],
   "source": [
    "targets.describe()"
   ]
  },
  {
   "cell_type": "code",
   "execution_count": 199,
   "metadata": {},
   "outputs": [],
   "source": [
    "training_examples = examples.head(training_samples).copy()"
   ]
  },
  {
   "cell_type": "code",
   "execution_count": 200,
   "metadata": {
    "scrolled": false
   },
   "outputs": [],
   "source": [
    "validation_examples = examples.tail(validation_samples).copy()"
   ]
  },
  {
   "cell_type": "code",
   "execution_count": 201,
   "metadata": {
    "scrolled": true
   },
   "outputs": [],
   "source": [
    "training_targets = targets.head(training_samples)"
   ]
  },
  {
   "cell_type": "code",
   "execution_count": 202,
   "metadata": {
    "scrolled": true
   },
   "outputs": [],
   "source": [
    "validation_targets = targets.tail(validation_samples)"
   ]
  },
  {
   "cell_type": "code",
   "execution_count": 203,
   "metadata": {},
   "outputs": [
    {
     "data": {
      "text/html": [
       "<div>\n",
       "<style scoped>\n",
       "    .dataframe tbody tr th:only-of-type {\n",
       "        vertical-align: middle;\n",
       "    }\n",
       "\n",
       "    .dataframe tbody tr th {\n",
       "        vertical-align: top;\n",
       "    }\n",
       "\n",
       "    .dataframe thead th {\n",
       "        text-align: right;\n",
       "    }\n",
       "</style>\n",
       "<table border=\"1\" class=\"dataframe\">\n",
       "  <thead>\n",
       "    <tr style=\"text-align: right;\">\n",
       "      <th></th>\n",
       "      <th>target_reached</th>\n",
       "    </tr>\n",
       "  </thead>\n",
       "  <tbody>\n",
       "    <tr>\n",
       "      <th>count</th>\n",
       "      <td>3092.0</td>\n",
       "    </tr>\n",
       "    <tr>\n",
       "      <th>mean</th>\n",
       "      <td>0.2</td>\n",
       "    </tr>\n",
       "    <tr>\n",
       "      <th>std</th>\n",
       "      <td>0.4</td>\n",
       "    </tr>\n",
       "    <tr>\n",
       "      <th>min</th>\n",
       "      <td>0.0</td>\n",
       "    </tr>\n",
       "    <tr>\n",
       "      <th>25%</th>\n",
       "      <td>0.0</td>\n",
       "    </tr>\n",
       "    <tr>\n",
       "      <th>50%</th>\n",
       "      <td>0.0</td>\n",
       "    </tr>\n",
       "    <tr>\n",
       "      <th>75%</th>\n",
       "      <td>0.0</td>\n",
       "    </tr>\n",
       "    <tr>\n",
       "      <th>max</th>\n",
       "      <td>1.0</td>\n",
       "    </tr>\n",
       "  </tbody>\n",
       "</table>\n",
       "</div>"
      ],
      "text/plain": [
       "       target_reached\n",
       "count          3092.0\n",
       "mean              0.2\n",
       "std               0.4\n",
       "min               0.0\n",
       "25%               0.0\n",
       "50%               0.0\n",
       "75%               0.0\n",
       "max               1.0"
      ]
     },
     "execution_count": 203,
     "metadata": {},
     "output_type": "execute_result"
    }
   ],
   "source": [
    "training_targets.describe()"
   ]
  },
  {
   "cell_type": "code",
   "execution_count": 204,
   "metadata": {},
   "outputs": [],
   "source": [
    "def my_input_fn(features, targets, batch_size=1, shuffle=True, num_epochs=None):\n",
    "    \"\"\"Trains a linear regression model of multiple features.\n",
    "  \n",
    "    Args:\n",
    "      features: pandas DataFrame of features\n",
    "      targets: pandas DataFrame of targets\n",
    "      batch_size: Size of batches to be passed to the model\n",
    "      shuffle: True or False. Whether to shuffle the data.\n",
    "      num_epochs: Number of epochs for which data should be repeated. None = repeat indefinitely\n",
    "    Returns:\n",
    "      Tuple of (features, labels) for next data batch\n",
    "    \"\"\"\n",
    "    \n",
    "    # Convert pandas data into a dict of np arrays.\n",
    "    features = {key:np.array(value) for key,value in dict(features).items()}                                           \n",
    " \n",
    "    # Construct a dataset, and configure batching/repeating.\n",
    "    ds = Dataset.from_tensor_slices((features,targets)) # warning: 2GB limit\n",
    "    ds = ds.batch(batch_size).repeat(num_epochs)\n",
    "    \n",
    "    # Shuffle the data, if specified.\n",
    "    if shuffle:\n",
    "      ds = ds.shuffle(10000)\n",
    "    \n",
    "    # Return the next batch of data.\n",
    "    features, labels = ds.make_one_shot_iterator().get_next()\n",
    "    return features, labels"
   ]
  },
  {
   "cell_type": "code",
   "execution_count": 205,
   "metadata": {},
   "outputs": [],
   "source": [
    "def construct_feature_columns(input_features):\n",
    "  \"\"\"Construct the TensorFlow Feature Columns.\n",
    "\n",
    "  Args:\n",
    "    input_features: The names of the numerical input features to use.\n",
    "  Returns:\n",
    "    A set of feature columns\n",
    "  \"\"\" \n",
    "  return set([tf.feature_column.numeric_column(my_feature)\n",
    "              for my_feature in input_features])"
   ]
  },
  {
   "cell_type": "code",
   "execution_count": 206,
   "metadata": {},
   "outputs": [],
   "source": [
    "def train_model(\n",
    "    learning_rate,\n",
    "    steps,\n",
    "    batch_size,\n",
    "    label,\n",
    "    training_examples,\n",
    "    training_targets,\n",
    "    validation_examples,\n",
    "    validation_targets):\n",
    "  \"\"\"Trains a linear regression model of multiple features.\n",
    "  \n",
    "  In addition to training, this function also prints training progress information,\n",
    "  as well as a plot of the training and validation loss over time.\n",
    "  \n",
    "  Args:\n",
    "    learning_rate: A `float`, the learning rate.\n",
    "    steps: A non-zero `int`, the total number of training steps. A training step\n",
    "      consists of a forward and backward pass using a single batch.\n",
    "    batch_size: A non-zero `int`, the batch size.\n",
    "    training_examples: A `DataFrame` containing one or more columns from\n",
    "      `california_housing_dataframe` to use as input features for training.\n",
    "    training_targets: A `DataFrame` containing exactly one column from\n",
    "      `california_housing_dataframe` to use as target for training.\n",
    "    validation_examples: A `DataFrame` containing one or more columns from\n",
    "      `california_housing_dataframe` to use as input features for validation.\n",
    "    validation_targets: A `DataFrame` containing exactly one column from\n",
    "      `california_housing_dataframe` to use as target for validation.\n",
    "      \n",
    "  Returns:\n",
    "    A `LinearRegressor` object trained on the training data.\n",
    "  \"\"\"\n",
    "\n",
    "  periods = 10\n",
    "  steps_per_period = steps / periods\n",
    "  \n",
    "  # Create a linear regressor object.\n",
    "  my_optimizer = tf.train.GradientDescentOptimizer(learning_rate=learning_rate)\n",
    "  my_optimizer = tf.contrib.estimator.clip_gradients_by_norm(my_optimizer, 5.0)\n",
    "  linear_regressor = tf.estimator.LinearRegressor(\n",
    "      feature_columns=construct_feature_columns(training_examples),\n",
    "      optimizer=my_optimizer\n",
    "  )\n",
    "  \n",
    "  # Create input functions.\n",
    "  training_input_fn = lambda: my_input_fn(\n",
    "      training_examples, \n",
    "      training_targets[label], \n",
    "      batch_size=batch_size)\n",
    "  predict_training_input_fn = lambda: my_input_fn(\n",
    "      training_examples, \n",
    "      training_targets[label], \n",
    "      num_epochs=1, \n",
    "      shuffle=False)\n",
    "  predict_validation_input_fn = lambda: my_input_fn(\n",
    "      validation_examples, validation_targets[label], \n",
    "      num_epochs=1, \n",
    "      shuffle=False)\n",
    "\n",
    "  # Train the model, but do so inside a loop so that we can periodically assess\n",
    "  # loss metrics.\n",
    "  print(\"Training model...\")\n",
    "  print(\"RMSE (on training data):\")\n",
    "  training_rmse = []\n",
    "  validation_rmse = []\n",
    "  for period in range (0, periods):\n",
    "    # Train the model, starting from the prior state.\n",
    "    linear_regressor.train(\n",
    "        input_fn=training_input_fn,\n",
    "        steps=steps_per_period,\n",
    "    )\n",
    "    # Take a break and compute predictions.\n",
    "    training_predictions = linear_regressor.predict(input_fn=predict_training_input_fn)\n",
    "    training_predictions = np.array([item['predictions'][0] for item in training_predictions])\n",
    "    \n",
    "    validation_predictions = linear_regressor.predict(input_fn=predict_validation_input_fn)\n",
    "    validation_predictions = np.array([item['predictions'][0] for item in validation_predictions])\n",
    "    \n",
    "    \n",
    "    # Compute training and validation loss.\n",
    "    training_root_mean_squared_error = math.sqrt(\n",
    "        metrics.mean_squared_error(training_predictions, training_targets))\n",
    "    validation_root_mean_squared_error = math.sqrt(\n",
    "        metrics.mean_squared_error(validation_predictions, validation_targets))\n",
    "    # Occasionally print the current loss.\n",
    "    print(\"  period %02d : %0.2f\" % (period, training_root_mean_squared_error))\n",
    "    # Add the loss metrics from this period to our list.\n",
    "    training_rmse.append(training_root_mean_squared_error)\n",
    "    validation_rmse.append(validation_root_mean_squared_error)\n",
    "  print(\"Model training finished.\")\n",
    "\n",
    "  # Output a graph of loss metrics over periods.\n",
    "  plt.ylabel(\"RMSE\")\n",
    "  plt.xlabel(\"Periods\")\n",
    "  plt.title(\"Root Mean Squared Error vs. Periods\")\n",
    "  plt.tight_layout()\n",
    "  plt.plot(training_rmse, label=\"training\")\n",
    "  plt.plot(validation_rmse, label=\"validation\")\n",
    "  plt.legend()\n",
    "\n",
    "  return linear_regressor, training_predictions, training_targets[label]"
   ]
  },
  {
   "cell_type": "code",
   "execution_count": 207,
   "metadata": {},
   "outputs": [],
   "source": [
    "def train_linear_classifier_model(\n",
    "    learning_rate,\n",
    "    steps,\n",
    "    batch_size,\n",
    "    label,\n",
    "    training_examples,\n",
    "    training_targets,\n",
    "    validation_examples,\n",
    "    validation_targets):\n",
    "  \"\"\"Trains a linear classification model.\n",
    "  \n",
    "  In addition to training, this function also prints training progress information,\n",
    "  as well as a plot of the training and validation loss over time.\n",
    "  \n",
    "  Args:\n",
    "    learning_rate: A `float`, the learning rate.\n",
    "    steps: A non-zero `int`, the total number of training steps. A training step\n",
    "      consists of a forward and backward pass using a single batch.\n",
    "    batch_size: A non-zero `int`, the batch size.\n",
    "    training_examples: A `DataFrame` containing one or more columns from\n",
    "      `california_housing_dataframe` to use as input features for training.\n",
    "    training_targets: A `DataFrame` containing exactly one column from\n",
    "      `california_housing_dataframe` to use as target for training.\n",
    "    validation_examples: A `DataFrame` containing one or more columns from\n",
    "      `california_housing_dataframe` to use as input features for validation.\n",
    "    validation_targets: A `DataFrame` containing exactly one column from\n",
    "      `california_housing_dataframe` to use as target for validation.\n",
    "      \n",
    "  Returns:\n",
    "    A `LinearClassifier` object trained on the training data.\n",
    "  \"\"\"\n",
    "\n",
    "  periods = 10\n",
    "  steps_per_period = steps / periods\n",
    "  \n",
    "  # Create a linear classifier object.\n",
    "  my_optimizer = tf.train.GradientDescentOptimizer(learning_rate=learning_rate)\n",
    "  my_optimizer = tf.contrib.estimator.clip_gradients_by_norm(my_optimizer, 5.0)  \n",
    "  linear_classifier = tf.estimator.LinearClassifier(\n",
    "      feature_columns=construct_feature_columns(training_examples),\n",
    "      optimizer=my_optimizer\n",
    "  )\n",
    "  \n",
    "  # Create input functions.\n",
    "  training_input_fn = lambda: my_input_fn(training_examples, \n",
    "                                          training_targets[label], \n",
    "                                          batch_size=batch_size)\n",
    "  predict_training_input_fn = lambda: my_input_fn(training_examples, \n",
    "                                                  training_targets[label], \n",
    "                                                  num_epochs=1, \n",
    "                                                  shuffle=False)\n",
    "  predict_validation_input_fn = lambda: my_input_fn(validation_examples, \n",
    "                                                    validation_targets[label], \n",
    "                                                    num_epochs=1, \n",
    "                                                    shuffle=False)\n",
    "  \n",
    "  # Train the model, but do so inside a loop so that we can periodically assess\n",
    "  # loss metrics.\n",
    "  print(\"Training model...\")\n",
    "  print(\"LogLoss (on training data):\")\n",
    "  training_log_losses = []\n",
    "  validation_log_losses = []\n",
    "  for period in range (0, periods):\n",
    "    # Train the model, starting from the prior state.\n",
    "    linear_classifier.train(\n",
    "        input_fn=training_input_fn,\n",
    "        steps=steps_per_period\n",
    "    )\n",
    "    # Take a break and compute predictions.    \n",
    "    training_probabilities = linear_classifier.predict(input_fn=predict_training_input_fn)\n",
    "    training_probabilities = np.array([item['probabilities'] for item in training_probabilities])\n",
    "    \n",
    "    validation_probabilities = linear_classifier.predict(input_fn=predict_validation_input_fn)\n",
    "    validation_probabilities = np.array([item['probabilities'] for item in validation_probabilities])\n",
    "    \n",
    "    training_log_loss = metrics.log_loss(training_targets, training_probabilities)\n",
    "    validation_log_loss = metrics.log_loss(validation_targets, validation_probabilities)\n",
    "    # Occasionally print the current loss.\n",
    "    print(\"  period %02d : %0.2f\" % (period, training_log_loss))\n",
    "    # Add the loss metrics from this period to our list.\n",
    "    training_log_losses.append(training_log_loss)\n",
    "    validation_log_losses.append(validation_log_loss)\n",
    "  print(\"Model training finished.\")\n",
    "  \n",
    "  # Output a graph of loss metrics over periods.\n",
    "  plt.ylabel(\"LogLoss\")\n",
    "  plt.xlabel(\"Periods\")\n",
    "  plt.title(\"LogLoss vs. Periods\")\n",
    "  plt.tight_layout()\n",
    "  plt.plot(training_log_losses, label=\"training\")\n",
    "  plt.plot(validation_log_losses, label=\"validation\")\n",
    "  plt.legend()\n",
    "\n",
    "  return linear_classifier"
   ]
  },
  {
   "cell_type": "code",
   "execution_count": 152,
   "metadata": {
    "scrolled": true
   },
   "outputs": [
    {
     "name": "stdout",
     "output_type": "stream",
     "text": [
      "Training model...\n",
      "RMSE (on training data):\n",
      "  period 00 : 0.32\n",
      "  period 01 : 0.31\n",
      "  period 02 : 0.32\n",
      "  period 03 : 0.31\n",
      "  period 04 : 0.32\n",
      "  period 05 : 0.31\n",
      "  period 06 : 0.31\n",
      "  period 07 : 0.31\n",
      "  period 08 : 0.31\n",
      "  period 09 : 0.31\n",
      "Model training finished.\n"
     ]
    },
    {
     "data": {
      "image/png": "[encoded data removed]",
      "text/plain": [
       "<Figure size 432x288 with 1 Axes>"
      ]
     },
     "metadata": {
      "needs_background": "light"
     },
     "output_type": "display_data"
    }
   ],
   "source": [
    "linear_regressor, predictions, targets = train_model(\n",
    "    learning_rate=0.0009,\n",
    "    steps=500,\n",
    "    batch_size=10,\n",
    "    label='target_reached',\n",
    "    training_examples=training_examples,\n",
    "    training_targets=training_targets,\n",
    "    validation_examples=validation_examples,\n",
    "    validation_targets=validation_targets)"
   ]
  },
  {
   "cell_type": "code",
   "execution_count": 208,
   "metadata": {},
   "outputs": [
    {
     "name": "stdout",
     "output_type": "stream",
     "text": [
      "Training model...\n",
      "LogLoss (on training data):\n",
      "  period 00 : 0.67\n",
      "  period 01 : 0.65\n",
      "  period 02 : 0.63\n",
      "  period 03 : 0.62\n",
      "  period 04 : 0.60\n",
      "  period 05 : 0.58\n",
      "  period 06 : 0.57\n",
      "  period 07 : 0.56\n",
      "  period 08 : 0.54\n",
      "  period 09 : 0.53\n",
      "Model training finished.\n"
     ]
    },
    {
     "data": {
      "image/png": "[encoded data removed]",
      "text/plain": [
       "<Figure size 432x288 with 1 Axes>"
      ]
     },
     "metadata": {
      "needs_background": "light"
     },
     "output_type": "display_data"
    }
   ],
   "source": [
    "linear_classifier = train_linear_classifier_model(\n",
    "    learning_rate=0.000003,\n",
    "    steps=20000,\n",
    "    batch_size=500,\n",
    "    label='target_reached',\n",
    "    training_examples=training_examples,\n",
    "    training_targets=training_targets,\n",
    "    validation_examples=validation_examples,\n",
    "    validation_targets=validation_targets)"
   ]
  },
  {
   "cell_type": "code",
   "execution_count": 210,
   "metadata": {},
   "outputs": [
    {
     "name": "stdout",
     "output_type": "stream",
     "text": [
      "AUC on the validation set: 0.64\n",
      "Accuracy on the validation set: 0.84\n"
     ]
    },
    {
     "data": {
      "text/plain": [
       "{'accuracy': 0.8372093,\n",
       " 'accuracy_baseline': 0.8372093,\n",
       " 'auc': 0.6381357,\n",
       " 'auc_precision_recall': 0.25156146,\n",
       " 'average_loss': 0.5372223,\n",
       " 'global_step': 20000,\n",
       " 'label/mean': 0.1627907,\n",
       " 'loss': 0.5372223,\n",
       " 'precision': 0.0,\n",
       " 'prediction/mean': 0.36961818,\n",
       " 'recall': 0.0}"
      ]
     },
     "execution_count": 210,
     "metadata": {},
     "output_type": "execute_result"
    }
   ],
   "source": [
    "predict_validation_input_fn = lambda: my_input_fn(validation_examples, \n",
    "                                                  validation_targets[\"target_reached\"], \n",
    "                                                  num_epochs=1, \n",
    "                                                  shuffle=False)\n",
    "\n",
    "evaluation_metrics = linear_classifier.evaluate(input_fn=predict_validation_input_fn)\n",
    "\n",
    "print(\"AUC on the validation set: %0.2f\" % evaluation_metrics['auc'])\n",
    "print(\"Accuracy on the validation set: %0.2f\" % evaluation_metrics['accuracy'])\n",
    "evaluation_metrics"
   ]
  },
  {
   "cell_type": "code",
   "execution_count": 182,
   "metadata": {},
   "outputs": [
    {
     "data": {
      "image/png": "[encoded data removed]",
      "text/plain": [
       "<Figure size 432x288 with 1 Axes>"
      ]
     },
     "metadata": {
      "needs_background": "light"
     },
     "output_type": "display_data"
    }
   ],
   "source": [
    "validation_probabilities = linear_classifier.predict(input_fn=predict_validation_input_fn)\n",
    "# Get just the probabilities for the positive class.\n",
    "validation_probabilities = np.array([item['probabilities'][1] for item in validation_probabilities])\n",
    "\n",
    "precision, recall, thresholds = metrics.precision_recall_curve(\n",
    "    validation_targets, validation_probabilities)\n",
    "plt.plot(recall, precision)\n",
    "plt.xlabel(\"Recall\")\n",
    "plt.ylabel(\"Precision\")\n",
    "plt.title(\"Precison vs. Recall\")\n",
    "_ = plt.show()"
   ]
  },
  {
   "cell_type": "code",
   "execution_count": 183,
   "metadata": {},
   "outputs": [
    {
     "data": {
      "image/png": "[encoded data removed]",
      "text/plain": [
       "<Figure size 432x288 with 1 Axes>"
      ]
     },
     "metadata": {
      "needs_background": "light"
     },
     "output_type": "display_data"
    }
   ],
   "source": [
    "validation_probabilities = linear_classifier.predict(input_fn=predict_validation_input_fn)\n",
    "# Get just the probabilities for the positive class.\n",
    "validation_probabilities = np.array([item['probabilities'][1] for item in validation_probabilities])\n",
    "\n",
    "false_positive_rate, true_positive_rate, thresholds = metrics.roc_curve(\n",
    "    validation_targets, validation_probabilities)\n",
    "plt.plot(false_positive_rate, true_positive_rate, label=\"our model\")\n",
    "plt.plot([0, 1], [0, 1], label=\"random classifier\")\n",
    "plt.ylabel(\"True Positive Rate\")\n",
    "plt.xlabel(\"False Positive Rate\")\n",
    "plt.title(\"ROC curve\")\n",
    "_ = plt.legend(loc=2)"
   ]
  },
  {
   "cell_type": "code",
   "execution_count": 85,
   "metadata": {},
   "outputs": [
    {
     "name": "stdout",
     "output_type": "stream",
     "text": [
      "Training model...\n",
      "RMSE (on training data):\n",
      "  period 00 : 13.36\n",
      "  period 01 : 10.08\n",
      "  period 02 : 9.95\n",
      "  period 03 : 9.97\n",
      "  period 04 : 10.12\n",
      "  period 05 : 9.88\n",
      "  period 06 : 9.95\n",
      "  period 07 : 9.87\n",
      "  period 08 : 10.24\n",
      "  period 09 : 9.97\n",
      "Model training finished.\n"
     ]
    },
    {
     "data": {
      "image/png": "[encoded data removed]",
      "text/plain": [
       "<Figure size 432x288 with 1 Axes>"
      ]
     },
     "metadata": {
      "needs_background": "light"
     },
     "output_type": "display_data"
    }
   ],
   "source": [
    "linear_regressor, predictions, targets = train_model(\n",
    "    learning_rate=0.09,\n",
    "    steps=1000,\n",
    "    batch_size=10,\n",
    "    label='eq_average_loss',\n",
    "    training_examples=training_examples,\n",
    "    training_targets=training_targets,\n",
    "    validation_examples=validation_examples,\n",
    "    validation_targets=validation_targets)"
   ]
  },
  {
   "cell_type": "code",
   "execution_count": 50,
   "metadata": {},
   "outputs": [
    {
     "name": "stdout",
     "output_type": "stream",
     "text": [
      "Training model...\n",
      "RMSE (on training data):\n",
      "  period 00 : 19.21\n",
      "  period 01 : 10.37\n",
      "  period 02 : 10.21\n",
      "  period 03 : 10.27\n",
      "  period 04 : 10.13\n",
      "  period 05 : 10.21\n",
      "  period 06 : 10.26\n",
      "  period 07 : 10.13\n",
      "  period 08 : 10.32\n",
      "  period 09 : 10.16\n",
      "Model training finished.\n"
     ]
    },
    {
     "data": {
      "image/png": "[encoded data removed]",
      "text/plain": [
       "<Figure size 432x288 with 1 Axes>"
      ]
     },
     "metadata": {
      "needs_background": "light"
     },
     "output_type": "display_data"
    }
   ],
   "source": [
    "linear_regressor, predictions, targets = train_model(\n",
    "    learning_rate=0.09,\n",
    "    steps=500,\n",
    "    batch_size=10,\n",
    "    label='eq_average_loss',\n",
    "    training_examples=training_examples,\n",
    "    training_targets=training_targets,\n",
    "    validation_examples=validation_examples,\n",
    "    validation_targets=validation_targets)"
   ]
  },
  {
   "cell_type": "code",
   "execution_count": 309,
   "metadata": {},
   "outputs": [
    {
     "data": {
      "text/plain": [
       "array([15.81773 , 14.687185, 12.250897, ..., 10.229536, 12.71915 ,\n",
       "       10.665826], dtype=float32)"
      ]
     },
     "execution_count": 309,
     "metadata": {},
     "output_type": "execute_result"
    }
   ],
   "source": [
    " predict_training_input_fn = lambda: my_input_fn(\n",
    "  training_examples, \n",
    "  training_targets['eq_average_loss'], \n",
    "  num_epochs=1, \n",
    "  shuffle=False)\n",
    "    \n",
    "training_predictions = linear_regressor.predict(input_fn=predict_training_input_fn)\n",
    "training_predictions = np.array([item['predictions'][0] for item in training_predictions])\n",
    "\n",
    "training_predictions"
   ]
  },
  {
   "cell_type": "code",
   "execution_count": 138,
   "metadata": {},
   "outputs": [
    {
     "data": {
      "text/plain": [
       "<matplotlib.collections.PathCollection at 0x7fd312e30860>"
      ]
     },
     "execution_count": 138,
     "metadata": {},
     "output_type": "execute_result"
    },
    {
     "data": {
      "image/png": "[encoded data removed]",
      "text/plain": [
       "<Figure size 1080x432 with 1 Axes>"
      ]
     },
     "metadata": {
      "needs_background": "light"
     },
     "output_type": "display_data"
    }
   ],
   "source": [
    "plt.figure(figsize=(15, 6))\n",
    "plt.subplot(1, 2, 1)\n",
    "plt.scatter(targets, predictions )"
   ]
  },
  {
   "cell_type": "code",
   "execution_count": 44,
   "metadata": {},
   "outputs": [
    {
     "data": {
      "text/plain": [
       "<matplotlib.axes._subplots.AxesSubplot at 0x7fb6941a7278>"
      ]
     },
     "execution_count": 44,
     "metadata": {},
     "output_type": "execute_result"
    },
    {
     "data": {
      "image/png": "[encoded data removed]",
      "text/plain": [
       "<Figure size 432x288 with 1 Axes>"
      ]
     },
     "metadata": {
      "needs_background": "light"
     },
     "output_type": "display_data"
    }
   ],
   "source": [
    "pd.DataFrame({'x': predictions})['x'].hist()"
   ]
  },
  {
   "cell_type": "code",
   "execution_count": 45,
   "metadata": {},
   "outputs": [
    {
     "data": {
      "text/plain": [
       "<matplotlib.axes._subplots.AxesSubplot at 0x7fb693fb0cf8>"
      ]
     },
     "execution_count": 45,
     "metadata": {},
     "output_type": "execute_result"
    },
    {
     "data": {
      "image/png": "[encoded data removed]",
      "text/plain": [
       "<Figure size 432x288 with 1 Axes>"
      ]
     },
     "metadata": {
      "needs_background": "light"
     },
     "output_type": "display_data"
    }
   ],
   "source": [
    "pd.DataFrame({'x': targets})['x'].hist()"
   ]
  },
  {
   "cell_type": "code",
   "execution_count": 46,
   "metadata": {},
   "outputs": [
    {
     "data": {
      "text/plain": [
       "count   3092.0\n",
       "mean       7.6\n",
       "std        6.8\n",
       "min        0.0\n",
       "25%        2.7\n",
       "50%        5.9\n",
       "75%       10.2\n",
       "max       53.4\n",
       "Name: x, dtype: float64"
      ]
     },
     "execution_count": 46,
     "metadata": {},
     "output_type": "execute_result"
    }
   ],
   "source": [
    "pd.DataFrame({'x': (targets - predictions).apply (lambda x: abs(x))})['x'].describe()"
   ]
  },
  {
   "cell_type": "code",
   "execution_count": 47,
   "metadata": {},
   "outputs": [
    {
     "data": {
      "text/plain": [
       "count   3092.0\n",
       "mean       8.2\n",
       "std        6.6\n",
       "min        0.4\n",
       "25%        3.1\n",
       "50%        6.9\n",
       "75%       11.9\n",
       "max       49.4\n",
       "Name: x, dtype: float64"
      ]
     },
     "execution_count": 47,
     "metadata": {},
     "output_type": "execute_result"
    }
   ],
   "source": [
    "pd.DataFrame({'x': (targets - 34.4).apply (lambda x: abs(x))})['x'].describe()"
   ]
  }
 ],
 "metadata": {
  "kernelspec": {
   "display_name": "Python 3",
   "language": "python",
   "name": "python3"
  }
 },
 "nbformat": 4,
 "nbformat_minor": 2
}
