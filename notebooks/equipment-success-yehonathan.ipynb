{
 "cells": [
  {
   "cell_type": "code",
   "execution_count": 1,
   "metadata": {},
   "outputs": [
    {
     "name": "stderr",
     "output_type": "stream",
     "text": [
      "Using TensorFlow backend.\n"
     ]
    }
   ],
   "source": [
    "from __future__ import print_function\n",
    "import math\n",
    "\n",
    "from IPython import display\n",
    "from matplotlib import cm\n",
    "from matplotlib import gridspec\n",
    "from matplotlib import pyplot as plt\n",
    "from mpl_toolkits.mplot3d import Axes3D \n",
    "import numpy as np\n",
    "import pandas as pd\n",
    "from sklearn import metrics\n",
    "import tensorflow as tf\n",
    "from tensorflow import keras\n",
    "import keras\n",
    "import sklearn\n",
    "from tensorflow.keras import layers\n",
    "\n",
    "from tensorflow.python.data import Dataset\n",
    "\n",
    "tf.logging.set_verbosity(tf.logging.ERROR)\n",
    "pd.options.display.max_rows = 10\n",
    "pd.options.display.float_format = '{:.1f}'.format\n"
   ]
  },
  {
   "cell_type": "code",
   "execution_count": 2,
   "metadata": {},
   "outputs": [
    {
     "data": {
      "text/plain": [
       "'2.2.2'"
      ]
     },
     "execution_count": 2,
     "metadata": {},
     "output_type": "execute_result"
    }
   ],
   "source": [
    "keras.__version__"
   ]
  },
  {
   "cell_type": "code",
   "execution_count": 3,
   "metadata": {},
   "outputs": [
    {
     "data": {
      "text/plain": [
       "'0.20.1'"
      ]
     },
     "execution_count": 3,
     "metadata": {},
     "output_type": "execute_result"
    }
   ],
   "source": [
    "sklearn.__version__"
   ]
  },
  {
   "cell_type": "code",
   "execution_count": 4,
   "metadata": {},
   "outputs": [
    {
     "name": "stdout",
     "output_type": "stream",
     "text": [
      "aa.ipynb\t\t\t    idris\r\n",
      "aa.png\t\t\t\t    idris.pdf\r\n",
      "demo.ipynb\t\t\t    iris\r\n",
      "equipment-success-yehonathan.ipynb  iris.pdf\r\n",
      "equipment-success.ipynb\t\t    mlcc-exercises\r\n",
      "equipment_success.csv\t\t    mlcc-exercises_en.zip\r\n",
      "equipment_success_unique.csv\t    model.txt\r\n"
     ]
    }
   ],
   "source": [
    "! ls"
   ]
  },
  {
   "cell_type": "code",
   "execution_count": 5,
   "metadata": {
    "scrolled": true
   },
   "outputs": [
    {
     "data": {
      "text/html": [
       "<div>\n",
       "<style scoped>\n",
       "    .dataframe tbody tr th:only-of-type {\n",
       "        vertical-align: middle;\n",
       "    }\n",
       "\n",
       "    .dataframe tbody tr th {\n",
       "        vertical-align: top;\n",
       "    }\n",
       "\n",
       "    .dataframe thead th {\n",
       "        text-align: right;\n",
       "    }\n",
       "</style>\n",
       "<table border=\"1\" class=\"dataframe\">\n",
       "  <thead>\n",
       "    <tr style=\"text-align: right;\">\n",
       "      <th></th>\n",
       "      <th>patient_id</th>\n",
       "      <th>center_id</th>\n",
       "      <th>ears</th>\n",
       "      <th>months_since_equipped</th>\n",
       "      <th>average_loss</th>\n",
       "      <th>high_loss</th>\n",
       "      <th>low_loss</th>\n",
       "      <th>id</th>\n",
       "      <th>age_in_months_at_equipped_start</th>\n",
       "      <th>gender</th>\n",
       "      <th>...</th>\n",
       "      <th>freq_2000_over_freq_1000</th>\n",
       "      <th>freq_4000_over_freq_1000</th>\n",
       "      <th>freq_500_gain</th>\n",
       "      <th>freq_1000_gain</th>\n",
       "      <th>freq_2000_gain</th>\n",
       "      <th>freq_4000_gain</th>\n",
       "      <th>freq_500_gain_ratio</th>\n",
       "      <th>freq_1000_gain_ratio</th>\n",
       "      <th>freq_2000_gain_ratio</th>\n",
       "      <th>freq_4000_gain_ratio</th>\n",
       "    </tr>\n",
       "  </thead>\n",
       "  <tbody>\n",
       "    <tr>\n",
       "      <th>0</th>\n",
       "      <td>51</td>\n",
       "      <td>14</td>\n",
       "      <td>L</td>\n",
       "      <td>0</td>\n",
       "      <td>nan</td>\n",
       "      <td>70.0</td>\n",
       "      <td>70.0</td>\n",
       "      <td>1516236</td>\n",
       "      <td>1069.0</td>\n",
       "      <td>NaN</td>\n",
       "      <td>...</td>\n",
       "      <td>1.0</td>\n",
       "      <td>1.0</td>\n",
       "      <td>nan</td>\n",
       "      <td>-15.0</td>\n",
       "      <td>-15.0</td>\n",
       "      <td>nan</td>\n",
       "      <td>nan</td>\n",
       "      <td>-0.2</td>\n",
       "      <td>-0.2</td>\n",
       "      <td>nan</td>\n",
       "    </tr>\n",
       "    <tr>\n",
       "      <th>1</th>\n",
       "      <td>51</td>\n",
       "      <td>14</td>\n",
       "      <td>R</td>\n",
       "      <td>0</td>\n",
       "      <td>nan</td>\n",
       "      <td>55.0</td>\n",
       "      <td>55.0</td>\n",
       "      <td>1516232</td>\n",
       "      <td>1069.0</td>\n",
       "      <td>NaN</td>\n",
       "      <td>...</td>\n",
       "      <td>1.0</td>\n",
       "      <td>nan</td>\n",
       "      <td>nan</td>\n",
       "      <td>nan</td>\n",
       "      <td>nan</td>\n",
       "      <td>nan</td>\n",
       "      <td>nan</td>\n",
       "      <td>nan</td>\n",
       "      <td>nan</td>\n",
       "      <td>nan</td>\n",
       "    </tr>\n",
       "    <tr>\n",
       "      <th>2</th>\n",
       "      <td>58</td>\n",
       "      <td>199</td>\n",
       "      <td>L</td>\n",
       "      <td>24</td>\n",
       "      <td>32.5</td>\n",
       "      <td>42.5</td>\n",
       "      <td>13.3</td>\n",
       "      <td>1325097</td>\n",
       "      <td>1229.0</td>\n",
       "      <td>male</td>\n",
       "      <td>...</td>\n",
       "      <td>3.3</td>\n",
       "      <td>3.7</td>\n",
       "      <td>-5.0</td>\n",
       "      <td>-5.0</td>\n",
       "      <td>15.0</td>\n",
       "      <td>0.0</td>\n",
       "      <td>-0.5</td>\n",
       "      <td>-0.3</td>\n",
       "      <td>0.3</td>\n",
       "      <td>0.0</td>\n",
       "    </tr>\n",
       "    <tr>\n",
       "      <th>3</th>\n",
       "      <td>58</td>\n",
       "      <td>199</td>\n",
       "      <td>R</td>\n",
       "      <td>26</td>\n",
       "      <td>nan</td>\n",
       "      <td>45.0</td>\n",
       "      <td>45.0</td>\n",
       "      <td>1325104</td>\n",
       "      <td>1229.0</td>\n",
       "      <td>male</td>\n",
       "      <td>...</td>\n",
       "      <td>nan</td>\n",
       "      <td>nan</td>\n",
       "      <td>nan</td>\n",
       "      <td>0.0</td>\n",
       "      <td>nan</td>\n",
       "      <td>nan</td>\n",
       "      <td>nan</td>\n",
       "      <td>0.0</td>\n",
       "      <td>nan</td>\n",
       "      <td>nan</td>\n",
       "    </tr>\n",
       "    <tr>\n",
       "      <th>4</th>\n",
       "      <td>496</td>\n",
       "      <td>27</td>\n",
       "      <td>L</td>\n",
       "      <td>46</td>\n",
       "      <td>61.2</td>\n",
       "      <td>70.0</td>\n",
       "      <td>51.7</td>\n",
       "      <td>1353472</td>\n",
       "      <td>929.0</td>\n",
       "      <td>NaN</td>\n",
       "      <td>...</td>\n",
       "      <td>1.3</td>\n",
       "      <td>1.8</td>\n",
       "      <td>30.0</td>\n",
       "      <td>15.0</td>\n",
       "      <td>25.0</td>\n",
       "      <td>30.0</td>\n",
       "      <td>0.5</td>\n",
       "      <td>0.3</td>\n",
       "      <td>0.4</td>\n",
       "      <td>0.4</td>\n",
       "    </tr>\n",
       "    <tr>\n",
       "      <th>...</th>\n",
       "      <td>...</td>\n",
       "      <td>...</td>\n",
       "      <td>...</td>\n",
       "      <td>...</td>\n",
       "      <td>...</td>\n",
       "      <td>...</td>\n",
       "      <td>...</td>\n",
       "      <td>...</td>\n",
       "      <td>...</td>\n",
       "      <td>...</td>\n",
       "      <td>...</td>\n",
       "      <td>...</td>\n",
       "      <td>...</td>\n",
       "      <td>...</td>\n",
       "      <td>...</td>\n",
       "      <td>...</td>\n",
       "      <td>...</td>\n",
       "      <td>...</td>\n",
       "      <td>...</td>\n",
       "      <td>...</td>\n",
       "      <td>...</td>\n",
       "    </tr>\n",
       "    <tr>\n",
       "      <th>86171</th>\n",
       "      <td>288699</td>\n",
       "      <td>466</td>\n",
       "      <td>BIN</td>\n",
       "      <td>52</td>\n",
       "      <td>nan</td>\n",
       "      <td>0.0</td>\n",
       "      <td>0.0</td>\n",
       "      <td>1377261</td>\n",
       "      <td>965.0</td>\n",
       "      <td>female</td>\n",
       "      <td>...</td>\n",
       "      <td>nan</td>\n",
       "      <td>nan</td>\n",
       "      <td>nan</td>\n",
       "      <td>nan</td>\n",
       "      <td>nan</td>\n",
       "      <td>nan</td>\n",
       "      <td>nan</td>\n",
       "      <td>nan</td>\n",
       "      <td>nan</td>\n",
       "      <td>nan</td>\n",
       "    </tr>\n",
       "    <tr>\n",
       "      <th>86172</th>\n",
       "      <td>288711</td>\n",
       "      <td>883</td>\n",
       "      <td>BIN</td>\n",
       "      <td>0</td>\n",
       "      <td>41.2</td>\n",
       "      <td>40.0</td>\n",
       "      <td>36.2</td>\n",
       "      <td>1399353</td>\n",
       "      <td>883.0</td>\n",
       "      <td>male</td>\n",
       "      <td>...</td>\n",
       "      <td>1.3</td>\n",
       "      <td>1.8</td>\n",
       "      <td>15.0</td>\n",
       "      <td>15.0</td>\n",
       "      <td>20.0</td>\n",
       "      <td>10.0</td>\n",
       "      <td>0.4</td>\n",
       "      <td>0.5</td>\n",
       "      <td>0.5</td>\n",
       "      <td>0.2</td>\n",
       "    </tr>\n",
       "    <tr>\n",
       "      <th>86173</th>\n",
       "      <td>288715</td>\n",
       "      <td>773</td>\n",
       "      <td>BIN</td>\n",
       "      <td>0</td>\n",
       "      <td>nan</td>\n",
       "      <td>0.0</td>\n",
       "      <td>0.0</td>\n",
       "      <td>1333486</td>\n",
       "      <td>1097.0</td>\n",
       "      <td>male</td>\n",
       "      <td>...</td>\n",
       "      <td>nan</td>\n",
       "      <td>nan</td>\n",
       "      <td>nan</td>\n",
       "      <td>nan</td>\n",
       "      <td>nan</td>\n",
       "      <td>nan</td>\n",
       "      <td>nan</td>\n",
       "      <td>nan</td>\n",
       "      <td>nan</td>\n",
       "      <td>nan</td>\n",
       "    </tr>\n",
       "    <tr>\n",
       "      <th>86174</th>\n",
       "      <td>288718</td>\n",
       "      <td>1333</td>\n",
       "      <td>BIN</td>\n",
       "      <td>65</td>\n",
       "      <td>nan</td>\n",
       "      <td>0.0</td>\n",
       "      <td>0.0</td>\n",
       "      <td>1503159</td>\n",
       "      <td>611.0</td>\n",
       "      <td>NaN</td>\n",
       "      <td>...</td>\n",
       "      <td>nan</td>\n",
       "      <td>nan</td>\n",
       "      <td>nan</td>\n",
       "      <td>nan</td>\n",
       "      <td>nan</td>\n",
       "      <td>nan</td>\n",
       "      <td>nan</td>\n",
       "      <td>nan</td>\n",
       "      <td>nan</td>\n",
       "      <td>nan</td>\n",
       "    </tr>\n",
       "    <tr>\n",
       "      <th>86175</th>\n",
       "      <td>288723</td>\n",
       "      <td>1360</td>\n",
       "      <td>L</td>\n",
       "      <td>0</td>\n",
       "      <td>92.5</td>\n",
       "      <td>92.1</td>\n",
       "      <td>88.8</td>\n",
       "      <td>1504900</td>\n",
       "      <td>nan</td>\n",
       "      <td>female</td>\n",
       "      <td>...</td>\n",
       "      <td>0.9</td>\n",
       "      <td>0.8</td>\n",
       "      <td>-10.0</td>\n",
       "      <td>-10.0</td>\n",
       "      <td>-10.0</td>\n",
       "      <td>-10.0</td>\n",
       "      <td>-0.1</td>\n",
       "      <td>-0.1</td>\n",
       "      <td>-0.1</td>\n",
       "      <td>-0.1</td>\n",
       "    </tr>\n",
       "  </tbody>\n",
       "</table>\n",
       "<p>86176 rows × 43 columns</p>\n",
       "</div>"
      ],
      "text/plain": [
       "       patient_id  center_id ears  months_since_equipped  average_loss  \\\n",
       "0              51         14    L                      0           nan   \n",
       "1              51         14    R                      0           nan   \n",
       "2              58        199    L                     24          32.5   \n",
       "3              58        199    R                     26           nan   \n",
       "4             496         27    L                     46          61.2   \n",
       "...           ...        ...  ...                    ...           ...   \n",
       "86171      288699        466  BIN                     52           nan   \n",
       "86172      288711        883  BIN                      0          41.2   \n",
       "86173      288715        773  BIN                      0           nan   \n",
       "86174      288718       1333  BIN                     65           nan   \n",
       "86175      288723       1360    L                      0          92.5   \n",
       "\n",
       "       high_loss  low_loss       id  age_in_months_at_equipped_start  gender  \\\n",
       "0           70.0      70.0  1516236                           1069.0     NaN   \n",
       "1           55.0      55.0  1516232                           1069.0     NaN   \n",
       "2           42.5      13.3  1325097                           1229.0    male   \n",
       "3           45.0      45.0  1325104                           1229.0    male   \n",
       "4           70.0      51.7  1353472                            929.0     NaN   \n",
       "...          ...       ...      ...                              ...     ...   \n",
       "86171        0.0       0.0  1377261                            965.0  female   \n",
       "86172       40.0      36.2  1399353                            883.0    male   \n",
       "86173        0.0       0.0  1333486                           1097.0    male   \n",
       "86174        0.0       0.0  1503159                            611.0     NaN   \n",
       "86175       92.1      88.8  1504900                              nan  female   \n",
       "\n",
       "               ...           freq_2000_over_freq_1000  \\\n",
       "0              ...                                1.0   \n",
       "1              ...                                1.0   \n",
       "2              ...                                3.3   \n",
       "3              ...                                nan   \n",
       "4              ...                                1.3   \n",
       "...            ...                                ...   \n",
       "86171          ...                                nan   \n",
       "86172          ...                                1.3   \n",
       "86173          ...                                nan   \n",
       "86174          ...                                nan   \n",
       "86175          ...                                0.9   \n",
       "\n",
       "       freq_4000_over_freq_1000  freq_500_gain  freq_1000_gain  \\\n",
       "0                           1.0            nan           -15.0   \n",
       "1                           nan            nan             nan   \n",
       "2                           3.7           -5.0            -5.0   \n",
       "3                           nan            nan             0.0   \n",
       "4                           1.8           30.0            15.0   \n",
       "...                         ...            ...             ...   \n",
       "86171                       nan            nan             nan   \n",
       "86172                       1.8           15.0            15.0   \n",
       "86173                       nan            nan             nan   \n",
       "86174                       nan            nan             nan   \n",
       "86175                       0.8          -10.0           -10.0   \n",
       "\n",
       "       freq_2000_gain  freq_4000_gain  freq_500_gain_ratio  \\\n",
       "0               -15.0             nan                  nan   \n",
       "1                 nan             nan                  nan   \n",
       "2                15.0             0.0                 -0.5   \n",
       "3                 nan             nan                  nan   \n",
       "4                25.0            30.0                  0.5   \n",
       "...               ...             ...                  ...   \n",
       "86171             nan             nan                  nan   \n",
       "86172            20.0            10.0                  0.4   \n",
       "86173             nan             nan                  nan   \n",
       "86174             nan             nan                  nan   \n",
       "86175           -10.0           -10.0                 -0.1   \n",
       "\n",
       "       freq_1000_gain_ratio  freq_2000_gain_ratio  freq_4000_gain_ratio  \n",
       "0                      -0.2                  -0.2                   nan  \n",
       "1                       nan                   nan                   nan  \n",
       "2                      -0.3                   0.3                   0.0  \n",
       "3                       0.0                   nan                   nan  \n",
       "4                       0.3                   0.4                   0.4  \n",
       "...                     ...                   ...                   ...  \n",
       "86171                   nan                   nan                   nan  \n",
       "86172                   0.5                   0.5                   0.2  \n",
       "86173                   nan                   nan                   nan  \n",
       "86174                   nan                   nan                   nan  \n",
       "86175                  -0.1                  -0.1                  -0.1  \n",
       "\n",
       "[86176 rows x 43 columns]"
      ]
     },
     "execution_count": 5,
     "metadata": {},
     "output_type": "execute_result"
    }
   ],
   "source": [
    "\n",
    "equipment_success_dataframe = pd.read_csv(\"./equipment_success_unique.csv\", sep=\",\")\n",
    "\n",
    "equipment_success_dataframe['decades_old'] = round(equipment_success_dataframe['age_in_months_at_equipped_start'] / 120)\n",
    "equipment_success_dataframe['years'] = round(equipment_success_dataframe['age_in_months_at_equipped_start'] / 12)\n",
    "\n",
    "def isMale(x):\n",
    "    if x == \"male\":\n",
    "        return 1\n",
    "    return 0\n",
    "def isFemale(x):\n",
    "    if x == \"female\":\n",
    "        return 1\n",
    "    return 0\n",
    "def isRightEar(x):\n",
    "    if x == \"R\":\n",
    "        return 1\n",
    "    return 0\n",
    "def isLeftEar(x):\n",
    "    if x == \"L\":\n",
    "        return 1\n",
    "    return 0\n",
    "def isBothEars(x):\n",
    "    if x == \"BIN\":\n",
    "        return 1\n",
    "    return 0\n",
    "def dbToAmp (x):\n",
    "    return 10**(x/20)\n",
    "\n",
    "def genderToNum (x):\n",
    "    if x == \"male\":\n",
    "        return 1\n",
    "    if x == \"female\":\n",
    "        return 2\n",
    "    return 0\n",
    "            \n",
    "\n",
    "    \n",
    "\n",
    "equipment_success_dataframe['genderNum'] = equipment_success_dataframe['gender'].apply(genderToNum)\n",
    "\n",
    "equipment_success_dataframe['isMale'] = equipment_success_dataframe['gender'].apply(isMale)\n",
    "equipment_success_dataframe['isFemale'] = equipment_success_dataframe['gender'].apply(isFemale)\n",
    "equipment_success_dataframe['isRightEar'] = equipment_success_dataframe['ears'].apply(isRightEar)\n",
    "equipment_success_dataframe['isLeftEar'] = equipment_success_dataframe['ears'].apply(isLeftEar)\n",
    "equipment_success_dataframe['isBothEars'] = equipment_success_dataframe['ears'].apply(isBothEars)\n",
    "\n",
    "'''\n",
    "equipment_success_dataframe['freq_500'] = dbToAmp(equipment_success_dataframe['freq_500'])\n",
    "equipment_success_dataframe['freq_1000'] = dbToAmp(equipment_success_dataframe['freq_1000'])\n",
    "equipment_success_dataframe['freq_2000'] = dbToAmp(equipment_success_dataframe['freq_2000'])\n",
    "equipment_success_dataframe['freq_4000'] = dbToAmp(equipment_success_dataframe['freq_4000'])\n",
    "equipment_success_dataframe['eq_freq_500'] = dbToAmp(equipment_success_dataframe['eq_freq_500'])\n",
    "equipment_success_dataframe['eq_freq_1000'] = dbToAmp(equipment_success_dataframe['eq_freq_1000'])\n",
    "equipment_success_dataframe['eq_freq_2000'] = dbToAmp(equipment_success_dataframe['eq_freq_2000'])\n",
    "equipment_success_dataframe['eq_freq_4000'] = dbToAmp(equipment_success_dataframe['eq_freq_4000'])\n",
    "'''\n",
    "\n",
    "equipment_success_dataframe['freq_500_over_freq_1000'] = equipment_success_dataframe['freq_500']/equipment_success_dataframe['freq_1000']\n",
    "equipment_success_dataframe['freq_2000_over_freq_1000'] = equipment_success_dataframe['freq_2000']/equipment_success_dataframe['freq_1000']\n",
    "equipment_success_dataframe['freq_4000_over_freq_1000'] = equipment_success_dataframe['freq_4000']/equipment_success_dataframe['freq_1000']\n",
    "\n",
    "\n",
    "equipment_success_dataframe['freq_500_gain'] = equipment_success_dataframe['freq_500'] - equipment_success_dataframe['eq_freq_500']\n",
    "equipment_success_dataframe['freq_1000_gain'] = equipment_success_dataframe['freq_1000'] - equipment_success_dataframe['eq_freq_1000']\n",
    "equipment_success_dataframe['freq_2000_gain'] = equipment_success_dataframe['freq_2000'] - equipment_success_dataframe['eq_freq_2000']\n",
    "equipment_success_dataframe['freq_4000_gain'] = equipment_success_dataframe['freq_4000'] - equipment_success_dataframe['eq_freq_4000']\n",
    "\n",
    "equipment_success_dataframe['freq_500_gain_ratio'] = equipment_success_dataframe['freq_500_gain'] / equipment_success_dataframe['freq_500']\n",
    "equipment_success_dataframe['freq_1000_gain_ratio'] = equipment_success_dataframe['freq_1000_gain'] / equipment_success_dataframe['freq_1000']\n",
    "equipment_success_dataframe['freq_2000_gain_ratio'] = equipment_success_dataframe['freq_2000_gain'] / equipment_success_dataframe['freq_2000']\n",
    "equipment_success_dataframe['freq_4000_gain_ratio'] = equipment_success_dataframe['freq_4000_gain'] / equipment_success_dataframe['freq_4000']\n",
    "\n",
    "# equipment_success_dataframe['eq_gain_ratio'] = (-equipment_success_dataframe['eq_average_loss'] + equipment_success_dataframe['average_loss'])/equipment_success_dataframe['average_loss']\n",
    "\n",
    "\n",
    "equipment_success_dataframe = equipment_success_dataframe.drop(columns=[\"eq_average_loss\", \"eq_high_loss\", \"eq_low_loss\", \"rk\"])\n",
    "\n",
    "equipment_success_dataframe"
   ]
  },
  {
   "cell_type": "code",
   "execution_count": 9,
   "metadata": {},
   "outputs": [
    {
     "data": {
      "text/html": [
       "<div>\n",
       "<style scoped>\n",
       "    .dataframe tbody tr th:only-of-type {\n",
       "        vertical-align: middle;\n",
       "    }\n",
       "\n",
       "    .dataframe tbody tr th {\n",
       "        vertical-align: top;\n",
       "    }\n",
       "\n",
       "    .dataframe thead th {\n",
       "        text-align: right;\n",
       "    }\n",
       "</style>\n",
       "<table border=\"1\" class=\"dataframe\">\n",
       "  <thead>\n",
       "    <tr style=\"text-align: right;\">\n",
       "      <th></th>\n",
       "      <th>patient_id</th>\n",
       "      <th>center_id</th>\n",
       "      <th>ears</th>\n",
       "      <th>months_since_equipped</th>\n",
       "      <th>average_loss</th>\n",
       "      <th>high_loss</th>\n",
       "      <th>low_loss</th>\n",
       "      <th>id</th>\n",
       "      <th>age_in_months_at_equipped_start</th>\n",
       "      <th>gender</th>\n",
       "      <th>...</th>\n",
       "      <th>freq_4000_over_freq_1000</th>\n",
       "      <th>freq_500_gain</th>\n",
       "      <th>freq_1000_gain</th>\n",
       "      <th>freq_2000_gain</th>\n",
       "      <th>freq_4000_gain</th>\n",
       "      <th>freq_500_gain_ratio</th>\n",
       "      <th>freq_1000_gain_ratio</th>\n",
       "      <th>freq_2000_gain_ratio</th>\n",
       "      <th>freq_4000_gain_ratio</th>\n",
       "      <th>valid</th>\n",
       "    </tr>\n",
       "  </thead>\n",
       "  <tbody>\n",
       "    <tr>\n",
       "      <th>4</th>\n",
       "      <td>496</td>\n",
       "      <td>27</td>\n",
       "      <td>L</td>\n",
       "      <td>46</td>\n",
       "      <td>61.2</td>\n",
       "      <td>70.0</td>\n",
       "      <td>51.7</td>\n",
       "      <td>1353472</td>\n",
       "      <td>929.0</td>\n",
       "      <td>NaN</td>\n",
       "      <td>...</td>\n",
       "      <td>1.8</td>\n",
       "      <td>30.0</td>\n",
       "      <td>15.0</td>\n",
       "      <td>25.0</td>\n",
       "      <td>30.0</td>\n",
       "      <td>0.5</td>\n",
       "      <td>0.3</td>\n",
       "      <td>0.4</td>\n",
       "      <td>0.4</td>\n",
       "      <td>True</td>\n",
       "    </tr>\n",
       "    <tr>\n",
       "      <th>5</th>\n",
       "      <td>496</td>\n",
       "      <td>27</td>\n",
       "      <td>R</td>\n",
       "      <td>21</td>\n",
       "      <td>55.0</td>\n",
       "      <td>68.0</td>\n",
       "      <td>43.3</td>\n",
       "      <td>1353164</td>\n",
       "      <td>954.0</td>\n",
       "      <td>NaN</td>\n",
       "      <td>...</td>\n",
       "      <td>1.6</td>\n",
       "      <td>-10.0</td>\n",
       "      <td>15.0</td>\n",
       "      <td>30.0</td>\n",
       "      <td>30.0</td>\n",
       "      <td>-0.2</td>\n",
       "      <td>0.3</td>\n",
       "      <td>0.5</td>\n",
       "      <td>0.4</td>\n",
       "      <td>True</td>\n",
       "    </tr>\n",
       "    <tr>\n",
       "      <th>10</th>\n",
       "      <td>642</td>\n",
       "      <td>27</td>\n",
       "      <td>L</td>\n",
       "      <td>67</td>\n",
       "      <td>47.5</td>\n",
       "      <td>57.5</td>\n",
       "      <td>31.7</td>\n",
       "      <td>1353584</td>\n",
       "      <td>788.0</td>\n",
       "      <td>NaN</td>\n",
       "      <td>...</td>\n",
       "      <td>1.5</td>\n",
       "      <td>10.0</td>\n",
       "      <td>15.0</td>\n",
       "      <td>30.0</td>\n",
       "      <td>20.0</td>\n",
       "      <td>0.3</td>\n",
       "      <td>0.4</td>\n",
       "      <td>0.5</td>\n",
       "      <td>0.3</td>\n",
       "      <td>True</td>\n",
       "    </tr>\n",
       "    <tr>\n",
       "      <th>11</th>\n",
       "      <td>642</td>\n",
       "      <td>27</td>\n",
       "      <td>R</td>\n",
       "      <td>67</td>\n",
       "      <td>48.8</td>\n",
       "      <td>58.8</td>\n",
       "      <td>35.0</td>\n",
       "      <td>1353082</td>\n",
       "      <td>788.0</td>\n",
       "      <td>NaN</td>\n",
       "      <td>...</td>\n",
       "      <td>1.4</td>\n",
       "      <td>5.0</td>\n",
       "      <td>20.0</td>\n",
       "      <td>30.0</td>\n",
       "      <td>25.0</td>\n",
       "      <td>0.2</td>\n",
       "      <td>0.4</td>\n",
       "      <td>0.5</td>\n",
       "      <td>0.4</td>\n",
       "      <td>True</td>\n",
       "    </tr>\n",
       "    <tr>\n",
       "      <th>14</th>\n",
       "      <td>665</td>\n",
       "      <td>27</td>\n",
       "      <td>L</td>\n",
       "      <td>61</td>\n",
       "      <td>61.2</td>\n",
       "      <td>62.5</td>\n",
       "      <td>60.0</td>\n",
       "      <td>1353632</td>\n",
       "      <td>827.0</td>\n",
       "      <td>NaN</td>\n",
       "      <td>...</td>\n",
       "      <td>1.0</td>\n",
       "      <td>10.0</td>\n",
       "      <td>35.0</td>\n",
       "      <td>20.0</td>\n",
       "      <td>35.0</td>\n",
       "      <td>0.2</td>\n",
       "      <td>0.5</td>\n",
       "      <td>0.4</td>\n",
       "      <td>0.5</td>\n",
       "      <td>True</td>\n",
       "    </tr>\n",
       "    <tr>\n",
       "      <th>...</th>\n",
       "      <td>...</td>\n",
       "      <td>...</td>\n",
       "      <td>...</td>\n",
       "      <td>...</td>\n",
       "      <td>...</td>\n",
       "      <td>...</td>\n",
       "      <td>...</td>\n",
       "      <td>...</td>\n",
       "      <td>...</td>\n",
       "      <td>...</td>\n",
       "      <td>...</td>\n",
       "      <td>...</td>\n",
       "      <td>...</td>\n",
       "      <td>...</td>\n",
       "      <td>...</td>\n",
       "      <td>...</td>\n",
       "      <td>...</td>\n",
       "      <td>...</td>\n",
       "      <td>...</td>\n",
       "      <td>...</td>\n",
       "      <td>...</td>\n",
       "    </tr>\n",
       "    <tr>\n",
       "      <th>86139</th>\n",
       "      <td>288398</td>\n",
       "      <td>944</td>\n",
       "      <td>R</td>\n",
       "      <td>25</td>\n",
       "      <td>42.5</td>\n",
       "      <td>40.0</td>\n",
       "      <td>50.0</td>\n",
       "      <td>1401169</td>\n",
       "      <td>639.0</td>\n",
       "      <td>NaN</td>\n",
       "      <td>...</td>\n",
       "      <td>0.6</td>\n",
       "      <td>nan</td>\n",
       "      <td>25.0</td>\n",
       "      <td>10.0</td>\n",
       "      <td>10.0</td>\n",
       "      <td>nan</td>\n",
       "      <td>0.5</td>\n",
       "      <td>0.3</td>\n",
       "      <td>0.3</td>\n",
       "      <td>True</td>\n",
       "    </tr>\n",
       "    <tr>\n",
       "      <th>86148</th>\n",
       "      <td>288500</td>\n",
       "      <td>56</td>\n",
       "      <td>R</td>\n",
       "      <td>84</td>\n",
       "      <td>61.2</td>\n",
       "      <td>76.4</td>\n",
       "      <td>41.2</td>\n",
       "      <td>1520183</td>\n",
       "      <td>868.0</td>\n",
       "      <td>NaN</td>\n",
       "      <td>...</td>\n",
       "      <td>1.5</td>\n",
       "      <td>5.0</td>\n",
       "      <td>25.0</td>\n",
       "      <td>40.0</td>\n",
       "      <td>40.0</td>\n",
       "      <td>0.1</td>\n",
       "      <td>0.5</td>\n",
       "      <td>0.6</td>\n",
       "      <td>0.5</td>\n",
       "      <td>True</td>\n",
       "    </tr>\n",
       "    <tr>\n",
       "      <th>86154</th>\n",
       "      <td>288539</td>\n",
       "      <td>1295</td>\n",
       "      <td>R</td>\n",
       "      <td>23</td>\n",
       "      <td>46.2</td>\n",
       "      <td>55.7</td>\n",
       "      <td>41.2</td>\n",
       "      <td>1497130</td>\n",
       "      <td>591.0</td>\n",
       "      <td>NaN</td>\n",
       "      <td>...</td>\n",
       "      <td>1.3</td>\n",
       "      <td>5.0</td>\n",
       "      <td>10.0</td>\n",
       "      <td>10.0</td>\n",
       "      <td>15.0</td>\n",
       "      <td>0.1</td>\n",
       "      <td>0.2</td>\n",
       "      <td>0.2</td>\n",
       "      <td>0.2</td>\n",
       "      <td>True</td>\n",
       "    </tr>\n",
       "    <tr>\n",
       "      <th>86161</th>\n",
       "      <td>288599</td>\n",
       "      <td>895</td>\n",
       "      <td>L</td>\n",
       "      <td>53</td>\n",
       "      <td>108.8</td>\n",
       "      <td>108.8</td>\n",
       "      <td>106.2</td>\n",
       "      <td>1517466</td>\n",
       "      <td>891.0</td>\n",
       "      <td>NaN</td>\n",
       "      <td>...</td>\n",
       "      <td>1.0</td>\n",
       "      <td>70.0</td>\n",
       "      <td>85.0</td>\n",
       "      <td>90.0</td>\n",
       "      <td>80.0</td>\n",
       "      <td>0.7</td>\n",
       "      <td>0.8</td>\n",
       "      <td>0.8</td>\n",
       "      <td>0.7</td>\n",
       "      <td>True</td>\n",
       "    </tr>\n",
       "    <tr>\n",
       "      <th>86162</th>\n",
       "      <td>288599</td>\n",
       "      <td>895</td>\n",
       "      <td>R</td>\n",
       "      <td>18</td>\n",
       "      <td>105.0</td>\n",
       "      <td>105.0</td>\n",
       "      <td>100.0</td>\n",
       "      <td>1517798</td>\n",
       "      <td>891.0</td>\n",
       "      <td>NaN</td>\n",
       "      <td>...</td>\n",
       "      <td>1.1</td>\n",
       "      <td>75.0</td>\n",
       "      <td>80.0</td>\n",
       "      <td>85.0</td>\n",
       "      <td>85.0</td>\n",
       "      <td>0.7</td>\n",
       "      <td>0.8</td>\n",
       "      <td>0.8</td>\n",
       "      <td>0.8</td>\n",
       "      <td>True</td>\n",
       "    </tr>\n",
       "  </tbody>\n",
       "</table>\n",
       "<p>12458 rows × 44 columns</p>\n",
       "</div>"
      ],
      "text/plain": [
       "       patient_id  center_id ears  months_since_equipped  average_loss  \\\n",
       "4             496         27    L                     46          61.2   \n",
       "5             496         27    R                     21          55.0   \n",
       "10            642         27    L                     67          47.5   \n",
       "11            642         27    R                     67          48.8   \n",
       "14            665         27    L                     61          61.2   \n",
       "...           ...        ...  ...                    ...           ...   \n",
       "86139      288398        944    R                     25          42.5   \n",
       "86148      288500         56    R                     84          61.2   \n",
       "86154      288539       1295    R                     23          46.2   \n",
       "86161      288599        895    L                     53         108.8   \n",
       "86162      288599        895    R                     18         105.0   \n",
       "\n",
       "       high_loss  low_loss       id  age_in_months_at_equipped_start gender  \\\n",
       "4           70.0      51.7  1353472                            929.0    NaN   \n",
       "5           68.0      43.3  1353164                            954.0    NaN   \n",
       "10          57.5      31.7  1353584                            788.0    NaN   \n",
       "11          58.8      35.0  1353082                            788.0    NaN   \n",
       "14          62.5      60.0  1353632                            827.0    NaN   \n",
       "...          ...       ...      ...                              ...    ...   \n",
       "86139       40.0      50.0  1401169                            639.0    NaN   \n",
       "86148       76.4      41.2  1520183                            868.0    NaN   \n",
       "86154       55.7      41.2  1497130                            591.0    NaN   \n",
       "86161      108.8     106.2  1517466                            891.0    NaN   \n",
       "86162      105.0     100.0  1517798                            891.0    NaN   \n",
       "\n",
       "       ...    freq_4000_over_freq_1000  freq_500_gain  freq_1000_gain  \\\n",
       "4      ...                         1.8           30.0            15.0   \n",
       "5      ...                         1.6          -10.0            15.0   \n",
       "10     ...                         1.5           10.0            15.0   \n",
       "11     ...                         1.4            5.0            20.0   \n",
       "14     ...                         1.0           10.0            35.0   \n",
       "...    ...                         ...            ...             ...   \n",
       "86139  ...                         0.6            nan            25.0   \n",
       "86148  ...                         1.5            5.0            25.0   \n",
       "86154  ...                         1.3            5.0            10.0   \n",
       "86161  ...                         1.0           70.0            85.0   \n",
       "86162  ...                         1.1           75.0            80.0   \n",
       "\n",
       "       freq_2000_gain  freq_4000_gain  freq_500_gain_ratio  \\\n",
       "4                25.0            30.0                  0.5   \n",
       "5                30.0            30.0                 -0.2   \n",
       "10               30.0            20.0                  0.3   \n",
       "11               30.0            25.0                  0.2   \n",
       "14               20.0            35.0                  0.2   \n",
       "...               ...             ...                  ...   \n",
       "86139            10.0            10.0                  nan   \n",
       "86148            40.0            40.0                  0.1   \n",
       "86154            10.0            15.0                  0.1   \n",
       "86161            90.0            80.0                  0.7   \n",
       "86162            85.0            85.0                  0.7   \n",
       "\n",
       "       freq_1000_gain_ratio  freq_2000_gain_ratio  freq_4000_gain_ratio  valid  \n",
       "4                       0.3                   0.4                   0.4   True  \n",
       "5                       0.3                   0.5                   0.4   True  \n",
       "10                      0.4                   0.5                   0.3   True  \n",
       "11                      0.4                   0.5                   0.4   True  \n",
       "14                      0.5                   0.4                   0.5   True  \n",
       "...                     ...                   ...                   ...    ...  \n",
       "86139                   0.5                   0.3                   0.3   True  \n",
       "86148                   0.5                   0.6                   0.5   True  \n",
       "86154                   0.2                   0.2                   0.2   True  \n",
       "86161                   0.8                   0.8                   0.7   True  \n",
       "86162                   0.8                   0.8                   0.8   True  \n",
       "\n",
       "[12458 rows x 44 columns]"
      ]
     },
     "execution_count": 9,
     "metadata": {},
     "output_type": "execute_result"
    }
   ],
   "source": [
    "equipment_success_dataframe['valid'] = (\n",
    "  #  equipment_success_dataframe['freq_250'].apply(lambda x : not math.isnan(x)) &\n",
    "    equipment_success_dataframe['freq_500'].apply(lambda x : not math.isnan(x)) &\n",
    "   # equipment_success_dataframe['freq_750'].apply(lambda x : not math.isnan(x)) &\n",
    "    equipment_success_dataframe['freq_1000'].apply(lambda x : not math.isnan(x)) &\n",
    " #   equipment_success_dataframe['freq_1500'].apply(lambda x : not math.isnan(x)) &\n",
    "    equipment_success_dataframe['freq_2000'].apply(lambda x : not math.isnan(x)) &\n",
    " #   equipment_success_dataframe['freq_3000'].apply(lambda x : not math.isnan(x)) &\n",
    "    equipment_success_dataframe['freq_4000'].apply(lambda x : not math.isnan(x)) &\n",
    "#    equipment_success_dataframe['freq_6000'].apply(lambda x : not math.isnan(x)) &\n",
    "    equipment_success_dataframe['freq_8000'].apply(lambda x : not math.isnan(x)) &\n",
    " #   equipment_success_dataframe['eq_freq_500'].apply(lambda x : not math.isnan(x)) &\n",
    "    equipment_success_dataframe['eq_freq_1000'].apply(lambda x : not math.isnan(x)) &\n",
    "  #  equipment_success_dataframe['eq_freq_2000'].apply(lambda x : not math.isnan(x)) &\n",
    "  #  equipment_success_dataframe['eq_freq_4000'].apply(lambda x : not math.isnan(x)) &\n",
    "    \n",
    "   # equipment_success_dataframe['freq_500_gain'].apply(lambda x : not math.isnan(x) and x > 0) &\n",
    "    equipment_success_dataframe['freq_1000_gain'].apply(lambda x : not math.isnan(x) and x > 0) &\n",
    "   # equipment_success_dataframe['freq_2000_gain'].apply(lambda x : not math.isnan(x) and x > 0) &\n",
    "   # equipment_success_dataframe['freq_4000_gain'].apply(lambda x : not math.isnan(x) and x > 0) &\n",
    "\n",
    "    #    equipment_success_dataframe['freq_500_gain_ratio'].apply(lambda x : not math.isnan(x) and x < 1) &\n",
    "        equipment_success_dataframe['freq_1000_gain_ratio'].apply(lambda x : not math.isnan(x) and x < 1) &\n",
    "     #   equipment_success_dataframe['freq_2000_gain_ratio'].apply(lambda x : not math.isnan(x) and x < 1) &\n",
    "      #  equipment_success_dataframe['freq_4000_gain_ratio'].apply(lambda x : not math.isnan(x) and x < 1) &\n",
    "    \n",
    "        equipment_success_dataframe['isBothEars'].apply(lambda x : x == 0) &\n",
    "\n",
    "\n",
    "     equipment_success_dataframe['average_loss'].apply(lambda x : not math.isnan(x)) &\n",
    "#     equipment_success_dataframe['high_loss'].apply(lambda x : not math.isnan(x)) &\n",
    "#     equipment_success_dataframe['low_loss'].apply(lambda x : not math.isnan(x)) &\n",
    "    equipment_success_dataframe['months_since_equipped'].apply(lambda x : x > 12) &\n",
    "    equipment_success_dataframe['decades_old'].apply(lambda x : not math.isnan(x) and x < 11 and x > 4)\n",
    ")\n",
    "equipment_success_dataframe.query(' valid == True')"
   ]
  },
  {
   "cell_type": "code",
   "execution_count": 10,
   "metadata": {
    "scrolled": true
   },
   "outputs": [
    {
     "data": {
      "text/html": [
       "<div>\n",
       "<style scoped>\n",
       "    .dataframe tbody tr th:only-of-type {\n",
       "        vertical-align: middle;\n",
       "    }\n",
       "\n",
       "    .dataframe tbody tr th {\n",
       "        vertical-align: top;\n",
       "    }\n",
       "\n",
       "    .dataframe thead th {\n",
       "        text-align: right;\n",
       "    }\n",
       "</style>\n",
       "<table border=\"1\" class=\"dataframe\">\n",
       "  <thead>\n",
       "    <tr style=\"text-align: right;\">\n",
       "      <th></th>\n",
       "      <th>patient_id</th>\n",
       "      <th>center_id</th>\n",
       "      <th>ears</th>\n",
       "      <th>months_since_equipped</th>\n",
       "      <th>average_loss</th>\n",
       "      <th>high_loss</th>\n",
       "      <th>low_loss</th>\n",
       "      <th>id</th>\n",
       "      <th>age_in_months_at_equipped_start</th>\n",
       "      <th>gender</th>\n",
       "      <th>...</th>\n",
       "      <th>freq_4000_over_freq_1000</th>\n",
       "      <th>freq_500_gain</th>\n",
       "      <th>freq_1000_gain</th>\n",
       "      <th>freq_2000_gain</th>\n",
       "      <th>freq_4000_gain</th>\n",
       "      <th>freq_500_gain_ratio</th>\n",
       "      <th>freq_1000_gain_ratio</th>\n",
       "      <th>freq_2000_gain_ratio</th>\n",
       "      <th>freq_4000_gain_ratio</th>\n",
       "      <th>valid</th>\n",
       "    </tr>\n",
       "  </thead>\n",
       "  <tbody>\n",
       "    <tr>\n",
       "      <th>4</th>\n",
       "      <td>496</td>\n",
       "      <td>27</td>\n",
       "      <td>L</td>\n",
       "      <td>46</td>\n",
       "      <td>61.2</td>\n",
       "      <td>70.0</td>\n",
       "      <td>51.7</td>\n",
       "      <td>1353472</td>\n",
       "      <td>929.0</td>\n",
       "      <td>NaN</td>\n",
       "      <td>...</td>\n",
       "      <td>1.8</td>\n",
       "      <td>30.0</td>\n",
       "      <td>15.0</td>\n",
       "      <td>25.0</td>\n",
       "      <td>30.0</td>\n",
       "      <td>0.5</td>\n",
       "      <td>0.3</td>\n",
       "      <td>0.4</td>\n",
       "      <td>0.4</td>\n",
       "      <td>True</td>\n",
       "    </tr>\n",
       "    <tr>\n",
       "      <th>5</th>\n",
       "      <td>496</td>\n",
       "      <td>27</td>\n",
       "      <td>R</td>\n",
       "      <td>21</td>\n",
       "      <td>55.0</td>\n",
       "      <td>68.0</td>\n",
       "      <td>43.3</td>\n",
       "      <td>1353164</td>\n",
       "      <td>954.0</td>\n",
       "      <td>NaN</td>\n",
       "      <td>...</td>\n",
       "      <td>1.6</td>\n",
       "      <td>-10.0</td>\n",
       "      <td>15.0</td>\n",
       "      <td>30.0</td>\n",
       "      <td>30.0</td>\n",
       "      <td>-0.2</td>\n",
       "      <td>0.3</td>\n",
       "      <td>0.5</td>\n",
       "      <td>0.4</td>\n",
       "      <td>True</td>\n",
       "    </tr>\n",
       "    <tr>\n",
       "      <th>10</th>\n",
       "      <td>642</td>\n",
       "      <td>27</td>\n",
       "      <td>L</td>\n",
       "      <td>67</td>\n",
       "      <td>47.5</td>\n",
       "      <td>57.5</td>\n",
       "      <td>31.7</td>\n",
       "      <td>1353584</td>\n",
       "      <td>788.0</td>\n",
       "      <td>NaN</td>\n",
       "      <td>...</td>\n",
       "      <td>1.5</td>\n",
       "      <td>10.0</td>\n",
       "      <td>15.0</td>\n",
       "      <td>30.0</td>\n",
       "      <td>20.0</td>\n",
       "      <td>0.3</td>\n",
       "      <td>0.4</td>\n",
       "      <td>0.5</td>\n",
       "      <td>0.3</td>\n",
       "      <td>True</td>\n",
       "    </tr>\n",
       "    <tr>\n",
       "      <th>11</th>\n",
       "      <td>642</td>\n",
       "      <td>27</td>\n",
       "      <td>R</td>\n",
       "      <td>67</td>\n",
       "      <td>48.8</td>\n",
       "      <td>58.8</td>\n",
       "      <td>35.0</td>\n",
       "      <td>1353082</td>\n",
       "      <td>788.0</td>\n",
       "      <td>NaN</td>\n",
       "      <td>...</td>\n",
       "      <td>1.4</td>\n",
       "      <td>5.0</td>\n",
       "      <td>20.0</td>\n",
       "      <td>30.0</td>\n",
       "      <td>25.0</td>\n",
       "      <td>0.2</td>\n",
       "      <td>0.4</td>\n",
       "      <td>0.5</td>\n",
       "      <td>0.4</td>\n",
       "      <td>True</td>\n",
       "    </tr>\n",
       "    <tr>\n",
       "      <th>14</th>\n",
       "      <td>665</td>\n",
       "      <td>27</td>\n",
       "      <td>L</td>\n",
       "      <td>61</td>\n",
       "      <td>61.2</td>\n",
       "      <td>62.5</td>\n",
       "      <td>60.0</td>\n",
       "      <td>1353632</td>\n",
       "      <td>827.0</td>\n",
       "      <td>NaN</td>\n",
       "      <td>...</td>\n",
       "      <td>1.0</td>\n",
       "      <td>10.0</td>\n",
       "      <td>35.0</td>\n",
       "      <td>20.0</td>\n",
       "      <td>35.0</td>\n",
       "      <td>0.2</td>\n",
       "      <td>0.5</td>\n",
       "      <td>0.4</td>\n",
       "      <td>0.5</td>\n",
       "      <td>True</td>\n",
       "    </tr>\n",
       "    <tr>\n",
       "      <th>...</th>\n",
       "      <td>...</td>\n",
       "      <td>...</td>\n",
       "      <td>...</td>\n",
       "      <td>...</td>\n",
       "      <td>...</td>\n",
       "      <td>...</td>\n",
       "      <td>...</td>\n",
       "      <td>...</td>\n",
       "      <td>...</td>\n",
       "      <td>...</td>\n",
       "      <td>...</td>\n",
       "      <td>...</td>\n",
       "      <td>...</td>\n",
       "      <td>...</td>\n",
       "      <td>...</td>\n",
       "      <td>...</td>\n",
       "      <td>...</td>\n",
       "      <td>...</td>\n",
       "      <td>...</td>\n",
       "      <td>...</td>\n",
       "      <td>...</td>\n",
       "    </tr>\n",
       "    <tr>\n",
       "      <th>86139</th>\n",
       "      <td>288398</td>\n",
       "      <td>944</td>\n",
       "      <td>R</td>\n",
       "      <td>25</td>\n",
       "      <td>42.5</td>\n",
       "      <td>40.0</td>\n",
       "      <td>50.0</td>\n",
       "      <td>1401169</td>\n",
       "      <td>639.0</td>\n",
       "      <td>NaN</td>\n",
       "      <td>...</td>\n",
       "      <td>0.6</td>\n",
       "      <td>nan</td>\n",
       "      <td>25.0</td>\n",
       "      <td>10.0</td>\n",
       "      <td>10.0</td>\n",
       "      <td>nan</td>\n",
       "      <td>0.5</td>\n",
       "      <td>0.3</td>\n",
       "      <td>0.3</td>\n",
       "      <td>True</td>\n",
       "    </tr>\n",
       "    <tr>\n",
       "      <th>86148</th>\n",
       "      <td>288500</td>\n",
       "      <td>56</td>\n",
       "      <td>R</td>\n",
       "      <td>84</td>\n",
       "      <td>61.2</td>\n",
       "      <td>76.4</td>\n",
       "      <td>41.2</td>\n",
       "      <td>1520183</td>\n",
       "      <td>868.0</td>\n",
       "      <td>NaN</td>\n",
       "      <td>...</td>\n",
       "      <td>1.5</td>\n",
       "      <td>5.0</td>\n",
       "      <td>25.0</td>\n",
       "      <td>40.0</td>\n",
       "      <td>40.0</td>\n",
       "      <td>0.1</td>\n",
       "      <td>0.5</td>\n",
       "      <td>0.6</td>\n",
       "      <td>0.5</td>\n",
       "      <td>True</td>\n",
       "    </tr>\n",
       "    <tr>\n",
       "      <th>86154</th>\n",
       "      <td>288539</td>\n",
       "      <td>1295</td>\n",
       "      <td>R</td>\n",
       "      <td>23</td>\n",
       "      <td>46.2</td>\n",
       "      <td>55.7</td>\n",
       "      <td>41.2</td>\n",
       "      <td>1497130</td>\n",
       "      <td>591.0</td>\n",
       "      <td>NaN</td>\n",
       "      <td>...</td>\n",
       "      <td>1.3</td>\n",
       "      <td>5.0</td>\n",
       "      <td>10.0</td>\n",
       "      <td>10.0</td>\n",
       "      <td>15.0</td>\n",
       "      <td>0.1</td>\n",
       "      <td>0.2</td>\n",
       "      <td>0.2</td>\n",
       "      <td>0.2</td>\n",
       "      <td>True</td>\n",
       "    </tr>\n",
       "    <tr>\n",
       "      <th>86161</th>\n",
       "      <td>288599</td>\n",
       "      <td>895</td>\n",
       "      <td>L</td>\n",
       "      <td>53</td>\n",
       "      <td>108.8</td>\n",
       "      <td>108.8</td>\n",
       "      <td>106.2</td>\n",
       "      <td>1517466</td>\n",
       "      <td>891.0</td>\n",
       "      <td>NaN</td>\n",
       "      <td>...</td>\n",
       "      <td>1.0</td>\n",
       "      <td>70.0</td>\n",
       "      <td>85.0</td>\n",
       "      <td>90.0</td>\n",
       "      <td>80.0</td>\n",
       "      <td>0.7</td>\n",
       "      <td>0.8</td>\n",
       "      <td>0.8</td>\n",
       "      <td>0.7</td>\n",
       "      <td>True</td>\n",
       "    </tr>\n",
       "    <tr>\n",
       "      <th>86162</th>\n",
       "      <td>288599</td>\n",
       "      <td>895</td>\n",
       "      <td>R</td>\n",
       "      <td>18</td>\n",
       "      <td>105.0</td>\n",
       "      <td>105.0</td>\n",
       "      <td>100.0</td>\n",
       "      <td>1517798</td>\n",
       "      <td>891.0</td>\n",
       "      <td>NaN</td>\n",
       "      <td>...</td>\n",
       "      <td>1.1</td>\n",
       "      <td>75.0</td>\n",
       "      <td>80.0</td>\n",
       "      <td>85.0</td>\n",
       "      <td>85.0</td>\n",
       "      <td>0.7</td>\n",
       "      <td>0.8</td>\n",
       "      <td>0.8</td>\n",
       "      <td>0.8</td>\n",
       "      <td>True</td>\n",
       "    </tr>\n",
       "  </tbody>\n",
       "</table>\n",
       "<p>12458 rows × 44 columns</p>\n",
       "</div>"
      ],
      "text/plain": [
       "       patient_id  center_id ears  months_since_equipped  average_loss  \\\n",
       "4             496         27    L                     46          61.2   \n",
       "5             496         27    R                     21          55.0   \n",
       "10            642         27    L                     67          47.5   \n",
       "11            642         27    R                     67          48.8   \n",
       "14            665         27    L                     61          61.2   \n",
       "...           ...        ...  ...                    ...           ...   \n",
       "86139      288398        944    R                     25          42.5   \n",
       "86148      288500         56    R                     84          61.2   \n",
       "86154      288539       1295    R                     23          46.2   \n",
       "86161      288599        895    L                     53         108.8   \n",
       "86162      288599        895    R                     18         105.0   \n",
       "\n",
       "       high_loss  low_loss       id  age_in_months_at_equipped_start gender  \\\n",
       "4           70.0      51.7  1353472                            929.0    NaN   \n",
       "5           68.0      43.3  1353164                            954.0    NaN   \n",
       "10          57.5      31.7  1353584                            788.0    NaN   \n",
       "11          58.8      35.0  1353082                            788.0    NaN   \n",
       "14          62.5      60.0  1353632                            827.0    NaN   \n",
       "...          ...       ...      ...                              ...    ...   \n",
       "86139       40.0      50.0  1401169                            639.0    NaN   \n",
       "86148       76.4      41.2  1520183                            868.0    NaN   \n",
       "86154       55.7      41.2  1497130                            591.0    NaN   \n",
       "86161      108.8     106.2  1517466                            891.0    NaN   \n",
       "86162      105.0     100.0  1517798                            891.0    NaN   \n",
       "\n",
       "       ...    freq_4000_over_freq_1000  freq_500_gain  freq_1000_gain  \\\n",
       "4      ...                         1.8           30.0            15.0   \n",
       "5      ...                         1.6          -10.0            15.0   \n",
       "10     ...                         1.5           10.0            15.0   \n",
       "11     ...                         1.4            5.0            20.0   \n",
       "14     ...                         1.0           10.0            35.0   \n",
       "...    ...                         ...            ...             ...   \n",
       "86139  ...                         0.6            nan            25.0   \n",
       "86148  ...                         1.5            5.0            25.0   \n",
       "86154  ...                         1.3            5.0            10.0   \n",
       "86161  ...                         1.0           70.0            85.0   \n",
       "86162  ...                         1.1           75.0            80.0   \n",
       "\n",
       "       freq_2000_gain  freq_4000_gain  freq_500_gain_ratio  \\\n",
       "4                25.0            30.0                  0.5   \n",
       "5                30.0            30.0                 -0.2   \n",
       "10               30.0            20.0                  0.3   \n",
       "11               30.0            25.0                  0.2   \n",
       "14               20.0            35.0                  0.2   \n",
       "...               ...             ...                  ...   \n",
       "86139            10.0            10.0                  nan   \n",
       "86148            40.0            40.0                  0.1   \n",
       "86154            10.0            15.0                  0.1   \n",
       "86161            90.0            80.0                  0.7   \n",
       "86162            85.0            85.0                  0.7   \n",
       "\n",
       "       freq_1000_gain_ratio  freq_2000_gain_ratio  freq_4000_gain_ratio  valid  \n",
       "4                       0.3                   0.4                   0.4   True  \n",
       "5                       0.3                   0.5                   0.4   True  \n",
       "10                      0.4                   0.5                   0.3   True  \n",
       "11                      0.4                   0.5                   0.4   True  \n",
       "14                      0.5                   0.4                   0.5   True  \n",
       "...                     ...                   ...                   ...    ...  \n",
       "86139                   0.5                   0.3                   0.3   True  \n",
       "86148                   0.5                   0.6                   0.5   True  \n",
       "86154                   0.2                   0.2                   0.2   True  \n",
       "86161                   0.8                   0.8                   0.7   True  \n",
       "86162                   0.8                   0.8                   0.8   True  \n",
       "\n",
       "[12458 rows x 44 columns]"
      ]
     },
     "execution_count": 10,
     "metadata": {},
     "output_type": "execute_result"
    }
   ],
   "source": [
    "#equipment_success = equipment_success_dataframe.query('center_id == 29 and valid == True').copy()\n",
    "equipment_success_valid = equipment_success_dataframe.query(' valid == True').copy()\n",
    "\n",
    "equipment_success_valid"
   ]
  },
  {
   "cell_type": "code",
   "execution_count": 14,
   "metadata": {},
   "outputs": [
    {
     "data": {
      "text/plain": [
       "array([[<matplotlib.axes._subplots.AxesSubplot object at 0x7f7a7ef96048>]],\n",
       "      dtype=object)"
      ]
     },
     "metadata": {},
     "output_type": "display_data"
    },
    {
     "data": {
      "text/plain": [
       "array([[<matplotlib.axes._subplots.AxesSubplot object at 0x7f7a7eeb41d0>]],\n",
       "      dtype=object)"
      ]
     },
     "metadata": {},
     "output_type": "display_data"
    },
    {
     "data": {
      "text/plain": [
       "array([[<matplotlib.axes._subplots.AxesSubplot object at 0x7f7a7ee58e48>]],\n",
       "      dtype=object)"
      ]
     },
     "metadata": {},
     "output_type": "display_data"
    },
    {
     "data": {
      "image/png": "[encoded data removed]",
      "text/plain": [
       "<Figure size 432x288 with 1 Axes>"
      ]
     },
     "metadata": {
      "needs_background": "light"
     },
     "output_type": "display_data"
    },
    {
     "data": {
      "image/png": "[encoded data removed]",
      "text/plain": [
       "<Figure size 432x288 with 1 Axes>"
      ]
     },
     "metadata": {
      "needs_background": "light"
     },
     "output_type": "display_data"
    },
    {
     "data": {
      "image/png": "[encoded data removed]",
      "text/plain": [
       "<Figure size 432x288 with 1 Axes>"
      ]
     },
     "metadata": {
      "needs_background": "light"
     },
     "output_type": "display_data"
    }
   ],
   "source": [
    "for feature in ['eq_freq_1000','freq_1000_gain_ratio', 'freq_2000_gain_ratio']:\n",
    "    display.display(equipment_success_valid.hist(feature))"
   ]
  },
  {
   "cell_type": "code",
   "execution_count": 15,
   "metadata": {},
   "outputs": [],
   "source": [
    "def scaleInner(df, feature):\n",
    "    stats = df[feature].describe();\n",
    "    std = stats['std']\n",
    "    mean = stats['mean']\n",
    "    df[feature + '_scaled'] = (df[feature] - mean)/std\n",
    "    return df\n",
    "\n",
    "def scale(df, features):\n",
    "    scaledDf = df.copy()\n",
    "    \n",
    "    for feature in features:\n",
    "        scaleInner(scaledDf, feature)\n",
    "    return scaledDf        "
   ]
  },
  {
   "cell_type": "code",
   "execution_count": 16,
   "metadata": {},
   "outputs": [],
   "source": [
    "def success_ratio(equipment_success, freq, multiplier, threshold ):\n",
    "    data = pd.value_counts(\n",
    "        equipment_success['freq_' + freq + '_gain'] > (equipment_success['freq_' + freq] * multiplier) - threshold\n",
    "    )  \n",
    "    return data[True]/(data[False] + data[True])"
   ]
  },
  {
   "cell_type": "code",
   "execution_count": 17,
   "metadata": {},
   "outputs": [
    {
     "data": {
      "text/plain": [
       "[0.24570557071761118,\n",
       " 0.4960667843955691,\n",
       " 0.5198266174345801,\n",
       " 0.24458179483063092]"
      ]
     },
     "execution_count": 17,
     "metadata": {},
     "output_type": "execute_result"
    }
   ],
   "source": [
    "[success_ratio(equipment_success_valid, '500', 0.5, 5),\n",
    "success_ratio(equipment_success_valid, '1000', 0.5, 5),\n",
    "success_ratio(equipment_success_valid, '2000', 0.5, 5),\n",
    "success_ratio(equipment_success_valid, '4000', 0.5, 5)]"
   ]
  },
  {
   "cell_type": "code",
   "execution_count": 18,
   "metadata": {},
   "outputs": [],
   "source": [
    "def model_good_prediction_ratio_array(targets, predictions, max_distance):\n",
    "    predictionsDiff = list(map(lambda x: abs(x), list(targets - predictions)))\n",
    "    return len(list(filter(lambda x: x < max_distance, predictionsDiff)))/len(predictionsDiff)"
   ]
  },
  {
   "cell_type": "code",
   "execution_count": 21,
   "metadata": {},
   "outputs": [],
   "source": [
    "def model_good_prediction_ratio(targets, predictions, max_distance):\n",
    "    predictionsDiff = (targets - predictions).apply (lambda x: abs(x))\n",
    "    return len(list(filter(lambda x: x < max_distance, predictionsDiff)))/len(predictionsDiff)"
   ]
  },
  {
   "cell_type": "code",
   "execution_count": 22,
   "metadata": {
    "scrolled": true
   },
   "outputs": [
    {
     "data": {
      "text/html": [
       "<div>\n",
       "<style scoped>\n",
       "    .dataframe tbody tr th:only-of-type {\n",
       "        vertical-align: middle;\n",
       "    }\n",
       "\n",
       "    .dataframe tbody tr th {\n",
       "        vertical-align: top;\n",
       "    }\n",
       "\n",
       "    .dataframe thead th {\n",
       "        text-align: right;\n",
       "    }\n",
       "</style>\n",
       "<table border=\"1\" class=\"dataframe\">\n",
       "  <thead>\n",
       "    <tr style=\"text-align: right;\">\n",
       "      <th></th>\n",
       "      <th>patient_id</th>\n",
       "      <th>center_id</th>\n",
       "      <th>ears</th>\n",
       "      <th>months_since_equipped</th>\n",
       "      <th>average_loss</th>\n",
       "      <th>high_loss</th>\n",
       "      <th>low_loss</th>\n",
       "      <th>id</th>\n",
       "      <th>age_in_months_at_equipped_start</th>\n",
       "      <th>gender</th>\n",
       "      <th>...</th>\n",
       "      <th>freq_4000_over_freq_1000</th>\n",
       "      <th>freq_500_gain</th>\n",
       "      <th>freq_1000_gain</th>\n",
       "      <th>freq_2000_gain</th>\n",
       "      <th>freq_4000_gain</th>\n",
       "      <th>freq_500_gain_ratio</th>\n",
       "      <th>freq_1000_gain_ratio</th>\n",
       "      <th>freq_2000_gain_ratio</th>\n",
       "      <th>freq_4000_gain_ratio</th>\n",
       "      <th>valid</th>\n",
       "    </tr>\n",
       "  </thead>\n",
       "  <tbody>\n",
       "    <tr>\n",
       "      <th>4</th>\n",
       "      <td>496</td>\n",
       "      <td>27</td>\n",
       "      <td>L</td>\n",
       "      <td>46</td>\n",
       "      <td>61.2</td>\n",
       "      <td>70.0</td>\n",
       "      <td>51.7</td>\n",
       "      <td>1353472</td>\n",
       "      <td>929.0</td>\n",
       "      <td>NaN</td>\n",
       "      <td>...</td>\n",
       "      <td>1.8</td>\n",
       "      <td>30.0</td>\n",
       "      <td>15.0</td>\n",
       "      <td>25.0</td>\n",
       "      <td>30.0</td>\n",
       "      <td>0.5</td>\n",
       "      <td>0.3</td>\n",
       "      <td>0.4</td>\n",
       "      <td>0.4</td>\n",
       "      <td>True</td>\n",
       "    </tr>\n",
       "    <tr>\n",
       "      <th>5</th>\n",
       "      <td>496</td>\n",
       "      <td>27</td>\n",
       "      <td>R</td>\n",
       "      <td>21</td>\n",
       "      <td>55.0</td>\n",
       "      <td>68.0</td>\n",
       "      <td>43.3</td>\n",
       "      <td>1353164</td>\n",
       "      <td>954.0</td>\n",
       "      <td>NaN</td>\n",
       "      <td>...</td>\n",
       "      <td>1.6</td>\n",
       "      <td>-10.0</td>\n",
       "      <td>15.0</td>\n",
       "      <td>30.0</td>\n",
       "      <td>30.0</td>\n",
       "      <td>-0.2</td>\n",
       "      <td>0.3</td>\n",
       "      <td>0.5</td>\n",
       "      <td>0.4</td>\n",
       "      <td>True</td>\n",
       "    </tr>\n",
       "    <tr>\n",
       "      <th>10</th>\n",
       "      <td>642</td>\n",
       "      <td>27</td>\n",
       "      <td>L</td>\n",
       "      <td>67</td>\n",
       "      <td>47.5</td>\n",
       "      <td>57.5</td>\n",
       "      <td>31.7</td>\n",
       "      <td>1353584</td>\n",
       "      <td>788.0</td>\n",
       "      <td>NaN</td>\n",
       "      <td>...</td>\n",
       "      <td>1.5</td>\n",
       "      <td>10.0</td>\n",
       "      <td>15.0</td>\n",
       "      <td>30.0</td>\n",
       "      <td>20.0</td>\n",
       "      <td>0.3</td>\n",
       "      <td>0.4</td>\n",
       "      <td>0.5</td>\n",
       "      <td>0.3</td>\n",
       "      <td>True</td>\n",
       "    </tr>\n",
       "    <tr>\n",
       "      <th>11</th>\n",
       "      <td>642</td>\n",
       "      <td>27</td>\n",
       "      <td>R</td>\n",
       "      <td>67</td>\n",
       "      <td>48.8</td>\n",
       "      <td>58.8</td>\n",
       "      <td>35.0</td>\n",
       "      <td>1353082</td>\n",
       "      <td>788.0</td>\n",
       "      <td>NaN</td>\n",
       "      <td>...</td>\n",
       "      <td>1.4</td>\n",
       "      <td>5.0</td>\n",
       "      <td>20.0</td>\n",
       "      <td>30.0</td>\n",
       "      <td>25.0</td>\n",
       "      <td>0.2</td>\n",
       "      <td>0.4</td>\n",
       "      <td>0.5</td>\n",
       "      <td>0.4</td>\n",
       "      <td>True</td>\n",
       "    </tr>\n",
       "    <tr>\n",
       "      <th>14</th>\n",
       "      <td>665</td>\n",
       "      <td>27</td>\n",
       "      <td>L</td>\n",
       "      <td>61</td>\n",
       "      <td>61.2</td>\n",
       "      <td>62.5</td>\n",
       "      <td>60.0</td>\n",
       "      <td>1353632</td>\n",
       "      <td>827.0</td>\n",
       "      <td>NaN</td>\n",
       "      <td>...</td>\n",
       "      <td>1.0</td>\n",
       "      <td>10.0</td>\n",
       "      <td>35.0</td>\n",
       "      <td>20.0</td>\n",
       "      <td>35.0</td>\n",
       "      <td>0.2</td>\n",
       "      <td>0.5</td>\n",
       "      <td>0.4</td>\n",
       "      <td>0.5</td>\n",
       "      <td>True</td>\n",
       "    </tr>\n",
       "    <tr>\n",
       "      <th>...</th>\n",
       "      <td>...</td>\n",
       "      <td>...</td>\n",
       "      <td>...</td>\n",
       "      <td>...</td>\n",
       "      <td>...</td>\n",
       "      <td>...</td>\n",
       "      <td>...</td>\n",
       "      <td>...</td>\n",
       "      <td>...</td>\n",
       "      <td>...</td>\n",
       "      <td>...</td>\n",
       "      <td>...</td>\n",
       "      <td>...</td>\n",
       "      <td>...</td>\n",
       "      <td>...</td>\n",
       "      <td>...</td>\n",
       "      <td>...</td>\n",
       "      <td>...</td>\n",
       "      <td>...</td>\n",
       "      <td>...</td>\n",
       "      <td>...</td>\n",
       "    </tr>\n",
       "    <tr>\n",
       "      <th>86139</th>\n",
       "      <td>288398</td>\n",
       "      <td>944</td>\n",
       "      <td>R</td>\n",
       "      <td>25</td>\n",
       "      <td>42.5</td>\n",
       "      <td>40.0</td>\n",
       "      <td>50.0</td>\n",
       "      <td>1401169</td>\n",
       "      <td>639.0</td>\n",
       "      <td>NaN</td>\n",
       "      <td>...</td>\n",
       "      <td>0.6</td>\n",
       "      <td>nan</td>\n",
       "      <td>25.0</td>\n",
       "      <td>10.0</td>\n",
       "      <td>10.0</td>\n",
       "      <td>nan</td>\n",
       "      <td>0.5</td>\n",
       "      <td>0.3</td>\n",
       "      <td>0.3</td>\n",
       "      <td>True</td>\n",
       "    </tr>\n",
       "    <tr>\n",
       "      <th>86148</th>\n",
       "      <td>288500</td>\n",
       "      <td>56</td>\n",
       "      <td>R</td>\n",
       "      <td>84</td>\n",
       "      <td>61.2</td>\n",
       "      <td>76.4</td>\n",
       "      <td>41.2</td>\n",
       "      <td>1520183</td>\n",
       "      <td>868.0</td>\n",
       "      <td>NaN</td>\n",
       "      <td>...</td>\n",
       "      <td>1.5</td>\n",
       "      <td>5.0</td>\n",
       "      <td>25.0</td>\n",
       "      <td>40.0</td>\n",
       "      <td>40.0</td>\n",
       "      <td>0.1</td>\n",
       "      <td>0.5</td>\n",
       "      <td>0.6</td>\n",
       "      <td>0.5</td>\n",
       "      <td>True</td>\n",
       "    </tr>\n",
       "    <tr>\n",
       "      <th>86154</th>\n",
       "      <td>288539</td>\n",
       "      <td>1295</td>\n",
       "      <td>R</td>\n",
       "      <td>23</td>\n",
       "      <td>46.2</td>\n",
       "      <td>55.7</td>\n",
       "      <td>41.2</td>\n",
       "      <td>1497130</td>\n",
       "      <td>591.0</td>\n",
       "      <td>NaN</td>\n",
       "      <td>...</td>\n",
       "      <td>1.3</td>\n",
       "      <td>5.0</td>\n",
       "      <td>10.0</td>\n",
       "      <td>10.0</td>\n",
       "      <td>15.0</td>\n",
       "      <td>0.1</td>\n",
       "      <td>0.2</td>\n",
       "      <td>0.2</td>\n",
       "      <td>0.2</td>\n",
       "      <td>True</td>\n",
       "    </tr>\n",
       "    <tr>\n",
       "      <th>86161</th>\n",
       "      <td>288599</td>\n",
       "      <td>895</td>\n",
       "      <td>L</td>\n",
       "      <td>53</td>\n",
       "      <td>108.8</td>\n",
       "      <td>108.8</td>\n",
       "      <td>106.2</td>\n",
       "      <td>1517466</td>\n",
       "      <td>891.0</td>\n",
       "      <td>NaN</td>\n",
       "      <td>...</td>\n",
       "      <td>1.0</td>\n",
       "      <td>70.0</td>\n",
       "      <td>85.0</td>\n",
       "      <td>90.0</td>\n",
       "      <td>80.0</td>\n",
       "      <td>0.7</td>\n",
       "      <td>0.8</td>\n",
       "      <td>0.8</td>\n",
       "      <td>0.7</td>\n",
       "      <td>True</td>\n",
       "    </tr>\n",
       "    <tr>\n",
       "      <th>86162</th>\n",
       "      <td>288599</td>\n",
       "      <td>895</td>\n",
       "      <td>R</td>\n",
       "      <td>18</td>\n",
       "      <td>105.0</td>\n",
       "      <td>105.0</td>\n",
       "      <td>100.0</td>\n",
       "      <td>1517798</td>\n",
       "      <td>891.0</td>\n",
       "      <td>NaN</td>\n",
       "      <td>...</td>\n",
       "      <td>1.1</td>\n",
       "      <td>75.0</td>\n",
       "      <td>80.0</td>\n",
       "      <td>85.0</td>\n",
       "      <td>85.0</td>\n",
       "      <td>0.7</td>\n",
       "      <td>0.8</td>\n",
       "      <td>0.8</td>\n",
       "      <td>0.8</td>\n",
       "      <td>True</td>\n",
       "    </tr>\n",
       "  </tbody>\n",
       "</table>\n",
       "<p>12458 rows × 44 columns</p>\n",
       "</div>"
      ],
      "text/plain": [
       "       patient_id  center_id ears  months_since_equipped  average_loss  \\\n",
       "4             496         27    L                     46          61.2   \n",
       "5             496         27    R                     21          55.0   \n",
       "10            642         27    L                     67          47.5   \n",
       "11            642         27    R                     67          48.8   \n",
       "14            665         27    L                     61          61.2   \n",
       "...           ...        ...  ...                    ...           ...   \n",
       "86139      288398        944    R                     25          42.5   \n",
       "86148      288500         56    R                     84          61.2   \n",
       "86154      288539       1295    R                     23          46.2   \n",
       "86161      288599        895    L                     53         108.8   \n",
       "86162      288599        895    R                     18         105.0   \n",
       "\n",
       "       high_loss  low_loss       id  age_in_months_at_equipped_start gender  \\\n",
       "4           70.0      51.7  1353472                            929.0    NaN   \n",
       "5           68.0      43.3  1353164                            954.0    NaN   \n",
       "10          57.5      31.7  1353584                            788.0    NaN   \n",
       "11          58.8      35.0  1353082                            788.0    NaN   \n",
       "14          62.5      60.0  1353632                            827.0    NaN   \n",
       "...          ...       ...      ...                              ...    ...   \n",
       "86139       40.0      50.0  1401169                            639.0    NaN   \n",
       "86148       76.4      41.2  1520183                            868.0    NaN   \n",
       "86154       55.7      41.2  1497130                            591.0    NaN   \n",
       "86161      108.8     106.2  1517466                            891.0    NaN   \n",
       "86162      105.0     100.0  1517798                            891.0    NaN   \n",
       "\n",
       "       ...    freq_4000_over_freq_1000  freq_500_gain  freq_1000_gain  \\\n",
       "4      ...                         1.8           30.0            15.0   \n",
       "5      ...                         1.6          -10.0            15.0   \n",
       "10     ...                         1.5           10.0            15.0   \n",
       "11     ...                         1.4            5.0            20.0   \n",
       "14     ...                         1.0           10.0            35.0   \n",
       "...    ...                         ...            ...             ...   \n",
       "86139  ...                         0.6            nan            25.0   \n",
       "86148  ...                         1.5            5.0            25.0   \n",
       "86154  ...                         1.3            5.0            10.0   \n",
       "86161  ...                         1.0           70.0            85.0   \n",
       "86162  ...                         1.1           75.0            80.0   \n",
       "\n",
       "       freq_2000_gain  freq_4000_gain  freq_500_gain_ratio  \\\n",
       "4                25.0            30.0                  0.5   \n",
       "5                30.0            30.0                 -0.2   \n",
       "10               30.0            20.0                  0.3   \n",
       "11               30.0            25.0                  0.2   \n",
       "14               20.0            35.0                  0.2   \n",
       "...               ...             ...                  ...   \n",
       "86139            10.0            10.0                  nan   \n",
       "86148            40.0            40.0                  0.1   \n",
       "86154            10.0            15.0                  0.1   \n",
       "86161            90.0            80.0                  0.7   \n",
       "86162            85.0            85.0                  0.7   \n",
       "\n",
       "       freq_1000_gain_ratio  freq_2000_gain_ratio  freq_4000_gain_ratio  valid  \n",
       "4                       0.3                   0.4                   0.4   True  \n",
       "5                       0.3                   0.5                   0.4   True  \n",
       "10                      0.4                   0.5                   0.3   True  \n",
       "11                      0.4                   0.5                   0.4   True  \n",
       "14                      0.5                   0.4                   0.5   True  \n",
       "...                     ...                   ...                   ...    ...  \n",
       "86139                   0.5                   0.3                   0.3   True  \n",
       "86148                   0.5                   0.6                   0.5   True  \n",
       "86154                   0.2                   0.2                   0.2   True  \n",
       "86161                   0.8                   0.8                   0.7   True  \n",
       "86162                   0.8                   0.8                   0.8   True  \n",
       "\n",
       "[12458 rows x 44 columns]"
      ]
     },
     "execution_count": 22,
     "metadata": {},
     "output_type": "execute_result"
    }
   ],
   "source": [
    "equipment_success = equipment_success_valid.copy() #[(equipment_success_valid['isMale'] == 0)\n",
    "                                           # & (equipment_success_valid['decades_old'] == 7)\n",
    "                                           #].copy()\n",
    "\n",
    "equipment_success"
   ]
  },
  {
   "cell_type": "code",
   "execution_count": 25,
   "metadata": {},
   "outputs": [],
   "source": [
    "def safe_append(arr, x):\n",
    "    if arr == None:\n",
    "        return [x]\n",
    "    arr.append(x)\n",
    "    return arr\n",
    "def safe_inc(n):\n",
    "    if n == None:\n",
    "        return 1\n",
    "    return n + 1"
   ]
  },
  {
   "cell_type": "code",
   "execution_count": 26,
   "metadata": {
    "scrolled": true
   },
   "outputs": [],
   "source": [
    "center_ids = equipment_success['center_id'].values\n",
    "tests_per_center = {}\n",
    "for i in range(len(center_ids)):\n",
    "    center_id = center_ids[i]\n",
    "    tests_per_center[center_id] = safe_inc(tests_per_center.get(center_id))"
   ]
  },
  {
   "cell_type": "markdown",
   "metadata": {},
   "source": [
    "## Keras"
   ]
  },
  {
   "cell_type": "code",
   "execution_count": null,
   "metadata": {},
   "outputs": [],
   "source": [
    "from keras.models import Sequential, Model\n",
    "from keras.layers import Dense, Activation, Input, advanced_activations\n",
    "from keras import optimizers\n",
    "from keras import regularizers\n"
   ]
  },
  {
   "cell_type": "code",
   "execution_count": null,
   "metadata": {},
   "outputs": [],
   "source": [
    "keras.__version__"
   ]
  },
  {
   "cell_type": "code",
   "execution_count": null,
   "metadata": {},
   "outputs": [],
   "source": [
    "equipment_success_valid = scale(equipment_success_valid, ['freq_250', 'freq_500', 'freq_750', 'freq_1000', \n",
    "                                                          'freq_1500', 'freq_2000', 'freq_3000', 'freq_4000',\n",
    "                                                          'freq_6000', 'freq_8000', 'years', 'decades_old', 'age_in_months_at_equipped_start'])\n",
    "\n",
    "\n",
    "equipment_success_all = equipment_success_valid.copy()\n",
    "#[(equipment_success_valid['isFemale'] == 1)\n",
    "#                                            & (equipment_success_valid['decades_old'] == 8)\n",
    "#                                           ].copy()\n",
    "\n",
    "equipment_success = equipment_success_all.sample(frac=1)\n",
    " \n",
    "equipment_success"
   ]
  },
  {
   "cell_type": "code",
   "execution_count": null,
   "metadata": {},
   "outputs": [],
   "source": [
    "features = [\n",
    "   \"years_scaled\",\n",
    "    \"isMale\",\n",
    "    \"isFemale\",\n",
    "    #\"isLeftEar\",\n",
    "    #\"isRightEar\",\n",
    "   # 'freq_250_scaled',\n",
    "    'freq_500_scaled',\n",
    "    #'freq_750_scaled',\n",
    "    'freq_1000_scaled',\n",
    "    #'freq_1500_scaled',\n",
    "    'freq_2000_scaled',\n",
    "    #'freq_3000_scaled', \n",
    "    'freq_4000_scaled',\n",
    "    #'freq_6000_scaled',\n",
    "    'freq_8000_scaled',\n",
    "    #'freq_500_over_freq_1000',\n",
    "    #'freq_2000_over_freq_1000',\n",
    "    #'freq_4000_over_freq_1000'\n",
    "    \n",
    "]\n",
    "\n",
    "data = (equipment_success[features].values)\n",
    "labels = (equipment_success['eq_freq_1000'].values)\n",
    "\n",
    "print(\"original good prediction ratio: \", model_good_prediction_ratio_array(labels, np.average(labels), 5))\n",
    "print(\"original rmse: \" , np.std(labels - np.average(labels)))"
   ]
  },
  {
   "cell_type": "markdown",
   "metadata": {},
   "source": [
    "# data exploration"
   ]
  },
  {
   "cell_type": "code",
   "execution_count": 19,
   "metadata": {},
   "outputs": [
    {
     "ename": "NameError",
     "evalue": "name 'data' is not defined",
     "output_type": "error",
     "traceback": [
      "\u001b[0;31m---------------------------------------------------------------------------\u001b[0m",
      "\u001b[0;31mNameError\u001b[0m                                 Traceback (most recent call last)",
      "\u001b[0;32m<ipython-input-19-0c5969e5577d>\u001b[0m in \u001b[0;36m<module>\u001b[0;34m\u001b[0m\n\u001b[0;32m----> 1\u001b[0;31m \u001b[0moriginal_data\u001b[0m \u001b[0;34m=\u001b[0m \u001b[0mdata\u001b[0m\u001b[0;34m.\u001b[0m\u001b[0mcopy\u001b[0m\u001b[0;34m(\u001b[0m\u001b[0;34m)\u001b[0m\u001b[0;34m\u001b[0m\u001b[0m\n\u001b[0m\u001b[1;32m      2\u001b[0m \u001b[0moriginal_labels\u001b[0m \u001b[0;34m=\u001b[0m \u001b[0mlabels\u001b[0m\u001b[0;34m.\u001b[0m\u001b[0mcopy\u001b[0m\u001b[0;34m(\u001b[0m\u001b[0;34m)\u001b[0m\u001b[0;34m\u001b[0m\u001b[0m\n",
      "\u001b[0;31mNameError\u001b[0m: name 'data' is not defined"
     ]
    }
   ],
   "source": [
    "original_data = data.copy()\n",
    "original_labels = labels.copy()"
   ]
  },
  {
   "cell_type": "code",
   "execution_count": 262,
   "metadata": {},
   "outputs": [],
   "source": [
    "unscaled_features = [\n",
    "   \"age_in_months_at_equipped_start\",\n",
    "    \"isMale\",\n",
    "    \"isFemale\",\n",
    "    'freq_250',\n",
    "    'freq_500',\n",
    "    'freq_750',\n",
    "    'freq_1000',\n",
    "    'freq_1500',\n",
    "    'freq_2000',\n",
    "    'freq_3000', \n",
    "    'freq_4000',\n",
    "    'freq_6000',\n",
    "    'freq_8000',\n",
    "    \n",
    "]"
   ]
  },
  {
   "cell_type": "code",
   "execution_count": 265,
   "metadata": {},
   "outputs": [
    {
     "data": {
      "text/plain": [
       "[(12458, 13), (12458,)]"
      ]
     },
     "execution_count": 265,
     "metadata": {},
     "output_type": "execute_result"
    }
   ],
   "source": [
    "ff = equipment_success[unscaled_features].values\n",
    "labels = equipment_success['eq_freq_1000'].values\n",
    "[ff.shape, labels.shape]"
   ]
  },
  {
   "cell_type": "code",
   "execution_count": 268,
   "metadata": {},
   "outputs": [
    {
     "data": {
      "text/plain": [
       "12458"
      ]
     },
     "execution_count": 268,
     "metadata": {},
     "output_type": "execute_result"
    }
   ],
   "source": [
    "len(ff)"
   ]
  },
  {
   "cell_type": "code",
   "execution_count": 270,
   "metadata": {},
   "outputs": [
    {
     "name": "stdout",
     "output_type": "stream",
     "text": [
      "0\n",
      "{}\n",
      "100\n",
      "{45: [3556], 78: [714], 47: [2276, 10475]}\n",
      "200\n",
      "{146: [7826], 115: [7372], 135: [6966], 47: [2276, 10475], 45: [3556], 78: [714], 111: [4038]}\n",
      "300\n",
      "{224: [10000], 256: [11743], 293: [2803, 9624], 135: [6966], 263: [615], 45: [3556], 78: [714], 47: [2276, 10475], 146: [7826], 115: [7372], 245: [10970], 218: [9555], 111: [4038], 252: [8867]}\n",
      "400\n",
      "{224: [10000], 256: [11743], 327: [5326, 9636], 293: [2803, 9624], 135: [6966], 394: [4798, 8608], 263: [615], 45: [3556], 78: [714], 47: [2276, 10475], 336: [10097], 146: [7826], 115: [7372], 245: [10970], 312: [8136], 218: [9555], 111: [4038], 252: [8867], 381: [2104, 5700]}\n",
      "500\n",
      "{256: [11743], 327: [5326, 9636], 394: [4798, 8608], 461: [2837], 78: [714], 336: [10097], 146: [7826], 469: [5129], 409: [4201], 218: [9555], 111: [4038], 224: [10000], 263: [615], 293: [2803, 9624], 423: [7694], 444: [1201], 490: [9016], 135: [6966], 45: [3556], 47: [2276, 10475], 115: [7372], 245: [10970], 438: [7806], 312: [8136], 252: [8867], 381: [2104, 5700]}\n",
      "600\n",
      "{256: [11743], 545: [11133], 327: [5326, 9636], 394: [4798, 8608], 577: [9278, 11652], 461: [2837], 78: [714], 525: [3148], 336: [10097], 529: [1299, 12248], 146: [7826], 469: [5129], 409: [4201], 218: [9555], 111: [4038], 543: [4285], 224: [10000], 263: [615], 549: [10919], 597: [8563], 293: [2803, 9624], 423: [7694], 552: [3546], 444: [1201], 490: [9016], 135: [6966], 45: [3556], 47: [2276, 10475], 115: [7372], 245: [10970], 438: [7806], 312: [8136], 569: [6500], 252: [8867], 381: [2104, 5700], 501: [7250, 12289]}\n",
      "700\n",
      "{256: [11743], 545: [11133], 632: [5129], 327: [5326, 9636], 394: [4798, 8608], 577: [9278, 11652], 461: [2837], 78: [714], 525: [3148], 336: [10097], 529: [1299, 12248], 146: [7826], 469: [5129], 633: [7246], 615: [11455], 409: [4201], 218: [9555], 111: [4038], 543: [4285], 224: [10000], 263: [615], 549: [10919], 699: [10331], 597: [8563], 293: [2803, 9624], 423: [7694], 552: [3546], 444: [1201], 490: [9016], 135: [6966], 45: [3556], 47: [2276, 10475], 115: [7372], 245: [10970], 438: [7806], 312: [8136], 569: [6500], 671: [5475], 252: [8867], 381: [2104, 5700], 654: [4509], 501: [7250, 12289]}\n",
      "800\n",
      "{256: [11743], 772: [7065], 263: [615], 394: [4798, 8608], 525: [3148], 654: [4509], 529: [1299, 12248], 146: [7826], 409: [4201], 543: [4285], 545: [11133], 549: [10919], 423: [7694], 552: [3546], 135: [6966], 45: [3556], 47: [2276, 10475], 438: [7806], 312: [8136], 569: [6500], 699: [10331], 444: [1201], 703: [1837], 577: [9278, 11652], 327: [5326, 9636], 714: [1876, 3914], 501: [7250, 12289], 461: [2837], 78: [714], 336: [10097], 469: [5129], 218: [9555], 293: [2803, 9624], 224: [10000], 671: [5475], 742: [7695], 615: [11455], 490: [9016], 111: [4038], 115: [7372], 245: [10970], 632: [5129], 633: [7246], 252: [8867], 381: [2104, 5700], 597: [8563]}\n",
      "900\n",
      "{256: [11743], 896: [3877], 772: [7065], 263: [615], 394: [4798, 8608], 525: [3148], 654: [4509], 813: [1535], 529: [1299, 12248], 146: [7826], 409: [4201], 543: [4285], 545: [11133], 549: [10919], 423: [7694], 552: [3546], 809: [7404], 135: [6966], 45: [3556], 47: [2276, 10475], 818: [11295], 438: [7806], 312: [8136], 569: [6500], 699: [10331], 444: [1201], 830: [4024], 703: [1837], 577: [9278, 11652], 327: [5326, 9636], 714: [1876, 3914], 501: [7250, 12289], 461: [2837], 78: [714], 336: [10097], 469: [5129], 857: [7404], 218: [9555], 293: [2803, 9624], 224: [10000], 671: [5475], 870: [3516], 742: [7695], 615: [11455], 490: [9016], 111: [4038], 115: [7372], 245: [10970], 887: [9323], 632: [5129], 633: [7246], 252: [8867], 381: [2104, 5700], 894: [6430], 597: [8563]}\n",
      "1000\n",
      "{256: [11743], 896: [3877], 772: [7065], 263: [615], 394: [4798, 8608], 525: [3148], 654: [4509], 813: [1535], 529: [1299, 12248], 146: [7826], 958: [9023], 409: [4201], 924: [7442], 543: [4285], 545: [11133], 549: [10919], 934: [5458], 423: [7694], 552: [3546], 809: [7404], 135: [6966], 45: [3556], 47: [2276, 10475], 818: [11295], 438: [7806], 312: [8136], 569: [6500], 699: [10331], 444: [1201], 830: [4024], 703: [1837], 577: [9278, 11652], 991: [2832], 327: [5326, 9636], 714: [1876, 3914], 501: [7250, 12289], 461: [2837], 78: [714], 336: [10097], 469: [5129], 857: [7404], 218: [9555], 293: [2803, 9624], 224: [10000], 671: [5475], 870: [3516], 742: [7695], 615: [11455], 490: [9016], 111: [4038], 115: [7372], 245: [10970], 887: [9323], 632: [5129], 633: [7246], 252: [8867], 381: [2104, 5700], 894: [6430], 597: [8563]}\n",
      "1100\n",
      "{256: [11743], 896: [3877], 1074: [2980], 772: [7065], 263: [615], 394: [4798, 8608], 525: [3148], 654: [4509], 813: [1535], 529: [1299, 12248], 146: [7826], 958: [9023], 409: [4201], 924: [7442], 543: [4285], 545: [11133], 549: [10919], 934: [5458], 423: [7694], 552: [3546], 809: [7404], 135: [6966], 45: [3556], 47: [2276, 10475], 818: [11295], 1075: [4676], 438: [7806], 312: [8136], 569: [6500], 699: [10331], 444: [1201], 1034: [7133], 830: [4024], 703: [1837], 577: [9278, 11652], 991: [2832], 327: [5326, 9636], 714: [1876, 3914], 501: [7250, 12289], 461: [2837], 78: [714], 336: [10097], 469: [5129], 857: [7404], 218: [9555], 293: [2803, 9624], 224: [10000], 671: [5475], 870: [3516], 742: [7695], 615: [11455], 490: [9016], 111: [4038], 115: [7372], 245: [10970], 887: [9323], 632: [5129], 633: [7246], 1095: [5941, 11159], 252: [8867], 381: [2104, 5700], 894: [6430], 597: [8563]}\n",
      "1200\n",
      "{256: [11743], 896: [3877], 1074: [2980], 772: [7065], 263: [615], 394: [4798, 8608], 525: [3148], 654: [4509], 813: [1535], 529: [1299, 12248], 146: [7826], 958: [9023], 1177: [10083], 409: [4201], 1179: [3167], 924: [7442], 543: [4285], 545: [11133], 549: [10919], 934: [5458], 423: [7694], 552: [3546], 809: [7404], 135: [6966], 45: [3556], 47: [2276, 10475], 818: [11295], 1075: [4676], 438: [7806], 312: [8136], 569: [6500], 699: [10331], 444: [1201], 1034: [7133], 830: [4024], 703: [1837], 577: [9278, 11652], 991: [2832], 327: [5326, 9636], 714: [1876, 3914], 501: [7250, 12289], 461: [2837], 78: [714], 1149: [6628, 8772], 336: [10097], 469: [5129], 857: [7404], 218: [9555], 1115: [1981], 1141: [4771], 293: [2803, 9624], 224: [10000], 671: [5475], 870: [3516], 742: [7695], 615: [11455], 1148: [11310], 490: [9016], 111: [4038], 115: [7372], 1140: [2980, 8058, 10632, 11386], 245: [10970], 887: [9323], 632: [5129], 633: [7246], 1095: [5941, 11159], 252: [8867], 381: [2104, 5700], 894: [6430], 597: [8563]}\n",
      "1300\n",
      "{256: [11743], 896: [3877], 1287: [8735], 1074: [2980], 772: [7065], 263: [615], 394: [4798, 8608], 525: [3148], 654: [4509], 813: [1535], 529: [1299, 12248], 146: [7826], 958: [9023], 1177: [10083], 409: [4201], 1179: [3167], 924: [7442], 543: [4285], 545: [11133], 549: [10919], 934: [5458], 423: [7694], 552: [3546], 809: [7404], 135: [6966], 45: [3556], 47: [2276, 10475], 818: [11295], 1075: [4676], 438: [7806], 312: [8136], 569: [6500], 699: [10331], 444: [1201], 1034: [7133], 830: [4024], 703: [1837], 577: [9278, 11652], 991: [2832], 327: [5326, 9636], 714: [1876, 3914], 501: [7250, 12289], 461: [2837], 78: [714], 1149: [6628, 8772], 336: [10097], 469: [5129], 1209: [11001], 1240: [4718], 857: [7404], 218: [9555], 1115: [1981], 1141: [4771], 293: [2803, 9624], 224: [10000], 671: [5475], 1211: [3881], 870: [3516], 742: [7695], 615: [11455], 1148: [11310], 490: [9016], 1248: [4175], 111: [4038], 1278: [6178], 115: [7372], 1140: [2980, 8058, 10632, 11386], 245: [10970], 887: [9323], 632: [5129], 633: [7246], 1095: [5941, 11159], 252: [8867], 381: [2104, 5700], 894: [6430], 597: [8563]}\n",
      "1400\n",
      "{256: [11743], 896: [3877], 1287: [8735], 1074: [2980], 772: [7065], 1317: [9354], 263: [615], 394: [4798, 8608], 1351: [7977], 525: [3148], 654: [4509], 813: [1535], 529: [1299, 12248], 146: [7826], 958: [9023], 1177: [10083], 409: [4201], 1179: [3167], 924: [7442], 543: [4285], 545: [11133], 549: [10919], 934: [5458], 423: [7694], 552: [3546], 809: [7404], 135: [6966], 45: [3556], 47: [2276, 10475], 1329: [7468], 818: [11295], 1075: [4676], 438: [7806], 1325: [9555, 12369], 312: [8136], 569: [6500], 699: [10331], 444: [1201], 1034: [7133], 830: [4024], 703: [1837], 577: [9278, 11652], 991: [2832], 327: [5326, 9636], 714: [1876, 3914], 501: [7250, 12289], 461: [2837], 78: [714], 1149: [6628, 8772], 336: [10097], 469: [5129], 1209: [11001], 1240: [4718], 857: [7404], 218: [9555], 1115: [1981], 1141: [4771], 293: [2803, 9624], 224: [10000], 671: [5475], 1211: [3881], 1305: [5218, 6820], 870: [3516], 742: [7695], 615: [11455], 1148: [11310], 490: [9016], 1248: [4175], 111: [4038], 1278: [6178], 115: [7372], 1140: [2980, 8058, 10632, 11386], 245: [10970], 887: [9323], 632: [5129], 633: [7246], 1095: [5941, 11159], 252: [8867], 381: [2104, 5700], 894: [6430], 597: [8563]}\n"
     ]
    },
    {
     "name": "stdout",
     "output_type": "stream",
     "text": [
      "1500\n",
      "{256: [11743], 896: [3877], 1287: [8735], 1074: [2980], 772: [7065], 1317: [9354], 1451: [6976], 263: [615], 394: [4798, 8608], 1351: [7977], 525: [3148], 654: [4509], 813: [1535], 529: [1299, 12248], 146: [7826], 958: [9023], 1177: [10083], 409: [4201], 1421: [6281], 1179: [3167], 924: [7442], 543: [4285], 545: [11133], 549: [10919], 934: [5458], 423: [7694], 552: [3546], 809: [7404], 135: [6966], 45: [3556], 47: [2276, 10475], 1329: [7468], 818: [11295], 1075: [4676], 438: [7806], 1325: [9555, 12369], 312: [8136], 569: [6500], 699: [10331], 444: [1201], 1034: [7133], 830: [4024], 703: [1837], 1402: [5212, 8529], 577: [9278, 11652], 1404: [3310, 4850, 6698], 991: [2832], 327: [5326, 9636], 714: [1876, 3914], 501: [7250, 12289], 461: [2837], 78: [714], 1149: [6628, 8772], 336: [10097], 469: [5129], 1209: [11001], 1240: [4718], 857: [7404], 218: [9555], 1115: [1981], 1141: [4771], 293: [2803, 9624], 224: [10000], 671: [5475], 1211: [3881], 1305: [5218, 6820], 870: [3516], 742: [7695], 615: [11455], 1148: [11310], 490: [9016], 1248: [4175], 111: [4038], 1278: [6178], 115: [7372], 1140: [2980, 8058, 10632, 11386], 245: [10970], 887: [9323], 632: [5129], 633: [7246], 1095: [5941, 11159], 252: [8867], 381: [2104, 5700], 894: [6430], 597: [8563]}\n",
      "1600\n",
      "{256: [11743], 772: [7065], 1287: [8735], 1034: [7133], 1547: [2738, 7177], 525: [3148], 45: [3556], 529: [1299, 12248], 1305: [5218, 6820], 543: [4285], 545: [11133], 1317: [9354], 552: [3546], 809: [7404], 263: [615], 813: [1535], 47: [2276, 10475], 1329: [7468], 1074: [2980], 1075: [4676], 312: [8136], 569: [6500], 991: [2832], 830: [4024], 577: [9278, 11652], 1351: [7977], 78: [714], 336: [10097], 597: [8563], 857: [7404], 1115: [1981], 1141: [4771], 327: [5326, 9636], 1211: [3881], 1095: [5941, 11159], 293: [2803, 9624], 870: [3516], 615: [11455], 1248: [4175], 111: [4038], 115: [7372], 1140: [2980, 8058, 10632, 11386], 1325: [9555, 12369], 887: [9323], 632: [5129], 633: [7246], 1402: [5212, 8529], 1404: [3310, 4850, 6698], 1149: [6628, 8772], 894: [6430], 896: [3877], 135: [6966], 394: [4798, 8608], 1421: [6281], 654: [4509], 146: [7826], 409: [4201], 1177: [10083], 1179: [3167], 924: [7442], 671: [5475], 934: [5458], 423: [7694], 1451: [6976], 438: [7806], 1209: [11001], 699: [10331], 444: [1201], 958: [9023], 703: [1837], 245: [10970], 714: [1876, 3914], 461: [2837], 469: [5129], 1240: [4718], 218: [9555], 549: [10919], 224: [10000], 742: [7695], 1148: [11310], 490: [9016], 381: [2104, 5700], 1521: [8978], 501: [7250, 12289], 818: [11295], 252: [8867], 1278: [6178]}\n",
      "1700\n",
      "{256: [11743], 772: [7065], 1287: [8735], 1034: [7133], 1547: [2738, 7177], 525: [3148], 45: [3556], 529: [1299, 12248], 1305: [5218, 6820], 543: [4285], 545: [11133], 1317: [9354], 552: [3546], 809: [7404], 263: [615], 813: [1535], 47: [2276, 10475], 1329: [7468], 1074: [2980], 1075: [4676], 312: [8136], 569: [6500], 991: [2832], 830: [4024], 577: [9278, 11652], 1351: [7977], 78: [714], 336: [10097], 597: [8563], 857: [7404], 1115: [1981], 1141: [4771], 327: [5326, 9636], 1211: [3881], 1095: [5941, 11159], 293: [2803, 9624], 870: [3516], 615: [11455], 1643: [5941], 1248: [4175], 111: [4038], 115: [7372], 1140: [2980, 8058, 10632, 11386], 1325: [9555, 12369], 887: [9323], 632: [5129], 633: [7246], 1402: [5212, 8529], 1404: [3310, 4850, 6698], 1149: [6628, 8772], 894: [6430], 896: [3877], 135: [6966], 394: [4798, 8608], 1421: [6281], 654: [4509], 146: [7826], 1683: [9555], 409: [4201], 1688: [6871, 7317], 1177: [10083], 1179: [3167], 924: [7442], 671: [5475], 934: [5458], 423: [7694], 1451: [6976], 438: [7806], 1209: [11001], 699: [10331], 444: [1201], 958: [9023], 703: [1837], 245: [10970], 714: [1876, 3914], 461: [2837], 469: [5129], 1240: [4718], 218: [9555], 1658: [4622], 549: [10919], 224: [10000], 742: [7695], 1148: [11310], 490: [9016], 381: [2104, 5700], 1521: [8978], 501: [7250, 12289], 818: [11295], 252: [8867], 1278: [6178]}\n",
      "1800\n",
      "{256: [11743], 772: [7065], 1287: [8735], 1034: [7133], 1547: [2738, 7177], 525: [3148], 45: [3556], 529: [1299, 12248], 1305: [5218, 6820], 543: [4285], 545: [11133], 1317: [9354], 552: [3546], 809: [7404], 263: [615], 813: [1535], 47: [2276, 10475], 1329: [7468], 1074: [2980], 1075: [4676], 312: [8136], 569: [6500], 991: [2832], 830: [4024], 577: [9278, 11652], 1351: [7977], 78: [714], 336: [10097], 597: [8563], 1721: [2324], 857: [7404], 1115: [1981], 1141: [4771], 327: [5326, 9636], 1211: [3881], 1095: [5941, 11159], 293: [2803, 9624], 870: [3516], 615: [11455], 1643: [5941], 1248: [4175], 111: [4038], 115: [7372], 1140: [2980, 8058, 10632, 11386], 1325: [9555, 12369], 887: [9323], 632: [5129], 633: [7246], 1402: [5212, 8529], 1404: [3310, 4850, 6698], 1149: [6628, 8772], 894: [6430], 896: [3877], 135: [6966], 394: [4798, 8608], 1421: [6281], 654: [4509], 146: [7826], 1683: [9555], 409: [4201], 1688: [6871, 7317], 1177: [10083], 1179: [3167], 924: [7442], 671: [5475], 934: [5458], 423: [7694], 1451: [6976], 438: [7806], 1209: [11001], 699: [10331], 444: [1201], 958: [9023], 703: [1837], 245: [10970], 714: [1876, 3914], 461: [2837], 469: [5129], 1240: [4718], 218: [9555], 1658: [4622], 549: [10919], 224: [10000], 742: [7695], 1148: [11310], 490: [9016], 381: [2104, 5700], 1521: [8978], 501: [7250, 12289], 818: [11295], 252: [8867], 1278: [6178]}\n",
      "1900\n",
      "{256: [11743], 772: [7065], 1287: [8735], 1034: [7133], 1547: [2738, 7177], 525: [3148], 1806: [10603], 45: [3556], 529: [1299, 12248], 1305: [5218, 6820], 543: [4285], 545: [11133], 1317: [9354], 552: [3546], 809: [7404], 263: [615], 813: [1535], 47: [2276, 10475], 1329: [7468], 1074: [2980], 1075: [4676], 312: [8136], 569: [6500], 991: [2832], 830: [4024], 577: [9278, 11652], 1351: [7977], 78: [714], 336: [10097], 597: [8563], 1721: [2324], 857: [7404], 1115: [1981], 1141: [4771], 327: [5326, 9636], 1211: [3881], 1095: [5941, 11159], 293: [2803, 9624], 870: [3516], 615: [11455], 1643: [5941], 1248: [4175], 111: [4038], 115: [7372], 1140: [2980, 8058, 10632, 11386], 1325: [9555, 12369], 887: [9323], 632: [5129], 633: [7246], 1402: [5212, 8529], 1404: [3310, 4850, 6698], 1149: [6628, 8772], 894: [6430], 896: [3877], 135: [6966], 394: [4798, 8608], 1421: [6281], 654: [4509], 146: [7826], 1683: [9555], 409: [4201], 1688: [6871, 7317], 1177: [10083], 1179: [3167], 924: [7442], 671: [5475], 934: [5458], 423: [7694], 1451: [6976], 438: [7806], 1209: [11001], 699: [10331], 444: [1201], 958: [9023], 703: [1837], 245: [10970], 714: [1876, 3914], 461: [2837], 469: [5129], 1240: [4718], 218: [9555], 1658: [4622], 549: [10919], 224: [10000], 742: [7695], 1148: [11310], 490: [9016], 381: [2104, 5700], 1521: [8978], 501: [7250, 12289], 818: [11295], 252: [8867], 1278: [6178]}\n",
      "2000\n",
      "{256: [11743], 772: [7065], 1287: [8735], 1034: [7133], 1547: [2738, 7177], 525: [3148], 1806: [10603], 45: [3556], 529: [1299, 12248], 1305: [5218, 6820], 543: [4285], 545: [11133], 1317: [9354], 552: [3546], 809: [7404], 263: [615], 813: [1535], 47: [2276, 10475], 1329: [7468], 1074: [2980], 1075: [4676], 312: [8136], 569: [6500], 991: [2832], 830: [4024], 577: [9278, 11652], 1351: [7977], 78: [714], 336: [10097], 597: [8563], 1721: [2324], 857: [7404], 1115: [1981], 1141: [4771], 327: [5326, 9636], 1211: [3881], 1095: [5941, 11159], 293: [2803, 9624], 870: [3516], 615: [11455], 1643: [5941], 1248: [4175], 111: [4038], 115: [7372], 1140: [2980, 8058, 10632, 11386], 1325: [9555, 12369], 887: [9323], 632: [5129], 633: [7246], 1402: [5212, 8529], 1404: [3310, 4850, 6698], 1149: [6628, 8772], 894: [6430], 896: [3877], 135: [6966], 394: [4798, 8608], 1421: [6281], 654: [4509], 1935: [4549], 146: [7826], 1683: [9555], 409: [4201], 1688: [6871, 7317], 1177: [10083], 1179: [3167], 924: [7442], 671: [5475], 934: [5458], 423: [7694], 1451: [6976], 1967: [5249], 438: [7806], 1209: [11001], 699: [10331], 444: [1201], 958: [9023], 703: [1837], 245: [10970], 714: [1876, 3914], 461: [2837], 469: [5129], 1240: [4718], 218: [9555], 1658: [4622], 549: [10919], 224: [10000], 742: [7695], 1148: [11310], 490: [9016], 381: [2104, 5700], 1521: [8978], 501: [7250, 12289], 818: [11295], 252: [8867], 1278: [6178]}\n",
      "2100\n",
      "{256: [11743], 772: [7065], 1287: [8735], 1034: [7133], 1547: [2738, 7177], 525: [3148], 1806: [10603], 45: [3556], 529: [1299, 12248], 1305: [5218, 6820], 543: [4285], 545: [11133], 1317: [9354], 2097: [2120, 8841], 552: [3546], 809: [7404], 263: [615], 813: [1535], 47: [2276, 10475], 1329: [7468], 1074: [2980], 1075: [4676], 312: [8136], 569: [6500], 991: [2832], 830: [4024], 577: [9278, 11652], 1351: [7977], 78: [714], 336: [10097], 597: [8563], 1721: [2324], 857: [7404], 1115: [1981], 1141: [4771], 327: [5326, 9636], 1211: [3881], 1095: [5941, 11159], 293: [2803, 9624], 870: [3516], 615: [11455], 1643: [5941], 1248: [4175], 111: [4038], 115: [7372], 1140: [2980, 8058, 10632, 11386], 1325: [9555, 12369], 887: [9323], 632: [5129], 633: [7246], 1402: [5212, 8529], 1404: [3310, 4850, 6698], 1149: [6628, 8772], 894: [6430], 896: [3877], 135: [6966], 394: [4798, 8608], 1421: [6281], 654: [4509], 1935: [4549], 146: [7826], 1683: [9555], 409: [4201], 1688: [6871, 7317], 1177: [10083], 1179: [3167], 924: [7442], 671: [5475], 934: [5458], 423: [7694], 1451: [6976], 1967: [5249], 438: [7806], 1209: [11001], 699: [10331], 444: [1201], 958: [9023], 703: [1837], 245: [10970], 714: [1876, 3914], 461: [2837], 469: [5129], 1240: [4718], 218: [9555], 1658: [4622], 549: [10919], 224: [10000], 742: [7695], 1148: [11310], 490: [9016], 381: [2104, 5700], 1521: [8978], 501: [7250, 12289], 818: [11295], 252: [8867], 1278: [6178]}\n"
     ]
    },
    {
     "name": "stdout",
     "output_type": "stream",
     "text": [
      "2200\n",
      "{256: [11743], 772: [7065], 1287: [8735], 1034: [7133], 1547: [2738, 7177], 525: [3148], 1806: [10603], 45: [3556], 529: [1299, 12248], 1305: [5218, 6820], 543: [4285], 545: [11133], 1317: [9354], 2097: [2120, 8841], 552: [3546], 809: [7404], 263: [615], 813: [1535], 47: [2276, 10475], 1329: [7468], 1074: [2980], 1075: [4676], 312: [8136], 569: [6500], 991: [2832], 830: [4024], 577: [9278, 11652], 1351: [7977], 78: [714], 336: [10097], 597: [8563], 1721: [2324], 857: [7404], 1115: [1981], 1141: [4771], 327: [5326, 9636], 1211: [3881], 1095: [5941, 11159], 293: [2803, 9624], 870: [3516], 615: [11455], 1643: [5941], 1248: [4175], 111: [4038], 115: [7372], 1140: [2980, 8058, 10632, 11386], 1325: [9555, 12369], 887: [9323], 632: [5129], 633: [7246], 1402: [5212, 8529], 1404: [3310, 4850, 6698], 1149: [6628, 8772], 894: [6430], 896: [3877], 135: [6966], 394: [4798, 8608], 1421: [6281], 654: [4509], 1935: [4549], 146: [7826], 1683: [9555], 409: [4201], 1688: [6871, 7317], 1177: [10083], 1179: [3167], 924: [7442], 671: [5475], 934: [5458], 423: [7694], 1451: [6976], 1967: [5249], 438: [7806], 1209: [11001], 699: [10331], 444: [1201], 958: [9023], 703: [1837], 245: [10970], 714: [1876, 3914], 461: [2837], 469: [5129], 1240: [4718], 218: [9555], 1658: [4622], 549: [10919], 224: [10000], 742: [7695], 1148: [11310], 490: [9016], 381: [2104, 5700], 1521: [8978], 501: [7250, 12289], 818: [11295], 252: [8867], 1278: [6178]}\n",
      "2300\n",
      "{256: [11743], 772: [7065], 1287: [8735], 1034: [7133], 1547: [2738, 7177], 525: [3148], 1806: [10603], 45: [3556], 529: [1299, 12248], 1305: [5218, 6820], 543: [4285], 545: [11133], 1317: [9354], 2097: [2120, 8841], 552: [3546], 809: [7404], 263: [615], 813: [1535], 47: [2276, 10475], 1329: [7468], 1074: [2980], 1075: [4676], 312: [8136], 569: [6500], 991: [2832], 830: [4024], 577: [9278, 11652], 1351: [7977], 78: [714], 336: [10097], 597: [8563], 1721: [2324], 857: [7404], 1115: [1981], 1141: [4771], 327: [5326, 9636], 1211: [3881], 1095: [5941, 11159], 293: [2803, 9624], 870: [3516], 615: [11455], 1643: [5941], 1248: [4175], 111: [4038], 115: [7372], 1140: [2980, 8058, 10632, 11386], 1325: [9555, 12369], 887: [9323], 632: [5129], 633: [7246], 1402: [5212, 8529], 1404: [3310, 4850, 6698], 1149: [6628, 8772], 894: [6430], 896: [3877], 135: [6966], 394: [4798, 8608], 1421: [6281], 654: [4509], 1935: [4549], 146: [7826], 1683: [9555], 409: [4201], 1688: [6871, 7317], 1177: [10083], 1179: [3167], 924: [7442], 671: [5475], 934: [5458], 423: [7694], 1451: [6976], 1967: [5249], 438: [7806], 1209: [11001], 699: [10331], 444: [1201], 958: [9023], 703: [1837], 245: [10970], 714: [1876, 3914], 461: [2837], 469: [5129], 1240: [4718], 218: [9555], 1658: [4622], 549: [10919], 224: [10000], 2273: [9515], 742: [7695], 1148: [11310], 490: [9016], 381: [2104, 5700], 2288: [10948], 1521: [8978], 501: [7250, 12289], 2295: [10086], 818: [11295], 252: [8867], 1278: [6178]}\n",
      "2400\n",
      "{256: [11743], 772: [7065], 1287: [8735], 1034: [7133], 1547: [2738, 7177], 525: [3148], 1806: [10603], 45: [3556], 529: [1299, 12248], 1305: [5218, 6820], 543: [4285], 2336: [11166], 545: [11133], 1317: [9354], 2097: [2120, 8841], 552: [3546], 809: [7404], 263: [615], 813: [1535], 47: [2276, 10475], 1329: [7468], 1074: [2980], 1075: [4676], 312: [8136], 569: [6500], 991: [2832], 830: [4024], 577: [9278, 11652], 2389: [8873], 1351: [7977], 78: [714], 336: [10097], 597: [8563], 1721: [2324], 857: [7404], 2394: [7578], 1115: [1981], 1141: [4771], 327: [5326, 9636], 1211: [3881], 1095: [5941, 11159], 293: [2803, 9624], 870: [3516], 615: [11455], 1643: [5941], 1248: [4175], 111: [4038], 115: [7372], 1140: [2980, 8058, 10632, 11386], 1325: [9555, 12369], 887: [9323], 632: [5129], 633: [7246], 1402: [5212, 8529], 1404: [3310, 4850, 6698], 1149: [6628, 8772], 894: [6430], 896: [3877], 135: [6966], 394: [4798, 8608], 1421: [6281], 654: [4509], 1935: [4549], 146: [7826], 1683: [9555], 409: [4201], 1688: [6871, 7317], 1177: [10083], 1179: [3167], 924: [7442], 671: [5475], 934: [5458], 423: [7694], 1451: [6976], 1967: [5249], 438: [7806], 1209: [11001], 699: [10331], 444: [1201], 958: [9023], 703: [1837], 245: [10970], 714: [1876, 3914], 461: [2837], 469: [5129], 1240: [4718], 218: [9555], 1658: [4622], 549: [10919], 224: [10000], 2273: [9515], 742: [7695], 1148: [11310], 490: [9016], 381: [2104, 5700], 2288: [10948], 1521: [8978], 501: [7250, 12289], 2295: [10086], 818: [11295], 252: [8867], 2361: [7458], 1278: [6178], 2344: [11325]}\n",
      "2500\n",
      "{256: [11743], 772: [7065], 1287: [8735], 1034: [7133], 1547: [2738, 7177], 525: [3148], 1806: [10603], 45: [3556], 529: [1299, 12248], 2447: [9278, 11221], 1305: [5218, 6820], 543: [4285], 2336: [11166], 545: [11133], 1317: [9354], 2097: [2120, 8841], 552: [3546], 809: [7404], 263: [615], 813: [1535], 47: [2276, 10475], 1329: [7468], 1074: [2980], 1075: [4676], 312: [8136], 569: [6500], 991: [2832], 830: [4024], 577: [9278, 11652], 2389: [8873], 1351: [7977], 78: [714], 336: [10097], 597: [8563], 1721: [2324], 857: [7404], 2394: [7578], 1115: [1981], 1141: [4771], 327: [5326, 9636], 1211: [3881], 1095: [5941, 11159], 293: [2803, 9624], 870: [3516], 615: [11455], 2492: [5636], 1643: [5941], 1248: [4175], 111: [4038], 115: [7372], 1140: [2980, 8058, 10632, 11386], 1325: [9555, 12369], 887: [9323], 632: [5129], 633: [7246], 1402: [5212, 8529], 1404: [3310, 4850, 6698], 1149: [6628, 8772], 894: [6430], 896: [3877], 135: [6966], 394: [4798, 8608], 1421: [6281], 654: [4509], 1935: [4549], 146: [7826], 1683: [9555], 409: [4201], 1688: [6871, 7317], 1177: [10083], 1179: [3167], 924: [7442], 671: [5475], 934: [5458], 423: [7694], 2460: [9819], 1451: [6976], 1967: [5249], 438: [7806], 1209: [11001], 699: [10331], 444: [1201], 958: [9023], 703: [1837], 245: [10970], 714: [1876, 3914], 2423: [3653, 11581], 461: [2837], 469: [5129], 1240: [4718], 2428: [5719], 218: [9555], 1658: [4622], 549: [10919], 224: [10000], 2273: [9515], 742: [7695], 1148: [11310], 490: [9016], 381: [2104, 5700], 2288: [10948], 1521: [8978], 501: [7250, 12289], 2295: [10086], 818: [11295], 252: [8867], 2361: [7458], 1278: [6178], 2344: [11325]}\n",
      "2600\n",
      "{256: [11743], 2563: [4029, 7977], 772: [7065], 1287: [8735], 1034: [7133], 1547: [2738, 7177], 525: [3148], 1806: [10603], 45: [3556], 2576: [4347], 529: [1299, 12248], 2447: [9278, 11221], 1305: [5218, 6820], 543: [4285], 2336: [11166], 545: [11133], 2595: [8912, 9581, 11337], 1317: [9354], 2097: [2120, 8841], 552: [3546], 809: [7404], 263: [615], 813: [1535], 47: [2276, 10475], 1329: [7468], 1074: [2980], 1075: [4676], 312: [8136], 569: [6500], 991: [2832], 830: [4024], 577: [9278, 11652], 2389: [8873], 1351: [7977], 78: [714], 336: [10097], 597: [8563], 1721: [2324], 857: [7404], 2394: [7578], 1115: [1981], 1141: [4771], 327: [5326, 9636], 1211: [3881], 1095: [5941, 11159], 293: [2803, 9624], 870: [3516], 615: [11455], 2492: [5636], 1643: [5941], 1248: [4175], 111: [4038], 115: [7372], 1140: [2980, 8058, 10632, 11386], 1325: [9555, 12369], 887: [9323], 632: [5129], 633: [7246], 1402: [5212, 8529], 1404: [3310, 4850, 6698], 1149: [6628, 8772], 894: [6430], 896: [3877], 135: [6966], 394: [4798, 8608], 1421: [6281], 654: [4509], 1935: [4549], 146: [7826], 1683: [9555], 409: [4201], 1688: [6871, 7317], 1177: [10083], 1179: [3167], 924: [7442], 671: [5475], 934: [5458], 423: [7694], 2460: [9819], 1451: [6976], 1967: [5249], 438: [7806], 1209: [11001], 699: [10331], 444: [1201], 958: [9023], 703: [1837], 245: [10970], 2501: [2877], 2504: [3457], 714: [1876, 3914], 2423: [3653, 11581], 461: [2837], 2510: [8668, 10268], 469: [5129], 1240: [4718], 2428: [5719], 218: [9555], 1658: [4622], 549: [10919], 224: [10000], 2273: [9515], 742: [7695], 1148: [11310], 490: [9016], 381: [2104, 5700], 2288: [10948], 1521: [8978], 501: [7250, 12289], 2295: [10086], 818: [11295], 252: [8867], 2361: [7458], 1278: [6178], 2344: [11325]}\n",
      "2700\n",
      "{256: [11743], 2563: [4029, 7977], 772: [7065], 1287: [8735], 1034: [7133], 1547: [2738, 7177], 525: [3148], 1806: [10603], 45: [3556], 2576: [4347], 529: [1299, 12248], 2447: [9278, 11221], 1305: [5218, 6820], 2607: [3464], 543: [4285], 2336: [11166], 545: [11133], 2595: [8912, 9581, 11337], 1317: [9354], 2097: [2120, 8841], 552: [3546], 809: [7404], 263: [615], 813: [1535], 47: [2276, 10475], 1329: [7468], 1074: [2980], 1075: [4676], 2613: [9593], 312: [8136], 569: [6500], 991: [2832], 830: [4024], 577: [9278, 11652], 2389: [8873], 1351: [7977], 78: [714], 336: [10097], 2644: [4883], 597: [8563], 1721: [2324], 857: [7404], 2394: [7578], 1115: [1981], 1141: [4771], 327: [5326, 9636], 1211: [3881], 1095: [5941, 11159], 293: [2803, 9624], 870: [3516], 615: [11455], 2684: [11782], 2492: [5636], 1643: [5941], 2668: [8292], 1248: [4175], 111: [4038], 115: [7372], 1140: [2980, 8058, 10632, 11386], 1325: [9555, 12369], 887: [9323], 632: [5129], 633: [7246], 1402: [5212, 8529], 1404: [3310, 4850, 6698], 1149: [6628, 8772], 894: [6430], 896: [3877], 2693: [5983], 135: [6966], 394: [4798, 8608], 1421: [6281], 654: [4509], 1935: [4549], 146: [7826], 1683: [9555], 409: [4201], 1688: [6871, 7317], 1177: [10083], 1179: [3167], 924: [7442], 671: [5475], 934: [5458], 423: [7694], 2460: [9819], 1451: [6976], 1967: [5249], 438: [7806], 1209: [11001], 699: [10331], 444: [1201], 958: [9023], 703: [1837], 245: [10970], 2501: [2877], 2504: [3457], 714: [1876, 3914], 2423: [3653, 11581], 461: [2837], 2510: [8668, 10268], 469: [5129], 1240: [4718], 2428: [5719], 218: [9555], 1658: [4622], 549: [10919], 224: [10000], 2273: [9515], 742: [7695], 1148: [11310], 490: [9016], 381: [2104, 5700], 2288: [10948], 1521: [8978], 501: [7250, 12289], 2295: [10086], 818: [11295], 252: [8867], 2361: [7458], 1278: [6178], 2344: [11325]}\n"
     ]
    },
    {
     "name": "stdout",
     "output_type": "stream",
     "text": [
      "2800\n",
      "{256: [11743], 2563: [4029, 7977], 772: [7065], 1287: [8735], 1034: [7133], 1547: [2738, 7177], 525: [3148], 1806: [10603], 45: [3556], 2576: [4347], 529: [1299, 12248], 2447: [9278, 11221], 1305: [5218, 6820], 2607: [3464], 2750: [6877], 543: [4285], 2336: [11166], 545: [11133], 2595: [8912, 9581, 11337], 1317: [9354], 2097: [2120, 8841], 552: [3546], 809: [7404], 263: [615], 813: [1535], 47: [2276, 10475], 1329: [7468], 1074: [2980], 1075: [4676], 2613: [9593], 312: [8136], 569: [6500], 991: [2832], 830: [4024], 577: [9278, 11652], 2389: [8873], 1351: [7977], 78: [714], 336: [10097], 2644: [4883], 597: [8563], 1721: [2324], 857: [7404], 2394: [7578], 1115: [1981], 1141: [4771], 327: [5326, 9636], 1211: [3881], 1095: [5941, 11159], 293: [2803, 9624], 870: [3516], 615: [11455], 2684: [11782], 2492: [5636], 1643: [5941], 2668: [8292], 1248: [4175], 111: [4038], 115: [7372], 1140: [2980, 8058, 10632, 11386], 1325: [9555, 12369], 887: [9323], 632: [5129], 633: [7246], 1402: [5212, 8529], 1404: [3310, 4850, 6698], 1149: [6628, 8772], 894: [6430], 896: [3877], 2693: [5983], 135: [6966], 394: [4798, 8608], 1421: [6281], 654: [4509], 1935: [4549], 2712: [10119], 146: [7826], 1683: [9555], 2710: [6244], 409: [4201], 1688: [6871, 7317], 1177: [10083], 1179: [3167], 924: [7442], 671: [5475], 934: [5458], 423: [7694], 2728: [7317, 11529], 2460: [9819], 1451: [6976], 1967: [5249], 2738: [3981], 2739: [7832, 10365], 438: [7806], 1209: [11001], 2746: [2825], 699: [10331], 444: [1201], 958: [9023], 703: [1837], 245: [10970], 2501: [2877], 2504: [3457], 714: [1876, 3914], 2423: [3653, 11581], 461: [2837], 2510: [8668, 10268], 469: [5129], 1240: [4718], 2428: [5719], 218: [9555], 1658: [4622], 549: [10919], 224: [10000], 2273: [9515], 742: [7695], 1148: [11310], 490: [9016], 381: [2104, 5700], 2288: [10948], 1521: [8978], 501: [7250, 12289], 2295: [10086], 818: [11295], 252: [8867], 2361: [7458], 1278: [6178], 2344: [11325]}\n",
      "2900\n",
      "{256: [11743], 2801: [6620], 2563: [4029, 7977], 772: [7065], 1287: [8735], 1034: [7133], 1547: [2738, 7177], 525: [3148], 1806: [10603], 45: [3556], 2576: [4347], 529: [1299, 12248], 2447: [9278, 11221], 1305: [5218, 6820], 2607: [3464], 2750: [6877], 543: [4285], 2336: [11166], 545: [11133], 2595: [8912, 9581, 11337], 1317: [9354], 2097: [2120, 8841], 552: [3546], 809: [7404], 2858: [6844], 263: [615], 813: [1535], 2862: [10787], 47: [2276, 10475], 1329: [7468], 1074: [2980], 1075: [4676], 2613: [9593], 312: [8136], 569: [6500], 991: [2832], 830: [4024], 577: [9278, 11652], 2389: [8873], 1351: [7977], 78: [714], 336: [10097], 2644: [4883], 597: [8563], 1721: [2324], 857: [7404], 2394: [7578], 1115: [1981], 1141: [4771], 2832: [4650], 327: [5326, 9636], 1211: [3881], 1095: [5941, 11159], 293: [2803, 9624], 870: [3516], 615: [11455], 2684: [11782], 2492: [5636], 1643: [5941], 2668: [8292], 1248: [4175], 111: [4038], 115: [7372], 1140: [2980, 8058, 10632, 11386], 1325: [9555, 12369], 887: [9323], 632: [5129], 633: [7246], 1402: [5212, 8529], 1404: [3310, 4850, 6698], 1149: [6628, 8772], 894: [6430], 896: [3877], 2693: [5983], 135: [6966], 394: [4798, 8608], 1421: [6281], 654: [4509], 1935: [4549], 2712: [10119], 146: [7826], 1683: [9555], 2710: [6244], 409: [4201], 1688: [6871, 7317], 1177: [10083], 1179: [3167], 924: [7442], 671: [5475], 934: [5458], 423: [7694], 2728: [7317, 11529], 2460: [9819], 1451: [6976], 1967: [5249], 2738: [3981], 2739: [7832, 10365], 438: [7806], 1209: [11001], 2746: [2825], 699: [10331], 444: [1201], 958: [9023], 703: [1837], 245: [10970], 2501: [2877], 2504: [3457], 714: [1876, 3914], 2423: [3653, 11581], 461: [2837], 2510: [8668, 10268], 469: [5129], 1240: [4718], 2428: [5719], 218: [9555], 1658: [4622], 549: [10919], 224: [10000], 2273: [9515], 2812: [9916], 742: [7695], 1148: [11310], 490: [9016], 2855: [7521], 381: [2104, 5700], 2288: [10948], 1521: [8978], 501: [7250, 12289], 2295: [10086], 818: [11295], 252: [8867], 2361: [7458], 1278: [6178], 2344: [11325]}\n",
      "3000\n",
      "{256: [11743], 2801: [6620], 2563: [4029, 7977], 772: [7065], 1287: [8735], 1034: [7133], 1547: [2738, 7177], 525: [3148], 1806: [10603], 45: [3556], 2576: [4347], 529: [1299, 12248], 2447: [9278, 11221], 2975: [10827], 1305: [5218, 6820], 2607: [3464], 2750: [6877], 543: [4285], 2336: [11166], 545: [11133], 2595: [8912, 9581, 11337], 1317: [9354], 2097: [2120, 8841], 552: [3546], 809: [7404], 2858: [6844], 263: [615], 813: [1535], 2862: [10787], 47: [2276, 10475], 1329: [7468], 1074: [2980], 1075: [4676], 2613: [9593], 312: [8136], 569: [6500], 991: [2832], 830: [4024], 577: [9278, 11652], 2389: [8873], 1351: [7977], 78: [714], 336: [10097], 2915: [4240], 2644: [4883], 597: [8563], 1721: [2324], 857: [7404], 2394: [7578], 1115: [1981], 1141: [4771], 2910: [8735], 2832: [4650], 327: [5326, 9636], 1211: [3881], 1095: [5941, 11159], 293: [2803, 9624], 870: [3516], 615: [11455], 2684: [11782], 2492: [5636], 1643: [5941], 2668: [8292], 1248: [4175], 111: [4038], 115: [7372], 1140: [2980, 8058, 10632, 11386], 1325: [9555, 12369], 887: [9323], 632: [5129], 633: [7246], 1402: [5212, 8529], 1404: [3310, 4850, 6698], 1149: [6628, 8772], 894: [6430], 896: [3877], 2693: [5983], 135: [6966], 394: [4798, 8608], 1421: [6281], 654: [4509], 1935: [4549], 2712: [10119], 146: [7826], 1683: [9555], 2710: [6244], 409: [4201], 1688: [6871, 7317], 1177: [10083], 1179: [3167], 924: [7442], 671: [5475], 2979: [5339], 934: [5458], 423: [7694], 2728: [7317, 11529], 2460: [9819], 1451: [6976], 1967: [5249], 2738: [3981], 2739: [7832, 10365], 438: [7806], 1209: [11001], 2746: [2825], 699: [10331], 444: [1201], 958: [9023], 703: [1837], 245: [10970], 2501: [2877], 2504: [3457], 714: [1876, 3914], 2423: [3653, 11581], 461: [2837], 2510: [8668, 10268], 469: [5129], 1240: [4718], 2428: [5719], 218: [9555], 1658: [4622], 549: [10919], 224: [10000], 2273: [9515], 2812: [9916], 742: [7695], 1148: [11310], 490: [9016], 2855: [7521], 381: [2104, 5700], 2288: [10948], 1521: [8978], 501: [7250, 12289], 2295: [10086], 818: [11295], 252: [8867], 2361: [7458], 1278: [6178], 2344: [11325]}\n",
      "3100\n",
      "{256: [11743], 2801: [6620], 2563: [4029, 7977], 772: [7065], 1287: [8735], 1034: [7133], 1547: [2738, 7177], 525: [3148], 1806: [10603], 45: [3556], 2576: [4347], 529: [1299, 12248], 2447: [9278, 11221], 2975: [10827], 1305: [5218, 6820], 2607: [3464], 2750: [6877], 543: [4285], 2336: [11166], 545: [11133], 2595: [8912, 9581, 11337], 1317: [9354], 2097: [2120, 8841], 552: [3546], 809: [7404], 2858: [6844], 263: [615], 813: [1535], 2862: [10787], 47: [2276, 10475], 1329: [7468], 1074: [2980], 1075: [4676], 2613: [9593], 312: [8136], 569: [6500], 991: [2832], 830: [4024], 577: [9278, 11652], 3083: [4562], 2389: [8873], 1351: [7977], 78: [714], 336: [10097], 2915: [4240], 2644: [4883], 597: [8563], 1721: [2324], 857: [7404], 2394: [7578], 1115: [1981], 1141: [4771], 2910: [8735], 2832: [4650], 327: [5326, 9636], 1211: [3881], 1095: [5941, 11159], 293: [2803, 9624], 870: [3516], 615: [11455], 2684: [11782], 2492: [5636], 1643: [5941], 2668: [8292], 1248: [4175], 111: [4038], 115: [7372], 1140: [2980, 8058, 10632, 11386], 1325: [9555, 12369], 887: [9323], 632: [5129], 633: [7246], 1402: [5212, 8529], 1404: [3310, 4850, 6698], 1149: [6628, 8772], 894: [6430], 896: [3877], 2693: [5983], 135: [6966], 394: [4798, 8608], 1421: [6281], 654: [4509], 1935: [4549], 2712: [10119], 146: [7826], 1683: [9555], 2710: [6244], 409: [4201], 1688: [6871, 7317], 1177: [10083], 1179: [3167], 924: [7442], 671: [5475], 2979: [5339], 3040: [5731], 934: [5458], 423: [7694], 2728: [7317, 11529], 2460: [9819], 1451: [6976], 1967: [5249], 2738: [3981], 2739: [7832, 10365], 438: [7806], 1209: [11001], 2746: [2825], 699: [10331], 444: [1201], 958: [9023], 703: [1837], 245: [10970], 3012: [6797], 2501: [2877], 2504: [3457], 714: [1876, 3914], 2423: [3653, 11581], 3063: [7729], 461: [2837], 2510: [8668, 10268], 469: [5129], 1240: [4718], 2428: [5719], 218: [9555], 1658: [4622], 549: [10919], 224: [10000], 2273: [9515], 2812: [9916], 742: [7695], 1148: [11310], 490: [9016], 2855: [7521], 3054: [4109], 381: [2104, 5700], 2288: [10948], 1521: [8978], 501: [7250, 12289], 2295: [10086], 818: [11295], 252: [8867], 2361: [7458], 1278: [6178], 2344: [11325]}\n"
     ]
    },
    {
     "name": "stdout",
     "output_type": "stream",
     "text": [
      "3200\n",
      "{256: [11743], 2801: [6620], 2563: [4029, 7977], 772: [7065], 1287: [8735], 1034: [7133], 1547: [2738, 7177], 525: [3148], 1806: [10603], 45: [3556], 2576: [4347], 529: [1299, 12248], 2447: [9278, 11221], 2975: [10827], 1305: [5218, 6820], 2607: [3464], 2750: [6877], 543: [4285], 2336: [11166], 545: [11133], 2595: [8912, 9581, 11337], 1317: [9354], 2097: [2120, 8841], 552: [3546], 809: [7404], 2858: [6844], 263: [615], 813: [1535], 2862: [10787], 47: [2276, 10475], 1329: [7468], 1074: [2980], 1075: [4676], 2613: [9593], 312: [8136], 569: [6500], 991: [2832], 830: [4024], 577: [9278, 11652], 3083: [4562], 2389: [8873], 1351: [7977], 78: [714], 336: [10097], 2915: [4240], 2644: [4883], 597: [8563], 1721: [2324], 857: [7404], 2394: [7578], 1115: [1981], 1141: [4771], 2910: [8735], 2832: [4650], 327: [5326, 9636], 1211: [3881], 1095: [5941, 11159], 293: [2803, 9624], 870: [3516], 615: [11455], 2684: [11782], 2492: [5636], 1643: [5941], 2668: [8292], 1248: [4175], 111: [4038], 115: [7372], 1140: [2980, 8058, 10632, 11386], 1325: [9555, 12369], 887: [9323], 632: [5129], 633: [7246], 1402: [5212, 8529], 1404: [3310, 4850, 6698], 1149: [6628, 8772], 894: [6430], 896: [3877], 2693: [5983], 135: [6966], 394: [4798, 8608], 1421: [6281], 654: [4509], 1935: [4549], 2712: [10119], 146: [7826], 1683: [9555], 2710: [6244], 409: [4201], 1688: [6871, 7317], 1177: [10083], 1179: [3167], 924: [7442], 671: [5475], 2979: [5339], 3040: [5731], 934: [5458], 423: [7694], 2728: [7317, 11529], 2460: [9819], 1451: [6976], 1967: [5249], 2738: [3981], 2739: [7832, 10365], 438: [7806], 1209: [11001], 2746: [2825], 699: [10331], 444: [1201], 958: [9023], 703: [1837], 245: [10970], 3012: [6797], 2501: [2877], 3134: [8560], 2504: [3457], 714: [1876, 3914], 2423: [3653, 11581], 3063: [7729], 461: [2837], 2510: [8668, 10268], 469: [5129], 1240: [4718], 2428: [5719], 218: [9555], 1658: [4622], 549: [10919], 224: [10000], 2273: [9515], 3187: [3548], 2812: [9916], 742: [7695], 1148: [11310], 490: [9016], 2855: [7521], 3054: [4109], 381: [2104, 5700], 2288: [10948], 1521: [8978], 3155: [3454], 501: [7250, 12289], 2295: [10086], 818: [11295], 252: [8867], 2361: [7458], 1278: [6178], 2344: [11325]}\n",
      "3300\n",
      "{256: [11743], 2801: [6620], 2563: [4029, 7977], 772: [7065], 1287: [8735], 1034: [7133], 1547: [2738, 7177], 525: [3148], 1806: [10603], 45: [3556], 2576: [4347], 529: [1299, 12248], 2447: [9278, 11221], 2975: [10827], 1305: [5218, 6820], 2607: [3464], 2750: [6877], 543: [4285], 2336: [11166], 545: [11133], 2595: [8912, 9581, 11337], 1317: [9354], 2097: [2120, 8841], 552: [3546], 809: [7404], 2858: [6844], 263: [615], 813: [1535], 2862: [10787], 47: [2276, 10475], 1329: [7468], 1074: [2980], 1075: [4676], 2613: [9593], 312: [8136], 569: [6500], 991: [2832], 830: [4024], 577: [9278, 11652], 3083: [4562], 2389: [8873], 1351: [7977], 78: [714], 336: [10097], 2915: [4240], 2644: [4883], 597: [8563], 1721: [2324], 857: [7404], 2394: [7578], 1115: [1981], 1141: [4771], 2910: [8735], 2832: [4650], 327: [5326, 9636], 1211: [3881], 1095: [5941, 11159], 293: [2803, 9624], 870: [3516], 615: [11455], 2684: [11782], 2492: [5636], 1643: [5941], 2668: [8292], 1248: [4175], 111: [4038], 115: [7372], 1140: [2980, 8058, 10632, 11386], 1325: [9555, 12369], 887: [9323], 632: [5129], 633: [7246], 1402: [5212, 8529], 1404: [3310, 4850, 6698], 1149: [6628, 8772], 894: [6430], 896: [3877], 2693: [5983], 135: [6966], 394: [4798, 8608], 1421: [6281], 654: [4509], 1935: [4549], 2712: [10119], 146: [7826], 1683: [9555], 2710: [6244], 409: [4201], 1688: [6871, 7317], 1177: [10083], 3226: [3556, 4038], 1179: [3167], 924: [7442], 671: [5475], 2979: [5339], 3040: [5731], 934: [5458], 423: [7694], 2728: [7317, 11529], 2460: [9819], 1451: [6976], 3246: [6048, 8187], 1967: [5249], 2738: [3981], 2739: [7832, 10365], 438: [7806], 3256: [12342], 1209: [11001], 2746: [2825], 699: [10331], 444: [1201], 3274: [7830], 958: [9023], 703: [1837], 245: [10970], 3012: [6797], 2501: [2877], 3134: [8560], 2504: [3457], 714: [1876, 3914], 2423: [3653, 11581], 3063: [7729], 461: [2837], 2510: [8668, 10268], 3279: [10906], 469: [5129], 1240: [4718], 2428: [5719], 218: [9555], 1658: [4622], 549: [10919], 224: [10000], 2273: [9515], 3187: [3548], 2812: [9916], 742: [7695], 1148: [11310], 490: [9016], 2855: [7521], 3054: [4109], 381: [2104, 5700], 2288: [10948], 1521: [8978], 3155: [3454], 501: [7250, 12289], 2295: [10086], 818: [11295], 252: [8867], 2361: [7458], 1278: [6178], 2344: [11325]}\n",
      "3400\n",
      "{256: [11743], 2801: [6620], 2563: [4029, 7977], 772: [7065], 1287: [8735], 1034: [7133], 1547: [2738, 7177], 525: [3148], 1806: [10603], 45: [3556], 2576: [4347], 529: [1299, 12248], 2447: [9278, 11221], 2975: [10827], 3352: [4973], 1305: [5218, 6820], 2607: [3464], 3356: [9654], 3357: [8918, 10340, 11071], 2750: [6877], 543: [4285], 2336: [11166], 545: [11133], 2595: [8912, 9581, 11337], 1317: [9354], 2097: [2120, 8841], 552: [3546], 809: [7404], 2858: [6844], 263: [615], 813: [1535], 2862: [10787], 47: [2276, 10475], 1329: [7468], 1074: [2980], 1075: [4676], 2613: [9593], 312: [8136], 569: [6500], 991: [2832], 830: [4024], 577: [9278, 11652], 3083: [4562], 2389: [8873], 1351: [7977], 78: [714], 336: [10097], 2915: [4240], 2644: [4883], 597: [8563], 1721: [2324], 857: [7404], 2394: [7578], 1115: [1981], 1141: [4771], 2910: [8735], 3306: [11263], 2832: [4650], 327: [5326, 9636], 1211: [3881], 1095: [5941, 11159], 293: [2803, 9624], 870: [3516], 615: [11455], 2684: [11782], 2492: [5636], 1643: [5941], 2668: [8292], 1248: [4175], 111: [4038], 115: [7372], 1140: [2980, 8058, 10632, 11386], 1325: [9555, 12369], 887: [9323], 632: [5129], 633: [7246], 1402: [5212, 8529], 1404: [3310, 4850, 6698], 1149: [6628, 8772], 894: [6430], 896: [3877], 3344: [6896], 2693: [5983], 135: [6966], 394: [4798, 8608], 1421: [6281], 654: [4509], 1935: [4549], 2712: [10119], 146: [7826], 1683: [9555], 3310: [6698], 2710: [6244], 409: [4201], 1688: [6871, 7317], 1177: [10083], 3226: [3556, 4038], 1179: [3167], 924: [7442], 671: [5475], 2979: [5339], 3040: [5731], 934: [5458], 423: [7694], 2728: [7317, 11529], 2460: [9819], 1451: [6976], 3246: [6048, 8187], 1967: [5249], 3377: [6428], 2738: [3981], 2739: [7832, 10365], 438: [7806], 3256: [12342], 1209: [11001], 2746: [2825], 699: [10331], 444: [1201], 3274: [7830], 958: [9023], 703: [1837], 245: [10970], 3012: [6797], 2501: [2877], 3134: [8560], 2504: [3457], 714: [1876, 3914], 2423: [3653, 11581], 3063: [7729], 461: [2837], 2510: [8668, 10268], 3279: [10906], 469: [5129], 1240: [4718], 2428: [5719], 218: [9555], 1658: [4622], 549: [10919], 224: [10000], 2273: [9515], 3187: [3548], 2812: [9916], 742: [7695], 1148: [11310], 490: [9016], 2855: [7521], 3054: [4109], 381: [2104, 5700], 2288: [10948], 1521: [8978], 3155: [3454], 501: [7250, 12289], 2295: [10086], 3320: [4342], 818: [11295], 252: [8867], 2361: [7458], 1278: [6178], 2344: [11325]}\n",
      "3500\n",
      "{256: [11743], 2801: [6620], 2563: [4029, 7977], 772: [7065], 1287: [8735], 1034: [7133], 1547: [2738, 7177], 525: [3148], 1806: [10603], 45: [3556], 2576: [4347], 529: [1299, 12248], 2447: [9278, 11221], 2975: [10827], 3352: [4973], 1305: [5218, 6820], 2607: [3464], 3356: [9654], 3357: [8918, 10340, 11071], 2750: [6877], 543: [4285], 2336: [11166], 545: [11133], 2595: [8912, 9581, 11337], 1317: [9354], 2097: [2120, 8841], 552: [3546], 809: [7404], 2858: [6844], 263: [615], 813: [1535], 2862: [10787], 47: [2276, 10475], 1329: [7468], 1074: [2980], 1075: [4676], 2613: [9593], 3437: [3961, 7372], 312: [8136], 569: [6500], 991: [2832], 3466: [9569], 830: [4024], 577: [9278, 11652], 3480: [7475], 3083: [4562], 2389: [8873], 1351: [7977], 78: [714], 336: [10097], 2915: [4240], 2644: [4883], 597: [8563], 1721: [2324], 857: [7404], 2394: [7578], 1115: [1981], 1141: [4771], 2910: [8735], 3306: [11263], 2832: [4650], 327: [5326, 9636], 1211: [3881], 1095: [5941, 11159], 293: [2803, 9624], 870: [3516], 615: [11455], 2684: [11782], 2492: [5636], 1643: [5941], 2668: [8292], 1248: [4175], 111: [4038], 3442: [8343], 115: [7372], 1140: [2980, 8058, 10632, 11386], 1325: [9555, 12369], 887: [9323], 632: [5129], 633: [7246], 1402: [5212, 8529], 1404: [3310, 4850, 6698], 1149: [6628, 8772], 894: [6430], 896: [3877], 3344: [6896], 2693: [5983], 3496: [7095], 135: [6966], 394: [4798, 8608], 1421: [6281], 654: [4509], 1935: [4549], 2712: [10119], 146: [7826], 1683: [9555], 3310: [6698], 2710: [6244], 409: [4201], 1688: [6871, 7317], 1177: [10083], 3226: [3556, 4038], 1179: [3167], 924: [7442], 671: [5475], 2979: [5339], 3040: [5731], 934: [5458], 423: [7694], 2728: [7317, 11529], 2460: [9819], 1451: [6976], 3246: [6048, 8187], 1967: [5249], 3377: [6428], 2738: [3981], 2739: [7832, 10365], 3450: [4644], 438: [7806], 3256: [12342], 1209: [11001], 2746: [2825], 699: [10331], 444: [1201], 3274: [7830], 958: [9023], 703: [1837], 245: [10970], 3012: [6797], 2501: [2877], 3134: [8560], 2504: [3457], 714: [1876, 3914], 2423: [3653, 11581], 3063: [7729], 461: [2837], 2510: [8668, 10268], 3279: [10906], 469: [5129], 1240: [4718], 2428: [5719], 218: [9555], 1658: [4622], 549: [10919], 224: [10000], 2273: [9515], 3187: [3548], 2812: [9916], 742: [7695], 3494: [10331], 1148: [11310], 490: [9016], 2855: [7521], 3054: [4109], 381: [2104, 5700], 2288: [10948], 1521: [8978], 3155: [3454], 501: [7250, 12289], 2295: [10086], 3320: [4342], 818: [11295], 252: [8867], 2361: [7458], 1278: [6178], 2344: [11325]}\n"
     ]
    },
    {
     "name": "stdout",
     "output_type": "stream",
     "text": [
      "3600\n",
      "{3585: [11280], 2563: [4029, 7977], 1034: [7133], 1547: [2738, 7177], 525: [3148], 2576: [4347], 529: [1299, 12248], 444: [1201], 543: [4285], 545: [11133], 2595: [8912, 9581, 11337], 549: [10919], 552: [3546], 263: [615], 45: [3556], 2607: [3464], 2097: [2120, 8841], 1074: [2980], 1075: [4676], 2613: [9593], 569: [6500], 1451: [6976], 3134: [8560], 577: [9278, 11652], 3083: [4562], 1095: [5941, 11159], 78: [714], 3155: [3454], 2644: [4883], 597: [8563], 1209: [11001], 1115: [1981], 3344: [6896], 699: [10331], 615: [11455], 3516: [11617], 1643: [5941], 2668: [8292], 111: [4038], 115: [7372], 1140: [2980, 8058, 10632, 11386], 1141: [4771], 632: [5129], 633: [7246], 1658: [4622], 2684: [11782], 1149: [6628, 8772], 2693: [5983], 135: [6966], 654: [4509], 146: [7826], 1683: [9555], 2710: [6244], 2712: [10119], 1177: [10083], 3226: [3556, 4038], 1179: [3167], 671: [5475], 2728: [7317, 11529], 3246: [6048, 8187], 1148: [11310], 2738: [3981], 2739: [7832, 10365], 3256: [12342], 1721: [2324], 2746: [2825], 1211: [3881], 714: [1876, 3914], 2750: [6877], 703: [1837], 3274: [7830], 2423: [3653, 11581], 3279: [10906], 1240: [4718], 218: [9555], 3450: [4644], 293: [2803, 9624], 1248: [4175], 2273: [9515], 742: [7695], 2428: [5719], 3306: [11263], 2855: [7521], 3310: [6698], 2288: [10948], 2801: [6620], 245: [10970], 2295: [10086], 3320: [4342], 2812: [9916], 1278: [6178], 256: [11743], 772: [7065], 1287: [8735], 1806: [10603], 1325: [9555, 12369], 2832: [4650], 3352: [4973], 1305: [5218, 6820], 47: [2276, 10475], 3356: [9654], 3357: [8918, 10340, 11071], 2336: [11166], 1317: [9354], 3377: [6428], 2344: [11325], 809: [7404], 2858: [6844], 813: [1535], 2862: [10787], 1329: [7468], 818: [11295], 312: [8136], 2361: [7458], 394: [4798, 8608], 830: [4024], 224: [10000], 1351: [7977], 336: [10097], 2389: [8873], 857: [7404], 2394: [7578], 1935: [4549], 2910: [8735], 2915: [4240], 870: [3516], 3437: [3961, 7372], 3442: [8343], 887: [9323], 1402: [5212, 8529], 1404: [3310, 4850, 6698], 381: [2104, 5700], 894: [6430], 896: [3877], 3466: [9569], 1421: [6281], 2447: [9278, 11221], 1688: [6871, 7317], 3480: [7475], 409: [4201], 924: [7442], 2975: [10827], 2979: [5339], 934: [5458], 423: [7694], 3496: [7095], 2460: [9819], 327: [5326, 9636], 1967: [5249], 438: [7806], 3515: [4394], 2492: [5636], 958: [9023], 3012: [6797], 2501: [2877], 2504: [3457], 3529: [11175], 461: [2837], 2510: [8668, 10268], 3535: [12100], 469: [5129], 991: [2832], 3040: [5731], 3187: [3548], 3556: [8136], 3494: [10331], 252: [8867], 490: [9016], 3054: [4109], 1521: [8978], 501: [7250, 12289], 3063: [7729]}\n",
      "3700\n",
      "{3585: [11280], 2563: [4029, 7977], 1034: [7133], 1547: [2738, 7177], 525: [3148], 2576: [4347], 529: [1299, 12248], 444: [1201], 543: [4285], 545: [11133], 2595: [8912, 9581, 11337], 549: [10919], 552: [3546], 263: [615], 45: [3556], 2607: [3464], 2097: [2120, 8841], 1074: [2980], 1075: [4676], 2613: [9593], 569: [6500], 1451: [6976], 3134: [8560], 577: [9278, 11652], 3083: [4562], 3653: [8446], 1095: [5941, 11159], 3658: [10447], 78: [714], 3155: [3454], 2644: [4883], 597: [8563], 1209: [11001], 3672: [10592], 1115: [1981], 3344: [6896], 699: [10331], 615: [11455], 3516: [11617], 1643: [5941], 2668: [8292], 111: [4038], 115: [7372], 1140: [2980, 8058, 10632, 11386], 1141: [4771], 632: [5129], 633: [7246], 1658: [4622], 2684: [11782], 1149: [6628, 8772], 2693: [5983], 135: [6966], 654: [4509], 146: [7826], 1683: [9555], 2710: [6244], 2712: [10119], 1177: [10083], 3226: [3556, 4038], 1179: [3167], 671: [5475], 2728: [7317, 11529], 3246: [6048, 8187], 1148: [11310], 2738: [3981], 2739: [7832, 10365], 3256: [12342], 1721: [2324], 2746: [2825], 1211: [3881], 714: [1876, 3914], 2750: [6877], 703: [1837], 3274: [7830], 2423: [3653, 11581], 3279: [10906], 1240: [4718], 218: [9555], 3450: [4644], 293: [2803, 9624], 1248: [4175], 2273: [9515], 742: [7695], 2428: [5719], 3306: [11263], 2855: [7521], 3310: [6698], 2288: [10948], 2801: [6620], 245: [10970], 2295: [10086], 3320: [4342], 2812: [9916], 1278: [6178], 256: [11743], 772: [7065], 1287: [8735], 1806: [10603], 1325: [9555, 12369], 2832: [4650], 3352: [4973], 1305: [5218, 6820], 47: [2276, 10475], 3356: [9654], 3357: [8918, 10340, 11071], 2336: [11166], 1317: [9354], 3377: [6428], 2344: [11325], 809: [7404], 2858: [6844], 813: [1535], 2862: [10787], 1329: [7468], 818: [11295], 312: [8136], 2361: [7458], 394: [4798, 8608], 830: [4024], 224: [10000], 1351: [7977], 336: [10097], 2389: [8873], 857: [7404], 2394: [7578], 1935: [4549], 2910: [8735], 2915: [4240], 870: [3516], 3437: [3961, 7372], 3442: [8343], 887: [9323], 1402: [5212, 8529], 1404: [3310, 4850, 6698], 381: [2104, 5700], 894: [6430], 896: [3877], 3466: [9569], 1421: [6281], 2447: [9278, 11221], 1688: [6871, 7317], 3480: [7475], 409: [4201], 924: [7442], 2975: [10827], 2979: [5339], 934: [5458], 423: [7694], 3496: [7095], 2460: [9819], 327: [5326, 9636], 1967: [5249], 438: [7806], 3515: [4394], 2492: [5636], 958: [9023], 3012: [6797], 2501: [2877], 2504: [3457], 3529: [11175], 461: [2837], 2510: [8668, 10268], 3535: [12100], 469: [5129], 991: [2832], 3040: [5731], 3187: [3548], 3556: [8136], 3494: [10331], 252: [8867], 490: [9016], 3054: [4109], 1521: [8978], 501: [7250, 12289], 3063: [7729]}\n",
      "3800\n",
      "{3585: [11280], 2563: [4029, 7977], 1034: [7133], 1547: [2738, 7177], 525: [3148], 2576: [4347], 529: [1299, 12248], 444: [1201], 543: [4285], 545: [11133], 2595: [8912, 9581, 11337], 549: [10919], 552: [3546], 263: [615], 45: [3556], 2607: [3464], 2097: [2120, 8841], 1074: [2980], 1075: [4676], 2613: [9593], 569: [6500], 1451: [6976], 3134: [8560], 577: [9278, 11652], 3083: [4562], 3653: [8446], 1095: [5941, 11159], 3658: [10447], 78: [714], 3155: [3454], 2644: [4883], 597: [8563], 1209: [11001], 3672: [10592], 1115: [1981], 3344: [6896], 699: [10331], 615: [11455], 3516: [11617], 1643: [5941], 2668: [8292], 111: [4038], 115: [7372], 1140: [2980, 8058, 10632, 11386], 1141: [4771], 3703: [6300], 632: [5129], 633: [7246], 1658: [4622], 2684: [11782], 1149: [6628, 8772], 2693: [5983], 135: [6966], 654: [4509], 146: [7826], 1683: [9555], 2710: [6244], 2712: [10119], 1177: [10083], 3226: [3556, 4038], 1179: [3167], 671: [5475], 3749: [10919], 2728: [7317, 11529], 3246: [6048, 8187], 1148: [11310], 2738: [3981], 2739: [7832, 10365], 3256: [12342], 1721: [2324], 2746: [2825], 1211: [3881], 714: [1876, 3914], 2750: [6877], 703: [1837], 3274: [7830], 2423: [3653, 11581], 3279: [10906], 1240: [4718], 218: [9555], 3450: [4644], 293: [2803, 9624], 1248: [4175], 2273: [9515], 742: [7695], 2428: [5719], 3306: [11263], 2855: [7521], 3310: [6698], 2288: [10948], 2801: [6620], 245: [10970], 2295: [10086], 3320: [4342], 2812: [9916], 1278: [6178], 256: [11743], 772: [7065], 1287: [8735], 1806: [10603], 1325: [9555, 12369], 2832: [4650], 3352: [4973], 1305: [5218, 6820], 47: [2276, 10475], 3356: [9654], 3357: [8918, 10340, 11071], 2336: [11166], 1317: [9354], 3377: [6428], 2344: [11325], 809: [7404], 2858: [6844], 813: [1535], 2862: [10787], 1329: [7468], 818: [11295], 312: [8136], 2361: [7458], 394: [4798, 8608], 830: [4024], 224: [10000], 1351: [7977], 336: [10097], 2389: [8873], 857: [7404], 2394: [7578], 1935: [4549], 2910: [8735], 2915: [4240], 870: [3516], 3437: [3961, 7372], 3442: [8343], 887: [9323], 1402: [5212, 8529], 1404: [3310, 4850, 6698], 381: [2104, 5700], 894: [6430], 896: [3877], 3466: [9569], 1421: [6281], 2447: [9278, 11221], 1688: [6871, 7317], 3480: [7475], 409: [4201], 924: [7442], 2975: [10827], 2979: [5339], 934: [5458], 423: [7694], 3496: [7095], 2460: [9819], 327: [5326, 9636], 1967: [5249], 438: [7806], 3515: [4394], 2492: [5636], 958: [9023], 3012: [6797], 2501: [2877], 2504: [3457], 3529: [11175], 461: [2837], 2510: [8668, 10268], 3535: [12100], 469: [5129], 991: [2832], 3040: [5731], 3187: [3548], 3556: [8136], 3494: [10331], 252: [8867], 490: [9016], 3054: [4109], 1521: [8978], 501: [7250, 12289], 3063: [7729]}\n",
      "3900\n",
      "{3585: [11280], 2563: [4029, 7977], 1034: [7133], 1547: [2738, 7177], 525: [3148], 2576: [4347], 529: [1299, 12248], 444: [1201], 543: [4285], 545: [11133], 2595: [8912, 9581, 11337], 549: [10919], 552: [3546], 263: [615], 45: [3556], 2607: [3464], 2097: [2120, 8841], 1074: [2980], 1075: [4676], 2613: [9593], 569: [6500], 1451: [6976], 3134: [8560], 577: [9278, 11652], 3083: [4562], 3653: [8446], 1095: [5941, 11159], 3658: [10447], 78: [714], 3155: [3454], 2644: [4883], 597: [8563], 1209: [11001], 3672: [10592], 1115: [1981], 3344: [6896], 699: [10331], 615: [11455], 3516: [11617], 1643: [5941], 2668: [8292], 111: [4038], 115: [7372], 1140: [2980, 8058, 10632, 11386], 1141: [4771], 3703: [6300], 632: [5129], 633: [7246], 1658: [4622], 2684: [11782], 1149: [6628, 8772], 2693: [5983], 135: [6966], 654: [4509], 146: [7826], 1683: [9555], 2710: [6244], 2712: [10119], 1177: [10083], 3226: [3556, 4038], 1179: [3167], 671: [5475], 3749: [10919], 2728: [7317, 11529], 3246: [6048, 8187], 1148: [11310], 2738: [3981], 2739: [7832, 10365], 3256: [12342], 1721: [2324], 2746: [2825], 1211: [3881], 714: [1876, 3914], 2750: [6877], 703: [1837], 3274: [7830], 2423: [3653, 11581], 3279: [10906], 3877: [4562], 1240: [4718], 218: [9555], 3450: [4644], 293: [2803, 9624], 1248: [4175], 2273: [9515], 3812: [12030], 742: [7695], 2428: [5719], 3306: [11263], 2855: [7521], 3820: [10349], 3310: [6698], 2288: [10948], 2801: [6620], 245: [10970], 3830: [9274, 11388], 2295: [10086], 3320: [4342], 2812: [9916], 1278: [6178], 256: [11743], 3843: [8383, 9062], 772: [7065], 1287: [8735], 1806: [10603], 1325: [9555, 12369], 2832: [4650], 3352: [4973], 1305: [5218, 6820], 47: [2276, 10475], 3356: [9654], 3357: [8918, 10340, 11071], 2336: [11166], 1317: [9354], 3377: [6428], 2344: [11325], 809: [7404], 2858: [6844], 813: [1535], 2862: [10787], 1329: [7468], 818: [11295], 312: [8136], 2361: [7458], 3899: [6699], 394: [4798, 8608], 830: [4024], 224: [10000], 1351: [7977], 336: [10097], 2389: [8873], 857: [7404], 2394: [7578], 1935: [4549], 2910: [8735], 2915: [4240], 870: [3516], 3437: [3961, 7372], 3442: [8343], 887: [9323], 1402: [5212, 8529], 1404: [3310, 4850, 6698], 381: [2104, 5700], 894: [6430], 896: [3877], 3466: [9569], 1421: [6281], 2447: [9278, 11221], 1688: [6871, 7317], 3480: [7475], 409: [4201], 924: [7442], 2975: [10827], 2979: [5339], 934: [5458], 423: [7694], 3496: [7095], 2460: [9819], 327: [5326, 9636], 1967: [5249], 438: [7806], 3515: [4394], 2492: [5636], 958: [9023], 3012: [6797], 2501: [2877], 2504: [3457], 3529: [11175], 3831: [8633, 10187, 11102], 461: [2837], 2510: [8668, 10268], 3535: [12100], 469: [5129], 991: [2832], 3040: [5731], 3187: [3548], 3556: [8136], 3494: [10331], 252: [8867], 490: [9016], 3054: [4109], 1521: [8978], 501: [7250, 12289], 3063: [7729]}\n"
     ]
    },
    {
     "name": "stdout",
     "output_type": "stream",
     "text": [
      "4000\n",
      "{3585: [11280], 2563: [4029, 7977], 1034: [7133], 1547: [2738, 7177], 525: [3148], 2576: [4347], 529: [1299, 12248], 444: [1201], 543: [4285], 545: [11133], 2595: [8912, 9581, 11337], 549: [10919], 552: [3546], 263: [615], 45: [3556], 2607: [3464], 2097: [2120, 8841], 1074: [2980], 1075: [4676], 2613: [9593], 569: [6500], 1451: [6976], 3134: [8560], 577: [9278, 11652], 3083: [4562], 3653: [8446], 1095: [5941, 11159], 3658: [10447], 78: [714], 3155: [3454], 2644: [4883], 597: [8563], 1209: [11001], 3672: [10592], 1115: [1981], 3344: [6896], 699: [10331], 3942: [9788], 615: [11455], 3516: [11617], 1643: [5941], 2668: [8292], 111: [4038], 115: [7372], 1140: [2980, 8058, 10632, 11386], 1141: [4771], 3703: [6300], 632: [5129], 633: [7246], 1658: [4622], 2684: [11782], 1149: [6628, 8772], 2693: [5983], 135: [6966], 654: [4509], 146: [7826], 1683: [9555], 2710: [6244], 2712: [10119], 1177: [10083], 3226: [3556, 4038], 1179: [3167], 671: [5475], 3749: [10919], 2728: [7317, 11529], 3246: [6048, 8187], 1148: [11310], 2738: [3981], 2739: [7832, 10365], 3256: [12342], 1721: [2324], 2746: [2825], 1211: [3881], 714: [1876, 3914], 2750: [6877], 703: [1837], 3274: [7830], 2423: [3653, 11581], 3279: [10906], 3877: [4562], 1240: [4718], 218: [9555], 3450: [4644], 293: [2803, 9624], 1248: [4175], 2273: [9515], 3812: [12030], 742: [7695], 2428: [5719], 3306: [11263], 2855: [7521], 3820: [10349], 3310: [6698], 2288: [10948], 2801: [6620], 245: [10970], 3830: [9274, 11388], 2295: [10086], 3320: [4342], 2812: [9916], 1278: [6178], 256: [11743], 3843: [8383, 9062], 772: [7065], 1287: [8735], 1806: [10603], 1325: [9555, 12369], 2832: [4650], 3352: [4973], 1305: [5218, 6820], 47: [2276, 10475], 3356: [9654], 3357: [8918, 10340, 11071], 2336: [11166], 1317: [9354], 3377: [6428], 2344: [11325], 809: [7404], 2858: [6844], 813: [1535], 2862: [10787], 1329: [7468], 818: [11295], 312: [8136], 2361: [7458], 3899: [6699], 394: [4798, 8608], 830: [4024], 224: [10000], 1351: [7977], 3981: [6328, 6515], 336: [10097], 2389: [8873], 857: [7404], 2394: [7578], 1935: [4549], 2910: [8735], 2915: [4240], 870: [3516], 3944: [10670], 3437: [3961, 7372], 3442: [8343], 3956: [11857], 887: [9323], 1402: [5212, 8529], 1404: [3310, 4850, 6698], 381: [2104, 5700], 894: [6430], 896: [3877], 3466: [9569], 1421: [6281], 3982: [4544, 8058], 2447: [9278, 11221], 1688: [6871, 7317], 3480: [7475], 409: [4201], 924: [7442], 2975: [10827], 2979: [5339], 934: [5458], 423: [7694], 3496: [7095], 2460: [9819], 327: [5326, 9636], 1967: [5249], 438: [7806], 3515: [4394], 2492: [5636], 958: [9023], 3012: [6797], 2501: [2877], 2504: [3457], 3529: [11175], 3831: [8633, 10187, 11102], 461: [2837], 2510: [8668, 10268], 3535: [12100], 469: [5129], 991: [2832], 3040: [5731], 3187: [3548], 3556: [8136], 3494: [10331], 252: [8867], 490: [9016], 3054: [4109], 1521: [8978], 501: [7250, 12289], 3063: [7729]}\n",
      "4100\n",
      "{3585: [11280], 2563: [4029, 7977], 1034: [7133], 1547: [2738, 7177], 525: [3148], 2576: [4347], 529: [1299, 12248], 444: [1201], 543: [4285], 545: [11133], 2595: [8912, 9581, 11337], 549: [10919], 552: [3546], 263: [615], 45: [3556], 2607: [3464], 2097: [2120, 8841], 1074: [2980], 1075: [4676], 2613: [9593], 569: [6500], 1451: [6976], 3134: [8560], 577: [9278, 11652], 3083: [4562], 3653: [8446], 1095: [5941, 11159], 3658: [10447], 78: [714], 3155: [3454], 2644: [4883], 597: [8563], 1209: [11001], 3672: [10592], 1115: [1981], 3344: [6896], 699: [10331], 3942: [9788], 615: [11455], 3516: [11617], 1643: [5941], 2668: [8292], 111: [4038], 115: [7372], 1140: [2980, 8058, 10632, 11386], 1141: [4771], 3703: [6300], 632: [5129], 633: [7246], 1658: [4622], 2684: [11782], 1149: [6628, 8772], 2693: [5983], 135: [6966], 654: [4509], 146: [7826], 1683: [9555], 2710: [6244], 2712: [10119], 1177: [10083], 3226: [3556, 4038], 1179: [3167], 671: [5475], 3749: [10919], 2728: [7317, 11529], 3246: [6048, 8187], 1148: [11310], 2738: [3981], 2739: [7832, 10365], 3256: [12342], 1721: [2324], 2746: [2825], 1211: [3881], 714: [1876, 3914], 2750: [6877], 703: [1837], 4030: [12130], 3274: [7830], 2423: [3653, 11581], 3279: [10906], 3877: [4562], 1240: [4718], 218: [9555], 3450: [4644], 293: [2803, 9624], 1248: [4175], 2273: [9515], 3812: [12030], 742: [7695], 2428: [5719], 3306: [11263], 2855: [7521], 3820: [10349], 3310: [6698], 2288: [10948], 2801: [6620], 245: [10970], 3830: [9274, 11388], 2295: [10086], 3320: [4342], 2812: [9916], 1278: [6178], 256: [11743], 3843: [8383, 9062], 772: [7065], 1287: [8735], 1806: [10603], 1325: [9555, 12369], 2832: [4650], 3352: [4973], 1305: [5218, 6820], 47: [2276, 10475], 3356: [9654], 3357: [8918, 10340, 11071], 2336: [11166], 1317: [9354], 3377: [6428], 2344: [11325], 809: [7404], 2858: [6844], 813: [1535], 2862: [10787], 1329: [7468], 818: [11295], 312: [8136], 2361: [7458], 3899: [6699], 394: [4798, 8608], 830: [4024], 224: [10000], 1351: [7977], 3981: [6328, 6515], 336: [10097], 2389: [8873], 857: [7404], 2394: [7578], 1935: [4549], 2910: [8735], 2915: [4240], 870: [3516], 3944: [10670], 3437: [3961, 7372], 3442: [8343], 3956: [11857], 887: [9323], 1402: [5212, 8529], 1404: [3310, 4850, 6698], 381: [2104, 5700], 894: [6430], 896: [3877], 3466: [9569], 1421: [6281], 3982: [4544, 8058], 2447: [9278, 11221], 1688: [6871, 7317], 3480: [7475], 409: [4201], 924: [7442], 2975: [10827], 2979: [5339], 934: [5458], 423: [7694], 3496: [7095], 2460: [9819], 327: [5326, 9636], 1967: [5249], 438: [7806], 3515: [4394], 2492: [5636], 4029: [7769, 10280], 958: [9023], 3012: [6797], 2501: [2877], 2504: [3457], 3529: [11175], 3831: [8633, 10187, 11102], 461: [2837], 2510: [8668, 10268], 3535: [12100], 469: [5129], 4054: [4070, 9323], 991: [2832], 3040: [5731], 3187: [3548], 3556: [8136], 3494: [10331], 4070: [9323], 252: [8867], 490: [9016], 3054: [4109], 1521: [8978], 501: [7250, 12289], 3063: [7729]}\n",
      "4200\n",
      "{3585: [11280], 2563: [4029, 7977], 4102: [7735], 1034: [7133], 1547: [2738, 7177], 525: [3148], 2576: [4347], 529: [1299, 12248], 4121: [4191], 444: [1201], 543: [4285], 545: [11133], 2595: [8912, 9581, 11337], 549: [10919], 552: [3546], 263: [615], 45: [3556], 2607: [3464], 2097: [2120, 8841], 1074: [2980], 1075: [4676], 2613: [9593], 569: [6500], 1451: [6976], 3134: [8560], 577: [9278, 11652], 3083: [4562], 3653: [8446], 1095: [5941, 11159], 3658: [10447], 78: [714], 3155: [3454], 2644: [4883], 597: [8563], 1209: [11001], 3672: [10592], 1115: [1981], 3344: [6896], 699: [10331], 3942: [9788], 615: [11455], 3516: [11617], 1643: [5941], 2668: [8292], 111: [4038], 115: [7372], 1140: [2980, 8058, 10632, 11386], 1141: [4771], 3703: [6300], 632: [5129], 633: [7246], 1658: [4622], 2684: [11782], 1149: [6628, 8772], 2693: [5983], 135: [6966], 654: [4509], 146: [7826], 1683: [9555], 2710: [6244], 2712: [10119], 1177: [10083], 3226: [3556, 4038], 1179: [3167], 671: [5475], 3749: [10919], 2728: [7317, 11529], 3246: [6048, 8187], 1148: [11310], 2738: [3981], 2739: [7832, 10365], 3256: [12342], 1721: [2324], 2746: [2825], 1211: [3881], 714: [1876, 3914], 2750: [6877], 703: [1837], 4030: [12130], 3274: [7830], 2423: [3653, 11581], 3279: [10906], 3877: [4562], 1240: [4718], 218: [9555], 3450: [4644], 293: [2803, 9624], 1248: [4175], 2273: [9515], 3812: [12030], 742: [7695], 2428: [5719], 3306: [11263], 2855: [7521], 3820: [10349], 3310: [6698], 2288: [10948], 2801: [6620], 245: [10970], 3830: [9274, 11388], 2295: [10086], 3320: [4342], 2812: [9916], 1278: [6178], 256: [11743], 3843: [8383, 9062], 772: [7065], 1287: [8735], 1806: [10603], 1325: [9555, 12369], 2832: [4650], 3352: [4973], 1305: [5218, 6820], 47: [2276, 10475], 3356: [9654], 3357: [8918, 10340, 11071], 2336: [11166], 1317: [9354], 3377: [6428], 2344: [11325], 809: [7404], 2858: [6844], 813: [1535], 2862: [10787], 1329: [7468], 818: [11295], 312: [8136], 2361: [7458], 3899: [6699], 394: [4798, 8608], 830: [4024], 224: [10000], 1351: [7977], 3981: [6328, 6515], 336: [10097], 2389: [8873], 857: [7404], 2394: [7578], 1935: [4549], 2910: [8735], 2915: [4240], 870: [3516], 3944: [10670], 3437: [3961, 7372], 3442: [8343], 3956: [11857], 887: [9323], 1402: [5212, 8529], 1404: [3310, 4850, 6698], 381: [2104, 5700], 894: [6430], 896: [3877], 3466: [9569], 1421: [6281], 3982: [4544, 8058], 2447: [9278, 11221], 1688: [6871, 7317], 3480: [7475], 409: [4201], 924: [7442], 2975: [10827], 2979: [5339], 934: [5458], 423: [7694], 3496: [7095], 2460: [9819], 327: [5326, 9636], 1967: [5249], 438: [7806], 3515: [4394], 2492: [5636], 4029: [7769, 10280], 958: [9023], 3012: [6797], 2501: [2877], 2504: [3457], 3529: [11175], 3831: [8633, 10187, 11102], 461: [2837], 2510: [8668, 10268], 3535: [12100], 469: [5129], 4054: [4070, 9323], 991: [2832], 3040: [5731], 3187: [3548], 3556: [8136], 3494: [10331], 4070: [9323], 252: [8867], 490: [9016], 3054: [4109], 1521: [8978], 501: [7250, 12289], 3063: [7729]}\n"
     ]
    },
    {
     "name": "stdout",
     "output_type": "stream",
     "text": [
      "4300\n",
      "{3585: [11280], 2563: [4029, 7977], 4102: [7735], 1034: [7133], 1547: [2738, 7177], 525: [3148], 2576: [4347], 529: [1299, 12248], 4121: [4191], 444: [1201], 543: [4285], 545: [11133], 2595: [8912, 9581, 11337], 549: [10919], 552: [3546], 263: [615], 45: [3556], 2607: [3464], 2097: [2120, 8841], 1074: [2980], 1075: [4676], 2613: [9593], 569: [6500], 1451: [6976], 3134: [8560], 577: [9278, 11652], 3083: [4562], 3653: [8446], 1095: [5941, 11159], 3658: [10447], 78: [714], 3155: [3454], 2644: [4883], 597: [8563], 1209: [11001], 3672: [10592], 1115: [1981], 3344: [6896], 699: [10331], 3942: [9788], 615: [11455], 4200: [11249], 3516: [11617], 1643: [5941], 2668: [8292], 111: [4038], 115: [7372], 1140: [2980, 8058, 10632, 11386], 1141: [4771], 3703: [6300], 632: [5129], 633: [7246], 1658: [4622], 2684: [11782], 1149: [6628, 8772], 2693: [5983], 135: [6966], 654: [4509], 146: [7826], 1683: [9555], 2710: [6244], 2712: [10119], 1177: [10083], 3226: [3556, 4038], 1179: [3167], 671: [5475], 3749: [10919], 2728: [7317, 11529], 3246: [6048, 8187], 1148: [11310], 2738: [3981], 2739: [7832, 10365], 3256: [12342], 1721: [2324], 2746: [2825], 1211: [3881], 714: [1876, 3914], 2750: [6877], 703: [1837], 4030: [12130], 3274: [7830], 2423: [3653, 11581], 3279: [10906], 3877: [4562], 1240: [4718], 218: [9555], 3450: [4644], 293: [2803, 9624], 1248: [4175], 2273: [9515], 3812: [12030], 742: [7695], 2428: [5719], 3306: [11263], 2855: [7521], 3820: [10349], 3310: [6698], 2288: [10948], 2801: [6620], 245: [10970], 3830: [9274, 11388], 2295: [10086], 3320: [4342], 2812: [9916], 1278: [6178], 256: [11743], 3843: [8383, 9062], 772: [7065], 1287: [8735], 1806: [10603], 1325: [9555, 12369], 2832: [4650], 3352: [4973], 1305: [5218, 6820], 47: [2276, 10475], 3356: [9654], 3357: [8918, 10340, 11071], 2336: [11166], 1317: [9354], 3377: [6428], 2344: [11325], 809: [7404], 2858: [6844], 813: [1535], 2862: [10787], 1329: [7468], 818: [11295], 312: [8136], 2361: [7458], 3899: [6699], 394: [4798, 8608], 830: [4024], 224: [10000], 1351: [7977], 3981: [6328, 6515], 336: [10097], 2389: [8873], 857: [7404], 2394: [7578], 1935: [4549], 2910: [8735], 2915: [4240], 870: [3516], 3944: [10670], 3437: [3961, 7372], 3442: [8343], 3956: [11857], 887: [9323], 1402: [5212, 8529], 1404: [3310, 4850, 6698], 381: [2104, 5700], 894: [6430], 896: [3877], 3466: [9569], 1421: [6281], 3982: [4544, 8058], 2447: [9278, 11221], 1688: [6871, 7317], 3480: [7475], 409: [4201], 924: [7442], 2975: [10827], 2979: [5339], 934: [5458], 423: [7694], 3496: [7095], 2460: [9819], 327: [5326, 9636], 1967: [5249], 438: [7806], 3515: [4394], 2492: [5636], 4029: [7769, 10280], 958: [9023], 3012: [6797], 2501: [2877], 2504: [3457], 3529: [11175], 3831: [8633, 10187, 11102], 461: [2837], 2510: [8668, 10268], 3535: [12100], 469: [5129], 4054: [4070, 9323], 991: [2832], 3040: [5731], 3187: [3548], 3556: [8136], 3494: [10331], 4070: [9323], 252: [8867], 490: [9016], 3054: [4109], 1521: [8978], 501: [7250, 12289], 3063: [7729]}\n",
      "4400\n",
      "{3585: [11280], 2563: [4029, 7977], 4102: [7735], 1034: [7133], 1547: [2738, 7177], 525: [3148], 2576: [4347], 529: [1299, 12248], 4121: [4191], 444: [1201], 543: [4285], 545: [11133], 2595: [8912, 9581, 11337], 549: [10919], 552: [3546], 263: [615], 45: [3556], 2607: [3464], 2097: [2120, 8841], 1074: [2980], 1075: [4676], 2613: [9593], 569: [6500], 1451: [6976], 3134: [8560], 577: [9278, 11652], 3083: [4562], 3653: [8446], 1095: [5941, 11159], 3658: [10447], 78: [714], 3155: [3454], 2644: [4883], 597: [8563], 1209: [11001], 3672: [10592], 1115: [1981], 3344: [6896], 699: [10331], 3942: [9788], 615: [11455], 4200: [11249], 3516: [11617], 1643: [5941], 2668: [8292], 111: [4038], 115: [7372], 1140: [2980, 8058, 10632, 11386], 1141: [4771], 3703: [6300], 632: [5129], 633: [7246], 1658: [4622], 2684: [11782], 1149: [6628, 8772], 2693: [5983], 135: [6966], 654: [4509], 146: [7826], 1683: [9555], 2710: [6244], 2712: [10119], 1177: [10083], 3226: [3556, 4038], 1179: [3167], 671: [5475], 3749: [10919], 2728: [7317, 11529], 3246: [6048, 8187], 1148: [11310], 2738: [3981], 2739: [7832, 10365], 3256: [12342], 1721: [2324], 2746: [2825], 1211: [3881], 714: [1876, 3914], 2750: [6877], 703: [1837], 4030: [12130], 3274: [7830], 2423: [3653, 11581], 3279: [10906], 3877: [4562], 1240: [4718], 218: [9555], 3450: [4644], 293: [2803, 9624], 1248: [4175], 2273: [9515], 3812: [12030], 742: [7695], 2428: [5719], 3306: [11263], 2855: [7521], 3820: [10349], 3310: [6698], 2288: [10948], 2801: [6620], 245: [10970], 3830: [9274, 11388], 2295: [10086], 3320: [4342], 2812: [9916], 1278: [6178], 256: [11743], 3843: [8383, 9062], 772: [7065], 1287: [8735], 1806: [10603], 1325: [9555, 12369], 2832: [4650], 3352: [4973], 1305: [5218, 6820], 47: [2276, 10475], 3356: [9654], 3357: [8918, 10340, 11071], 2336: [11166], 1317: [9354], 3377: [6428], 2344: [11325], 809: [7404], 2858: [6844], 4396: [5389], 813: [1535], 2862: [10787], 1329: [7468], 818: [11295], 312: [8136], 2361: [7458], 3899: [6699], 394: [4798, 8608], 830: [4024], 224: [10000], 1351: [7977], 3981: [6328, 6515], 336: [10097], 2389: [8873], 857: [7404], 2394: [7578], 1935: [4549], 2910: [8735], 2915: [4240], 870: [3516], 3944: [10670], 3437: [3961, 7372], 3442: [8343], 3956: [11857], 887: [9323], 1402: [5212, 8529], 1404: [3310, 4850, 6698], 381: [2104, 5700], 894: [6430], 896: [3877], 3466: [9569], 1421: [6281], 3982: [4544, 8058], 2447: [9278, 11221], 1688: [6871, 7317], 3480: [7475], 409: [4201], 924: [7442], 2975: [10827], 2979: [5339], 934: [5458], 423: [7694], 3496: [7095], 2460: [9819], 327: [5326, 9636], 1967: [5249], 438: [7806], 3515: [4394], 2492: [5636], 4029: [7769, 10280], 958: [9023], 3012: [6797], 2501: [2877], 2504: [3457], 3529: [11175], 3831: [8633, 10187, 11102], 461: [2837], 2510: [8668, 10268], 3535: [12100], 469: [5129], 4054: [4070, 9323], 991: [2832], 3040: [5731], 3187: [3548], 3556: [8136], 3494: [10331], 4070: [9323], 4397: [10261], 252: [8867], 490: [9016], 3054: [4109], 1521: [8978], 501: [7250, 12289], 3063: [7729]}\n",
      "4500\n",
      "{3585: [11280], 2563: [4029, 7977], 4102: [7735], 1034: [7133], 1547: [2738, 7177], 525: [3148], 2576: [4347], 529: [1299, 12248], 4121: [4191], 444: [1201], 543: [4285], 545: [11133], 2595: [8912, 9581, 11337], 549: [10919], 552: [3546], 263: [615], 45: [3556], 2607: [3464], 2097: [2120, 8841], 1074: [2980], 1075: [4676], 2613: [9593], 569: [6500], 1451: [6976], 3134: [8560], 577: [9278, 11652], 3083: [4562], 3653: [8446], 1095: [5941, 11159], 3658: [10447], 78: [714], 3155: [3454], 2644: [4883], 597: [8563], 1209: [11001], 3672: [10592], 1115: [1981], 3344: [6896], 699: [10331], 3942: [9788], 615: [11455], 4200: [11249], 3516: [11617], 1643: [5941], 2668: [8292], 111: [4038], 115: [7372], 1140: [2980, 8058, 10632, 11386], 1141: [4771], 3703: [6300], 632: [5129], 633: [7246], 1658: [4622], 2684: [11782], 1149: [6628, 8772], 2693: [5983], 135: [6966], 654: [4509], 146: [7826], 1683: [9555], 2710: [6244], 2712: [10119], 1177: [10083], 3226: [3556, 4038], 1179: [3167], 671: [5475], 3749: [10919], 2728: [7317, 11529], 3246: [6048, 8187], 1148: [11310], 2738: [3981], 2739: [7832, 10365], 3256: [12342], 1721: [2324], 2746: [2825], 1211: [3881], 714: [1876, 3914], 2750: [6877], 703: [1837], 4030: [12130], 3274: [7830], 2423: [3653, 11581], 3279: [10906], 3877: [4562], 1240: [4718], 218: [9555], 3450: [4644], 293: [2803, 9624], 1248: [4175], 2273: [9515], 3812: [12030], 742: [7695], 2428: [5719], 3306: [11263], 2855: [7521], 3820: [10349], 3310: [6698], 2288: [10948], 2801: [6620], 245: [10970], 3830: [9274, 11388], 2295: [10086], 3320: [4342], 2812: [9916], 1278: [6178], 256: [11743], 3843: [8383, 9062], 772: [7065], 1287: [8735], 1806: [10603], 1325: [9555, 12369], 2832: [4650], 3352: [4973], 1305: [5218, 6820], 47: [2276, 10475], 3356: [9654], 3357: [8918, 10340, 11071], 2336: [11166], 1317: [9354], 3377: [6428], 2344: [11325], 809: [7404], 2858: [6844], 4396: [5389], 813: [1535], 2862: [10787], 1329: [7468], 818: [11295], 312: [8136], 2361: [7458], 3899: [6699], 394: [4798, 8608], 830: [4024], 224: [10000], 1351: [7977], 3981: [6328, 6515], 336: [10097], 2389: [8873], 857: [7404], 2394: [7578], 1935: [4549], 2910: [8735], 2915: [4240], 870: [3516], 4455: [5018], 3944: [10670], 4457: [5136], 3437: [3961, 7372], 3442: [8343], 3956: [11857], 887: [9323], 1402: [5212, 8529], 1404: [3310, 4850, 6698], 381: [2104, 5700], 894: [6430], 896: [3877], 3466: [9569], 1421: [6281], 3982: [4544, 8058], 2447: [9278, 11221], 1688: [6871, 7317], 3480: [7475], 409: [4201], 924: [7442], 2975: [10827], 2979: [5339], 934: [5458], 423: [7694], 3496: [7095], 2460: [9819], 327: [5326, 9636], 1967: [5249], 438: [7806], 3515: [4394], 2492: [5636], 4029: [7769, 10280], 958: [9023], 3012: [6797], 2501: [2877], 2504: [3457], 3529: [11175], 3831: [8633, 10187, 11102], 461: [2837], 2510: [8668, 10268], 3535: [12100], 469: [5129], 4054: [4070, 9323], 991: [2832], 3040: [5731], 3187: [3548], 3556: [8136], 3494: [10331], 4070: [9323], 4397: [10261], 252: [8867], 490: [9016], 3054: [4109], 1521: [8978], 501: [7250, 12289], 3063: [7729]}\n"
     ]
    },
    {
     "name": "stdout",
     "output_type": "stream",
     "text": [
      "4600\n",
      "{3585: [11280], 2563: [4029, 7977], 4102: [7735], 1034: [7133], 1547: [2738, 7177], 525: [3148], 2576: [4347], 529: [1299, 12248], 4121: [4191], 444: [1201], 543: [4285], 545: [11133], 2595: [8912, 9581, 11337], 549: [10919], 552: [3546], 263: [615], 45: [3556], 2607: [3464], 2097: [2120, 8841], 1074: [2980], 1075: [4676], 2613: [9593], 569: [6500], 1451: [6976], 3134: [8560], 577: [9278, 11652], 3083: [4562], 3653: [8446], 1095: [5941, 11159], 3658: [10447], 78: [714], 3155: [3454], 2644: [4883], 597: [8563], 1209: [11001], 3672: [10592], 1115: [1981], 3344: [6896], 699: [10331], 3942: [9788], 615: [11455], 4200: [11249], 3516: [11617], 1643: [5941], 2668: [8292], 111: [4038], 115: [7372], 1140: [2980, 8058, 10632, 11386], 1141: [4771], 3703: [6300], 632: [5129], 633: [7246], 1658: [4622], 2684: [11782], 1149: [6628, 8772], 2693: [5983], 135: [6966], 654: [4509], 146: [7826], 1683: [9555], 2710: [6244], 2712: [10119], 1177: [10083], 3226: [3556, 4038], 1179: [3167], 671: [5475], 3749: [10919], 2728: [7317, 11529], 3246: [6048, 8187], 1148: [11310], 2738: [3981], 2739: [7832, 10365], 3256: [12342], 1721: [2324], 2746: [2825], 1211: [3881], 714: [1876, 3914], 2750: [6877], 703: [1837], 4030: [12130], 3274: [7830], 2423: [3653, 11581], 3279: [10906], 3877: [4562], 1240: [4718], 218: [9555], 3450: [4644], 293: [2803, 9624], 1248: [4175], 2273: [9515], 3812: [12030], 742: [7695], 2428: [5719], 3306: [11263], 2855: [7521], 3820: [10349], 3310: [6698], 2288: [10948], 2801: [6620], 245: [10970], 3830: [9274, 11388], 2295: [10086], 3320: [4342], 2812: [9916], 1278: [6178], 256: [11743], 3843: [8383, 9062], 772: [7065], 1287: [8735], 1806: [10603], 1325: [9555, 12369], 2832: [4650], 3352: [4973], 1305: [5218, 6820], 47: [2276, 10475], 3356: [9654], 3357: [8918, 10340, 11071], 2336: [11166], 1317: [9354], 3377: [6428], 2344: [11325], 809: [7404], 2858: [6844], 4396: [5389], 813: [1535], 2862: [10787], 1329: [7468], 818: [11295], 312: [8136], 2361: [7458], 3899: [6699], 394: [4798, 8608], 830: [4024], 224: [10000], 1351: [7977], 3981: [6328, 6515], 336: [10097], 2389: [8873], 857: [7404], 2394: [7578], 1935: [4549], 2910: [8735], 2915: [4240], 870: [3516], 4455: [5018], 3944: [10670], 4457: [5136], 3437: [3961, 7372], 3442: [8343], 3956: [11857], 887: [9323], 1402: [5212, 8529], 1404: [3310, 4850, 6698], 381: [2104, 5700], 894: [6430], 896: [3877], 3466: [9569], 1421: [6281], 3982: [4544, 8058], 2447: [9278, 11221], 1688: [6871, 7317], 3480: [7475], 409: [4201], 924: [7442], 2975: [10827], 2979: [5339], 934: [5458], 423: [7694], 3496: [7095], 2460: [9819], 327: [5326, 9636], 1967: [5249], 438: [7806], 3515: [4394], 2492: [5636], 4029: [7769, 10280], 958: [9023], 4544: [10774], 3012: [6797], 2501: [2877], 2504: [3457], 3529: [11175], 3831: [8633, 10187, 11102], 461: [2837], 2510: [8668, 10268], 3535: [12100], 469: [5129], 4054: [4070, 9323], 991: [2832], 3040: [5731], 3187: [3548], 3556: [8136], 3494: [10331], 4070: [9323], 4397: [10261], 252: [8867], 490: [9016], 3054: [4109], 4592: [11018], 1521: [8978], 501: [7250, 12289], 3063: [7729]}\n",
      "4700\n",
      "{3585: [11280], 2563: [4029, 7977], 4102: [7735], 1034: [7133], 1547: [2738, 7177], 525: [3148], 2576: [4347], 529: [1299, 12248], 4121: [4191], 444: [1201], 543: [4285], 4640: [5515], 545: [11133], 2595: [8912, 9581, 11337], 549: [10919], 552: [3546], 263: [615], 45: [3556], 2607: [3464], 2097: [2120, 8841], 1074: [2980], 1075: [4676], 4660: [9782], 2613: [9593], 569: [6500], 1451: [6976], 3134: [8560], 577: [9278, 11652], 3083: [4562], 3653: [8446], 1095: [5941, 11159], 3658: [10447], 78: [714], 3155: [3454], 2644: [4883], 597: [8563], 1209: [11001], 3672: [10592], 1115: [1981], 3344: [6896], 699: [10331], 3942: [9788], 615: [11455], 4200: [11249], 3516: [11617], 1643: [5941], 2668: [8292], 111: [4038], 115: [7372], 1140: [2980, 8058, 10632, 11386], 1141: [4771], 3703: [6300], 632: [5129], 633: [7246], 1658: [4622], 2684: [11782], 1149: [6628, 8772], 2693: [5983], 135: [6966], 654: [4509], 146: [7826], 1683: [9555], 2710: [6244], 2712: [10119], 1177: [10083], 3226: [3556, 4038], 1179: [3167], 671: [5475], 3749: [10919], 2728: [7317, 11529], 3246: [6048, 8187], 1148: [11310], 2738: [3981], 2739: [7832, 10365], 3256: [12342], 1721: [2324], 2746: [2825], 1211: [3881], 714: [1876, 3914], 2750: [6877], 703: [1837], 4030: [12130], 3274: [7830], 2423: [3653, 11581], 3279: [10906], 3877: [4562], 1240: [4718], 218: [9555], 3450: [4644], 293: [2803, 9624], 1248: [4175], 2273: [9515], 3812: [12030], 742: [7695], 2428: [5719], 3306: [11263], 2855: [7521], 3820: [10349], 3310: [6698], 2288: [10948], 2801: [6620], 245: [10970], 3830: [9274, 11388], 2295: [10086], 3320: [4342], 2812: [9916], 1278: [6178], 256: [11743], 3843: [8383, 9062], 772: [7065], 1287: [8735], 1806: [10603], 1325: [9555, 12369], 2832: [4650], 3352: [4973], 1305: [5218, 6820], 47: [2276, 10475], 3356: [9654], 3357: [8918, 10340, 11071], 2336: [11166], 1317: [9354], 3377: [6428], 2344: [11325], 809: [7404], 2858: [6844], 4396: [5389], 813: [1535], 2862: [10787], 1329: [7468], 818: [11295], 312: [8136], 2361: [7458], 3899: [6699], 394: [4798, 8608], 830: [4024], 224: [10000], 1351: [7977], 3981: [6328, 6515], 336: [10097], 2389: [8873], 857: [7404], 2394: [7578], 1935: [4549], 2910: [8735], 2915: [4240], 870: [3516], 4455: [5018], 3944: [10670], 4457: [5136], 3437: [3961, 7372], 3442: [8343], 3956: [11857], 887: [9323], 1402: [5212, 8529], 1404: [3310, 4850, 6698], 381: [2104, 5700], 894: [6430], 896: [3877], 3466: [9569], 1421: [6281], 3982: [4544, 8058], 2447: [9278, 11221], 1688: [6871, 7317], 3480: [7475], 409: [4201], 924: [7442], 2975: [10827], 2979: [5339], 934: [5458], 423: [7694], 3496: [7095], 2460: [9819], 327: [5326, 9636], 1967: [5249], 438: [7806], 3515: [4394], 2492: [5636], 4029: [7769, 10280], 958: [9023], 4544: [10774], 3012: [6797], 2501: [2877], 2504: [3457], 3529: [11175], 3831: [8633, 10187, 11102], 461: [2837], 2510: [8668, 10268], 3535: [12100], 469: [5129], 4054: [4070, 9323], 991: [2832], 3040: [5731], 3187: [3548], 3556: [8136], 3494: [10331], 4070: [9323], 4397: [10261], 252: [8867], 490: [9016], 3054: [4109], 4592: [11018], 1521: [8978], 501: [7250, 12289], 3063: [7729]}\n",
      "4800\n",
      "{3585: [11280], 2563: [4029, 7977], 4102: [7735], 1034: [7133], 1547: [2738, 7177], 525: [3148], 2576: [4347], 529: [1299, 12248], 4121: [4191], 444: [1201], 543: [4285], 4640: [5515], 545: [11133], 2595: [8912, 9581, 11337], 549: [10919], 552: [3546], 263: [615], 45: [3556], 2607: [3464], 2097: [2120, 8841], 1074: [2980], 1075: [4676], 4660: [9782], 2613: [9593], 569: [6500], 1451: [6976], 3134: [8560], 577: [9278, 11652], 3083: [4562], 3653: [8446], 1095: [5941, 11159], 3658: [10447], 78: [714], 3155: [3454], 2644: [4883], 597: [8563], 1209: [11001], 3672: [10592], 1115: [1981], 4794: [9757], 3344: [6896], 699: [10331], 3942: [9788], 615: [11455], 4200: [11249], 3516: [11617], 1643: [5941], 2668: [8292], 111: [4038], 115: [7372], 1140: [2980, 8058, 10632, 11386], 1141: [4771], 3703: [6300], 632: [5129], 633: [7246], 1658: [4622], 2684: [11782], 1149: [6628, 8772], 2693: [5983], 4742: [8970, 10211], 135: [6966], 4716: [7224], 4727: [11746], 654: [4509], 146: [7826], 1683: [9555], 2710: [6244], 2712: [10119], 1177: [10083], 3226: [3556, 4038], 1179: [3167], 671: [5475], 3749: [10919], 2728: [7317, 11529], 3246: [6048, 8187], 1148: [11310], 2738: [3981], 2739: [7832, 10365], 3256: [12342], 1721: [2324], 2746: [2825], 1211: [3881], 714: [1876, 3914], 2750: [6877], 703: [1837], 4030: [12130], 3274: [7830], 2423: [3653, 11581], 3279: [10906], 4728: [7311], 3877: [4562], 1240: [4718], 218: [9555], 3450: [4644], 293: [2803, 9624], 1248: [4175], 2273: [9515], 3812: [12030], 742: [7695], 2428: [5719], 3306: [11263], 2855: [7521], 3820: [10349], 3310: [6698], 2288: [10948], 2801: [6620], 245: [10970], 3830: [9274, 11388], 2295: [10086], 3320: [4342], 2812: [9916], 1278: [6178], 256: [11743], 3843: [8383, 9062], 772: [7065], 1287: [8735], 1806: [10603], 1325: [9555, 12369], 2832: [4650], 3352: [4973], 1305: [5218, 6820], 47: [2276, 10475], 3356: [9654], 3357: [8918, 10340, 11071], 2336: [11166], 1317: [9354], 3377: [6428], 2344: [11325], 809: [7404], 2858: [6844], 4396: [5389], 813: [1535], 2862: [10787], 1329: [7468], 818: [11295], 312: [8136], 2361: [7458], 3899: [6699], 394: [4798, 8608], 830: [4024], 224: [10000], 1351: [7977], 3981: [6328, 6515], 336: [10097], 2389: [8873], 857: [7404], 2394: [7578], 1935: [4549], 2910: [8735], 2915: [4240], 870: [3516], 4455: [5018], 3944: [10670], 4457: [5136], 3437: [3961, 7372], 3442: [8343], 3956: [11857], 887: [9323], 1402: [5212, 8529], 1404: [3310, 4850, 6698], 381: [2104, 5700], 894: [6430], 896: [3877], 3466: [9569], 1421: [6281], 3982: [4544, 8058], 2447: [9278, 11221], 1688: [6871, 7317], 3480: [7475], 409: [4201], 924: [7442], 2975: [10827], 2979: [5339], 934: [5458], 423: [7694], 3496: [7095], 2460: [9819], 327: [5326, 9636], 1967: [5249], 438: [7806], 3515: [4394], 2492: [5636], 4029: [7769, 10280], 958: [9023], 4544: [10774], 3012: [6797], 2501: [2877], 2504: [3457], 3529: [11175], 3831: [8633, 10187, 11102], 461: [2837], 2510: [8668, 10268], 3535: [12100], 469: [5129], 4054: [4070, 9323], 991: [2832], 3040: [5731], 3187: [3548], 3556: [8136], 3494: [10331], 4070: [9323], 4397: [10261], 252: [8867], 490: [9016], 3054: [4109], 4592: [11018], 1521: [8978], 501: [7250, 12289], 3063: [7729]}\n"
     ]
    },
    {
     "name": "stdout",
     "output_type": "stream",
     "text": [
      "4900\n",
      "{3585: [11280], 2563: [4029, 7977], 4102: [7735], 1034: [7133], 1547: [2738, 7177], 525: [3148], 2576: [4347], 529: [1299, 12248], 4121: [4191], 444: [1201], 543: [4285], 4640: [5515], 545: [11133], 2595: [8912, 9581, 11337], 549: [10919], 552: [3546], 263: [615], 45: [3556], 2607: [3464], 2097: [2120, 8841], 1074: [2980], 1075: [4676], 4660: [9782], 2613: [9593], 569: [6500], 1451: [6976], 3134: [8560], 577: [9278, 11652], 3083: [4562], 3653: [8446], 1095: [5941, 11159], 3658: [10447], 78: [714], 3155: [3454], 2644: [4883], 597: [8563], 1209: [11001], 3672: [10592], 1115: [1981], 4794: [9757], 3344: [6896], 699: [10331], 3942: [9788], 615: [11455], 4200: [11249], 3516: [11617], 1643: [5941], 2668: [8292], 111: [4038], 115: [7372], 1140: [2980, 8058, 10632, 11386], 1141: [4771], 3703: [6300], 632: [5129], 633: [7246], 1658: [4622], 2684: [11782], 1149: [6628, 8772], 2693: [5983], 4742: [8970, 10211], 135: [6966], 4716: [7224], 4727: [11746], 654: [4509], 146: [7826], 1683: [9555], 2710: [6244], 2712: [10119], 1177: [10083], 3226: [3556, 4038], 1179: [3167], 671: [5475], 3749: [10919], 2728: [7317, 11529], 3246: [6048, 8187], 1148: [11310], 2738: [3981], 2739: [7832, 10365], 3256: [12342], 1721: [2324], 2746: [2825], 1211: [3881], 714: [1876, 3914], 2750: [6877], 703: [1837], 4804: [12102], 4030: [12130], 3274: [7830], 2423: [3653, 11581], 3279: [10906], 4728: [7311], 3877: [4562], 1240: [4718], 4825: [7690], 218: [9555], 3450: [4644], 293: [2803, 9624], 1248: [4175], 2273: [9515], 3812: [12030], 742: [7695], 2428: [5719], 3306: [11263], 2855: [7521], 3820: [10349], 3310: [6698], 2288: [10948], 2801: [6620], 4850: [9497], 245: [10970], 3830: [9274, 11388], 2295: [10086], 3320: [4342], 2812: [9916], 1278: [6178], 256: [11743], 3843: [8383, 9062], 772: [7065], 1287: [8735], 4877: [9829], 1806: [10603], 1325: [9555, 12369], 2832: [4650], 3352: [4973], 1305: [5218, 6820], 47: [2276, 10475], 3356: [9654], 3357: [8918, 10340, 11071], 2336: [11166], 1317: [9354], 3377: [6428], 2344: [11325], 809: [7404], 2858: [6844], 4396: [5389], 813: [1535], 2862: [10787], 1329: [7468], 818: [11295], 312: [8136], 2361: [7458], 3899: [6699], 394: [4798, 8608], 830: [4024], 224: [10000], 1351: [7977], 3981: [6328, 6515], 336: [10097], 2389: [8873], 857: [7404], 2394: [7578], 1935: [4549], 2910: [8735], 2915: [4240], 4838: [11081], 870: [3516], 4455: [5018], 3944: [10670], 4457: [5136], 3437: [3961, 7372], 3442: [8343], 3956: [11857], 887: [9323], 1402: [5212, 8529], 1404: [3310, 4850, 6698], 381: [2104, 5700], 894: [6430], 896: [3877], 3466: [9569], 1421: [6281], 3982: [4544, 8058], 2447: [9278, 11221], 1688: [6871, 7317], 3480: [7475], 409: [4201], 924: [7442], 2975: [10827], 2979: [5339], 934: [5458], 423: [7694], 3496: [7095], 2460: [9819], 327: [5326, 9636], 1967: [5249], 438: [7806], 3515: [4394], 2492: [5636], 4029: [7769, 10280], 958: [9023], 4544: [10774], 3012: [6797], 2501: [2877], 2504: [3457], 3529: [11175], 3831: [8633, 10187, 11102], 461: [2837], 2510: [8668, 10268], 3535: [12100], 469: [5129], 4054: [4070, 9323], 991: [2832], 3040: [5731], 3187: [3548], 3556: [8136], 3494: [10331], 4070: [9323], 4397: [10261], 252: [8867], 490: [9016], 3054: [4109], 4592: [11018], 1521: [8978], 501: [7250, 12289], 3063: [7729]}\n",
      "5000\n",
      "{3585: [11280], 2563: [4029, 7977], 4102: [7735], 1034: [7133], 1547: [2738, 7177], 525: [3148], 2576: [4347], 529: [1299, 12248], 4121: [4191], 444: [1201], 543: [4285], 4640: [5515], 545: [11133], 2595: [8912, 9581, 11337], 549: [10919], 552: [3546], 263: [615], 45: [3556], 2607: [3464], 2097: [2120, 8841], 1074: [2980], 1075: [4676], 4660: [9782], 2613: [9593], 569: [6500], 1451: [6976], 3134: [8560], 577: [9278, 11652], 3083: [4562], 3653: [8446], 1095: [5941, 11159], 3658: [10447], 78: [714], 3155: [3454], 2644: [4883], 597: [8563], 1209: [11001], 3672: [10592], 1115: [1981], 4794: [9757], 4965: [8391], 3344: [6896], 699: [10331], 3942: [9788], 615: [11455], 4200: [11249], 3516: [11617], 1643: [5941], 2668: [8292], 111: [4038], 115: [7372], 1140: [2980, 8058, 10632, 11386], 1141: [4771], 3703: [6300], 632: [5129], 633: [7246], 1658: [4622], 2684: [11782], 1149: [6628, 8772], 2693: [5983], 4742: [8970, 10211], 135: [6966], 4716: [7224], 4727: [11746], 654: [4509], 146: [7826], 1683: [9555], 2710: [6244], 2712: [10119], 1177: [10083], 3226: [3556, 4038], 1179: [3167], 671: [5475], 3749: [10919], 2728: [7317, 11529], 3246: [6048, 8187], 1148: [11310], 2738: [3981], 2739: [7832, 10365], 3256: [12342], 1721: [2324], 2746: [2825], 1211: [3881], 714: [1876, 3914], 2750: [6877], 703: [1837], 4804: [12102], 4030: [12130], 3274: [7830], 2423: [3653, 11581], 3279: [10906], 4728: [7311], 3877: [4562], 1240: [4718], 4825: [7690], 218: [9555], 3450: [4644], 293: [2803, 9624], 1248: [4175], 2273: [9515], 3812: [12030], 742: [7695], 2428: [5719], 3306: [11263], 2855: [7521], 3820: [10349], 3310: [6698], 2288: [10948], 2801: [6620], 4850: [9497], 245: [10970], 3830: [9274, 11388], 2295: [10086], 3320: [4342], 2812: [9916], 1278: [6178], 256: [11743], 3843: [8383, 9062], 772: [7065], 1287: [8735], 4877: [9829], 1806: [10603], 1325: [9555, 12369], 2832: [4650], 3352: [4973], 1305: [5218, 6820], 47: [2276, 10475], 3356: [9654], 3357: [8918, 10340, 11071], 2336: [11166], 1317: [9354], 3377: [6428], 2344: [11325], 809: [7404], 2858: [6844], 4396: [5389], 813: [1535], 2862: [10787], 1329: [7468], 818: [11295], 312: [8136], 2361: [7458], 3899: [6699], 394: [4798, 8608], 830: [4024], 224: [10000], 1351: [7977], 3981: [6328, 6515], 336: [10097], 2389: [8873], 857: [7404], 2394: [7578], 1935: [4549], 2910: [8735], 2915: [4240], 4838: [11081], 870: [3516], 4455: [5018], 3944: [10670], 4457: [5136], 3437: [3961, 7372], 3442: [8343], 3956: [11857], 4981: [7778], 887: [9323], 1402: [5212, 8529], 1404: [3310, 4850, 6698], 381: [2104, 5700], 894: [6430], 896: [3877], 4999: [7837], 3466: [9569], 1421: [6281], 3982: [4544, 8058], 2447: [9278, 11221], 1688: [6871, 7317], 3480: [7475], 409: [4201], 924: [7442], 2975: [10827], 2979: [5339], 934: [5458], 423: [7694], 3496: [7095], 2460: [9819], 327: [5326, 9636], 1967: [5249], 438: [7806], 3515: [4394], 2492: [5636], 4029: [7769, 10280], 958: [9023], 4544: [10774], 3012: [6797], 2501: [2877], 2504: [3457], 3529: [11175], 3831: [8633, 10187, 11102], 461: [2837], 2510: [8668, 10268], 3535: [12100], 469: [5129], 4054: [4070, 9323], 991: [2832], 3040: [5731], 3187: [3548], 3556: [8136], 3494: [10331], 4070: [9323], 4397: [10261], 252: [8867], 490: [9016], 3054: [4109], 4592: [11018], 1521: [8978], 501: [7250, 12289], 3063: [7729]}\n",
      "5100\n",
      "{3585: [11280], 2563: [4029, 7977], 4102: [7735], 1034: [7133], 1547: [2738, 7177], 525: [3148], 2576: [4347], 529: [1299, 12248], 4121: [4191], 444: [1201], 543: [4285], 4640: [5515], 545: [11133], 2595: [8912, 9581, 11337], 549: [10919], 552: [3546], 263: [615], 45: [3556], 2607: [3464], 2097: [2120, 8841], 1074: [2980], 1075: [4676], 4660: [9782], 2613: [9593], 569: [6500], 1451: [6976], 3134: [8560], 577: [9278, 11652], 3083: [4562], 3653: [8446], 1095: [5941, 11159], 3658: [10447], 78: [714], 3155: [3454], 2644: [4883], 597: [8563], 1209: [11001], 3672: [10592], 1115: [1981], 4794: [9757], 4965: [8391], 3344: [6896], 699: [10331], 3942: [9788], 615: [11455], 4200: [11249], 3516: [11617], 1643: [5941], 2668: [8292], 111: [4038], 115: [7372], 1140: [2980, 8058, 10632, 11386], 1141: [4771], 3703: [6300], 632: [5129], 633: [7246], 1658: [4622], 2684: [11782], 1149: [6628, 8772], 2693: [5983], 4742: [8970, 10211], 135: [6966], 4716: [7224], 4727: [11746], 654: [4509], 146: [7826], 1683: [9555], 2710: [6244], 2712: [10119], 1177: [10083], 3226: [3556, 4038], 1179: [3167], 671: [5475], 3749: [10919], 2728: [7317, 11529], 3246: [6048, 8187], 1148: [11310], 2738: [3981], 2739: [7832, 10365], 3256: [12342], 1721: [2324], 2746: [2825], 1211: [3881], 714: [1876, 3914], 2750: [6877], 703: [1837], 4804: [12102], 4030: [12130], 3274: [7830], 2423: [3653, 11581], 3279: [10906], 4728: [7311], 3877: [4562], 1240: [4718], 4825: [7690], 218: [9555], 3450: [4644], 293: [2803, 9624], 1248: [4175], 2273: [9515], 3812: [12030], 742: [7695], 2428: [5719], 3306: [11263], 2855: [7521], 3820: [10349], 3310: [6698], 2288: [10948], 2801: [6620], 4850: [9497], 245: [10970], 3830: [9274, 11388], 2295: [10086], 3320: [4342], 2812: [9916], 1278: [6178], 256: [11743], 3843: [8383, 9062], 772: [7065], 1287: [8735], 4877: [9829], 1806: [10603], 1325: [9555, 12369], 2832: [4650], 3352: [4973], 1305: [5218, 6820], 47: [2276, 10475], 3356: [9654], 3357: [8918, 10340, 11071], 2336: [11166], 1317: [9354], 3377: [6428], 2344: [11325], 809: [7404], 2858: [6844], 4396: [5389], 813: [1535], 2862: [10787], 1329: [7468], 818: [11295], 312: [8136], 2361: [7458], 3899: [6699], 394: [4798, 8608], 830: [4024], 224: [10000], 1351: [7977], 3981: [6328, 6515], 336: [10097], 2389: [8873], 857: [7404], 2394: [7578], 1935: [4549], 2910: [8735], 2915: [4240], 4838: [11081], 870: [3516], 4455: [5018], 3944: [10670], 4457: [5136], 3437: [3961, 7372], 3442: [8343], 3956: [11857], 4981: [7778], 887: [9323], 1402: [5212, 8529], 1404: [3310, 4850, 6698], 381: [2104, 5700], 894: [6430], 896: [3877], 4999: [7837], 3466: [9569], 1421: [6281], 3982: [4544, 8058], 2447: [9278, 11221], 1688: [6871, 7317], 3480: [7475], 409: [4201], 924: [7442], 2975: [10827], 5024: [11401], 2979: [5339], 934: [5458], 423: [7694], 3496: [7095], 2460: [9819], 327: [5326, 9636], 1967: [5249], 438: [7806], 3515: [4394], 2492: [5636], 4029: [7769, 10280], 958: [9023], 4544: [10774], 3012: [6797], 2501: [2877], 2504: [3457], 3529: [11175], 3831: [8633, 10187, 11102], 461: [2837], 2510: [8668, 10268], 3535: [12100], 469: [5129], 4054: [4070, 9323], 991: [2832], 3040: [5731], 3187: [3548], 3556: [8136], 3494: [10331], 4070: [9323], 4397: [10261], 252: [8867], 490: [9016], 3054: [4109], 4592: [11018], 1521: [8978], 501: [7250, 12289], 3063: [7729]}\n"
     ]
    },
    {
     "name": "stdout",
     "output_type": "stream",
     "text": [
      "5200\n",
      "{3585: [11280], 2563: [4029, 7977], 4102: [7735], 1034: [7133], 1547: [2738, 7177], 525: [3148], 2576: [4347], 529: [1299, 12248], 4121: [4191], 444: [1201], 543: [4285], 4640: [5515], 545: [11133], 2595: [8912, 9581, 11337], 549: [10919], 552: [3546], 263: [615], 5164: [5722], 45: [3556], 5166: [7769], 2607: [3464], 2097: [2120, 8841], 1074: [2980], 1075: [4676], 4660: [9782], 2613: [9593], 569: [6500], 1451: [6976], 3134: [8560], 577: [9278, 11652], 3083: [4562], 3653: [8446], 1095: [5941, 11159], 3658: [10447], 78: [714], 3155: [3454], 2644: [4883], 597: [8563], 1209: [11001], 3672: [10592], 1115: [1981], 4794: [9757], 4965: [8391], 3344: [6896], 699: [10331], 3942: [9788], 615: [11455], 4200: [11249], 3516: [11617], 1643: [5941], 2668: [8292], 111: [4038], 115: [7372], 1140: [2980, 8058, 10632, 11386], 1141: [4771], 3703: [6300], 632: [5129], 633: [7246], 1658: [4622], 2684: [11782], 1149: [6628, 8772], 2693: [5983], 4742: [8970, 10211], 135: [6966], 4716: [7224], 4727: [11746], 654: [4509], 146: [7826], 1683: [9555], 2710: [6244], 2712: [10119], 1177: [10083], 3226: [3556, 4038], 1179: [3167], 671: [5475], 3749: [10919], 2728: [7317, 11529], 3246: [6048, 8187], 1148: [11310], 2738: [3981], 2739: [7832, 10365], 3256: [12342], 1721: [2324], 2746: [2825], 1211: [3881], 714: [1876, 3914], 2750: [6877], 703: [1837], 4804: [12102], 4030: [12130], 3274: [7830], 2423: [3653, 11581], 3279: [10906], 4728: [7311], 3877: [4562], 1240: [4718], 4825: [7690], 218: [9555], 3450: [4644], 293: [2803, 9624], 1248: [4175], 2273: [9515], 3812: [12030], 742: [7695], 2428: [5719], 3306: [11263], 2855: [7521], 3820: [10349], 3310: [6698], 2288: [10948], 2801: [6620], 4850: [9497], 245: [10970], 3830: [9274, 11388], 2295: [10086], 3320: [4342], 2812: [9916], 1278: [6178], 256: [11743], 3843: [8383, 9062], 772: [7065], 1287: [8735], 4877: [9829], 1806: [10603], 1325: [9555, 12369], 2832: [4650], 3352: [4973], 1305: [5218, 6820], 47: [2276, 10475], 3356: [9654], 3357: [8918, 10340, 11071], 2336: [11166], 1317: [9354], 3377: [6428], 2344: [11325], 809: [7404], 2858: [6844], 4396: [5389], 813: [1535], 2862: [10787], 1329: [7468], 818: [11295], 312: [8136], 2361: [7458], 3899: [6699], 394: [4798, 8608], 830: [4024], 224: [10000], 1351: [7977], 3981: [6328, 6515], 336: [10097], 2389: [8873], 857: [7404], 2394: [7578], 1935: [4549], 2910: [8735], 2915: [4240], 4838: [11081], 870: [3516], 4455: [5018], 3944: [10670], 4457: [5136], 3437: [3961, 7372], 3442: [8343], 3956: [11857], 4981: [7778], 887: [9323], 1402: [5212, 8529], 1404: [3310, 4850, 6698], 381: [2104, 5700], 894: [6430], 896: [3877], 4999: [7837], 3466: [9569], 1421: [6281], 3982: [4544, 8058], 2447: [9278, 11221], 1688: [6871, 7317], 3480: [7475], 409: [4201], 924: [7442], 2975: [10827], 5024: [11401], 2979: [5339], 934: [5458], 423: [7694], 3496: [7095], 2460: [9819], 327: [5326, 9636], 1967: [5249], 438: [7806], 3515: [4394], 2492: [5636], 4029: [7769, 10280], 958: [9023], 4544: [10774], 3012: [6797], 2501: [2877], 2504: [3457], 3529: [11175], 3831: [8633, 10187, 11102], 461: [2837], 2510: [8668, 10268], 3535: [12100], 469: [5129], 4054: [4070, 9323], 991: [2832], 3040: [5731], 3187: [3548], 3556: [8136], 3494: [10331], 4070: [9323], 4397: [10261], 252: [8867], 490: [9016], 3054: [4109], 4592: [11018], 1521: [8978], 501: [7250, 12289], 3063: [7729]}\n",
      "5300\n",
      "{3585: [11280], 2563: [4029, 7977], 4102: [7735], 1034: [7133], 1547: [2738, 7177], 525: [3148], 2576: [4347], 529: [1299, 12248], 4121: [4191], 444: [1201], 543: [4285], 4640: [5515], 545: [11133], 2595: [8912, 9581, 11337], 549: [10919], 552: [3546], 263: [615], 5164: [5722], 45: [3556], 5166: [7769], 2607: [3464], 2097: [2120, 8841], 1074: [2980], 1075: [4676], 4660: [9782], 2613: [9593], 569: [6500], 1451: [6976], 3134: [8560], 577: [9278, 11652], 3083: [4562], 3653: [8446], 1095: [5941, 11159], 3658: [10447], 78: [714], 3155: [3454], 2644: [4883], 597: [8563], 1209: [11001], 3672: [10592], 1115: [1981], 4794: [9757], 5214: [11306], 4965: [8391], 3344: [6896], 5218: [5416, 6820, 8058, 10234], 699: [10331], 3942: [9788], 615: [11455], 4200: [11249], 3516: [11617], 1643: [5941], 2668: [8292], 111: [4038], 115: [7372], 1140: [2980, 8058, 10632, 11386], 1141: [4771], 3703: [6300], 632: [5129], 633: [7246], 1658: [4622], 2684: [11782], 1149: [6628, 8772], 2693: [5983], 4742: [8970, 10211], 135: [6966], 4716: [7224], 4727: [11746], 654: [4509], 146: [7826], 1683: [9555], 2710: [6244], 2712: [10119], 1177: [10083], 3226: [3556, 4038], 1179: [3167], 671: [5475], 3749: [10919], 2728: [7317, 11529], 3246: [6048, 8187], 1148: [11310], 2738: [3981], 2739: [7832, 10365], 3256: [12342], 1721: [2324], 2746: [2825], 1211: [3881], 714: [1876, 3914], 2750: [6877], 703: [1837], 4804: [12102], 4030: [12130], 3274: [7830], 2423: [3653, 11581], 3279: [10906], 4728: [7311], 3877: [4562], 1240: [4718], 4825: [7690], 218: [9555], 3450: [4644], 293: [2803, 9624], 1248: [4175], 2273: [9515], 3812: [12030], 742: [7695], 2428: [5719], 3306: [11263], 2855: [7521], 3820: [10349], 3310: [6698], 2288: [10948], 2801: [6620], 4850: [9497], 245: [10970], 3830: [9274, 11388], 2295: [10086], 3320: [4342], 2812: [9916], 1278: [6178], 256: [11743], 3843: [8383, 9062], 772: [7065], 1287: [8735], 4877: [9829], 1806: [10603], 1325: [9555, 12369], 2832: [4650], 3352: [4973], 1305: [5218, 6820], 47: [2276, 10475], 3356: [9654], 3357: [8918, 10340, 11071], 2336: [11166], 1317: [9354], 3377: [6428], 2344: [11325], 809: [7404], 2858: [6844], 4396: [5389], 813: [1535], 2862: [10787], 1329: [7468], 818: [11295], 312: [8136], 2361: [7458], 3899: [6699], 394: [4798, 8608], 830: [4024], 224: [10000], 1351: [7977], 3981: [6328, 6515], 336: [10097], 2389: [8873], 857: [7404], 2394: [7578], 1935: [4549], 2910: [8735], 2915: [4240], 4838: [11081], 870: [3516], 4455: [5018], 3944: [10670], 4457: [5136], 3437: [3961, 7372], 3442: [8343], 3956: [11857], 4981: [7778], 887: [9323], 1402: [5212, 8529], 1404: [3310, 4850, 6698], 381: [2104, 5700], 894: [6430], 896: [3877], 4999: [7837], 3466: [9569], 1421: [6281], 3982: [4544, 8058], 2447: [9278, 11221], 1688: [6871, 7317], 3480: [7475], 409: [4201], 924: [7442], 2975: [10827], 5024: [11401], 2979: [5339], 934: [5458], 423: [7694], 3496: [7095], 2460: [9819], 327: [5326, 9636], 1967: [5249], 438: [7806], 3515: [4394], 2492: [5636], 4029: [7769, 10280], 958: [9023], 4544: [10774], 3012: [6797], 2501: [2877], 2504: [3457], 3529: [11175], 3831: [8633, 10187, 11102], 461: [2837], 2510: [8668, 10268], 3535: [12100], 469: [5129], 4054: [4070, 9323], 991: [2832], 3040: [5731], 3187: [3548], 3556: [8136], 3494: [10331], 4070: [9323], 4397: [10261], 252: [8867], 490: [9016], 3054: [4109], 4592: [11018], 1521: [8978], 501: [7250, 12289], 3063: [7729]}\n",
      "5400\n",
      "{3585: [11280], 2563: [4029, 7977], 4102: [7735], 1034: [7133], 1547: [2738, 7177], 525: [3148], 2576: [4347], 529: [1299, 12248], 4121: [4191], 444: [1201], 543: [4285], 4640: [5515], 545: [11133], 2595: [8912, 9581, 11337], 549: [10919], 552: [3546], 263: [615], 5164: [5722], 45: [3556], 5166: [7769], 2607: [3464], 2097: [2120, 8841], 1074: [2980], 1075: [4676], 4660: [9782], 2613: [9593], 569: [6500], 1451: [6976], 3134: [8560], 577: [9278, 11652], 3083: [4562], 3653: [8446], 1095: [5941, 11159], 3658: [10447], 78: [714], 3155: [3454], 2644: [4883], 597: [8563], 1209: [11001], 3672: [10592], 1115: [1981], 4794: [9757], 5214: [11306], 4965: [8391], 3344: [6896], 5218: [5416, 6820, 8058, 10234], 699: [10331], 3942: [9788], 615: [11455], 4200: [11249], 3516: [11617], 1643: [5941], 2668: [8292], 111: [4038], 115: [7372], 1140: [2980, 8058, 10632, 11386], 1141: [4771], 3703: [6300], 632: [5129], 633: [7246], 1658: [4622], 2684: [11782], 1149: [6628, 8772], 2693: [5983], 4742: [8970, 10211], 135: [6966], 4716: [7224], 4727: [11746], 654: [4509], 146: [7826], 1683: [9555], 2710: [6244], 2712: [10119], 1177: [10083], 3226: [3556, 4038], 1179: [3167], 671: [5475], 3749: [10919], 2728: [7317, 11529], 3246: [6048, 8187], 1148: [11310], 2738: [3981], 2739: [7832, 10365], 3256: [12342], 1721: [2324], 2746: [2825], 1211: [3881], 714: [1876, 3914], 2750: [6877], 703: [1837], 4804: [12102], 4030: [12130], 3274: [7830], 2423: [3653, 11581], 5324: [7989], 5326: [11207], 3279: [10906], 4728: [7311], 5332: [11376], 3877: [4562], 1240: [4718], 4825: [7690], 218: [9555], 3450: [4644], 293: [2803, 9624], 1248: [4175], 2273: [9515], 3812: [12030], 742: [7695], 2428: [5719], 3306: [11263], 2855: [7521], 3820: [10349], 3310: [6698], 2288: [10948], 2801: [6620], 4850: [9497], 5364: [11374], 245: [10970], 3830: [9274, 11388], 2295: [10086], 3320: [4342], 2812: [9916], 1278: [6178], 256: [11743], 3843: [8383, 9062], 772: [7065], 1287: [8735], 4877: [9829], 1806: [10603], 1325: [9555, 12369], 2832: [4650], 3352: [4973], 1305: [5218, 6820], 47: [2276, 10475], 3356: [9654], 3357: [8918, 10340, 11071], 2336: [11166], 1317: [9354], 3377: [6428], 2344: [11325], 809: [7404], 2858: [6844], 4396: [5389], 813: [1535], 2862: [10787], 1329: [7468], 818: [11295], 312: [8136], 2361: [7458], 3899: [6699], 394: [4798, 8608], 830: [4024], 224: [10000], 1351: [7977], 3981: [6328, 6515], 336: [10097], 2389: [8873], 857: [7404], 2394: [7578], 1935: [4549], 2910: [8735], 2915: [4240], 4838: [11081], 870: [3516], 4455: [5018], 3944: [10670], 4457: [5136], 3437: [3961, 7372], 3442: [8343], 3956: [11857], 4981: [7778], 887: [9323], 1402: [5212, 8529], 1404: [3310, 4850, 6698], 381: [2104, 5700], 894: [6430], 896: [3877], 4999: [7837], 3466: [9569], 1421: [6281], 3982: [4544, 8058], 2447: [9278, 11221], 1688: [6871, 7317], 3480: [7475], 409: [4201], 924: [7442], 2975: [10827], 5024: [11401], 2979: [5339], 934: [5458], 423: [7694], 3496: [7095], 2460: [9819], 327: [5326, 9636], 5362: [12051, 12061], 1967: [5249], 438: [7806], 3515: [4394], 2492: [5636], 4029: [7769, 10280], 958: [9023], 4544: [10774], 3012: [6797], 2501: [2877], 2504: [3457], 3529: [11175], 3831: [8633, 10187, 11102], 461: [2837], 2510: [8668, 10268], 3535: [12100], 469: [5129], 4054: [4070, 9323], 991: [2832], 3040: [5731], 3187: [3548], 3556: [8136], 3494: [10331], 4070: [9323], 4397: [10261], 252: [8867], 490: [9016], 3054: [4109], 4592: [11018], 1521: [8978], 501: [7250, 12289], 3063: [7729]}\n"
     ]
    },
    {
     "name": "stdout",
     "output_type": "stream",
     "text": [
      "5500\n",
      "{3585: [11280], 2563: [4029, 7977], 4102: [7735], 1034: [7133], 1547: [2738, 7177], 525: [3148], 2576: [4347], 529: [1299, 12248], 4121: [4191], 444: [1201], 543: [4285], 4640: [5515], 545: [11133], 2595: [8912, 9581, 11337], 549: [10919], 552: [3546], 263: [615], 5164: [5722], 45: [3556], 5166: [7769], 2607: [3464], 2097: [2120, 8841], 1074: [2980], 1075: [4676], 4660: [9782], 2613: [9593], 569: [6500], 1451: [6976], 3134: [8560], 577: [9278, 11652], 3083: [4562], 3653: [8446], 1095: [5941, 11159], 3658: [10447], 78: [714], 3155: [3454], 2644: [4883], 597: [8563], 1209: [11001], 3672: [10592], 1115: [1981], 4794: [9757], 5214: [11306], 4965: [8391], 3344: [6896], 5218: [5416, 6820, 8058, 10234], 699: [10331], 3942: [9788], 615: [11455], 4200: [11249], 3516: [11617], 1643: [5941], 2668: [8292], 111: [4038], 5480: [7137], 115: [7372], 1140: [2980, 8058, 10632, 11386], 1141: [4771], 3703: [6300], 632: [5129], 633: [7246], 1658: [4622], 2684: [11782], 1149: [6628, 8772], 2693: [5983], 4742: [8970, 10211], 135: [6966], 4716: [7224], 4727: [11746], 654: [4509], 146: [7826], 1683: [9555], 2710: [6244], 2712: [10119], 1177: [10083], 3226: [3556, 4038], 1179: [3167], 671: [5475], 3749: [10919], 2728: [7317, 11529], 3246: [6048, 8187], 5405: [9150], 1148: [11310], 2738: [3981], 2739: [7832, 10365], 3256: [12342], 1721: [2324], 2746: [2825], 1211: [3881], 714: [1876, 3914], 2750: [6877], 703: [1837], 4804: [12102], 4030: [12130], 5467: [11295], 3274: [7830], 2423: [3653, 11581], 5324: [7989], 5326: [11207], 3279: [10906], 4728: [7311], 5332: [11376], 3877: [4562], 1240: [4718], 4825: [7690], 218: [9555], 3450: [4644], 293: [2803, 9624], 1248: [4175], 2273: [9515], 3812: [12030], 742: [7695], 2428: [5719], 3306: [11263], 2855: [7521], 3820: [10349], 3310: [6698], 2288: [10948], 2801: [6620], 4850: [9497], 5364: [11374], 245: [10970], 3830: [9274, 11388], 2295: [10086], 3320: [4342], 2812: [9916], 1278: [6178], 256: [11743], 3843: [8383, 9062], 772: [7065], 1287: [8735], 4877: [9829], 1806: [10603], 1325: [9555, 12369], 2832: [4650], 3352: [4973], 1305: [5218, 6820], 47: [2276, 10475], 3356: [9654], 3357: [8918, 10340, 11071], 2336: [11166], 1317: [9354], 3377: [6428], 2344: [11325], 809: [7404], 2858: [6844], 4396: [5389], 813: [1535], 2862: [10787], 5423: [8467], 1329: [7468], 818: [11295], 312: [8136], 2361: [7458], 5434: [11071], 3899: [6699], 394: [4798, 8608], 830: [4024], 224: [10000], 1351: [7977], 5451: [10688], 3981: [6328, 6515], 336: [10097], 2389: [8873], 857: [7404], 2394: [7578], 1935: [4549], 5468: [7013], 2910: [8735], 2915: [4240], 4838: [11081], 870: [3516], 4455: [5018], 3944: [10670], 4457: [5136], 3437: [3961, 7372], 3442: [8343], 3956: [11857], 4981: [7778], 887: [9323], 1402: [5212, 8529], 1404: [3310, 4850, 6698], 381: [2104, 5700], 894: [6430], 896: [3877], 4999: [7837], 3466: [9569], 1421: [6281], 3982: [4544, 8058], 2447: [9278, 11221], 1688: [6871, 7317], 3480: [7475], 409: [4201], 924: [7442], 2975: [10827], 5024: [11401], 2979: [5339], 934: [5458], 423: [7694], 3496: [7095], 2460: [9819], 327: [5326, 9636], 5362: [12051, 12061], 1967: [5249], 438: [7806], 3515: [4394], 2492: [5636], 4029: [7769, 10280], 958: [9023], 4544: [10774], 3012: [6797], 2501: [2877], 2504: [3457], 3529: [11175], 3831: [8633, 10187, 11102], 461: [2837], 2510: [8668, 10268], 3535: [12100], 469: [5129], 4054: [4070, 9323], 991: [2832], 3040: [5731], 3187: [3548], 3556: [8136], 3494: [10331], 4070: [9323], 4397: [10261], 252: [8867], 490: [9016], 3054: [4109], 4592: [11018], 1521: [8978], 501: [7250, 12289], 3063: [7729]}\n",
      "5600\n",
      "{3585: [11280], 2563: [4029, 7977], 4102: [7735], 1034: [7133], 1547: [2738, 7177], 525: [3148], 2576: [4347], 529: [1299, 12248], 4121: [4191], 444: [1201], 543: [4285], 4640: [5515], 545: [11133], 2595: [8912, 9581, 11337], 549: [10919], 5542: [9056], 552: [3546], 263: [615], 5164: [5722], 45: [3556], 5166: [7769], 2607: [3464], 2097: [2120, 8841], 1074: [2980], 1075: [4676], 4660: [9782], 2613: [9593], 569: [6500], 1451: [6976], 3134: [8560], 577: [9278, 11652], 3083: [4562], 3653: [8446], 1095: [5941, 11159], 3658: [10447], 78: [714], 3155: [3454], 2644: [4883], 597: [8563], 1209: [11001], 3672: [10592], 1115: [1981], 4794: [9757], 5214: [11306], 4965: [8391], 3344: [6896], 5218: [5416, 6820, 8058, 10234], 699: [10331], 3942: [9788], 615: [11455], 4200: [11249], 3516: [11617], 1643: [5941], 2668: [8292], 111: [4038], 5480: [7137], 115: [7372], 1140: [2980, 8058, 10632, 11386], 1141: [4771], 3703: [6300], 632: [5129], 633: [7246], 1658: [4622], 2684: [11782], 1149: [6628, 8772], 2693: [5983], 4742: [8970, 10211], 135: [6966], 4716: [7224], 4727: [11746], 654: [4509], 146: [7826], 1683: [9555], 2710: [6244], 2712: [10119], 1177: [10083], 3226: [3556, 4038], 1179: [3167], 671: [5475], 3749: [10919], 2728: [7317, 11529], 3246: [6048, 8187], 5405: [9150], 1148: [11310], 2738: [3981], 2739: [7832, 10365], 3256: [12342], 1721: [2324], 2746: [2825], 1211: [3881], 714: [1876, 3914], 2750: [6877], 703: [1837], 4804: [12102], 4030: [12130], 5467: [11295], 3274: [7830], 2423: [3653, 11581], 5324: [7989], 5326: [11207], 3279: [10906], 4728: [7311], 5332: [11376], 3877: [4562], 1240: [4718], 4825: [7690], 218: [9555], 3450: [4644], 293: [2803, 9624], 1248: [4175], 2273: [9515], 3812: [12030], 742: [7695], 2428: [5719], 3306: [11263], 2855: [7521], 3820: [10349], 3310: [6698], 2288: [10948], 2801: [6620], 4850: [9497], 5364: [11374], 245: [10970], 3830: [9274, 11388], 2295: [10086], 3320: [4342], 2812: [9916], 1278: [6178], 256: [11743], 3843: [8383, 9062], 772: [7065], 1287: [8735], 4877: [9829], 1806: [10603], 1325: [9555, 12369], 2832: [4650], 3352: [4973], 1305: [5218, 6820], 47: [2276, 10475], 3356: [9654], 3357: [8918, 10340, 11071], 2336: [11166], 1317: [9354], 3377: [6428], 2344: [11325], 809: [7404], 2858: [6844], 4396: [5389], 813: [1535], 2862: [10787], 5423: [8467], 1329: [7468], 818: [11295], 312: [8136], 2361: [7458], 5434: [11071], 3899: [6699], 394: [4798, 8608], 830: [4024], 224: [10000], 1351: [7977], 5451: [10688], 3981: [6328, 6515], 336: [10097], 2389: [8873], 857: [7404], 2394: [7578], 1935: [4549], 5468: [7013], 2910: [8735], 2915: [4240], 4838: [11081], 870: [3516], 4455: [5018], 3944: [10670], 4457: [5136], 3437: [3961, 7372], 3442: [8343], 3956: [11857], 4981: [7778], 887: [9323], 1402: [5212, 8529], 1404: [3310, 4850, 6698], 381: [2104, 5700], 894: [6430], 896: [3877], 5505: [10820], 4999: [7837], 3466: [9569], 1421: [6281], 3982: [4544, 8058], 2447: [9278, 11221], 1688: [6871, 7317], 3480: [7475], 409: [4201], 924: [7442], 2975: [10827], 5024: [11401], 2979: [5339], 934: [5458], 423: [7694], 3496: [7095], 2460: [9819], 327: [5326, 9636], 5362: [12051, 12061], 1967: [5249], 438: [7806], 3515: [4394], 2492: [5636], 4029: [7769, 10280], 958: [9023], 4544: [10774], 3012: [6797], 2501: [2877], 2504: [3457], 3529: [11175], 3831: [8633, 10187, 11102], 461: [2837], 2510: [8668, 10268], 3535: [12100], 469: [5129], 4054: [4070, 9323], 991: [2832], 3040: [5731], 3187: [3548], 3556: [8136], 3494: [10331], 4070: [9323], 4397: [10261], 252: [8867], 490: [9016], 3054: [4109], 4592: [11018], 1521: [8978], 501: [7250, 12289], 3063: [7729]}\n",
      "5700\n",
      "{3585: [11280], 2563: [4029, 7977], 4102: [7735], 5641: [7680], 1034: [7133], 1547: [2738, 7177], 525: [3148], 2576: [4347], 529: [1299, 12248], 4121: [4191], 444: [1201], 543: [4285], 4640: [5515], 545: [11133], 2595: [8912, 9581, 11337], 549: [10919], 5542: [9056], 552: [3546], 263: [615], 5164: [5722], 45: [3556], 5166: [7769], 2607: [3464], 2097: [2120, 8841], 1074: [2980], 1075: [4676], 4660: [9782], 2613: [9593], 569: [6500], 1451: [6976], 3134: [8560], 577: [9278, 11652], 3083: [4562], 3653: [8446], 1095: [5941, 11159], 3658: [10447], 78: [714], 3155: [3454], 2644: [4883], 597: [8563], 1209: [11001], 3672: [10592], 1115: [1981], 4794: [9757], 5214: [11306], 4965: [8391], 3344: [6896], 5218: [5416, 6820, 8058, 10234], 699: [10331], 3942: [9788], 615: [11455], 4200: [11249], 3516: [11617], 1643: [5941], 2668: [8292], 111: [4038], 5480: [7137], 115: [7372], 1140: [2980, 8058, 10632, 11386], 1141: [4771], 3703: [6300], 632: [5129], 633: [7246], 1658: [4622], 2684: [11782], 1149: [6628, 8772], 2693: [5983], 4742: [8970, 10211], 135: [6966], 4716: [7224], 4727: [11746], 654: [4509], 146: [7826], 1683: [9555], 2710: [6244], 2712: [10119], 1177: [10083], 3226: [3556, 4038], 1179: [3167], 671: [5475], 3749: [10919], 2728: [7317, 11529], 3246: [6048, 8187], 5405: [9150], 1148: [11310], 2738: [3981], 2739: [7832, 10365], 3256: [12342], 1721: [2324], 2746: [2825], 1211: [3881], 714: [1876, 3914], 2750: [6877], 703: [1837], 4804: [12102], 4030: [12130], 5467: [11295], 3274: [7830], 2423: [3653, 11581], 5324: [7989], 5326: [11207], 3279: [10906], 4728: [7311], 5332: [11376], 3877: [4562], 1240: [4718], 4825: [7690], 218: [9555], 3450: [4644], 293: [2803, 9624], 1248: [4175], 2273: [9515], 3812: [12030], 742: [7695], 2428: [5719], 3306: [11263], 2855: [7521], 3820: [10349], 3310: [6698], 2288: [10948], 2801: [6620], 4850: [9497], 5364: [11374], 245: [10970], 3830: [9274, 11388], 2295: [10086], 3320: [4342], 2812: [9916], 1278: [6178], 256: [11743], 3843: [8383, 9062], 772: [7065], 1287: [8735], 4877: [9829], 1806: [10603], 1325: [9555, 12369], 2832: [4650], 3352: [4973], 1305: [5218, 6820], 47: [2276, 10475], 3356: [9654], 3357: [8918, 10340, 11071], 2336: [11166], 1317: [9354], 3377: [6428], 2344: [11325], 809: [7404], 2858: [6844], 4396: [5389], 813: [1535], 2862: [10787], 5423: [8467], 1329: [7468], 818: [11295], 312: [8136], 2361: [7458], 5434: [11071], 3899: [6699], 394: [4798, 8608], 830: [4024], 224: [10000], 1351: [7977], 5451: [10688], 3981: [6328, 6515], 336: [10097], 2389: [8873], 857: [7404], 2394: [7578], 1935: [4549], 5468: [7013], 2910: [8735], 2915: [4240], 4838: [11081], 870: [3516], 4455: [5018], 3944: [10670], 4457: [5136], 3437: [3961, 7372], 3442: [8343], 3956: [11857], 4981: [7778], 887: [9323], 1402: [5212, 8529], 1404: [3310, 4850, 6698], 381: [2104, 5700], 894: [6430], 896: [3877], 5505: [10820], 4999: [7837], 3466: [9569], 1421: [6281], 3982: [4544, 8058], 2447: [9278, 11221], 1688: [6871, 7317], 3480: [7475], 409: [4201], 924: [7442], 2975: [10827], 5024: [11401], 2979: [5339], 934: [5458], 423: [7694], 3496: [7095], 2460: [9819], 327: [5326, 9636], 5362: [12051, 12061], 1967: [5249], 438: [7806], 3515: [4394], 2492: [5636], 4029: [7769, 10280], 958: [9023], 4544: [10774], 3012: [6797], 2501: [2877], 2504: [3457], 3529: [11175], 3831: [8633, 10187, 11102], 461: [2837], 2510: [8668, 10268], 3535: [12100], 469: [5129], 4054: [4070, 9323], 991: [2832], 3040: [5731], 3187: [3548], 3556: [8136], 3494: [10331], 4070: [9323], 4397: [10261], 252: [8867], 490: [9016], 3054: [4109], 4592: [11018], 1521: [8978], 501: [7250, 12289], 3063: [7729]}\n"
     ]
    },
    {
     "name": "stdout",
     "output_type": "stream",
     "text": [
      "5800\n",
      "{3585: [11280], 2563: [4029, 7977], 4102: [7735], 5641: [7680], 1034: [7133], 1547: [2738, 7177], 525: [3148], 2576: [4347], 529: [1299, 12248], 4121: [4191], 444: [1201], 543: [4285], 4640: [5515], 545: [11133], 2595: [8912, 9581, 11337], 549: [10919], 5542: [9056], 552: [3546], 263: [615], 5164: [5722], 45: [3556], 5166: [7769], 2607: [3464], 2097: [2120, 8841], 1074: [2980], 1075: [4676], 4660: [9782], 2613: [9593], 569: [6500], 1451: [6976], 3134: [8560], 577: [9278, 11652], 3083: [4562], 3653: [8446], 1095: [5941, 11159], 3658: [10447], 78: [714], 3155: [3454], 2644: [4883], 597: [8563], 1209: [11001], 3672: [10592], 1115: [1981], 4794: [9757], 5214: [11306], 4965: [8391], 3344: [6896], 5218: [5416, 6820, 8058, 10234], 699: [10331], 3942: [9788], 615: [11455], 4200: [11249], 3516: [11617], 1643: [5941], 2668: [8292], 111: [4038], 5480: [7137], 115: [7372], 1140: [2980, 8058, 10632, 11386], 1141: [4771], 3703: [6300], 632: [5129], 633: [7246], 1658: [4622], 2684: [11782], 1149: [6628, 8772], 2693: [5983], 4742: [8970, 10211], 135: [6966], 4716: [7224], 4727: [11746], 654: [4509], 146: [7826], 1683: [9555], 2710: [6244], 2712: [10119], 1177: [10083], 3226: [3556, 4038], 1179: [3167], 5790: [9150], 671: [5475], 5795: [5966, 7727, 9232], 3749: [10919], 2728: [7317, 11529], 5743: [6147], 3246: [6048, 8187], 5405: [9150], 1148: [11310], 2738: [3981], 2739: [7832, 10365], 3256: [12342], 1721: [2324], 2746: [2825], 1211: [3881], 714: [1876, 3914], 2750: [6877], 703: [1837], 4804: [12102], 4030: [12130], 5467: [11295], 3274: [7830], 2423: [3653, 11581], 5324: [7989], 5326: [11207], 3279: [10906], 4728: [7311], 5332: [11376], 3877: [4562], 1240: [4718], 4825: [7690], 218: [9555], 3450: [4644], 293: [2803, 9624], 1248: [4175], 2273: [9515], 3812: [12030], 742: [7695], 2428: [5719], 3306: [11263], 2855: [7521], 3820: [10349], 3310: [6698], 2288: [10948], 2801: [6620], 4850: [9497], 5364: [11374], 245: [10970], 3830: [9274, 11388], 2295: [10086], 3320: [4342], 2812: [9916], 1278: [6178], 256: [11743], 3843: [8383, 9062], 772: [7065], 1287: [8735], 4877: [9829], 1806: [10603], 1325: [9555, 12369], 2832: [4650], 3352: [4973], 1305: [5218, 6820], 47: [2276, 10475], 3356: [9654], 3357: [8918, 10340, 11071], 2336: [11166], 1317: [9354], 3377: [6428], 2344: [11325], 809: [7404], 2858: [6844], 4396: [5389], 813: [1535], 2862: [10787], 5423: [8467], 1329: [7468], 818: [11295], 312: [8136], 2361: [7458], 5434: [11071], 3899: [6699], 394: [4798, 8608], 830: [4024], 224: [10000], 1351: [7977], 5451: [10688], 3981: [6328, 6515], 336: [10097], 2389: [8873], 857: [7404], 2394: [7578], 1935: [4549], 5468: [7013], 2910: [8735], 2915: [4240], 4838: [11081], 870: [3516], 4455: [5018], 3944: [10670], 4457: [5136], 3437: [3961, 7372], 3442: [8343], 3956: [11857], 4981: [7778], 887: [9323], 1402: [5212, 8529], 1404: [3310, 4850, 6698], 381: [2104, 5700], 894: [6430], 896: [3877], 5505: [10820], 4999: [7837], 3466: [9569], 1421: [6281], 3982: [4544, 8058], 2447: [9278, 11221], 1688: [6871, 7317], 3480: [7475], 409: [4201], 924: [7442], 2975: [10827], 5024: [11401], 2979: [5339], 934: [5458], 423: [7694], 3496: [7095], 2460: [9819], 327: [5326, 9636], 5362: [12051, 12061], 1967: [5249], 438: [7806], 3515: [4394], 2492: [5636], 4029: [7769, 10280], 958: [9023], 4544: [10774], 3012: [6797], 2501: [2877], 2504: [3457], 3529: [11175], 3831: [8633, 10187, 11102], 461: [2837], 2510: [8668, 10268], 3535: [12100], 469: [5129], 4054: [4070, 9323], 991: [2832], 3040: [5731], 3187: [3548], 3556: [8136], 3494: [10331], 4070: [9323], 4397: [10261], 252: [8867], 490: [9016], 3054: [4109], 4592: [11018], 1521: [8978], 501: [7250, 12289], 3063: [7729]}\n",
      "5900\n",
      "{3585: [11280], 2563: [4029, 7977], 4102: [7735], 5641: [7680], 1034: [7133], 1547: [2738, 7177], 525: [3148], 5805: [7307], 2576: [4347], 529: [1299, 12248], 4121: [4191], 444: [1201], 543: [4285], 4640: [5515], 545: [11133], 2595: [8912, 9581, 11337], 549: [10919], 5542: [9056], 552: [3546], 263: [615], 5164: [5722], 45: [3556], 5166: [7769], 2607: [3464], 2097: [2120, 8841], 1074: [2980], 1075: [4676], 4660: [9782], 2613: [9593], 569: [6500], 1451: [6976], 3134: [8560], 577: [9278, 11652], 3083: [4562], 3653: [8446], 1095: [5941, 11159], 3658: [10447], 78: [714], 3155: [3454], 2644: [4883], 597: [8563], 1209: [11001], 3672: [10592], 1115: [1981], 4794: [9757], 5214: [11306], 4965: [8391], 3344: [6896], 5218: [5416, 6820, 8058, 10234], 699: [10331], 3942: [9788], 615: [11455], 4200: [11249], 3516: [11617], 1643: [5941], 2668: [8292], 111: [4038], 5480: [7137], 115: [7372], 1140: [2980, 8058, 10632, 11386], 1141: [4771], 3703: [6300], 632: [5129], 633: [7246], 1658: [4622], 2684: [11782], 1149: [6628, 8772], 2693: [5983], 4742: [8970, 10211], 135: [6966], 4716: [7224], 4727: [11746], 654: [4509], 146: [7826], 1683: [9555], 2710: [6244], 2712: [10119], 1177: [10083], 3226: [3556, 4038], 1179: [3167], 5790: [9150], 671: [5475], 5795: [5966, 7727, 9232], 3749: [10919], 2728: [7317, 11529], 5743: [6147], 3246: [6048, 8187], 5405: [9150], 1148: [11310], 2738: [3981], 2739: [7832, 10365], 3256: [12342], 1721: [2324], 2746: [2825], 1211: [3881], 714: [1876, 3914], 2750: [6877], 703: [1837], 4804: [12102], 4030: [12130], 5467: [11295], 3274: [7830], 2423: [3653, 11581], 5324: [7989], 5326: [11207], 3279: [10906], 4728: [7311], 5332: [11376], 3877: [4562], 1240: [4718], 4825: [7690], 218: [9555], 3450: [4644], 293: [2803, 9624], 1248: [4175], 2273: [9515], 3812: [12030], 742: [7695], 2428: [5719], 3306: [11263], 2855: [7521], 3820: [10349], 3310: [6698], 2288: [10948], 2801: [6620], 4850: [9497], 5364: [11374], 245: [10970], 3830: [9274, 11388], 2295: [10086], 3320: [4342], 2812: [9916], 1278: [6178], 256: [11743], 3843: [8383, 9062], 772: [7065], 1287: [8735], 4877: [9829], 1806: [10603], 1325: [9555, 12369], 2832: [4650], 3352: [4973], 1305: [5218, 6820], 47: [2276, 10475], 3356: [9654], 3357: [8918, 10340, 11071], 2336: [11166], 1317: [9354], 3377: [6428], 2344: [11325], 809: [7404], 2858: [6844], 4396: [5389], 813: [1535], 2862: [10787], 5423: [8467], 1329: [7468], 818: [11295], 312: [8136], 2361: [7458], 5434: [11071], 3899: [6699], 394: [4798, 8608], 830: [4024], 224: [10000], 1351: [7977], 5451: [10688], 3981: [6328, 6515], 336: [10097], 2389: [8873], 857: [7404], 2394: [7578], 1935: [4549], 5468: [7013], 2910: [8735], 2915: [4240], 4838: [11081], 870: [3516], 4455: [5018], 3944: [10670], 4457: [5136], 3437: [3961, 7372], 3442: [8343], 3956: [11857], 4981: [7778], 887: [9323], 1402: [5212, 8529], 1404: [3310, 4850, 6698], 381: [2104, 5700], 894: [6430], 896: [3877], 5505: [10820], 4999: [7837], 3466: [9569], 1421: [6281], 3982: [4544, 8058], 2447: [9278, 11221], 1688: [6871, 7317], 3480: [7475], 409: [4201], 924: [7442], 2975: [10827], 5024: [11401], 2979: [5339], 934: [5458], 423: [7694], 3496: [7095], 2460: [9819], 327: [5326, 9636], 5362: [12051, 12061], 1967: [5249], 438: [7806], 3515: [4394], 2492: [5636], 4029: [7769, 10280], 958: [9023], 4544: [10774], 3012: [6797], 2501: [2877], 2504: [3457], 3529: [11175], 3831: [8633, 10187, 11102], 461: [2837], 2510: [8668, 10268], 3535: [12100], 469: [5129], 4054: [4070, 9323], 991: [2832], 3040: [5731], 3187: [3548], 3556: [8136], 3494: [10331], 4070: [9323], 4397: [10261], 252: [8867], 490: [9016], 3054: [4109], 4592: [11018], 1521: [8978], 501: [7250, 12289], 3063: [7729]}\n",
      "6000\n",
      "{3585: [11280], 2563: [4029, 7977], 4102: [7735], 5641: [7680], 1034: [7133], 1547: [2738, 7177], 525: [3148], 5805: [7307], 2576: [4347], 529: [1299, 12248], 4121: [4191], 444: [1201], 543: [4285], 4640: [5515], 545: [11133], 2595: [8912, 9581, 11337], 549: [10919], 5542: [9056], 552: [3546], 263: [615], 5164: [5722], 45: [3556], 5166: [7769], 2607: [3464], 2097: [2120, 8841], 1074: [2980], 1075: [4676], 4660: [9782], 2613: [9593], 569: [6500], 1451: [6976], 3134: [8560], 577: [9278, 11652], 3083: [4562], 3653: [8446], 1095: [5941, 11159], 3658: [10447], 78: [714], 3155: [3454], 2644: [4883], 597: [8563], 1209: [11001], 3672: [10592], 1115: [1981], 4794: [9757], 5214: [11306], 4965: [8391], 3344: [6896], 5218: [5416, 6820, 8058, 10234], 699: [10331], 3942: [9788], 615: [11455], 4200: [11249], 3516: [11617], 1643: [5941], 2668: [8292], 111: [4038], 5480: [7137], 115: [7372], 1140: [2980, 8058, 10632, 11386], 1141: [4771], 3703: [6300], 632: [5129], 633: [7246], 1658: [4622], 2684: [11782], 1149: [6628, 8772], 2693: [5983], 4742: [8970, 10211], 135: [6966], 4716: [7224], 4727: [11746], 654: [4509], 146: [7826], 1683: [9555], 2710: [6244], 2712: [10119], 1177: [10083], 3226: [3556, 4038], 1179: [3167], 5790: [9150], 671: [5475], 5795: [5966, 7727, 9232], 3749: [10919], 2728: [7317, 11529], 5743: [6147], 3246: [6048, 8187], 5405: [9150], 1148: [11310], 2738: [3981], 2739: [7832, 10365], 3256: [12342], 1721: [2324], 2746: [2825], 1211: [3881], 714: [1876, 3914], 2750: [6877], 703: [1837], 4804: [12102], 4030: [12130], 5467: [11295], 3274: [7830], 2423: [3653, 11581], 5324: [7989], 5326: [11207], 3279: [10906], 4728: [7311], 5332: [11376], 3877: [4562], 1240: [4718], 4825: [7690], 218: [9555], 3450: [4644], 293: [2803, 9624], 1248: [4175], 2273: [9515], 3812: [12030], 742: [7695], 2428: [5719], 3306: [11263], 2855: [7521], 3820: [10349], 3310: [6698], 2288: [10948], 2801: [6620], 4850: [9497], 5364: [11374], 245: [10970], 3830: [9274, 11388], 2295: [10086], 3320: [4342], 2812: [9916], 1278: [6178], 256: [11743], 3843: [8383, 9062], 772: [7065], 1287: [8735], 4877: [9829], 1806: [10603], 1325: [9555, 12369], 2832: [4650], 3352: [4973], 1305: [5218, 6820], 47: [2276, 10475], 3356: [9654], 3357: [8918, 10340, 11071], 2336: [11166], 5923: [8912, 9581, 11337], 1317: [9354], 3377: [6428], 2344: [11325], 809: [7404], 2858: [6844], 4396: [5389], 813: [1535], 2862: [10787], 5423: [8467], 1329: [7468], 818: [11295], 5941: [11159, 12028], 5942: [12233], 312: [8136], 2361: [7458], 5434: [11071], 3899: [6699], 394: [4798, 8608], 830: [4024], 224: [10000], 1351: [7977], 5451: [10688], 5966: [7206, 7727], 3981: [6328, 6515], 336: [10097], 2389: [8873], 857: [7404], 2394: [7578], 1935: [4549], 5468: [7013], 2910: [8735], 2915: [4240], 4838: [11081], 870: [3516], 4455: [5018], 3944: [10670], 4457: [5136], 3437: [3961, 7372], 3442: [8343], 3956: [11857], 4981: [7778], 887: [9323], 1402: [5212, 8529], 1404: [3310, 4850, 6698], 381: [2104, 5700], 894: [6430], 896: [3877], 5505: [10820], 4999: [7837], 3466: [9569], 1421: [6281], 3982: [4544, 8058], 2447: [9278, 11221], 1688: [6871, 7317], 3480: [7475], 409: [4201], 924: [7442], 2975: [10827], 5024: [11401], 2979: [5339], 934: [5458], 423: [7694], 3496: [7095], 2460: [9819], 327: [5326, 9636], 5362: [12051, 12061], 1967: [5249], 438: [7806], 3515: [4394], 2492: [5636], 4029: [7769, 10280], 958: [9023], 4544: [10774], 3012: [6797], 2501: [2877], 2504: [3457], 3529: [11175], 3831: [8633, 10187, 11102], 461: [2837], 2510: [8668, 10268], 3535: [12100], 469: [5129], 4054: [4070, 9323], 991: [2832], 3040: [5731], 3187: [3548], 3556: [8136], 3494: [10331], 4070: [9323], 4397: [10261], 252: [8867], 490: [9016], 3054: [4109], 4592: [11018], 1521: [8978], 501: [7250, 12289], 3063: [7729]}\n"
     ]
    },
    {
     "name": "stdout",
     "output_type": "stream",
     "text": [
      "6100\n",
      "{3585: [11280], 2563: [4029, 7977], 4102: [7735], 5641: [7680], 1034: [7133], 1547: [2738, 7177], 525: [3148], 5805: [7307], 2576: [4347], 529: [1299, 12248], 4121: [4191], 444: [1201], 543: [4285], 4640: [5515], 545: [11133], 2595: [8912, 9581, 11337], 549: [10919], 5542: [9056], 552: [3546], 263: [615], 5164: [5722], 45: [3556], 5166: [7769], 2607: [3464], 2097: [2120, 8841], 1074: [2980], 1075: [4676], 4660: [9782], 2613: [9593], 569: [6500], 1451: [6976], 3134: [8560], 577: [9278, 11652], 3083: [4562], 3653: [8446], 1095: [5941, 11159], 3658: [10447], 78: [714], 3155: [3454], 2644: [4883], 597: [8563], 1209: [11001], 3672: [10592], 1115: [1981], 4794: [9757], 5214: [11306], 4965: [8391], 3344: [6896], 5218: [5416, 6820, 8058, 10234], 699: [10331], 3942: [9788], 615: [11455], 4200: [11249], 3516: [11617], 1643: [5941], 2668: [8292], 111: [4038], 5480: [7137], 115: [7372], 1140: [2980, 8058, 10632, 11386], 1141: [4771], 3703: [6300], 632: [5129], 633: [7246], 1658: [4622], 2684: [11782], 1149: [6628, 8772], 2693: [5983], 4742: [8970, 10211], 135: [6966], 4716: [7224], 4727: [11746], 654: [4509], 146: [7826], 1683: [9555], 2710: [6244], 2712: [10119], 1177: [10083], 3226: [3556, 4038], 1179: [3167], 5790: [9150], 671: [5475], 5795: [5966, 7727, 9232], 3749: [10919], 2728: [7317, 11529], 5743: [6147], 3246: [6048, 8187], 5405: [9150], 1148: [11310], 2738: [3981], 2739: [7832, 10365], 3256: [12342], 1721: [2324], 2746: [2825], 1211: [3881], 714: [1876, 3914], 2750: [6877], 703: [1837], 4804: [12102], 4030: [12130], 5467: [11295], 3274: [7830], 2423: [3653, 11581], 5324: [7989], 5326: [11207], 3279: [10906], 4728: [7311], 5332: [11376], 3877: [4562], 1240: [4718], 4825: [7690], 218: [9555], 3450: [4644], 293: [2803, 9624], 1248: [4175], 2273: [9515], 3812: [12030], 742: [7695], 2428: [5719], 3306: [11263], 2855: [7521], 3820: [10349], 3310: [6698], 2288: [10948], 2801: [6620], 4850: [9497], 5364: [11374], 245: [10970], 3830: [9274, 11388], 2295: [10086], 3320: [4342], 2812: [9916], 1278: [6178], 256: [11743], 3843: [8383, 9062], 772: [7065], 1287: [8735], 4877: [9829], 1806: [10603], 1325: [9555, 12369], 2832: [4650], 6030: [7620], 3352: [4973], 1305: [5218, 6820], 47: [2276, 10475], 3356: [9654], 3357: [8918, 10340, 11071], 2336: [11166], 5923: [8912, 9581, 11337], 1317: [9354], 3377: [6428], 2344: [11325], 809: [7404], 2858: [6844], 6023: [10478], 4396: [5389], 813: [1535], 2862: [10787], 5423: [8467], 1329: [7468], 818: [11295], 5941: [11159, 12028], 5942: [12233], 312: [8136], 2361: [7458], 5434: [11071], 3899: [6699], 394: [4798, 8608], 830: [4024], 224: [10000], 1351: [7977], 5451: [10688], 5966: [7206, 7727], 3981: [6328, 6515], 336: [10097], 2389: [8873], 857: [7404], 2394: [7578], 1935: [4549], 5468: [7013], 2910: [8735], 2915: [4240], 4838: [11081], 870: [3516], 4455: [5018], 3944: [10670], 4457: [5136], 3437: [3961, 7372], 3442: [8343], 3956: [11857], 4981: [7778], 887: [9323], 1402: [5212, 8529], 1404: [3310, 4850, 6698], 381: [2104, 5700], 894: [6430], 896: [3877], 5505: [10820], 4999: [7837], 3466: [9569], 1421: [6281], 3982: [4544, 8058], 2447: [9278, 11221], 1688: [6871, 7317], 6034: [12314], 3480: [7475], 409: [4201], 924: [7442], 2975: [10827], 5024: [11401], 2979: [5339], 934: [5458], 423: [7694], 3496: [7095], 2460: [9819], 327: [5326, 9636], 5362: [12051, 12061], 1967: [5249], 438: [7806], 3515: [4394], 2492: [5636], 4029: [7769, 10280], 958: [9023], 4544: [10774], 3012: [6797], 2501: [2877], 2504: [3457], 3529: [11175], 3831: [8633, 10187, 11102], 461: [2837], 2510: [8668, 10268], 3535: [12100], 469: [5129], 4054: [4070, 9323], 991: [2832], 3040: [5731], 3187: [3548], 3556: [8136], 3494: [10331], 4070: [9323], 4397: [10261], 252: [8867], 490: [9016], 3054: [4109], 4592: [11018], 1521: [8978], 501: [7250, 12289], 3063: [7729]}\n",
      "6200\n",
      "{3585: [11280], 2563: [4029, 7977], 4102: [7735], 5641: [7680], 1034: [7133], 1547: [2738, 7177], 525: [3148], 5805: [7307], 2576: [4347], 529: [1299, 12248], 4121: [4191], 444: [1201], 543: [4285], 4640: [5515], 545: [11133], 2595: [8912, 9581, 11337], 549: [10919], 5542: [9056], 552: [3546], 6185: [6860], 263: [615], 5164: [5722], 45: [3556], 5166: [7769], 2607: [3464], 2097: [2120, 8841], 1074: [2980], 1075: [4676], 4660: [9782], 2613: [9593], 569: [6500], 1451: [6976], 3134: [8560], 577: [9278, 11652], 3083: [4562], 3653: [8446], 1095: [5941, 11159], 3658: [10447], 78: [714], 3155: [3454], 2644: [4883], 597: [8563], 1209: [11001], 3672: [10592], 1115: [1981], 4794: [9757], 5214: [11306], 4965: [8391], 3344: [6896], 5218: [5416, 6820, 8058, 10234], 699: [10331], 3942: [9788], 615: [11455], 4200: [11249], 3516: [11617], 1643: [5941], 2668: [8292], 111: [4038], 5480: [7137], 115: [7372], 1140: [2980, 8058, 10632, 11386], 1141: [4771], 3703: [6300], 632: [5129], 633: [7246], 1658: [4622], 2684: [11782], 1149: [6628, 8772], 2693: [5983], 4742: [8970, 10211], 135: [6966], 4716: [7224], 4727: [11746], 654: [4509], 146: [7826], 1683: [9555], 2710: [6244], 2712: [10119], 1177: [10083], 3226: [3556, 4038], 1179: [3167], 5790: [9150], 671: [5475], 5795: [5966, 7727, 9232], 3749: [10919], 2728: [7317, 11529], 5743: [6147], 3246: [6048, 8187], 5405: [9150], 1148: [11310], 2738: [3981], 2739: [7832, 10365], 3256: [12342], 1721: [2324], 2746: [2825], 1211: [3881], 714: [1876, 3914], 2750: [6877], 703: [1837], 4804: [12102], 4030: [12130], 5467: [11295], 3274: [7830], 2423: [3653, 11581], 5324: [7989], 5326: [11207], 3279: [10906], 4728: [7311], 5332: [11376], 3877: [4562], 1240: [4718], 4825: [7690], 218: [9555], 3450: [4644], 293: [2803, 9624], 1248: [4175], 2273: [9515], 3812: [12030], 742: [7695], 2428: [5719], 3306: [11263], 2855: [7521], 3820: [10349], 3310: [6698], 2288: [10948], 2801: [6620], 4850: [9497], 5364: [11374], 245: [10970], 3830: [9274, 11388], 2295: [10086], 3320: [4342], 2812: [9916], 1278: [6178], 256: [11743], 3843: [8383, 9062], 772: [7065], 1287: [8735], 4877: [9829], 1806: [10603], 1325: [9555, 12369], 2832: [4650], 6030: [7620], 3352: [4973], 1305: [5218, 6820], 47: [2276, 10475], 3356: [9654], 3357: [8918, 10340, 11071], 2336: [11166], 5923: [8912, 9581, 11337], 1317: [9354], 3377: [6428], 2344: [11325], 809: [7404], 2858: [6844], 6023: [10478], 4396: [5389], 813: [1535], 2862: [10787], 5423: [8467], 1329: [7468], 818: [11295], 5941: [11159, 12028], 5942: [12233], 312: [8136], 2361: [7458], 5434: [11071], 3899: [6699], 394: [4798, 8608], 830: [4024], 224: [10000], 1351: [7977], 5451: [10688], 5966: [7206, 7727], 3981: [6328, 6515], 336: [10097], 2389: [8873], 857: [7404], 2394: [7578], 1935: [4549], 5468: [7013], 2910: [8735], 2915: [4240], 4838: [11081], 870: [3516], 4455: [5018], 3944: [10670], 4457: [5136], 3437: [3961, 7372], 3442: [8343], 3956: [11857], 4981: [7778], 887: [9323], 1402: [5212, 8529], 1404: [3310, 4850, 6698], 381: [2104, 5700], 894: [6430], 896: [3877], 5505: [10820], 4999: [7837], 3466: [9569], 1421: [6281], 3982: [4544, 8058], 2447: [9278, 11221], 1688: [6871, 7317], 6034: [12314], 3480: [7475], 409: [4201], 924: [7442], 2975: [10827], 5024: [11401], 2979: [5339], 934: [5458], 423: [7694], 3496: [7095], 2460: [9819], 327: [5326, 9636], 5362: [12051, 12061], 1967: [5249], 438: [7806], 3515: [4394], 2492: [5636], 4029: [7769, 10280], 958: [9023], 4544: [10774], 3012: [6797], 2501: [2877], 2504: [3457], 3529: [11175], 3831: [8633, 10187, 11102], 461: [2837], 2510: [8668, 10268], 3535: [12100], 469: [5129], 4054: [4070, 9323], 991: [2832], 3040: [5731], 3187: [3548], 3556: [8136], 3494: [10331], 4070: [9323], 4397: [10261], 252: [8867], 490: [9016], 3054: [4109], 4592: [11018], 1521: [8978], 501: [7250, 12289], 3063: [7729]}\n",
      "6300\n",
      "{3585: [11280], 2563: [4029, 7977], 4102: [7735], 5641: [7680], 1034: [7133], 1547: [2738, 7177], 525: [3148], 5805: [7307], 2576: [4347], 529: [1299, 12248], 4121: [4191], 444: [1201], 543: [4285], 4640: [5515], 545: [11133], 2595: [8912, 9581, 11337], 549: [10919], 5542: [9056], 552: [3546], 6185: [6860], 263: [615], 5164: [5722], 45: [3556], 5166: [7769], 2607: [3464], 2097: [2120, 8841], 1074: [2980], 1075: [4676], 4660: [9782], 2613: [9593], 569: [6500], 1451: [6976], 3134: [8560], 577: [9278, 11652], 3083: [4562], 3653: [8446], 1095: [5941, 11159], 3658: [10447], 78: [714], 3155: [3454], 2644: [4883], 597: [8563], 1209: [11001], 3672: [10592], 6234: [6845], 1115: [1981], 4794: [9757], 5214: [11306], 4965: [8391], 3344: [6896], 5218: [5416, 6820, 8058, 10234], 699: [10331], 3942: [9788], 615: [11455], 4200: [11249], 3516: [11617], 1643: [5941], 2668: [8292], 111: [4038], 5480: [7137], 115: [7372], 1140: [2980, 8058, 10632, 11386], 1141: [4771], 3703: [6300], 632: [5129], 633: [7246], 1658: [4622], 2684: [11782], 1149: [6628, 8772], 2693: [5983], 4742: [8970, 10211], 135: [6966], 4716: [7224], 4727: [11746], 654: [4509], 146: [7826], 1683: [9555], 2710: [6244], 2712: [10119], 1177: [10083], 3226: [3556, 4038], 1179: [3167], 5790: [9150], 671: [5475], 5795: [5966, 7727, 9232], 3749: [10919], 2728: [7317, 11529], 5743: [6147], 3246: [6048, 8187], 5405: [9150], 1148: [11310], 2738: [3981], 2739: [7832, 10365], 3256: [12342], 1721: [2324], 2746: [2825], 1211: [3881], 714: [1876, 3914], 2750: [6877], 703: [1837], 4804: [12102], 4030: [12130], 5467: [11295], 3274: [7830], 2423: [3653, 11581], 5324: [7989], 5326: [11207], 3279: [10906], 4728: [7311], 5332: [11376], 3877: [4562], 6265: [10478], 1240: [4718], 4825: [7690], 218: [9555], 3450: [4644], 293: [2803, 9624], 1248: [4175], 2273: [9515], 3812: [12030], 742: [7695], 2428: [5719], 3306: [11263], 2855: [7521], 3820: [10349], 3310: [6698], 2288: [10948], 2801: [6620], 4850: [9497], 5364: [11374], 245: [10970], 3830: [9274, 11388], 2295: [10086], 3320: [4342], 2812: [9916], 1278: [6178], 256: [11743], 3843: [8383, 9062], 772: [7065], 1287: [8735], 4877: [9829], 1806: [10603], 1325: [9555, 12369], 2832: [4650], 6030: [7620], 3352: [4973], 1305: [5218, 6820], 47: [2276, 10475], 3356: [9654], 3357: [8918, 10340, 11071], 2336: [11166], 5923: [8912, 9581, 11337], 1317: [9354], 3377: [6428], 2344: [11325], 809: [7404], 2858: [6844], 6023: [10478], 4396: [5389], 813: [1535], 2862: [10787], 5423: [8467], 1329: [7468], 818: [11295], 5941: [11159, 12028], 5942: [12233], 312: [8136], 2361: [7458], 5434: [11071], 3899: [6699], 394: [4798, 8608], 830: [4024], 224: [10000], 1351: [7977], 5451: [10688], 5966: [7206, 7727], 3981: [6328, 6515], 336: [10097], 6268: [6699], 2389: [8873], 857: [7404], 2394: [7578], 1935: [4549], 5468: [7013], 2910: [8735], 2915: [4240], 4838: [11081], 870: [3516], 4455: [5018], 3944: [10670], 4457: [5136], 3437: [3961, 7372], 3442: [8343], 3956: [11857], 4981: [7778], 887: [9323], 1402: [5212, 8529], 1404: [3310, 4850, 6698], 381: [2104, 5700], 894: [6430], 896: [3877], 5505: [10820], 6290: [8347], 4999: [7837], 3466: [9569], 1421: [6281], 3982: [4544, 8058], 2447: [9278, 11221], 1688: [6871, 7317], 6034: [12314], 3480: [7475], 409: [4201], 924: [7442], 2975: [10827], 5024: [11401], 2979: [5339], 934: [5458], 423: [7694], 3496: [7095], 2460: [9819], 327: [5326, 9636], 5362: [12051, 12061], 1967: [5249], 438: [7806], 3515: [4394], 2492: [5636], 4029: [7769, 10280], 958: [9023], 4544: [10774], 3012: [6797], 2501: [2877], 2504: [3457], 3529: [11175], 3831: [8633, 10187, 11102], 461: [2837], 2510: [8668, 10268], 3535: [12100], 469: [5129], 4054: [4070, 9323], 991: [2832], 3040: [5731], 3187: [3548], 3556: [8136], 3494: [10331], 4070: [9323], 4397: [10261], 252: [8867], 490: [9016], 3054: [4109], 4592: [11018], 1521: [8978], 501: [7250, 12289], 3063: [7729], 6228: [11095]}\n"
     ]
    },
    {
     "name": "stdout",
     "output_type": "stream",
     "text": [
      "6400\n",
      "{3585: [11280], 2563: [4029, 7977], 4102: [7735], 5641: [7680], 1034: [7133], 1547: [2738, 7177], 525: [3148], 5805: [7307], 2576: [4347], 529: [1299, 12248], 4121: [4191], 444: [1201], 543: [4285], 4640: [5515], 545: [11133], 2595: [8912, 9581, 11337], 549: [10919], 5542: [9056], 552: [3546], 6185: [6860], 263: [615], 5164: [5722], 45: [3556], 5166: [7769], 2607: [3464], 2097: [2120, 8841], 1074: [2980], 1075: [4676], 4660: [9782], 2613: [9593], 569: [6500], 1451: [6976], 3134: [8560], 577: [9278, 11652], 3083: [4562], 3653: [8446], 1095: [5941, 11159], 3658: [10447], 78: [714], 3155: [3454], 2644: [4883], 597: [8563], 1209: [11001], 3672: [10592], 6234: [6845], 1115: [1981], 4794: [9757], 5214: [11306], 4965: [8391], 3344: [6896], 5218: [5416, 6820, 8058, 10234], 699: [10331], 3942: [9788], 615: [11455], 4200: [11249], 3516: [11617], 1643: [5941], 2668: [8292], 111: [4038], 5480: [7137], 115: [7372], 1140: [2980, 8058, 10632, 11386], 1141: [4771], 3703: [6300], 632: [5129], 633: [7246], 1658: [4622], 2684: [11782], 1149: [6628, 8772], 2693: [5983], 4742: [8970, 10211], 135: [6966], 4716: [7224], 4727: [11746], 654: [4509], 146: [7826], 1683: [9555], 2710: [6244], 2712: [10119], 1177: [10083], 3226: [3556, 4038], 1179: [3167], 5790: [9150], 671: [5475], 5795: [5966, 7727, 9232], 3749: [10919], 6311: [10371], 2728: [7317, 11529], 6316: [9741], 5743: [6147], 3246: [6048, 8187], 5405: [9150], 1148: [11310], 2738: [3981], 2739: [7832, 10365], 3256: [12342], 1721: [2324], 2746: [2825], 1211: [3881], 714: [1876, 3914], 2750: [6877], 703: [1837], 4804: [12102], 4030: [12130], 5467: [11295], 3274: [7830], 2423: [3653, 11581], 5324: [7989], 5326: [11207], 3279: [10906], 4728: [7311], 5332: [11376], 3877: [4562], 6265: [10478], 1240: [4718], 4825: [7690], 218: [9555], 3450: [4644], 293: [2803, 9624], 1248: [4175], 2273: [9515], 3812: [12030], 742: [7695], 2428: [5719], 3306: [11263], 2855: [7521], 3820: [10349], 3310: [6698], 2288: [10948], 2801: [6620], 4850: [9497], 5364: [11374], 245: [10970], 3830: [9274, 11388], 2295: [10086], 3320: [4342], 2812: [9916], 1278: [6178], 256: [11743], 3843: [8383, 9062], 772: [7065], 1287: [8735], 4877: [9829], 1806: [10603], 1325: [9555, 12369], 2832: [4650], 6030: [7620], 3352: [4973], 1305: [5218, 6820], 47: [2276, 10475], 3356: [9654], 3357: [8918, 10340, 11071], 2336: [11166], 5923: [8912, 9581, 11337], 1317: [9354], 3377: [6428], 2344: [11325], 809: [7404], 2858: [6844], 6023: [10478], 4396: [5389], 813: [1535], 2862: [10787], 5423: [8467], 1329: [7468], 818: [11295], 5941: [11159, 12028], 5942: [12233], 312: [8136], 2361: [7458], 5434: [11071], 3899: [6699], 394: [4798, 8608], 830: [4024], 224: [10000], 1351: [7977], 5451: [10688], 5966: [7206, 7727], 3981: [6328, 6515], 336: [10097], 6268: [6699], 2389: [8873], 857: [7404], 2394: [7578], 1935: [4549], 5468: [7013], 2910: [8735], 6367: [9009], 2915: [4240], 4838: [11081], 870: [3516], 4455: [5018], 3944: [10670], 4457: [5136], 3437: [3961, 7372], 3442: [8343], 3956: [11857], 4981: [7778], 887: [9323], 1402: [5212, 8529], 1404: [3310, 4850, 6698], 381: [2104, 5700], 894: [6430], 896: [3877], 5505: [10820], 6290: [8347], 4999: [7837], 3466: [9569], 1421: [6281], 3982: [4544, 8058], 2447: [9278, 11221], 1688: [6871, 7317], 6034: [12314], 3480: [7475], 409: [4201], 924: [7442], 2975: [10827], 5024: [11401], 2979: [5339], 934: [5458], 423: [7694], 3496: [7095], 2460: [9819], 327: [5326, 9636], 5362: [12051, 12061], 1967: [5249], 438: [7806], 3515: [4394], 2492: [5636], 4029: [7769, 10280], 958: [9023], 4544: [10774], 3012: [6797], 2501: [2877], 2504: [3457], 3529: [11175], 3831: [8633, 10187, 11102], 461: [2837], 2510: [8668, 10268], 3535: [12100], 469: [5129], 4054: [4070, 9323], 991: [2832], 3040: [5731], 3187: [3548], 3556: [8136], 3494: [10331], 4070: [9323], 4397: [10261], 252: [8867], 490: [9016], 3054: [4109], 4592: [11018], 1521: [8978], 501: [7250, 12289], 3063: [7729], 6228: [11095]}\n",
      "6500\n",
      "{3585: [11280], 2563: [4029, 7977], 4102: [7735], 5641: [7680], 1034: [7133], 1547: [2738, 7177], 525: [3148], 5805: [7307], 2576: [4347], 529: [1299, 12248], 4121: [4191], 444: [1201], 543: [4285], 4640: [5515], 545: [11133], 2595: [8912, 9581, 11337], 549: [10919], 5542: [9056], 552: [3546], 6185: [6860], 263: [615], 5164: [5722], 45: [3556], 5166: [7769], 2607: [3464], 2097: [2120, 8841], 1074: [2980], 1075: [4676], 4660: [9782], 2613: [9593], 569: [6500], 1451: [6976], 3134: [8560], 577: [9278, 11652], 3083: [4562], 3653: [8446], 1095: [5941, 11159], 3658: [10447], 78: [714], 3155: [3454], 2644: [4883], 597: [8563], 1209: [11001], 3672: [10592], 6234: [6845], 1115: [1981], 4794: [9757], 5214: [11306], 4965: [8391], 3344: [6896], 5218: [5416, 6820, 8058, 10234], 699: [10331], 3942: [9788], 615: [11455], 4200: [11249], 3516: [11617], 1643: [5941], 2668: [8292], 111: [4038], 5480: [7137], 115: [7372], 1140: [2980, 8058, 10632, 11386], 1141: [4771], 3703: [6300], 632: [5129], 633: [7246], 1658: [4622], 2684: [11782], 1149: [6628, 8772], 2693: [5983], 4742: [8970, 10211], 135: [6966], 4716: [7224], 4727: [11746], 654: [4509], 146: [7826], 1683: [9555], 2710: [6244], 2712: [10119], 1177: [10083], 3226: [3556, 4038], 1179: [3167], 5790: [9150], 671: [5475], 5795: [5966, 7727, 9232], 3749: [10919], 6311: [10371], 2728: [7317, 11529], 6428: [8608, 10016], 6316: [9741], 5743: [6147], 3246: [6048, 8187], 5405: [9150], 1148: [11310], 2738: [3981], 2739: [7832, 10365], 3256: [12342], 1721: [2324], 2746: [2825], 1211: [3881], 714: [1876, 3914], 2750: [6877], 703: [1837], 4804: [12102], 4030: [12130], 5467: [11295], 3274: [7830], 2423: [3653, 11581], 5324: [7989], 5326: [11207], 3279: [10906], 4728: [7311], 5332: [11376], 3877: [4562], 6265: [10478], 1240: [4718], 4825: [7690], 218: [9555], 3450: [4644], 293: [2803, 9624], 1248: [4175], 2273: [9515], 3812: [12030], 742: [7695], 2428: [5719], 3306: [11263], 2855: [7521], 3820: [10349], 3310: [6698], 2288: [10948], 2801: [6620], 4850: [9497], 5364: [11374], 245: [10970], 3830: [9274, 11388], 2295: [10086], 3320: [4342], 2812: [9916], 1278: [6178], 256: [11743], 3843: [8383, 9062], 772: [7065], 1287: [8735], 6444: [9129], 4877: [9829], 1806: [10603], 1325: [9555, 12369], 2832: [4650], 6418: [9047], 6030: [7620], 3352: [4973], 1305: [5218, 6820], 47: [2276, 10475], 3356: [9654], 3357: [8918, 10340, 11071], 2336: [11166], 5923: [8912, 9581, 11337], 1317: [9354], 3377: [6428], 2344: [11325], 809: [7404], 2858: [6844], 6023: [10478], 4396: [5389], 813: [1535], 2862: [10787], 5423: [8467], 1329: [7468], 818: [11295], 5941: [11159, 12028], 5942: [12233], 312: [8136], 2361: [7458], 5434: [11071], 3899: [6699], 394: [4798, 8608], 830: [4024], 224: [10000], 1351: [7977], 5451: [10688], 5966: [7206, 7727], 3981: [6328, 6515], 336: [10097], 6268: [6699], 2389: [8873], 857: [7404], 2394: [7578], 1935: [4549], 5468: [7013], 2910: [8735], 6367: [9009], 2915: [4240], 4838: [11081], 870: [3516], 4455: [5018], 3944: [10670], 4457: [5136], 3437: [3961, 7372], 3442: [8343], 3956: [11857], 4981: [7778], 887: [9323], 1402: [5212, 8529], 1404: [3310, 4850, 6698], 381: [2104, 5700], 894: [6430], 896: [3877], 5505: [10820], 6290: [8347], 4999: [7837], 3466: [9569], 1421: [6281], 3982: [4544, 8058], 2447: [9278, 11221], 1688: [6871, 7317], 6034: [12314], 3480: [7475], 409: [4201], 924: [7442], 2975: [10827], 5024: [11401], 2979: [5339], 934: [5458], 423: [7694], 3496: [7095], 2460: [9819], 327: [5326, 9636], 5362: [12051, 12061], 1967: [5249], 438: [7806], 3515: [4394], 2492: [5636], 4029: [7769, 10280], 958: [9023], 4544: [10774], 3012: [6797], 2501: [2877], 2504: [3457], 3529: [11175], 3831: [8633, 10187, 11102], 461: [2837], 2510: [8668, 10268], 3535: [12100], 469: [5129], 4054: [4070, 9323], 991: [2832], 3040: [5731], 3187: [3548], 3556: [8136], 3494: [10331], 4070: [9323], 4397: [10261], 252: [8867], 490: [9016], 3054: [4109], 4592: [11018], 1521: [8978], 501: [7250, 12289], 3063: [7729], 6228: [11095]}\n",
      "6600\n",
      "{3585: [11280], 2563: [4029, 7977], 4102: [7735], 5641: [7680], 1034: [7133], 1547: [2738, 7177], 525: [3148], 5805: [7307], 2576: [4347], 529: [1299, 12248], 4121: [4191], 444: [1201], 543: [4285], 4640: [5515], 545: [11133], 2595: [8912, 9581, 11337], 549: [10919], 5542: [9056], 552: [3546], 6185: [6860], 263: [615], 5164: [5722], 45: [3556], 5166: [7769], 2607: [3464], 2097: [2120, 8841], 1074: [2980], 1075: [4676], 4660: [9782], 2613: [9593], 569: [6500], 1451: [6976], 3134: [8560], 577: [9278, 11652], 3083: [4562], 3653: [8446], 1095: [5941, 11159], 3658: [10447], 78: [714], 3155: [3454], 2644: [4883], 597: [8563], 1209: [11001], 3672: [10592], 6234: [6845], 1115: [1981], 4794: [9757], 5214: [11306], 4965: [8391], 3344: [6896], 5218: [5416, 6820, 8058, 10234], 699: [10331], 3942: [9788], 615: [11455], 4200: [11249], 3516: [11617], 1643: [5941], 2668: [8292], 111: [4038], 5480: [7137], 115: [7372], 1140: [2980, 8058, 10632, 11386], 1141: [4771], 3703: [6300], 632: [5129], 633: [7246], 1658: [4622], 2684: [11782], 1149: [6628, 8772], 2693: [5983], 4742: [8970, 10211], 135: [6966], 4716: [7224], 4727: [11746], 654: [4509], 146: [7826], 1683: [9555], 2710: [6244], 2712: [10119], 1177: [10083], 3226: [3556, 4038], 1179: [3167], 5790: [9150], 671: [5475], 5795: [5966, 7727, 9232], 3749: [10919], 6311: [10371], 2728: [7317, 11529], 6428: [8608, 10016], 6316: [9741], 5743: [6147], 3246: [6048, 8187], 5405: [9150], 1148: [11310], 2738: [3981], 2739: [7832, 10365], 3256: [12342], 1721: [2324], 2746: [2825], 1211: [3881], 714: [1876, 3914], 2750: [6877], 703: [1837], 4804: [12102], 4030: [12130], 5467: [11295], 3274: [7830], 2423: [3653, 11581], 5324: [7989], 5326: [11207], 3279: [10906], 4728: [7311], 5332: [11376], 3877: [4562], 6265: [10478], 1240: [4718], 4825: [7690], 218: [9555], 3450: [4644], 293: [2803, 9624], 1248: [4175], 2273: [9515], 3812: [12030], 742: [7695], 2428: [5719], 3306: [11263], 2855: [7521], 3820: [10349], 3310: [6698], 2288: [10948], 2801: [6620], 4850: [9497], 5364: [11374], 245: [10970], 3830: [9274, 11388], 2295: [10086], 3320: [4342], 2812: [9916], 1278: [6178], 256: [11743], 6528: [7273], 3843: [8383, 9062], 772: [7065], 1287: [8735], 6444: [9129], 4877: [9829], 1806: [10603], 1325: [9555, 12369], 2832: [4650], 6418: [9047], 6030: [7620], 3352: [4973], 1305: [5218, 6820], 47: [2276, 10475], 3356: [9654], 3357: [8918, 10340, 11071], 2336: [11166], 5923: [8912, 9581, 11337], 1317: [9354], 3377: [6428], 2344: [11325], 809: [7404], 2858: [6844], 6023: [10478], 4396: [5389], 813: [1535], 2862: [10787], 5423: [8467], 1329: [7468], 818: [11295], 5941: [11159, 12028], 5942: [12233], 312: [8136], 2361: [7458], 5434: [11071], 3899: [6699], 394: [4798, 8608], 830: [4024], 224: [10000], 1351: [7977], 5451: [10688], 5966: [7206, 7727], 3981: [6328, 6515], 336: [10097], 6268: [6699], 2389: [8873], 857: [7404], 2394: [7578], 1935: [4549], 5468: [7013], 2910: [8735], 6367: [9009], 2915: [4240], 4838: [11081], 870: [3516], 4455: [5018], 3944: [10670], 4457: [5136], 3437: [3961, 7372], 3442: [8343], 3956: [11857], 4981: [7778], 887: [9323], 1402: [5212, 8529], 1404: [3310, 4850, 6698], 381: [2104, 5700], 894: [6430], 896: [3877], 5505: [10820], 6290: [8347], 4999: [7837], 3466: [9569], 6539: [8126], 1421: [6281], 3982: [4544, 8058], 2447: [9278, 11221], 1688: [6871, 7317], 6034: [12314], 3480: [7475], 409: [4201], 924: [7442], 2975: [10827], 5024: [11401], 2979: [5339], 934: [5458], 423: [7694], 3496: [7095], 2460: [9819], 327: [5326, 9636], 5362: [12051, 12061], 1967: [5249], 438: [7806], 6583: [10210], 3515: [4394], 2492: [5636], 4029: [7769, 10280], 958: [9023], 4544: [10774], 3012: [6797], 2501: [2877], 2504: [3457], 3529: [11175], 3831: [8633, 10187, 11102], 461: [2837], 2510: [8668, 10268], 3535: [12100], 469: [5129], 4054: [4070, 9323], 991: [2832], 3040: [5731], 3187: [3548], 3556: [8136], 3494: [10331], 4070: [9323], 4397: [10261], 252: [8867], 490: [9016], 3054: [4109], 4592: [11018], 1521: [8978], 501: [7250, 12289], 3063: [7729], 6228: [11095]}\n"
     ]
    },
    {
     "name": "stdout",
     "output_type": "stream",
     "text": [
      "6700\n",
      "{3585: [11280], 2563: [4029, 7977], 4102: [7735], 5641: [7680], 1034: [7133], 1547: [2738, 7177], 525: [3148], 5805: [7307], 2576: [4347], 529: [1299, 12248], 6676: [11249], 4121: [4191], 444: [1201], 543: [4285], 4640: [5515], 545: [11133], 2595: [8912, 9581, 11337], 549: [10919], 5542: [9056], 552: [3546], 6185: [6860], 6698: [10097], 263: [615], 5164: [5722], 45: [3556], 5166: [7769], 2607: [3464], 2097: [2120, 8841], 1074: [2980], 1075: [4676], 4660: [9782], 2613: [9593], 569: [6500], 1451: [6976], 3134: [8560], 577: [9278, 11652], 3083: [4562], 3653: [8446], 1095: [5941, 11159], 3658: [10447], 78: [714], 3155: [3454], 2644: [4883], 597: [8563], 1209: [11001], 3672: [10592], 6234: [6845], 1115: [1981], 4794: [9757], 5214: [11306], 4965: [8391], 3344: [6896], 5218: [5416, 6820, 8058, 10234], 699: [10331], 3942: [9788], 615: [11455], 4200: [11249], 3516: [11617], 1643: [5941], 2668: [8292], 111: [4038], 5480: [7137], 115: [7372], 1140: [2980, 8058, 10632, 11386], 1141: [4771], 3703: [6300], 632: [5129], 633: [7246], 1658: [4622], 2684: [11782], 1149: [6628, 8772], 2693: [5983], 4742: [8970, 10211], 135: [6966], 4716: [7224], 4727: [11746], 654: [4509], 146: [7826], 1683: [9555], 2710: [6244], 2712: [10119], 1177: [10083], 3226: [3556, 4038], 1179: [3167], 5790: [9150], 671: [5475], 5795: [5966, 7727, 9232], 3749: [10919], 6311: [10371], 2728: [7317, 11529], 6428: [8608, 10016], 6316: [9741], 5743: [6147], 3246: [6048, 8187], 5405: [9150], 1148: [11310], 2738: [3981], 2739: [7832, 10365], 3256: [12342], 1721: [2324], 2746: [2825], 1211: [3881], 714: [1876, 3914], 2750: [6877], 703: [1837], 4804: [12102], 4030: [12130], 5467: [11295], 3274: [7830], 2423: [3653, 11581], 5324: [7989], 5326: [11207], 3279: [10906], 4728: [7311], 5332: [11376], 3877: [4562], 6265: [10478], 1240: [4718], 4825: [7690], 218: [9555], 3450: [4644], 293: [2803, 9624], 1248: [4175], 2273: [9515], 3812: [12030], 742: [7695], 2428: [5719], 3306: [11263], 2855: [7521], 3820: [10349], 3310: [6698], 2288: [10948], 2801: [6620], 4850: [9497], 5364: [11374], 245: [10970], 3830: [9274, 11388], 2295: [10086], 3320: [4342], 2812: [9916], 1278: [6178], 256: [11743], 6528: [7273], 3843: [8383, 9062], 772: [7065], 1287: [8735], 6444: [9129], 4877: [9829], 1806: [10603], 1325: [9555, 12369], 2832: [4650], 6418: [9047], 6030: [7620], 3352: [4973], 1305: [5218, 6820], 47: [2276, 10475], 3356: [9654], 3357: [8918, 10340, 11071], 2336: [11166], 5923: [8912, 9581, 11337], 1317: [9354], 3377: [6428], 2344: [11325], 809: [7404], 2858: [6844], 6023: [10478], 4396: [5389], 813: [1535], 2862: [10787], 5423: [8467], 1329: [7468], 818: [11295], 5941: [11159, 12028], 5942: [12233], 312: [8136], 2361: [7458], 5434: [11071], 3899: [6699], 394: [4798, 8608], 830: [4024], 224: [10000], 1351: [7977], 5451: [10688], 5966: [7206, 7727], 3981: [6328, 6515], 336: [10097], 6268: [6699], 2389: [8873], 857: [7404], 2394: [7578], 1935: [4549], 5468: [7013], 2910: [8735], 6367: [9009], 2915: [4240], 4838: [11081], 870: [3516], 4455: [5018], 3944: [10670], 4457: [5136], 3437: [3961, 7372], 3442: [8343], 3956: [11857], 4981: [7778], 887: [9323], 1402: [5212, 8529], 1404: [3310, 4850, 6698], 381: [2104, 5700], 894: [6430], 896: [3877], 5505: [10820], 6290: [8347], 4999: [7837], 3466: [9569], 6539: [8126], 1421: [6281], 3982: [4544, 8058], 2447: [9278, 11221], 1688: [6871, 7317], 6034: [12314], 3480: [7475], 409: [4201], 924: [7442], 2975: [10827], 5024: [11401], 2979: [5339], 934: [5458], 423: [7694], 3496: [7095], 2460: [9819], 327: [5326, 9636], 5362: [12051, 12061], 1967: [5249], 438: [7806], 6583: [10210], 3515: [4394], 2492: [5636], 4029: [7769, 10280], 958: [9023], 4544: [10774], 3012: [6797], 2501: [2877], 2504: [3457], 3529: [11175], 3831: [8633, 10187, 11102], 461: [2837], 2510: [8668, 10268], 3535: [12100], 469: [5129], 4054: [4070, 9323], 991: [2832], 3040: [5731], 3187: [3548], 3556: [8136], 3494: [10331], 4070: [9323], 4397: [10261], 252: [8867], 490: [9016], 3054: [4109], 4592: [11018], 1521: [8978], 501: [7250, 12289], 3063: [7729], 6228: [11095]}\n",
      "6800\n",
      "{3585: [11280], 2563: [4029, 7977], 4102: [7735], 5641: [7680], 1034: [7133], 1547: [2738, 7177], 525: [3148], 5805: [7307], 2576: [4347], 529: [1299, 12248], 6676: [11249], 4121: [4191], 444: [1201], 543: [4285], 4640: [5515], 545: [11133], 2595: [8912, 9581, 11337], 549: [10919], 5542: [9056], 552: [3546], 6185: [6860], 6698: [10097], 263: [615], 5164: [5722], 45: [3556], 5166: [7769], 2607: [3464], 2097: [2120, 8841], 1074: [2980], 1075: [4676], 4660: [9782], 2613: [9593], 569: [6500], 1451: [6976], 3134: [8560], 577: [9278, 11652], 3083: [4562], 3653: [8446], 1095: [5941, 11159], 3658: [10447], 78: [714], 3155: [3454], 2644: [4883], 597: [8563], 1209: [11001], 3672: [10592], 6234: [6845], 1115: [1981], 4794: [9757], 5214: [11306], 4965: [8391], 3344: [6896], 5218: [5416, 6820, 8058, 10234], 699: [10331], 3942: [9788], 615: [11455], 4200: [11249], 3516: [11617], 1643: [5941], 2668: [8292], 111: [4038], 5480: [7137], 115: [7372], 1140: [2980, 8058, 10632, 11386], 1141: [4771], 3703: [6300], 632: [5129], 633: [7246], 1658: [4622], 6779: [10349], 2684: [11782], 1149: [6628, 8772], 2693: [5983], 4742: [8970, 10211], 135: [6966], 4716: [7224], 4727: [11746], 654: [4509], 146: [7826], 1683: [9555], 6776: [8226], 2710: [6244], 2712: [10119], 1177: [10083], 3226: [3556, 4038], 1179: [3167], 5790: [9150], 671: [5475], 5795: [5966, 7727, 9232], 3749: [10919], 6311: [10371], 2728: [7317, 11529], 6428: [8608, 10016], 6316: [9741], 5743: [6147], 3246: [6048, 8187], 5405: [9150], 1148: [11310], 2738: [3981], 2739: [7832, 10365], 3256: [12342], 1721: [2324], 2746: [2825], 1211: [3881], 714: [1876, 3914], 2750: [6877], 703: [1837], 4804: [12102], 4030: [12130], 5467: [11295], 3274: [7830], 2423: [3653, 11581], 5324: [7989], 5326: [11207], 3279: [10906], 4728: [7311], 5332: [11376], 3877: [4562], 6265: [10478], 1240: [4718], 4825: [7690], 218: [9555], 3450: [4644], 293: [2803, 9624], 1248: [4175], 2273: [9515], 3812: [12030], 742: [7695], 2428: [5719], 3306: [11263], 2855: [7521], 3820: [10349], 3310: [6698], 2288: [10948], 2801: [6620], 4850: [9497], 5364: [11374], 245: [10970], 3830: [9274, 11388], 2295: [10086], 3320: [4342], 2812: [9916], 1278: [6178], 256: [11743], 6528: [7273], 3843: [8383, 9062], 772: [7065], 1287: [8735], 6444: [9129], 4877: [9829], 1806: [10603], 1325: [9555, 12369], 2832: [4650], 6418: [9047], 6030: [7620], 3352: [4973], 1305: [5218, 6820], 47: [2276, 10475], 3356: [9654], 3357: [8918, 10340, 11071], 2336: [11166], 5923: [8912, 9581, 11337], 1317: [9354], 3377: [6428], 2344: [11325], 809: [7404], 2858: [6844], 6023: [10478], 4396: [5389], 813: [1535], 2862: [10787], 5423: [8467], 1329: [7468], 818: [11295], 5941: [11159, 12028], 5942: [12233], 312: [8136], 2361: [7458], 5434: [11071], 3899: [6699], 394: [4798, 8608], 830: [4024], 224: [10000], 1351: [7977], 5451: [10688], 5966: [7206, 7727], 3981: [6328, 6515], 336: [10097], 6268: [6699], 2389: [8873], 857: [7404], 2394: [7578], 1935: [4549], 5468: [7013], 2910: [8735], 6367: [9009], 2915: [4240], 4838: [11081], 870: [3516], 4455: [5018], 3944: [10670], 4457: [5136], 3437: [3961, 7372], 3442: [8343], 3956: [11857], 4981: [7778], 887: [9323], 1402: [5212, 8529], 1404: [3310, 4850, 6698], 381: [2104, 5700], 894: [6430], 896: [3877], 5505: [10820], 6290: [8347], 4999: [7837], 3466: [9569], 6539: [8126], 1421: [6281], 3982: [4544, 8058], 2447: [9278, 11221], 1688: [6871, 7317], 6034: [12314], 3480: [7475], 409: [4201], 924: [7442], 2975: [10827], 5024: [11401], 2979: [5339], 934: [5458], 423: [7694], 3496: [7095], 2460: [9819], 327: [5326, 9636], 5362: [12051, 12061], 1967: [5249], 6749: [7033], 438: [7806], 6583: [10210], 3515: [4394], 2492: [5636], 4029: [7769, 10280], 958: [9023], 4544: [10774], 3012: [6797], 2501: [2877], 2504: [3457], 3529: [11175], 3831: [8633, 10187, 11102], 461: [2837], 2510: [8668, 10268], 3535: [12100], 469: [5129], 4054: [4070, 9323], 991: [2832], 3040: [5731], 3187: [3548], 3556: [8136], 3494: [10331], 4070: [9323], 4397: [10261], 252: [8867], 490: [9016], 3054: [4109], 4592: [11018], 1521: [8978], 501: [7250, 12289], 3063: [7729], 6228: [11095]}\n",
      "6900\n",
      "{3585: [11280], 2563: [4029, 7977], 4102: [7735], 5641: [7680], 1034: [7133], 1547: [2738, 7177], 525: [3148], 5805: [7307], 2576: [4347], 529: [1299, 12248], 6676: [11249], 4121: [4191], 444: [1201], 543: [4285], 4640: [5515], 545: [11133], 2595: [8912, 9581, 11337], 549: [10919], 5542: [9056], 552: [3546], 6185: [6860], 6698: [10097], 263: [615], 5164: [5722], 45: [3556], 5166: [7769], 2607: [3464], 2097: [2120, 8841], 1074: [2980], 1075: [4676], 4660: [9782], 2613: [9593], 569: [6500], 1451: [6976], 3134: [8560], 577: [9278, 11652], 3083: [4562], 3653: [8446], 1095: [5941, 11159], 3658: [10447], 78: [714], 6840: [10845], 3155: [3454], 2644: [4883], 597: [8563], 1209: [11001], 3672: [10592], 6234: [6845], 1115: [1981], 4794: [9757], 5214: [11306], 4965: [8391], 3344: [6896], 5218: [5416, 6820, 8058, 10234], 699: [10331], 3942: [9788], 615: [11455], 4200: [11249], 3516: [11617], 1643: [5941], 2668: [8292], 111: [4038], 5480: [7137], 115: [7372], 1140: [2980, 8058, 10632, 11386], 1141: [4771], 3703: [6300], 632: [5129], 633: [7246], 1658: [4622], 6779: [10349], 2684: [11782], 1149: [6628, 8772], 2693: [5983], 4742: [8970, 10211], 135: [6966], 4716: [7224], 4727: [11746], 654: [4509], 146: [7826], 1683: [9555], 6776: [8226], 2710: [6244], 2712: [10119], 1177: [10083], 3226: [3556, 4038], 1179: [3167], 5790: [9150], 671: [5475], 5795: [5966, 7727, 9232], 3749: [10919], 6311: [10371], 2728: [7317, 11529], 6428: [8608, 10016], 6316: [9741], 5743: [6147], 3246: [6048, 8187], 5405: [9150], 1148: [11310], 2738: [3981], 2739: [7832, 10365], 3256: [12342], 1721: [2324], 2746: [2825], 1211: [3881], 714: [1876, 3914], 2750: [6877], 703: [1837], 6877: [8735, 10688], 4804: [12102], 4030: [12130], 5467: [11295], 6860: [7372], 3274: [7830], 2423: [3653, 11581], 5324: [7989], 5326: [11207], 3279: [10906], 4728: [7311], 5332: [11376], 3877: [4562], 6265: [10478], 1240: [4718], 4825: [7690], 218: [9555], 3450: [4644], 293: [2803, 9624], 1248: [4175], 2273: [9515], 3812: [12030], 742: [7695], 2428: [5719], 3306: [11263], 2855: [7521], 3820: [10349], 3310: [6698], 2288: [10948], 2801: [6620], 4850: [9497], 5364: [11374], 245: [10970], 3830: [9274, 11388], 2295: [10086], 3320: [4342], 2812: [9916], 1278: [6178], 256: [11743], 6528: [7273], 3843: [8383, 9062], 772: [7065], 1287: [8735], 6444: [9129], 4877: [9829], 1806: [10603], 1325: [9555, 12369], 2832: [4650], 6418: [9047], 6030: [7620], 3352: [4973], 1305: [5218, 6820], 47: [2276, 10475], 3356: [9654], 3357: [8918, 10340, 11071], 2336: [11166], 5923: [8912, 9581, 11337], 1317: [9354], 3377: [6428], 2344: [11325], 809: [7404], 2858: [6844], 6023: [10478], 4396: [5389], 813: [1535], 2862: [10787], 5423: [8467], 1329: [7468], 818: [11295], 5941: [11159, 12028], 5942: [12233], 312: [8136], 2361: [7458], 5434: [11071], 3899: [6699], 394: [4798, 8608], 830: [4024], 224: [10000], 1351: [7977], 5451: [10688], 5966: [7206, 7727], 3981: [6328, 6515], 336: [10097], 6268: [6699], 2389: [8873], 857: [7404], 2394: [7578], 1935: [4549], 5468: [7013], 2910: [8735], 6367: [9009], 2915: [4240], 4838: [11081], 870: [3516], 4455: [5018], 3944: [10670], 4457: [5136], 3437: [3961, 7372], 3442: [8343], 3956: [11857], 4981: [7778], 887: [9323], 1402: [5212, 8529], 1404: [3310, 4850, 6698], 381: [2104, 5700], 894: [6430], 896: [3877], 5505: [10820], 6290: [8347], 4999: [7837], 3466: [9569], 6539: [8126], 1421: [6281], 3982: [4544, 8058], 2447: [9278, 11221], 1688: [6871, 7317], 6034: [12314], 3480: [7475], 409: [4201], 924: [7442], 2975: [10827], 5024: [11401], 2979: [5339], 934: [5458], 423: [7694], 3496: [7095], 2460: [9819], 327: [5326, 9636], 5362: [12051, 12061], 1967: [5249], 6749: [7033], 438: [7806], 6583: [10210], 3515: [4394], 2492: [5636], 4029: [7769, 10280], 958: [9023], 4544: [10774], 3012: [6797], 2501: [2877], 2504: [3457], 3529: [11175], 3831: [8633, 10187, 11102], 461: [2837], 2510: [8668, 10268], 3535: [12100], 469: [5129], 4054: [4070, 9323], 991: [2832], 3040: [5731], 3187: [3548], 3556: [8136], 3494: [10331], 4070: [9323], 4397: [10261], 252: [8867], 490: [9016], 3054: [4109], 4592: [11018], 1521: [8978], 501: [7250, 12289], 3063: [7729], 6228: [11095]}\n"
     ]
    },
    {
     "name": "stdout",
     "output_type": "stream",
     "text": [
      "7000\n",
      "{3585: [11280], 2563: [4029, 7977], 4102: [7735], 5641: [7680], 1034: [7133], 1547: [2738, 7177], 525: [3148], 5805: [7307], 2576: [4347], 529: [1299, 12248], 6676: [11249], 4121: [4191], 444: [1201], 543: [4285], 4640: [5515], 545: [11133], 2595: [8912, 9581, 11337], 549: [10919], 5542: [9056], 552: [3546], 6185: [6860], 6698: [10097], 263: [615], 5164: [5722], 45: [3556], 5166: [7769], 2607: [3464], 2097: [2120, 8841], 1074: [2980], 1075: [4676], 4660: [9782], 2613: [9593], 569: [6500], 1451: [6976], 3134: [8560], 577: [9278, 11652], 3083: [4562], 3653: [8446], 1095: [5941, 11159], 3658: [10447], 78: [714], 6840: [10845], 3155: [3454], 2644: [4883], 597: [8563], 1209: [11001], 3672: [10592], 6234: [6845], 1115: [1981], 4794: [9757], 5214: [11306], 4965: [8391], 3344: [6896], 5218: [5416, 6820, 8058, 10234], 699: [10331], 3942: [9788], 615: [11455], 4200: [11249], 3516: [11617], 1643: [5941], 2668: [8292], 111: [4038], 5480: [7137], 115: [7372], 1140: [2980, 8058, 10632, 11386], 1141: [4771], 3703: [6300], 632: [5129], 633: [7246], 1658: [4622], 6779: [10349], 2684: [11782], 1149: [6628, 8772], 2693: [5983], 4742: [8970, 10211], 135: [6966], 4716: [7224], 4727: [11746], 654: [4509], 146: [7826], 1683: [9555], 6776: [8226], 2710: [6244], 2712: [10119], 1177: [10083], 3226: [3556, 4038], 1179: [3167], 5790: [9150], 671: [5475], 5795: [5966, 7727, 9232], 3749: [10919], 6311: [10371], 2728: [7317, 11529], 6428: [8608, 10016], 6316: [9741], 5743: [6147], 3246: [6048, 8187], 5405: [9150], 1148: [11310], 2738: [3981], 2739: [7832, 10365], 3256: [12342], 1721: [2324], 2746: [2825], 1211: [3881], 714: [1876, 3914], 2750: [6877], 703: [1837], 6944: [9034], 6877: [8735, 10688], 4804: [12102], 4030: [12130], 5467: [11295], 6860: [7372], 3274: [7830], 2423: [3653, 11581], 5324: [7989], 5326: [11207], 3279: [10906], 4728: [7311], 5332: [11376], 3877: [4562], 6265: [10478], 1240: [4718], 4825: [7690], 218: [9555], 3450: [4644], 293: [2803, 9624], 1248: [4175], 2273: [9515], 3812: [12030], 742: [7695], 2428: [5719], 3306: [11263], 2855: [7521], 3820: [10349], 3310: [6698], 2288: [10948], 2801: [6620], 4850: [9497], 5364: [11374], 245: [10970], 3830: [9274, 11388], 2295: [10086], 3320: [4342], 2812: [9916], 1278: [6178], 256: [11743], 6528: [7273], 3843: [8383, 9062], 772: [7065], 1287: [8735], 6444: [9129], 4877: [9829], 1806: [10603], 1325: [9555, 12369], 2832: [4650], 6418: [9047], 6932: [10554, 11066], 6030: [7620], 3352: [4973], 1305: [5218, 6820], 47: [2276, 10475], 3356: [9654], 3357: [8918, 10340, 11071], 2336: [11166], 5923: [8912, 9581, 11337], 1317: [9354], 3377: [6428], 2344: [11325], 809: [7404], 2858: [6844], 6023: [10478], 4396: [5389], 813: [1535], 2862: [10787], 5423: [8467], 1329: [7468], 818: [11295], 5941: [11159, 12028], 5942: [12233], 6967: [9743], 312: [8136], 2361: [7458], 5434: [11071], 3899: [6699], 394: [4798, 8608], 830: [4024], 224: [10000], 6978: [11931], 6980: [7541], 6966: [9150], 1351: [7977], 5451: [10688], 5966: [7206, 7727], 3981: [6328, 6515], 336: [10097], 6268: [6699], 2389: [8873], 857: [7404], 2394: [7578], 1935: [4549], 5468: [7013], 2910: [8735], 6367: [9009], 2915: [4240], 4838: [11081], 870: [3516], 4455: [5018], 3944: [10670], 4457: [5136], 3437: [3961, 7372], 3442: [8343], 3956: [11857], 4981: [7778], 887: [9323], 1402: [5212, 8529], 1404: [3310, 4850, 6698], 381: [2104, 5700], 894: [6430], 896: [3877], 5505: [10820], 6290: [8347], 4999: [7837], 3466: [9569], 6539: [8126], 1421: [6281], 3982: [4544, 8058], 2447: [9278, 11221], 1688: [6871, 7317], 6034: [12314], 3480: [7475], 409: [4201], 924: [7442], 2975: [10827], 5024: [11401], 2979: [5339], 934: [5458], 423: [7694], 3496: [7095], 2460: [9819], 327: [5326, 9636], 5362: [12051, 12061], 6962: [8431], 1967: [5249], 6749: [7033], 438: [7806], 6583: [10210], 3515: [4394], 2492: [5636], 4029: [7769, 10280], 958: [9023], 4544: [10774], 6987: [9497], 3012: [6797], 2501: [2877], 2504: [3457], 3529: [11175], 3831: [8633, 10187, 11102], 461: [2837], 2510: [8668, 10268], 3535: [12100], 469: [5129], 4054: [4070, 9323], 991: [2832], 3040: [5731], 3187: [3548], 3556: [8136], 3494: [10331], 4070: [9323], 4397: [10261], 252: [8867], 490: [9016], 3054: [4109], 4592: [11018], 1521: [8978], 501: [7250, 12289], 3063: [7729], 6228: [11095]}\n",
      "7100\n",
      "{3585: [11280], 2563: [4029, 7977], 4102: [7735], 5641: [7680], 1034: [7133], 1547: [2738, 7177], 525: [3148], 5805: [7307], 2576: [4347], 529: [1299, 12248], 6676: [11249], 4121: [4191], 444: [1201], 543: [4285], 4640: [5515], 545: [11133], 2595: [8912, 9581, 11337], 549: [10919], 5542: [9056], 552: [3546], 6185: [6860], 6698: [10097], 263: [615], 5164: [5722], 45: [3556], 5166: [7769], 2607: [3464], 2097: [2120, 8841], 1074: [2980], 1075: [4676], 4660: [9782], 2613: [9593], 569: [6500], 1451: [6976], 3134: [8560], 577: [9278, 11652], 3083: [4562], 3653: [8446], 1095: [5941, 11159], 3658: [10447], 7095: [8213], 78: [714], 6840: [10845], 3155: [3454], 2644: [4883], 597: [8563], 1209: [11001], 3672: [10592], 6234: [6845], 1115: [1981], 4794: [9757], 5214: [11306], 4965: [8391], 3344: [6896], 5218: [5416, 6820, 8058, 10234], 699: [10331], 3942: [9788], 615: [11455], 4200: [11249], 3516: [11617], 1643: [5941], 2668: [8292], 111: [4038], 5480: [7137], 115: [7372], 1140: [2980, 8058, 10632, 11386], 1141: [4771], 3703: [6300], 632: [5129], 633: [7246], 1658: [4622], 6779: [10349], 2684: [11782], 1149: [6628, 8772], 2693: [5983], 4742: [8970, 10211], 135: [6966], 4716: [7224], 4727: [11746], 654: [4509], 146: [7826], 1683: [9555], 6776: [8226], 2710: [6244], 2712: [10119], 1177: [10083], 3226: [3556, 4038], 1179: [3167], 5790: [9150], 671: [5475], 5795: [5966, 7727, 9232], 3749: [10919], 6311: [10371], 2728: [7317, 11529], 6428: [8608, 10016], 6316: [9741], 5743: [6147], 3246: [6048, 8187], 5405: [9150], 1148: [11310], 2738: [3981], 2739: [7832, 10365], 7013: [12062], 3256: [12342], 1721: [2324], 2746: [2825], 1211: [3881], 714: [1876, 3914], 2750: [6877], 703: [1837], 6944: [9034], 6877: [8735, 10688], 4804: [12102], 4030: [12130], 5467: [11295], 6860: [7372], 3274: [7830], 2423: [3653, 11581], 5324: [7989], 5326: [11207], 3279: [10906], 4728: [7311], 5332: [11376], 3877: [4562], 6265: [10478], 1240: [4718], 4825: [7690], 218: [9555], 3450: [4644], 293: [2803, 9624], 1248: [4175], 2273: [9515], 3812: [12030], 742: [7695], 2428: [5719], 3306: [11263], 2855: [7521], 3820: [10349], 3310: [6698], 2288: [10948], 2801: [6620], 4850: [9497], 5364: [11374], 245: [10970], 3830: [9274, 11388], 2295: [10086], 3320: [4342], 2812: [9916], 1278: [6178], 256: [11743], 6528: [7273], 3843: [8383, 9062], 772: [7065], 1287: [8735], 6444: [9129], 4877: [9829], 1806: [10603], 1325: [9555, 12369], 2832: [4650], 6418: [9047], 6932: [10554, 11066], 6030: [7620], 3352: [4973], 1305: [5218, 6820], 47: [2276, 10475], 3356: [9654], 3357: [8918, 10340, 11071], 2336: [11166], 5923: [8912, 9581, 11337], 1317: [9354], 3377: [6428], 2344: [11325], 809: [7404], 2858: [6844], 6023: [10478], 4396: [5389], 813: [1535], 2862: [10787], 5423: [8467], 1329: [7468], 818: [11295], 5941: [11159, 12028], 5942: [12233], 6967: [9743], 312: [8136], 2361: [7458], 5434: [11071], 3899: [6699], 394: [4798, 8608], 830: [4024], 224: [10000], 6978: [11931], 6980: [7541], 6966: [9150], 1351: [7977], 5451: [10688], 5966: [7206, 7727], 3981: [6328, 6515], 336: [10097], 6268: [6699], 2389: [8873], 857: [7404], 2394: [7578], 1935: [4549], 5468: [7013], 2910: [8735], 6367: [9009], 2915: [4240], 4838: [11081], 870: [3516], 4455: [5018], 3944: [10670], 4457: [5136], 3437: [3961, 7372], 3442: [8343], 3956: [11857], 4981: [7778], 887: [9323], 1402: [5212, 8529], 1404: [3310, 4850, 6698], 381: [2104, 5700], 894: [6430], 896: [3877], 5505: [10820], 6290: [8347], 4999: [7837], 3466: [9569], 6539: [8126], 1421: [6281], 3982: [4544, 8058], 2447: [9278, 11221], 1688: [6871, 7317], 6034: [12314], 3480: [7475], 409: [4201], 924: [7442], 2975: [10827], 5024: [11401], 2979: [5339], 934: [5458], 423: [7694], 3496: [7095], 2460: [9819], 7082: [10365], 327: [5326, 9636], 5362: [12051, 12061], 6962: [8431], 1967: [5249], 6749: [7033], 438: [7806], 6583: [10210], 3515: [4394], 2492: [5636], 4029: [7769, 10280], 958: [9023], 4544: [10774], 6987: [9497], 3012: [6797], 2501: [2877], 2504: [3457], 3529: [11175], 3831: [8633, 10187, 11102], 461: [2837], 2510: [8668, 10268], 3535: [12100], 469: [5129], 4054: [4070, 9323], 991: [2832], 3040: [5731], 3187: [3548], 3556: [8136], 3494: [10331], 4070: [9323], 4397: [10261], 252: [8867], 490: [9016], 3054: [4109], 4592: [11018], 1521: [8978], 501: [7250, 12289], 3063: [7729], 6228: [11095]}\n"
     ]
    },
    {
     "name": "stdout",
     "output_type": "stream",
     "text": [
      "7200\n",
      "{3585: [11280], 2563: [4029, 7977], 4102: [7735], 5641: [7680], 1034: [7133], 1547: [2738, 7177], 7180: [7957], 525: [3148], 5805: [7307], 2576: [4347], 529: [1299, 12248], 6676: [11249], 4121: [4191], 444: [1201], 543: [4285], 4640: [5515], 545: [11133], 2595: [8912, 9581, 11337], 549: [10919], 5542: [9056], 552: [3546], 6185: [6860], 6698: [10097], 263: [615], 5164: [5722], 45: [3556], 5166: [7769], 2607: [3464], 2097: [2120, 8841], 1074: [2980], 1075: [4676], 4660: [9782], 2613: [9593], 569: [6500], 1451: [6976], 3134: [8560], 577: [9278, 11652], 3083: [4562], 3653: [8446], 1095: [5941, 11159], 3658: [10447], 7095: [8213], 78: [714], 6840: [10845], 3155: [3454], 2644: [4883], 597: [8563], 1209: [11001], 3672: [10592], 6234: [6845], 1115: [1981], 4794: [9757], 5214: [11306], 4965: [8391], 3344: [6896], 5218: [5416, 6820, 8058, 10234], 699: [10331], 3942: [9788], 615: [11455], 4200: [11249], 3516: [11617], 1643: [5941], 2668: [8292], 7185: [8248], 111: [4038], 5480: [7137], 115: [7372], 1140: [2980, 8058, 10632, 11386], 1141: [4771], 3703: [6300], 632: [5129], 633: [7246], 1658: [4622], 6779: [10349], 2684: [11782], 1149: [6628, 8772], 2693: [5983], 4742: [8970, 10211], 135: [6966], 4716: [7224], 4727: [11746], 654: [4509], 146: [7826], 1683: [9555], 6776: [8226], 2710: [6244], 2712: [10119], 1177: [10083], 3226: [3556, 4038], 1179: [3167], 5790: [9150], 671: [5475], 5795: [5966, 7727, 9232], 3749: [10919], 6311: [10371], 2728: [7317, 11529], 6428: [8608, 10016], 6316: [9741], 5743: [6147], 3246: [6048, 8187], 5405: [9150], 1148: [11310], 2738: [3981], 2739: [7832, 10365], 7013: [12062], 3256: [12342], 1721: [2324], 2746: [2825], 1211: [3881], 714: [1876, 3914], 2750: [6877], 703: [1837], 6944: [9034], 6877: [8735, 10688], 4804: [12102], 4030: [12130], 5467: [11295], 6860: [7372], 3274: [7830], 2423: [3653, 11581], 5324: [7989], 5326: [11207], 3279: [10906], 4728: [7311], 5332: [11376], 3877: [4562], 6265: [10478], 1240: [4718], 4825: [7690], 218: [9555], 3450: [4644], 293: [2803, 9624], 1248: [4175], 2273: [9515], 3812: [12030], 742: [7695], 2428: [5719], 3306: [11263], 2855: [7521], 3820: [10349], 3310: [6698], 2288: [10948], 2801: [6620], 4850: [9497], 5364: [11374], 245: [10970], 3830: [9274, 11388], 2295: [10086], 3320: [4342], 2812: [9916], 1278: [6178], 256: [11743], 6528: [7273], 3843: [8383, 9062], 772: [7065], 1287: [8735], 6444: [9129], 4877: [9829], 1806: [10603], 1325: [9555, 12369], 2832: [4650], 6418: [9047], 6932: [10554, 11066], 6030: [7620], 3352: [4973], 1305: [5218, 6820], 47: [2276, 10475], 3356: [9654], 3357: [8918, 10340, 11071], 2336: [11166], 5923: [8912, 9581, 11337], 1317: [9354], 3377: [6428], 2344: [11325], 809: [7404], 2858: [6844], 6023: [10478], 4396: [5389], 813: [1535], 2862: [10787], 5423: [8467], 1329: [7468], 818: [11295], 5941: [11159, 12028], 5942: [12233], 6967: [9743], 312: [8136], 2361: [7458], 5434: [11071], 3899: [6699], 394: [4798, 8608], 830: [4024], 224: [10000], 6978: [11931], 6980: [7541], 6966: [9150], 1351: [7977], 5451: [10688], 5966: [7206, 7727], 3981: [6328, 6515], 336: [10097], 6268: [6699], 2389: [8873], 857: [7404], 2394: [7578], 1935: [4549], 5468: [7013], 2910: [8735], 6367: [9009], 2915: [4240], 4838: [11081], 870: [3516], 4455: [5018], 3944: [10670], 4457: [5136], 3437: [3961, 7372], 3442: [8343], 3956: [11857], 4981: [7778], 887: [9323], 1402: [5212, 8529], 1404: [3310, 4850, 6698], 381: [2104, 5700], 894: [6430], 896: [3877], 5505: [10820], 6290: [8347], 4999: [7837], 3466: [9569], 6539: [8126], 1421: [6281], 3982: [4544, 8058], 2447: [9278, 11221], 1688: [6871, 7317], 6034: [12314], 3480: [7475], 409: [4201], 924: [7442], 2975: [10827], 5024: [11401], 2979: [5339], 934: [5458], 423: [7694], 3496: [7095], 2460: [9819], 7082: [10365], 327: [5326, 9636], 5362: [12051, 12061], 6962: [8431], 1967: [5249], 6749: [7033], 438: [7806], 6583: [10210], 3515: [4394], 2492: [5636], 4029: [7769, 10280], 958: [9023], 4544: [10774], 6987: [9497], 3012: [6797], 2501: [2877], 2504: [3457], 3529: [11175], 3831: [8633, 10187, 11102], 461: [2837], 2510: [8668, 10268], 3535: [12100], 469: [5129], 4054: [4070, 9323], 991: [2832], 3040: [5731], 3187: [3548], 3556: [8136], 3494: [10331], 4070: [9323], 4397: [10261], 252: [8867], 490: [9016], 3054: [4109], 4592: [11018], 1521: [8978], 501: [7250, 12289], 3063: [7729], 6228: [11095]}\n",
      "7300\n",
      "{3585: [11280], 2563: [4029, 7977], 4102: [7735], 5641: [7680], 1034: [7133], 1547: [2738, 7177], 7180: [7957], 525: [3148], 5805: [7307], 2576: [4347], 529: [1299, 12248], 6676: [11249], 4121: [4191], 444: [1201], 543: [4285], 4640: [5515], 545: [11133], 2595: [8912, 9581, 11337], 549: [10919], 5542: [9056], 552: [3546], 6185: [6860], 6698: [10097], 263: [615], 5164: [5722], 45: [3556], 5166: [7769], 2607: [3464], 2097: [2120, 8841], 1074: [2980], 1075: [4676], 4660: [9782], 2613: [9593], 569: [6500], 1451: [6976], 3134: [8560], 577: [9278, 11652], 3083: [4562], 7246: [7439], 3653: [8446], 1095: [5941, 11159], 3658: [10447], 7095: [8213], 78: [714], 6840: [10845], 3155: [3454], 2644: [4883], 597: [8563], 1209: [11001], 3672: [10592], 6234: [6845], 1115: [1981], 4794: [9757], 5214: [11306], 4965: [8391], 3344: [6896], 5218: [5416, 6820, 8058, 10234], 699: [10331], 3942: [9788], 615: [11455], 4200: [11249], 3516: [11617], 1643: [5941], 2668: [8292], 7185: [8248], 111: [4038], 5480: [7137], 115: [7372], 1140: [2980, 8058, 10632, 11386], 1141: [4771], 3703: [6300], 632: [5129], 633: [7246], 1658: [4622], 6779: [10349], 2684: [11782], 1149: [6628, 8772], 2693: [5983], 4742: [8970, 10211], 135: [6966], 4716: [7224], 4727: [11746], 654: [4509], 146: [7826], 1683: [9555], 6776: [8226], 2710: [6244], 2712: [10119], 1177: [10083], 3226: [3556, 4038], 1179: [3167], 5790: [9150], 671: [5475], 5795: [5966, 7727, 9232], 3749: [10919], 6311: [10371], 2728: [7317, 11529], 6428: [8608, 10016], 6316: [9741], 5743: [6147], 3246: [6048, 8187], 5405: [9150], 1148: [11310], 2738: [3981], 2739: [7832, 10365], 7013: [12062], 3256: [12342], 1721: [2324], 2746: [2825], 1211: [3881], 714: [1876, 3914], 2750: [6877], 703: [1837], 6944: [9034], 6877: [8735, 10688], 4804: [12102], 4030: [12130], 5467: [11295], 6860: [7372], 3274: [7830], 2423: [3653, 11581], 5324: [7989], 5326: [11207], 3279: [10906], 4728: [7311], 7203: [11429], 5332: [11376], 3877: [4562], 6265: [10478], 1240: [4718], 4825: [7690], 218: [9555], 3450: [4644], 293: [2803, 9624], 1248: [4175], 2273: [9515], 3812: [12030], 742: [7695], 2428: [5719], 3306: [11263], 2855: [7521], 3820: [10349], 3310: [6698], 2288: [10948], 2801: [6620], 4850: [9497], 5364: [11374], 245: [10970], 3830: [9274, 11388], 2295: [10086], 3320: [4342], 2812: [9916], 1278: [6178], 256: [11743], 6528: [7273], 3843: [8383, 9062], 772: [7065], 1287: [8735], 6444: [9129], 4877: [9829], 1806: [10603], 1325: [9555, 12369], 2832: [4650], 6418: [9047], 6932: [10554, 11066], 6030: [7620], 3352: [4973], 1305: [5218, 6820], 47: [2276, 10475], 3356: [9654], 3357: [8918, 10340, 11071], 2336: [11166], 5923: [8912, 9581, 11337], 1317: [9354], 3377: [6428], 2344: [11325], 809: [7404], 2858: [6844], 6023: [10478], 4396: [5389], 813: [1535], 2862: [10787], 5423: [8467], 1329: [7468], 818: [11295], 5941: [11159, 12028], 5942: [12233], 6967: [9743], 312: [8136], 2361: [7458], 5434: [11071], 3899: [6699], 394: [4798, 8608], 830: [4024], 224: [10000], 6978: [11931], 6980: [7541], 6966: [9150], 1351: [7977], 5451: [10688], 5966: [7206, 7727], 3981: [6328, 6515], 336: [10097], 6268: [6699], 2389: [8873], 857: [7404], 2394: [7578], 1935: [4549], 5468: [7013], 2910: [8735], 6367: [9009], 2915: [4240], 4838: [11081], 870: [3516], 4455: [5018], 3944: [10670], 4457: [5136], 3437: [3961, 7372], 3442: [8343], 3956: [11857], 4981: [7778], 887: [9323], 1402: [5212, 8529], 1404: [3310, 4850, 6698], 381: [2104, 5700], 894: [6430], 896: [3877], 5505: [10820], 6290: [8347], 4999: [7837], 3466: [9569], 6539: [8126], 1421: [6281], 3982: [4544, 8058], 2447: [9278, 11221], 1688: [6871, 7317], 6034: [12314], 3480: [7475], 409: [4201], 924: [7442], 2975: [10827], 5024: [11401], 2979: [5339], 934: [5458], 423: [7694], 3496: [7095], 2460: [9819], 7082: [10365], 327: [5326, 9636], 5362: [12051, 12061], 6962: [8431], 1967: [5249], 6749: [7033], 438: [7806], 6583: [10210], 3515: [4394], 2492: [5636], 4029: [7769, 10280], 958: [9023], 4544: [10774], 6987: [9497], 3012: [6797], 2501: [2877], 2504: [3457], 3529: [11175], 3831: [8633, 10187, 11102], 461: [2837], 2510: [8668, 10268], 3535: [12100], 469: [5129], 4054: [4070, 9323], 991: [2832], 3040: [5731], 3187: [3548], 3556: [8136], 3494: [10331], 4070: [9323], 4397: [10261], 252: [8867], 490: [9016], 3054: [4109], 4592: [11018], 1521: [8978], 501: [7250, 12289], 3063: [7729], 6228: [11095]}\n"
     ]
    },
    {
     "name": "stdout",
     "output_type": "stream",
     "text": [
      "7400\n",
      "{3585: [11280], 2563: [4029, 7977], 4102: [7735], 5641: [7680], 1034: [7133], 1547: [2738, 7177], 7180: [7957], 525: [3148], 5805: [7307], 2576: [4347], 529: [1299, 12248], 6676: [11249], 4121: [4191], 444: [1201], 543: [4285], 4640: [5515], 545: [11133], 2595: [8912, 9581, 11337], 549: [10919], 5542: [9056], 552: [3546], 6185: [6860], 6698: [10097], 263: [615], 5164: [5722], 45: [3556], 5166: [7769], 2607: [3464], 2097: [2120, 8841], 1074: [2980], 1075: [4676], 4660: [9782], 2613: [9593], 569: [6500], 1451: [6976], 3134: [8560], 577: [9278, 11652], 3083: [4562], 7246: [7439], 3653: [8446], 1095: [5941, 11159], 3658: [10447], 7095: [8213], 78: [714], 6840: [10845], 7372: [8581], 3155: [3454], 2644: [4883], 597: [8563], 1209: [11001], 3672: [10592], 6234: [6845], 1115: [1981], 4794: [9757], 5214: [11306], 4965: [8391], 3344: [6896], 5218: [5416, 6820, 8058, 10234], 699: [10331], 3942: [9788], 615: [11455], 4200: [11249], 3516: [11617], 1643: [5941], 2668: [8292], 7185: [8248], 111: [4038], 5480: [7137], 115: [7372], 1140: [2980, 8058, 10632, 11386], 1141: [4771], 3703: [6300], 632: [5129], 633: [7246], 1658: [4622], 6779: [10349], 2684: [11782], 1149: [6628, 8772], 2693: [5983], 4742: [8970, 10211], 135: [6966], 4716: [7224], 4727: [11746], 7308: [10943], 654: [4509], 146: [7826], 1683: [9555], 6776: [8226], 2710: [6244], 2712: [10119], 1177: [10083], 3226: [3556, 4038], 1179: [3167], 5790: [9150], 671: [5475], 5795: [5966, 7727, 9232], 3749: [10919], 6311: [10371], 2728: [7317, 11529], 6428: [8608, 10016], 6316: [9741], 5743: [6147], 3246: [6048, 8187], 5405: [9150], 1148: [11310], 2738: [3981], 2739: [7832, 10365], 7013: [12062], 3256: [12342], 1721: [2324], 2746: [2825], 1211: [3881], 714: [1876, 3914], 2750: [6877], 703: [1837], 6944: [9034], 6877: [8735, 10688], 4804: [12102], 4030: [12130], 5467: [11295], 6860: [7372], 3274: [7830], 2423: [3653, 11581], 5324: [7989], 5326: [11207], 3279: [10906], 4728: [7311], 7203: [11429], 5332: [11376], 3877: [4562], 6265: [10478], 1240: [4718], 4825: [7690], 218: [9555], 3450: [4644], 293: [2803, 9624], 1248: [4175], 2273: [9515], 3812: [12030], 742: [7695], 2428: [5719], 3306: [11263], 2855: [7521], 3820: [10349], 3310: [6698], 2288: [10948], 2801: [6620], 4850: [9497], 5364: [11374], 245: [10970], 3830: [9274, 11388], 2295: [10086], 3320: [4342], 2812: [9916], 1278: [6178], 256: [11743], 6528: [7273], 3843: [8383, 9062], 772: [7065], 1287: [8735], 6444: [9129], 4877: [9829], 1806: [10603], 1325: [9555, 12369], 2832: [4650], 6418: [9047], 6932: [10554, 11066], 6030: [7620], 3352: [4973], 1305: [5218, 6820], 47: [2276, 10475], 3356: [9654], 3357: [8918, 10340, 11071], 2336: [11166], 5923: [8912, 9581, 11337], 1317: [9354], 3377: [6428], 2344: [11325], 809: [7404], 2858: [6844], 6023: [10478], 4396: [5389], 813: [1535], 2862: [10787], 5423: [8467], 1329: [7468], 818: [11295], 5941: [11159, 12028], 5942: [12233], 6967: [9743], 312: [8136], 2361: [7458], 5434: [11071], 3899: [6699], 394: [4798, 8608], 830: [4024], 224: [10000], 6978: [11931], 6980: [7541], 6966: [9150], 1351: [7977], 5451: [10688], 5966: [7206, 7727], 3981: [6328, 6515], 336: [10097], 6268: [6699], 2389: [8873], 857: [7404], 2394: [7578], 1935: [4549], 5468: [7013], 2910: [8735], 6367: [9009], 2915: [4240], 4838: [11081], 870: [3516], 4455: [5018], 3944: [10670], 4457: [5136], 3437: [3961, 7372], 3442: [8343], 3956: [11857], 4981: [7778], 887: [9323], 1402: [5212, 8529], 1404: [3310, 4850, 6698], 381: [2104, 5700], 894: [6430], 896: [3877], 5505: [10820], 6290: [8347], 4999: [7837], 3466: [9569], 6539: [8126], 1421: [6281], 3982: [4544, 8058], 2447: [9278, 11221], 1688: [6871, 7317], 6034: [12314], 3480: [7475], 409: [4201], 924: [7442], 2975: [10827], 5024: [11401], 2979: [5339], 934: [5458], 423: [7694], 3496: [7095], 2460: [9819], 7082: [10365], 327: [5326, 9636], 5362: [12051, 12061], 6962: [8431], 1967: [5249], 6749: [7033], 438: [7806], 6583: [10210], 3515: [4394], 2492: [5636], 4029: [7769, 10280], 958: [9023], 4544: [10774], 6987: [9497], 3012: [6797], 2501: [2877], 2504: [3457], 3529: [11175], 3831: [8633, 10187, 11102], 461: [2837], 2510: [8668, 10268], 3535: [12100], 469: [5129], 4054: [4070, 9323], 991: [2832], 3040: [5731], 3187: [3548], 3556: [8136], 3494: [10331], 4070: [9323], 4397: [10261], 252: [8867], 490: [9016], 3054: [4109], 4592: [11018], 1521: [8978], 501: [7250, 12289], 3063: [7729], 6228: [11095]}\n",
      "7500\n",
      "{3585: [11280], 2563: [4029, 7977], 4102: [7735], 5641: [7680], 1034: [7133], 1547: [2738, 7177], 7180: [7957], 525: [3148], 5805: [7307], 2576: [4347], 529: [1299, 12248], 6676: [11249], 7468: [8791], 4121: [4191], 444: [1201], 543: [4285], 4640: [5515], 545: [11133], 2595: [8912, 9581, 11337], 549: [10919], 5542: [9056], 552: [3546], 6185: [6860], 6698: [10097], 263: [615], 5164: [5722], 45: [3556], 5166: [7769], 2607: [3464], 2097: [2120, 8841], 1074: [2980], 1075: [4676], 4660: [9782], 2613: [9593], 569: [6500], 1451: [6976], 3134: [8560], 577: [9278, 11652], 3083: [4562], 7246: [7439], 3653: [8446], 1095: [5941, 11159], 3658: [10447], 7095: [8213], 78: [714], 6840: [10845], 7372: [8581], 3155: [3454], 2644: [4883], 597: [8563], 1209: [11001], 3672: [10592], 6234: [6845], 1115: [1981], 4794: [9757], 5214: [11306], 4965: [8391], 3344: [6896], 5218: [5416, 6820, 8058, 10234], 699: [10331], 3942: [9788], 615: [11455], 4200: [11249], 3516: [11617], 1643: [5941], 2668: [8292], 7185: [8248], 111: [4038], 5480: [7137], 115: [7372], 1140: [2980, 8058, 10632, 11386], 1141: [4771], 3703: [6300], 632: [5129], 633: [7246], 1658: [4622], 6779: [10349], 2684: [11782], 1149: [6628, 8772], 7445: [10589], 2693: [5983], 4742: [8970, 10211], 135: [6966], 4716: [7224], 4727: [11746], 7308: [10943], 654: [4509], 146: [7826], 1683: [9555], 6776: [8226], 2710: [6244], 2712: [10119], 1177: [10083], 3226: [3556, 4038], 1179: [3167], 5790: [9150], 671: [5475], 5795: [5966, 7727, 9232], 3749: [10919], 6311: [10371], 2728: [7317, 11529], 6428: [8608, 10016], 6316: [9741], 5743: [6147], 3246: [6048, 8187], 5405: [9150], 1148: [11310], 2738: [3981], 2739: [7832, 10365], 7013: [12062], 3256: [12342], 1721: [2324], 2746: [2825], 1211: [3881], 714: [1876, 3914], 2750: [6877], 703: [1837], 6944: [9034], 6877: [8735, 10688], 4804: [12102], 4030: [12130], 5467: [11295], 6860: [7372], 3274: [7830], 2423: [3653, 11581], 5324: [7989], 5326: [11207], 3279: [10906], 4728: [7311], 7203: [11429], 5332: [11376], 3877: [4562], 6265: [10478], 1240: [4718], 4825: [7690], 218: [9555], 3450: [4644], 293: [2803, 9624], 1248: [4175], 2273: [9515], 3812: [12030], 742: [7695], 2428: [5719], 3306: [11263], 2855: [7521], 3820: [10349], 3310: [6698], 2288: [10948], 2801: [6620], 4850: [9497], 5364: [11374], 245: [10970], 3830: [9274, 11388], 2295: [10086], 3320: [4342], 2812: [9916], 1278: [6178], 256: [11743], 6528: [7273], 3843: [8383, 9062], 772: [7065], 1287: [8735], 6444: [9129], 4877: [9829], 1806: [10603], 1325: [9555, 12369], 2832: [4650], 6418: [9047], 6932: [10554, 11066], 6030: [7620], 3352: [4973], 1305: [5218, 6820], 47: [2276, 10475], 3356: [9654], 3357: [8918, 10340, 11071], 2336: [11166], 5923: [8912, 9581, 11337], 1317: [9354], 3377: [6428], 2344: [11325], 809: [7404], 2858: [6844], 6023: [10478], 4396: [5389], 813: [1535], 2862: [10787], 5423: [8467], 1329: [7468], 818: [11295], 5941: [11159, 12028], 5942: [12233], 6967: [9743], 312: [8136], 2361: [7458], 5434: [11071], 3899: [6699], 394: [4798, 8608], 830: [4024], 224: [10000], 6978: [11931], 6980: [7541], 6966: [9150], 1351: [7977], 5451: [10688], 5966: [7206, 7727], 3981: [6328, 6515], 336: [10097], 6268: [6699], 2389: [8873], 857: [7404], 2394: [7578], 1935: [4549], 5468: [7013], 2910: [8735], 6367: [9009], 2915: [4240], 4838: [11081], 870: [3516], 4455: [5018], 3944: [10670], 4457: [5136], 3437: [3961, 7372], 3442: [8343], 3956: [11857], 4981: [7778], 887: [9323], 1402: [5212, 8529], 1404: [3310, 4850, 6698], 381: [2104, 5700], 894: [6430], 896: [3877], 5505: [10820], 6290: [8347], 4999: [7837], 3466: [9569], 6539: [8126], 1421: [6281], 3982: [4544, 8058], 2447: [9278, 11221], 1688: [6871, 7317], 6034: [12314], 3480: [7475], 409: [4201], 924: [7442], 2975: [10827], 5024: [11401], 2979: [5339], 934: [5458], 423: [7694], 3496: [7095], 2460: [9819], 7082: [10365], 327: [5326, 9636], 5362: [12051, 12061], 6962: [8431], 1967: [5249], 6749: [7033], 438: [7806], 6583: [10210], 3515: [4394], 2492: [5636], 4029: [7769, 10280], 958: [9023], 4544: [10774], 7414: [10549], 6987: [9497], 3012: [6797], 2501: [2877], 2504: [3457], 3529: [11175], 3831: [8633, 10187, 11102], 461: [2837], 2510: [8668, 10268], 3535: [12100], 469: [5129], 4054: [4070, 9323], 991: [2832], 3040: [5731], 3187: [3548], 3556: [8136], 3494: [10331], 4070: [9323], 4397: [10261], 252: [8867], 490: [9016], 3054: [4109], 4592: [11018], 1521: [8978], 501: [7250, 12289], 3063: [7729], 6228: [11095]}\n"
     ]
    },
    {
     "name": "stdout",
     "output_type": "stream",
     "text": [
      "7600\n",
      "{3585: [11280], 2563: [4029, 7977], 4102: [7735], 5641: [7680], 1034: [7133], 1547: [2738, 7177], 7180: [7957], 525: [3148], 5805: [7307], 2576: [4347], 529: [1299, 12248], 6676: [11249], 7468: [8791], 4121: [4191], 444: [1201], 543: [4285], 4640: [5515], 545: [11133], 2595: [8912, 9581, 11337], 549: [10919], 5542: [9056], 552: [3546], 6185: [6860], 6698: [10097], 263: [615], 5164: [5722], 45: [3556], 5166: [7769], 2607: [3464], 2097: [2120, 8841], 1074: [2980], 1075: [4676], 4660: [9782], 2613: [9593], 569: [6500], 1451: [6976], 3134: [8560], 577: [9278, 11652], 3083: [4562], 7246: [7439], 3653: [8446], 1095: [5941, 11159], 3658: [10447], 7095: [8213], 78: [714], 6840: [10845], 7372: [8581], 3155: [3454], 2644: [4883], 597: [8563], 1209: [11001], 3672: [10592], 7541: [7741], 6234: [6845], 1115: [1981], 4794: [9757], 5214: [11306], 4965: [8391], 3344: [6896], 5218: [5416, 6820, 8058, 10234], 699: [10331], 3942: [9788], 615: [11455], 4200: [11249], 3516: [11617], 1643: [5941], 2668: [8292], 7185: [8248], 111: [4038], 5480: [7137], 115: [7372], 1140: [2980, 8058, 10632, 11386], 1141: [4771], 3703: [6300], 632: [5129], 633: [7246], 1658: [4622], 6779: [10349], 2684: [11782], 1149: [6628, 8772], 7445: [10589], 2693: [5983], 4742: [8970, 10211], 135: [6966], 4716: [7224], 4727: [11746], 7308: [10943], 654: [4509], 146: [7826], 1683: [9555], 6776: [8226], 2710: [6244], 2712: [10119], 1177: [10083], 3226: [3556, 4038], 1179: [3167], 5790: [9150], 671: [5475], 5795: [5966, 7727, 9232], 3749: [10919], 6311: [10371], 2728: [7317, 11529], 6428: [8608, 10016], 6316: [9741], 5743: [6147], 3246: [6048, 8187], 5405: [9150], 1148: [11310], 2738: [3981], 2739: [7832, 10365], 7013: [12062], 3256: [12342], 1721: [2324], 2746: [2825], 1211: [3881], 714: [1876, 3914], 2750: [6877], 703: [1837], 6944: [9034], 6877: [8735, 10688], 4804: [12102], 4030: [12130], 5467: [11295], 6860: [7372], 3274: [7830], 2423: [3653, 11581], 5324: [7989], 5326: [11207], 3279: [10906], 4728: [7311], 7203: [11429], 5332: [11376], 3877: [4562], 6265: [10478], 1240: [4718], 4825: [7690], 218: [9555], 3450: [4644], 293: [2803, 9624], 1248: [4175], 2273: [9515], 3812: [12030], 742: [7695], 2428: [5719], 3306: [11263], 2855: [7521], 3820: [10349], 3310: [6698], 2288: [10948], 2801: [6620], 4850: [9497], 5364: [11374], 245: [10970], 3830: [9274, 11388], 2295: [10086], 3320: [4342], 2812: [9916], 1278: [6178], 256: [11743], 6528: [7273], 3843: [8383, 9062], 772: [7065], 1287: [8735], 6444: [9129], 4877: [9829], 1806: [10603], 1325: [9555, 12369], 2832: [4650], 6418: [9047], 6932: [10554, 11066], 6030: [7620], 3352: [4973], 1305: [5218, 6820], 47: [2276, 10475], 3356: [9654], 3357: [8918, 10340, 11071], 2336: [11166], 5923: [8912, 9581, 11337], 1317: [9354], 3377: [6428], 2344: [11325], 809: [7404], 2858: [6844], 6023: [10478], 4396: [5389], 813: [1535], 2862: [10787], 5423: [8467], 1329: [7468], 818: [11295], 5941: [11159, 12028], 5942: [12233], 6967: [9743], 312: [8136], 2361: [7458], 5434: [11071], 3899: [6699], 394: [4798, 8608], 830: [4024], 224: [10000], 6978: [11931], 6980: [7541], 6966: [9150], 1351: [7977], 5451: [10688], 5966: [7206, 7727], 3981: [6328, 6515], 336: [10097], 6268: [6699], 2389: [8873], 857: [7404], 2394: [7578], 1935: [4549], 5468: [7013], 2910: [8735], 6367: [9009], 2915: [4240], 4838: [11081], 870: [3516], 4455: [5018], 3944: [10670], 4457: [5136], 3437: [3961, 7372], 3442: [8343], 3956: [11857], 4981: [7778], 887: [9323], 1402: [5212, 8529], 1404: [3310, 4850, 6698], 381: [2104, 5700], 894: [6430], 896: [3877], 5505: [10820], 6290: [8347], 4999: [7837], 3466: [9569], 6539: [8126], 1421: [6281], 3982: [4544, 8058], 2447: [9278, 11221], 1688: [6871, 7317], 6034: [12314], 3480: [7475], 409: [4201], 924: [7442], 2975: [10827], 5024: [11401], 2979: [5339], 934: [5458], 423: [7694], 3496: [7095], 2460: [9819], 7082: [10365], 327: [5326, 9636], 5362: [12051, 12061], 6962: [8431], 1967: [5249], 6749: [7033], 438: [7806], 6583: [10210], 3515: [4394], 2492: [5636], 4029: [7769, 10280], 958: [9023], 4544: [10774], 7414: [10549], 6987: [9497], 3012: [6797], 2501: [2877], 2504: [3457], 3529: [11175], 3831: [8633, 10187, 11102], 461: [2837], 2510: [8668, 10268], 3535: [12100], 469: [5129], 4054: [4070, 9323], 991: [2832], 3040: [5731], 3187: [3548], 3556: [8136], 3494: [10331], 4070: [9323], 4397: [10261], 252: [8867], 490: [9016], 3054: [4109], 4592: [11018], 1521: [8978], 501: [7250, 12289], 3063: [7729], 6228: [11095]}\n",
      "7700\n",
      "{3585: [11280], 2563: [4029, 7977], 4102: [7735], 5641: [7680], 1034: [7133], 1547: [2738, 7177], 7180: [7957], 525: [3148], 5805: [7307], 2576: [4347], 529: [1299, 12248], 6676: [11249], 7468: [8791], 4121: [4191], 444: [1201], 543: [4285], 4640: [5515], 545: [11133], 2595: [8912, 9581, 11337], 549: [10919], 5542: [9056], 552: [3546], 6185: [6860], 6698: [10097], 263: [615], 5164: [5722], 45: [3556], 5166: [7769], 2607: [3464], 2097: [2120, 8841], 1074: [2980], 1075: [4676], 4660: [9782], 2613: [9593], 569: [6500], 1451: [6976], 3134: [8560], 577: [9278, 11652], 3083: [4562], 7246: [7439], 3653: [8446], 1095: [5941, 11159], 3658: [10447], 7095: [8213], 78: [714], 6840: [10845], 7372: [8581], 3155: [3454], 2644: [4883], 597: [8563], 1209: [11001], 3672: [10592], 7541: [7741], 6234: [6845], 1115: [1981], 4794: [9757], 5214: [11306], 4965: [8391], 3344: [6896], 5218: [5416, 6820, 8058, 10234], 699: [10331], 3942: [9788], 615: [11455], 4200: [11249], 3516: [11617], 1643: [5941], 2668: [8292], 7185: [8248], 111: [4038], 5480: [7137], 115: [7372], 1140: [2980, 8058, 10632, 11386], 1141: [4771], 3703: [6300], 632: [5129], 633: [7246], 1658: [4622], 6779: [10349], 2684: [11782], 1149: [6628, 8772], 7445: [10589], 2693: [5983], 4742: [8970, 10211], 135: [6966], 4716: [7224], 4727: [11746], 7308: [10943], 654: [4509], 146: [7826], 1683: [9555], 6776: [8226], 2710: [6244], 2712: [10119], 1177: [10083], 3226: [3556, 4038], 1179: [3167], 5790: [9150], 671: [5475], 5795: [5966, 7727, 9232], 3749: [10919], 6311: [10371], 2728: [7317, 11529], 6428: [8608, 10016], 6316: [9741], 5743: [6147], 3246: [6048, 8187], 5405: [9150], 1148: [11310], 2738: [3981], 2739: [7832, 10365], 7013: [12062], 3256: [12342], 1721: [2324], 2746: [2825], 1211: [3881], 714: [1876, 3914], 2750: [6877], 703: [1837], 6944: [9034], 6877: [8735, 10688], 4804: [12102], 4030: [12130], 5467: [11295], 6860: [7372], 3274: [7830], 2423: [3653, 11581], 5324: [7989], 5326: [11207], 3279: [10906], 4728: [7311], 7203: [11429], 5332: [11376], 3877: [4562], 6265: [10478], 1240: [4718], 4825: [7690], 218: [9555], 3450: [4644], 293: [2803, 9624], 1248: [4175], 2273: [9515], 3812: [12030], 742: [7695], 2428: [5719], 3306: [11263], 2855: [7521], 3820: [10349], 3310: [6698], 2288: [10948], 2801: [6620], 4850: [9497], 5364: [11374], 245: [10970], 3830: [9274, 11388], 2295: [10086], 3320: [4342], 2812: [9916], 1278: [6178], 256: [11743], 6528: [7273], 3843: [8383, 9062], 772: [7065], 1287: [8735], 6444: [9129], 4877: [9829], 1806: [10603], 1325: [9555, 12369], 2832: [4650], 6418: [9047], 6932: [10554, 11066], 6030: [7620], 3352: [4973], 1305: [5218, 6820], 47: [2276, 10475], 3356: [9654], 3357: [8918, 10340, 11071], 2336: [11166], 5923: [8912, 9581, 11337], 1317: [9354], 3377: [6428], 2344: [11325], 809: [7404], 2858: [6844], 6023: [10478], 4396: [5389], 813: [1535], 2862: [10787], 5423: [8467], 1329: [7468], 818: [11295], 5941: [11159, 12028], 5942: [12233], 6967: [9743], 312: [8136], 2361: [7458], 5434: [11071], 3899: [6699], 394: [4798, 8608], 830: [4024], 224: [10000], 6978: [11931], 6980: [7541], 6966: [9150], 1351: [7977], 5451: [10688], 5966: [7206, 7727], 3981: [6328, 6515], 336: [10097], 6268: [6699], 2389: [8873], 857: [7404], 2394: [7578], 1935: [4549], 5468: [7013], 2910: [8735], 6367: [9009], 2915: [4240], 4838: [11081], 870: [3516], 4455: [5018], 3944: [10670], 4457: [5136], 3437: [3961, 7372], 3442: [8343], 3956: [11857], 4981: [7778], 887: [9323], 1402: [5212, 8529], 1404: [3310, 4850, 6698], 381: [2104, 5700], 894: [6430], 896: [3877], 5505: [10820], 6290: [8347], 4999: [7837], 3466: [9569], 6539: [8126], 1421: [6281], 3982: [4544, 8058], 2447: [9278, 11221], 1688: [6871, 7317], 6034: [12314], 3480: [7475], 409: [4201], 924: [7442], 2975: [10827], 5024: [11401], 2979: [5339], 934: [5458], 423: [7694], 3496: [7095], 2460: [9819], 7082: [10365], 327: [5326, 9636], 5362: [12051, 12061], 6962: [8431], 1967: [5249], 6749: [7033], 438: [7806], 6583: [10210], 3515: [4394], 2492: [5636], 4029: [7769, 10280], 958: [9023], 4544: [10774], 7414: [10549], 6987: [9497], 3012: [6797], 2501: [2877], 2504: [3457], 3529: [11175], 3831: [8633, 10187, 11102], 461: [2837], 2510: [8668, 10268], 3535: [12100], 469: [5129], 4054: [4070, 9323], 991: [2832], 3040: [5731], 3187: [3548], 3556: [8136], 3494: [10331], 4070: [9323], 4397: [10261], 252: [8867], 490: [9016], 3054: [4109], 4592: [11018], 1521: [8978], 501: [7250, 12289], 3063: [7729], 6228: [11095]}\n"
     ]
    },
    {
     "name": "stdout",
     "output_type": "stream",
     "text": [
      "7800\n",
      "{3585: [11280], 2563: [4029, 7977], 4102: [7735], 5641: [7680], 1034: [7133], 1547: [2738, 7177], 7180: [7957], 525: [3148], 5805: [7307], 2576: [4347], 529: [1299, 12248], 6676: [11249], 7468: [8791], 4121: [4191], 444: [1201], 543: [4285], 4640: [5515], 545: [11133], 2595: [8912, 9581, 11337], 549: [10919], 5542: [9056], 552: [3546], 6185: [6860], 6698: [10097], 263: [615], 5164: [5722], 45: [3556], 5166: [7769], 2607: [3464], 2097: [2120, 8841], 1074: [2980], 1075: [4676], 4660: [9782], 2613: [9593], 569: [6500], 1451: [6976], 3134: [8560], 7744: [9131], 577: [9278, 11652], 3083: [4562], 7246: [7439], 3653: [8446], 1095: [5941, 11159], 3658: [10447], 7095: [8213], 78: [714], 6840: [10845], 7372: [8581], 3155: [3454], 2644: [4883], 597: [8563], 1209: [11001], 3672: [10592], 7541: [7741], 6234: [6845], 1115: [1981], 4794: [9757], 5214: [11306], 4965: [8391], 3344: [6896], 5218: [5416, 6820, 8058, 10234], 699: [10331], 3942: [9788], 615: [11455], 4200: [11249], 3516: [11617], 1643: [5941], 2668: [8292], 7185: [8248], 111: [4038], 5480: [7137], 115: [7372], 1140: [2980, 8058, 10632, 11386], 1141: [4771], 3703: [6300], 632: [5129], 633: [7246], 1658: [4622], 6779: [10349], 2684: [11782], 1149: [6628, 8772], 7445: [10589], 2693: [5983], 4742: [8970, 10211], 135: [6966], 4716: [7224], 4727: [11746], 7308: [10943], 654: [4509], 146: [7826], 1683: [9555], 6776: [8226], 2710: [6244], 7705: [10717], 2712: [10119], 1177: [10083], 3226: [3556, 4038], 1179: [3167], 5790: [9150], 671: [5475], 5795: [5966, 7727, 9232], 3749: [10919], 6311: [10371], 2728: [7317, 11529], 6428: [8608, 10016], 6316: [9741], 5743: [6147], 3246: [6048, 8187], 5405: [9150], 1148: [11310], 2738: [3981], 2739: [7832, 10365], 7013: [12062], 3256: [12342], 1721: [2324], 2746: [2825], 1211: [3881], 714: [1876, 3914], 2750: [6877], 703: [1837], 6944: [9034], 6877: [8735, 10688], 4804: [12102], 4030: [12130], 5467: [11295], 6860: [7372], 3274: [7830], 2423: [3653, 11581], 5324: [7989], 5326: [11207], 3279: [10906], 4728: [7311], 7203: [11429], 5332: [11376], 3877: [4562], 6265: [10478], 1240: [4718], 4825: [7690], 218: [9555], 3450: [4644], 293: [2803, 9624], 1248: [4175], 2273: [9515], 3812: [12030], 742: [7695], 2428: [5719], 3306: [11263], 2855: [7521], 3820: [10349], 3310: [6698], 2288: [10948], 2801: [6620], 4850: [9497], 5364: [11374], 245: [10970], 3830: [9274, 11388], 2295: [10086], 3320: [4342], 2812: [9916], 1278: [6178], 256: [11743], 6528: [7273], 3843: [8383, 9062], 772: [7065], 1287: [8735], 6444: [9129], 4877: [9829], 1806: [10603], 1325: [9555, 12369], 2832: [4650], 6418: [9047], 6932: [10554, 11066], 6030: [7620], 3352: [4973], 1305: [5218, 6820], 47: [2276, 10475], 3356: [9654], 3357: [8918, 10340, 11071], 2336: [11166], 5923: [8912, 9581, 11337], 1317: [9354], 3377: [6428], 2344: [11325], 809: [7404], 2858: [6844], 6023: [10478], 4396: [5389], 813: [1535], 2862: [10787], 5423: [8467], 1329: [7468], 818: [11295], 5941: [11159, 12028], 5942: [12233], 6967: [9743], 312: [8136], 2361: [7458], 5434: [11071], 3899: [6699], 394: [4798, 8608], 830: [4024], 224: [10000], 6978: [11931], 6980: [7541], 6966: [9150], 1351: [7977], 5451: [10688], 5966: [7206, 7727], 3981: [6328, 6515], 336: [10097], 6268: [6699], 2389: [8873], 857: [7404], 2394: [7578], 1935: [4549], 5468: [7013], 2910: [8735], 6367: [9009], 2915: [4240], 4838: [11081], 870: [3516], 4455: [5018], 3944: [10670], 4457: [5136], 3437: [3961, 7372], 3442: [8343], 3956: [11857], 4981: [7778], 887: [9323], 1402: [5212, 8529], 1404: [3310, 4850, 6698], 381: [2104, 5700], 894: [6430], 896: [3877], 5505: [10820], 6290: [8347], 4999: [7837], 3466: [9569], 6539: [8126], 1421: [6281], 3982: [4544, 8058], 2447: [9278, 11221], 1688: [6871, 7317], 6034: [12314], 3480: [7475], 409: [4201], 924: [7442], 2975: [10827], 5024: [11401], 2979: [5339], 934: [5458], 423: [7694], 3496: [7095], 2460: [9819], 7082: [10365], 327: [5326, 9636], 5362: [12051, 12061], 6962: [8431], 1967: [5249], 6749: [7033], 438: [7806], 6583: [10210], 3515: [4394], 2492: [5636], 4029: [7769, 10280], 958: [9023], 4544: [10774], 7414: [10549], 6987: [9497], 3012: [6797], 2501: [2877], 2504: [3457], 3529: [11175], 3831: [8633, 10187, 11102], 461: [2837], 2510: [8668, 10268], 3535: [12100], 469: [5129], 4054: [4070, 9323], 7767: [9062, 11326], 991: [2832], 3040: [5731], 3187: [3548], 3556: [8136], 3494: [10331], 4070: [9323], 4397: [10261], 252: [8867], 490: [9016], 3054: [4109], 4592: [11018], 1521: [8978], 501: [7250, 12289], 3063: [7729], 6228: [11095]}\n",
      "7900\n",
      "{3585: [11280], 2563: [4029, 7977], 4102: [7735], 5641: [7680], 1034: [7133], 1547: [2738, 7177], 7180: [7957], 525: [3148], 5805: [7307], 2576: [4347], 529: [1299, 12248], 6676: [11249], 7468: [8791], 4121: [4191], 444: [1201], 543: [4285], 4640: [5515], 545: [11133], 2595: [8912, 9581, 11337], 549: [10919], 5542: [9056], 552: [3546], 6185: [6860], 6698: [10097], 263: [615], 5164: [5722], 45: [3556], 5166: [7769], 2607: [3464], 2097: [2120, 8841], 1074: [2980], 1075: [4676], 4660: [9782], 2613: [9593], 569: [6500], 1451: [6976], 3134: [8560], 7744: [9131], 577: [9278, 11652], 3083: [4562], 7246: [7439], 3653: [8446], 1095: [5941, 11159], 3658: [10447], 7095: [8213], 78: [714], 6840: [10845], 7372: [8581], 3155: [3454], 2644: [4883], 597: [8563], 1209: [11001], 3672: [10592], 7541: [7741], 6234: [6845], 1115: [1981], 4794: [9757], 5214: [11306], 4965: [8391], 3344: [6896], 5218: [5416, 6820, 8058, 10234], 699: [10331], 3942: [9788], 615: [11455], 4200: [11249], 3516: [11617], 1643: [5941], 2668: [8292], 7185: [8248], 111: [4038], 5480: [7137], 115: [7372], 1140: [2980, 8058, 10632, 11386], 1141: [4771], 3703: [6300], 632: [5129], 633: [7246], 1658: [4622], 6779: [10349], 2684: [11782], 1149: [6628, 8772], 7445: [10589], 2693: [5983], 4742: [8970, 10211], 135: [6966], 4716: [7224], 4727: [11746], 7308: [10943], 654: [4509], 146: [7826], 1683: [9555], 6776: [8226], 2710: [6244], 7705: [10717], 2712: [10119], 1177: [10083], 3226: [3556, 4038], 1179: [3167], 5790: [9150], 671: [5475], 5795: [5966, 7727, 9232], 3749: [10919], 6311: [10371], 2728: [7317, 11529], 6428: [8608, 10016], 6316: [9741], 5743: [6147], 3246: [6048, 8187], 5405: [9150], 1148: [11310], 2738: [3981], 2739: [7832, 10365], 7013: [12062], 3256: [12342], 1721: [2324], 2746: [2825], 1211: [3881], 714: [1876, 3914], 2750: [6877], 703: [1837], 6944: [9034], 6877: [8735, 10688], 4804: [12102], 4030: [12130], 5467: [11295], 6860: [7372], 3274: [7830], 2423: [3653, 11581], 5324: [7989], 5326: [11207], 3279: [10906], 4728: [7311], 7203: [11429], 5332: [11376], 3877: [4562], 6265: [10478], 1240: [4718], 4825: [7690], 218: [9555], 3450: [4644], 293: [2803, 9624], 1248: [4175], 2273: [9515], 3812: [12030], 742: [7695], 2428: [5719], 3306: [11263], 2855: [7521], 3820: [10349], 3310: [6698], 2288: [10948], 2801: [6620], 4850: [9497], 5364: [11374], 245: [10970], 3830: [9274, 11388], 2295: [10086], 3320: [4342], 2812: [9916], 1278: [6178], 256: [11743], 6528: [7273], 3843: [8383, 9062], 772: [7065], 1287: [8735], 6444: [9129], 4877: [9829], 1806: [10603], 1325: [9555, 12369], 2832: [4650], 6418: [9047], 6932: [10554, 11066], 6030: [7620], 3352: [4973], 1305: [5218, 6820], 47: [2276, 10475], 3356: [9654], 3357: [8918, 10340, 11071], 2336: [11166], 5923: [8912, 9581, 11337], 1317: [9354], 3377: [6428], 2344: [11325], 809: [7404], 2858: [6844], 6023: [10478], 4396: [5389], 813: [1535], 2862: [10787], 5423: [8467], 1329: [7468], 818: [11295], 5941: [11159, 12028], 5942: [12233], 6967: [9743], 312: [8136], 2361: [7458], 5434: [11071], 3899: [6699], 394: [4798, 8608], 830: [4024], 224: [10000], 6978: [11931], 6980: [7541], 6966: [9150], 1351: [7977], 5451: [10688], 5966: [7206, 7727], 3981: [6328, 6515], 336: [10097], 6268: [6699], 2389: [8873], 857: [7404], 2394: [7578], 1935: [4549], 5468: [7013], 2910: [8735], 6367: [9009], 2915: [4240], 4838: [11081], 870: [3516], 4455: [5018], 3944: [10670], 4457: [5136], 3437: [3961, 7372], 3442: [8343], 3956: [11857], 4981: [7778], 887: [9323], 1402: [5212, 8529], 1404: [3310, 4850, 6698], 381: [2104, 5700], 894: [6430], 896: [3877], 5505: [10820], 6290: [8347], 4999: [7837], 3466: [9569], 6539: [8126], 1421: [6281], 3982: [4544, 8058], 2447: [9278, 11221], 1688: [6871, 7317], 6034: [12314], 3480: [7475], 409: [4201], 924: [7442], 2975: [10827], 5024: [11401], 2979: [5339], 934: [5458], 423: [7694], 3496: [7095], 2460: [9819], 7082: [10365], 327: [5326, 9636], 5362: [12051, 12061], 6962: [8431], 1967: [5249], 6749: [7033], 438: [7806], 6583: [10210], 3515: [4394], 2492: [5636], 4029: [7769, 10280], 958: [9023], 4544: [10774], 7414: [10549], 6987: [9497], 3012: [6797], 2501: [2877], 2504: [3457], 3529: [11175], 3831: [8633, 10187, 11102], 461: [2837], 2510: [8668, 10268], 3535: [12100], 469: [5129], 4054: [4070, 9323], 7767: [9062, 11326], 991: [2832], 3040: [5731], 3187: [3548], 3556: [8136], 3494: [10331], 4070: [9323], 4397: [10261], 252: [8867], 490: [9016], 3054: [4109], 4592: [11018], 1521: [8978], 501: [7250, 12289], 3063: [7729], 6228: [11095]}\n"
     ]
    },
    {
     "name": "stdout",
     "output_type": "stream",
     "text": [
      "8000\n",
      "{3585: [11280], 2563: [4029, 7977], 4102: [7735], 5641: [7680], 1034: [7133], 1547: [2738, 7177], 7180: [7957], 525: [3148], 5805: [7307], 2576: [4347], 529: [1299, 12248], 6676: [11249], 7468: [8791], 4121: [4191], 444: [1201], 543: [4285], 4640: [5515], 545: [11133], 2595: [8912, 9581, 11337], 549: [10919], 5542: [9056], 552: [3546], 6185: [6860], 6698: [10097], 263: [615], 5164: [5722], 45: [3556], 5166: [7769], 2607: [3464], 2097: [2120, 8841], 1074: [2980], 1075: [4676], 4660: [9782], 2613: [9593], 569: [6500], 1451: [6976], 3134: [8560], 7744: [9131], 577: [9278, 11652], 3083: [4562], 7246: [7439], 3653: [8446], 1095: [5941, 11159], 3658: [10447], 7095: [8213], 78: [714], 6840: [10845], 7372: [8581], 3155: [3454], 2644: [4883], 597: [8563], 1209: [11001], 3672: [10592], 7541: [7741], 6234: [6845], 1115: [1981], 4794: [9757], 5214: [11306], 4965: [8391], 3344: [6896], 5218: [5416, 6820, 8058, 10234], 699: [10331], 3942: [9788], 615: [11455], 4200: [11249], 3516: [11617], 1643: [5941], 2668: [8292], 7185: [8248], 111: [4038], 5480: [7137], 115: [7372], 1140: [2980, 8058, 10632, 11386], 1141: [4771], 3703: [6300], 632: [5129], 633: [7246], 1658: [4622], 6779: [10349], 2684: [11782], 1149: [6628, 8772], 7445: [10589], 2693: [5983], 4742: [8970, 10211], 135: [6966], 4716: [7224], 4727: [11746], 7308: [10943], 654: [4509], 146: [7826], 1683: [9555], 6776: [8226], 2710: [6244], 7705: [10717], 2712: [10119], 1177: [10083], 3226: [3556, 4038], 1179: [3167], 5790: [9150], 671: [5475], 5795: [5966, 7727, 9232], 3749: [10919], 6311: [10371], 2728: [7317, 11529], 6428: [8608, 10016], 6316: [9741], 5743: [6147], 3246: [6048, 8187], 5405: [9150], 1148: [11310], 2738: [3981], 2739: [7832, 10365], 7013: [12062], 3256: [12342], 1721: [2324], 2746: [2825], 1211: [3881], 714: [1876, 3914], 2750: [6877], 703: [1837], 6944: [9034], 6877: [8735, 10688], 4804: [12102], 4030: [12130], 5467: [11295], 6860: [7372], 3274: [7830], 2423: [3653, 11581], 5324: [7989], 5326: [11207], 3279: [10906], 4728: [7311], 7203: [11429], 5332: [11376], 3877: [4562], 6265: [10478], 1240: [4718], 4825: [7690], 218: [9555], 3450: [4644], 293: [2803, 9624], 1248: [4175], 2273: [9515], 3812: [12030], 742: [7695], 2428: [5719], 3306: [11263], 2855: [7521], 3820: [10349], 3310: [6698], 2288: [10948], 2801: [6620], 4850: [9497], 5364: [11374], 245: [10970], 3830: [9274, 11388], 2295: [10086], 3320: [4342], 2812: [9916], 1278: [6178], 256: [11743], 6528: [7273], 3843: [8383, 9062], 772: [7065], 1287: [8735], 6444: [9129], 4877: [9829], 1806: [10603], 1325: [9555, 12369], 2832: [4650], 6418: [9047], 6932: [10554, 11066], 6030: [7620], 7958: [10231], 3352: [4973], 1305: [5218, 6820], 47: [2276, 10475], 3356: [9654], 3357: [8918, 10340, 11071], 2336: [11166], 5923: [8912, 9581, 11337], 1317: [9354], 3377: [6428], 2344: [11325], 809: [7404], 2858: [6844], 6023: [10478], 4396: [5389], 813: [1535], 2862: [10787], 5423: [8467], 1329: [7468], 818: [11295], 5941: [11159, 12028], 5942: [12233], 6967: [9743], 312: [8136], 2361: [7458], 5434: [11071], 3899: [6699], 394: [4798, 8608], 830: [4024], 224: [10000], 6978: [11931], 6980: [7541], 6966: [9150], 1351: [7977], 5451: [10688], 5966: [7206, 7727], 3981: [6328, 6515], 336: [10097], 6268: [6699], 2389: [8873], 857: [7404], 2394: [7578], 1935: [4549], 5468: [7013], 2910: [8735], 6367: [9009], 2915: [4240], 4838: [11081], 870: [3516], 4455: [5018], 3944: [10670], 4457: [5136], 3437: [3961, 7372], 3442: [8343], 3956: [11857], 4981: [7778], 887: [9323], 1402: [5212, 8529], 1404: [3310, 4850, 6698], 381: [2104, 5700], 894: [6430], 896: [3877], 5505: [10820], 6290: [8347], 4999: [7837], 3466: [9569], 6539: [8126], 1421: [6281], 3982: [4544, 8058], 2447: [9278, 11221], 1688: [6871, 7317], 6034: [12314], 3480: [7475], 409: [4201], 924: [7442], 2975: [10827], 5024: [11401], 2979: [5339], 934: [5458], 423: [7694], 3496: [7095], 2460: [9819], 7082: [10365], 327: [5326, 9636], 5362: [12051, 12061], 6962: [8431], 1967: [5249], 6749: [7033], 438: [7806], 6583: [10210], 3515: [4394], 2492: [5636], 4029: [7769, 10280], 958: [9023], 4544: [10774], 7414: [10549], 6987: [9497], 3012: [6797], 2501: [2877], 2504: [3457], 3529: [11175], 3831: [8633, 10187, 11102], 461: [2837], 2510: [8668, 10268], 3535: [12100], 469: [5129], 4054: [4070, 9323], 7767: [9062, 11326], 991: [2832], 3040: [5731], 3187: [3548], 3556: [8136], 3494: [10331], 4070: [9323], 4397: [10261], 252: [8867], 490: [9016], 3054: [4109], 4592: [11018], 1521: [8978], 501: [7250, 12289], 3063: [7729], 6228: [11095]}\n",
      "8100\n",
      "{3585: [11280], 2563: [4029, 7977], 4102: [7735], 5641: [7680], 1034: [7133], 1547: [2738, 7177], 7180: [7957], 525: [3148], 5805: [7307], 2576: [4347], 529: [1299, 12248], 6676: [11249], 7468: [8791], 4121: [4191], 444: [1201], 543: [4285], 4640: [5515], 545: [11133], 2595: [8912, 9581, 11337], 549: [10919], 5542: [9056], 552: [3546], 6185: [6860], 6698: [10097], 263: [615], 5164: [5722], 45: [3556], 5166: [7769], 2607: [3464], 2097: [2120, 8841], 1074: [2980], 1075: [4676], 4660: [9782], 2613: [9593], 569: [6500], 1451: [6976], 3134: [8560], 7744: [9131], 577: [9278, 11652], 3083: [4562], 7246: [7439], 3653: [8446], 1095: [5941, 11159], 3658: [10447], 7095: [8213], 78: [714], 6840: [10845], 7372: [8581], 3155: [3454], 2644: [4883], 597: [8563], 1209: [11001], 3672: [10592], 7541: [7741], 6234: [6845], 1115: [1981], 4794: [9757], 5214: [11306], 4965: [8391], 3344: [6896], 5218: [5416, 6820, 8058, 10234], 699: [10331], 3942: [9788], 615: [11455], 4200: [11249], 3516: [11617], 1643: [5941], 2668: [8292], 7185: [8248], 111: [4038], 5480: [7137], 115: [7372], 1140: [2980, 8058, 10632, 11386], 1141: [4771], 3703: [6300], 632: [5129], 633: [7246], 1658: [4622], 6779: [10349], 2684: [11782], 1149: [6628, 8772], 7445: [10589], 2693: [5983], 4742: [8970, 10211], 135: [6966], 4716: [7224], 4727: [11746], 7308: [10943], 654: [4509], 146: [7826], 1683: [9555], 6776: [8226], 2710: [6244], 7705: [10717], 2712: [10119], 1177: [10083], 3226: [3556, 4038], 1179: [3167], 5790: [9150], 671: [5475], 5795: [5966, 7727, 9232], 3749: [10919], 6311: [10371], 2728: [7317, 11529], 6428: [8608, 10016], 6316: [9741], 5743: [6147], 3246: [6048, 8187], 5405: [9150], 1148: [11310], 2738: [3981], 2739: [7832, 10365], 7013: [12062], 3256: [12342], 1721: [2324], 2746: [2825], 1211: [3881], 714: [1876, 3914], 2750: [6877], 703: [1837], 6944: [9034], 6877: [8735, 10688], 4804: [12102], 4030: [12130], 5467: [11295], 6860: [7372], 3274: [7830], 2423: [3653, 11581], 5324: [7989], 5326: [11207], 3279: [10906], 4728: [7311], 7203: [11429], 5332: [11376], 3877: [4562], 6265: [10478], 1240: [4718], 4825: [7690], 218: [9555], 3450: [4644], 293: [2803, 9624], 1248: [4175], 2273: [9515], 3812: [12030], 742: [7695], 2428: [5719], 3306: [11263], 2855: [7521], 3820: [10349], 3310: [6698], 2288: [10948], 2801: [6620], 4850: [9497], 5364: [11374], 245: [10970], 3830: [9274, 11388], 2295: [10086], 3320: [4342], 2812: [9916], 1278: [6178], 256: [11743], 6528: [7273], 3843: [8383, 9062], 772: [7065], 1287: [8735], 6444: [9129], 4877: [9829], 1806: [10603], 1325: [9555, 12369], 2832: [4650], 6418: [9047], 6932: [10554, 11066], 6030: [7620], 7958: [10231], 3352: [4973], 1305: [5218, 6820], 47: [2276, 10475], 3356: [9654], 3357: [8918, 10340, 11071], 2336: [11166], 5923: [8912, 9581, 11337], 1317: [9354], 3377: [6428], 2344: [11325], 809: [7404], 2858: [6844], 6023: [10478], 4396: [5389], 813: [1535], 2862: [10787], 5423: [8467], 1329: [7468], 818: [11295], 5941: [11159, 12028], 5942: [12233], 6967: [9743], 312: [8136], 2361: [7458], 5434: [11071], 3899: [6699], 394: [4798, 8608], 830: [4024], 224: [10000], 6978: [11931], 6980: [7541], 6966: [9150], 1351: [7977], 5451: [10688], 5966: [7206, 7727], 3981: [6328, 6515], 336: [10097], 6268: [6699], 2389: [8873], 857: [7404], 2394: [7578], 1935: [4549], 5468: [7013], 2910: [8735], 6367: [9009], 2915: [4240], 4838: [11081], 870: [3516], 4455: [5018], 3944: [10670], 4457: [5136], 3437: [3961, 7372], 3442: [8343], 3956: [11857], 4981: [7778], 887: [9323], 1402: [5212, 8529], 1404: [3310, 4850, 6698], 381: [2104, 5700], 894: [6430], 896: [3877], 5505: [10820], 6290: [8347], 8070: [10762], 4999: [7837], 3466: [9569], 6539: [8126], 1421: [6281], 3982: [4544, 8058], 2447: [9278, 11221], 1688: [6871, 7317], 6034: [12314], 3480: [7475], 409: [4201], 924: [7442], 2975: [10827], 5024: [11401], 2979: [5339], 934: [5458], 423: [7694], 3496: [7095], 2460: [9819], 7082: [10365], 327: [5326, 9636], 5362: [12051, 12061], 6962: [8431], 1967: [5249], 6749: [7033], 438: [7806], 6583: [10210], 3515: [4394], 2492: [5636], 4029: [7769, 10280], 958: [9023], 4544: [10774], 7414: [10549], 6987: [9497], 3012: [6797], 2501: [2877], 2504: [3457], 3529: [11175], 3831: [8633, 10187, 11102], 461: [2837], 2510: [8668, 10268], 3535: [12100], 469: [5129], 4054: [4070, 9323], 7767: [9062, 11326], 991: [2832], 3040: [5731], 3187: [3548], 3556: [8136], 3494: [10331], 4070: [9323], 4397: [10261], 252: [8867], 490: [9016], 3054: [4109], 4592: [11018], 1521: [8978], 501: [7250, 12289], 3063: [7729], 6228: [11095]}\n"
     ]
    },
    {
     "name": "stdout",
     "output_type": "stream",
     "text": [
      "8200\n",
      "{3585: [11280], 2563: [4029, 7977], 4102: [7735], 5641: [7680], 1034: [7133], 1547: [2738, 7177], 7180: [7957], 525: [3148], 5805: [7307], 2576: [4347], 529: [1299, 12248], 6676: [11249], 7468: [8791], 4121: [4191], 444: [1201], 543: [4285], 4640: [5515], 545: [11133], 2595: [8912, 9581, 11337], 549: [10919], 5542: [9056], 552: [3546], 6185: [6860], 6698: [10097], 263: [615], 5164: [5722], 45: [3556], 5166: [7769], 2607: [3464], 2097: [2120, 8841], 1074: [2980], 1075: [4676], 4660: [9782], 2613: [9593], 569: [6500], 1451: [6976], 3134: [8560], 7744: [9131], 577: [9278, 11652], 3083: [4562], 7246: [7439], 3653: [8446], 1095: [5941, 11159], 3658: [10447], 7095: [8213], 78: [714], 6840: [10845], 7372: [8581], 3155: [3454], 2644: [4883], 597: [8563], 1209: [11001], 3672: [10592], 7541: [7741], 6234: [6845], 1115: [1981], 4794: [9757], 5214: [11306], 4965: [8391], 3344: [6896], 5218: [5416, 6820, 8058, 10234], 699: [10331], 3942: [9788], 615: [11455], 4200: [11249], 3516: [11617], 1643: [5941], 2668: [8292], 7185: [8248], 111: [4038], 5480: [7137], 115: [7372], 1140: [2980, 8058, 10632, 11386], 1141: [4771], 3703: [6300], 632: [5129], 633: [7246], 1658: [4622], 6779: [10349], 2684: [11782], 1149: [6628, 8772], 7445: [10589], 2693: [5983], 4742: [8970, 10211], 135: [6966], 4716: [7224], 4727: [11746], 7308: [10943], 654: [4509], 146: [7826], 1683: [9555], 6776: [8226], 2710: [6244], 7705: [10717], 2712: [10119], 1177: [10083], 3226: [3556, 4038], 1179: [3167], 5790: [9150], 671: [5475], 5795: [5966, 7727, 9232], 3749: [10919], 6311: [10371], 2728: [7317, 11529], 6428: [8608, 10016], 6316: [9741], 5743: [6147], 3246: [6048, 8187], 5405: [9150], 1148: [11310], 2738: [3981], 2739: [7832, 10365], 7013: [12062], 3256: [12342], 1721: [2324], 2746: [2825], 1211: [3881], 714: [1876, 3914], 2750: [6877], 703: [1837], 6944: [9034], 6877: [8735, 10688], 4804: [12102], 4030: [12130], 5467: [11295], 6860: [7372], 3274: [7830], 2423: [3653, 11581], 5324: [7989], 5326: [11207], 3279: [10906], 4728: [7311], 7203: [11429], 5332: [11376], 3877: [4562], 6265: [10478], 1240: [4718], 4825: [7690], 218: [9555], 3450: [4644], 293: [2803, 9624], 1248: [4175], 2273: [9515], 3812: [12030], 742: [7695], 2428: [5719], 3306: [11263], 2855: [7521], 3820: [10349], 3310: [6698], 2288: [10948], 2801: [6620], 4850: [9497], 5364: [11374], 245: [10970], 3830: [9274, 11388], 2295: [10086], 3320: [4342], 2812: [9916], 1278: [6178], 256: [11743], 6528: [7273], 3843: [8383, 9062], 772: [7065], 8150: [11472], 1287: [8735], 6444: [9129], 4877: [9829], 1806: [10603], 1325: [9555, 12369], 2832: [4650], 6418: [9047], 6932: [10554, 11066], 6030: [7620], 7958: [10231], 3352: [4973], 1305: [5218, 6820], 47: [2276, 10475], 3356: [9654], 3357: [8918, 10340, 11071], 2336: [11166], 5923: [8912, 9581, 11337], 1317: [9354], 3377: [6428], 2344: [11325], 809: [7404], 2858: [6844], 6023: [10478], 4396: [5389], 813: [1535], 2862: [10787], 5423: [8467], 1329: [7468], 818: [11295], 5941: [11159, 12028], 5942: [12233], 6967: [9743], 312: [8136], 2361: [7458], 5434: [11071], 3899: [6699], 394: [4798, 8608], 830: [4024], 224: [10000], 6978: [11931], 6980: [7541], 6966: [9150], 1351: [7977], 5451: [10688], 5966: [7206, 7727], 3981: [6328, 6515], 336: [10097], 6268: [6699], 2389: [8873], 857: [7404], 2394: [7578], 1935: [4549], 5468: [7013], 2910: [8735], 6367: [9009], 2915: [4240], 4838: [11081], 870: [3516], 4455: [5018], 3944: [10670], 4457: [5136], 3437: [3961, 7372], 3442: [8343], 3956: [11857], 4981: [7778], 887: [9323], 1402: [5212, 8529], 1404: [3310, 4850, 6698], 381: [2104, 5700], 894: [6430], 896: [3877], 5505: [10820], 6290: [8347], 8070: [10762], 4999: [7837], 3466: [9569], 6539: [8126], 1421: [6281], 3982: [4544, 8058], 2447: [9278, 11221], 1688: [6871, 7317], 6034: [12314], 3480: [7475], 409: [4201], 924: [7442], 2975: [10827], 5024: [11401], 2979: [5339], 8100: [9770], 934: [5458], 423: [7694], 3496: [7095], 2460: [9819], 7082: [10365], 327: [5326, 9636], 5362: [12051, 12061], 6962: [8431], 1967: [5249], 6749: [7033], 438: [7806], 6583: [10210], 3515: [4394], 2492: [5636], 4029: [7769, 10280], 958: [9023], 4544: [10774], 7414: [10549], 6987: [9497], 3012: [6797], 2501: [2877], 2504: [3457], 3529: [11175], 3831: [8633, 10187, 11102], 461: [2837], 2510: [8668, 10268], 3535: [12100], 469: [5129], 4054: [4070, 9323], 7767: [9062, 11326], 991: [2832], 3040: [5731], 3187: [3548], 3556: [8136], 3494: [10331], 4070: [9323], 4397: [10261], 252: [8867], 490: [9016], 3054: [4109], 4592: [11018], 1521: [8978], 501: [7250, 12289], 3063: [7729], 6228: [11095]}\n",
      "8300\n",
      "{3585: [11280], 2563: [4029, 7977], 4102: [7735], 5641: [7680], 1034: [7133], 1547: [2738, 7177], 7180: [7957], 525: [3148], 5805: [7307], 2576: [4347], 529: [1299, 12248], 6676: [11249], 7468: [8791], 4121: [4191], 444: [1201], 543: [4285], 4640: [5515], 545: [11133], 2595: [8912, 9581, 11337], 549: [10919], 5542: [9056], 552: [3546], 6185: [6860], 6698: [10097], 263: [615], 5164: [5722], 45: [3556], 5166: [7769], 2607: [3464], 2097: [2120, 8841], 1074: [2980], 1075: [4676], 4660: [9782], 2613: [9593], 569: [6500], 1451: [6976], 3134: [8560], 7744: [9131], 577: [9278, 11652], 3083: [4562], 7246: [7439], 3653: [8446], 1095: [5941, 11159], 3658: [10447], 7095: [8213], 78: [714], 6840: [10845], 7372: [8581], 3155: [3454], 2644: [4883], 597: [8563], 1209: [11001], 3672: [10592], 7541: [7741], 6234: [6845], 1115: [1981], 4794: [9757], 5214: [11306], 4965: [8391], 3344: [6896], 5218: [5416, 6820, 8058, 10234], 699: [10331], 3942: [9788], 615: [11455], 4200: [11249], 3516: [11617], 1643: [5941], 2668: [8292], 7185: [8248], 111: [4038], 5480: [7137], 115: [7372], 1140: [2980, 8058, 10632, 11386], 1141: [4771], 3703: [6300], 632: [5129], 633: [7246], 1658: [4622], 6779: [10349], 2684: [11782], 1149: [6628, 8772], 7445: [10589], 2693: [5983], 4742: [8970, 10211], 135: [6966], 4716: [7224], 4727: [11746], 7308: [10943], 654: [4509], 146: [7826], 1683: [9555], 6776: [8226], 2710: [6244], 7705: [10717], 2712: [10119], 1177: [10083], 3226: [3556, 4038], 1179: [3167], 5790: [9150], 671: [5475], 5795: [5966, 7727, 9232], 3749: [10919], 6311: [10371], 2728: [7317, 11529], 6428: [8608, 10016], 6316: [9741], 5743: [6147], 3246: [6048, 8187], 5405: [9150], 1148: [11310], 2738: [3981], 2739: [7832, 10365], 7013: [12062], 3256: [12342], 1721: [2324], 2746: [2825], 1211: [3881], 714: [1876, 3914], 2750: [6877], 703: [1837], 6944: [9034], 6877: [8735, 10688], 4804: [12102], 4030: [12130], 5467: [11295], 6860: [7372], 3274: [7830], 2423: [3653, 11581], 5324: [7989], 5326: [11207], 3279: [10906], 4728: [7311], 7203: [11429], 5332: [11376], 3877: [4562], 6265: [10478], 1240: [4718], 4825: [7690], 218: [9555], 3450: [4644], 293: [2803, 9624], 1248: [4175], 2273: [9515], 3812: [12030], 742: [7695], 2428: [5719], 3306: [11263], 2855: [7521], 3820: [10349], 3310: [6698], 2288: [10948], 2801: [6620], 4850: [9497], 5364: [11374], 245: [10970], 3830: [9274, 11388], 2295: [10086], 3320: [4342], 2812: [9916], 1278: [6178], 256: [11743], 6528: [7273], 3843: [8383, 9062], 772: [7065], 8150: [11472], 1287: [8735], 6444: [9129], 4877: [9829], 1806: [10603], 1325: [9555, 12369], 2832: [4650], 6418: [9047], 6932: [10554, 11066], 6030: [7620], 7958: [10231], 3352: [4973], 1305: [5218, 6820], 47: [2276, 10475], 3356: [9654], 3357: [8918, 10340, 11071], 2336: [11166], 5923: [8912, 9581, 11337], 1317: [9354], 3377: [6428], 2344: [11325], 809: [7404], 2858: [6844], 6023: [10478], 4396: [5389], 813: [1535], 2862: [10787], 5423: [8467], 1329: [7468], 818: [11295], 5941: [11159, 12028], 5942: [12233], 6967: [9743], 312: [8136], 2361: [7458], 5434: [11071], 3899: [6699], 394: [4798, 8608], 830: [4024], 224: [10000], 6978: [11931], 6980: [7541], 6966: [9150], 1351: [7977], 5451: [10688], 5966: [7206, 7727], 3981: [6328, 6515], 336: [10097], 6268: [6699], 2389: [8873], 857: [7404], 2394: [7578], 1935: [4549], 5468: [7013], 2910: [8735], 6367: [9009], 2915: [4240], 4838: [11081], 870: [3516], 4455: [5018], 3944: [10670], 4457: [5136], 3437: [3961, 7372], 3442: [8343], 3956: [11857], 4981: [7778], 887: [9323], 1402: [5212, 8529], 1404: [3310, 4850, 6698], 381: [2104, 5700], 894: [6430], 896: [3877], 5505: [10820], 6290: [8347], 8070: [10762], 4999: [7837], 3466: [9569], 6539: [8126], 1421: [6281], 3982: [4544, 8058], 2447: [9278, 11221], 1688: [6871, 7317], 6034: [12314], 3480: [7475], 409: [4201], 924: [7442], 2975: [10827], 5024: [11401], 2979: [5339], 8100: [9770], 934: [5458], 423: [7694], 3496: [7095], 2460: [9819], 7082: [10365], 327: [5326, 9636], 5362: [12051, 12061], 6962: [8431], 1967: [5249], 6749: [7033], 438: [7806], 6583: [10210], 3515: [4394], 2492: [5636], 4029: [7769, 10280], 958: [9023], 4544: [10774], 7414: [10549], 6987: [9497], 3012: [6797], 2501: [2877], 2504: [3457], 3529: [11175], 3831: [8633, 10187, 11102], 461: [2837], 2510: [8668, 10268], 3535: [12100], 469: [5129], 4054: [4070, 9323], 7767: [9062, 11326], 991: [2832], 3040: [5731], 3187: [3548], 3556: [8136], 3494: [10331], 4070: [9323], 4397: [10261], 252: [8867], 490: [9016], 3054: [4109], 4592: [11018], 1521: [8978], 501: [7250, 12289], 3063: [7729], 6228: [11095]}\n"
     ]
    },
    {
     "name": "stdout",
     "output_type": "stream",
     "text": [
      "8400\n",
      "{3585: [11280], 2563: [4029, 7977], 4102: [7735], 5641: [7680], 1034: [7133], 1547: [2738, 7177], 7180: [7957], 525: [3148], 5805: [7307], 2576: [4347], 529: [1299, 12248], 6676: [11249], 7468: [8791], 4121: [4191], 444: [1201], 543: [4285], 4640: [5515], 545: [11133], 2595: [8912, 9581, 11337], 549: [10919], 5542: [9056], 552: [3546], 6185: [6860], 6698: [10097], 263: [615], 5164: [5722], 45: [3556], 5166: [7769], 2607: [3464], 2097: [2120, 8841], 1074: [2980], 1075: [4676], 4660: [9782], 2613: [9593], 569: [6500], 1451: [6976], 3134: [8560], 7744: [9131], 577: [9278, 11652], 3083: [4562], 7246: [7439], 3653: [8446], 1095: [5941, 11159], 3658: [10447], 7095: [8213], 78: [714], 6840: [10845], 7372: [8581], 3155: [3454], 2644: [4883], 597: [8563], 1209: [11001], 3672: [10592], 7541: [7741], 6234: [6845], 1115: [1981], 4794: [9757], 5214: [11306], 4965: [8391], 3344: [6896], 5218: [5416, 6820, 8058, 10234], 699: [10331], 3942: [9788], 615: [11455], 4200: [11249], 3516: [11617], 1643: [5941], 2668: [8292], 7185: [8248], 111: [4038], 5480: [7137], 115: [7372], 1140: [2980, 8058, 10632, 11386], 1141: [4771], 3703: [6300], 632: [5129], 633: [7246], 1658: [4622], 6779: [10349], 2684: [11782], 1149: [6628, 8772], 7445: [10589], 2693: [5983], 4742: [8970, 10211], 135: [6966], 4716: [7224], 4727: [11746], 7308: [10943], 654: [4509], 146: [7826], 1683: [9555], 6776: [8226], 2710: [6244], 7705: [10717], 2712: [10119], 1177: [10083], 3226: [3556, 4038], 1179: [3167], 5790: [9150], 671: [5475], 5795: [5966, 7727, 9232], 3749: [10919], 6311: [10371], 2728: [7317, 11529], 6428: [8608, 10016], 6316: [9741], 5743: [6147], 3246: [6048, 8187], 5405: [9150], 1148: [11310], 2738: [3981], 2739: [7832, 10365], 7013: [12062], 3256: [12342], 1721: [2324], 2746: [2825], 1211: [3881], 714: [1876, 3914], 2750: [6877], 703: [1837], 6944: [9034], 6877: [8735, 10688], 4804: [12102], 4030: [12130], 5467: [11295], 6860: [7372], 3274: [7830], 2423: [3653, 11581], 5324: [7989], 5326: [11207], 3279: [10906], 4728: [7311], 7203: [11429], 5332: [11376], 3877: [4562], 6265: [10478], 1240: [4718], 4825: [7690], 218: [9555], 3450: [4644], 293: [2803, 9624], 1248: [4175], 2273: [9515], 3812: [12030], 742: [7695], 2428: [5719], 3306: [11263], 2855: [7521], 3820: [10349], 3310: [6698], 2288: [10948], 2801: [6620], 4850: [9497], 5364: [11374], 245: [10970], 3830: [9274, 11388], 2295: [10086], 3320: [4342], 2812: [9916], 1278: [6178], 256: [11743], 6528: [7273], 3843: [8383, 9062], 772: [7065], 8150: [11472], 1287: [8735], 6444: [9129], 4877: [9829], 1806: [10603], 1325: [9555, 12369], 2832: [4650], 6418: [9047], 6932: [10554, 11066], 6030: [7620], 7958: [10231], 3352: [4973], 1305: [5218, 6820], 47: [2276, 10475], 3356: [9654], 3357: [8918, 10340, 11071], 2336: [11166], 5923: [8912, 9581, 11337], 1317: [9354], 3377: [6428], 2344: [11325], 809: [7404], 2858: [6844], 6023: [10478], 4396: [5389], 813: [1535], 2862: [10787], 5423: [8467], 1329: [7468], 818: [11295], 5941: [11159, 12028], 5942: [12233], 6967: [9743], 312: [8136], 2361: [7458], 5434: [11071], 3899: [6699], 394: [4798, 8608], 830: [4024], 224: [10000], 6978: [11931], 6980: [7541], 6966: [9150], 1351: [7977], 5451: [10688], 5966: [7206, 7727], 3981: [6328, 6515], 336: [10097], 6268: [6699], 2389: [8873], 857: [7404], 2394: [7578], 1935: [4549], 5468: [7013], 2910: [8735], 6367: [9009], 2915: [4240], 4838: [11081], 870: [3516], 4455: [5018], 3944: [10670], 4457: [5136], 3437: [3961, 7372], 3442: [8343], 3956: [11857], 4981: [7778], 887: [9323], 1402: [5212, 8529], 1404: [3310, 4850, 6698], 381: [2104, 5700], 894: [6430], 896: [3877], 5505: [10820], 6290: [8347], 8070: [10762], 4999: [7837], 3466: [9569], 6539: [8126], 1421: [6281], 3982: [4544, 8058], 2447: [9278, 11221], 1688: [6871, 7317], 6034: [12314], 3480: [7475], 409: [4201], 924: [7442], 2975: [10827], 5024: [11401], 2979: [5339], 8100: [9770], 934: [5458], 423: [7694], 3496: [7095], 2460: [9819], 7082: [10365], 327: [5326, 9636], 5362: [12051, 12061], 6962: [8431], 1967: [5249], 6749: [7033], 438: [7806], 6583: [10210], 3515: [4394], 2492: [5636], 4029: [7769, 10280], 958: [9023], 4544: [10774], 7414: [10549], 6987: [9497], 3012: [6797], 2501: [2877], 2504: [3457], 3529: [11175], 3831: [8633, 10187, 11102], 461: [2837], 2510: [8668, 10268], 3535: [12100], 469: [5129], 4054: [4070, 9323], 7767: [9062, 11326], 991: [2832], 3040: [5731], 3187: [3548], 3556: [8136], 3494: [10331], 4070: [9323], 4397: [10261], 252: [8867], 490: [9016], 3054: [4109], 4592: [11018], 1521: [8978], 501: [7250, 12289], 3063: [7729], 6228: [11095]}\n",
      "8500\n",
      "{3585: [11280], 2563: [4029, 7977], 4102: [7735], 5641: [7680], 1034: [7133], 1547: [2738, 7177], 7180: [7957], 525: [3148], 5805: [7307], 2576: [4347], 529: [1299, 12248], 6676: [11249], 7468: [8791], 4121: [4191], 444: [1201], 543: [4285], 4640: [5515], 545: [11133], 2595: [8912, 9581, 11337], 549: [10919], 5542: [9056], 552: [3546], 6185: [6860], 6698: [10097], 263: [615], 5164: [5722], 45: [3556], 5166: [7769], 2607: [3464], 2097: [2120, 8841], 1074: [2980], 1075: [4676], 4660: [9782], 2613: [9593], 569: [6500], 1451: [6976], 3134: [8560], 7744: [9131], 577: [9278, 11652], 3083: [4562], 7246: [7439], 3653: [8446], 1095: [5941, 11159], 3658: [10447], 7095: [8213], 78: [714], 6840: [10845], 7372: [8581], 3155: [3454], 2644: [4883], 597: [8563], 1209: [11001], 3672: [10592], 7541: [7741], 6234: [6845], 1115: [1981], 4794: [9757], 5214: [11306], 4965: [8391], 3344: [6896], 5218: [5416, 6820, 8058, 10234], 699: [10331], 3942: [9788], 615: [11455], 4200: [11249], 3516: [11617], 1643: [5941], 2668: [8292], 7185: [8248], 111: [4038], 5480: [7137], 115: [7372], 1140: [2980, 8058, 10632, 11386], 1141: [4771], 3703: [6300], 632: [5129], 633: [7246], 1658: [4622], 6779: [10349], 2684: [11782], 1149: [6628, 8772], 7445: [10589], 2693: [5983], 4742: [8970, 10211], 135: [6966], 4716: [7224], 4727: [11746], 7308: [10943], 654: [4509], 146: [7826], 1683: [9555], 6776: [8226], 2710: [6244], 7705: [10717], 2712: [10119], 1177: [10083], 3226: [3556, 4038], 1179: [3167], 5790: [9150], 671: [5475], 5795: [5966, 7727, 9232], 3749: [10919], 6311: [10371], 2728: [7317, 11529], 6428: [8608, 10016], 6316: [9741], 5743: [6147], 3246: [6048, 8187], 5405: [9150], 1148: [11310], 2738: [3981], 2739: [7832, 10365], 7013: [12062], 3256: [12342], 1721: [2324], 2746: [2825], 1211: [3881], 714: [1876, 3914], 2750: [6877], 703: [1837], 6944: [9034], 6877: [8735, 10688], 4804: [12102], 4030: [12130], 5467: [11295], 6860: [7372], 3274: [7830], 2423: [3653, 11581], 5324: [7989], 5326: [11207], 3279: [10906], 4728: [7311], 7203: [11429], 5332: [11376], 3877: [4562], 6265: [10478], 1240: [4718], 4825: [7690], 218: [9555], 3450: [4644], 293: [2803, 9624], 1248: [4175], 2273: [9515], 3812: [12030], 742: [7695], 2428: [5719], 3306: [11263], 2855: [7521], 3820: [10349], 3310: [6698], 2288: [10948], 2801: [6620], 4850: [9497], 5364: [11374], 245: [10970], 3830: [9274, 11388], 2295: [10086], 3320: [4342], 2812: [9916], 8490: [10000], 1278: [6178], 256: [11743], 6528: [7273], 3843: [8383, 9062], 772: [7065], 8150: [11472], 1287: [8735], 6444: [9129], 4877: [9829], 1806: [10603], 1325: [9555, 12369], 2832: [4650], 6418: [9047], 6932: [10554, 11066], 6030: [7620], 7958: [10231], 3352: [4973], 1305: [5218, 6820], 47: [2276, 10475], 3356: [9654], 3357: [8918, 10340, 11071], 2336: [11166], 8482: [8735], 5923: [8912, 9581, 11337], 1317: [9354], 3377: [6428], 2344: [11325], 809: [7404], 2858: [6844], 6023: [10478], 4396: [5389], 813: [1535], 2862: [10787], 5423: [8467], 1329: [7468], 818: [11295], 5941: [11159, 12028], 5942: [12233], 6967: [9743], 312: [8136], 2361: [7458], 5434: [11071], 3899: [6699], 394: [4798, 8608], 830: [4024], 224: [10000], 6978: [11931], 6980: [7541], 6966: [9150], 1351: [7977], 5451: [10688], 5966: [7206, 7727], 3981: [6328, 6515], 336: [10097], 6268: [6699], 2389: [8873], 857: [7404], 2394: [7578], 1935: [4549], 5468: [7013], 2910: [8735], 6367: [9009], 2915: [4240], 4838: [11081], 870: [3516], 4455: [5018], 3944: [10670], 4457: [5136], 3437: [3961, 7372], 3442: [8343], 3956: [11857], 4981: [7778], 887: [9323], 1402: [5212, 8529], 1404: [3310, 4850, 6698], 381: [2104, 5700], 894: [6430], 896: [3877], 5505: [10820], 6290: [8347], 8070: [10762], 4999: [7837], 3466: [9569], 6539: [8126], 1421: [6281], 3982: [4544, 8058], 2447: [9278, 11221], 1688: [6871, 7317], 6034: [12314], 3480: [7475], 409: [4201], 924: [7442], 2975: [10827], 5024: [11401], 2979: [5339], 8100: [9770], 934: [5458], 423: [7694], 3496: [7095], 2460: [9819], 7082: [10365], 327: [5326, 9636], 5362: [12051, 12061], 6962: [8431], 1967: [5249], 6749: [7033], 438: [7806], 6583: [10210], 3515: [4394], 2492: [5636], 4029: [7769, 10280], 958: [9023], 4544: [10774], 7414: [10549], 6987: [9497], 3012: [6797], 2501: [2877], 2504: [3457], 3529: [11175], 3831: [8633, 10187, 11102], 461: [2837], 2510: [8668, 10268], 3535: [12100], 469: [5129], 4054: [4070, 9323], 7767: [9062, 11326], 991: [2832], 3040: [5731], 3187: [3548], 3556: [8136], 3494: [10331], 4070: [9323], 4397: [10261], 252: [8867], 490: [9016], 3054: [4109], 4592: [11018], 1521: [8978], 501: [7250, 12289], 3063: [7729], 6228: [11095]}\n"
     ]
    },
    {
     "name": "stdout",
     "output_type": "stream",
     "text": [
      "8600\n",
      "{3585: [11280], 2563: [4029, 7977], 4102: [7735], 5641: [7680], 1034: [7133], 1547: [2738, 7177], 7180: [7957], 525: [3148], 5805: [7307], 2576: [4347], 529: [1299, 12248], 6676: [11249], 7468: [8791], 4121: [4191], 444: [1201], 543: [4285], 4640: [5515], 545: [11133], 2595: [8912, 9581, 11337], 549: [10919], 5542: [9056], 552: [3546], 6185: [6860], 6698: [10097], 263: [615], 5164: [5722], 45: [3556], 5166: [7769], 2607: [3464], 2097: [2120, 8841], 1074: [2980], 1075: [4676], 4660: [9782], 2613: [9593], 569: [6500], 1451: [6976], 3134: [8560], 7744: [9131], 577: [9278, 11652], 3083: [4562], 7246: [7439], 3653: [8446], 1095: [5941, 11159], 3658: [10447], 7095: [8213], 78: [714], 6840: [10845], 7372: [8581], 3155: [3454], 2644: [4883], 597: [8563], 1209: [11001], 3672: [10592], 7541: [7741], 6234: [6845], 1115: [1981], 4794: [9757], 5214: [11306], 4965: [8391], 3344: [6896], 5218: [5416, 6820, 8058, 10234], 699: [10331], 3942: [9788], 615: [11455], 4200: [11249], 3516: [11617], 1643: [5941], 2668: [8292], 7185: [8248], 111: [4038], 5480: [7137], 115: [7372], 1140: [2980, 8058, 10632, 11386], 1141: [4771], 3703: [6300], 632: [5129], 633: [7246], 1658: [4622], 6779: [10349], 2684: [11782], 1149: [6628, 8772], 7445: [10589], 2693: [5983], 4742: [8970, 10211], 135: [6966], 4716: [7224], 4727: [11746], 7308: [10943], 654: [4509], 146: [7826], 1683: [9555], 6776: [8226], 2710: [6244], 7705: [10717], 2712: [10119], 1177: [10083], 3226: [3556, 4038], 1179: [3167], 5790: [9150], 671: [5475], 5795: [5966, 7727, 9232], 3749: [10919], 6311: [10371], 2728: [7317, 11529], 6428: [8608, 10016], 6316: [9741], 5743: [6147], 3246: [6048, 8187], 5405: [9150], 1148: [11310], 2738: [3981], 2739: [7832, 10365], 7013: [12062], 3256: [12342], 1721: [2324], 2746: [2825], 1211: [3881], 714: [1876, 3914], 2750: [6877], 703: [1837], 6944: [9034], 6877: [8735, 10688], 4804: [12102], 4030: [12130], 5467: [11295], 6860: [7372], 3274: [7830], 2423: [3653, 11581], 5324: [7989], 5326: [11207], 3279: [10906], 4728: [7311], 7203: [11429], 5332: [11376], 3877: [4562], 6265: [10478], 1240: [4718], 4825: [7690], 218: [9555], 3450: [4644], 293: [2803, 9624], 1248: [4175], 2273: [9515], 3812: [12030], 742: [7695], 2428: [5719], 3306: [11263], 2855: [7521], 3820: [10349], 3310: [6698], 2288: [10948], 2801: [6620], 4850: [9497], 5364: [11374], 245: [10970], 3830: [9274, 11388], 2295: [10086], 3320: [4342], 2812: [9916], 8490: [10000], 1278: [6178], 256: [11743], 6528: [7273], 3843: [8383, 9062], 772: [7065], 8150: [11472], 1287: [8735], 6444: [9129], 4877: [9829], 1806: [10603], 1325: [9555, 12369], 2832: [4650], 6418: [9047], 6932: [10554, 11066], 6030: [7620], 7958: [10231], 3352: [4973], 1305: [5218, 6820], 47: [2276, 10475], 3356: [9654], 3357: [8918, 10340, 11071], 2336: [11166], 8482: [8735], 5923: [8912, 9581, 11337], 1317: [9354], 3377: [6428], 2344: [11325], 809: [7404], 2858: [6844], 6023: [10478], 4396: [5389], 813: [1535], 2862: [10787], 5423: [8467], 1329: [7468], 818: [11295], 5941: [11159, 12028], 5942: [12233], 6967: [9743], 312: [8136], 2361: [7458], 5434: [11071], 3899: [6699], 394: [4798, 8608], 830: [4024], 224: [10000], 6978: [11931], 6980: [7541], 6966: [9150], 1351: [7977], 5451: [10688], 5966: [7206, 7727], 3981: [6328, 6515], 336: [10097], 6268: [6699], 2389: [8873], 857: [7404], 2394: [7578], 1935: [4549], 5468: [7013], 2910: [8735], 8543: [11069], 6367: [9009], 2915: [4240], 4838: [11081], 870: [3516], 4455: [5018], 3944: [10670], 4457: [5136], 3437: [3961, 7372], 3442: [8343], 3956: [11857], 4981: [7778], 887: [9323], 8568: [8605], 1402: [5212, 8529], 1404: [3310, 4850, 6698], 381: [2104, 5700], 894: [6430], 896: [3877], 5505: [10820], 6290: [8347], 8070: [10762], 4999: [7837], 3466: [9569], 6539: [8126], 1421: [6281], 3982: [4544, 8058], 2447: [9278, 11221], 1688: [6871, 7317], 6034: [12314], 3480: [7475], 409: [4201], 924: [7442], 2975: [10827], 5024: [11401], 2979: [5339], 8100: [9770], 934: [5458], 423: [7694], 3496: [7095], 2460: [9819], 7082: [10365], 327: [5326, 9636], 5362: [12051, 12061], 6962: [8431], 1967: [5249], 6749: [7033], 438: [7806], 6583: [10210], 3515: [4394], 2492: [5636], 4029: [7769, 10280], 958: [9023], 4544: [10774], 7414: [10549], 6987: [9497], 3012: [6797], 2501: [2877], 2504: [3457], 3529: [11175], 3831: [8633, 10187, 11102], 461: [2837], 2510: [8668, 10268], 3535: [12100], 469: [5129], 4054: [4070, 9323], 7767: [9062, 11326], 991: [2832], 3040: [5731], 3187: [3548], 3556: [8136], 3494: [10331], 4070: [9323], 4397: [10261], 252: [8867], 490: [9016], 3054: [4109], 4592: [11018], 1521: [8978], 501: [7250, 12289], 3063: [7729], 6228: [11095]}\n",
      "8700\n",
      "{3585: [11280], 2563: [4029, 7977], 4102: [7735], 5641: [7680], 1034: [7133], 1547: [2738, 7177], 7180: [7957], 525: [3148], 5805: [7307], 2576: [4347], 529: [1299, 12248], 6676: [11249], 7468: [8791], 4121: [4191], 444: [1201], 543: [4285], 4640: [5515], 545: [11133], 2595: [8912, 9581, 11337], 549: [10919], 5542: [9056], 552: [3546], 6185: [6860], 6698: [10097], 263: [615], 5164: [5722], 45: [3556], 5166: [7769], 2607: [3464], 2097: [2120, 8841], 1074: [2980], 1075: [4676], 4660: [9782], 2613: [9593], 569: [6500], 1451: [6976], 3134: [8560], 7744: [9131], 577: [9278, 11652], 3083: [4562], 7246: [7439], 3653: [8446], 1095: [5941, 11159], 3658: [10447], 7095: [8213], 78: [714], 6840: [10845], 7372: [8581], 3155: [3454], 2644: [4883], 597: [8563], 1209: [11001], 3672: [10592], 7541: [7741], 6234: [6845], 1115: [1981], 4794: [9757], 5214: [11306], 4965: [8391], 3344: [6896], 5218: [5416, 6820, 8058, 10234], 699: [10331], 3942: [9788], 615: [11455], 4200: [11249], 3516: [11617], 1643: [5941], 2668: [8292], 7185: [8248], 111: [4038], 5480: [7137], 115: [7372], 1140: [2980, 8058, 10632, 11386], 1141: [4771], 3703: [6300], 632: [5129], 633: [7246], 1658: [4622], 6779: [10349], 2684: [11782], 1149: [6628, 8772], 7445: [10589], 2693: [5983], 4742: [8970, 10211], 135: [6966], 4716: [7224], 4727: [11746], 7308: [10943], 654: [4509], 146: [7826], 1683: [9555], 6776: [8226], 2710: [6244], 7705: [10717], 2712: [10119], 1177: [10083], 3226: [3556, 4038], 1179: [3167], 5790: [9150], 671: [5475], 5795: [5966, 7727, 9232], 3749: [10919], 6311: [10371], 2728: [7317, 11529], 6428: [8608, 10016], 6316: [9741], 5743: [6147], 3246: [6048, 8187], 5405: [9150], 1148: [11310], 2738: [3981], 2739: [7832, 10365], 7013: [12062], 3256: [12342], 1721: [2324], 2746: [2825], 1211: [3881], 714: [1876, 3914], 2750: [6877], 703: [1837], 6944: [9034], 6877: [8735, 10688], 4804: [12102], 4030: [12130], 5467: [11295], 6860: [7372], 3274: [7830], 2423: [3653, 11581], 5324: [7989], 5326: [11207], 3279: [10906], 4728: [7311], 7203: [11429], 5332: [11376], 3877: [4562], 6265: [10478], 1240: [4718], 4825: [7690], 218: [9555], 3450: [4644], 293: [2803, 9624], 1248: [4175], 2273: [9515], 3812: [12030], 742: [7695], 2428: [5719], 3306: [11263], 2855: [7521], 3820: [10349], 3310: [6698], 2288: [10948], 2801: [6620], 4850: [9497], 5364: [11374], 245: [10970], 3830: [9274, 11388], 2295: [10086], 3320: [4342], 2812: [9916], 8490: [10000], 1278: [6178], 256: [11743], 6528: [7273], 3843: [8383, 9062], 772: [7065], 8150: [11472], 1287: [8735], 6444: [9129], 4877: [9829], 1806: [10603], 1325: [9555, 12369], 2832: [4650], 6418: [9047], 6932: [10554, 11066], 6030: [7620], 7958: [10231], 3352: [4973], 1305: [5218, 6820], 47: [2276, 10475], 3356: [9654], 3357: [8918, 10340, 11071], 2336: [11166], 8482: [8735], 5923: [8912, 9581, 11337], 1317: [9354], 3377: [6428], 2344: [11325], 809: [7404], 2858: [6844], 6023: [10478], 4396: [5389], 813: [1535], 2862: [10787], 5423: [8467], 1329: [7468], 818: [11295], 5941: [11159, 12028], 5942: [12233], 6967: [9743], 312: [8136], 2361: [7458], 5434: [11071], 3899: [6699], 394: [4798, 8608], 830: [4024], 224: [10000], 6978: [11931], 6980: [7541], 6966: [9150], 1351: [7977], 5451: [10688], 5966: [7206, 7727], 3981: [6328, 6515], 336: [10097], 6268: [6699], 2389: [8873], 857: [7404], 2394: [7578], 1935: [4549], 5468: [7013], 8614: [10717], 2910: [8735], 8543: [11069], 6367: [9009], 2915: [4240], 4838: [11081], 870: [3516], 4455: [5018], 3944: [10670], 4457: [5136], 3437: [3961, 7372], 3442: [8343], 3956: [11857], 4981: [7778], 887: [9323], 8568: [8605], 1402: [5212, 8529], 1404: [3310, 4850, 6698], 381: [2104, 5700], 894: [6430], 896: [3877], 5505: [10820], 6290: [8347], 8070: [10762], 4999: [7837], 3466: [9569], 6539: [8126], 1421: [6281], 3982: [4544, 8058], 2447: [9278, 11221], 1688: [6871, 7317], 6034: [12314], 3480: [7475], 409: [4201], 924: [7442], 2975: [10827], 5024: [11401], 2979: [5339], 8100: [9770], 934: [5458], 423: [7694], 3496: [7095], 2460: [9819], 7082: [10365], 327: [5326, 9636], 5362: [12051, 12061], 6962: [8431], 1967: [5249], 6749: [7033], 438: [7806], 6583: [10210], 8632: [9666], 8633: [11102], 3515: [4394], 2492: [5636], 4029: [7769, 10280], 958: [9023], 4544: [10774], 7414: [10549], 6987: [9497], 3012: [6797], 2501: [2877], 2504: [3457], 3529: [11175], 3831: [8633, 10187, 11102], 461: [2837], 2510: [8668, 10268], 3535: [12100], 8656: [10963], 469: [5129], 4054: [4070, 9323], 8663: [10112], 7767: [9062, 11326], 991: [2832], 3040: [5731], 3187: [3548], 3556: [8136], 3494: [10331], 4070: [9323], 4397: [10261], 252: [8867], 490: [9016], 3054: [4109], 8626: [9655], 4592: [11018], 1521: [8978], 501: [7250, 12289], 3063: [7729], 6228: [11095]}\n"
     ]
    },
    {
     "name": "stdout",
     "output_type": "stream",
     "text": [
      "8800\n",
      "{3585: [11280], 2563: [4029, 7977], 4102: [7735], 5641: [7680], 1034: [7133], 1547: [2738, 7177], 7180: [7957], 525: [3148], 5805: [7307], 2576: [4347], 529: [1299, 12248], 6676: [11249], 7468: [8791], 4121: [4191], 444: [1201], 543: [4285], 4640: [5515], 545: [11133], 2595: [8912, 9581, 11337], 549: [10919], 5542: [9056], 552: [3546], 6185: [6860], 6698: [10097], 263: [615], 5164: [5722], 45: [3556], 5166: [7769], 2607: [3464], 8752: [10097, 11634], 2097: [2120, 8841], 1074: [2980], 1075: [4676], 4660: [9782], 2613: [9593], 569: [6500], 1451: [6976], 3134: [8560], 7744: [9131], 577: [9278, 11652], 3083: [4562], 7246: [7439], 3653: [8446], 1095: [5941, 11159], 3658: [10447], 7095: [8213], 78: [714], 6840: [10845], 7372: [8581], 3155: [3454], 2644: [4883], 597: [8563], 1209: [11001], 3672: [10592], 7541: [7741], 6234: [6845], 1115: [1981], 4794: [9757], 5214: [11306], 4965: [8391], 3344: [6896], 5218: [5416, 6820, 8058, 10234], 699: [10331], 3942: [9788], 615: [11455], 4200: [11249], 3516: [11617], 1643: [5941], 2668: [8292], 7185: [8248], 111: [4038], 5480: [7137], 115: [7372], 1140: [2980, 8058, 10632, 11386], 1141: [4771], 3703: [6300], 632: [5129], 633: [7246], 1658: [4622], 6779: [10349], 2684: [11782], 1149: [6628, 8772], 7445: [10589], 2693: [5983], 4742: [8970, 10211], 135: [6966], 4716: [7224], 4727: [11746], 7308: [10943], 654: [4509], 146: [7826], 1683: [9555], 6776: [8226], 2710: [6244], 7705: [10717], 2712: [10119], 1177: [10083], 3226: [3556, 4038], 1179: [3167], 5790: [9150], 671: [5475], 5795: [5966, 7727, 9232], 3749: [10919], 6311: [10371], 2728: [7317, 11529], 6428: [8608, 10016], 6316: [9741], 5743: [6147], 3246: [6048, 8187], 5405: [9150], 1148: [11310], 2738: [3981], 2739: [7832, 10365], 7013: [12062], 3256: [12342], 1721: [2324], 2746: [2825], 1211: [3881], 714: [1876, 3914], 2750: [6877], 703: [1837], 6944: [9034], 6877: [8735, 10688], 4804: [12102], 4030: [12130], 5467: [11295], 6860: [7372], 3274: [7830], 2423: [3653, 11581], 5324: [7989], 5326: [11207], 3279: [10906], 4728: [7311], 7203: [11429], 5332: [11376], 3877: [4562], 6265: [10478], 1240: [4718], 4825: [7690], 218: [9555], 3450: [4644], 293: [2803, 9624], 1248: [4175], 2273: [9515], 3812: [12030], 742: [7695], 2428: [5719], 3306: [11263], 2855: [7521], 3820: [10349], 3310: [6698], 2288: [10948], 2801: [6620], 4850: [9497], 5364: [11374], 245: [10970], 3830: [9274, 11388], 2295: [10086], 3320: [4342], 2812: [9916], 8490: [10000], 1278: [6178], 256: [11743], 6528: [7273], 3843: [8383, 9062], 772: [7065], 8150: [11472], 8768: [11080], 1287: [8735], 6444: [9129], 4877: [9829], 1806: [10603], 1325: [9555, 12369], 2832: [4650], 6418: [9047], 6932: [10554, 11066], 6030: [7620], 7958: [10231], 3352: [4973], 1305: [5218, 6820], 47: [2276, 10475], 3356: [9654], 3357: [8918, 10340, 11071], 2336: [11166], 8482: [8735], 5923: [8912, 9581, 11337], 1317: [9354], 3377: [6428], 2344: [11325], 809: [7404], 2858: [6844], 6023: [10478], 4396: [5389], 813: [1535], 2862: [10787], 5423: [8467], 1329: [7468], 818: [11295], 5941: [11159, 12028], 5942: [12233], 6967: [9743], 312: [8136], 2361: [7458], 5434: [11071], 3899: [6699], 394: [4798, 8608], 830: [4024], 224: [10000], 6978: [11931], 6980: [7541], 6966: [9150], 1351: [7977], 5451: [10688], 5966: [7206, 7727], 3981: [6328, 6515], 336: [10097], 6268: [6699], 2389: [8873], 857: [7404], 2394: [7578], 1935: [4549], 5468: [7013], 8614: [10717], 2910: [8735], 8543: [11069], 6367: [9009], 2915: [4240], 4838: [11081], 870: [3516], 4455: [5018], 3944: [10670], 4457: [5136], 3437: [3961, 7372], 3442: [8343], 3956: [11857], 4981: [7778], 887: [9323], 8568: [8605], 1402: [5212, 8529], 1404: [3310, 4850, 6698], 381: [2104, 5700], 894: [6430], 896: [3877], 5505: [10820], 6290: [8347], 8070: [10762], 4999: [7837], 3466: [9569], 6539: [8126], 1421: [6281], 3982: [4544, 8058], 2447: [9278, 11221], 1688: [6871, 7317], 6034: [12314], 3480: [7475], 409: [4201], 924: [7442], 2975: [10827], 5024: [11401], 8735: [10688], 2979: [5339], 8100: [9770], 934: [5458], 423: [7694], 3496: [7095], 2460: [9819], 7082: [10365], 327: [5326, 9636], 5362: [12051, 12061], 6962: [8431], 1967: [5249], 6749: [7033], 438: [7806], 6583: [10210], 8632: [9666], 8633: [11102], 3515: [4394], 2492: [5636], 4029: [7769, 10280], 958: [9023], 4544: [10774], 7414: [10549], 6987: [9497], 3012: [6797], 2501: [2877], 2504: [3457], 3529: [11175], 3831: [8633, 10187, 11102], 461: [2837], 2510: [8668, 10268], 3535: [12100], 8656: [10963], 469: [5129], 4054: [4070, 9323], 8663: [10112], 7767: [9062, 11326], 991: [2832], 3040: [5731], 3187: [3548], 3556: [8136], 3494: [10331], 4070: [9323], 4397: [10261], 252: [8867], 490: [9016], 3054: [4109], 8626: [9655], 4592: [11018], 1521: [8978], 501: [7250, 12289], 3063: [7729], 6228: [11095], 8701: [9420]}\n",
      "8900\n",
      "{3585: [11280], 2563: [4029, 7977], 4102: [7735], 5641: [7680], 1034: [7133], 1547: [2738, 7177], 7180: [7957], 525: [3148], 5805: [7307], 2576: [4347], 529: [1299, 12248], 6676: [11249], 7468: [8791], 4121: [4191], 444: [1201], 543: [4285], 4640: [5515], 545: [11133], 2595: [8912, 9581, 11337], 549: [10919], 5542: [9056], 552: [3546], 6185: [6860], 6698: [10097], 263: [615], 5164: [5722], 45: [3556], 5166: [7769], 2607: [3464], 8752: [10097, 11634], 2097: [2120, 8841], 1074: [2980], 1075: [4676], 4660: [9782], 2613: [9593], 569: [6500], 1451: [6976], 3134: [8560], 7744: [9131], 577: [9278, 11652], 3083: [4562], 7246: [7439], 3653: [8446], 1095: [5941, 11159], 3658: [10447], 7095: [8213], 78: [714], 6840: [10845], 7372: [8581], 3155: [3454], 2644: [4883], 597: [8563], 1209: [11001], 3672: [10592], 7541: [7741], 6234: [6845], 1115: [1981], 4794: [9757], 5214: [11306], 4965: [8391], 3344: [6896], 5218: [5416, 6820, 8058, 10234], 699: [10331], 3942: [9788], 615: [11455], 4200: [11249], 3516: [11617], 8810: [11095], 1643: [5941], 2668: [8292], 7185: [8248], 111: [4038], 5480: [7137], 115: [7372], 1140: [2980, 8058, 10632, 11386], 1141: [4771], 3703: [6300], 632: [5129], 633: [7246], 1658: [4622], 6779: [10349], 2684: [11782], 1149: [6628, 8772], 7445: [10589], 2693: [5983], 4742: [8970, 10211], 135: [6966], 4716: [7224], 4727: [11746], 7308: [10943], 654: [4509], 8849: [9497], 146: [7826], 1683: [9555], 6776: [8226], 2710: [6244], 7705: [10717], 2712: [10119], 1177: [10083], 3226: [3556, 4038], 1179: [3167], 5790: [9150], 671: [5475], 5795: [5966, 7727, 9232], 3749: [10919], 6311: [10371], 2728: [7317, 11529], 6428: [8608, 10016], 6316: [9741], 5743: [6147], 3246: [6048, 8187], 5405: [9150], 1148: [11310], 2738: [3981], 2739: [7832, 10365], 7013: [12062], 3256: [12342], 1721: [2324], 2746: [2825], 1211: [3881], 714: [1876, 3914], 2750: [6877], 703: [1837], 6944: [9034], 6877: [8735, 10688], 4804: [12102], 4030: [12130], 5467: [11295], 6860: [7372], 3274: [7830], 2423: [3653, 11581], 5324: [7989], 5326: [11207], 3279: [10906], 4728: [7311], 7203: [11429], 5332: [11376], 3877: [4562], 6265: [10478], 1240: [4718], 4825: [7690], 218: [9555], 3450: [4644], 293: [2803, 9624], 1248: [4175], 2273: [9515], 8827: [9323], 3812: [12030], 742: [7695], 2428: [5719], 3306: [11263], 2855: [7521], 3820: [10349], 3310: [6698], 2288: [10948], 2801: [6620], 4850: [9497], 5364: [11374], 245: [10970], 3830: [9274, 11388], 2295: [10086], 3320: [4342], 2812: [9916], 8490: [10000], 1278: [6178], 256: [11743], 6528: [7273], 3843: [8383, 9062], 772: [7065], 8150: [11472], 8768: [11080], 1287: [8735], 6444: [9129], 4877: [9829], 1806: [10603], 1325: [9555, 12369], 2832: [4650], 6418: [9047], 6932: [10554, 11066], 6030: [7620], 7958: [10231], 3352: [4973], 1305: [5218, 6820], 47: [2276, 10475], 3356: [9654], 3357: [8918, 10340, 11071], 2336: [11166], 8482: [8735], 5923: [8912, 9581, 11337], 1317: [9354], 3377: [6428], 2344: [11325], 809: [7404], 2858: [6844], 6023: [10478], 4396: [5389], 813: [1535], 2862: [10787], 5423: [8467], 1329: [7468], 818: [11295], 5941: [11159, 12028], 5942: [12233], 6967: [9743], 312: [8136], 2361: [7458], 5434: [11071], 3899: [6699], 394: [4798, 8608], 830: [4024], 224: [10000], 6978: [11931], 6980: [7541], 6966: [9150], 1351: [7977], 5451: [10688], 5966: [7206, 7727], 3981: [6328, 6515], 336: [10097], 6268: [6699], 2389: [8873], 857: [7404], 2394: [7578], 1935: [4549], 5468: [7013], 8614: [10717], 2910: [8735], 8543: [11069], 6367: [9009], 2915: [4240], 4838: [11081], 870: [3516], 4455: [5018], 3944: [10670], 4457: [5136], 3437: [3961, 7372], 3442: [8343], 3956: [11857], 4981: [7778], 887: [9323], 8568: [8605], 1402: [5212, 8529], 1404: [3310, 4850, 6698], 381: [2104, 5700], 894: [6430], 896: [3877], 5505: [10820], 6290: [8347], 8070: [10762], 4999: [7837], 3466: [9569], 6539: [8126], 1421: [6281], 3982: [4544, 8058], 2447: [9278, 11221], 1688: [6871, 7317], 6034: [12314], 3480: [7475], 409: [4201], 924: [7442], 2975: [10827], 5024: [11401], 8735: [10688], 2979: [5339], 8100: [9770], 934: [5458], 423: [7694], 3496: [7095], 2460: [9819], 7082: [10365], 327: [5326, 9636], 5362: [12051, 12061], 6962: [8431], 1967: [5249], 6749: [7033], 438: [7806], 6583: [10210], 8632: [9666], 8633: [11102], 3515: [4394], 2492: [5636], 4029: [7769, 10280], 958: [9023], 4544: [10774], 7414: [10549], 6987: [9497], 3012: [6797], 2501: [2877], 2504: [3457], 3529: [11175], 3831: [8633, 10187, 11102], 461: [2837], 2510: [8668, 10268], 3535: [12100], 8656: [10963], 469: [5129], 4054: [4070, 9323], 8663: [10112], 7767: [9062, 11326], 991: [2832], 3040: [5731], 3187: [3548], 3556: [8136], 3494: [10331], 4070: [9323], 4397: [10261], 252: [8867], 490: [9016], 3054: [4109], 8626: [9655], 4592: [11018], 1521: [8978], 501: [7250, 12289], 3063: [7729], 6228: [11095], 8701: [9420]}\n"
     ]
    },
    {
     "name": "stdout",
     "output_type": "stream",
     "text": [
      "9000\n",
      "{3585: [11280], 2563: [4029, 7977], 4102: [7735], 5641: [7680], 1034: [7133], 1547: [2738, 7177], 7180: [7957], 525: [3148], 5805: [7307], 2576: [4347], 529: [1299, 12248], 6676: [11249], 7468: [8791], 4121: [4191], 444: [1201], 543: [4285], 4640: [5515], 545: [11133], 2595: [8912, 9581, 11337], 549: [10919], 5542: [9056], 552: [3546], 6185: [6860], 6698: [10097], 263: [615], 5164: [5722], 45: [3556], 5166: [7769], 2607: [3464], 8752: [10097, 11634], 2097: [2120, 8841], 1074: [2980], 1075: [4676], 4660: [9782], 2613: [9593], 569: [6500], 1451: [6976], 3134: [8560], 7744: [9131], 577: [9278, 11652], 3083: [4562], 7246: [7439], 3653: [8446], 1095: [5941, 11159], 3658: [10447], 7095: [8213], 78: [714], 6840: [10845], 7372: [8581], 3155: [3454], 2644: [4883], 597: [8563], 1209: [11001], 3672: [10592], 7541: [7741], 6234: [6845], 1115: [1981], 4794: [9757], 5214: [11306], 4965: [8391], 3344: [6896], 5218: [5416, 6820, 8058, 10234], 699: [10331], 3942: [9788], 615: [11455], 4200: [11249], 3516: [11617], 8810: [11095], 1643: [5941], 2668: [8292], 7185: [8248], 111: [4038], 5480: [7137], 115: [7372], 1140: [2980, 8058, 10632, 11386], 1141: [4771], 3703: [6300], 632: [5129], 633: [7246], 1658: [4622], 6779: [10349], 2684: [11782], 1149: [6628, 8772], 7445: [10589], 2693: [5983], 4742: [8970, 10211], 135: [6966], 4716: [7224], 4727: [11746], 7308: [10943], 654: [4509], 8849: [9497], 146: [7826], 1683: [9555], 6776: [8226], 2710: [6244], 7705: [10717], 2712: [10119], 1177: [10083], 3226: [3556, 4038], 1179: [3167], 5790: [9150], 671: [5475], 5795: [5966, 7727, 9232], 3749: [10919], 6311: [10371], 2728: [7317, 11529], 6428: [8608, 10016], 6316: [9741], 5743: [6147], 3246: [6048, 8187], 5405: [9150], 1148: [11310], 2738: [3981], 2739: [7832, 10365], 7013: [12062], 3256: [12342], 1721: [2324], 2746: [2825], 1211: [3881], 714: [1876, 3914], 2750: [6877], 703: [1837], 6944: [9034], 6877: [8735, 10688], 8985: [10107], 4804: [12102], 4030: [12130], 5467: [11295], 6860: [7372], 3274: [7830], 2423: [3653, 11581], 5324: [7989], 5326: [11207], 3279: [10906], 8912: [9581], 4728: [7311], 7203: [11429], 5332: [11376], 3877: [4562], 6265: [10478], 1240: [4718], 4825: [7690], 218: [9555], 3450: [4644], 293: [2803, 9624], 1248: [4175], 2273: [9515], 8827: [9323], 3812: [12030], 742: [7695], 2428: [5719], 3306: [11263], 2855: [7521], 3820: [10349], 3310: [6698], 2288: [10948], 2801: [6620], 4850: [9497], 5364: [11374], 245: [10970], 3830: [9274, 11388], 2295: [10086], 3320: [4342], 2812: [9916], 8490: [10000], 1278: [6178], 256: [11743], 6528: [7273], 3843: [8383, 9062], 772: [7065], 8150: [11472], 8768: [11080], 1287: [8735], 6444: [9129], 4877: [9829], 1806: [10603], 1325: [9555, 12369], 2832: [4650], 6418: [9047], 6932: [10554, 11066], 6030: [7620], 7958: [10231], 3352: [4973], 1305: [5218, 6820], 47: [2276, 10475], 3356: [9654], 3357: [8918, 10340, 11071], 2336: [11166], 8482: [8735], 5923: [8912, 9581, 11337], 1317: [9354], 3377: [6428], 2344: [11325], 809: [7404], 2858: [6844], 6023: [10478], 4396: [5389], 813: [1535], 2862: [10787], 5423: [8467], 1329: [7468], 818: [11295], 5941: [11159, 12028], 5942: [12233], 6967: [9743], 312: [8136], 2361: [7458], 5434: [11071], 3899: [6699], 394: [4798, 8608], 830: [4024], 224: [10000], 6978: [11931], 6980: [7541], 6966: [9150], 1351: [7977], 5451: [10688], 5966: [7206, 7727], 3981: [6328, 6515], 336: [10097], 6268: [6699], 2389: [8873], 857: [7404], 2394: [7578], 1935: [4549], 5468: [7013], 8614: [10717], 2910: [8735], 8543: [11069], 6367: [9009], 2915: [4240], 4838: [11081], 870: [3516], 4455: [5018], 3944: [10670], 4457: [5136], 3437: [3961, 7372], 3442: [8343], 3956: [11857], 4981: [7778], 887: [9323], 8568: [8605], 1402: [5212, 8529], 1404: [3310, 4850, 6698], 381: [2104, 5700], 894: [6430], 896: [3877], 5505: [10820], 6290: [8347], 8070: [10762], 4999: [7837], 3466: [9569], 6539: [8126], 1421: [6281], 3982: [4544, 8058], 2447: [9278, 11221], 1688: [6871, 7317], 6034: [12314], 3480: [7475], 409: [4201], 924: [7442], 2975: [10827], 5024: [11401], 8735: [10688], 2979: [5339], 8100: [9770], 934: [5458], 423: [7694], 3496: [7095], 2460: [9819], 7082: [10365], 327: [5326, 9636], 5362: [12051, 12061], 6962: [8431], 1967: [5249], 6749: [7033], 438: [7806], 6583: [10210], 8632: [9666], 8633: [11102], 3515: [4394], 2492: [5636], 4029: [7769, 10280], 958: [9023], 4544: [10774], 7414: [10549], 6987: [9497], 3012: [6797], 2501: [2877], 2504: [3457], 3529: [11175], 3831: [8633, 10187, 11102], 461: [2837], 2510: [8668, 10268], 3535: [12100], 8656: [10963], 469: [5129], 4054: [4070, 9323], 8663: [10112], 7767: [9062, 11326], 991: [2832], 3040: [5731], 3187: [3548], 3556: [8136], 3494: [10331], 4070: [9323], 4397: [10261], 252: [8867], 490: [9016], 3054: [4109], 8626: [9655], 4592: [11018], 1521: [8978], 501: [7250, 12289], 3063: [7729], 6228: [11095], 8701: [9420]}\n",
      "9100\n",
      "{3585: [11280], 2563: [4029, 7977], 4102: [7735], 5641: [7680], 1034: [7133], 1547: [2738, 7177], 7180: [7957], 525: [3148], 5805: [7307], 2576: [4347], 529: [1299, 12248], 6676: [11249], 7468: [8791], 4121: [4191], 444: [1201], 543: [4285], 4640: [5515], 545: [11133], 2595: [8912, 9581, 11337], 549: [10919], 5542: [9056], 552: [3546], 6185: [6860], 6698: [10097], 263: [615], 5164: [5722], 45: [3556], 5166: [7769], 2607: [3464], 8752: [10097, 11634], 2097: [2120, 8841], 1074: [2980], 1075: [4676], 4660: [9782], 2613: [9593], 569: [6500], 1451: [6976], 3134: [8560], 7744: [9131], 577: [9278, 11652], 3083: [4562], 7246: [7439], 3653: [8446], 1095: [5941, 11159], 3658: [10447], 7095: [8213], 78: [714], 6840: [10845], 7372: [8581], 3155: [3454], 2644: [4883], 597: [8563], 1209: [11001], 3672: [10592], 7541: [7741], 6234: [6845], 1115: [1981], 4794: [9757], 5214: [11306], 4965: [8391], 3344: [6896], 5218: [5416, 6820, 8058, 10234], 699: [10331], 3942: [9788], 615: [11455], 4200: [11249], 3516: [11617], 8810: [11095], 1643: [5941], 2668: [8292], 7185: [8248], 111: [4038], 5480: [7137], 115: [7372], 1140: [2980, 8058, 10632, 11386], 1141: [4771], 3703: [6300], 632: [5129], 633: [7246], 1658: [4622], 6779: [10349], 2684: [11782], 1149: [6628, 8772], 7445: [10589], 2693: [5983], 4742: [8970, 10211], 135: [6966], 4716: [7224], 4727: [11746], 7308: [10943], 654: [4509], 8849: [9497], 146: [7826], 1683: [9555], 6776: [8226], 2710: [6244], 7705: [10717], 2712: [10119], 1177: [10083], 3226: [3556, 4038], 1179: [3167], 5790: [9150], 671: [5475], 5795: [5966, 7727, 9232], 3749: [10919], 6311: [10371], 2728: [7317, 11529], 6428: [8608, 10016], 9062: [10280], 6316: [9741], 5743: [6147], 3246: [6048, 8187], 5405: [9150], 1148: [11310], 2738: [3981], 2739: [7832, 10365], 7013: [12062], 3256: [12342], 1721: [2324], 2746: [2825], 1211: [3881], 714: [1876, 3914], 2750: [6877], 703: [1837], 6944: [9034], 6877: [8735, 10688], 8985: [10107], 4804: [12102], 4030: [12130], 5467: [11295], 6860: [7372], 3274: [7830], 2423: [3653, 11581], 5324: [7989], 5326: [11207], 3279: [10906], 8912: [9581], 4728: [7311], 7203: [11429], 5332: [11376], 3877: [4562], 6265: [10478], 1240: [4718], 4825: [7690], 218: [9555], 3450: [4644], 293: [2803, 9624], 1248: [4175], 2273: [9515], 8827: [9323], 3812: [12030], 742: [7695], 2428: [5719], 3306: [11263], 2855: [7521], 3820: [10349], 3310: [6698], 2288: [10948], 2801: [6620], 4850: [9497], 5364: [11374], 245: [10970], 3830: [9274, 11388], 2295: [10086], 3320: [4342], 2812: [9916], 8490: [10000], 1278: [6178], 256: [11743], 6528: [7273], 3843: [8383, 9062], 772: [7065], 8150: [11472], 8768: [11080], 1287: [8735], 6444: [9129], 9049: [11635], 4877: [9829], 1806: [10603], 1325: [9555, 12369], 2832: [4650], 6418: [9047], 6932: [10554, 11066], 6030: [7620], 7958: [10231], 3352: [4973], 1305: [5218, 6820], 47: [2276, 10475], 3356: [9654], 3357: [8918, 10340, 11071], 2336: [11166], 8482: [8735], 5923: [8912, 9581, 11337], 1317: [9354], 3377: [6428], 2344: [11325], 809: [7404], 2858: [6844], 6023: [10478], 4396: [5389], 813: [1535], 2862: [10787], 5423: [8467], 1329: [7468], 818: [11295], 5941: [11159, 12028], 5942: [12233], 6967: [9743], 312: [8136], 2361: [7458], 5434: [11071], 3899: [6699], 394: [4798, 8608], 830: [4024], 9023: [12130], 224: [10000], 6978: [11931], 6980: [7541], 6966: [9150], 1351: [7977], 5451: [10688], 5966: [7206, 7727], 3981: [6328, 6515], 336: [10097], 6268: [6699], 2389: [8873], 857: [7404], 2394: [7578], 1935: [4549], 5468: [7013], 8614: [10717], 2910: [8735], 8543: [11069], 6367: [9009], 2915: [4240], 4838: [11081], 870: [3516], 4455: [5018], 3944: [10670], 4457: [5136], 3437: [3961, 7372], 3442: [8343], 9014: [12342], 3956: [11857], 4981: [7778], 887: [9323], 8568: [8605], 1402: [5212, 8529], 1404: [3310, 4850, 6698], 381: [2104, 5700], 894: [6430], 896: [3877], 5505: [10820], 6290: [8347], 8070: [10762], 4999: [7837], 3466: [9569], 6539: [8126], 1421: [6281], 3982: [4544, 8058], 2447: [9278, 11221], 1688: [6871, 7317], 6034: [12314], 3480: [7475], 409: [4201], 924: [7442], 2975: [10827], 5024: [11401], 8735: [10688], 2979: [5339], 8100: [9770], 934: [5458], 423: [7694], 3496: [7095], 2460: [9819], 7082: [10365], 327: [5326, 9636], 5362: [12051, 12061], 6962: [8431], 1967: [5249], 6749: [7033], 438: [7806], 6583: [10210], 8632: [9666], 8633: [11102], 3515: [4394], 2492: [5636], 4029: [7769, 10280], 958: [9023], 4544: [10774], 7414: [10549], 6987: [9497], 3012: [6797], 2501: [2877], 2504: [3457], 3529: [11175], 3831: [8633, 10187, 11102], 461: [2837], 2510: [8668, 10268], 3535: [12100], 8656: [10963], 469: [5129], 4054: [4070, 9323], 8663: [10112], 7767: [9062, 11326], 991: [2832], 3040: [5731], 3187: [3548], 3556: [8136], 3494: [10331], 4070: [9323], 4397: [10261], 252: [8867], 490: [9016], 3054: [4109], 8626: [9655], 4592: [11018], 1521: [8978], 501: [7250, 12289], 3063: [7729], 6228: [11095], 8701: [9420]}\n"
     ]
    },
    {
     "name": "stdout",
     "output_type": "stream",
     "text": [
      "9200\n",
      "{3585: [11280], 2563: [4029, 7977], 4102: [7735], 5641: [7680], 1034: [7133], 1547: [2738, 7177], 7180: [7957], 525: [3148], 5805: [7307], 2576: [4347], 529: [1299, 12248], 6676: [11249], 7468: [8791], 4121: [4191], 444: [1201], 543: [4285], 4640: [5515], 545: [11133], 2595: [8912, 9581, 11337], 549: [10919], 5542: [9056], 552: [3546], 6185: [6860], 6698: [10097], 263: [615], 5164: [5722], 45: [3556], 5166: [7769], 2607: [3464], 8752: [10097, 11634], 2097: [2120, 8841], 1074: [2980], 1075: [4676], 4660: [9782], 2613: [9593], 9174: [12096], 569: [6500], 1451: [6976], 3134: [8560], 7744: [9131], 577: [9278, 11652], 3083: [4562], 7246: [7439], 3653: [8446], 1095: [5941, 11159], 3658: [10447], 7095: [8213], 78: [714], 6840: [10845], 7372: [8581], 3155: [3454], 2644: [4883], 597: [8563], 1209: [11001], 3672: [10592], 7541: [7741], 6234: [6845], 1115: [1981], 4794: [9757], 5214: [11306], 4965: [8391], 3344: [6896], 5218: [5416, 6820, 8058, 10234], 699: [10331], 3942: [9788], 615: [11455], 4200: [11249], 3516: [11617], 8810: [11095], 1643: [5941], 2668: [8292], 7185: [8248], 111: [4038], 5480: [7137], 115: [7372], 1140: [2980, 8058, 10632, 11386], 1141: [4771], 3703: [6300], 632: [5129], 633: [7246], 1658: [4622], 6779: [10349], 2684: [11782], 1149: [6628, 8772], 7445: [10589], 2693: [5983], 4742: [8970, 10211], 135: [6966], 4716: [7224], 4727: [11746], 7308: [10943], 654: [4509], 8849: [9497], 146: [7826], 1683: [9555], 6776: [8226], 2710: [6244], 7705: [10717], 2712: [10119], 1177: [10083], 3226: [3556, 4038], 1179: [3167], 5790: [9150], 671: [5475], 5795: [5966, 7727, 9232], 3749: [10919], 6311: [10371], 2728: [7317, 11529], 6428: [8608, 10016], 9062: [10280], 6316: [9741], 5743: [6147], 3246: [6048, 8187], 5405: [9150], 1148: [11310], 2738: [3981], 2739: [7832, 10365], 7013: [12062], 3256: [12342], 1721: [2324], 2746: [2825], 1211: [3881], 714: [1876, 3914], 2750: [6877], 703: [1837], 6944: [9034], 6877: [8735, 10688], 8985: [10107], 4804: [12102], 4030: [12130], 5467: [11295], 6860: [7372], 3274: [7830], 2423: [3653, 11581], 5324: [7989], 5326: [11207], 3279: [10906], 8912: [9581], 4728: [7311], 7203: [11429], 5332: [11376], 3877: [4562], 6265: [10478], 1240: [4718], 4825: [7690], 218: [9555], 3450: [4644], 293: [2803, 9624], 1248: [4175], 2273: [9515], 8827: [9323], 3812: [12030], 742: [7695], 2428: [5719], 3306: [11263], 2855: [7521], 3820: [10349], 3310: [6698], 2288: [10948], 2801: [6620], 4850: [9497], 5364: [11374], 245: [10970], 3830: [9274, 11388], 2295: [10086], 3320: [4342], 2812: [9916], 8490: [10000], 1278: [6178], 256: [11743], 6528: [7273], 3843: [8383, 9062], 772: [7065], 8150: [11472], 8768: [11080], 1287: [8735], 6444: [9129], 9049: [11635], 4877: [9829], 1806: [10603], 1325: [9555, 12369], 2832: [4650], 6418: [9047], 6932: [10554, 11066], 6030: [7620], 7958: [10231], 3352: [4973], 1305: [5218, 6820], 47: [2276, 10475], 3356: [9654], 3357: [8918, 10340, 11071], 2336: [11166], 8482: [8735], 5923: [8912, 9581, 11337], 1317: [9354], 3377: [6428], 2344: [11325], 809: [7404], 2858: [6844], 6023: [10478], 4396: [5389], 813: [1535], 2862: [10787], 5423: [8467], 1329: [7468], 818: [11295], 5941: [11159, 12028], 5942: [12233], 6967: [9743], 312: [8136], 2361: [7458], 5434: [11071], 3899: [6699], 394: [4798, 8608], 830: [4024], 9023: [12130], 224: [10000], 6978: [11931], 6980: [7541], 6966: [9150], 1351: [7977], 5451: [10688], 5966: [7206, 7727], 3981: [6328, 6515], 336: [10097], 6268: [6699], 2389: [8873], 857: [7404], 2394: [7578], 1935: [4549], 5468: [7013], 8614: [10717], 2910: [8735], 8543: [11069], 6367: [9009], 2915: [4240], 4838: [11081], 870: [3516], 4455: [5018], 3944: [10670], 4457: [5136], 3437: [3961, 7372], 3442: [8343], 9014: [12342], 3956: [11857], 4981: [7778], 887: [9323], 8568: [8605], 1402: [5212, 8529], 1404: [3310, 4850, 6698], 381: [2104, 5700], 894: [6430], 896: [3877], 5505: [10820], 6290: [8347], 8070: [10762], 4999: [7837], 3466: [9569], 6539: [8126], 1421: [6281], 3982: [4544, 8058], 2447: [9278, 11221], 1688: [6871, 7317], 6034: [12314], 3480: [7475], 409: [4201], 924: [7442], 2975: [10827], 5024: [11401], 8735: [10688], 2979: [5339], 8100: [9770], 934: [5458], 423: [7694], 3496: [7095], 2460: [9819], 7082: [10365], 327: [5326, 9636], 5362: [12051, 12061], 6962: [8431], 1967: [5249], 6749: [7033], 438: [7806], 6583: [10210], 8632: [9666], 8633: [11102], 3515: [4394], 2492: [5636], 4029: [7769, 10280], 958: [9023], 4544: [10774], 7414: [10549], 9154: [10592], 6987: [9497], 3012: [6797], 2501: [2877], 2504: [3457], 3529: [11175], 3831: [8633, 10187, 11102], 461: [2837], 2510: [8668, 10268], 3535: [12100], 8656: [10963], 469: [5129], 4054: [4070, 9323], 8663: [10112], 7767: [9062, 11326], 991: [2832], 3040: [5731], 3187: [3548], 3556: [8136], 3494: [10331], 4070: [9323], 4397: [10261], 252: [8867], 490: [9016], 9196: [9242], 3054: [4109], 8626: [9655], 4592: [11018], 1521: [8978], 501: [7250, 12289], 3063: [7729], 6228: [11095], 8701: [9420]}\n",
      "9300\n",
      "{3585: [11280], 2563: [4029, 7977], 4102: [7735], 5641: [7680], 1034: [7133], 1547: [2738, 7177], 7180: [7957], 525: [3148], 5805: [7307], 2576: [4347], 529: [1299, 12248], 6676: [11249], 7468: [8791], 4121: [4191], 444: [1201], 543: [4285], 4640: [5515], 545: [11133], 2595: [8912, 9581, 11337], 549: [10919], 5542: [9056], 552: [3546], 6185: [6860], 6698: [10097], 263: [615], 5164: [5722], 45: [3556], 5166: [7769], 2607: [3464], 8752: [10097, 11634], 2097: [2120, 8841], 1074: [2980], 1075: [4676], 4660: [9782], 2613: [9593], 9174: [12096], 569: [6500], 1451: [6976], 3134: [8560], 7744: [9131], 577: [9278, 11652], 3083: [4562], 7246: [7439], 3653: [8446], 1095: [5941, 11159], 3658: [10447], 7095: [8213], 78: [714], 6840: [10845], 7372: [8581], 3155: [3454], 2644: [4883], 597: [8563], 1209: [11001], 3672: [10592], 7541: [7741], 6234: [6845], 1115: [1981], 4794: [9757], 5214: [11306], 4965: [8391], 3344: [6896], 5218: [5416, 6820, 8058, 10234], 699: [10331], 3942: [9788], 615: [11455], 4200: [11249], 3516: [11617], 8810: [11095], 1643: [5941], 2668: [8292], 7185: [8248], 111: [4038], 5480: [7137], 115: [7372], 1140: [2980, 8058, 10632, 11386], 1141: [4771], 3703: [6300], 632: [5129], 633: [7246], 1658: [4622], 6779: [10349], 2684: [11782], 1149: [6628, 8772], 7445: [10589], 2693: [5983], 4742: [8970, 10211], 135: [6966], 4716: [7224], 4727: [11746], 7308: [10943], 654: [4509], 8849: [9497], 146: [7826], 1683: [9555], 6776: [8226], 2710: [6244], 7705: [10717], 2712: [10119], 1177: [10083], 3226: [3556, 4038], 1179: [3167], 5790: [9150], 671: [5475], 5795: [5966, 7727, 9232], 3749: [10919], 6311: [10371], 2728: [7317, 11529], 6428: [8608, 10016], 9062: [10280], 6316: [9741], 5743: [6147], 3246: [6048, 8187], 5405: [9150], 1148: [11310], 2738: [3981], 2739: [7832, 10365], 7013: [12062], 3256: [12342], 1721: [2324], 2746: [2825], 1211: [3881], 714: [1876, 3914], 2750: [6877], 703: [1837], 6944: [9034], 6877: [8735, 10688], 8985: [10107], 4804: [12102], 4030: [12130], 5467: [11295], 6860: [7372], 3274: [7830], 2423: [3653, 11581], 5324: [7989], 5326: [11207], 3279: [10906], 8912: [9581], 4728: [7311], 7203: [11429], 5332: [11376], 3877: [4562], 6265: [10478], 1240: [4718], 4825: [7690], 218: [9555], 3450: [4644], 293: [2803, 9624], 1248: [4175], 2273: [9515], 8827: [9323], 3812: [12030], 742: [7695], 2428: [5719], 3306: [11263], 2855: [7521], 3820: [10349], 3310: [6698], 2288: [10948], 2801: [6620], 4850: [9497], 5364: [11374], 245: [10970], 3830: [9274, 11388], 2295: [10086], 3320: [4342], 2812: [9916], 8490: [10000], 1278: [6178], 256: [11743], 6528: [7273], 3843: [8383, 9062], 772: [7065], 8150: [11472], 8768: [11080], 1287: [8735], 6444: [9129], 9049: [11635], 4877: [9829], 1806: [10603], 1325: [9555, 12369], 2832: [4650], 6418: [9047], 6932: [10554, 11066], 6030: [7620], 7958: [10231], 3352: [4973], 1305: [5218, 6820], 47: [2276, 10475], 3356: [9654], 3357: [8918, 10340, 11071], 2336: [11166], 8482: [8735], 5923: [8912, 9581, 11337], 1317: [9354], 3377: [6428], 2344: [11325], 809: [7404], 2858: [6844], 6023: [10478], 4396: [5389], 813: [1535], 2862: [10787], 5423: [8467], 1329: [7468], 818: [11295], 5941: [11159, 12028], 5942: [12233], 6967: [9743], 312: [8136], 2361: [7458], 5434: [11071], 3899: [6699], 394: [4798, 8608], 830: [4024], 9023: [12130], 224: [10000], 6978: [11931], 6980: [7541], 6966: [9150], 1351: [7977], 5451: [10688], 5966: [7206, 7727], 3981: [6328, 6515], 336: [10097], 6268: [6699], 2389: [8873], 857: [7404], 2394: [7578], 1935: [4549], 5468: [7013], 8614: [10717], 2910: [8735], 8543: [11069], 6367: [9009], 2915: [4240], 4838: [11081], 870: [3516], 4455: [5018], 3944: [10670], 4457: [5136], 3437: [3961, 7372], 3442: [8343], 9014: [12342], 3956: [11857], 4981: [7778], 887: [9323], 8568: [8605], 1402: [5212, 8529], 1404: [3310, 4850, 6698], 381: [2104, 5700], 894: [6430], 896: [3877], 5505: [10820], 6290: [8347], 8070: [10762], 4999: [7837], 3466: [9569], 6539: [8126], 1421: [6281], 3982: [4544, 8058], 2447: [9278, 11221], 1688: [6871, 7317], 6034: [12314], 3480: [7475], 409: [4201], 924: [7442], 2975: [10827], 5024: [11401], 8735: [10688], 2979: [5339], 8100: [9770], 934: [5458], 423: [7694], 3496: [7095], 2460: [9819], 7082: [10365], 327: [5326, 9636], 5362: [12051, 12061], 6962: [8431], 1967: [5249], 6749: [7033], 438: [7806], 6583: [10210], 8632: [9666], 8633: [11102], 3515: [4394], 2492: [5636], 4029: [7769, 10280], 958: [9023], 4544: [10774], 7414: [10549], 9154: [10592], 6987: [9497], 3012: [6797], 2501: [2877], 2504: [3457], 3529: [11175], 3831: [8633, 10187, 11102], 461: [2837], 2510: [8668, 10268], 3535: [12100], 8656: [10963], 469: [5129], 4054: [4070, 9323], 8663: [10112], 7767: [9062, 11326], 991: [2832], 3040: [5731], 3187: [3548], 3556: [8136], 3494: [10331], 4070: [9323], 4397: [10261], 252: [8867], 490: [9016], 9196: [9242], 3054: [4109], 8626: [9655], 4592: [11018], 1521: [8978], 501: [7250, 12289], 3063: [7729], 6228: [11095], 9210: [9770], 8701: [9420]}\n"
     ]
    },
    {
     "name": "stdout",
     "output_type": "stream",
     "text": [
      "9400\n",
      "{3585: [11280], 2563: [4029, 7977], 4102: [7735], 5641: [7680], 1034: [7133], 1547: [2738, 7177], 7180: [7957], 525: [3148], 5805: [7307], 2576: [4347], 529: [1299, 12248], 6676: [11249], 7468: [8791], 4121: [4191], 444: [1201], 543: [4285], 4640: [5515], 545: [11133], 2595: [8912, 9581, 11337], 549: [10919], 5542: [9056], 552: [3546], 6185: [6860], 6698: [10097], 263: [615], 5164: [5722], 45: [3556], 5166: [7769], 2607: [3464], 8752: [10097, 11634], 2097: [2120, 8841], 1074: [2980], 1075: [4676], 4660: [9782], 2613: [9593], 9174: [12096], 569: [6500], 1451: [6976], 3134: [8560], 7744: [9131], 577: [9278, 11652], 3083: [4562], 7246: [7439], 3653: [8446], 1095: [5941, 11159], 3658: [10447], 7095: [8213], 78: [714], 6840: [10845], 7372: [8581], 3155: [3454], 2644: [4883], 597: [8563], 1209: [11001], 3672: [10592], 7541: [7741], 6234: [6845], 1115: [1981], 4794: [9757], 5214: [11306], 4965: [8391], 3344: [6896], 5218: [5416, 6820, 8058, 10234], 699: [10331], 3942: [9788], 615: [11455], 4200: [11249], 3516: [11617], 8810: [11095], 1643: [5941], 2668: [8292], 7185: [8248], 111: [4038], 5480: [7137], 115: [7372], 1140: [2980, 8058, 10632, 11386], 1141: [4771], 3703: [6300], 632: [5129], 633: [7246], 1658: [4622], 6779: [10349], 2684: [11782], 1149: [6628, 8772], 7445: [10589], 2693: [5983], 4742: [8970, 10211], 135: [6966], 4716: [7224], 4727: [11746], 7308: [10943], 654: [4509], 8849: [9497], 146: [7826], 1683: [9555], 6776: [8226], 2710: [6244], 7705: [10717], 2712: [10119], 1177: [10083], 3226: [3556, 4038], 1179: [3167], 5790: [9150], 671: [5475], 5795: [5966, 7727, 9232], 3749: [10919], 6311: [10371], 2728: [7317, 11529], 6428: [8608, 10016], 9062: [10280], 6316: [9741], 5743: [6147], 3246: [6048, 8187], 5405: [9150], 1148: [11310], 2738: [3981], 2739: [7832, 10365], 7013: [12062], 3256: [12342], 1721: [2324], 2746: [2825], 1211: [3881], 714: [1876, 3914], 2750: [6877], 703: [1837], 6944: [9034], 6877: [8735, 10688], 8985: [10107], 4804: [12102], 4030: [12130], 5467: [11295], 6860: [7372], 3274: [7830], 2423: [3653, 11581], 5324: [7989], 5326: [11207], 3279: [10906], 8912: [9581], 4728: [7311], 7203: [11429], 5332: [11376], 3877: [4562], 6265: [10478], 1240: [4718], 4825: [7690], 218: [9555], 3450: [4644], 293: [2803, 9624], 1248: [4175], 2273: [9515], 8827: [9323], 3812: [12030], 742: [7695], 2428: [5719], 3306: [11263], 2855: [7521], 3820: [10349], 3310: [6698], 2288: [10948], 2801: [6620], 4850: [9497], 5364: [11374], 245: [10970], 3830: [9274, 11388], 2295: [10086], 3320: [4342], 2812: [9916], 8490: [10000], 1278: [6178], 256: [11743], 6528: [7273], 3843: [8383, 9062], 772: [7065], 8150: [11472], 8768: [11080], 1287: [8735], 6444: [9129], 9049: [11635], 4877: [9829], 1806: [10603], 1325: [9555, 12369], 2832: [4650], 6418: [9047], 6932: [10554, 11066], 6030: [7620], 7958: [10231], 3352: [4973], 1305: [5218, 6820], 47: [2276, 10475], 3356: [9654], 3357: [8918, 10340, 11071], 2336: [11166], 8482: [8735], 5923: [8912, 9581, 11337], 1317: [9354], 3377: [6428], 2344: [11325], 809: [7404], 2858: [6844], 6023: [10478], 4396: [5389], 813: [1535], 2862: [10787], 5423: [8467], 1329: [7468], 818: [11295], 5941: [11159, 12028], 5942: [12233], 6967: [9743], 312: [8136], 2361: [7458], 5434: [11071], 3899: [6699], 394: [4798, 8608], 830: [4024], 9023: [12130], 224: [10000], 6978: [11931], 6980: [7541], 6966: [9150], 1351: [7977], 5451: [10688], 5966: [7206, 7727], 3981: [6328, 6515], 336: [10097], 6268: [6699], 2389: [8873], 857: [7404], 2394: [7578], 1935: [4549], 5468: [7013], 8614: [10717], 2910: [8735], 8543: [11069], 6367: [9009], 2915: [4240], 4838: [11081], 870: [3516], 4455: [5018], 3944: [10670], 4457: [5136], 3437: [3961, 7372], 3442: [8343], 9014: [12342], 3956: [11857], 4981: [7778], 887: [9323], 8568: [8605], 1402: [5212, 8529], 1404: [3310, 4850, 6698], 381: [2104, 5700], 894: [6430], 896: [3877], 5505: [10820], 6290: [8347], 8070: [10762], 4999: [7837], 3466: [9569], 6539: [8126], 1421: [6281], 3982: [4544, 8058], 2447: [9278, 11221], 1688: [6871, 7317], 6034: [12314], 3480: [7475], 409: [4201], 924: [7442], 2975: [10827], 5024: [11401], 8735: [10688], 2979: [5339], 8100: [9770], 934: [5458], 423: [7694], 3496: [7095], 2460: [9819], 7082: [10365], 327: [5326, 9636], 5362: [12051, 12061], 6962: [8431], 1967: [5249], 6749: [7033], 438: [7806], 6583: [10210], 8632: [9666], 8633: [11102], 3515: [4394], 2492: [5636], 4029: [7769, 10280], 958: [9023], 4544: [10774], 7414: [10549], 9154: [10592], 6987: [9497], 3012: [6797], 2501: [2877], 2504: [3457], 3529: [11175], 3831: [8633, 10187, 11102], 461: [2837], 2510: [8668, 10268], 3535: [12100], 8656: [10963], 9379: [12219], 469: [5129], 4054: [4070, 9323], 8663: [10112], 7767: [9062, 11326], 991: [2832], 3040: [5731], 3187: [3548], 3556: [8136], 3494: [10331], 4070: [9323], 4397: [10261], 252: [8867], 490: [9016], 9196: [9242], 3054: [4109], 8626: [9655], 4592: [11018], 1521: [8978], 501: [7250, 12289], 3063: [7729], 6228: [11095], 9210: [9770], 8701: [9420]}\n",
      "9500\n",
      "{3585: [11280], 2563: [4029, 7977], 4102: [7735], 5641: [7680], 1034: [7133], 1547: [2738, 7177], 7180: [7957], 525: [3148], 5805: [7307], 2576: [4347], 529: [1299, 12248], 6676: [11249], 7468: [8791], 4121: [4191], 444: [1201], 543: [4285], 4640: [5515], 545: [11133], 2595: [8912, 9581, 11337], 549: [10919], 5542: [9056], 552: [3546], 6185: [6860], 6698: [10097], 263: [615], 5164: [5722], 45: [3556], 5166: [7769], 2607: [3464], 8752: [10097, 11634], 2097: [2120, 8841], 1074: [2980], 1075: [4676], 4660: [9782], 2613: [9593], 9174: [12096], 569: [6500], 1451: [6976], 3134: [8560], 7744: [9131], 577: [9278, 11652], 3083: [4562], 7246: [7439], 3653: [8446], 1095: [5941, 11159], 3658: [10447], 7095: [8213], 78: [714], 6840: [10845], 7372: [8581], 3155: [3454], 2644: [4883], 597: [8563], 1209: [11001], 3672: [10592], 7541: [7741], 6234: [6845], 1115: [1981], 4794: [9757], 5214: [11306], 4965: [8391], 3344: [6896], 5218: [5416, 6820, 8058, 10234], 699: [10331], 3942: [9788], 615: [11455], 4200: [11249], 3516: [11617], 8810: [11095], 1643: [5941], 2668: [8292], 7185: [8248], 111: [4038], 5480: [7137], 115: [7372], 1140: [2980, 8058, 10632, 11386], 1141: [4771], 3703: [6300], 632: [5129], 633: [7246], 1658: [4622], 6779: [10349], 2684: [11782], 1149: [6628, 8772], 7445: [10589], 2693: [5983], 4742: [8970, 10211], 135: [6966], 4716: [7224], 4727: [11746], 7308: [10943], 654: [4509], 8849: [9497], 146: [7826], 1683: [9555], 6776: [8226], 2710: [6244], 7705: [10717], 2712: [10119], 1177: [10083], 3226: [3556, 4038], 1179: [3167], 5790: [9150], 671: [5475], 5795: [5966, 7727, 9232], 3749: [10919], 6311: [10371], 2728: [7317, 11529], 6428: [8608, 10016], 9062: [10280], 6316: [9741], 5743: [6147], 3246: [6048, 8187], 5405: [9150], 1148: [11310], 2738: [3981], 2739: [7832, 10365], 7013: [12062], 3256: [12342], 1721: [2324], 2746: [2825], 1211: [3881], 714: [1876, 3914], 2750: [6877], 703: [1837], 6944: [9034], 6877: [8735, 10688], 8985: [10107], 4804: [12102], 9413: [11343], 4030: [12130], 5467: [11295], 6860: [7372], 3274: [7830], 2423: [3653, 11581], 5324: [7989], 5326: [11207], 3279: [10906], 8912: [9581], 4728: [7311], 7203: [11429], 5332: [11376], 3877: [4562], 6265: [10478], 1240: [4718], 4825: [7690], 218: [9555], 3450: [4644], 293: [2803, 9624], 1248: [4175], 2273: [9515], 8827: [9323], 3812: [12030], 742: [7695], 2428: [5719], 3306: [11263], 2855: [7521], 3820: [10349], 3310: [6698], 2288: [10948], 2801: [6620], 4850: [9497], 5364: [11374], 245: [10970], 3830: [9274, 11388], 2295: [10086], 3320: [4342], 2812: [9916], 8490: [10000], 1278: [6178], 256: [11743], 6528: [7273], 3843: [8383, 9062], 772: [7065], 8150: [11472], 8768: [11080], 1287: [8735], 6444: [9129], 9049: [11635], 4877: [9829], 1806: [10603], 1325: [9555, 12369], 2832: [4650], 6418: [9047], 6932: [10554, 11066], 6030: [7620], 7958: [10231], 3352: [4973], 1305: [5218, 6820], 47: [2276, 10475], 3356: [9654], 3357: [8918, 10340, 11071], 2336: [11166], 8482: [8735], 5923: [8912, 9581, 11337], 1317: [9354], 3377: [6428], 2344: [11325], 809: [7404], 2858: [6844], 6023: [10478], 4396: [5389], 813: [1535], 2862: [10787], 5423: [8467], 1329: [7468], 818: [11295], 5941: [11159, 12028], 5942: [12233], 6967: [9743], 312: [8136], 2361: [7458], 5434: [11071], 3899: [6699], 394: [4798, 8608], 830: [4024], 9023: [12130], 224: [10000], 6978: [11931], 6980: [7541], 6966: [9150], 1351: [7977], 5451: [10688], 5966: [7206, 7727], 3981: [6328, 6515], 336: [10097], 6268: [6699], 2389: [8873], 857: [7404], 2394: [7578], 1935: [4549], 5468: [7013], 8614: [10717], 2910: [8735], 8543: [11069], 6367: [9009], 2915: [4240], 4838: [11081], 870: [3516], 4455: [5018], 3944: [10670], 4457: [5136], 3437: [3961, 7372], 3442: [8343], 9014: [12342], 3956: [11857], 4981: [7778], 887: [9323], 8568: [8605], 1402: [5212, 8529], 1404: [3310, 4850, 6698], 381: [2104, 5700], 894: [6430], 896: [3877], 5505: [10820], 6290: [8347], 8070: [10762], 4999: [7837], 3466: [9569], 6539: [8126], 1421: [6281], 3982: [4544, 8058], 2447: [9278, 11221], 1688: [6871, 7317], 6034: [12314], 3480: [7475], 409: [4201], 924: [7442], 2975: [10827], 5024: [11401], 8735: [10688], 2979: [5339], 8100: [9770], 934: [5458], 423: [7694], 3496: [7095], 2460: [9819], 7082: [10365], 327: [5326, 9636], 5362: [12051, 12061], 6962: [8431], 1967: [5249], 6749: [7033], 438: [7806], 6583: [10210], 8632: [9666], 8633: [11102], 3515: [4394], 2492: [5636], 4029: [7769, 10280], 958: [9023], 4544: [10774], 7414: [10549], 9154: [10592], 6987: [9497], 3012: [6797], 2501: [2877], 2504: [3457], 3529: [11175], 3831: [8633, 10187, 11102], 461: [2837], 2510: [8668, 10268], 3535: [12100], 8656: [10963], 9379: [12219], 469: [5129], 4054: [4070, 9323], 8663: [10112], 7767: [9062, 11326], 991: [2832], 3040: [5731], 3187: [3548], 3556: [8136], 3494: [10331], 4070: [9323], 4397: [10261], 252: [8867], 490: [9016], 9196: [9242], 3054: [4109], 8626: [9655], 4592: [11018], 1521: [8978], 501: [7250, 12289], 3063: [7729], 6228: [11095], 9210: [9770], 8701: [9420]}\n"
     ]
    },
    {
     "name": "stdout",
     "output_type": "stream",
     "text": [
      "9600\n",
      "{3585: [11280], 2563: [4029, 7977], 4102: [7735], 5641: [7680], 1034: [7133], 1547: [2738, 7177], 7180: [7957], 525: [3148], 5805: [7307], 2576: [4347], 529: [1299, 12248], 6676: [11249], 7468: [8791], 4121: [4191], 444: [1201], 543: [4285], 4640: [5515], 545: [11133], 2595: [8912, 9581, 11337], 549: [10919], 5542: [9056], 552: [3546], 6185: [6860], 6698: [10097], 263: [615], 5164: [5722], 45: [3556], 5166: [7769], 2607: [3464], 8752: [10097, 11634], 2097: [2120, 8841], 1074: [2980], 1075: [4676], 4660: [9782], 2613: [9593], 9174: [12096], 569: [6500], 1451: [6976], 3134: [8560], 7744: [9131], 577: [9278, 11652], 3083: [4562], 7246: [7439], 3653: [8446], 1095: [5941, 11159], 3658: [10447], 7095: [8213], 78: [714], 6840: [10845], 7372: [8581], 3155: [3454], 2644: [4883], 597: [8563], 1209: [11001], 3672: [10592], 7541: [7741], 6234: [6845], 1115: [1981], 4794: [9757], 5214: [11306], 4965: [8391], 3344: [6896], 5218: [5416, 6820, 8058, 10234], 699: [10331], 3942: [9788], 615: [11455], 4200: [11249], 3516: [11617], 8810: [11095], 1643: [5941], 2668: [8292], 7185: [8248], 111: [4038], 5480: [7137], 115: [7372], 1140: [2980, 8058, 10632, 11386], 1141: [4771], 3703: [6300], 632: [5129], 633: [7246], 1658: [4622], 6779: [10349], 2684: [11782], 1149: [6628, 8772], 7445: [10589], 2693: [5983], 4742: [8970, 10211], 135: [6966], 4716: [7224], 4727: [11746], 7308: [10943], 654: [4509], 9581: [11337], 8849: [9497], 146: [7826], 1683: [9555], 6776: [8226], 2710: [6244], 7705: [10717], 2712: [10119], 1177: [10083], 3226: [3556, 4038], 1179: [3167], 5790: [9150], 671: [5475], 5795: [5966, 7727, 9232], 3749: [10919], 6311: [10371], 2728: [7317, 11529], 6428: [8608, 10016], 9062: [10280], 6316: [9741], 5743: [6147], 3246: [6048, 8187], 5405: [9150], 1148: [11310], 2738: [3981], 2739: [7832, 10365], 7013: [12062], 3256: [12342], 1721: [2324], 2746: [2825], 1211: [3881], 714: [1876, 3914], 2750: [6877], 703: [1837], 6944: [9034], 6877: [8735, 10688], 8985: [10107], 4804: [12102], 9413: [11343], 4030: [12130], 5467: [11295], 6860: [7372], 3274: [7830], 2423: [3653, 11581], 5324: [7989], 5326: [11207], 3279: [10906], 8912: [9581], 4728: [7311], 7203: [11429], 5332: [11376], 3877: [4562], 6265: [10478], 1240: [4718], 4825: [7690], 218: [9555], 3450: [4644], 293: [2803, 9624], 1248: [4175], 2273: [9515], 8827: [9323], 3812: [12030], 742: [7695], 2428: [5719], 3306: [11263], 2855: [7521], 3820: [10349], 3310: [6698], 2288: [10948], 2801: [6620], 4850: [9497], 5364: [11374], 245: [10970], 3830: [9274, 11388], 2295: [10086], 3320: [4342], 2812: [9916], 8490: [10000], 1278: [6178], 256: [11743], 6528: [7273], 3843: [8383, 9062], 772: [7065], 8150: [11472], 8768: [11080], 1287: [8735], 6444: [9129], 9049: [11635], 4877: [9829], 1806: [10603], 1325: [9555, 12369], 2832: [4650], 6418: [9047], 6932: [10554, 11066], 6030: [7620], 7958: [10231], 3352: [4973], 1305: [5218, 6820], 47: [2276, 10475], 3356: [9654], 3357: [8918, 10340, 11071], 2336: [11166], 8482: [8735], 5923: [8912, 9581, 11337], 1317: [9354], 3377: [6428], 2344: [11325], 809: [7404], 2858: [6844], 6023: [10478], 4396: [5389], 813: [1535], 2862: [10787], 5423: [8467], 1329: [7468], 818: [11295], 5941: [11159, 12028], 5942: [12233], 6967: [9743], 312: [8136], 2361: [7458], 5434: [11071], 3899: [6699], 394: [4798, 8608], 830: [4024], 9023: [12130], 224: [10000], 6978: [11931], 6980: [7541], 6966: [9150], 1351: [7977], 5451: [10688], 5966: [7206, 7727], 3981: [6328, 6515], 336: [10097], 6268: [6699], 2389: [8873], 857: [7404], 2394: [7578], 1935: [4549], 5468: [7013], 8614: [10717], 2910: [8735], 8543: [11069], 6367: [9009], 2915: [4240], 4838: [11081], 870: [3516], 4455: [5018], 3944: [10670], 4457: [5136], 3437: [3961, 7372], 3442: [8343], 9014: [12342], 3956: [11857], 4981: [7778], 887: [9323], 8568: [8605], 1402: [5212, 8529], 1404: [3310, 4850, 6698], 381: [2104, 5700], 894: [6430], 896: [3877], 5505: [10820], 6290: [8347], 8070: [10762], 4999: [7837], 3466: [9569], 6539: [8126], 1421: [6281], 3982: [4544, 8058], 2447: [9278, 11221], 1688: [6871, 7317], 6034: [12314], 3480: [7475], 409: [4201], 924: [7442], 2975: [10827], 5024: [11401], 8735: [10688], 2979: [5339], 8100: [9770], 934: [5458], 423: [7694], 3496: [7095], 2460: [9819], 7082: [10365], 327: [5326, 9636], 5362: [12051, 12061], 6962: [8431], 1967: [5249], 6749: [7033], 438: [7806], 6583: [10210], 8632: [9666], 8633: [11102], 3515: [4394], 2492: [5636], 4029: [7769, 10280], 958: [9023], 4544: [10774], 7414: [10549], 9154: [10592], 6987: [9497], 3012: [6797], 2501: [2877], 2504: [3457], 3529: [11175], 3831: [8633, 10187, 11102], 461: [2837], 2510: [8668, 10268], 3535: [12100], 8656: [10963], 9379: [12219], 469: [5129], 4054: [4070, 9323], 8663: [10112], 7767: [9062, 11326], 991: [2832], 3040: [5731], 3187: [3548], 3556: [8136], 3494: [10331], 4070: [9323], 4397: [10261], 252: [8867], 490: [9016], 9196: [9242], 3054: [4109], 8626: [9655], 4592: [11018], 1521: [8978], 501: [7250, 12289], 3063: [7729], 6228: [11095], 9210: [9770], 8701: [9420]}\n",
      "9700\n",
      "{3585: [11280], 2563: [4029, 7977], 4102: [7735], 5641: [7680], 1034: [7133], 1547: [2738, 7177], 7180: [7957], 525: [3148], 5805: [7307], 2576: [4347], 529: [1299, 12248], 6676: [11249], 7468: [8791], 4121: [4191], 444: [1201], 543: [4285], 4640: [5515], 545: [11133], 2595: [8912, 9581, 11337], 549: [10919], 5542: [9056], 552: [3546], 6185: [6860], 6698: [10097], 263: [615], 5164: [5722], 45: [3556], 5166: [7769], 2607: [3464], 8752: [10097, 11634], 2097: [2120, 8841], 1074: [2980], 1075: [4676], 4660: [9782], 2613: [9593], 9174: [12096], 569: [6500], 1451: [6976], 3134: [8560], 7744: [9131], 577: [9278, 11652], 3083: [4562], 7246: [7439], 3653: [8446], 1095: [5941, 11159], 3658: [10447], 7095: [8213], 78: [714], 6840: [10845], 7372: [8581], 3155: [3454], 2644: [4883], 597: [8563], 1209: [11001], 3672: [10592], 7541: [7741], 6234: [6845], 1115: [1981], 4794: [9757], 5214: [11306], 4965: [8391], 3344: [6896], 5218: [5416, 6820, 8058, 10234], 699: [10331], 3942: [9788], 615: [11455], 4200: [11249], 3516: [11617], 8810: [11095], 1643: [5941], 2668: [8292], 7185: [8248], 111: [4038], 5480: [7137], 115: [7372], 1140: [2980, 8058, 10632, 11386], 1141: [4771], 3703: [6300], 632: [5129], 633: [7246], 1658: [4622], 6779: [10349], 2684: [11782], 1149: [6628, 8772], 7445: [10589], 2693: [5983], 4742: [8970, 10211], 135: [6966], 4716: [7224], 4727: [11746], 7308: [10943], 654: [4509], 9581: [11337], 8849: [9497], 146: [7826], 1683: [9555], 6776: [8226], 2710: [6244], 7705: [10717], 2712: [10119], 1177: [10083], 3226: [3556, 4038], 1179: [3167], 5790: [9150], 671: [5475], 5795: [5966, 7727, 9232], 3749: [10919], 6311: [10371], 2728: [7317, 11529], 6428: [8608, 10016], 9062: [10280], 6316: [9741], 5743: [6147], 3246: [6048, 8187], 5405: [9150], 1148: [11310], 2738: [3981], 2739: [7832, 10365], 7013: [12062], 3256: [12342], 1721: [2324], 2746: [2825], 1211: [3881], 714: [1876, 3914], 2750: [6877], 703: [1837], 6944: [9034], 6877: [8735, 10688], 8985: [10107], 4804: [12102], 9413: [11343], 4030: [12130], 5467: [11295], 6860: [7372], 3274: [7830], 2423: [3653, 11581], 5324: [7989], 5326: [11207], 3279: [10906], 8912: [9581], 4728: [7311], 7203: [11429], 5332: [11376], 3877: [4562], 6265: [10478], 1240: [4718], 4825: [7690], 218: [9555], 3450: [4644], 293: [2803, 9624], 1248: [4175], 2273: [9515], 8827: [9323], 3812: [12030], 742: [7695], 2428: [5719], 3306: [11263], 2855: [7521], 3820: [10349], 3310: [6698], 2288: [10948], 2801: [6620], 4850: [9497], 5364: [11374], 245: [10970], 3830: [9274, 11388], 2295: [10086], 3320: [4342], 2812: [9916], 8490: [10000], 1278: [6178], 256: [11743], 6528: [7273], 3843: [8383, 9062], 772: [7065], 8150: [11472], 8768: [11080], 1287: [8735], 6444: [9129], 9049: [11635], 4877: [9829], 1806: [10603], 1325: [9555, 12369], 2832: [4650], 6418: [9047], 6932: [10554, 11066], 6030: [7620], 7958: [10231], 3352: [4973], 1305: [5218, 6820], 47: [2276, 10475], 3356: [9654], 3357: [8918, 10340, 11071], 2336: [11166], 8482: [8735], 5923: [8912, 9581, 11337], 1317: [9354], 3377: [6428], 2344: [11325], 809: [7404], 2858: [6844], 6023: [10478], 4396: [5389], 813: [1535], 2862: [10787], 5423: [8467], 1329: [7468], 818: [11295], 5941: [11159, 12028], 5942: [12233], 6967: [9743], 312: [8136], 2361: [7458], 5434: [11071], 3899: [6699], 394: [4798, 8608], 830: [4024], 9023: [12130], 224: [10000], 6978: [11931], 6980: [7541], 6966: [9150], 1351: [7977], 5451: [10688], 5966: [7206, 7727], 3981: [6328, 6515], 336: [10097], 6268: [6699], 2389: [8873], 857: [7404], 2394: [7578], 1935: [4549], 5468: [7013], 8614: [10717], 2910: [8735], 8543: [11069], 6367: [9009], 2915: [4240], 4838: [11081], 870: [3516], 4455: [5018], 3944: [10670], 4457: [5136], 3437: [3961, 7372], 3442: [8343], 9014: [12342], 3956: [11857], 4981: [7778], 887: [9323], 8568: [8605], 1402: [5212, 8529], 1404: [3310, 4850, 6698], 381: [2104, 5700], 894: [6430], 896: [3877], 5505: [10820], 6290: [8347], 8070: [10762], 4999: [7837], 3466: [9569], 6539: [8126], 1421: [6281], 3982: [4544, 8058], 2447: [9278, 11221], 1688: [6871, 7317], 6034: [12314], 3480: [7475], 409: [4201], 9677: [10234, 10632, 11211], 924: [7442], 2975: [10827], 5024: [11401], 8735: [10688], 2979: [5339], 8100: [9770], 934: [5458], 423: [7694], 3496: [7095], 2460: [9819], 7082: [10365], 327: [5326, 9636], 5362: [12051, 12061], 6962: [8431], 1967: [5249], 6749: [7033], 438: [7806], 6583: [10210], 8632: [9666], 8633: [11102], 3515: [4394], 2492: [5636], 4029: [7769, 10280], 958: [9023], 4544: [10774], 7414: [10549], 9154: [10592], 6987: [9497], 3012: [6797], 2501: [2877], 2504: [3457], 3529: [11175], 3831: [8633, 10187, 11102], 461: [2837], 2510: [8668, 10268], 3535: [12100], 8656: [10963], 9379: [12219], 469: [5129], 4054: [4070, 9323], 8663: [10112], 7767: [9062, 11326], 991: [2832], 3040: [5731], 3187: [3548], 3556: [8136], 3494: [10331], 4070: [9323], 4397: [10261], 252: [8867], 490: [9016], 9196: [9242], 3054: [4109], 8626: [9655], 4592: [11018], 1521: [8978], 501: [7250, 12289], 3063: [7729], 6228: [11095], 9210: [9770], 8701: [9420]}\n"
     ]
    },
    {
     "name": "stdout",
     "output_type": "stream",
     "text": [
      "9800\n",
      "{3585: [11280], 2563: [4029, 7977], 4102: [7735], 5641: [7680], 1034: [7133], 1547: [2738, 7177], 7180: [7957], 525: [3148], 5805: [7307], 2576: [4347], 529: [1299, 12248], 6676: [11249], 7468: [8791], 4121: [4191], 444: [1201], 543: [4285], 4640: [5515], 545: [11133], 2595: [8912, 9581, 11337], 549: [10919], 5542: [9056], 552: [3546], 6185: [6860], 6698: [10097], 263: [615], 5164: [5722], 45: [3556], 5166: [7769], 2607: [3464], 8752: [10097, 11634], 2097: [2120, 8841], 1074: [2980], 1075: [4676], 4660: [9782], 2613: [9593], 9174: [12096], 569: [6500], 1451: [6976], 3134: [8560], 7744: [9131], 577: [9278, 11652], 3083: [4562], 7246: [7439], 3653: [8446], 1095: [5941, 11159], 3658: [10447], 7095: [8213], 78: [714], 6840: [10845], 7372: [8581], 3155: [3454], 2644: [4883], 597: [8563], 1209: [11001], 3672: [10592], 7541: [7741], 6234: [6845], 1115: [1981], 4794: [9757], 5214: [11306], 4965: [8391], 3344: [6896], 5218: [5416, 6820, 8058, 10234], 699: [10331], 3942: [9788], 615: [11455], 4200: [11249], 3516: [11617], 8810: [11095], 1643: [5941], 2668: [8292], 7185: [8248], 111: [4038], 5480: [7137], 115: [7372], 1140: [2980, 8058, 10632, 11386], 1141: [4771], 3703: [6300], 632: [5129], 633: [7246], 1658: [4622], 6779: [10349], 2684: [11782], 1149: [6628, 8772], 7445: [10589], 2693: [5983], 4742: [8970, 10211], 135: [6966], 4716: [7224], 4727: [11746], 7308: [10943], 654: [4509], 9581: [11337], 8849: [9497], 146: [7826], 1683: [9555], 6776: [8226], 2710: [6244], 7705: [10717], 2712: [10119], 1177: [10083], 3226: [3556, 4038], 1179: [3167], 5790: [9150], 671: [5475], 5795: [5966, 7727, 9232], 3749: [10919], 6311: [10371], 2728: [7317, 11529], 6428: [8608, 10016], 9062: [10280], 6316: [9741], 5743: [6147], 3246: [6048, 8187], 5405: [9150], 1148: [11310], 2738: [3981], 2739: [7832, 10365], 7013: [12062], 3256: [12342], 1721: [2324], 2746: [2825], 1211: [3881], 714: [1876, 3914], 2750: [6877], 703: [1837], 6944: [9034], 6877: [8735, 10688], 8985: [10107], 4804: [12102], 9413: [11343], 4030: [12130], 5467: [11295], 6860: [7372], 3274: [7830], 2423: [3653, 11581], 5324: [7989], 5326: [11207], 3279: [10906], 8912: [9581], 4728: [7311], 7203: [11429], 5332: [11376], 3877: [4562], 6265: [10478], 1240: [4718], 4825: [7690], 218: [9555], 3450: [4644], 293: [2803, 9624], 1248: [4175], 2273: [9515], 8827: [9323], 3812: [12030], 742: [7695], 2428: [5719], 3306: [11263], 2855: [7521], 3820: [10349], 3310: [6698], 2288: [10948], 2801: [6620], 4850: [9497], 5364: [11374], 245: [10970], 3830: [9274, 11388], 2295: [10086], 3320: [4342], 2812: [9916], 8490: [10000], 1278: [6178], 256: [11743], 6528: [7273], 3843: [8383, 9062], 772: [7065], 8150: [11472], 8768: [11080], 1287: [8735], 6444: [9129], 9049: [11635], 4877: [9829], 1806: [10603], 1325: [9555, 12369], 2832: [4650], 6418: [9047], 6932: [10554, 11066], 6030: [7620], 7958: [10231], 3352: [4973], 1305: [5218, 6820], 47: [2276, 10475], 3356: [9654], 3357: [8918, 10340, 11071], 2336: [11166], 8482: [8735], 5923: [8912, 9581, 11337], 1317: [9354], 3377: [6428], 2344: [11325], 809: [7404], 2858: [6844], 6023: [10478], 4396: [5389], 813: [1535], 2862: [10787], 5423: [8467], 1329: [7468], 818: [11295], 5941: [11159, 12028], 5942: [12233], 6967: [9743], 312: [8136], 2361: [7458], 5434: [11071], 3899: [6699], 394: [4798, 8608], 830: [4024], 9023: [12130], 224: [10000], 6978: [11931], 6980: [7541], 6966: [9150], 1351: [7977], 5451: [10688], 5966: [7206, 7727], 3981: [6328, 6515], 336: [10097], 6268: [6699], 2389: [8873], 857: [7404], 2394: [7578], 1935: [4549], 5468: [7013], 8614: [10717], 2910: [8735], 8543: [11069], 6367: [9009], 2915: [4240], 4838: [11081], 870: [3516], 4455: [5018], 3944: [10670], 4457: [5136], 3437: [3961, 7372], 3442: [8343], 9014: [12342], 3956: [11857], 4981: [7778], 887: [9323], 8568: [8605], 1402: [5212, 8529], 1404: [3310, 4850, 6698], 381: [2104, 5700], 894: [6430], 896: [3877], 5505: [10820], 6290: [8347], 8070: [10762], 4999: [7837], 3466: [9569], 6539: [8126], 1421: [6281], 3982: [4544, 8058], 2447: [9278, 11221], 1688: [6871, 7317], 6034: [12314], 3480: [7475], 409: [4201], 9677: [10234, 10632, 11211], 924: [7442], 2975: [10827], 5024: [11401], 8735: [10688], 2979: [5339], 8100: [9770], 934: [5458], 423: [7694], 3496: [7095], 2460: [9819], 7082: [10365], 327: [5326, 9636], 5362: [12051, 12061], 6962: [8431], 1967: [5249], 6749: [7033], 438: [7806], 6583: [10210], 8632: [9666], 8633: [11102], 3515: [4394], 2492: [5636], 4029: [7769, 10280], 958: [9023], 4544: [10774], 7414: [10549], 9154: [10592], 6987: [9497], 3012: [6797], 2501: [2877], 2504: [3457], 3529: [11175], 3831: [8633, 10187, 11102], 461: [2837], 2510: [8668, 10268], 3535: [12100], 8656: [10963], 9379: [12219], 469: [5129], 4054: [4070, 9323], 8663: [10112], 7767: [9062, 11326], 991: [2832], 3040: [5731], 3187: [3548], 3556: [8136], 3494: [10331], 4070: [9323], 4397: [10261], 252: [8867], 490: [9016], 9196: [9242], 3054: [4109], 8626: [9655], 4592: [11018], 1521: [8978], 501: [7250, 12289], 3063: [7729], 6228: [11095], 9210: [9770], 8701: [9420]}\n",
      "9900\n",
      "{3585: [11280], 2563: [4029, 7977], 4102: [7735], 5641: [7680], 1034: [7133], 1547: [2738, 7177], 7180: [7957], 525: [3148], 5805: [7307], 2576: [4347], 529: [1299, 12248], 6676: [11249], 7468: [8791], 4121: [4191], 444: [1201], 543: [4285], 4640: [5515], 545: [11133], 2595: [8912, 9581, 11337], 549: [10919], 5542: [9056], 552: [3546], 6185: [6860], 6698: [10097], 263: [615], 5164: [5722], 45: [3556], 5166: [7769], 2607: [3464], 8752: [10097, 11634], 2097: [2120, 8841], 1074: [2980], 1075: [4676], 4660: [9782], 2613: [9593], 9174: [12096], 569: [6500], 1451: [6976], 3134: [8560], 7744: [9131], 577: [9278, 11652], 3083: [4562], 7246: [7439], 3653: [8446], 1095: [5941, 11159], 3658: [10447], 7095: [8213], 78: [714], 6840: [10845], 7372: [8581], 3155: [3454], 2644: [4883], 597: [8563], 1209: [11001], 3672: [10592], 7541: [7741], 6234: [6845], 1115: [1981], 4794: [9757], 5214: [11306], 4965: [8391], 3344: [6896], 5218: [5416, 6820, 8058, 10234], 699: [10331], 3942: [9788], 615: [11455], 4200: [11249], 3516: [11617], 8810: [11095], 1643: [5941], 2668: [8292], 7185: [8248], 111: [4038], 5480: [7137], 115: [7372], 1140: [2980, 8058, 10632, 11386], 1141: [4771], 3703: [6300], 632: [5129], 633: [7246], 1658: [4622], 6779: [10349], 2684: [11782], 1149: [6628, 8772], 7445: [10589], 2693: [5983], 4742: [8970, 10211], 135: [6966], 4716: [7224], 4727: [11746], 7308: [10943], 654: [4509], 9581: [11337], 8849: [9497], 146: [7826], 1683: [9555], 6776: [8226], 2710: [6244], 7705: [10717], 2712: [10119], 1177: [10083], 3226: [3556, 4038], 1179: [3167], 5790: [9150], 671: [5475], 5795: [5966, 7727, 9232], 3749: [10919], 6311: [10371], 2728: [7317, 11529], 6428: [8608, 10016], 9062: [10280], 6316: [9741], 5743: [6147], 3246: [6048, 8187], 5405: [9150], 1148: [11310], 2738: [3981], 2739: [7832, 10365], 7013: [12062], 3256: [12342], 1721: [2324], 2746: [2825], 1211: [3881], 714: [1876, 3914], 2750: [6877], 703: [1837], 6944: [9034], 6877: [8735, 10688], 8985: [10107], 4804: [12102], 9413: [11343], 4030: [12130], 5467: [11295], 6860: [7372], 3274: [7830], 2423: [3653, 11581], 5324: [7989], 5326: [11207], 3279: [10906], 8912: [9581], 4728: [7311], 7203: [11429], 5332: [11376], 3877: [4562], 6265: [10478], 1240: [4718], 4825: [7690], 218: [9555], 3450: [4644], 293: [2803, 9624], 1248: [4175], 2273: [9515], 8827: [9323], 3812: [12030], 742: [7695], 2428: [5719], 3306: [11263], 2855: [7521], 3820: [10349], 3310: [6698], 2288: [10948], 2801: [6620], 4850: [9497], 5364: [11374], 245: [10970], 3830: [9274, 11388], 2295: [10086], 3320: [4342], 2812: [9916], 8490: [10000], 1278: [6178], 256: [11743], 6528: [7273], 3843: [8383, 9062], 772: [7065], 8150: [11472], 8768: [11080], 1287: [8735], 6444: [9129], 9049: [11635], 4877: [9829], 1806: [10603], 1325: [9555, 12369], 2832: [4650], 6418: [9047], 6932: [10554, 11066], 6030: [7620], 7958: [10231], 3352: [4973], 1305: [5218, 6820], 47: [2276, 10475], 3356: [9654], 3357: [8918, 10340, 11071], 2336: [11166], 8482: [8735], 5923: [8912, 9581, 11337], 1317: [9354], 3377: [6428], 2344: [11325], 809: [7404], 2858: [6844], 6023: [10478], 4396: [5389], 813: [1535], 2862: [10787], 5423: [8467], 1329: [7468], 818: [11295], 5941: [11159, 12028], 5942: [12233], 6967: [9743], 312: [8136], 2361: [7458], 5434: [11071], 3899: [6699], 394: [4798, 8608], 830: [4024], 9023: [12130], 224: [10000], 6978: [11931], 6980: [7541], 6966: [9150], 1351: [7977], 5451: [10688], 5966: [7206, 7727], 3981: [6328, 6515], 336: [10097], 6268: [6699], 2389: [8873], 857: [7404], 2394: [7578], 1935: [4549], 5468: [7013], 8614: [10717], 2910: [8735], 8543: [11069], 6367: [9009], 2915: [4240], 4838: [11081], 870: [3516], 4455: [5018], 3944: [10670], 4457: [5136], 3437: [3961, 7372], 3442: [8343], 9014: [12342], 3956: [11857], 4981: [7778], 887: [9323], 8568: [8605], 1402: [5212, 8529], 1404: [3310, 4850, 6698], 381: [2104, 5700], 894: [6430], 896: [3877], 5505: [10820], 6290: [8347], 8070: [10762], 4999: [7837], 3466: [9569], 6539: [8126], 1421: [6281], 3982: [4544, 8058], 2447: [9278, 11221], 1688: [6871, 7317], 6034: [12314], 3480: [7475], 409: [4201], 9677: [10234, 10632, 11211], 924: [7442], 2975: [10827], 5024: [11401], 8735: [10688], 2979: [5339], 8100: [9770], 934: [5458], 423: [7694], 3496: [7095], 2460: [9819], 7082: [10365], 327: [5326, 9636], 5362: [12051, 12061], 6962: [8431], 1967: [5249], 6749: [7033], 438: [7806], 6583: [10210], 8632: [9666], 8633: [11102], 3515: [4394], 2492: [5636], 4029: [7769, 10280], 958: [9023], 4544: [10774], 7414: [10549], 9154: [10592], 6987: [9497], 3012: [6797], 2501: [2877], 2504: [3457], 3529: [11175], 3831: [8633, 10187, 11102], 461: [2837], 2510: [8668, 10268], 3535: [12100], 8656: [10963], 9379: [12219], 469: [5129], 4054: [4070, 9323], 8663: [10112], 7767: [9062, 11326], 991: [2832], 3040: [5731], 9836: [11857], 3187: [3548], 3556: [8136], 3494: [10331], 4070: [9323], 4397: [10261], 252: [8867], 490: [9016], 9196: [9242], 3054: [4109], 8626: [9655], 4592: [11018], 1521: [8978], 501: [7250, 12289], 3063: [7729], 6228: [11095], 9210: [9770], 8701: [9420]}\n"
     ]
    },
    {
     "name": "stdout",
     "output_type": "stream",
     "text": [
      "10000\n",
      "{3585: [11280], 2563: [4029, 7977], 4102: [7735], 5641: [7680], 1034: [7133], 1547: [2738, 7177], 7180: [7957], 525: [3148], 5805: [7307], 2576: [4347], 529: [1299, 12248], 6676: [11249], 7468: [8791], 4121: [4191], 444: [1201], 543: [4285], 4640: [5515], 545: [11133], 2595: [8912, 9581, 11337], 549: [10919], 5542: [9056], 552: [3546], 6185: [6860], 6698: [10097], 263: [615], 5164: [5722], 45: [3556], 5166: [7769], 2607: [3464], 8752: [10097, 11634], 2097: [2120, 8841], 1074: [2980], 1075: [4676], 4660: [9782], 2613: [9593], 9174: [12096], 569: [6500], 1451: [6976], 3134: [8560], 7744: [9131], 577: [9278, 11652], 3083: [4562], 7246: [7439], 3653: [8446], 1095: [5941, 11159], 3658: [10447], 7095: [8213], 78: [714], 6840: [10845], 7372: [8581], 3155: [3454], 2644: [4883], 597: [8563], 1209: [11001], 3672: [10592], 7541: [7741], 6234: [6845], 1115: [1981], 4794: [9757], 5214: [11306], 4965: [8391], 3344: [6896], 5218: [5416, 6820, 8058, 10234], 699: [10331], 3942: [9788], 615: [11455], 4200: [11249], 3516: [11617], 8810: [11095], 1643: [5941], 2668: [8292], 7185: [8248], 111: [4038], 5480: [7137], 115: [7372], 1140: [2980, 8058, 10632, 11386], 1141: [4771], 3703: [6300], 632: [5129], 633: [7246], 1658: [4622], 6779: [10349], 2684: [11782], 1149: [6628, 8772], 7445: [10589], 2693: [5983], 4742: [8970, 10211], 135: [6966], 4716: [7224], 4727: [11746], 7308: [10943], 654: [4509], 9581: [11337], 8849: [9497], 146: [7826], 1683: [9555], 6776: [8226], 2710: [6244], 7705: [10717], 2712: [10119], 1177: [10083], 3226: [3556, 4038], 1179: [3167], 5790: [9150], 671: [5475], 5795: [5966, 7727, 9232], 3749: [10919], 6311: [10371], 2728: [7317, 11529], 6428: [8608, 10016], 9062: [10280], 6316: [9741], 5743: [6147], 3246: [6048, 8187], 5405: [9150], 1148: [11310], 2738: [3981], 2739: [7832, 10365], 7013: [12062], 3256: [12342], 1721: [2324], 2746: [2825], 1211: [3881], 714: [1876, 3914], 2750: [6877], 703: [1837], 6944: [9034], 6877: [8735, 10688], 8985: [10107], 4804: [12102], 9413: [11343], 4030: [12130], 5467: [11295], 6860: [7372], 3274: [7830], 2423: [3653, 11581], 5324: [7989], 5326: [11207], 3279: [10906], 8912: [9581], 4728: [7311], 7203: [11429], 5332: [11376], 3877: [4562], 6265: [10478], 1240: [4718], 4825: [7690], 218: [9555], 3450: [4644], 293: [2803, 9624], 1248: [4175], 2273: [9515], 8827: [9323], 3812: [12030], 742: [7695], 2428: [5719], 3306: [11263], 2855: [7521], 3820: [10349], 3310: [6698], 2288: [10948], 2801: [6620], 4850: [9497], 5364: [11374], 245: [10970], 3830: [9274, 11388], 2295: [10086], 3320: [4342], 2812: [9916], 8490: [10000], 1278: [6178], 256: [11743], 6528: [7273], 3843: [8383, 9062], 772: [7065], 8150: [11472], 8768: [11080], 1287: [8735], 6444: [9129], 9049: [11635], 4877: [9829], 1806: [10603], 1325: [9555, 12369], 2832: [4650], 6418: [9047], 6932: [10554, 11066], 6030: [7620], 7958: [10231], 3352: [4973], 1305: [5218, 6820], 47: [2276, 10475], 3356: [9654], 3357: [8918, 10340, 11071], 2336: [11166], 8482: [8735], 5923: [8912, 9581, 11337], 1317: [9354], 3377: [6428], 2344: [11325], 809: [7404], 2858: [6844], 6023: [10478], 4396: [5389], 813: [1535], 2862: [10787], 5423: [8467], 1329: [7468], 818: [11295], 5941: [11159, 12028], 5942: [12233], 6967: [9743], 312: [8136], 2361: [7458], 5434: [11071], 3899: [6699], 394: [4798, 8608], 830: [4024], 9023: [12130], 224: [10000], 6978: [11931], 6980: [7541], 6966: [9150], 1351: [7977], 5451: [10688], 5966: [7206, 7727], 3981: [6328, 6515], 336: [10097], 6268: [6699], 2389: [8873], 857: [7404], 2394: [7578], 1935: [4549], 5468: [7013], 8614: [10717], 2910: [8735], 8543: [11069], 6367: [9009], 2915: [4240], 4838: [11081], 870: [3516], 4455: [5018], 3944: [10670], 4457: [5136], 3437: [3961, 7372], 3442: [8343], 9014: [12342], 3956: [11857], 4981: [7778], 887: [9323], 8568: [8605], 1402: [5212, 8529], 1404: [3310, 4850, 6698], 381: [2104, 5700], 894: [6430], 896: [3877], 5505: [10820], 6290: [8347], 8070: [10762], 4999: [7837], 3466: [9569], 6539: [8126], 1421: [6281], 3982: [4544, 8058], 2447: [9278, 11221], 1688: [6871, 7317], 6034: [12314], 3480: [7475], 409: [4201], 9677: [10234, 10632, 11211], 924: [7442], 2975: [10827], 5024: [11401], 8735: [10688], 2979: [5339], 8100: [9770], 934: [5458], 423: [7694], 3496: [7095], 2460: [9819], 7082: [10365], 327: [5326, 9636], 5362: [12051, 12061], 6962: [8431], 1967: [5249], 6749: [7033], 438: [7806], 6583: [10210], 8632: [9666], 8633: [11102], 3515: [4394], 2492: [5636], 4029: [7769, 10280], 958: [9023], 4544: [10774], 7414: [10549], 9154: [10592], 6987: [9497], 3012: [6797], 2501: [2877], 2504: [3457], 3529: [11175], 3831: [8633, 10187, 11102], 461: [2837], 2510: [8668, 10268], 3535: [12100], 8656: [10963], 9379: [12219], 469: [5129], 4054: [4070, 9323], 8663: [10112], 7767: [9062, 11326], 991: [2832], 3040: [5731], 9836: [11857], 3187: [3548], 3556: [8136], 3494: [10331], 4070: [9323], 4397: [10261], 252: [8867], 490: [9016], 9196: [9242], 3054: [4109], 8626: [9655], 4592: [11018], 1521: [8978], 501: [7250, 12289], 3063: [7729], 6228: [11095], 9210: [9770], 8701: [9420]}\n",
      "10100\n",
      "{3585: [11280], 2563: [4029, 7977], 4102: [7735], 5641: [7680], 1034: [7133], 1547: [2738, 7177], 7180: [7957], 525: [3148], 5805: [7307], 2576: [4347], 529: [1299, 12248], 6676: [11249], 7468: [8791], 4121: [4191], 444: [1201], 543: [4285], 4640: [5515], 545: [11133], 2595: [8912, 9581, 11337], 549: [10919], 5542: [9056], 552: [3546], 6185: [6860], 6698: [10097], 263: [615], 5164: [5722], 45: [3556], 5166: [7769], 2607: [3464], 8752: [10097, 11634], 2097: [2120, 8841], 1074: [2980], 1075: [4676], 4660: [9782], 2613: [9593], 9174: [12096], 569: [6500], 1451: [6976], 3134: [8560], 7744: [9131], 577: [9278, 11652], 3083: [4562], 7246: [7439], 3653: [8446], 1095: [5941, 11159], 3658: [10447], 7095: [8213], 78: [714], 6840: [10845], 7372: [8581], 3155: [3454], 2644: [4883], 597: [8563], 1209: [11001], 3672: [10592], 7541: [7741], 6234: [6845], 1115: [1981], 4794: [9757], 5214: [11306], 4965: [8391], 3344: [6896], 5218: [5416, 6820, 8058, 10234], 699: [10331], 3942: [9788], 615: [11455], 4200: [11249], 3516: [11617], 8810: [11095], 1643: [5941], 2668: [8292], 7185: [8248], 111: [4038], 5480: [7137], 115: [7372], 1140: [2980, 8058, 10632, 11386], 1141: [4771], 3703: [6300], 632: [5129], 633: [7246], 1658: [4622], 6779: [10349], 2684: [11782], 1149: [6628, 8772], 7445: [10589], 2693: [5983], 4742: [8970, 10211], 135: [6966], 4716: [7224], 4727: [11746], 7308: [10943], 654: [4509], 9581: [11337], 8849: [9497], 146: [7826], 1683: [9555], 6776: [8226], 2710: [6244], 7705: [10717], 2712: [10119], 1177: [10083], 3226: [3556, 4038], 1179: [3167], 5790: [9150], 671: [5475], 5795: [5966, 7727, 9232], 3749: [10919], 6311: [10371], 2728: [7317, 11529], 6428: [8608, 10016], 9062: [10280], 6316: [9741], 5743: [6147], 3246: [6048, 8187], 5405: [9150], 1148: [11310], 2738: [3981], 2739: [7832, 10365], 7013: [12062], 3256: [12342], 1721: [2324], 2746: [2825], 1211: [3881], 714: [1876, 3914], 2750: [6877], 703: [1837], 6944: [9034], 6877: [8735, 10688], 8985: [10107], 4804: [12102], 9413: [11343], 4030: [12130], 5467: [11295], 6860: [7372], 3274: [7830], 2423: [3653, 11581], 5324: [7989], 5326: [11207], 3279: [10906], 8912: [9581], 4728: [7311], 7203: [11429], 5332: [11376], 3877: [4562], 6265: [10478], 1240: [4718], 4825: [7690], 218: [9555], 3450: [4644], 293: [2803, 9624], 1248: [4175], 2273: [9515], 8827: [9323], 3812: [12030], 742: [7695], 2428: [5719], 3306: [11263], 2855: [7521], 3820: [10349], 3310: [6698], 2288: [10948], 2801: [6620], 4850: [9497], 5364: [11374], 245: [10970], 3830: [9274, 11388], 2295: [10086], 3320: [4342], 2812: [9916], 8490: [10000], 1278: [6178], 10016: [11655], 256: [11743], 6528: [7273], 3843: [8383, 9062], 772: [7065], 8150: [11472], 8768: [11080], 1287: [8735], 6444: [9129], 9049: [11635], 4877: [9829], 1806: [10603], 1325: [9555, 12369], 2832: [4650], 6418: [9047], 6932: [10554, 11066], 6030: [7620], 7958: [10231], 3352: [4973], 1305: [5218, 6820], 47: [2276, 10475], 3356: [9654], 3357: [8918, 10340, 11071], 2336: [11166], 8482: [8735], 5923: [8912, 9581, 11337], 1317: [9354], 3377: [6428], 2344: [11325], 809: [7404], 2858: [6844], 6023: [10478], 4396: [5389], 813: [1535], 2862: [10787], 5423: [8467], 1329: [7468], 818: [11295], 5941: [11159, 12028], 5942: [12233], 6967: [9743], 312: [8136], 2361: [7458], 5434: [11071], 3899: [6699], 394: [4798, 8608], 830: [4024], 9023: [12130], 224: [10000], 6978: [11931], 6980: [7541], 6966: [9150], 1351: [7977], 5451: [10688], 5966: [7206, 7727], 3981: [6328, 6515], 336: [10097], 6268: [6699], 2389: [8873], 10070: [10422], 857: [7404], 2394: [7578], 1935: [4549], 5468: [7013], 8614: [10717], 2910: [8735], 8543: [11069], 6367: [9009], 2915: [4240], 4838: [11081], 870: [3516], 4455: [5018], 3944: [10670], 4457: [5136], 3437: [3961, 7372], 3442: [8343], 9014: [12342], 3956: [11857], 4981: [7778], 887: [9323], 8568: [8605], 1402: [5212, 8529], 1404: [3310, 4850, 6698], 381: [2104, 5700], 894: [6430], 896: [3877], 5505: [10820], 6290: [8347], 8070: [10762], 4999: [7837], 3466: [9569], 6539: [8126], 1421: [6281], 3982: [4544, 8058], 2447: [9278, 11221], 1688: [6871, 7317], 6034: [12314], 3480: [7475], 409: [4201], 9677: [10234, 10632, 11211], 924: [7442], 2975: [10827], 5024: [11401], 8735: [10688], 2979: [5339], 8100: [9770], 934: [5458], 423: [7694], 3496: [7095], 2460: [9819], 7082: [10365], 327: [5326, 9636], 5362: [12051, 12061], 6962: [8431], 1967: [5249], 6749: [7033], 438: [7806], 6583: [10210], 8632: [9666], 8633: [11102], 3515: [4394], 2492: [5636], 4029: [7769, 10280], 958: [9023], 4544: [10774], 7414: [10549], 9154: [10592], 6987: [9497], 3012: [6797], 2501: [2877], 2504: [3457], 3529: [11175], 3831: [8633, 10187, 11102], 461: [2837], 2510: [8668, 10268], 3535: [12100], 8656: [10963], 9379: [12219], 469: [5129], 4054: [4070, 9323], 8663: [10112], 7767: [9062, 11326], 991: [2832], 3040: [5731], 9836: [11857], 3187: [3548], 3556: [8136], 3494: [10331], 4070: [9323], 4397: [10261], 252: [8867], 490: [9016], 9196: [9242], 3054: [4109], 8626: [9655], 4592: [11018], 1521: [8978], 501: [7250, 12289], 3063: [7729], 6228: [11095], 9210: [9770], 8701: [9420]}\n"
     ]
    },
    {
     "name": "stdout",
     "output_type": "stream",
     "text": [
      "10200\n",
      "{3585: [11280], 2563: [4029, 7977], 4102: [7735], 5641: [7680], 1034: [7133], 1547: [2738, 7177], 7180: [7957], 525: [3148], 5805: [7307], 2576: [4347], 529: [1299, 12248], 6676: [11249], 7468: [8791], 4121: [4191], 444: [1201], 543: [4285], 4640: [5515], 545: [11133], 2595: [8912, 9581, 11337], 549: [10919], 5542: [9056], 552: [3546], 6185: [6860], 6698: [10097], 263: [615], 5164: [5722], 45: [3556], 5166: [7769], 2607: [3464], 8752: [10097, 11634], 2097: [2120, 8841], 1074: [2980], 1075: [4676], 4660: [9782], 2613: [9593], 9174: [12096], 569: [6500], 1451: [6976], 3134: [8560], 7744: [9131], 577: [9278, 11652], 3083: [4562], 7246: [7439], 3653: [8446], 1095: [5941, 11159], 3658: [10447], 7095: [8213], 78: [714], 6840: [10845], 7372: [8581], 3155: [3454], 2644: [4883], 597: [8563], 1209: [11001], 3672: [10592], 7541: [7741], 6234: [6845], 1115: [1981], 4794: [9757], 5214: [11306], 4965: [8391], 3344: [6896], 5218: [5416, 6820, 8058, 10234], 699: [10331], 3942: [9788], 615: [11455], 4200: [11249], 3516: [11617], 8810: [11095], 1643: [5941], 2668: [8292], 7185: [8248], 111: [4038], 5480: [7137], 115: [7372], 1140: [2980, 8058, 10632, 11386], 1141: [4771], 3703: [6300], 632: [5129], 633: [7246], 1658: [4622], 6779: [10349], 2684: [11782], 1149: [6628, 8772], 7445: [10589], 2693: [5983], 4742: [8970, 10211], 135: [6966], 4716: [7224], 4727: [11746], 7308: [10943], 654: [4509], 9581: [11337], 8849: [9497], 146: [7826], 1683: [9555], 6776: [8226], 2710: [6244], 7705: [10717], 2712: [10119], 1177: [10083], 3226: [3556, 4038], 1179: [3167], 5790: [9150], 671: [5475], 5795: [5966, 7727, 9232], 3749: [10919], 6311: [10371], 2728: [7317, 11529], 6428: [8608, 10016], 9062: [10280], 6316: [9741], 5743: [6147], 3246: [6048, 8187], 5405: [9150], 1148: [11310], 2738: [3981], 2739: [7832, 10365], 7013: [12062], 3256: [12342], 1721: [2324], 2746: [2825], 1211: [3881], 714: [1876, 3914], 2750: [6877], 703: [1837], 6944: [9034], 6877: [8735, 10688], 8985: [10107], 4804: [12102], 9413: [11343], 4030: [12130], 5467: [11295], 6860: [7372], 3274: [7830], 2423: [3653, 11581], 5324: [7989], 5326: [11207], 3279: [10906], 8912: [9581], 4728: [7311], 7203: [11429], 5332: [11376], 3877: [4562], 10187: [11102], 6265: [10478], 1240: [4718], 4825: [7690], 218: [9555], 3450: [4644], 293: [2803, 9624], 1248: [4175], 2273: [9515], 8827: [9323], 3812: [12030], 742: [7695], 2428: [5719], 3306: [11263], 2855: [7521], 3820: [10349], 3310: [6698], 2288: [10948], 2801: [6620], 4850: [9497], 5364: [11374], 245: [10970], 3830: [9274, 11388], 2295: [10086], 3320: [4342], 2812: [9916], 8490: [10000], 1278: [6178], 10016: [11655], 256: [11743], 6528: [7273], 3843: [8383, 9062], 772: [7065], 8150: [11472], 8768: [11080], 1287: [8735], 6444: [9129], 9049: [11635], 4877: [9829], 1806: [10603], 1325: [9555, 12369], 2832: [4650], 6418: [9047], 6932: [10554, 11066], 6030: [7620], 7958: [10231], 3352: [4973], 1305: [5218, 6820], 47: [2276, 10475], 3356: [9654], 3357: [8918, 10340, 11071], 2336: [11166], 8482: [8735], 5923: [8912, 9581, 11337], 1317: [9354], 3377: [6428], 2344: [11325], 809: [7404], 2858: [6844], 6023: [10478], 4396: [5389], 813: [1535], 2862: [10787], 5423: [8467], 1329: [7468], 818: [11295], 5941: [11159, 12028], 5942: [12233], 6967: [9743], 312: [8136], 2361: [7458], 5434: [11071], 3899: [6699], 394: [4798, 8608], 830: [4024], 9023: [12130], 224: [10000], 6978: [11931], 6980: [7541], 6966: [9150], 1351: [7977], 5451: [10688], 5966: [7206, 7727], 3981: [6328, 6515], 336: [10097], 6268: [6699], 2389: [8873], 10070: [10422], 857: [7404], 2394: [7578], 1935: [4549], 5468: [7013], 8614: [10717], 2910: [8735], 8543: [11069], 6367: [9009], 2915: [4240], 4838: [11081], 870: [3516], 4455: [5018], 3944: [10670], 4457: [5136], 3437: [3961, 7372], 3442: [8343], 9014: [12342], 3956: [11857], 4981: [7778], 887: [9323], 8568: [8605], 1402: [5212, 8529], 1404: [3310, 4850, 6698], 381: [2104, 5700], 894: [6430], 896: [3877], 5505: [10820], 6290: [8347], 8070: [10762], 4999: [7837], 3466: [9569], 6539: [8126], 1421: [6281], 3982: [4544, 8058], 2447: [9278, 11221], 1688: [6871, 7317], 6034: [12314], 3480: [7475], 409: [4201], 9677: [10234, 10632, 11211], 924: [7442], 2975: [10827], 5024: [11401], 8735: [10688], 2979: [5339], 8100: [9770], 934: [5458], 423: [7694], 3496: [7095], 2460: [9819], 7082: [10365], 327: [5326, 9636], 5362: [12051, 12061], 6962: [8431], 1967: [5249], 6749: [7033], 438: [7806], 6583: [10210], 8632: [9666], 8633: [11102], 3515: [4394], 2492: [5636], 4029: [7769, 10280], 958: [9023], 4544: [10774], 7414: [10549], 9154: [10592], 6987: [9497], 3012: [6797], 2501: [2877], 2504: [3457], 3529: [11175], 3831: [8633, 10187, 11102], 461: [2837], 2510: [8668, 10268], 3535: [12100], 8656: [10963], 9379: [12219], 469: [5129], 4054: [4070, 9323], 8663: [10112], 7767: [9062, 11326], 991: [2832], 3040: [5731], 9836: [11857], 3187: [3548], 3556: [8136], 3494: [10331], 4070: [9323], 4397: [10261], 252: [8867], 490: [9016], 9196: [9242], 3054: [4109], 8626: [9655], 4592: [11018], 1521: [8978], 501: [7250, 12289], 3063: [7729], 6228: [11095], 9210: [9770], 8701: [9420]}\n",
      "10300\n",
      "{3585: [11280], 2563: [4029, 7977], 4102: [7735], 5641: [7680], 1034: [7133], 1547: [2738, 7177], 7180: [7957], 525: [3148], 5805: [7307], 2576: [4347], 529: [1299, 12248], 6676: [11249], 7468: [8791], 4121: [4191], 444: [1201], 543: [4285], 4640: [5515], 545: [11133], 2595: [8912, 9581, 11337], 549: [10919], 5542: [9056], 552: [3546], 6185: [6860], 6698: [10097], 263: [615], 5164: [5722], 45: [3556], 5166: [7769], 2607: [3464], 8752: [10097, 11634], 2097: [2120, 8841], 1074: [2980], 1075: [4676], 4660: [9782], 2613: [9593], 10231: [12406], 9174: [12096], 569: [6500], 1451: [6976], 3134: [8560], 7744: [9131], 577: [9278, 11652], 3083: [4562], 7246: [7439], 3653: [8446], 1095: [5941, 11159], 3658: [10447], 7095: [8213], 78: [714], 6840: [10845], 7372: [8581], 3155: [3454], 2644: [4883], 597: [8563], 1209: [11001], 3672: [10592], 7541: [7741], 6234: [6845], 1115: [1981], 4794: [9757], 5214: [11306], 4965: [8391], 3344: [6896], 5218: [5416, 6820, 8058, 10234], 699: [10331], 3942: [9788], 615: [11455], 4200: [11249], 3516: [11617], 8810: [11095], 1643: [5941], 2668: [8292], 7185: [8248], 111: [4038], 5480: [7137], 115: [7372], 1140: [2980, 8058, 10632, 11386], 1141: [4771], 3703: [6300], 632: [5129], 633: [7246], 1658: [4622], 6779: [10349], 2684: [11782], 1149: [6628, 8772], 7445: [10589], 2693: [5983], 4742: [8970, 10211], 135: [6966], 4716: [7224], 4727: [11746], 7308: [10943], 654: [4509], 9581: [11337], 8849: [9497], 146: [7826], 1683: [9555], 6776: [8226], 2710: [6244], 7705: [10717], 2712: [10119], 1177: [10083], 3226: [3556, 4038], 1179: [3167], 5790: [9150], 671: [5475], 5795: [5966, 7727, 9232], 3749: [10919], 6311: [10371], 2728: [7317, 11529], 6428: [8608, 10016], 9062: [10280], 6316: [9741], 5743: [6147], 3246: [6048, 8187], 5405: [9150], 1148: [11310], 2738: [3981], 2739: [7832, 10365], 7013: [12062], 3256: [12342], 1721: [2324], 2746: [2825], 1211: [3881], 714: [1876, 3914], 2750: [6877], 703: [1837], 6944: [9034], 6877: [8735, 10688], 8985: [10107], 4804: [12102], 9413: [11343], 4030: [12130], 5467: [11295], 6860: [7372], 3274: [7830], 2423: [3653, 11581], 5324: [7989], 5326: [11207], 3279: [10906], 8912: [9581], 4728: [7311], 7203: [11429], 5332: [11376], 3877: [4562], 10187: [11102], 6265: [10478], 1240: [4718], 4825: [7690], 218: [9555], 3450: [4644], 293: [2803, 9624], 1248: [4175], 2273: [9515], 8827: [9323], 3812: [12030], 742: [7695], 2428: [5719], 3306: [11263], 2855: [7521], 3820: [10349], 3310: [6698], 2288: [10948], 2801: [6620], 4850: [9497], 5364: [11374], 245: [10970], 3830: [9274, 11388], 2295: [10086], 3320: [4342], 2812: [9916], 8490: [10000], 1278: [6178], 10016: [11655], 256: [11743], 6528: [7273], 3843: [8383, 9062], 772: [7065], 8150: [11472], 8768: [11080], 1287: [8735], 6444: [9129], 9049: [11635], 4877: [9829], 1806: [10603], 1325: [9555, 12369], 2832: [4650], 6418: [9047], 6932: [10554, 11066], 6030: [7620], 7958: [10231], 3352: [4973], 1305: [5218, 6820], 47: [2276, 10475], 3356: [9654], 3357: [8918, 10340, 11071], 2336: [11166], 8482: [8735], 5923: [8912, 9581, 11337], 1317: [9354], 3377: [6428], 2344: [11325], 809: [7404], 2858: [6844], 6023: [10478], 4396: [5389], 813: [1535], 2862: [10787], 5423: [8467], 1329: [7468], 818: [11295], 5941: [11159, 12028], 5942: [12233], 6967: [9743], 312: [8136], 2361: [7458], 5434: [11071], 3899: [6699], 394: [4798, 8608], 830: [4024], 9023: [12130], 224: [10000], 6978: [11931], 6980: [7541], 6966: [9150], 1351: [7977], 5451: [10688], 5966: [7206, 7727], 3981: [6328, 6515], 336: [10097], 6268: [6699], 2389: [8873], 10070: [10422], 857: [7404], 2394: [7578], 1935: [4549], 5468: [7013], 8614: [10717], 2910: [8735], 8543: [11069], 6367: [9009], 2915: [4240], 4838: [11081], 870: [3516], 4455: [5018], 3944: [10670], 4457: [5136], 3437: [3961, 7372], 3442: [8343], 9014: [12342], 3956: [11857], 4981: [7778], 887: [9323], 8568: [8605], 1402: [5212, 8529], 1404: [3310, 4850, 6698], 381: [2104, 5700], 894: [6430], 896: [3877], 5505: [10820], 6290: [8347], 8070: [10762], 4999: [7837], 3466: [9569], 6539: [8126], 1421: [6281], 3982: [4544, 8058], 2447: [9278, 11221], 1688: [6871, 7317], 6034: [12314], 3480: [7475], 409: [4201], 9677: [10234, 10632, 11211], 924: [7442], 2975: [10827], 5024: [11401], 8735: [10688], 2979: [5339], 8100: [9770], 934: [5458], 423: [7694], 3496: [7095], 2460: [9819], 7082: [10365], 327: [5326, 9636], 5362: [12051, 12061], 6962: [8431], 1967: [5249], 6749: [7033], 438: [7806], 6583: [10210], 8632: [9666], 8633: [11102], 3515: [4394], 2492: [5636], 4029: [7769, 10280], 958: [9023], 4544: [10774], 7414: [10549], 9154: [10592], 6987: [9497], 3012: [6797], 2501: [2877], 2504: [3457], 3529: [11175], 3831: [8633, 10187, 11102], 461: [2837], 2510: [8668, 10268], 3535: [12100], 8656: [10963], 9379: [12219], 469: [5129], 4054: [4070, 9323], 8663: [10112], 7767: [9062, 11326], 10234: [11211], 991: [2832], 3040: [5731], 9836: [11857], 3187: [3548], 3556: [8136], 3494: [10331], 4070: [9323], 4397: [10261], 252: [8867], 490: [9016], 9196: [9242], 3054: [4109], 8626: [9655], 4592: [11018], 1521: [8978], 501: [7250, 12289], 3063: [7729], 6228: [11095], 9210: [9770], 8701: [9420]}\n"
     ]
    },
    {
     "name": "stdout",
     "output_type": "stream",
     "text": [
      "10400\n",
      "{3585: [11280], 2563: [4029, 7977], 4102: [7735], 5641: [7680], 1034: [7133], 1547: [2738, 7177], 7180: [7957], 525: [3148], 5805: [7307], 2576: [4347], 529: [1299, 12248], 6676: [11249], 7468: [8791], 4121: [4191], 444: [1201], 543: [4285], 4640: [5515], 545: [11133], 2595: [8912, 9581, 11337], 549: [10919], 5542: [9056], 552: [3546], 6185: [6860], 6698: [10097], 263: [615], 5164: [5722], 45: [3556], 5166: [7769], 2607: [3464], 8752: [10097, 11634], 2097: [2120, 8841], 1074: [2980], 1075: [4676], 4660: [9782], 2613: [9593], 10231: [12406], 9174: [12096], 569: [6500], 1451: [6976], 3134: [8560], 7744: [9131], 577: [9278, 11652], 3083: [4562], 7246: [7439], 3653: [8446], 1095: [5941, 11159], 3658: [10447], 7095: [8213], 78: [714], 6840: [10845], 7372: [8581], 3155: [3454], 2644: [4883], 597: [8563], 1209: [11001], 3672: [10592], 7541: [7741], 6234: [6845], 1115: [1981], 4794: [9757], 5214: [11306], 4965: [8391], 3344: [6896], 5218: [5416, 6820, 8058, 10234], 699: [10331], 3942: [9788], 615: [11455], 4200: [11249], 3516: [11617], 8810: [11095], 1643: [5941], 2668: [8292], 7185: [8248], 111: [4038], 5480: [7137], 115: [7372], 1140: [2980, 8058, 10632, 11386], 1141: [4771], 3703: [6300], 632: [5129], 633: [7246], 1658: [4622], 6779: [10349], 2684: [11782], 1149: [6628, 8772], 7445: [10589], 10371: [12293], 2693: [5983], 4742: [8970, 10211], 135: [6966], 4716: [7224], 4727: [11746], 7308: [10943], 654: [4509], 9581: [11337], 8849: [9497], 146: [7826], 1683: [9555], 6776: [8226], 2710: [6244], 7705: [10717], 2712: [10119], 1177: [10083], 3226: [3556, 4038], 1179: [3167], 5790: [9150], 671: [5475], 5795: [5966, 7727, 9232], 3749: [10919], 6311: [10371], 2728: [7317, 11529], 6428: [8608, 10016], 9062: [10280], 6316: [9741], 5743: [6147], 3246: [6048, 8187], 5405: [9150], 1148: [11310], 2738: [3981], 2739: [7832, 10365], 7013: [12062], 3256: [12342], 1721: [2324], 2746: [2825], 1211: [3881], 714: [1876, 3914], 2750: [6877], 703: [1837], 6944: [9034], 6877: [8735, 10688], 8985: [10107], 4804: [12102], 9413: [11343], 10321: [10559], 4030: [12130], 5467: [11295], 6860: [7372], 3274: [7830], 2423: [3653, 11581], 5324: [7989], 5326: [11207], 3279: [10906], 8912: [9581], 4728: [7311], 7203: [11429], 5332: [11376], 3877: [4562], 10187: [11102], 6265: [10478], 1240: [4718], 4825: [7690], 218: [9555], 3450: [4644], 293: [2803, 9624], 1248: [4175], 2273: [9515], 8827: [9323], 3812: [12030], 742: [7695], 2428: [5719], 3306: [11263], 2855: [7521], 3820: [10349], 3310: [6698], 2288: [10948], 2801: [6620], 4850: [9497], 5364: [11374], 245: [10970], 3830: [9274, 11388], 2295: [10086], 3320: [4342], 2812: [9916], 8490: [10000], 1278: [6178], 10016: [11655], 256: [11743], 6528: [7273], 3843: [8383, 9062], 772: [7065], 8150: [11472], 8768: [11080], 1287: [8735], 6444: [9129], 9049: [11635], 4877: [9829], 1806: [10603], 1325: [9555, 12369], 2832: [4650], 6418: [9047], 6932: [10554, 11066], 6030: [7620], 7958: [10231], 3352: [4973], 1305: [5218, 6820], 47: [2276, 10475], 3356: [9654], 3357: [8918, 10340, 11071], 2336: [11166], 8482: [8735], 5923: [8912, 9581, 11337], 1317: [9354], 3377: [6428], 2344: [11325], 809: [7404], 2858: [6844], 6023: [10478], 4396: [5389], 813: [1535], 2862: [10787], 5423: [8467], 1329: [7468], 818: [11295], 5941: [11159, 12028], 5942: [12233], 6967: [9743], 312: [8136], 2361: [7458], 5434: [11071], 3899: [6699], 394: [4798, 8608], 830: [4024], 9023: [12130], 224: [10000], 6978: [11931], 6980: [7541], 6966: [9150], 1351: [7977], 5451: [10688], 5966: [7206, 7727], 3981: [6328, 6515], 336: [10097], 6268: [6699], 2389: [8873], 10070: [10422], 857: [7404], 2394: [7578], 1935: [4549], 5468: [7013], 8614: [10717], 2910: [8735], 8543: [11069], 6367: [9009], 2915: [4240], 4838: [11081], 870: [3516], 4455: [5018], 3944: [10670], 4457: [5136], 3437: [3961, 7372], 3442: [8343], 9014: [12342], 3956: [11857], 4981: [7778], 887: [9323], 8568: [8605], 1402: [5212, 8529], 1404: [3310, 4850, 6698], 381: [2104, 5700], 894: [6430], 896: [3877], 5505: [10820], 6290: [8347], 8070: [10762], 4999: [7837], 3466: [9569], 6539: [8126], 1421: [6281], 3982: [4544, 8058], 2447: [9278, 11221], 1688: [6871, 7317], 6034: [12314], 3480: [7475], 409: [4201], 9677: [10234, 10632, 11211], 924: [7442], 2975: [10827], 5024: [11401], 8735: [10688], 2979: [5339], 8100: [9770], 934: [5458], 423: [7694], 3496: [7095], 2460: [9819], 7082: [10365], 327: [5326, 9636], 5362: [12051, 12061], 6962: [8431], 1967: [5249], 6749: [7033], 438: [7806], 6583: [10210], 8632: [9666], 8633: [11102], 3515: [4394], 2492: [5636], 4029: [7769, 10280], 958: [9023], 4544: [10774], 7414: [10549], 9154: [10592], 6987: [9497], 3012: [6797], 2501: [2877], 2504: [3457], 3529: [11175], 3831: [8633, 10187, 11102], 461: [2837], 2510: [8668, 10268], 3535: [12100], 8656: [10963], 9379: [12219], 469: [5129], 4054: [4070, 9323], 8663: [10112], 7767: [9062, 11326], 10234: [11211], 991: [2832], 3040: [5731], 9836: [11857], 3187: [3548], 3556: [8136], 3494: [10331], 4070: [9323], 4397: [10261], 252: [8867], 490: [9016], 9196: [9242], 3054: [4109], 8626: [9655], 4592: [11018], 1521: [8978], 501: [7250, 12289], 3063: [7729], 6228: [11095], 9210: [9770], 8701: [9420]}\n",
      "10500\n",
      "{3585: [11280], 2563: [4029, 7977], 4102: [7735], 5641: [7680], 1034: [7133], 1547: [2738, 7177], 7180: [7957], 525: [3148], 5805: [7307], 2576: [4347], 529: [1299, 12248], 6676: [11249], 7468: [8791], 4121: [4191], 444: [1201], 543: [4285], 4640: [5515], 545: [11133], 2595: [8912, 9581, 11337], 549: [10919], 5542: [9056], 552: [3546], 6185: [6860], 6698: [10097], 263: [615], 5164: [5722], 45: [3556], 5166: [7769], 2607: [3464], 8752: [10097, 11634], 2097: [2120, 8841], 1074: [2980], 1075: [4676], 4660: [9782], 2613: [9593], 10231: [12406], 9174: [12096], 569: [6500], 1451: [6976], 3134: [8560], 7744: [9131], 577: [9278, 11652], 3083: [4562], 7246: [7439], 3653: [8446], 1095: [5941, 11159], 3658: [10447], 7095: [8213], 78: [714], 6840: [10845], 7372: [8581], 3155: [3454], 2644: [4883], 597: [8563], 1209: [11001], 3672: [10592], 7541: [7741], 6234: [6845], 1115: [1981], 4794: [9757], 5214: [11306], 4965: [8391], 3344: [6896], 5218: [5416, 6820, 8058, 10234], 699: [10331], 3942: [9788], 615: [11455], 4200: [11249], 3516: [11617], 8810: [11095], 1643: [5941], 2668: [8292], 7185: [8248], 111: [4038], 5480: [7137], 115: [7372], 1140: [2980, 8058, 10632, 11386], 1141: [4771], 3703: [6300], 632: [5129], 633: [7246], 1658: [4622], 6779: [10349], 2684: [11782], 1149: [6628, 8772], 7445: [10589], 10371: [12293], 2693: [5983], 4742: [8970, 10211], 135: [6966], 4716: [7224], 4727: [11746], 7308: [10943], 654: [4509], 9581: [11337], 8849: [9497], 146: [7826], 1683: [9555], 6776: [8226], 2710: [6244], 7705: [10717], 2712: [10119], 1177: [10083], 3226: [3556, 4038], 1179: [3167], 5790: [9150], 671: [5475], 5795: [5966, 7727, 9232], 3749: [10919], 6311: [10371], 2728: [7317, 11529], 6428: [8608, 10016], 9062: [10280], 6316: [9741], 5743: [6147], 3246: [6048, 8187], 5405: [9150], 1148: [11310], 2738: [3981], 2739: [7832, 10365], 7013: [12062], 3256: [12342], 1721: [2324], 2746: [2825], 1211: [3881], 714: [1876, 3914], 2750: [6877], 703: [1837], 6944: [9034], 6877: [8735, 10688], 8985: [10107], 4804: [12102], 9413: [11343], 10321: [10559], 4030: [12130], 5467: [11295], 6860: [7372], 3274: [7830], 2423: [3653, 11581], 5324: [7989], 5326: [11207], 3279: [10906], 8912: [9581], 4728: [7311], 7203: [11429], 5332: [11376], 3877: [4562], 10187: [11102], 6265: [10478], 1240: [4718], 4825: [7690], 218: [9555], 3450: [4644], 293: [2803, 9624], 1248: [4175], 2273: [9515], 8827: [9323], 3812: [12030], 742: [7695], 2428: [5719], 3306: [11263], 2855: [7521], 3820: [10349], 3310: [6698], 2288: [10948], 2801: [6620], 4850: [9497], 5364: [11374], 245: [10970], 3830: [9274, 11388], 2295: [10086], 3320: [4342], 2812: [9916], 8490: [10000], 1278: [6178], 10016: [11655], 256: [11743], 6528: [7273], 3843: [8383, 9062], 772: [7065], 8150: [11472], 8768: [11080], 1287: [8735], 6444: [9129], 9049: [11635], 4877: [9829], 1806: [10603], 1325: [9555, 12369], 2832: [4650], 6418: [9047], 6932: [10554, 11066], 6030: [7620], 7958: [10231], 3352: [4973], 1305: [5218, 6820], 47: [2276, 10475], 3356: [9654], 3357: [8918, 10340, 11071], 2336: [11166], 8482: [8735], 5923: [8912, 9581, 11337], 1317: [9354], 3377: [6428], 2344: [11325], 809: [7404], 2858: [6844], 6023: [10478], 4396: [5389], 813: [1535], 2862: [10787], 5423: [8467], 1329: [7468], 818: [11295], 5941: [11159, 12028], 5942: [12233], 6967: [9743], 312: [8136], 2361: [7458], 5434: [11071], 3899: [6699], 394: [4798, 8608], 830: [4024], 9023: [12130], 224: [10000], 6978: [11931], 6980: [7541], 6966: [9150], 1351: [7977], 5451: [10688], 5966: [7206, 7727], 3981: [6328, 6515], 336: [10097], 6268: [6699], 2389: [8873], 10070: [10422], 857: [7404], 2394: [7578], 1935: [4549], 5468: [7013], 8614: [10717], 2910: [8735], 8543: [11069], 6367: [9009], 2915: [4240], 4838: [11081], 870: [3516], 4455: [5018], 3944: [10670], 4457: [5136], 3437: [3961, 7372], 3442: [8343], 9014: [12342], 3956: [11857], 4981: [7778], 887: [9323], 8568: [8605], 1402: [5212, 8529], 1404: [3310, 4850, 6698], 381: [2104, 5700], 894: [6430], 896: [3877], 5505: [10820], 6290: [8347], 8070: [10762], 4999: [7837], 3466: [9569], 6539: [8126], 1421: [6281], 3982: [4544, 8058], 2447: [9278, 11221], 1688: [6871, 7317], 6034: [12314], 3480: [7475], 409: [4201], 9677: [10234, 10632, 11211], 924: [7442], 2975: [10827], 5024: [11401], 8735: [10688], 2979: [5339], 8100: [9770], 934: [5458], 423: [7694], 3496: [7095], 2460: [9819], 7082: [10365], 327: [5326, 9636], 5362: [12051, 12061], 6962: [8431], 1967: [5249], 6749: [7033], 438: [7806], 6583: [10210], 8632: [9666], 8633: [11102], 3515: [4394], 2492: [5636], 4029: [7769, 10280], 958: [9023], 4544: [10774], 7414: [10549], 9154: [10592], 6987: [9497], 3012: [6797], 2501: [2877], 2504: [3457], 3529: [11175], 3831: [8633, 10187, 11102], 461: [2837], 2510: [8668, 10268], 3535: [12100], 8656: [10963], 9379: [12219], 469: [5129], 4054: [4070, 9323], 8663: [10112], 7767: [9062, 11326], 10234: [11211], 991: [2832], 3040: [5731], 9836: [11857], 3187: [3548], 3556: [8136], 3494: [10331], 4070: [9323], 4397: [10261], 252: [8867], 490: [9016], 9196: [9242], 3054: [4109], 8626: [9655], 4592: [11018], 1521: [8978], 501: [7250, 12289], 3063: [7729], 6228: [11095], 9210: [9770], 8701: [9420]}\n"
     ]
    },
    {
     "name": "stdout",
     "output_type": "stream",
     "text": [
      "10600\n",
      "{3585: [11280], 2563: [4029, 7977], 4102: [7735], 5641: [7680], 1034: [7133], 1547: [2738, 7177], 7180: [7957], 525: [3148], 5805: [7307], 2576: [4347], 529: [1299, 12248], 6676: [11249], 7468: [8791], 4121: [4191], 444: [1201], 543: [4285], 4640: [5515], 545: [11133], 2595: [8912, 9581, 11337], 549: [10919], 5542: [9056], 552: [3546], 6185: [6860], 6698: [10097], 263: [615], 5164: [5722], 45: [3556], 5166: [7769], 2607: [3464], 8752: [10097, 11634], 2097: [2120, 8841], 1074: [2980], 1075: [4676], 4660: [9782], 2613: [9593], 10231: [12406], 9174: [12096], 569: [6500], 1451: [6976], 3134: [8560], 7744: [9131], 577: [9278, 11652], 3083: [4562], 7246: [7439], 3653: [8446], 1095: [5941, 11159], 3658: [10447], 7095: [8213], 78: [714], 6840: [10845], 7372: [8581], 3155: [3454], 2644: [4883], 597: [8563], 1209: [11001], 3672: [10592], 7541: [7741], 6234: [6845], 1115: [1981], 4794: [9757], 5214: [11306], 4965: [8391], 3344: [6896], 5218: [5416, 6820, 8058, 10234], 699: [10331], 3942: [9788], 615: [11455], 4200: [11249], 3516: [11617], 8810: [11095], 1643: [5941], 2668: [8292], 7185: [8248], 111: [4038], 5480: [7137], 115: [7372], 1140: [2980, 8058, 10632, 11386], 1141: [4771], 3703: [6300], 632: [5129], 633: [7246], 1658: [4622], 6779: [10349], 2684: [11782], 1149: [6628, 8772], 7445: [10589], 10371: [12293], 2693: [5983], 4742: [8970, 10211], 135: [6966], 4716: [7224], 4727: [11746], 7308: [10943], 654: [4509], 9581: [11337], 8849: [9497], 146: [7826], 1683: [9555], 6776: [8226], 2710: [6244], 7705: [10717], 2712: [10119], 1177: [10083], 3226: [3556, 4038], 1179: [3167], 5790: [9150], 671: [5475], 5795: [5966, 7727, 9232], 3749: [10919], 6311: [10371], 2728: [7317, 11529], 6428: [8608, 10016], 9062: [10280], 6316: [9741], 5743: [6147], 3246: [6048, 8187], 5405: [9150], 1148: [11310], 2738: [3981], 2739: [7832, 10365], 7013: [12062], 3256: [12342], 1721: [2324], 2746: [2825], 1211: [3881], 714: [1876, 3914], 2750: [6877], 703: [1837], 6944: [9034], 6877: [8735, 10688], 8985: [10107], 4804: [12102], 9413: [11343], 10321: [10559], 4030: [12130], 5467: [11295], 6860: [7372], 3274: [7830], 2423: [3653, 11581], 5324: [7989], 5326: [11207], 3279: [10906], 8912: [9581], 4728: [7311], 7203: [11429], 5332: [11376], 3877: [4562], 10187: [11102], 6265: [10478], 1240: [4718], 4825: [7690], 218: [9555], 10554: [11343], 3450: [4644], 293: [2803, 9624], 1248: [4175], 2273: [9515], 8827: [9323], 3812: [12030], 742: [7695], 2428: [5719], 3306: [11263], 2855: [7521], 3820: [10349], 3310: [6698], 2288: [10948], 2801: [6620], 4850: [9497], 5364: [11374], 245: [10970], 3830: [9274, 11388], 2295: [10086], 3320: [4342], 2812: [9916], 8490: [10000], 1278: [6178], 10016: [11655], 256: [11743], 6528: [7273], 3843: [8383, 9062], 772: [7065], 8150: [11472], 8768: [11080], 1287: [8735], 6444: [9129], 9049: [11635], 4877: [9829], 1806: [10603], 1325: [9555, 12369], 2832: [4650], 6418: [9047], 6932: [10554, 11066], 6030: [7620], 7958: [10231], 3352: [4973], 1305: [5218, 6820], 47: [2276, 10475], 3356: [9654], 3357: [8918, 10340, 11071], 2336: [11166], 8482: [8735], 5923: [8912, 9581, 11337], 1317: [9354], 3377: [6428], 2344: [11325], 809: [7404], 2858: [6844], 6023: [10478], 4396: [5389], 813: [1535], 2862: [10787], 5423: [8467], 1329: [7468], 818: [11295], 5941: [11159, 12028], 5942: [12233], 6967: [9743], 312: [8136], 2361: [7458], 5434: [11071], 3899: [6699], 394: [4798, 8608], 830: [4024], 9023: [12130], 224: [10000], 6978: [11931], 6980: [7541], 6966: [9150], 1351: [7977], 5451: [10688], 5966: [7206, 7727], 3981: [6328, 6515], 336: [10097], 6268: [6699], 2389: [8873], 10070: [10422], 857: [7404], 2394: [7578], 1935: [4549], 5468: [7013], 8614: [10717], 2910: [8735], 8543: [11069], 6367: [9009], 2915: [4240], 4838: [11081], 870: [3516], 4455: [5018], 3944: [10670], 4457: [5136], 3437: [3961, 7372], 3442: [8343], 9014: [12342], 3956: [11857], 4981: [7778], 887: [9323], 8568: [8605], 1402: [5212, 8529], 1404: [3310, 4850, 6698], 381: [2104, 5700], 894: [6430], 896: [3877], 5505: [10820], 6290: [8347], 8070: [10762], 4999: [7837], 3466: [9569], 6539: [8126], 1421: [6281], 3982: [4544, 8058], 2447: [9278, 11221], 1688: [6871, 7317], 6034: [12314], 3480: [7475], 409: [4201], 9677: [10234, 10632, 11211], 924: [7442], 2975: [10827], 5024: [11401], 8735: [10688], 2979: [5339], 8100: [9770], 934: [5458], 423: [7694], 3496: [7095], 2460: [9819], 7082: [10365], 327: [5326, 9636], 5362: [12051, 12061], 6962: [8431], 1967: [5249], 6749: [7033], 438: [7806], 6583: [10210], 8632: [9666], 8633: [11102], 3515: [4394], 2492: [5636], 4029: [7769, 10280], 958: [9023], 4544: [10774], 7414: [10549], 9154: [10592], 6987: [9497], 3012: [6797], 2501: [2877], 2504: [3457], 3529: [11175], 3831: [8633, 10187, 11102], 461: [2837], 2510: [8668, 10268], 3535: [12100], 8656: [10963], 9379: [12219], 469: [5129], 4054: [4070, 9323], 8663: [10112], 7767: [9062, 11326], 10234: [11211], 991: [2832], 3040: [5731], 9836: [11857], 3187: [3548], 3556: [8136], 3494: [10331], 4070: [9323], 4397: [10261], 252: [8867], 490: [9016], 9196: [9242], 3054: [4109], 8626: [9655], 4592: [11018], 1521: [8978], 501: [7250, 12289], 3063: [7729], 6228: [11095], 9210: [9770], 8701: [9420]}\n",
      "10700\n",
      "{3585: [11280], 2563: [4029, 7977], 4102: [7735], 5641: [7680], 1034: [7133], 1547: [2738, 7177], 7180: [7957], 525: [3148], 5805: [7307], 2576: [4347], 529: [1299, 12248], 6676: [11249], 7468: [8791], 4121: [4191], 444: [1201], 543: [4285], 4640: [5515], 545: [11133], 2595: [8912, 9581, 11337], 549: [10919], 5542: [9056], 552: [3546], 6185: [6860], 6698: [10097], 263: [615], 5164: [5722], 45: [3556], 5166: [7769], 2607: [3464], 8752: [10097, 11634], 2097: [2120, 8841], 1074: [2980], 1075: [4676], 4660: [9782], 2613: [9593], 10231: [12406], 9174: [12096], 569: [6500], 1451: [6976], 3134: [8560], 7744: [9131], 577: [9278, 11652], 3083: [4562], 7246: [7439], 3653: [8446], 1095: [5941, 11159], 3658: [10447], 7095: [8213], 78: [714], 6840: [10845], 7372: [8581], 3155: [3454], 2644: [4883], 597: [8563], 1209: [11001], 3672: [10592], 7541: [7741], 6234: [6845], 1115: [1981], 4794: [9757], 5214: [11306], 4965: [8391], 3344: [6896], 5218: [5416, 6820, 8058, 10234], 699: [10331], 3942: [9788], 615: [11455], 4200: [11249], 3516: [11617], 8810: [11095], 1643: [5941], 2668: [8292], 7185: [8248], 111: [4038], 5480: [7137], 115: [7372], 1140: [2980, 8058, 10632, 11386], 1141: [4771], 3703: [6300], 632: [5129], 633: [7246], 1658: [4622], 6779: [10349], 2684: [11782], 1149: [6628, 8772], 7445: [10589], 10371: [12293], 2693: [5983], 4742: [8970, 10211], 135: [6966], 4716: [7224], 4727: [11746], 7308: [10943], 654: [4509], 9581: [11337], 8849: [9497], 146: [7826], 1683: [9555], 6776: [8226], 2710: [6244], 7705: [10717], 2712: [10119], 1177: [10083], 3226: [3556, 4038], 1179: [3167], 5790: [9150], 671: [5475], 5795: [5966, 7727, 9232], 3749: [10919], 6311: [10371], 2728: [7317, 11529], 6428: [8608, 10016], 9062: [10280], 6316: [9741], 5743: [6147], 3246: [6048, 8187], 5405: [9150], 1148: [11310], 2738: [3981], 2739: [7832, 10365], 7013: [12062], 3256: [12342], 1721: [2324], 2746: [2825], 1211: [3881], 714: [1876, 3914], 2750: [6877], 703: [1837], 6944: [9034], 6877: [8735, 10688], 8985: [10107], 4804: [12102], 9413: [11343], 10321: [10559], 4030: [12130], 5467: [11295], 6860: [7372], 3274: [7830], 2423: [3653, 11581], 5324: [7989], 5326: [11207], 3279: [10906], 8912: [9581], 4728: [7311], 7203: [11429], 5332: [11376], 3877: [4562], 10187: [11102], 6265: [10478], 1240: [4718], 4825: [7690], 218: [9555], 10554: [11343], 3450: [4644], 293: [2803, 9624], 1248: [4175], 2273: [9515], 8827: [9323], 3812: [12030], 742: [7695], 2428: [5719], 3306: [11263], 2855: [7521], 3820: [10349], 3310: [6698], 2288: [10948], 2801: [6620], 4850: [9497], 5364: [11374], 245: [10970], 3830: [9274, 11388], 2295: [10086], 3320: [4342], 2812: [9916], 8490: [10000], 1278: [6178], 10016: [11655], 256: [11743], 6528: [7273], 3843: [8383, 9062], 772: [7065], 8150: [11472], 8768: [11080], 1287: [8735], 6444: [9129], 9049: [11635], 4877: [9829], 1806: [10603], 1325: [9555, 12369], 2832: [4650], 6418: [9047], 6932: [10554, 11066], 6030: [7620], 7958: [10231], 3352: [4973], 1305: [5218, 6820], 47: [2276, 10475], 3356: [9654], 3357: [8918, 10340, 11071], 2336: [11166], 8482: [8735], 5923: [8912, 9581, 11337], 1317: [9354], 3377: [6428], 2344: [11325], 809: [7404], 2858: [6844], 6023: [10478], 4396: [5389], 813: [1535], 2862: [10787], 5423: [8467], 1329: [7468], 818: [11295], 5941: [11159, 12028], 5942: [12233], 6967: [9743], 312: [8136], 2361: [7458], 5434: [11071], 3899: [6699], 394: [4798, 8608], 830: [4024], 9023: [12130], 224: [10000], 6978: [11931], 6980: [7541], 6966: [9150], 1351: [7977], 5451: [10688], 5966: [7206, 7727], 3981: [6328, 6515], 336: [10097], 6268: [6699], 2389: [8873], 10070: [10422], 857: [7404], 2394: [7578], 1935: [4549], 5468: [7013], 8614: [10717], 2910: [8735], 8543: [11069], 6367: [9009], 2915: [4240], 4838: [11081], 870: [3516], 4455: [5018], 3944: [10670], 4457: [5136], 3437: [3961, 7372], 3442: [8343], 9014: [12342], 3956: [11857], 4981: [7778], 887: [9323], 8568: [8605], 10685: [12382], 1402: [5212, 8529], 1404: [3310, 4850, 6698], 381: [2104, 5700], 894: [6430], 896: [3877], 5505: [10820], 6290: [8347], 8070: [10762], 4999: [7837], 3466: [9569], 6539: [8126], 1421: [6281], 3982: [4544, 8058], 2447: [9278, 11221], 1688: [6871, 7317], 6034: [12314], 3480: [7475], 409: [4201], 9677: [10234, 10632, 11211], 924: [7442], 2975: [10827], 5024: [11401], 8735: [10688], 2979: [5339], 8100: [9770], 934: [5458], 423: [7694], 3496: [7095], 2460: [9819], 7082: [10365], 327: [5326, 9636], 5362: [12051, 12061], 6962: [8431], 1967: [5249], 6749: [7033], 438: [7806], 6583: [10210], 8632: [9666], 8633: [11102], 3515: [4394], 2492: [5636], 4029: [7769, 10280], 958: [9023], 4544: [10774], 7414: [10549], 9154: [10592], 6987: [9497], 3012: [6797], 2501: [2877], 2504: [3457], 3529: [11175], 3831: [8633, 10187, 11102], 461: [2837], 2510: [8668, 10268], 3535: [12100], 8656: [10963], 9379: [12219], 469: [5129], 4054: [4070, 9323], 8663: [10112], 7767: [9062, 11326], 10234: [11211], 991: [2832], 3040: [5731], 9836: [11857], 3187: [3548], 3556: [8136], 3494: [10331], 4070: [9323], 4397: [10261], 252: [8867], 490: [9016], 9196: [9242], 3054: [4109], 8626: [9655], 4592: [11018], 1521: [8978], 501: [7250, 12289], 3063: [7729], 6228: [11095], 9210: [9770], 8701: [9420]}\n"
     ]
    },
    {
     "name": "stdout",
     "output_type": "stream",
     "text": [
      "10800\n",
      "{3585: [11280], 2563: [4029, 7977], 4102: [7735], 5641: [7680], 1034: [7133], 1547: [2738, 7177], 7180: [7957], 525: [3148], 5805: [7307], 2576: [4347], 529: [1299, 12248], 6676: [11249], 7468: [8791], 4121: [4191], 444: [1201], 543: [4285], 4640: [5515], 545: [11133], 2595: [8912, 9581, 11337], 549: [10919], 5542: [9056], 552: [3546], 6185: [6860], 6698: [10097], 263: [615], 5164: [5722], 45: [3556], 5166: [7769], 2607: [3464], 8752: [10097, 11634], 2097: [2120, 8841], 1074: [2980], 1075: [4676], 4660: [9782], 2613: [9593], 10231: [12406], 9174: [12096], 569: [6500], 1451: [6976], 3134: [8560], 7744: [9131], 577: [9278, 11652], 3083: [4562], 7246: [7439], 3653: [8446], 1095: [5941, 11159], 3658: [10447], 7095: [8213], 78: [714], 6840: [10845], 7372: [8581], 3155: [3454], 2644: [4883], 597: [8563], 1209: [11001], 3672: [10592], 7541: [7741], 6234: [6845], 1115: [1981], 4794: [9757], 5214: [11306], 4965: [8391], 3344: [6896], 5218: [5416, 6820, 8058, 10234], 699: [10331], 3942: [9788], 615: [11455], 4200: [11249], 3516: [11617], 8810: [11095], 1643: [5941], 2668: [8292], 7185: [8248], 111: [4038], 5480: [7137], 115: [7372], 1140: [2980, 8058, 10632, 11386], 1141: [4771], 3703: [6300], 632: [5129], 633: [7246], 1658: [4622], 6779: [10349], 2684: [11782], 1149: [6628, 8772], 7445: [10589], 10371: [12293], 2693: [5983], 4742: [8970, 10211], 135: [6966], 4716: [7224], 4727: [11746], 7308: [10943], 654: [4509], 9581: [11337], 8849: [9497], 146: [7826], 1683: [9555], 6776: [8226], 2710: [6244], 7705: [10717], 2712: [10119], 1177: [10083], 3226: [3556, 4038], 1179: [3167], 5790: [9150], 671: [5475], 5795: [5966, 7727, 9232], 3749: [10919], 6311: [10371], 2728: [7317, 11529], 6428: [8608, 10016], 9062: [10280], 6316: [9741], 5743: [6147], 3246: [6048, 8187], 5405: [9150], 1148: [11310], 2738: [3981], 2739: [7832, 10365], 7013: [12062], 3256: [12342], 1721: [2324], 2746: [2825], 1211: [3881], 714: [1876, 3914], 2750: [6877], 703: [1837], 6944: [9034], 6877: [8735, 10688], 8985: [10107], 4804: [12102], 9413: [11343], 10321: [10559], 4030: [12130], 5467: [11295], 6860: [7372], 3274: [7830], 2423: [3653, 11581], 5324: [7989], 5326: [11207], 3279: [10906], 8912: [9581], 4728: [7311], 7203: [11429], 5332: [11376], 3877: [4562], 10187: [11102], 6265: [10478], 1240: [4718], 4825: [7690], 218: [9555], 10554: [11343], 3450: [4644], 293: [2803, 9624], 1248: [4175], 2273: [9515], 10717: [12062], 8827: [9323], 3812: [12030], 742: [7695], 2428: [5719], 3306: [11263], 2855: [7521], 3820: [10349], 3310: [6698], 2288: [10948], 2801: [6620], 4850: [9497], 5364: [11374], 245: [10970], 3830: [9274, 11388], 2295: [10086], 3320: [4342], 2812: [9916], 8490: [10000], 1278: [6178], 10016: [11655], 256: [11743], 6528: [7273], 3843: [8383, 9062], 772: [7065], 8150: [11472], 8768: [11080], 1287: [8735], 6444: [9129], 9049: [11635], 4877: [9829], 1806: [10603], 1325: [9555, 12369], 2832: [4650], 6418: [9047], 6932: [10554, 11066], 6030: [7620], 7958: [10231], 3352: [4973], 1305: [5218, 6820], 47: [2276, 10475], 3356: [9654], 3357: [8918, 10340, 11071], 2336: [11166], 8482: [8735], 5923: [8912, 9581, 11337], 1317: [9354], 3377: [6428], 2344: [11325], 809: [7404], 2858: [6844], 6023: [10478], 4396: [5389], 813: [1535], 2862: [10787], 5423: [8467], 1329: [7468], 818: [11295], 5941: [11159, 12028], 5942: [12233], 6967: [9743], 312: [8136], 2361: [7458], 5434: [11071], 3899: [6699], 394: [4798, 8608], 830: [4024], 9023: [12130], 224: [10000], 6978: [11931], 6980: [7541], 6966: [9150], 1351: [7977], 5451: [10688], 5966: [7206, 7727], 3981: [6328, 6515], 336: [10097], 6268: [6699], 2389: [8873], 10070: [10422], 857: [7404], 2394: [7578], 1935: [4549], 5468: [7013], 8614: [10717], 2910: [8735], 8543: [11069], 6367: [9009], 2915: [4240], 4838: [11081], 870: [3516], 4455: [5018], 3944: [10670], 4457: [5136], 3437: [3961, 7372], 3442: [8343], 9014: [12342], 3956: [11857], 4981: [7778], 887: [9323], 8568: [8605], 10685: [12382], 1402: [5212, 8529], 1404: [3310, 4850, 6698], 381: [2104, 5700], 894: [6430], 896: [3877], 5505: [10820], 6290: [8347], 8070: [10762], 4999: [7837], 3466: [9569], 6539: [8126], 1421: [6281], 3982: [4544, 8058], 2447: [9278, 11221], 1688: [6871, 7317], 6034: [12314], 3480: [7475], 409: [4201], 9677: [10234, 10632, 11211], 924: [7442], 2975: [10827], 5024: [11401], 8735: [10688], 2979: [5339], 8100: [9770], 934: [5458], 423: [7694], 3496: [7095], 2460: [9819], 7082: [10365], 327: [5326, 9636], 5362: [12051, 12061], 6962: [8431], 1967: [5249], 6749: [7033], 438: [7806], 6583: [10210], 8632: [9666], 8633: [11102], 3515: [4394], 2492: [5636], 4029: [7769, 10280], 958: [9023], 4544: [10774], 7414: [10549], 9154: [10592], 6987: [9497], 3012: [6797], 2501: [2877], 2504: [3457], 3529: [11175], 3831: [8633, 10187, 11102], 461: [2837], 2510: [8668, 10268], 3535: [12100], 8656: [10963], 9379: [12219], 469: [5129], 4054: [4070, 9323], 8663: [10112], 7767: [9062, 11326], 10234: [11211], 991: [2832], 3040: [5731], 9836: [11857], 3187: [3548], 3556: [8136], 3494: [10331], 4070: [9323], 4397: [10261], 252: [8867], 490: [9016], 9196: [9242], 3054: [4109], 8626: [9655], 4592: [11018], 1521: [8978], 501: [7250, 12289], 3063: [7729], 6228: [11095], 9210: [9770], 8701: [9420]}\n",
      "10900\n",
      "{4102: [7735], 1034: [7133], 3083: [4562], 7180: [7957], 7185: [8248], 857: [7404], 4121: [4191], 7203: [11429], 6185: [6860], 5164: [5722], 45: [3556], 5166: [7769], 47: [2276, 10475], 2097: [2120, 8841], 1074: [2980], 1075: [4676], 3134: [8560], 1095: [5941, 11159], 7246: [7439], 10321: [10559], 3155: [3454], 6228: [11095], 6234: [6845], 1115: [1981], 2746: [2825], 5214: [11306], 7013: [12062], 5218: [5416, 6820, 8058, 10234], 9062: [10280], 4200: [11249], 111: [4038], 115: [7372], 1140: [2980, 8058, 10632, 11386], 1141: [4771], 6265: [10478], 1148: [11310], 1149: [6628, 8772], 10371: [12293], 135: [6966], 7308: [10943], 3437: [3961, 7372], 146: [7826], 1177: [10083], 3226: [3556, 4038], 1179: [3167], 9379: [12219], 6311: [10371], 6316: [9741], 3246: [6048, 8187], 3256: [12342], 1209: [11001], 1211: [3881], 9413: [11343], 5324: [7989], 3274: [7830], 7372: [8581], 5326: [11207], 3279: [10906], 5332: [11376], 1240: [4718], 218: [9555], 1402: [5212, 8529], 6367: [9009], 1248: [4175], 2273: [9515], 1404: [3310, 4850, 6698], 3306: [11263], 3310: [6698], 2288: [10948], 5362: [12051, 12061], 5364: [11374], 245: [10970], 7414: [10549], 2295: [10086], 3320: [4342], 4396: [5389], 252: [8867], 1278: [6178], 256: [11743], 263: [615], 3344: [6896], 6418: [9047], 7445: [10589], 3352: [4973], 1305: [5218, 6820], 6428: [8608, 10016], 5405: [9150], 2336: [11166], 8482: [8735], 293: [2803, 9624], 2344: [11325], 8490: [10000], 4999: [7837], 7468: [8791], 1325: [9555, 12369], 5423: [8467], 3377: [6428], 312: [8136], 2361: [7458], 10554: [11343], 3466: [9569], 224: [10000], 1351: [7977], 5451: [10688], 336: [10097], 2389: [8873], 2394: [7578], 5467: [11295], 5468: [7013], 8543: [11069], 4838: [11081], 4455: [5018], 5480: [7137], 4457: [5136], 9581: [11337], 3442: [8343], 9014: [12342], 7541: [7741], 2423: [3653, 11581], 8568: [8605], 3450: [4644], 2428: [5719], 381: [2104, 5700], 6528: [7273], 8768: [11080], 394: [4798, 8608], 6539: [8126], 1421: [6281], 2447: [9278, 11221], 3480: [7475], 409: [4201], 2460: [9819], 5542: [9056], 423: [7694], 3496: [7095], 1451: [6976], 8626: [9655], 3356: [9654], 6583: [10210], 8632: [9666], 8633: [11102], 3515: [4394], 444: [1201], 10685: [12382], 4544: [10774], 2501: [2877], 2504: [3457], 3529: [11175], 2492: [5636], 9677: [10234, 10632, 11211], 2510: [8668, 10268], 3535: [12100], 5505: [10820], 78: [714], 8663: [10112], 10717: [12062], 9836: [11857], 3187: [3548], 3556: [8136], 8614: [10717], 3494: [10331], 490: [9016], 4592: [11018], 1521: [8978], 501: [7250, 12289], 8701: [9420], 3585: [11280], 2563: [4029, 7977], 5641: [7680], 1547: [2738, 7177], 525: [3148], 2576: [4347], 529: [1299, 12248], 6676: [11249], 870: [3516], 7705: [10717], 543: [4285], 4640: [5515], 545: [11133], 2595: [8912, 9581, 11337], 549: [10919], 552: [3546], 6698: [10097], 1287: [8735], 2607: [3464], 8752: [10097, 11634], 4660: [9782], 2613: [9593], 569: [6500], 7744: [9131], 577: [9278, 11652], 3653: [8446], 3658: [10447], 2644: [4883], 597: [8563], 7767: [9062, 11326], 3672: [10592], 6749: [7033], 615: [11455], 3516: [11617], 8810: [11095], 1643: [5941], 2668: [8292], 5743: [6147], 958: [9023], 3703: [6300], 632: [5129], 633: [7246], 1658: [4622], 6779: [10349], 2684: [11782], 2693: [5983], 4742: [8970, 10211], 4716: [7224], 654: [4509], 8849: [9497], 1683: [9555], 2710: [6244], 2712: [10119], 5790: [9150], 671: [5475], 5795: [5966, 7727, 9232], 3749: [10919], 2728: [7317, 11529], 4728: [7311], 5805: [7307], 3357: [8918, 10340, 11071], 2738: [3981], 2739: [7832, 10365], 6840: [10845], 1721: [2324], 4794: [9757], 699: [10331], 2750: [6877], 703: [1837], 10016: [11655], 4804: [12102], 714: [1876, 3914], 4727: [11746], 6860: [7372], 461: [2837], 8912: [9581], 6776: [8226], 4825: [7690], 6877: [8735, 10688], 1317: [9354], 8656: [10963], 8827: [9323], 3812: [12030], 742: [7695], 6268: [6699], 3820: [10349], 2801: [6620], 4850: [9497], 3830: [9274, 11388], 3831: [8633, 10187, 11102], 2812: [9916], 469: [5129], 3843: [8383, 9062], 772: [7065], 8150: [11472], 6444: [9129], 4877: [9829], 1806: [10603], 4397: [10261], 2832: [4650], 6932: [10554, 11066], 7958: [10231], 8985: [10107], 6944: [9034], 5923: [8912, 9581, 11337], 3877: [4562], 3982: [4544, 8058], 2855: [7521], 809: [7404], 2858: [6844], 813: [1535], 2862: [10787], 818: [11295], 5941: [11159, 12028], 5942: [12233], 6967: [9743], 3899: [6699], 830: [4024], 9023: [12130], 6978: [11931], 6980: [7541], 6966: [9150], 6987: [9497], 5966: [7206, 7727], 10070: [10422], 3063: [7729], 9049: [11635], 5434: [11071], 2910: [8735], 2915: [4240], 4965: [8391], 3942: [9788], 438: [7806], 3944: [10670], 6290: [8347], 3956: [11857], 4981: [7778], 887: [9323], 894: [6430], 896: [3877], 8070: [10762], 6023: [10478], 3981: [6328, 6515], 6030: [7620], 1935: [4549], 1688: [6871, 7317], 6034: [12314], 4054: [4070, 9323], 924: [7442], 2975: [10827], 5024: [11401], 8735: [10688], 2979: [5339], 8100: [9770], 10874: [10931], 934: [5458], 7082: [10365], 327: [5326, 9636], 6962: [8431], 1967: [5249], 7095: [8213], 4029: [7769, 10280], 4030: [12130], 9154: [10592], 3012: [6797], 10187: [11102], 9174: [12096], 9210: [9770], 991: [2832], 3040: [5731], 4070: [9323], 9196: [9242], 1329: [7468], 3054: [4109], 10231: [12406], 10234: [11211]}\n"
     ]
    },
    {
     "name": "stdout",
     "output_type": "stream",
     "text": [
      "11000\n",
      "{4102: [7735], 1034: [7133], 3083: [4562], 7180: [7957], 7185: [8248], 857: [7404], 4121: [4191], 7203: [11429], 6185: [6860], 5164: [5722], 45: [3556], 5166: [7769], 47: [2276, 10475], 2097: [2120, 8841], 1074: [2980], 1075: [4676], 3134: [8560], 1095: [5941, 11159], 7246: [7439], 10321: [10559], 3155: [3454], 6228: [11095], 6234: [6845], 1115: [1981], 2746: [2825], 5214: [11306], 7013: [12062], 5218: [5416, 6820, 8058, 10234], 9062: [10280], 4200: [11249], 111: [4038], 115: [7372], 1140: [2980, 8058, 10632, 11386], 1141: [4771], 6265: [10478], 1148: [11310], 1149: [6628, 8772], 10371: [12293], 135: [6966], 7308: [10943], 3437: [3961, 7372], 146: [7826], 1177: [10083], 3226: [3556, 4038], 1179: [3167], 9379: [12219], 6311: [10371], 6316: [9741], 3246: [6048, 8187], 3256: [12342], 1209: [11001], 1211: [3881], 9413: [11343], 5324: [7989], 3274: [7830], 7372: [8581], 5326: [11207], 3279: [10906], 5332: [11376], 1240: [4718], 218: [9555], 1402: [5212, 8529], 6367: [9009], 1248: [4175], 2273: [9515], 1404: [3310, 4850, 6698], 3306: [11263], 3310: [6698], 2288: [10948], 5362: [12051, 12061], 5364: [11374], 245: [10970], 7414: [10549], 2295: [10086], 3320: [4342], 4396: [5389], 252: [8867], 1278: [6178], 256: [11743], 263: [615], 3344: [6896], 6418: [9047], 7445: [10589], 3352: [4973], 1305: [5218, 6820], 6428: [8608, 10016], 5405: [9150], 2336: [11166], 8482: [8735], 293: [2803, 9624], 2344: [11325], 8490: [10000], 4999: [7837], 7468: [8791], 1325: [9555, 12369], 5423: [8467], 3377: [6428], 312: [8136], 2361: [7458], 10554: [11343], 3466: [9569], 224: [10000], 1351: [7977], 5451: [10688], 336: [10097], 2389: [8873], 2394: [7578], 5467: [11295], 5468: [7013], 8543: [11069], 4838: [11081], 4455: [5018], 5480: [7137], 4457: [5136], 9581: [11337], 3442: [8343], 9014: [12342], 7541: [7741], 2423: [3653, 11581], 8568: [8605], 3450: [4644], 2428: [5719], 381: [2104, 5700], 6528: [7273], 8768: [11080], 394: [4798, 8608], 6539: [8126], 1421: [6281], 2447: [9278, 11221], 3480: [7475], 409: [4201], 2460: [9819], 5542: [9056], 423: [7694], 3496: [7095], 1451: [6976], 8626: [9655], 3356: [9654], 6583: [10210], 8632: [9666], 8633: [11102], 3515: [4394], 444: [1201], 10685: [12382], 4544: [10774], 2501: [2877], 2504: [3457], 3529: [11175], 2492: [5636], 9677: [10234, 10632, 11211], 2510: [8668, 10268], 3535: [12100], 5505: [10820], 78: [714], 8663: [10112], 10717: [12062], 9836: [11857], 3187: [3548], 3556: [8136], 8614: [10717], 3494: [10331], 490: [9016], 4592: [11018], 1521: [8978], 501: [7250, 12289], 8701: [9420], 3585: [11280], 2563: [4029, 7977], 5641: [7680], 1547: [2738, 7177], 525: [3148], 2576: [4347], 529: [1299, 12248], 6676: [11249], 870: [3516], 7705: [10717], 543: [4285], 4640: [5515], 545: [11133], 2595: [8912, 9581, 11337], 549: [10919], 552: [3546], 6698: [10097], 1287: [8735], 2607: [3464], 8752: [10097, 11634], 4660: [9782], 2613: [9593], 569: [6500], 7744: [9131], 577: [9278, 11652], 3653: [8446], 3658: [10447], 2644: [4883], 597: [8563], 7767: [9062, 11326], 3672: [10592], 6749: [7033], 615: [11455], 3516: [11617], 8810: [11095], 1643: [5941], 2668: [8292], 5743: [6147], 958: [9023], 3703: [6300], 632: [5129], 633: [7246], 1658: [4622], 6779: [10349], 2684: [11782], 2693: [5983], 4742: [8970, 10211], 4716: [7224], 654: [4509], 8849: [9497], 1683: [9555], 2710: [6244], 2712: [10119], 5790: [9150], 671: [5475], 5795: [5966, 7727, 9232], 3749: [10919], 2728: [7317, 11529], 4728: [7311], 5805: [7307], 3357: [8918, 10340, 11071], 2738: [3981], 2739: [7832, 10365], 6840: [10845], 1721: [2324], 4794: [9757], 699: [10331], 2750: [6877], 703: [1837], 10016: [11655], 4804: [12102], 714: [1876, 3914], 4727: [11746], 6860: [7372], 461: [2837], 8912: [9581], 6776: [8226], 4825: [7690], 6877: [8735, 10688], 1317: [9354], 8656: [10963], 8827: [9323], 3812: [12030], 742: [7695], 6268: [6699], 3820: [10349], 2801: [6620], 4850: [9497], 3830: [9274, 11388], 3831: [8633, 10187, 11102], 2812: [9916], 469: [5129], 3843: [8383, 9062], 772: [7065], 8150: [11472], 6444: [9129], 4877: [9829], 1806: [10603], 4397: [10261], 2832: [4650], 6932: [10554, 11066], 7958: [10231], 8985: [10107], 6944: [9034], 5923: [8912, 9581, 11337], 3877: [4562], 3982: [4544, 8058], 2855: [7521], 809: [7404], 2858: [6844], 813: [1535], 2862: [10787], 818: [11295], 5941: [11159, 12028], 5942: [12233], 6967: [9743], 3899: [6699], 830: [4024], 9023: [12130], 6978: [11931], 6980: [7541], 6966: [9150], 6987: [9497], 5966: [7206, 7727], 10904: [12057], 10070: [10422], 3063: [7729], 9049: [11635], 5434: [11071], 2910: [8735], 2915: [4240], 4965: [8391], 3942: [9788], 438: [7806], 3944: [10670], 6290: [8347], 3956: [11857], 4981: [7778], 887: [9323], 894: [6430], 896: [3877], 8070: [10762], 6023: [10478], 3981: [6328, 6515], 6030: [7620], 1935: [4549], 1688: [6871, 7317], 6034: [12314], 4054: [4070, 9323], 924: [7442], 2975: [10827], 5024: [11401], 8735: [10688], 2979: [5339], 8100: [9770], 10874: [10931], 934: [5458], 7082: [10365], 327: [5326, 9636], 6962: [8431], 1967: [5249], 7095: [8213], 4029: [7769, 10280], 4030: [12130], 9154: [10592], 3012: [6797], 10187: [11102], 9174: [12096], 9210: [9770], 991: [2832], 3040: [5731], 4070: [9323], 9196: [9242], 1329: [7468], 3054: [4109], 10231: [12406], 10234: [11211]}\n",
      "11100\n",
      "{4102: [7735], 1034: [7133], 3083: [4562], 7180: [7957], 7185: [8248], 857: [7404], 4121: [4191], 7203: [11429], 6185: [6860], 5164: [5722], 45: [3556], 5166: [7769], 47: [2276, 10475], 2097: [2120, 8841], 1074: [2980], 1075: [4676], 3134: [8560], 1095: [5941, 11159], 7246: [7439], 10321: [10559], 3155: [3454], 6228: [11095], 6234: [6845], 1115: [1981], 2746: [2825], 5214: [11306], 7013: [12062], 5218: [5416, 6820, 8058, 10234], 9062: [10280], 4200: [11249], 111: [4038], 115: [7372], 1140: [2980, 8058, 10632, 11386], 1141: [4771], 6265: [10478], 1148: [11310], 1149: [6628, 8772], 10371: [12293], 135: [6966], 7308: [10943], 3437: [3961, 7372], 146: [7826], 1177: [10083], 3226: [3556, 4038], 1179: [3167], 9379: [12219], 6311: [10371], 6316: [9741], 3246: [6048, 8187], 3256: [12342], 1209: [11001], 1211: [3881], 9413: [11343], 5324: [7989], 3274: [7830], 7372: [8581], 5326: [11207], 3279: [10906], 5332: [11376], 1240: [4718], 218: [9555], 1402: [5212, 8529], 6367: [9009], 1248: [4175], 2273: [9515], 1404: [3310, 4850, 6698], 3306: [11263], 3310: [6698], 2288: [10948], 5362: [12051, 12061], 5364: [11374], 245: [10970], 7414: [10549], 2295: [10086], 3320: [4342], 4396: [5389], 252: [8867], 1278: [6178], 256: [11743], 263: [615], 3344: [6896], 6418: [9047], 7445: [10589], 3352: [4973], 1305: [5218, 6820], 6428: [8608, 10016], 5405: [9150], 2336: [11166], 8482: [8735], 293: [2803, 9624], 2344: [11325], 8490: [10000], 4999: [7837], 7468: [8791], 1325: [9555, 12369], 5423: [8467], 3377: [6428], 312: [8136], 2361: [7458], 10554: [11343], 3466: [9569], 224: [10000], 1351: [7977], 5451: [10688], 336: [10097], 2389: [8873], 2394: [7578], 5467: [11295], 5468: [7013], 8543: [11069], 4838: [11081], 4455: [5018], 5480: [7137], 4457: [5136], 9581: [11337], 3442: [8343], 9014: [12342], 7541: [7741], 2423: [3653, 11581], 8568: [8605], 3450: [4644], 2428: [5719], 381: [2104, 5700], 6528: [7273], 8768: [11080], 394: [4798, 8608], 6539: [8126], 1421: [6281], 2447: [9278, 11221], 3480: [7475], 409: [4201], 2460: [9819], 5542: [9056], 423: [7694], 3496: [7095], 1451: [6976], 8626: [9655], 3356: [9654], 6583: [10210], 8632: [9666], 8633: [11102], 3515: [4394], 444: [1201], 10685: [12382], 4544: [10774], 2501: [2877], 2504: [3457], 3529: [11175], 2492: [5636], 9677: [10234, 10632, 11211], 2510: [8668, 10268], 3535: [12100], 5505: [10820], 78: [714], 8663: [10112], 10717: [12062], 9836: [11857], 3187: [3548], 3556: [8136], 8614: [10717], 3494: [10331], 490: [9016], 4592: [11018], 1521: [8978], 501: [7250, 12289], 8701: [9420], 3585: [11280], 2563: [4029, 7977], 5641: [7680], 1547: [2738, 7177], 525: [3148], 2576: [4347], 529: [1299, 12248], 6676: [11249], 870: [3516], 7705: [10717], 543: [4285], 4640: [5515], 545: [11133], 2595: [8912, 9581, 11337], 549: [10919], 552: [3546], 6698: [10097], 1287: [8735], 2607: [3464], 8752: [10097, 11634], 4660: [9782], 2613: [9593], 569: [6500], 7744: [9131], 577: [9278, 11652], 3653: [8446], 3658: [10447], 2644: [4883], 597: [8563], 7767: [9062, 11326], 3672: [10592], 6749: [7033], 615: [11455], 3516: [11617], 8810: [11095], 1643: [5941], 2668: [8292], 5743: [6147], 958: [9023], 3703: [6300], 632: [5129], 633: [7246], 1658: [4622], 6779: [10349], 2684: [11782], 2693: [5983], 4742: [8970, 10211], 4716: [7224], 654: [4509], 8849: [9497], 1683: [9555], 2710: [6244], 2712: [10119], 5790: [9150], 671: [5475], 5795: [5966, 7727, 9232], 3749: [10919], 2728: [7317, 11529], 4728: [7311], 5805: [7307], 3357: [8918, 10340, 11071], 2738: [3981], 2739: [7832, 10365], 6840: [10845], 1721: [2324], 4794: [9757], 699: [10331], 2750: [6877], 703: [1837], 10016: [11655], 4804: [12102], 714: [1876, 3914], 4727: [11746], 6860: [7372], 461: [2837], 8912: [9581], 6776: [8226], 4825: [7690], 6877: [8735, 10688], 1317: [9354], 8656: [10963], 8827: [9323], 3812: [12030], 742: [7695], 6268: [6699], 3820: [10349], 2801: [6620], 4850: [9497], 3830: [9274, 11388], 3831: [8633, 10187, 11102], 2812: [9916], 469: [5129], 3843: [8383, 9062], 772: [7065], 8150: [11472], 6444: [9129], 4877: [9829], 1806: [10603], 4397: [10261], 2832: [4650], 6932: [10554, 11066], 7958: [10231], 8985: [10107], 6944: [9034], 5923: [8912, 9581, 11337], 3877: [4562], 3982: [4544, 8058], 2855: [7521], 809: [7404], 2858: [6844], 813: [1535], 2862: [10787], 818: [11295], 5941: [11159, 12028], 5942: [12233], 6967: [9743], 11066: [11343], 3899: [6699], 830: [4024], 9023: [12130], 6978: [11931], 6980: [7541], 6966: [9150], 6987: [9497], 5966: [7206, 7727], 10904: [12057], 10070: [10422], 3063: [7729], 9049: [11635], 5434: [11071], 2910: [8735], 2915: [4240], 4965: [8391], 3942: [9788], 438: [7806], 3944: [10670], 6290: [8347], 3956: [11857], 4981: [7778], 887: [9323], 894: [6430], 896: [3877], 8070: [10762], 6023: [10478], 3981: [6328, 6515], 6030: [7620], 1935: [4549], 1688: [6871, 7317], 6034: [12314], 4054: [4070, 9323], 924: [7442], 2975: [10827], 5024: [11401], 8735: [10688], 2979: [5339], 8100: [9770], 10874: [10931], 934: [5458], 7082: [10365], 327: [5326, 9636], 6962: [8431], 1967: [5249], 7095: [8213], 4029: [7769, 10280], 4030: [12130], 9154: [10592], 3012: [6797], 10187: [11102], 9174: [12096], 9210: [9770], 991: [2832], 3040: [5731], 4070: [9323], 9196: [9242], 1329: [7468], 3054: [4109], 10231: [12406], 10234: [11211]}\n"
     ]
    },
    {
     "name": "stdout",
     "output_type": "stream",
     "text": [
      "11200\n",
      "{4102: [7735], 1034: [7133], 3083: [4562], 7180: [7957], 7185: [8248], 857: [7404], 4121: [4191], 7203: [11429], 6185: [6860], 5164: [5722], 45: [3556], 5166: [7769], 47: [2276, 10475], 2097: [2120, 8841], 1074: [2980], 1075: [4676], 3134: [8560], 1095: [5941, 11159], 7246: [7439], 10321: [10559], 3155: [3454], 6228: [11095], 6234: [6845], 1115: [1981], 2746: [2825], 5214: [11306], 7013: [12062], 5218: [5416, 6820, 8058, 10234], 9062: [10280], 4200: [11249], 111: [4038], 115: [7372], 1140: [2980, 8058, 10632, 11386], 1141: [4771], 6265: [10478], 1148: [11310], 1149: [6628, 8772], 10371: [12293], 135: [6966], 7308: [10943], 3437: [3961, 7372], 146: [7826], 1177: [10083], 3226: [3556, 4038], 1179: [3167], 9379: [12219], 6311: [10371], 6316: [9741], 3246: [6048, 8187], 3256: [12342], 1209: [11001], 1211: [3881], 9413: [11343], 5324: [7989], 3274: [7830], 7372: [8581], 5326: [11207], 3279: [10906], 5332: [11376], 1240: [4718], 218: [9555], 1402: [5212, 8529], 6367: [9009], 1248: [4175], 2273: [9515], 1404: [3310, 4850, 6698], 3306: [11263], 3310: [6698], 2288: [10948], 5362: [12051, 12061], 5364: [11374], 245: [10970], 7414: [10549], 2295: [10086], 3320: [4342], 4396: [5389], 252: [8867], 1278: [6178], 256: [11743], 263: [615], 3344: [6896], 6418: [9047], 7445: [10589], 3352: [4973], 1305: [5218, 6820], 6428: [8608, 10016], 5405: [9150], 2336: [11166], 8482: [8735], 293: [2803, 9624], 2344: [11325], 8490: [10000], 4999: [7837], 7468: [8791], 1325: [9555, 12369], 5423: [8467], 3377: [6428], 312: [8136], 2361: [7458], 10554: [11343], 3466: [9569], 224: [10000], 1351: [7977], 5451: [10688], 336: [10097], 2389: [8873], 2394: [7578], 5467: [11295], 5468: [7013], 8543: [11069], 4838: [11081], 4455: [5018], 5480: [7137], 4457: [5136], 9581: [11337], 3442: [8343], 9014: [12342], 7541: [7741], 2423: [3653, 11581], 8568: [8605], 3450: [4644], 2428: [5719], 381: [2104, 5700], 6528: [7273], 8768: [11080], 394: [4798, 8608], 6539: [8126], 1421: [6281], 2447: [9278, 11221], 3480: [7475], 409: [4201], 2460: [9819], 5542: [9056], 423: [7694], 3496: [7095], 1451: [6976], 8626: [9655], 3356: [9654], 6583: [10210], 8632: [9666], 8633: [11102], 3515: [4394], 444: [1201], 10685: [12382], 4544: [10774], 2501: [2877], 2504: [3457], 3529: [11175], 2492: [5636], 9677: [10234, 10632, 11211], 2510: [8668, 10268], 3535: [12100], 5505: [10820], 78: [714], 8663: [10112], 10717: [12062], 9836: [11857], 3187: [3548], 3556: [8136], 8614: [10717], 3494: [10331], 490: [9016], 4592: [11018], 1521: [8978], 501: [7250, 12289], 8701: [9420], 3585: [11280], 2563: [4029, 7977], 5641: [7680], 1547: [2738, 7177], 525: [3148], 2576: [4347], 529: [1299, 12248], 6676: [11249], 870: [3516], 7705: [10717], 543: [4285], 4640: [5515], 545: [11133], 2595: [8912, 9581, 11337], 549: [10919], 552: [3546], 6698: [10097], 1287: [8735], 2607: [3464], 8752: [10097, 11634], 4660: [9782], 2613: [9593], 569: [6500], 7744: [9131], 577: [9278, 11652], 3653: [8446], 3658: [10447], 2644: [4883], 597: [8563], 7767: [9062, 11326], 3672: [10592], 6749: [7033], 615: [11455], 3516: [11617], 8810: [11095], 1643: [5941], 2668: [8292], 5743: [6147], 958: [9023], 3703: [6300], 632: [5129], 633: [7246], 1658: [4622], 6779: [10349], 2684: [11782], 2693: [5983], 4742: [8970, 10211], 4716: [7224], 654: [4509], 8849: [9497], 1683: [9555], 2710: [6244], 2712: [10119], 5790: [9150], 671: [5475], 5795: [5966, 7727, 9232], 3749: [10919], 2728: [7317, 11529], 4728: [7311], 5805: [7307], 3357: [8918, 10340, 11071], 2738: [3981], 2739: [7832, 10365], 6840: [10845], 1721: [2324], 4794: [9757], 699: [10331], 2750: [6877], 703: [1837], 10016: [11655], 4804: [12102], 714: [1876, 3914], 4727: [11746], 6860: [7372], 461: [2837], 8912: [9581], 6776: [8226], 4825: [7690], 6877: [8735, 10688], 1317: [9354], 8656: [10963], 8827: [9323], 3812: [12030], 742: [7695], 6268: [6699], 3820: [10349], 2801: [6620], 4850: [9497], 3830: [9274, 11388], 3831: [8633, 10187, 11102], 2812: [9916], 469: [5129], 3843: [8383, 9062], 772: [7065], 8150: [11472], 6444: [9129], 4877: [9829], 1806: [10603], 4397: [10261], 2832: [4650], 6932: [10554, 11066], 7958: [10231], 8985: [10107], 6944: [9034], 5923: [8912, 9581, 11337], 3877: [4562], 3982: [4544, 8058], 2855: [7521], 809: [7404], 2858: [6844], 813: [1535], 2862: [10787], 818: [11295], 5941: [11159, 12028], 5942: [12233], 6967: [9743], 11066: [11343], 3899: [6699], 830: [4024], 9023: [12130], 6978: [11931], 6980: [7541], 6966: [9150], 6987: [9497], 5966: [7206, 7727], 10904: [12057], 10070: [10422], 3063: [7729], 9049: [11635], 5434: [11071], 2910: [8735], 2915: [4240], 4965: [8391], 3942: [9788], 438: [7806], 3944: [10670], 6290: [8347], 3956: [11857], 4981: [7778], 887: [9323], 894: [6430], 896: [3877], 8070: [10762], 6023: [10478], 3981: [6328, 6515], 6030: [7620], 1935: [4549], 1688: [6871, 7317], 6034: [12314], 4054: [4070, 9323], 924: [7442], 2975: [10827], 5024: [11401], 8735: [10688], 2979: [5339], 8100: [9770], 10874: [10931], 934: [5458], 7082: [10365], 327: [5326, 9636], 6962: [8431], 1967: [5249], 7095: [8213], 4029: [7769, 10280], 4030: [12130], 9154: [10592], 3012: [6797], 10187: [11102], 9174: [12096], 9210: [9770], 991: [2832], 3040: [5731], 4070: [9323], 9196: [9242], 1329: [7468], 3054: [4109], 10231: [12406], 10234: [11211]}\n",
      "11300\n",
      "{4102: [7735], 1034: [7133], 3083: [4562], 7180: [7957], 7185: [8248], 857: [7404], 4121: [4191], 7203: [11429], 6185: [6860], 5164: [5722], 45: [3556], 5166: [7769], 47: [2276, 10475], 2097: [2120, 8841], 1074: [2980], 1075: [4676], 3134: [8560], 1095: [5941, 11159], 7246: [7439], 10321: [10559], 3155: [3454], 6228: [11095], 6234: [6845], 1115: [1981], 2746: [2825], 5214: [11306], 7013: [12062], 5218: [5416, 6820, 8058, 10234], 9062: [10280], 4200: [11249], 111: [4038], 115: [7372], 1140: [2980, 8058, 10632, 11386], 1141: [4771], 6265: [10478], 1148: [11310], 1149: [6628, 8772], 10371: [12293], 135: [6966], 7308: [10943], 3437: [3961, 7372], 146: [7826], 1177: [10083], 3226: [3556, 4038], 1179: [3167], 9379: [12219], 6311: [10371], 6316: [9741], 3246: [6048, 8187], 3256: [12342], 1209: [11001], 1211: [3881], 9413: [11343], 5324: [7989], 3274: [7830], 7372: [8581], 5326: [11207], 3279: [10906], 5332: [11376], 1240: [4718], 218: [9555], 1402: [5212, 8529], 6367: [9009], 1248: [4175], 2273: [9515], 1404: [3310, 4850, 6698], 3306: [11263], 3310: [6698], 2288: [10948], 5362: [12051, 12061], 5364: [11374], 245: [10970], 7414: [10549], 2295: [10086], 3320: [4342], 4396: [5389], 252: [8867], 1278: [6178], 256: [11743], 263: [615], 3344: [6896], 6418: [9047], 7445: [10589], 3352: [4973], 1305: [5218, 6820], 6428: [8608, 10016], 5405: [9150], 2336: [11166], 8482: [8735], 293: [2803, 9624], 2344: [11325], 8490: [10000], 4999: [7837], 7468: [8791], 1325: [9555, 12369], 5423: [8467], 3377: [6428], 312: [8136], 2361: [7458], 10554: [11343], 3466: [9569], 224: [10000], 1351: [7977], 5451: [10688], 336: [10097], 2389: [8873], 2394: [7578], 5467: [11295], 5468: [7013], 8543: [11069], 4838: [11081], 4455: [5018], 5480: [7137], 4457: [5136], 9581: [11337], 3442: [8343], 9014: [12342], 7541: [7741], 2423: [3653, 11581], 8568: [8605], 3450: [4644], 2428: [5719], 381: [2104, 5700], 6528: [7273], 8768: [11080], 394: [4798, 8608], 6539: [8126], 1421: [6281], 2447: [9278, 11221], 3480: [7475], 409: [4201], 2460: [9819], 5542: [9056], 423: [7694], 3496: [7095], 1451: [6976], 8626: [9655], 3356: [9654], 6583: [10210], 8632: [9666], 8633: [11102], 3515: [4394], 444: [1201], 10685: [12382], 4544: [10774], 2501: [2877], 2504: [3457], 3529: [11175], 2492: [5636], 9677: [10234, 10632, 11211], 2510: [8668, 10268], 3535: [12100], 5505: [10820], 78: [714], 8663: [10112], 10717: [12062], 9836: [11857], 3187: [3548], 3556: [8136], 8614: [10717], 3494: [10331], 490: [9016], 4592: [11018], 1521: [8978], 501: [7250, 12289], 8701: [9420], 3585: [11280], 2563: [4029, 7977], 5641: [7680], 1547: [2738, 7177], 525: [3148], 2576: [4347], 529: [1299, 12248], 6676: [11249], 870: [3516], 7705: [10717], 543: [4285], 4640: [5515], 545: [11133], 2595: [8912, 9581, 11337], 549: [10919], 552: [3546], 6698: [10097], 1287: [8735], 2607: [3464], 8752: [10097, 11634], 4660: [9782], 2613: [9593], 569: [6500], 7744: [9131], 577: [9278, 11652], 3653: [8446], 3658: [10447], 2644: [4883], 597: [8563], 7767: [9062, 11326], 3672: [10592], 6749: [7033], 615: [11455], 3516: [11617], 8810: [11095], 1643: [5941], 2668: [8292], 5743: [6147], 958: [9023], 3703: [6300], 632: [5129], 633: [7246], 1658: [4622], 6779: [10349], 2684: [11782], 2693: [5983], 4742: [8970, 10211], 4716: [7224], 654: [4509], 8849: [9497], 1683: [9555], 2710: [6244], 2712: [10119], 5790: [9150], 671: [5475], 5795: [5966, 7727, 9232], 3749: [10919], 2728: [7317, 11529], 4728: [7311], 5805: [7307], 3357: [8918, 10340, 11071], 2738: [3981], 2739: [7832, 10365], 6840: [10845], 1721: [2324], 4794: [9757], 699: [10331], 2750: [6877], 703: [1837], 10016: [11655], 4804: [12102], 714: [1876, 3914], 4727: [11746], 6860: [7372], 461: [2837], 8912: [9581], 6776: [8226], 4825: [7690], 6877: [8735, 10688], 1317: [9354], 8656: [10963], 8827: [9323], 3812: [12030], 742: [7695], 6268: [6699], 3820: [10349], 2801: [6620], 4850: [9497], 3830: [9274, 11388], 3831: [8633, 10187, 11102], 2812: [9916], 469: [5129], 3843: [8383, 9062], 772: [7065], 8150: [11472], 6444: [9129], 4877: [9829], 1806: [10603], 4397: [10261], 2832: [4650], 6932: [10554, 11066], 7958: [10231], 8985: [10107], 6944: [9034], 5923: [8912, 9581, 11337], 3877: [4562], 3982: [4544, 8058], 2855: [7521], 809: [7404], 2858: [6844], 813: [1535], 2862: [10787], 818: [11295], 5941: [11159, 12028], 5942: [12233], 6967: [9743], 11066: [11343], 3899: [6699], 830: [4024], 9023: [12130], 11232: [11722], 6978: [11931], 6980: [7541], 6966: [9150], 6987: [9497], 5966: [7206, 7727], 10904: [12057], 10070: [10422], 3063: [7729], 9049: [11635], 5434: [11071], 2910: [8735], 2915: [4240], 4965: [8391], 3942: [9788], 438: [7806], 3944: [10670], 6290: [8347], 3956: [11857], 4981: [7778], 887: [9323], 894: [6430], 896: [3877], 8070: [10762], 6023: [10478], 3981: [6328, 6515], 6030: [7620], 1935: [4549], 1688: [6871, 7317], 6034: [12314], 4054: [4070, 9323], 924: [7442], 2975: [10827], 5024: [11401], 8735: [10688], 2979: [5339], 8100: [9770], 10874: [10931], 934: [5458], 7082: [10365], 327: [5326, 9636], 6962: [8431], 1967: [5249], 7095: [8213], 4029: [7769, 10280], 4030: [12130], 9154: [10592], 3012: [6797], 10187: [11102], 9174: [12096], 9210: [9770], 991: [2832], 3040: [5731], 4070: [9323], 9196: [9242], 1329: [7468], 3054: [4109], 10231: [12406], 10234: [11211]}\n"
     ]
    },
    {
     "name": "stdout",
     "output_type": "stream",
     "text": [
      "11400\n",
      "{4102: [7735], 1034: [7133], 3083: [4562], 7180: [7957], 7185: [8248], 857: [7404], 4121: [4191], 7203: [11429], 6185: [6860], 5164: [5722], 45: [3556], 5166: [7769], 47: [2276, 10475], 2097: [2120, 8841], 1074: [2980], 1075: [4676], 3134: [8560], 1095: [5941, 11159], 7246: [7439], 10321: [10559], 3155: [3454], 6228: [11095], 6234: [6845], 1115: [1981], 2746: [2825], 5214: [11306], 7013: [12062], 5218: [5416, 6820, 8058, 10234], 9062: [10280], 4200: [11249], 111: [4038], 115: [7372], 1140: [2980, 8058, 10632, 11386], 1141: [4771], 6265: [10478], 1148: [11310], 1149: [6628, 8772], 10371: [12293], 135: [6966], 7308: [10943], 3437: [3961, 7372], 146: [7826], 1177: [10083], 3226: [3556, 4038], 1179: [3167], 9379: [12219], 6311: [10371], 6316: [9741], 3246: [6048, 8187], 3256: [12342], 1209: [11001], 1211: [3881], 9413: [11343], 5324: [7989], 3274: [7830], 7372: [8581], 5326: [11207], 3279: [10906], 5332: [11376], 1240: [4718], 218: [9555], 1402: [5212, 8529], 6367: [9009], 1248: [4175], 2273: [9515], 1404: [3310, 4850, 6698], 3306: [11263], 3310: [6698], 2288: [10948], 5362: [12051, 12061], 5364: [11374], 245: [10970], 7414: [10549], 2295: [10086], 3320: [4342], 4396: [5389], 252: [8867], 1278: [6178], 256: [11743], 263: [615], 3344: [6896], 6418: [9047], 7445: [10589], 3352: [4973], 1305: [5218, 6820], 6428: [8608, 10016], 5405: [9150], 2336: [11166], 8482: [8735], 293: [2803, 9624], 2344: [11325], 8490: [10000], 4999: [7837], 7468: [8791], 1325: [9555, 12369], 5423: [8467], 3377: [6428], 312: [8136], 2361: [7458], 10554: [11343], 3466: [9569], 224: [10000], 1351: [7977], 5451: [10688], 336: [10097], 2389: [8873], 2394: [7578], 5467: [11295], 5468: [7013], 8543: [11069], 4838: [11081], 4455: [5018], 5480: [7137], 4457: [5136], 9581: [11337], 3442: [8343], 9014: [12342], 7541: [7741], 2423: [3653, 11581], 8568: [8605], 3450: [4644], 2428: [5719], 381: [2104, 5700], 6528: [7273], 8768: [11080], 394: [4798, 8608], 6539: [8126], 1421: [6281], 2447: [9278, 11221], 3480: [7475], 409: [4201], 2460: [9819], 5542: [9056], 423: [7694], 3496: [7095], 1451: [6976], 8626: [9655], 3356: [9654], 6583: [10210], 8632: [9666], 8633: [11102], 3515: [4394], 444: [1201], 10685: [12382], 4544: [10774], 2501: [2877], 2504: [3457], 3529: [11175], 2492: [5636], 9677: [10234, 10632, 11211], 2510: [8668, 10268], 3535: [12100], 5505: [10820], 78: [714], 8663: [10112], 10717: [12062], 9836: [11857], 3187: [3548], 3556: [8136], 8614: [10717], 3494: [10331], 490: [9016], 4592: [11018], 1521: [8978], 501: [7250, 12289], 8701: [9420], 3585: [11280], 2563: [4029, 7977], 5641: [7680], 1547: [2738, 7177], 525: [3148], 2576: [4347], 529: [1299, 12248], 6676: [11249], 870: [3516], 7705: [10717], 543: [4285], 4640: [5515], 545: [11133], 2595: [8912, 9581, 11337], 549: [10919], 552: [3546], 6698: [10097], 1287: [8735], 2607: [3464], 8752: [10097, 11634], 4660: [9782], 2613: [9593], 569: [6500], 11359: [12339], 7744: [9131], 577: [9278, 11652], 3653: [8446], 3658: [10447], 2644: [4883], 597: [8563], 7767: [9062, 11326], 3672: [10592], 6749: [7033], 615: [11455], 3516: [11617], 8810: [11095], 1643: [5941], 2668: [8292], 5743: [6147], 958: [9023], 3703: [6300], 632: [5129], 633: [7246], 1658: [4622], 6779: [10349], 2684: [11782], 2693: [5983], 4742: [8970, 10211], 4716: [7224], 654: [4509], 8849: [9497], 1683: [9555], 2710: [6244], 2712: [10119], 5790: [9150], 671: [5475], 5795: [5966, 7727, 9232], 3749: [10919], 2728: [7317, 11529], 4728: [7311], 5805: [7307], 3357: [8918, 10340, 11071], 2738: [3981], 2739: [7832, 10365], 6840: [10845], 1721: [2324], 4794: [9757], 699: [10331], 2750: [6877], 703: [1837], 10016: [11655], 4804: [12102], 714: [1876, 3914], 4727: [11746], 6860: [7372], 461: [2837], 8912: [9581], 6776: [8226], 4825: [7690], 6877: [8735, 10688], 1317: [9354], 8656: [10963], 8827: [9323], 3812: [12030], 742: [7695], 6268: [6699], 3820: [10349], 2801: [6620], 4850: [9497], 3830: [9274, 11388], 3831: [8633, 10187, 11102], 2812: [9916], 469: [5129], 3843: [8383, 9062], 772: [7065], 8150: [11472], 6444: [9129], 4877: [9829], 1806: [10603], 4397: [10261], 2832: [4650], 6932: [10554, 11066], 7958: [10231], 8985: [10107], 6944: [9034], 5923: [8912, 9581, 11337], 3877: [4562], 3982: [4544, 8058], 2855: [7521], 809: [7404], 2858: [6844], 813: [1535], 2862: [10787], 818: [11295], 5941: [11159, 12028], 5942: [12233], 6967: [9743], 11066: [11343], 3899: [6699], 830: [4024], 9023: [12130], 11232: [11722], 6978: [11931], 6980: [7541], 6966: [9150], 6987: [9497], 5966: [7206, 7727], 10904: [12057], 10070: [10422], 3063: [7729], 9049: [11635], 5434: [11071], 2910: [8735], 2915: [4240], 4965: [8391], 3942: [9788], 438: [7806], 3944: [10670], 6290: [8347], 3956: [11857], 4981: [7778], 887: [9323], 894: [6430], 896: [3877], 8070: [10762], 6023: [10478], 3981: [6328, 6515], 6030: [7620], 1935: [4549], 1688: [6871, 7317], 6034: [12314], 4054: [4070, 9323], 924: [7442], 2975: [10827], 5024: [11401], 8735: [10688], 2979: [5339], 8100: [9770], 10874: [10931], 934: [5458], 7082: [10365], 327: [5326, 9636], 6962: [8431], 1967: [5249], 7095: [8213], 4029: [7769, 10280], 4030: [12130], 9154: [10592], 3012: [6797], 10187: [11102], 9174: [12096], 9210: [9770], 991: [2832], 3040: [5731], 4070: [9323], 9196: [9242], 1329: [7468], 3054: [4109], 10231: [12406], 10234: [11211]}\n",
      "11500\n",
      "{4102: [7735], 1034: [7133], 3083: [4562], 7180: [7957], 7185: [8248], 857: [7404], 4121: [4191], 7203: [11429], 6185: [6860], 5164: [5722], 45: [3556], 5166: [7769], 47: [2276, 10475], 2097: [2120, 8841], 1074: [2980], 1075: [4676], 3134: [8560], 1095: [5941, 11159], 7246: [7439], 10321: [10559], 3155: [3454], 6228: [11095], 6234: [6845], 1115: [1981], 2746: [2825], 5214: [11306], 7013: [12062], 5218: [5416, 6820, 8058, 10234], 9062: [10280], 4200: [11249], 111: [4038], 115: [7372], 1140: [2980, 8058, 10632, 11386], 1141: [4771], 6265: [10478], 1148: [11310], 1149: [6628, 8772], 10371: [12293], 135: [6966], 7308: [10943], 3437: [3961, 7372], 146: [7826], 1177: [10083], 3226: [3556, 4038], 1179: [3167], 9379: [12219], 6311: [10371], 6316: [9741], 3246: [6048, 8187], 3256: [12342], 1209: [11001], 1211: [3881], 9413: [11343], 5324: [7989], 3274: [7830], 7372: [8581], 5326: [11207], 3279: [10906], 5332: [11376], 1240: [4718], 218: [9555], 1402: [5212, 8529], 6367: [9009], 1248: [4175], 2273: [9515], 1404: [3310, 4850, 6698], 3306: [11263], 3310: [6698], 2288: [10948], 5362: [12051, 12061], 5364: [11374], 245: [10970], 7414: [10549], 2295: [10086], 3320: [4342], 4396: [5389], 252: [8867], 1278: [6178], 256: [11743], 263: [615], 3344: [6896], 6418: [9047], 7445: [10589], 3352: [4973], 1305: [5218, 6820], 6428: [8608, 10016], 5405: [9150], 2336: [11166], 8482: [8735], 293: [2803, 9624], 2344: [11325], 8490: [10000], 4999: [7837], 7468: [8791], 1325: [9555, 12369], 5423: [8467], 3377: [6428], 312: [8136], 2361: [7458], 10554: [11343], 3466: [9569], 224: [10000], 1351: [7977], 5451: [10688], 336: [10097], 2389: [8873], 2394: [7578], 5467: [11295], 5468: [7013], 8543: [11069], 4838: [11081], 4455: [5018], 5480: [7137], 4457: [5136], 9581: [11337], 3442: [8343], 9014: [12342], 7541: [7741], 2423: [3653, 11581], 8568: [8605], 3450: [4644], 2428: [5719], 381: [2104, 5700], 6528: [7273], 8768: [11080], 394: [4798, 8608], 6539: [8126], 1421: [6281], 2447: [9278, 11221], 3480: [7475], 409: [4201], 2460: [9819], 5542: [9056], 423: [7694], 3496: [7095], 1451: [6976], 8626: [9655], 3356: [9654], 6583: [10210], 8632: [9666], 8633: [11102], 3515: [4394], 444: [1201], 10685: [12382], 4544: [10774], 2501: [2877], 2504: [3457], 3529: [11175], 2492: [5636], 9677: [10234, 10632, 11211], 2510: [8668, 10268], 3535: [12100], 5505: [10820], 78: [714], 8663: [10112], 10717: [12062], 9836: [11857], 3187: [3548], 3556: [8136], 8614: [10717], 3494: [10331], 490: [9016], 4592: [11018], 1521: [8978], 501: [7250, 12289], 8701: [9420], 3585: [11280], 2563: [4029, 7977], 5641: [7680], 1547: [2738, 7177], 525: [3148], 2576: [4347], 529: [1299, 12248], 6676: [11249], 870: [3516], 7705: [10717], 543: [4285], 4640: [5515], 545: [11133], 2595: [8912, 9581, 11337], 549: [10919], 552: [3546], 6698: [10097], 1287: [8735], 2607: [3464], 8752: [10097, 11634], 4660: [9782], 2613: [9593], 569: [6500], 11359: [12339], 7744: [9131], 577: [9278, 11652], 3653: [8446], 3658: [10447], 2644: [4883], 597: [8563], 7767: [9062, 11326], 3672: [10592], 6749: [7033], 615: [11455], 3516: [11617], 8810: [11095], 1643: [5941], 2668: [8292], 5743: [6147], 958: [9023], 3703: [6300], 632: [5129], 633: [7246], 1658: [4622], 6779: [10349], 2684: [11782], 2693: [5983], 4742: [8970, 10211], 4716: [7224], 654: [4509], 8849: [9497], 1683: [9555], 2710: [6244], 2712: [10119], 5790: [9150], 671: [5475], 5795: [5966, 7727, 9232], 3749: [10919], 2728: [7317, 11529], 4728: [7311], 5805: [7307], 3357: [8918, 10340, 11071], 2738: [3981], 2739: [7832, 10365], 6840: [10845], 1721: [2324], 4794: [9757], 699: [10331], 2750: [6877], 703: [1837], 10016: [11655], 4804: [12102], 714: [1876, 3914], 4727: [11746], 6860: [7372], 461: [2837], 8912: [9581], 6776: [8226], 4825: [7690], 6877: [8735, 10688], 1317: [9354], 8656: [10963], 8827: [9323], 3812: [12030], 742: [7695], 6268: [6699], 3820: [10349], 2801: [6620], 4850: [9497], 3830: [9274, 11388], 3831: [8633, 10187, 11102], 2812: [9916], 469: [5129], 3843: [8383, 9062], 772: [7065], 8150: [11472], 6444: [9129], 4877: [9829], 1806: [10603], 4397: [10261], 2832: [4650], 6932: [10554, 11066], 7958: [10231], 8985: [10107], 6944: [9034], 5923: [8912, 9581, 11337], 3877: [4562], 3982: [4544, 8058], 2855: [7521], 809: [7404], 2858: [6844], 813: [1535], 2862: [10787], 818: [11295], 5941: [11159, 12028], 5942: [12233], 6967: [9743], 11066: [11343], 3899: [6699], 830: [4024], 9023: [12130], 11232: [11722], 6978: [11931], 6980: [7541], 6966: [9150], 6987: [9497], 5966: [7206, 7727], 10904: [12057], 10070: [10422], 3063: [7729], 9049: [11635], 5434: [11071], 2910: [8735], 2915: [4240], 4965: [8391], 3942: [9788], 438: [7806], 3944: [10670], 6290: [8347], 3956: [11857], 4981: [7778], 887: [9323], 894: [6430], 896: [3877], 8070: [10762], 6023: [10478], 3981: [6328, 6515], 6030: [7620], 1935: [4549], 1688: [6871, 7317], 6034: [12314], 4054: [4070, 9323], 924: [7442], 2975: [10827], 5024: [11401], 8735: [10688], 2979: [5339], 8100: [9770], 10874: [10931], 934: [5458], 7082: [10365], 327: [5326, 9636], 6962: [8431], 1967: [5249], 7095: [8213], 4029: [7769, 10280], 4030: [12130], 9154: [10592], 3012: [6797], 10187: [11102], 9174: [12096], 9210: [9770], 991: [2832], 3040: [5731], 4070: [9323], 9196: [9242], 1329: [7468], 3054: [4109], 10231: [12406], 10234: [11211]}\n"
     ]
    },
    {
     "name": "stdout",
     "output_type": "stream",
     "text": [
      "11600\n",
      "{4102: [7735], 1034: [7133], 3083: [4562], 7180: [7957], 7185: [8248], 857: [7404], 4121: [4191], 7203: [11429], 6185: [6860], 5164: [5722], 45: [3556], 5166: [7769], 47: [2276, 10475], 2097: [2120, 8841], 1074: [2980], 1075: [4676], 3134: [8560], 1095: [5941, 11159], 7246: [7439], 10321: [10559], 3155: [3454], 6228: [11095], 6234: [6845], 1115: [1981], 2746: [2825], 5214: [11306], 7013: [12062], 5218: [5416, 6820, 8058, 10234], 9062: [10280], 4200: [11249], 111: [4038], 115: [7372], 1140: [2980, 8058, 10632, 11386], 1141: [4771], 6265: [10478], 1148: [11310], 1149: [6628, 8772], 10371: [12293], 135: [6966], 7308: [10943], 3437: [3961, 7372], 146: [7826], 1177: [10083], 3226: [3556, 4038], 1179: [3167], 9379: [12219], 6311: [10371], 6316: [9741], 3246: [6048, 8187], 3256: [12342], 1209: [11001], 1211: [3881], 9413: [11343], 5324: [7989], 3274: [7830], 7372: [8581], 5326: [11207], 3279: [10906], 5332: [11376], 1240: [4718], 218: [9555], 1402: [5212, 8529], 6367: [9009], 1248: [4175], 2273: [9515], 1404: [3310, 4850, 6698], 3306: [11263], 3310: [6698], 2288: [10948], 5362: [12051, 12061], 5364: [11374], 245: [10970], 7414: [10549], 2295: [10086], 3320: [4342], 4396: [5389], 252: [8867], 1278: [6178], 256: [11743], 263: [615], 3344: [6896], 6418: [9047], 11540: [12130], 7445: [10589], 3352: [4973], 1305: [5218, 6820], 6428: [8608, 10016], 5405: [9150], 2336: [11166], 8482: [8735], 293: [2803, 9624], 2344: [11325], 8490: [10000], 4999: [7837], 7468: [8791], 1325: [9555, 12369], 5423: [8467], 3377: [6428], 312: [8136], 2361: [7458], 10554: [11343], 3466: [9569], 224: [10000], 1351: [7977], 5451: [10688], 336: [10097], 2389: [8873], 2394: [7578], 5467: [11295], 5468: [7013], 8543: [11069], 4838: [11081], 4455: [5018], 5480: [7137], 4457: [5136], 9581: [11337], 3442: [8343], 9014: [12342], 7541: [7741], 2423: [3653, 11581], 8568: [8605], 3450: [4644], 2428: [5719], 381: [2104, 5700], 6528: [7273], 8768: [11080], 394: [4798, 8608], 6539: [8126], 1421: [6281], 2447: [9278, 11221], 3480: [7475], 409: [4201], 2460: [9819], 5542: [9056], 423: [7694], 3496: [7095], 1451: [6976], 8626: [9655], 3356: [9654], 6583: [10210], 8632: [9666], 8633: [11102], 3515: [4394], 444: [1201], 10685: [12382], 4544: [10774], 2501: [2877], 2504: [3457], 3529: [11175], 2492: [5636], 9677: [10234, 10632, 11211], 2510: [8668, 10268], 3535: [12100], 5505: [10820], 78: [714], 8663: [10112], 10717: [12062], 9836: [11857], 3187: [3548], 3556: [8136], 8614: [10717], 3494: [10331], 490: [9016], 4592: [11018], 1521: [8978], 501: [7250, 12289], 8701: [9420], 3585: [11280], 2563: [4029, 7977], 5641: [7680], 1547: [2738, 7177], 525: [3148], 2576: [4347], 529: [1299, 12248], 6676: [11249], 870: [3516], 7705: [10717], 543: [4285], 4640: [5515], 545: [11133], 2595: [8912, 9581, 11337], 549: [10919], 552: [3546], 6698: [10097], 1287: [8735], 2607: [3464], 8752: [10097, 11634], 4660: [9782], 2613: [9593], 569: [6500], 11359: [12339], 7744: [9131], 577: [9278, 11652], 3653: [8446], 3658: [10447], 2644: [4883], 597: [8563], 7767: [9062, 11326], 3672: [10592], 6749: [7033], 615: [11455], 3516: [11617], 8810: [11095], 1643: [5941], 2668: [8292], 5743: [6147], 958: [9023], 3703: [6300], 632: [5129], 633: [7246], 1658: [4622], 6779: [10349], 2684: [11782], 2693: [5983], 4742: [8970, 10211], 4716: [7224], 654: [4509], 8849: [9497], 1683: [9555], 2710: [6244], 2712: [10119], 5790: [9150], 671: [5475], 5795: [5966, 7727, 9232], 3749: [10919], 2728: [7317, 11529], 4728: [7311], 5805: [7307], 3357: [8918, 10340, 11071], 2738: [3981], 2739: [7832, 10365], 6840: [10845], 1721: [2324], 4794: [9757], 699: [10331], 2750: [6877], 703: [1837], 10016: [11655], 4804: [12102], 714: [1876, 3914], 4727: [11746], 6860: [7372], 461: [2837], 8912: [9581], 6776: [8226], 4825: [7690], 6877: [8735, 10688], 1317: [9354], 8656: [10963], 8827: [9323], 3812: [12030], 742: [7695], 6268: [6699], 3820: [10349], 2801: [6620], 4850: [9497], 3830: [9274, 11388], 3831: [8633, 10187, 11102], 2812: [9916], 469: [5129], 3843: [8383, 9062], 772: [7065], 8150: [11472], 6444: [9129], 4877: [9829], 1806: [10603], 4397: [10261], 2832: [4650], 6932: [10554, 11066], 7958: [10231], 8985: [10107], 6944: [9034], 5923: [8912, 9581, 11337], 3877: [4562], 3982: [4544, 8058], 2855: [7521], 809: [7404], 2858: [6844], 813: [1535], 2862: [10787], 818: [11295], 5941: [11159, 12028], 5942: [12233], 6967: [9743], 11066: [11343], 3899: [6699], 830: [4024], 9023: [12130], 11232: [11722], 6978: [11931], 6980: [7541], 6966: [9150], 6987: [9497], 5966: [7206, 7727], 10904: [12057], 10070: [10422], 3063: [7729], 9049: [11635], 5434: [11071], 2910: [8735], 2915: [4240], 4965: [8391], 3942: [9788], 438: [7806], 3944: [10670], 6290: [8347], 3956: [11857], 4981: [7778], 887: [9323], 894: [6430], 896: [3877], 8070: [10762], 6023: [10478], 3981: [6328, 6515], 6030: [7620], 1935: [4549], 1688: [6871, 7317], 6034: [12314], 4054: [4070, 9323], 924: [7442], 2975: [10827], 5024: [11401], 8735: [10688], 2979: [5339], 8100: [9770], 10874: [10931], 934: [5458], 7082: [10365], 327: [5326, 9636], 6962: [8431], 1967: [5249], 7095: [8213], 4029: [7769, 10280], 4030: [12130], 9154: [10592], 3012: [6797], 10187: [11102], 9174: [12096], 9210: [9770], 991: [2832], 3040: [5731], 4070: [9323], 9196: [9242], 1329: [7468], 3054: [4109], 10231: [12406], 10234: [11211]}\n",
      "11700\n",
      "{4102: [7735], 1034: [7133], 3083: [4562], 7180: [7957], 7185: [8248], 857: [7404], 4121: [4191], 7203: [11429], 6185: [6860], 5164: [5722], 45: [3556], 5166: [7769], 47: [2276, 10475], 2097: [2120, 8841], 1074: [2980], 1075: [4676], 3134: [8560], 1095: [5941, 11159], 7246: [7439], 10321: [10559], 3155: [3454], 6228: [11095], 6234: [6845], 1115: [1981], 2746: [2825], 5214: [11306], 7013: [12062], 5218: [5416, 6820, 8058, 10234], 9062: [10280], 4200: [11249], 111: [4038], 115: [7372], 1140: [2980, 8058, 10632, 11386], 1141: [4771], 6265: [10478], 1148: [11310], 1149: [6628, 8772], 10371: [12293], 135: [6966], 7308: [10943], 3437: [3961, 7372], 146: [7826], 1177: [10083], 3226: [3556, 4038], 1179: [3167], 9379: [12219], 6311: [10371], 6316: [9741], 3246: [6048, 8187], 3256: [12342], 1209: [11001], 1211: [3881], 9413: [11343], 5324: [7989], 3274: [7830], 7372: [8581], 5326: [11207], 3279: [10906], 5332: [11376], 1240: [4718], 218: [9555], 1402: [5212, 8529], 6367: [9009], 1248: [4175], 2273: [9515], 1404: [3310, 4850, 6698], 3306: [11263], 3310: [6698], 2288: [10948], 5362: [12051, 12061], 5364: [11374], 245: [10970], 7414: [10549], 2295: [10086], 3320: [4342], 4396: [5389], 252: [8867], 1278: [6178], 256: [11743], 263: [615], 3344: [6896], 6418: [9047], 11540: [12130], 7445: [10589], 3352: [4973], 1305: [5218, 6820], 6428: [8608, 10016], 5405: [9150], 2336: [11166], 8482: [8735], 293: [2803, 9624], 2344: [11325], 8490: [10000], 4999: [7837], 7468: [8791], 1325: [9555, 12369], 5423: [8467], 3377: [6428], 312: [8136], 2361: [7458], 10554: [11343], 3466: [9569], 224: [10000], 1351: [7977], 5451: [10688], 336: [10097], 2389: [8873], 2394: [7578], 5467: [11295], 5468: [7013], 8543: [11069], 4838: [11081], 4455: [5018], 5480: [7137], 4457: [5136], 9581: [11337], 3442: [8343], 9014: [12342], 7541: [7741], 2423: [3653, 11581], 8568: [8605], 3450: [4644], 2428: [5719], 381: [2104, 5700], 6528: [7273], 8768: [11080], 394: [4798, 8608], 6539: [8126], 1421: [6281], 2447: [9278, 11221], 3480: [7475], 409: [4201], 2460: [9819], 5542: [9056], 423: [7694], 3496: [7095], 1451: [6976], 8626: [9655], 3356: [9654], 6583: [10210], 8632: [9666], 8633: [11102], 3515: [4394], 444: [1201], 10685: [12382], 4544: [10774], 2501: [2877], 2504: [3457], 3529: [11175], 2492: [5636], 9677: [10234, 10632, 11211], 2510: [8668, 10268], 3535: [12100], 5505: [10820], 78: [714], 8663: [10112], 10717: [12062], 9836: [11857], 3187: [3548], 3556: [8136], 8614: [10717], 3494: [10331], 490: [9016], 4592: [11018], 1521: [8978], 501: [7250, 12289], 8701: [9420], 3585: [11280], 2563: [4029, 7977], 5641: [7680], 1547: [2738, 7177], 525: [3148], 2576: [4347], 529: [1299, 12248], 6676: [11249], 870: [3516], 7705: [10717], 543: [4285], 4640: [5515], 545: [11133], 2595: [8912, 9581, 11337], 549: [10919], 552: [3546], 6698: [10097], 1287: [8735], 2607: [3464], 8752: [10097, 11634], 4660: [9782], 2613: [9593], 569: [6500], 11359: [12339], 7744: [9131], 577: [9278, 11652], 3653: [8446], 3658: [10447], 2644: [4883], 597: [8563], 7767: [9062, 11326], 3672: [10592], 6749: [7033], 615: [11455], 3516: [11617], 8810: [11095], 1643: [5941], 2668: [8292], 5743: [6147], 958: [9023], 3703: [6300], 632: [5129], 633: [7246], 1658: [4622], 6779: [10349], 2684: [11782], 2693: [5983], 4742: [8970, 10211], 4716: [7224], 654: [4509], 8849: [9497], 1683: [9555], 2710: [6244], 2712: [10119], 5790: [9150], 671: [5475], 5795: [5966, 7727, 9232], 3749: [10919], 2728: [7317, 11529], 4728: [7311], 5805: [7307], 3357: [8918, 10340, 11071], 2738: [3981], 2739: [7832, 10365], 6840: [10845], 1721: [2324], 4794: [9757], 699: [10331], 2750: [6877], 703: [1837], 10016: [11655], 4804: [12102], 714: [1876, 3914], 4727: [11746], 6860: [7372], 461: [2837], 8912: [9581], 6776: [8226], 4825: [7690], 6877: [8735, 10688], 1317: [9354], 8656: [10963], 8827: [9323], 3812: [12030], 742: [7695], 6268: [6699], 3820: [10349], 2801: [6620], 4850: [9497], 3830: [9274, 11388], 3831: [8633, 10187, 11102], 2812: [9916], 469: [5129], 3843: [8383, 9062], 772: [7065], 8150: [11472], 6444: [9129], 4877: [9829], 1806: [10603], 4397: [10261], 2832: [4650], 6932: [10554, 11066], 7958: [10231], 8985: [10107], 6944: [9034], 5923: [8912, 9581, 11337], 3877: [4562], 3982: [4544, 8058], 2855: [7521], 809: [7404], 2858: [6844], 813: [1535], 2862: [10787], 818: [11295], 5941: [11159, 12028], 5942: [12233], 6967: [9743], 11066: [11343], 3899: [6699], 830: [4024], 9023: [12130], 11232: [11722], 6978: [11931], 6980: [7541], 6966: [9150], 6987: [9497], 5966: [7206, 7727], 10904: [12057], 10070: [10422], 3063: [7729], 9049: [11635], 5434: [11071], 2910: [8735], 2915: [4240], 4965: [8391], 3942: [9788], 438: [7806], 3944: [10670], 6290: [8347], 3956: [11857], 4981: [7778], 887: [9323], 894: [6430], 896: [3877], 8070: [10762], 6023: [10478], 3981: [6328, 6515], 6030: [7620], 1935: [4549], 1688: [6871, 7317], 6034: [12314], 4054: [4070, 9323], 924: [7442], 2975: [10827], 5024: [11401], 8735: [10688], 2979: [5339], 8100: [9770], 10874: [10931], 934: [5458], 7082: [10365], 327: [5326, 9636], 6962: [8431], 1967: [5249], 7095: [8213], 4029: [7769, 10280], 4030: [12130], 9154: [10592], 3012: [6797], 10187: [11102], 9174: [12096], 9210: [9770], 991: [2832], 3040: [5731], 4070: [9323], 9196: [9242], 1329: [7468], 3054: [4109], 10231: [12406], 10234: [11211]}\n"
     ]
    },
    {
     "name": "stdout",
     "output_type": "stream",
     "text": [
      "11800\n",
      "{4102: [7735], 1034: [7133], 3083: [4562], 7180: [7957], 7185: [8248], 857: [7404], 4121: [4191], 7203: [11429], 6185: [6860], 5164: [5722], 45: [3556], 5166: [7769], 47: [2276, 10475], 2097: [2120, 8841], 1074: [2980], 1075: [4676], 3134: [8560], 1095: [5941, 11159], 7246: [7439], 10321: [10559], 3155: [3454], 6228: [11095], 6234: [6845], 1115: [1981], 2746: [2825], 5214: [11306], 7013: [12062], 5218: [5416, 6820, 8058, 10234], 9062: [10280], 4200: [11249], 111: [4038], 115: [7372], 1140: [2980, 8058, 10632, 11386], 1141: [4771], 6265: [10478], 1148: [11310], 1149: [6628, 8772], 10371: [12293], 135: [6966], 7308: [10943], 3437: [3961, 7372], 146: [7826], 1177: [10083], 3226: [3556, 4038], 1179: [3167], 9379: [12219], 6311: [10371], 6316: [9741], 3246: [6048, 8187], 3256: [12342], 1209: [11001], 1211: [3881], 9413: [11343], 5324: [7989], 3274: [7830], 7372: [8581], 5326: [11207], 3279: [10906], 5332: [11376], 1240: [4718], 218: [9555], 1402: [5212, 8529], 6367: [9009], 1248: [4175], 2273: [9515], 1404: [3310, 4850, 6698], 3306: [11263], 3310: [6698], 2288: [10948], 5362: [12051, 12061], 5364: [11374], 245: [10970], 7414: [10549], 2295: [10086], 3320: [4342], 4396: [5389], 252: [8867], 1278: [6178], 256: [11743], 263: [615], 3344: [6896], 6418: [9047], 11540: [12130], 7445: [10589], 3352: [4973], 1305: [5218, 6820], 6428: [8608, 10016], 5405: [9150], 2336: [11166], 8482: [8735], 293: [2803, 9624], 2344: [11325], 8490: [10000], 4999: [7837], 7468: [8791], 1325: [9555, 12369], 5423: [8467], 3377: [6428], 312: [8136], 2361: [7458], 10554: [11343], 3466: [9569], 224: [10000], 1351: [7977], 5451: [10688], 336: [10097], 2389: [8873], 2394: [7578], 5467: [11295], 5468: [7013], 8543: [11069], 4838: [11081], 4455: [5018], 5480: [7137], 4457: [5136], 9581: [11337], 3442: [8343], 9014: [12342], 7541: [7741], 2423: [3653, 11581], 8568: [8605], 3450: [4644], 2428: [5719], 381: [2104, 5700], 6528: [7273], 8768: [11080], 394: [4798, 8608], 6539: [8126], 1421: [6281], 2447: [9278, 11221], 3480: [7475], 409: [4201], 2460: [9819], 5542: [9056], 423: [7694], 3496: [7095], 1451: [6976], 8626: [9655], 3356: [9654], 6583: [10210], 8632: [9666], 8633: [11102], 3515: [4394], 444: [1201], 10685: [12382], 4544: [10774], 2501: [2877], 2504: [3457], 3529: [11175], 2492: [5636], 9677: [10234, 10632, 11211], 2510: [8668, 10268], 3535: [12100], 5505: [10820], 78: [714], 8663: [10112], 10717: [12062], 9836: [11857], 3187: [3548], 3556: [8136], 8614: [10717], 3494: [10331], 490: [9016], 4592: [11018], 1521: [8978], 501: [7250, 12289], 8701: [9420], 3585: [11280], 2563: [4029, 7977], 5641: [7680], 1547: [2738, 7177], 525: [3148], 2576: [4347], 529: [1299, 12248], 6676: [11249], 870: [3516], 7705: [10717], 543: [4285], 4640: [5515], 545: [11133], 2595: [8912, 9581, 11337], 549: [10919], 552: [3546], 6698: [10097], 1287: [8735], 2607: [3464], 8752: [10097, 11634], 4660: [9782], 2613: [9593], 569: [6500], 11359: [12339], 7744: [9131], 577: [9278, 11652], 3653: [8446], 3658: [10447], 2644: [4883], 597: [8563], 7767: [9062, 11326], 3672: [10592], 6749: [7033], 615: [11455], 3516: [11617], 8810: [11095], 1643: [5941], 2668: [8292], 5743: [6147], 958: [9023], 3703: [6300], 632: [5129], 633: [7246], 1658: [4622], 6779: [10349], 2684: [11782], 2693: [5983], 4742: [8970, 10211], 4716: [7224], 654: [4509], 8849: [9497], 1683: [9555], 2710: [6244], 2712: [10119], 5790: [9150], 671: [5475], 5795: [5966, 7727, 9232], 3749: [10919], 2728: [7317, 11529], 4728: [7311], 5805: [7307], 3357: [8918, 10340, 11071], 2738: [3981], 2739: [7832, 10365], 6840: [10845], 1721: [2324], 4794: [9757], 699: [10331], 2750: [6877], 703: [1837], 10016: [11655], 4804: [12102], 714: [1876, 3914], 4727: [11746], 6860: [7372], 461: [2837], 8912: [9581], 6776: [8226], 4825: [7690], 6877: [8735, 10688], 1317: [9354], 8656: [10963], 8827: [9323], 3812: [12030], 742: [7695], 6268: [6699], 3820: [10349], 2801: [6620], 4850: [9497], 3830: [9274, 11388], 3831: [8633, 10187, 11102], 2812: [9916], 469: [5129], 3843: [8383, 9062], 772: [7065], 8150: [11472], 6444: [9129], 4877: [9829], 1806: [10603], 4397: [10261], 2832: [4650], 6932: [10554, 11066], 7958: [10231], 8985: [10107], 6944: [9034], 5923: [8912, 9581, 11337], 3877: [4562], 3982: [4544, 8058], 2855: [7521], 809: [7404], 2858: [6844], 813: [1535], 2862: [10787], 818: [11295], 5941: [11159, 12028], 5942: [12233], 6967: [9743], 11066: [11343], 3899: [6699], 830: [4024], 9023: [12130], 11232: [11722], 6978: [11931], 6980: [7541], 6966: [9150], 6987: [9497], 5966: [7206, 7727], 10904: [12057], 10070: [10422], 3063: [7729], 9049: [11635], 5434: [11071], 2910: [8735], 2915: [4240], 4965: [8391], 3942: [9788], 438: [7806], 3944: [10670], 6290: [8347], 3956: [11857], 4981: [7778], 887: [9323], 894: [6430], 896: [3877], 8070: [10762], 6023: [10478], 3981: [6328, 6515], 6030: [7620], 1935: [4549], 1688: [6871, 7317], 6034: [12314], 4054: [4070, 9323], 924: [7442], 2975: [10827], 5024: [11401], 8735: [10688], 2979: [5339], 8100: [9770], 10874: [10931], 934: [5458], 7082: [10365], 327: [5326, 9636], 6962: [8431], 1967: [5249], 7095: [8213], 4029: [7769, 10280], 4030: [12130], 9154: [10592], 3012: [6797], 10187: [11102], 9174: [12096], 9210: [9770], 991: [2832], 3040: [5731], 4070: [9323], 9196: [9242], 1329: [7468], 3054: [4109], 10231: [12406], 10234: [11211]}\n",
      "11900\n",
      "{4102: [7735], 1034: [7133], 3083: [4562], 7180: [7957], 7185: [8248], 857: [7404], 4121: [4191], 7203: [11429], 6185: [6860], 5164: [5722], 45: [3556], 5166: [7769], 47: [2276, 10475], 2097: [2120, 8841], 1074: [2980], 1075: [4676], 3134: [8560], 1095: [5941, 11159], 7246: [7439], 10321: [10559], 3155: [3454], 6228: [11095], 6234: [6845], 1115: [1981], 2746: [2825], 5214: [11306], 7013: [12062], 5218: [5416, 6820, 8058, 10234], 9062: [10280], 4200: [11249], 111: [4038], 115: [7372], 1140: [2980, 8058, 10632, 11386], 1141: [4771], 6265: [10478], 1148: [11310], 1149: [6628, 8772], 10371: [12293], 135: [6966], 7308: [10943], 3437: [3961, 7372], 146: [7826], 1177: [10083], 3226: [3556, 4038], 1179: [3167], 9379: [12219], 6311: [10371], 6316: [9741], 3246: [6048, 8187], 3256: [12342], 1209: [11001], 1211: [3881], 9413: [11343], 5324: [7989], 3274: [7830], 7372: [8581], 5326: [11207], 3279: [10906], 5332: [11376], 1240: [4718], 218: [9555], 1402: [5212, 8529], 6367: [9009], 1248: [4175], 2273: [9515], 1404: [3310, 4850, 6698], 3306: [11263], 3310: [6698], 2288: [10948], 5362: [12051, 12061], 5364: [11374], 245: [10970], 7414: [10549], 2295: [10086], 3320: [4342], 4396: [5389], 252: [8867], 1278: [6178], 256: [11743], 263: [615], 3344: [6896], 6418: [9047], 11540: [12130], 7445: [10589], 3352: [4973], 1305: [5218, 6820], 6428: [8608, 10016], 5405: [9150], 2336: [11166], 8482: [8735], 293: [2803, 9624], 2344: [11325], 8490: [10000], 4999: [7837], 7468: [8791], 1325: [9555, 12369], 5423: [8467], 3377: [6428], 312: [8136], 2361: [7458], 10554: [11343], 3466: [9569], 224: [10000], 1351: [7977], 5451: [10688], 336: [10097], 2389: [8873], 2394: [7578], 5467: [11295], 5468: [7013], 8543: [11069], 4838: [11081], 4455: [5018], 5480: [7137], 4457: [5136], 9581: [11337], 3442: [8343], 9014: [12342], 7541: [7741], 2423: [3653, 11581], 8568: [8605], 3450: [4644], 2428: [5719], 381: [2104, 5700], 6528: [7273], 8768: [11080], 394: [4798, 8608], 6539: [8126], 1421: [6281], 2447: [9278, 11221], 3480: [7475], 409: [4201], 2460: [9819], 5542: [9056], 423: [7694], 3496: [7095], 1451: [6976], 8626: [9655], 3356: [9654], 6583: [10210], 8632: [9666], 8633: [11102], 3515: [4394], 444: [1201], 10685: [12382], 4544: [10774], 2501: [2877], 2504: [3457], 3529: [11175], 2492: [5636], 9677: [10234, 10632, 11211], 2510: [8668, 10268], 3535: [12100], 5505: [10820], 78: [714], 8663: [10112], 10717: [12062], 9836: [11857], 3187: [3548], 3556: [8136], 8614: [10717], 3494: [10331], 490: [9016], 4592: [11018], 1521: [8978], 501: [7250, 12289], 8701: [9420], 3585: [11280], 2563: [4029, 7977], 5641: [7680], 1547: [2738, 7177], 525: [3148], 2576: [4347], 529: [1299, 12248], 6676: [11249], 870: [3516], 7705: [10717], 543: [4285], 4640: [5515], 545: [11133], 2595: [8912, 9581, 11337], 549: [10919], 552: [3546], 6698: [10097], 1287: [8735], 2607: [3464], 8752: [10097, 11634], 4660: [9782], 2613: [9593], 569: [6500], 11359: [12339], 7744: [9131], 577: [9278, 11652], 3653: [8446], 3658: [10447], 2644: [4883], 597: [8563], 7767: [9062, 11326], 3672: [10592], 6749: [7033], 615: [11455], 3516: [11617], 8810: [11095], 1643: [5941], 2668: [8292], 5743: [6147], 11888: [11901], 958: [9023], 3703: [6300], 632: [5129], 633: [7246], 1658: [4622], 6779: [10349], 2684: [11782], 2693: [5983], 4742: [8970, 10211], 4716: [7224], 654: [4509], 8849: [9497], 1683: [9555], 2710: [6244], 2712: [10119], 5790: [9150], 671: [5475], 5795: [5966, 7727, 9232], 3749: [10919], 2728: [7317, 11529], 4728: [7311], 5805: [7307], 3357: [8918, 10340, 11071], 2738: [3981], 2739: [7832, 10365], 6840: [10845], 1721: [2324], 4794: [9757], 699: [10331], 2750: [6877], 703: [1837], 10016: [11655], 4804: [12102], 714: [1876, 3914], 4727: [11746], 6860: [7372], 461: [2837], 8912: [9581], 6776: [8226], 4825: [7690], 6877: [8735, 10688], 1317: [9354], 8656: [10963], 8827: [9323], 3812: [12030], 742: [7695], 6268: [6699], 3820: [10349], 2801: [6620], 4850: [9497], 3830: [9274, 11388], 3831: [8633, 10187, 11102], 2812: [9916], 469: [5129], 3843: [8383, 9062], 772: [7065], 8150: [11472], 6444: [9129], 4877: [9829], 1806: [10603], 4397: [10261], 2832: [4650], 6932: [10554, 11066], 7958: [10231], 8985: [10107], 6944: [9034], 5923: [8912, 9581, 11337], 3877: [4562], 3982: [4544, 8058], 2855: [7521], 809: [7404], 2858: [6844], 813: [1535], 2862: [10787], 818: [11295], 5941: [11159, 12028], 5942: [12233], 6967: [9743], 11066: [11343], 3899: [6699], 830: [4024], 9023: [12130], 11232: [11722], 6978: [11931], 6980: [7541], 6966: [9150], 6987: [9497], 5966: [7206, 7727], 10904: [12057], 10070: [10422], 3063: [7729], 9049: [11635], 5434: [11071], 2910: [8735], 2915: [4240], 4965: [8391], 3942: [9788], 438: [7806], 3944: [10670], 6290: [8347], 3956: [11857], 4981: [7778], 887: [9323], 894: [6430], 896: [3877], 8070: [10762], 6023: [10478], 3981: [6328, 6515], 6030: [7620], 1935: [4549], 1688: [6871, 7317], 6034: [12314], 4054: [4070, 9323], 924: [7442], 2975: [10827], 5024: [11401], 8735: [10688], 2979: [5339], 8100: [9770], 10874: [10931], 934: [5458], 7082: [10365], 327: [5326, 9636], 6962: [8431], 1967: [5249], 7095: [8213], 4029: [7769, 10280], 4030: [12130], 9154: [10592], 3012: [6797], 10187: [11102], 9174: [12096], 9210: [9770], 991: [2832], 3040: [5731], 4070: [9323], 9196: [9242], 1329: [7468], 3054: [4109], 10231: [12406], 10234: [11211]}\n"
     ]
    },
    {
     "name": "stdout",
     "output_type": "stream",
     "text": [
      "12000\n",
      "{4102: [7735], 1034: [7133], 3083: [4562], 7180: [7957], 7185: [8248], 857: [7404], 4121: [4191], 7203: [11429], 6185: [6860], 5164: [5722], 45: [3556], 5166: [7769], 47: [2276, 10475], 2097: [2120, 8841], 1074: [2980], 1075: [4676], 3134: [8560], 1095: [5941, 11159], 7246: [7439], 10321: [10559], 3155: [3454], 6228: [11095], 6234: [6845], 1115: [1981], 2746: [2825], 5214: [11306], 7013: [12062], 5218: [5416, 6820, 8058, 10234], 9062: [10280], 4200: [11249], 111: [4038], 115: [7372], 1140: [2980, 8058, 10632, 11386], 1141: [4771], 6265: [10478], 1148: [11310], 1149: [6628, 8772], 10371: [12293], 135: [6966], 7308: [10943], 3437: [3961, 7372], 146: [7826], 1177: [10083], 3226: [3556, 4038], 1179: [3167], 9379: [12219], 6311: [10371], 6316: [9741], 3246: [6048, 8187], 3256: [12342], 1209: [11001], 1211: [3881], 9413: [11343], 5324: [7989], 3274: [7830], 7372: [8581], 5326: [11207], 3279: [10906], 5332: [11376], 1240: [4718], 218: [9555], 1402: [5212, 8529], 6367: [9009], 1248: [4175], 2273: [9515], 1404: [3310, 4850, 6698], 3306: [11263], 3310: [6698], 2288: [10948], 5362: [12051, 12061], 5364: [11374], 245: [10970], 7414: [10549], 2295: [10086], 3320: [4342], 4396: [5389], 252: [8867], 1278: [6178], 256: [11743], 263: [615], 3344: [6896], 6418: [9047], 11540: [12130], 7445: [10589], 3352: [4973], 1305: [5218, 6820], 6428: [8608, 10016], 5405: [9150], 2336: [11166], 8482: [8735], 293: [2803, 9624], 2344: [11325], 8490: [10000], 4999: [7837], 7468: [8791], 1325: [9555, 12369], 5423: [8467], 3377: [6428], 312: [8136], 2361: [7458], 10554: [11343], 3466: [9569], 224: [10000], 1351: [7977], 5451: [10688], 336: [10097], 2389: [8873], 2394: [7578], 5467: [11295], 5468: [7013], 8543: [11069], 4838: [11081], 4455: [5018], 5480: [7137], 4457: [5136], 9581: [11337], 3442: [8343], 9014: [12342], 7541: [7741], 2423: [3653, 11581], 8568: [8605], 3450: [4644], 2428: [5719], 381: [2104, 5700], 6528: [7273], 8768: [11080], 394: [4798, 8608], 6539: [8126], 1421: [6281], 2447: [9278, 11221], 3480: [7475], 409: [4201], 2460: [9819], 5542: [9056], 423: [7694], 3496: [7095], 1451: [6976], 8626: [9655], 3356: [9654], 6583: [10210], 8632: [9666], 8633: [11102], 3515: [4394], 444: [1201], 10685: [12382], 4544: [10774], 2501: [2877], 2504: [3457], 3529: [11175], 2492: [5636], 9677: [10234, 10632, 11211], 2510: [8668, 10268], 3535: [12100], 5505: [10820], 78: [714], 8663: [10112], 10717: [12062], 9836: [11857], 3187: [3548], 3556: [8136], 8614: [10717], 3494: [10331], 490: [9016], 4592: [11018], 1521: [8978], 501: [7250, 12289], 8701: [9420], 3585: [11280], 2563: [4029, 7977], 5641: [7680], 1547: [2738, 7177], 525: [3148], 2576: [4347], 529: [1299, 12248], 6676: [11249], 870: [3516], 7705: [10717], 543: [4285], 4640: [5515], 545: [11133], 2595: [8912, 9581, 11337], 549: [10919], 552: [3546], 6698: [10097], 1287: [8735], 2607: [3464], 8752: [10097, 11634], 4660: [9782], 2613: [9593], 569: [6500], 11359: [12339], 7744: [9131], 577: [9278, 11652], 3653: [8446], 3658: [10447], 2644: [4883], 597: [8563], 7767: [9062, 11326], 3672: [10592], 6749: [7033], 615: [11455], 3516: [11617], 8810: [11095], 1643: [5941], 2668: [8292], 5743: [6147], 11888: [11901], 958: [9023], 3703: [6300], 632: [5129], 633: [7246], 1658: [4622], 6779: [10349], 2684: [11782], 2693: [5983], 4742: [8970, 10211], 4716: [7224], 654: [4509], 8849: [9497], 1683: [9555], 2710: [6244], 2712: [10119], 5790: [9150], 671: [5475], 5795: [5966, 7727, 9232], 3749: [10919], 2728: [7317, 11529], 4728: [7311], 5805: [7307], 3357: [8918, 10340, 11071], 2738: [3981], 2739: [7832, 10365], 6840: [10845], 1721: [2324], 4794: [9757], 699: [10331], 2750: [6877], 703: [1837], 10016: [11655], 4804: [12102], 714: [1876, 3914], 4727: [11746], 6860: [7372], 461: [2837], 8912: [9581], 6776: [8226], 4825: [7690], 6877: [8735, 10688], 1317: [9354], 8656: [10963], 8827: [9323], 3812: [12030], 742: [7695], 6268: [6699], 3820: [10349], 2801: [6620], 4850: [9497], 3830: [9274, 11388], 3831: [8633, 10187, 11102], 2812: [9916], 469: [5129], 3843: [8383, 9062], 772: [7065], 8150: [11472], 6444: [9129], 4877: [9829], 1806: [10603], 4397: [10261], 2832: [4650], 6932: [10554, 11066], 7958: [10231], 8985: [10107], 6944: [9034], 5923: [8912, 9581, 11337], 3877: [4562], 3982: [4544, 8058], 2855: [7521], 809: [7404], 2858: [6844], 813: [1535], 2862: [10787], 818: [11295], 5941: [11159, 12028], 5942: [12233], 6967: [9743], 11066: [11343], 3899: [6699], 830: [4024], 9023: [12130], 11232: [11722], 6978: [11931], 6980: [7541], 6966: [9150], 6987: [9497], 5966: [7206, 7727], 10904: [12057], 10070: [10422], 3063: [7729], 9049: [11635], 5434: [11071], 2910: [8735], 2915: [4240], 4965: [8391], 3942: [9788], 438: [7806], 3944: [10670], 6290: [8347], 3956: [11857], 4981: [7778], 887: [9323], 894: [6430], 896: [3877], 8070: [10762], 6023: [10478], 3981: [6328, 6515], 6030: [7620], 1935: [4549], 1688: [6871, 7317], 6034: [12314], 4054: [4070, 9323], 924: [7442], 2975: [10827], 5024: [11401], 8735: [10688], 2979: [5339], 8100: [9770], 10874: [10931], 934: [5458], 7082: [10365], 327: [5326, 9636], 6962: [8431], 1967: [5249], 7095: [8213], 4029: [7769, 10280], 4030: [12130], 9154: [10592], 3012: [6797], 10187: [11102], 9174: [12096], 9210: [9770], 991: [2832], 3040: [5731], 4070: [9323], 9196: [9242], 1329: [7468], 3054: [4109], 10231: [12406], 10234: [11211]}\n",
      "12100\n",
      "{4102: [7735], 1034: [7133], 3083: [4562], 7180: [7957], 7185: [8248], 857: [7404], 4121: [4191], 7203: [11429], 6185: [6860], 5164: [5722], 45: [3556], 5166: [7769], 47: [2276, 10475], 2097: [2120, 8841], 1074: [2980], 1075: [4676], 3134: [8560], 1095: [5941, 11159], 7246: [7439], 10321: [10559], 3155: [3454], 6228: [11095], 6234: [6845], 1115: [1981], 2746: [2825], 5214: [11306], 7013: [12062], 5218: [5416, 6820, 8058, 10234], 9062: [10280], 4200: [11249], 111: [4038], 115: [7372], 1140: [2980, 8058, 10632, 11386], 1141: [4771], 6265: [10478], 1148: [11310], 1149: [6628, 8772], 10371: [12293], 135: [6966], 7308: [10943], 3437: [3961, 7372], 146: [7826], 1177: [10083], 3226: [3556, 4038], 1179: [3167], 9379: [12219], 6311: [10371], 6316: [9741], 3246: [6048, 8187], 3256: [12342], 1209: [11001], 1211: [3881], 9413: [11343], 5324: [7989], 3274: [7830], 7372: [8581], 5326: [11207], 3279: [10906], 5332: [11376], 1240: [4718], 218: [9555], 1402: [5212, 8529], 6367: [9009], 1248: [4175], 2273: [9515], 1404: [3310, 4850, 6698], 3306: [11263], 3310: [6698], 2288: [10948], 5362: [12051, 12061], 5364: [11374], 245: [10970], 7414: [10549], 2295: [10086], 3320: [4342], 4396: [5389], 252: [8867], 1278: [6178], 256: [11743], 263: [615], 3344: [6896], 6418: [9047], 11540: [12130], 7445: [10589], 3352: [4973], 1305: [5218, 6820], 6428: [8608, 10016], 5405: [9150], 2336: [11166], 8482: [8735], 293: [2803, 9624], 2344: [11325], 8490: [10000], 4999: [7837], 7468: [8791], 1325: [9555, 12369], 5423: [8467], 3377: [6428], 312: [8136], 2361: [7458], 10554: [11343], 3466: [9569], 224: [10000], 1351: [7977], 5451: [10688], 336: [10097], 2389: [8873], 2394: [7578], 5467: [11295], 5468: [7013], 8543: [11069], 4838: [11081], 4455: [5018], 5480: [7137], 4457: [5136], 9581: [11337], 3442: [8343], 9014: [12342], 7541: [7741], 2423: [3653, 11581], 8568: [8605], 3450: [4644], 2428: [5719], 381: [2104, 5700], 6528: [7273], 8768: [11080], 394: [4798, 8608], 6539: [8126], 1421: [6281], 2447: [9278, 11221], 3480: [7475], 409: [4201], 2460: [9819], 5542: [9056], 423: [7694], 3496: [7095], 1451: [6976], 8626: [9655], 3356: [9654], 6583: [10210], 8632: [9666], 8633: [11102], 3515: [4394], 444: [1201], 10685: [12382], 4544: [10774], 2501: [2877], 2504: [3457], 3529: [11175], 2492: [5636], 9677: [10234, 10632, 11211], 2510: [8668, 10268], 3535: [12100], 5505: [10820], 78: [714], 8663: [10112], 10717: [12062], 9836: [11857], 3187: [3548], 3556: [8136], 8614: [10717], 3494: [10331], 490: [9016], 4592: [11018], 1521: [8978], 501: [7250, 12289], 8701: [9420], 3585: [11280], 2563: [4029, 7977], 5641: [7680], 1547: [2738, 7177], 525: [3148], 2576: [4347], 529: [1299, 12248], 6676: [11249], 870: [3516], 7705: [10717], 543: [4285], 4640: [5515], 545: [11133], 2595: [8912, 9581, 11337], 549: [10919], 552: [3546], 6698: [10097], 1287: [8735], 2607: [3464], 8752: [10097, 11634], 4660: [9782], 2613: [9593], 569: [6500], 11359: [12339], 7744: [9131], 577: [9278, 11652], 3653: [8446], 3658: [10447], 2644: [4883], 597: [8563], 7767: [9062, 11326], 3672: [10592], 6749: [7033], 615: [11455], 3516: [11617], 8810: [11095], 1643: [5941], 2668: [8292], 5743: [6147], 11888: [11901], 958: [9023], 3703: [6300], 632: [5129], 633: [7246], 1658: [4622], 6779: [10349], 2684: [11782], 2693: [5983], 4742: [8970, 10211], 4716: [7224], 654: [4509], 8849: [9497], 1683: [9555], 2710: [6244], 2712: [10119], 5790: [9150], 671: [5475], 5795: [5966, 7727, 9232], 3749: [10919], 2728: [7317, 11529], 4728: [7311], 5805: [7307], 3357: [8918, 10340, 11071], 2738: [3981], 2739: [7832, 10365], 6840: [10845], 1721: [2324], 4794: [9757], 699: [10331], 2750: [6877], 703: [1837], 10016: [11655], 4804: [12102], 714: [1876, 3914], 4727: [11746], 6860: [7372], 461: [2837], 8912: [9581], 6776: [8226], 4825: [7690], 6877: [8735, 10688], 1317: [9354], 8656: [10963], 8827: [9323], 3812: [12030], 742: [7695], 6268: [6699], 3820: [10349], 2801: [6620], 4850: [9497], 3830: [9274, 11388], 3831: [8633, 10187, 11102], 2812: [9916], 469: [5129], 3843: [8383, 9062], 772: [7065], 8150: [11472], 6444: [9129], 4877: [9829], 1806: [10603], 4397: [10261], 2832: [4650], 6932: [10554, 11066], 7958: [10231], 8985: [10107], 6944: [9034], 5923: [8912, 9581, 11337], 3877: [4562], 3982: [4544, 8058], 2855: [7521], 809: [7404], 2858: [6844], 813: [1535], 2862: [10787], 818: [11295], 5941: [11159, 12028], 5942: [12233], 6967: [9743], 11066: [11343], 3899: [6699], 830: [4024], 9023: [12130], 11232: [11722], 6978: [11931], 6980: [7541], 6966: [9150], 6987: [9497], 5966: [7206, 7727], 10904: [12057], 10070: [10422], 3063: [7729], 9049: [11635], 5434: [11071], 2910: [8735], 2915: [4240], 4965: [8391], 3942: [9788], 438: [7806], 3944: [10670], 6290: [8347], 3956: [11857], 4981: [7778], 887: [9323], 894: [6430], 896: [3877], 8070: [10762], 6023: [10478], 3981: [6328, 6515], 6030: [7620], 1935: [4549], 1688: [6871, 7317], 6034: [12314], 4054: [4070, 9323], 924: [7442], 2975: [10827], 5024: [11401], 8735: [10688], 2979: [5339], 8100: [9770], 10874: [10931], 934: [5458], 7082: [10365], 327: [5326, 9636], 6962: [8431], 1967: [5249], 7095: [8213], 4029: [7769, 10280], 4030: [12130], 9154: [10592], 3012: [6797], 10187: [11102], 9174: [12096], 9210: [9770], 991: [2832], 3040: [5731], 4070: [9323], 9196: [9242], 1329: [7468], 3054: [4109], 10231: [12406], 10234: [11211]}\n"
     ]
    },
    {
     "name": "stdout",
     "output_type": "stream",
     "text": [
      "12200\n",
      "{4102: [7735], 1034: [7133], 3083: [4562], 7180: [7957], 7185: [8248], 857: [7404], 4121: [4191], 7203: [11429], 6185: [6860], 5164: [5722], 45: [3556], 5166: [7769], 47: [2276, 10475], 2097: [2120, 8841], 1074: [2980], 1075: [4676], 3134: [8560], 1095: [5941, 11159], 7246: [7439], 10321: [10559], 3155: [3454], 6228: [11095], 6234: [6845], 1115: [1981], 2746: [2825], 5214: [11306], 7013: [12062], 5218: [5416, 6820, 8058, 10234], 9062: [10280], 4200: [11249], 111: [4038], 115: [7372], 1140: [2980, 8058, 10632, 11386], 1141: [4771], 6265: [10478], 1148: [11310], 1149: [6628, 8772], 10371: [12293], 135: [6966], 7308: [10943], 3437: [3961, 7372], 146: [7826], 1177: [10083], 3226: [3556, 4038], 1179: [3167], 9379: [12219], 6311: [10371], 6316: [9741], 3246: [6048, 8187], 3256: [12342], 1209: [11001], 1211: [3881], 9413: [11343], 5324: [7989], 3274: [7830], 7372: [8581], 5326: [11207], 3279: [10906], 5332: [11376], 1240: [4718], 218: [9555], 1402: [5212, 8529], 6367: [9009], 1248: [4175], 2273: [9515], 1404: [3310, 4850, 6698], 3306: [11263], 3310: [6698], 2288: [10948], 5362: [12051, 12061], 5364: [11374], 245: [10970], 7414: [10549], 2295: [10086], 3320: [4342], 4396: [5389], 252: [8867], 1278: [6178], 256: [11743], 263: [615], 3344: [6896], 6418: [9047], 11540: [12130], 7445: [10589], 3352: [4973], 1305: [5218, 6820], 6428: [8608, 10016], 5405: [9150], 2336: [11166], 8482: [8735], 293: [2803, 9624], 2344: [11325], 8490: [10000], 4999: [7837], 7468: [8791], 1325: [9555, 12369], 5423: [8467], 3377: [6428], 312: [8136], 2361: [7458], 10554: [11343], 3466: [9569], 224: [10000], 1351: [7977], 5451: [10688], 336: [10097], 2389: [8873], 2394: [7578], 5467: [11295], 5468: [7013], 8543: [11069], 4838: [11081], 4455: [5018], 5480: [7137], 4457: [5136], 9581: [11337], 3442: [8343], 9014: [12342], 7541: [7741], 2423: [3653, 11581], 8568: [8605], 3450: [4644], 2428: [5719], 381: [2104, 5700], 6528: [7273], 8768: [11080], 394: [4798, 8608], 6539: [8126], 1421: [6281], 2447: [9278, 11221], 3480: [7475], 409: [4201], 2460: [9819], 5542: [9056], 423: [7694], 3496: [7095], 1451: [6976], 8626: [9655], 3356: [9654], 6583: [10210], 8632: [9666], 8633: [11102], 3515: [4394], 444: [1201], 10685: [12382], 4544: [10774], 2501: [2877], 2504: [3457], 3529: [11175], 2492: [5636], 9677: [10234, 10632, 11211], 2510: [8668, 10268], 3535: [12100], 5505: [10820], 78: [714], 8663: [10112], 10717: [12062], 9836: [11857], 3187: [3548], 3556: [8136], 8614: [10717], 3494: [10331], 490: [9016], 4592: [11018], 1521: [8978], 501: [7250, 12289], 8701: [9420], 3585: [11280], 2563: [4029, 7977], 5641: [7680], 1547: [2738, 7177], 525: [3148], 2576: [4347], 529: [1299, 12248], 6676: [11249], 870: [3516], 7705: [10717], 543: [4285], 4640: [5515], 545: [11133], 2595: [8912, 9581, 11337], 549: [10919], 552: [3546], 6698: [10097], 1287: [8735], 2607: [3464], 8752: [10097, 11634], 4660: [9782], 2613: [9593], 569: [6500], 11359: [12339], 7744: [9131], 577: [9278, 11652], 3653: [8446], 3658: [10447], 2644: [4883], 597: [8563], 7767: [9062, 11326], 3672: [10592], 6749: [7033], 615: [11455], 3516: [11617], 8810: [11095], 1643: [5941], 2668: [8292], 5743: [6147], 11888: [11901], 958: [9023], 3703: [6300], 632: [5129], 633: [7246], 1658: [4622], 6779: [10349], 2684: [11782], 2693: [5983], 4742: [8970, 10211], 4716: [7224], 654: [4509], 8849: [9497], 1683: [9555], 2710: [6244], 2712: [10119], 5790: [9150], 671: [5475], 5795: [5966, 7727, 9232], 3749: [10919], 2728: [7317, 11529], 4728: [7311], 5805: [7307], 3357: [8918, 10340, 11071], 2738: [3981], 2739: [7832, 10365], 6840: [10845], 1721: [2324], 4794: [9757], 699: [10331], 2750: [6877], 703: [1837], 10016: [11655], 4804: [12102], 714: [1876, 3914], 4727: [11746], 6860: [7372], 461: [2837], 8912: [9581], 6776: [8226], 4825: [7690], 6877: [8735, 10688], 1317: [9354], 8656: [10963], 8827: [9323], 3812: [12030], 742: [7695], 6268: [6699], 3820: [10349], 2801: [6620], 4850: [9497], 3830: [9274, 11388], 3831: [8633, 10187, 11102], 2812: [9916], 469: [5129], 3843: [8383, 9062], 772: [7065], 8150: [11472], 6444: [9129], 4877: [9829], 1806: [10603], 4397: [10261], 2832: [4650], 6932: [10554, 11066], 7958: [10231], 8985: [10107], 6944: [9034], 5923: [8912, 9581, 11337], 3877: [4562], 3982: [4544, 8058], 2855: [7521], 809: [7404], 2858: [6844], 813: [1535], 2862: [10787], 818: [11295], 5941: [11159, 12028], 5942: [12233], 6967: [9743], 11066: [11343], 3899: [6699], 830: [4024], 9023: [12130], 11232: [11722], 6978: [11931], 6980: [7541], 6966: [9150], 6987: [9497], 5966: [7206, 7727], 10904: [12057], 10070: [10422], 3063: [7729], 9049: [11635], 5434: [11071], 2910: [8735], 2915: [4240], 4965: [8391], 3942: [9788], 438: [7806], 3944: [10670], 6290: [8347], 3956: [11857], 4981: [7778], 887: [9323], 894: [6430], 896: [3877], 8070: [10762], 6023: [10478], 3981: [6328, 6515], 6030: [7620], 1935: [4549], 1688: [6871, 7317], 6034: [12314], 4054: [4070, 9323], 924: [7442], 2975: [10827], 5024: [11401], 8735: [10688], 2979: [5339], 8100: [9770], 10874: [10931], 934: [5458], 7082: [10365], 327: [5326, 9636], 6962: [8431], 1967: [5249], 7095: [8213], 4029: [7769, 10280], 4030: [12130], 9154: [10592], 3012: [6797], 10187: [11102], 9174: [12096], 9210: [9770], 991: [2832], 3040: [5731], 4070: [9323], 9196: [9242], 1329: [7468], 3054: [4109], 10231: [12406], 10234: [11211]}\n",
      "12300\n",
      "{4102: [7735], 1034: [7133], 3083: [4562], 7180: [7957], 7185: [8248], 857: [7404], 4121: [4191], 7203: [11429], 6185: [6860], 5164: [5722], 45: [3556], 5166: [7769], 47: [2276, 10475], 2097: [2120, 8841], 1074: [2980], 1075: [4676], 3134: [8560], 1095: [5941, 11159], 7246: [7439], 10321: [10559], 3155: [3454], 6228: [11095], 6234: [6845], 1115: [1981], 2746: [2825], 5214: [11306], 7013: [12062], 5218: [5416, 6820, 8058, 10234], 9062: [10280], 4200: [11249], 111: [4038], 115: [7372], 1140: [2980, 8058, 10632, 11386], 1141: [4771], 6265: [10478], 1148: [11310], 1149: [6628, 8772], 10371: [12293], 135: [6966], 7308: [10943], 3437: [3961, 7372], 146: [7826], 1177: [10083], 3226: [3556, 4038], 1179: [3167], 9379: [12219], 6311: [10371], 6316: [9741], 3246: [6048, 8187], 3256: [12342], 1209: [11001], 1211: [3881], 9413: [11343], 5324: [7989], 3274: [7830], 7372: [8581], 5326: [11207], 3279: [10906], 5332: [11376], 1240: [4718], 218: [9555], 1402: [5212, 8529], 6367: [9009], 1248: [4175], 2273: [9515], 1404: [3310, 4850, 6698], 3306: [11263], 3310: [6698], 2288: [10948], 5362: [12051, 12061], 5364: [11374], 245: [10970], 7414: [10549], 2295: [10086], 3320: [4342], 4396: [5389], 252: [8867], 1278: [6178], 256: [11743], 263: [615], 3344: [6896], 6418: [9047], 11540: [12130], 7445: [10589], 3352: [4973], 1305: [5218, 6820], 6428: [8608, 10016], 5405: [9150], 2336: [11166], 8482: [8735], 293: [2803, 9624], 2344: [11325], 8490: [10000], 4999: [7837], 7468: [8791], 1325: [9555, 12369], 5423: [8467], 3377: [6428], 312: [8136], 2361: [7458], 10554: [11343], 3466: [9569], 224: [10000], 1351: [7977], 5451: [10688], 336: [10097], 2389: [8873], 2394: [7578], 5467: [11295], 5468: [7013], 8543: [11069], 4838: [11081], 4455: [5018], 5480: [7137], 4457: [5136], 9581: [11337], 3442: [8343], 9014: [12342], 7541: [7741], 2423: [3653, 11581], 8568: [8605], 3450: [4644], 2428: [5719], 381: [2104, 5700], 6528: [7273], 8768: [11080], 394: [4798, 8608], 6539: [8126], 1421: [6281], 2447: [9278, 11221], 3480: [7475], 409: [4201], 2460: [9819], 5542: [9056], 423: [7694], 3496: [7095], 1451: [6976], 8626: [9655], 3356: [9654], 6583: [10210], 8632: [9666], 8633: [11102], 3515: [4394], 444: [1201], 10685: [12382], 4544: [10774], 2501: [2877], 2504: [3457], 3529: [11175], 2492: [5636], 9677: [10234, 10632, 11211], 2510: [8668, 10268], 3535: [12100], 5505: [10820], 78: [714], 8663: [10112], 10717: [12062], 9836: [11857], 3187: [3548], 3556: [8136], 8614: [10717], 3494: [10331], 490: [9016], 4592: [11018], 1521: [8978], 501: [7250, 12289], 8701: [9420], 3585: [11280], 2563: [4029, 7977], 5641: [7680], 1547: [2738, 7177], 525: [3148], 2576: [4347], 529: [1299, 12248], 6676: [11249], 870: [3516], 7705: [10717], 543: [4285], 4640: [5515], 545: [11133], 2595: [8912, 9581, 11337], 549: [10919], 552: [3546], 6698: [10097], 1287: [8735], 2607: [3464], 8752: [10097, 11634], 4660: [9782], 2613: [9593], 569: [6500], 11359: [12339], 7744: [9131], 577: [9278, 11652], 3653: [8446], 3658: [10447], 2644: [4883], 597: [8563], 7767: [9062, 11326], 3672: [10592], 6749: [7033], 615: [11455], 3516: [11617], 8810: [11095], 1643: [5941], 2668: [8292], 5743: [6147], 11888: [11901], 958: [9023], 3703: [6300], 632: [5129], 633: [7246], 1658: [4622], 6779: [10349], 2684: [11782], 2693: [5983], 4742: [8970, 10211], 4716: [7224], 654: [4509], 8849: [9497], 1683: [9555], 2710: [6244], 2712: [10119], 5790: [9150], 671: [5475], 5795: [5966, 7727, 9232], 3749: [10919], 2728: [7317, 11529], 4728: [7311], 5805: [7307], 3357: [8918, 10340, 11071], 2738: [3981], 2739: [7832, 10365], 6840: [10845], 1721: [2324], 4794: [9757], 699: [10331], 2750: [6877], 703: [1837], 10016: [11655], 4804: [12102], 714: [1876, 3914], 4727: [11746], 6860: [7372], 461: [2837], 8912: [9581], 6776: [8226], 4825: [7690], 6877: [8735, 10688], 1317: [9354], 8656: [10963], 8827: [9323], 3812: [12030], 742: [7695], 6268: [6699], 3820: [10349], 2801: [6620], 4850: [9497], 3830: [9274, 11388], 3831: [8633, 10187, 11102], 2812: [9916], 469: [5129], 3843: [8383, 9062], 772: [7065], 8150: [11472], 6444: [9129], 4877: [9829], 1806: [10603], 4397: [10261], 2832: [4650], 6932: [10554, 11066], 7958: [10231], 8985: [10107], 6944: [9034], 5923: [8912, 9581, 11337], 3877: [4562], 3982: [4544, 8058], 2855: [7521], 809: [7404], 2858: [6844], 813: [1535], 2862: [10787], 818: [11295], 5941: [11159, 12028], 5942: [12233], 6967: [9743], 11066: [11343], 3899: [6699], 830: [4024], 9023: [12130], 11232: [11722], 6978: [11931], 6980: [7541], 6966: [9150], 6987: [9497], 5966: [7206, 7727], 10904: [12057], 10070: [10422], 3063: [7729], 9049: [11635], 5434: [11071], 2910: [8735], 2915: [4240], 4965: [8391], 3942: [9788], 438: [7806], 3944: [10670], 6290: [8347], 3956: [11857], 4981: [7778], 887: [9323], 894: [6430], 896: [3877], 8070: [10762], 6023: [10478], 3981: [6328, 6515], 6030: [7620], 1935: [4549], 1688: [6871, 7317], 6034: [12314], 4054: [4070, 9323], 924: [7442], 2975: [10827], 5024: [11401], 8735: [10688], 2979: [5339], 8100: [9770], 10874: [10931], 934: [5458], 7082: [10365], 327: [5326, 9636], 6962: [8431], 1967: [5249], 7095: [8213], 4029: [7769, 10280], 4030: [12130], 9154: [10592], 3012: [6797], 10187: [11102], 9174: [12096], 9210: [9770], 991: [2832], 3040: [5731], 4070: [9323], 9196: [9242], 1329: [7468], 3054: [4109], 10231: [12406], 10234: [11211]}\n",
      "12400\n",
      "{4102: [7735], 1034: [7133], 3083: [4562], 7180: [7957], 7185: [8248], 857: [7404], 4121: [4191], 7203: [11429], 6185: [6860], 5164: [5722], 45: [3556], 5166: [7769], 47: [2276, 10475], 2097: [2120, 8841], 1074: [2980], 1075: [4676], 3134: [8560], 1095: [5941, 11159], 7246: [7439], 10321: [10559], 3155: [3454], 6228: [11095], 6234: [6845], 1115: [1981], 2746: [2825], 5214: [11306], 7013: [12062], 5218: [5416, 6820, 8058, 10234], 9062: [10280], 4200: [11249], 111: [4038], 115: [7372], 1140: [2980, 8058, 10632, 11386], 1141: [4771], 6265: [10478], 1148: [11310], 1149: [6628, 8772], 10371: [12293], 135: [6966], 7308: [10943], 3437: [3961, 7372], 146: [7826], 1177: [10083], 3226: [3556, 4038], 1179: [3167], 9379: [12219], 6311: [10371], 6316: [9741], 3246: [6048, 8187], 3256: [12342], 1209: [11001], 1211: [3881], 9413: [11343], 5324: [7989], 3274: [7830], 7372: [8581], 5326: [11207], 3279: [10906], 5332: [11376], 1240: [4718], 218: [9555], 1402: [5212, 8529], 6367: [9009], 1248: [4175], 2273: [9515], 1404: [3310, 4850, 6698], 3306: [11263], 3310: [6698], 2288: [10948], 5362: [12051, 12061], 5364: [11374], 245: [10970], 7414: [10549], 2295: [10086], 3320: [4342], 4396: [5389], 252: [8867], 1278: [6178], 256: [11743], 263: [615], 3344: [6896], 6418: [9047], 11540: [12130], 7445: [10589], 3352: [4973], 1305: [5218, 6820], 6428: [8608, 10016], 5405: [9150], 2336: [11166], 8482: [8735], 293: [2803, 9624], 2344: [11325], 8490: [10000], 4999: [7837], 7468: [8791], 1325: [9555, 12369], 5423: [8467], 3377: [6428], 312: [8136], 2361: [7458], 10554: [11343], 3466: [9569], 224: [10000], 1351: [7977], 5451: [10688], 336: [10097], 2389: [8873], 2394: [7578], 5467: [11295], 5468: [7013], 8543: [11069], 4838: [11081], 4455: [5018], 5480: [7137], 4457: [5136], 9581: [11337], 3442: [8343], 9014: [12342], 7541: [7741], 2423: [3653, 11581], 8568: [8605], 3450: [4644], 2428: [5719], 381: [2104, 5700], 6528: [7273], 8768: [11080], 394: [4798, 8608], 6539: [8126], 1421: [6281], 2447: [9278, 11221], 3480: [7475], 409: [4201], 2460: [9819], 5542: [9056], 423: [7694], 3496: [7095], 1451: [6976], 8626: [9655], 3356: [9654], 6583: [10210], 8632: [9666], 8633: [11102], 3515: [4394], 444: [1201], 10685: [12382], 4544: [10774], 2501: [2877], 2504: [3457], 3529: [11175], 2492: [5636], 9677: [10234, 10632, 11211], 2510: [8668, 10268], 3535: [12100], 5505: [10820], 78: [714], 8663: [10112], 10717: [12062], 9836: [11857], 3187: [3548], 3556: [8136], 8614: [10717], 3494: [10331], 490: [9016], 4592: [11018], 1521: [8978], 501: [7250, 12289], 8701: [9420], 3585: [11280], 2563: [4029, 7977], 5641: [7680], 1547: [2738, 7177], 525: [3148], 2576: [4347], 529: [1299, 12248], 6676: [11249], 870: [3516], 7705: [10717], 543: [4285], 4640: [5515], 545: [11133], 2595: [8912, 9581, 11337], 549: [10919], 552: [3546], 6698: [10097], 1287: [8735], 2607: [3464], 8752: [10097, 11634], 4660: [9782], 2613: [9593], 569: [6500], 11359: [12339], 7744: [9131], 577: [9278, 11652], 3653: [8446], 3658: [10447], 2644: [4883], 597: [8563], 7767: [9062, 11326], 3672: [10592], 6749: [7033], 615: [11455], 3516: [11617], 8810: [11095], 1643: [5941], 2668: [8292], 5743: [6147], 11888: [11901], 958: [9023], 3703: [6300], 632: [5129], 633: [7246], 1658: [4622], 6779: [10349], 2684: [11782], 2693: [5983], 4742: [8970, 10211], 4716: [7224], 654: [4509], 8849: [9497], 1683: [9555], 2710: [6244], 2712: [10119], 5790: [9150], 671: [5475], 5795: [5966, 7727, 9232], 3749: [10919], 2728: [7317, 11529], 4728: [7311], 5805: [7307], 3357: [8918, 10340, 11071], 2738: [3981], 2739: [7832, 10365], 6840: [10845], 1721: [2324], 4794: [9757], 699: [10331], 2750: [6877], 703: [1837], 10016: [11655], 4804: [12102], 714: [1876, 3914], 4727: [11746], 6860: [7372], 461: [2837], 8912: [9581], 6776: [8226], 4825: [7690], 6877: [8735, 10688], 1317: [9354], 8656: [10963], 8827: [9323], 3812: [12030], 742: [7695], 6268: [6699], 3820: [10349], 2801: [6620], 4850: [9497], 3830: [9274, 11388], 3831: [8633, 10187, 11102], 2812: [9916], 469: [5129], 3843: [8383, 9062], 772: [7065], 8150: [11472], 6444: [9129], 4877: [9829], 1806: [10603], 4397: [10261], 2832: [4650], 6932: [10554, 11066], 7958: [10231], 8985: [10107], 6944: [9034], 5923: [8912, 9581, 11337], 3877: [4562], 3982: [4544, 8058], 2855: [7521], 809: [7404], 2858: [6844], 813: [1535], 2862: [10787], 818: [11295], 5941: [11159, 12028], 5942: [12233], 6967: [9743], 11066: [11343], 3899: [6699], 830: [4024], 9023: [12130], 11232: [11722], 6978: [11931], 6980: [7541], 6966: [9150], 6987: [9497], 5966: [7206, 7727], 10904: [12057], 10070: [10422], 3063: [7729], 9049: [11635], 5434: [11071], 2910: [8735], 2915: [4240], 4965: [8391], 3942: [9788], 438: [7806], 3944: [10670], 6290: [8347], 3956: [11857], 4981: [7778], 887: [9323], 894: [6430], 896: [3877], 8070: [10762], 6023: [10478], 3981: [6328, 6515], 6030: [7620], 1935: [4549], 1688: [6871, 7317], 6034: [12314], 4054: [4070, 9323], 924: [7442], 2975: [10827], 5024: [11401], 8735: [10688], 2979: [5339], 8100: [9770], 10874: [10931], 934: [5458], 7082: [10365], 327: [5326, 9636], 6962: [8431], 1967: [5249], 7095: [8213], 4029: [7769, 10280], 4030: [12130], 9154: [10592], 3012: [6797], 10187: [11102], 9174: [12096], 9210: [9770], 991: [2832], 3040: [5731], 4070: [9323], 9196: [9242], 1329: [7468], 3054: [4109], 10231: [12406], 10234: [11211]}\n"
     ]
    },
    {
     "data": {
      "text/plain": [
       "{45: [3556],\n",
       " 47: [2276, 10475],\n",
       " 78: [714],\n",
       " 111: [4038],\n",
       " 115: [7372],\n",
       " 135: [6966],\n",
       " 146: [7826],\n",
       " 218: [9555],\n",
       " 224: [10000],\n",
       " 245: [10970],\n",
       " 252: [8867],\n",
       " 256: [11743],\n",
       " 263: [615],\n",
       " 293: [2803, 9624],\n",
       " 312: [8136],\n",
       " 327: [5326, 9636],\n",
       " 336: [10097],\n",
       " 381: [2104, 5700],\n",
       " 394: [4798, 8608],\n",
       " 409: [4201],\n",
       " 423: [7694],\n",
       " 438: [7806],\n",
       " 444: [1201],\n",
       " 461: [2837],\n",
       " 469: [5129],\n",
       " 490: [9016],\n",
       " 501: [7250, 12289],\n",
       " 525: [3148],\n",
       " 529: [1299, 12248],\n",
       " 543: [4285],\n",
       " 545: [11133],\n",
       " 549: [10919],\n",
       " 552: [3546],\n",
       " 569: [6500],\n",
       " 577: [9278, 11652],\n",
       " 597: [8563],\n",
       " 615: [11455],\n",
       " 632: [5129],\n",
       " 633: [7246],\n",
       " 654: [4509],\n",
       " 671: [5475],\n",
       " 699: [10331],\n",
       " 703: [1837],\n",
       " 714: [1876, 3914],\n",
       " 742: [7695],\n",
       " 772: [7065],\n",
       " 809: [7404],\n",
       " 813: [1535],\n",
       " 818: [11295],\n",
       " 830: [4024],\n",
       " 857: [7404],\n",
       " 870: [3516],\n",
       " 887: [9323],\n",
       " 894: [6430],\n",
       " 896: [3877],\n",
       " 924: [7442],\n",
       " 934: [5458],\n",
       " 958: [9023],\n",
       " 991: [2832],\n",
       " 1034: [7133],\n",
       " 1074: [2980],\n",
       " 1075: [4676],\n",
       " 1095: [5941, 11159],\n",
       " 1115: [1981],\n",
       " 1140: [2980, 8058, 10632, 11386],\n",
       " 1141: [4771],\n",
       " 1148: [11310],\n",
       " 1149: [6628, 8772],\n",
       " 1177: [10083],\n",
       " 1179: [3167],\n",
       " 1209: [11001],\n",
       " 1211: [3881],\n",
       " 1240: [4718],\n",
       " 1248: [4175],\n",
       " 1278: [6178],\n",
       " 1287: [8735],\n",
       " 1305: [5218, 6820],\n",
       " 1317: [9354],\n",
       " 1325: [9555, 12369],\n",
       " 1329: [7468],\n",
       " 1351: [7977],\n",
       " 1402: [5212, 8529],\n",
       " 1404: [3310, 4850, 6698],\n",
       " 1421: [6281],\n",
       " 1451: [6976],\n",
       " 1521: [8978],\n",
       " 1547: [2738, 7177],\n",
       " 1643: [5941],\n",
       " 1658: [4622],\n",
       " 1683: [9555],\n",
       " 1688: [6871, 7317],\n",
       " 1721: [2324],\n",
       " 1806: [10603],\n",
       " 1935: [4549],\n",
       " 1967: [5249],\n",
       " 2097: [2120, 8841],\n",
       " 2273: [9515],\n",
       " 2288: [10948],\n",
       " 2295: [10086],\n",
       " 2336: [11166],\n",
       " 2344: [11325],\n",
       " 2361: [7458],\n",
       " 2389: [8873],\n",
       " 2394: [7578],\n",
       " 2423: [3653, 11581],\n",
       " 2428: [5719],\n",
       " 2447: [9278, 11221],\n",
       " 2460: [9819],\n",
       " 2492: [5636],\n",
       " 2501: [2877],\n",
       " 2504: [3457],\n",
       " 2510: [8668, 10268],\n",
       " 2563: [4029, 7977],\n",
       " 2576: [4347],\n",
       " 2595: [8912, 9581, 11337],\n",
       " 2607: [3464],\n",
       " 2613: [9593],\n",
       " 2644: [4883],\n",
       " 2668: [8292],\n",
       " 2684: [11782],\n",
       " 2693: [5983],\n",
       " 2710: [6244],\n",
       " 2712: [10119],\n",
       " 2728: [7317, 11529],\n",
       " 2738: [3981],\n",
       " 2739: [7832, 10365],\n",
       " 2746: [2825],\n",
       " 2750: [6877],\n",
       " 2801: [6620],\n",
       " 2812: [9916],\n",
       " 2832: [4650],\n",
       " 2855: [7521],\n",
       " 2858: [6844],\n",
       " 2862: [10787],\n",
       " 2910: [8735],\n",
       " 2915: [4240],\n",
       " 2975: [10827],\n",
       " 2979: [5339],\n",
       " 3012: [6797],\n",
       " 3040: [5731],\n",
       " 3054: [4109],\n",
       " 3063: [7729],\n",
       " 3083: [4562],\n",
       " 3134: [8560],\n",
       " 3155: [3454],\n",
       " 3187: [3548],\n",
       " 3226: [3556, 4038],\n",
       " 3246: [6048, 8187],\n",
       " 3256: [12342],\n",
       " 3274: [7830],\n",
       " 3279: [10906],\n",
       " 3306: [11263],\n",
       " 3310: [6698],\n",
       " 3320: [4342],\n",
       " 3344: [6896],\n",
       " 3352: [4973],\n",
       " 3356: [9654],\n",
       " 3357: [8918, 10340, 11071],\n",
       " 3377: [6428],\n",
       " 3437: [3961, 7372],\n",
       " 3442: [8343],\n",
       " 3450: [4644],\n",
       " 3466: [9569],\n",
       " 3480: [7475],\n",
       " 3494: [10331],\n",
       " 3496: [7095],\n",
       " 3515: [4394],\n",
       " 3516: [11617],\n",
       " 3529: [11175],\n",
       " 3535: [12100],\n",
       " 3556: [8136],\n",
       " 3585: [11280],\n",
       " 3653: [8446],\n",
       " 3658: [10447],\n",
       " 3672: [10592],\n",
       " 3703: [6300],\n",
       " 3749: [10919],\n",
       " 3812: [12030],\n",
       " 3820: [10349],\n",
       " 3830: [9274, 11388],\n",
       " 3831: [8633, 10187, 11102],\n",
       " 3843: [8383, 9062],\n",
       " 3877: [4562],\n",
       " 3899: [6699],\n",
       " 3942: [9788],\n",
       " 3944: [10670],\n",
       " 3956: [11857],\n",
       " 3981: [6328, 6515],\n",
       " 3982: [4544, 8058],\n",
       " 4029: [7769, 10280],\n",
       " 4030: [12130],\n",
       " 4054: [4070, 9323],\n",
       " 4070: [9323],\n",
       " 4102: [7735],\n",
       " 4121: [4191],\n",
       " 4200: [11249],\n",
       " 4396: [5389],\n",
       " 4397: [10261],\n",
       " 4455: [5018],\n",
       " 4457: [5136],\n",
       " 4544: [10774],\n",
       " 4592: [11018],\n",
       " 4640: [5515],\n",
       " 4660: [9782],\n",
       " 4716: [7224],\n",
       " 4727: [11746],\n",
       " 4728: [7311],\n",
       " 4742: [8970, 10211],\n",
       " 4794: [9757],\n",
       " 4804: [12102],\n",
       " 4825: [7690],\n",
       " 4838: [11081],\n",
       " 4850: [9497],\n",
       " 4877: [9829],\n",
       " 4965: [8391],\n",
       " 4981: [7778],\n",
       " 4999: [7837],\n",
       " 5024: [11401],\n",
       " 5164: [5722],\n",
       " 5166: [7769],\n",
       " 5214: [11306],\n",
       " 5218: [5416, 6820, 8058, 10234],\n",
       " 5324: [7989],\n",
       " 5326: [11207],\n",
       " 5332: [11376],\n",
       " 5362: [12051, 12061],\n",
       " 5364: [11374],\n",
       " 5405: [9150],\n",
       " 5423: [8467],\n",
       " 5434: [11071],\n",
       " 5451: [10688],\n",
       " 5467: [11295],\n",
       " 5468: [7013],\n",
       " 5480: [7137],\n",
       " 5505: [10820],\n",
       " 5542: [9056],\n",
       " 5641: [7680],\n",
       " 5743: [6147],\n",
       " 5790: [9150],\n",
       " 5795: [5966, 7727, 9232],\n",
       " 5805: [7307],\n",
       " 5923: [8912, 9581, 11337],\n",
       " 5941: [11159, 12028],\n",
       " 5942: [12233],\n",
       " 5966: [7206, 7727],\n",
       " 6023: [10478],\n",
       " 6030: [7620],\n",
       " 6034: [12314],\n",
       " 6185: [6860],\n",
       " 6228: [11095],\n",
       " 6234: [6845],\n",
       " 6265: [10478],\n",
       " 6268: [6699],\n",
       " 6290: [8347],\n",
       " 6311: [10371],\n",
       " 6316: [9741],\n",
       " 6367: [9009],\n",
       " 6418: [9047],\n",
       " 6428: [8608, 10016],\n",
       " 6444: [9129],\n",
       " 6528: [7273],\n",
       " 6539: [8126],\n",
       " 6583: [10210],\n",
       " 6676: [11249],\n",
       " 6698: [10097],\n",
       " 6749: [7033],\n",
       " 6776: [8226],\n",
       " 6779: [10349],\n",
       " 6840: [10845],\n",
       " 6860: [7372],\n",
       " 6877: [8735, 10688],\n",
       " 6932: [10554, 11066],\n",
       " 6944: [9034],\n",
       " 6962: [8431],\n",
       " 6966: [9150],\n",
       " 6967: [9743],\n",
       " 6978: [11931],\n",
       " 6980: [7541],\n",
       " 6987: [9497],\n",
       " 7013: [12062],\n",
       " 7082: [10365],\n",
       " 7095: [8213],\n",
       " 7180: [7957],\n",
       " 7185: [8248],\n",
       " 7203: [11429],\n",
       " 7246: [7439],\n",
       " 7308: [10943],\n",
       " 7372: [8581],\n",
       " 7414: [10549],\n",
       " 7445: [10589],\n",
       " 7468: [8791],\n",
       " 7541: [7741],\n",
       " 7705: [10717],\n",
       " 7744: [9131],\n",
       " 7767: [9062, 11326],\n",
       " 7958: [10231],\n",
       " 8070: [10762],\n",
       " 8100: [9770],\n",
       " 8150: [11472],\n",
       " 8482: [8735],\n",
       " 8490: [10000],\n",
       " 8543: [11069],\n",
       " 8568: [8605],\n",
       " 8614: [10717],\n",
       " 8626: [9655],\n",
       " 8632: [9666],\n",
       " 8633: [11102],\n",
       " 8656: [10963],\n",
       " 8663: [10112],\n",
       " 8701: [9420],\n",
       " 8735: [10688],\n",
       " 8752: [10097, 11634],\n",
       " 8768: [11080],\n",
       " 8810: [11095],\n",
       " 8827: [9323],\n",
       " 8849: [9497],\n",
       " 8912: [9581],\n",
       " 8985: [10107],\n",
       " 9014: [12342],\n",
       " 9023: [12130],\n",
       " 9049: [11635],\n",
       " 9062: [10280],\n",
       " 9154: [10592],\n",
       " 9174: [12096],\n",
       " 9196: [9242],\n",
       " 9210: [9770],\n",
       " 9379: [12219],\n",
       " 9413: [11343],\n",
       " 9581: [11337],\n",
       " 9677: [10234, 10632, 11211],\n",
       " 9836: [11857],\n",
       " 10016: [11655],\n",
       " 10070: [10422],\n",
       " 10187: [11102],\n",
       " 10231: [12406],\n",
       " 10234: [11211],\n",
       " 10321: [10559],\n",
       " 10371: [12293],\n",
       " 10554: [11343],\n",
       " 10685: [12382],\n",
       " 10717: [12062],\n",
       " 10874: [10931],\n",
       " 10904: [12057],\n",
       " 11066: [11343],\n",
       " 11232: [11722],\n",
       " 11359: [12339],\n",
       " 11540: [12130],\n",
       " 11888: [11901]}"
      ]
     },
     "execution_count": 270,
     "metadata": {},
     "output_type": "execute_result"
    }
   ],
   "source": [
    "bad = {}\n",
    "for i in range(len(ff)):\n",
    "    if i % 100 == 0:\n",
    "        print(i)\n",
    "        print(bad)\n",
    "    for j in range(i + 1, len(ff)):\n",
    "        if ff[i][1] == ff[j][1] and ff[i][2] == ff[j][2] and abs(ff[i][0] - ff[j][0]) < 120 and np.linalg.norm(ff[i][3:] - ff[j][3:]) < 10 and abs(labels[i] - labels[j]) >= 5:\n",
    "        #if ff[i][1] == ff[j][1] and ff[i][2] == ff[j][2] and abs(ff[i][0] - ff[j][0]) < 120 and abs(ff[i][6] - ff[j][6]) <= 5 and abs(labels[i] - labels[j]) > 5:\n",
    "        #if abs(ff[i][6] - ff[j][6]) <= 5 and abs(labels[i] - labels[j]) > 5:\n",
    "\n",
    "\n",
    "            if bad.get(i) == None:\n",
    "                bad[i] = []\n",
    "            bad[i].append(j)\n",
    "bad"
   ]
  },
  {
   "cell_type": "code",
   "execution_count": 253,
   "metadata": {},
   "outputs": [
    {
     "data": {
      "text/plain": [
       "[array([929.,   0.,   0.,  50.,  60.,  nan,  45.,  nan,  60.,  nan,  80.,\n",
       "         nan,  95.]), 30.0]"
      ]
     },
     "execution_count": 253,
     "metadata": {},
     "output_type": "execute_result"
    }
   ],
   "source": [
    "[ff[0], labels[0]]"
   ]
  },
  {
   "cell_type": "code",
   "execution_count": 254,
   "metadata": {},
   "outputs": [
    {
     "data": {
      "text/plain": [
       "[array([772.,   0.,   1.,  35.,  40.,  45.,  55.,  50.,  55.,  65.,  65.,\n",
       "         60.,  60.]), 25.0]"
      ]
     },
     "execution_count": 254,
     "metadata": {},
     "output_type": "execute_result"
    }
   ],
   "source": [
    "[ff[26], labels[26]]"
   ]
  },
  {
   "cell_type": "code",
   "execution_count": 271,
   "metadata": {},
   "outputs": [
    {
     "data": {
      "text/plain": [
       "[4102,\n",
       " 1034,\n",
       " 3083,\n",
       " 7180,\n",
       " 7185,\n",
       " 857,\n",
       " 4121,\n",
       " 7203,\n",
       " 6185,\n",
       " 5164,\n",
       " 45,\n",
       " 5166,\n",
       " 47,\n",
       " 2097,\n",
       " 1074,\n",
       " 1075,\n",
       " 3134,\n",
       " 1095,\n",
       " 7246,\n",
       " 10321,\n",
       " 3155,\n",
       " 6228,\n",
       " 6234,\n",
       " 1115,\n",
       " 2746,\n",
       " 5214,\n",
       " 7013,\n",
       " 5218,\n",
       " 9062,\n",
       " 4200,\n",
       " 111,\n",
       " 115,\n",
       " 1140,\n",
       " 1141,\n",
       " 6265,\n",
       " 1148,\n",
       " 1149,\n",
       " 10371,\n",
       " 135,\n",
       " 7308,\n",
       " 3437,\n",
       " 146,\n",
       " 1177,\n",
       " 3226,\n",
       " 1179,\n",
       " 9379,\n",
       " 6311,\n",
       " 6316,\n",
       " 3246,\n",
       " 3256,\n",
       " 1209,\n",
       " 1211,\n",
       " 9413,\n",
       " 5324,\n",
       " 3274,\n",
       " 7372,\n",
       " 5326,\n",
       " 3279,\n",
       " 5332,\n",
       " 1240,\n",
       " 218,\n",
       " 1402,\n",
       " 6367,\n",
       " 1248,\n",
       " 2273,\n",
       " 1404,\n",
       " 3306,\n",
       " 3310,\n",
       " 2288,\n",
       " 5362,\n",
       " 5364,\n",
       " 245,\n",
       " 7414,\n",
       " 2295,\n",
       " 3320,\n",
       " 4396,\n",
       " 252,\n",
       " 1278,\n",
       " 256,\n",
       " 263,\n",
       " 3344,\n",
       " 6418,\n",
       " 11540,\n",
       " 7445,\n",
       " 3352,\n",
       " 1305,\n",
       " 6428,\n",
       " 5405,\n",
       " 2336,\n",
       " 8482,\n",
       " 293,\n",
       " 2344,\n",
       " 8490,\n",
       " 4999,\n",
       " 7468,\n",
       " 1325,\n",
       " 5423,\n",
       " 3377,\n",
       " 312,\n",
       " 2361,\n",
       " 10554,\n",
       " 3466,\n",
       " 224,\n",
       " 1351,\n",
       " 5451,\n",
       " 336,\n",
       " 2389,\n",
       " 2394,\n",
       " 5467,\n",
       " 5468,\n",
       " 8543,\n",
       " 4838,\n",
       " 4455,\n",
       " 5480,\n",
       " 4457,\n",
       " 9581,\n",
       " 3442,\n",
       " 9014,\n",
       " 7541,\n",
       " 2423,\n",
       " 8568,\n",
       " 3450,\n",
       " 2428,\n",
       " 381,\n",
       " 6528,\n",
       " 8768,\n",
       " 394,\n",
       " 6539,\n",
       " 1421,\n",
       " 2447,\n",
       " 3480,\n",
       " 409,\n",
       " 2460,\n",
       " 5542,\n",
       " 423,\n",
       " 3496,\n",
       " 1451,\n",
       " 8626,\n",
       " 3356,\n",
       " 6583,\n",
       " 8632,\n",
       " 8633,\n",
       " 3515,\n",
       " 444,\n",
       " 10685,\n",
       " 4544,\n",
       " 2501,\n",
       " 2504,\n",
       " 3529,\n",
       " 2492,\n",
       " 9677,\n",
       " 2510,\n",
       " 3535,\n",
       " 5505,\n",
       " 78,\n",
       " 8663,\n",
       " 10717,\n",
       " 9836,\n",
       " 3187,\n",
       " 3556,\n",
       " 8614,\n",
       " 3494,\n",
       " 490,\n",
       " 4592,\n",
       " 1521,\n",
       " 501,\n",
       " 8701,\n",
       " 3585,\n",
       " 2563,\n",
       " 5641,\n",
       " 1547,\n",
       " 525,\n",
       " 2576,\n",
       " 529,\n",
       " 6676,\n",
       " 870,\n",
       " 7705,\n",
       " 543,\n",
       " 4640,\n",
       " 545,\n",
       " 2595,\n",
       " 549,\n",
       " 552,\n",
       " 6698,\n",
       " 1287,\n",
       " 2607,\n",
       " 8752,\n",
       " 4660,\n",
       " 2613,\n",
       " 569,\n",
       " 11359,\n",
       " 7744,\n",
       " 577,\n",
       " 3653,\n",
       " 3658,\n",
       " 2644,\n",
       " 597,\n",
       " 7767,\n",
       " 3672,\n",
       " 6749,\n",
       " 615,\n",
       " 3516,\n",
       " 8810,\n",
       " 1643,\n",
       " 2668,\n",
       " 5743,\n",
       " 11888,\n",
       " 958,\n",
       " 3703,\n",
       " 632,\n",
       " 633,\n",
       " 1658,\n",
       " 6779,\n",
       " 2684,\n",
       " 2693,\n",
       " 4742,\n",
       " 4716,\n",
       " 654,\n",
       " 8849,\n",
       " 1683,\n",
       " 2710,\n",
       " 2712,\n",
       " 5790,\n",
       " 671,\n",
       " 5795,\n",
       " 3749,\n",
       " 2728,\n",
       " 4728,\n",
       " 5805,\n",
       " 3357,\n",
       " 2738,\n",
       " 2739,\n",
       " 6840,\n",
       " 1721,\n",
       " 4794,\n",
       " 699,\n",
       " 2750,\n",
       " 703,\n",
       " 10016,\n",
       " 4804,\n",
       " 714,\n",
       " 4727,\n",
       " 6860,\n",
       " 461,\n",
       " 8912,\n",
       " 6776,\n",
       " 4825,\n",
       " 6877,\n",
       " 1317,\n",
       " 8656,\n",
       " 8827,\n",
       " 3812,\n",
       " 742,\n",
       " 6268,\n",
       " 3820,\n",
       " 2801,\n",
       " 4850,\n",
       " 3830,\n",
       " 3831,\n",
       " 2812,\n",
       " 469,\n",
       " 3843,\n",
       " 772,\n",
       " 8150,\n",
       " 6444,\n",
       " 4877,\n",
       " 1806,\n",
       " 4397,\n",
       " 2832,\n",
       " 6932,\n",
       " 7958,\n",
       " 8985,\n",
       " 6944,\n",
       " 5923,\n",
       " 3877,\n",
       " 3982,\n",
       " 2855,\n",
       " 809,\n",
       " 2858,\n",
       " 813,\n",
       " 2862,\n",
       " 818,\n",
       " 5941,\n",
       " 5942,\n",
       " 6967,\n",
       " 11066,\n",
       " 3899,\n",
       " 830,\n",
       " 9023,\n",
       " 11232,\n",
       " 6978,\n",
       " 6980,\n",
       " 6966,\n",
       " 6987,\n",
       " 5966,\n",
       " 10904,\n",
       " 10070,\n",
       " 3063,\n",
       " 9049,\n",
       " 5434,\n",
       " 2910,\n",
       " 2915,\n",
       " 4965,\n",
       " 3942,\n",
       " 438,\n",
       " 3944,\n",
       " 6290,\n",
       " 3956,\n",
       " 4981,\n",
       " 887,\n",
       " 894,\n",
       " 896,\n",
       " 8070,\n",
       " 6023,\n",
       " 3981,\n",
       " 6030,\n",
       " 1935,\n",
       " 1688,\n",
       " 6034,\n",
       " 4054,\n",
       " 924,\n",
       " 2975,\n",
       " 5024,\n",
       " 8735,\n",
       " 2979,\n",
       " 8100,\n",
       " 10874,\n",
       " 934,\n",
       " 7082,\n",
       " 327,\n",
       " 6962,\n",
       " 1967,\n",
       " 7095,\n",
       " 4029,\n",
       " 4030,\n",
       " 9154,\n",
       " 3012,\n",
       " 10187,\n",
       " 9174,\n",
       " 9210,\n",
       " 991,\n",
       " 3040,\n",
       " 4070,\n",
       " 9196,\n",
       " 1329,\n",
       " 3054,\n",
       " 10231,\n",
       " 10234]"
      ]
     },
     "execution_count": 271,
     "metadata": {},
     "output_type": "execute_result"
    }
   ],
   "source": [
    "list(bad.keys())"
   ]
  },
  {
   "cell_type": "code",
   "execution_count": 275,
   "metadata": {},
   "outputs": [],
   "source": [
    "good_data = np.delete(data, list(bad.keys()), axis=0)\n",
    "good_labels = np.delete(labels, list(bad.keys()), axis=0)"
   ]
  },
  {
   "cell_type": "code",
   "execution_count": 276,
   "metadata": {},
   "outputs": [
    {
     "data": {
      "text/plain": [
       "[(12110, 13), (12110,)]"
      ]
     },
     "execution_count": 276,
     "metadata": {},
     "output_type": "execute_result"
    }
   ],
   "source": [
    "[good_data.shape, good_labels.shape]"
   ]
  },
  {
   "cell_type": "markdown",
   "metadata": {},
   "source": [
    "# SVM"
   ]
  },
  {
   "cell_type": "code",
   "execution_count": 27,
   "metadata": {},
   "outputs": [],
   "source": [
    "from sklearn import svm"
   ]
  },
  {
   "cell_type": "code",
   "execution_count": 60,
   "metadata": {},
   "outputs": [
    {
     "data": {
      "text/plain": [
       "[(12458, 8), (12458,)]"
      ]
     },
     "execution_count": 60,
     "metadata": {},
     "output_type": "execute_result"
    }
   ],
   "source": [
    "my_features = [\n",
    "    'center_id',\n",
    "   'years',\n",
    " 'genderNum',\n",
    "#'freq_250',\n",
    " 'freq_500',\n",
    "# 'freq_750',\n",
    " 'freq_1000',\n",
    "# 'freq_1500',\n",
    " 'freq_2000',\n",
    "# 'freq_3000',\n",
    " 'freq_4000',\n",
    "# 'freq_6000',\n",
    " 'freq_8000'\n",
    "              ]\n",
    "my_equipment_success = equipment_success.copy()\n",
    "my_equipment_success['valid'] = (\n",
    "  my_equipment_success['eq_freq_1000'].apply(lambda x : 20 <= x <= 60) \n",
    ")\n",
    "\n",
    "#my_equipment_success = my_equipment_success.query(' valid == True').copy()\n",
    "my_equipment_success = my_equipment_success.sample(frac=1)\n",
    "data = my_equipment_success[my_features].values\n",
    "labels = (my_equipment_success['eq_freq_1000'].values)\n",
    "[data.shape, labels.shape]"
   ]
  },
  {
   "cell_type": "code",
   "execution_count": 61,
   "metadata": {},
   "outputs": [
    {
     "data": {
      "text/plain": [
       "SVR(C=4, cache_size=200, coef0=0.0, degree=3, epsilon=4, gamma='scale',\n",
       "  kernel='rbf', max_iter=-1, shrinking=True, tol=0.001, verbose=False)"
      ]
     },
     "execution_count": 61,
     "metadata": {},
     "output_type": "execute_result"
    }
   ],
   "source": [
    "n = 10000\n",
    "clf = svm.SVR(gamma='scale', kernel='rbf', C=4, epsilon=4, shrinking=True)\n",
    "clf.fit(data[0:n], labels[0:n])\n"
   ]
  },
  {
   "cell_type": "code",
   "execution_count": 62,
   "metadata": {
    "scrolled": false
   },
   "outputs": [
    {
     "name": "stdout",
     "output_type": "stream",
     "text": [
      "training\n",
      "8.184901215653126\n",
      "5.998689114862943\n",
      "35.98427109677516\n",
      "0.4825\n",
      "0.6782\n",
      "validation\n",
      "8.279655545440846\n",
      "6.6455240996000935\n",
      "44.162990558365635\n",
      "0.48717948717948717\n",
      "0.6198616198616199\n"
     ]
    }
   ],
   "source": [
    "predictions = clf.predict(data)\n",
    "print(\"training\")\n",
    "\n",
    "print(np.std(labels[0:n]-np.mean(labels)))\n",
    "print(np.std(labels[0:n]-predictions[0:n]))\n",
    "print(np.std(labels[0:n]-predictions[0:n]) ** 2)\n",
    "print(model_good_prediction_ratio_array(labels[0:n], np.mean(labels), 5))\n",
    "print(model_good_prediction_ratio_array(labels[0:n], predictions[0:n], 5))\n",
    "print(\"validation\")\n",
    "print(np.std(labels[n+1:]-np.mean(labels)))\n",
    "print(np.std(labels[n+1:]-predictions[n+1:]))\n",
    "print(np.std(labels[n+1:]-predictions[n+1:]) ** 2)\n",
    "print(model_good_prediction_ratio_array(labels[n+1:], np.mean(labels), 5))\n",
    "print(model_good_prediction_ratio_array(labels[n+1:], predictions[n+1:], 5))"
   ]
  },
  {
   "cell_type": "code",
   "execution_count": 22,
   "metadata": {},
   "outputs": [],
   "source": [
    "from sklearn.model_selection import train_test_split\n",
    "from sklearn.model_selection import GridSearchCV\n",
    "from sklearn.metrics import classification_report\n",
    "from sklearn.svm import SVR\n"
   ]
  },
  {
   "cell_type": "code",
   "execution_count": 92,
   "metadata": {},
   "outputs": [],
   "source": [
    "X_train, X_test, y_train, y_test = train_test_split(\n",
    "    data, labels, test_size=0.2, random_state=0)\n",
    "tuned_parameters = [{'kernel': ['rbf'], \n",
    "                     'gamma': ['scale'],\n",
    "                     'C': [4, 6,10],\n",
    "                     'epsilon': [ 4, 6, 10],\n",
    "                     'shrinking': [True]\n",
    "                    }\n",
    "                   ]"
   ]
  },
  {
   "cell_type": "code",
   "execution_count": 93,
   "metadata": {},
   "outputs": [
    {
     "name": "stdout",
     "output_type": "stream",
     "text": [
      "Generating the models\n",
      "Best parameters set found on development set:\n",
      "\n",
      "{'epsilon': 4, 'gamma': 'scale', 'shrinking': True, 'kernel': 'rbf', 'C': 4}\n",
      "\n",
      "Grid scores on development set:\n",
      "\n",
      "-46.883 (+/-3.438) for {'epsilon': 4, 'gamma': 'scale', 'shrinking': True, 'kernel': 'rbf', 'C': 4}\n",
      "-47.240 (+/-3.715) for {'epsilon': 6, 'gamma': 'scale', 'shrinking': True, 'kernel': 'rbf', 'C': 4}\n",
      "-48.924 (+/-4.105) for {'epsilon': 10, 'gamma': 'scale', 'shrinking': True, 'kernel': 'rbf', 'C': 4}\n",
      "-47.089 (+/-3.356) for {'epsilon': 4, 'gamma': 'scale', 'shrinking': True, 'kernel': 'rbf', 'C': 6}\n",
      "-47.248 (+/-3.616) for {'epsilon': 6, 'gamma': 'scale', 'shrinking': True, 'kernel': 'rbf', 'C': 6}\n",
      "-48.837 (+/-3.958) for {'epsilon': 10, 'gamma': 'scale', 'shrinking': True, 'kernel': 'rbf', 'C': 6}\n",
      "-47.805 (+/-3.018) for {'epsilon': 4, 'gamma': 'scale', 'shrinking': True, 'kernel': 'rbf', 'C': 10}\n",
      "-47.801 (+/-3.538) for {'epsilon': 6, 'gamma': 'scale', 'shrinking': True, 'kernel': 'rbf', 'C': 10}\n",
      "-49.257 (+/-3.703) for {'epsilon': 10, 'gamma': 'scale', 'shrinking': True, 'kernel': 'rbf', 'C': 10}\n",
      "\n"
     ]
    }
   ],
   "source": [
    "print(\"Generating the models\")\n",
    "clf = GridSearchCV(SVR(), tuned_parameters, cv=5, scoring = \"neg_mean_squared_error\")\n",
    "\n",
    "clf.fit(X_train, y_train)\n",
    "\n",
    "print(\"Best parameters set found on development set:\")\n",
    "print()\n",
    "print(clf.best_params_)\n",
    "print()\n",
    "print(\"Grid scores on development set:\")\n",
    "print()\n",
    "means = clf.cv_results_['mean_test_score']\n",
    "stds = clf.cv_results_['std_test_score']\n",
    "\n",
    "for mean, std, params in zip(means, stds, clf.cv_results_['params']):\n",
    "    print(\"%0.3f (+/-%0.03f) for %r\"\n",
    "          % (mean, std * 2, params))\n",
    "print()"
   ]
  },
  {
   "cell_type": "code",
   "execution_count": 42,
   "metadata": {
    "scrolled": true
   },
   "outputs": [
    {
     "data": {
      "text/plain": [
       "{'cv': 5,\n",
       " 'error_score': 'raise-deprecating',\n",
       " 'estimator': SVR(C=1.0, cache_size=200, coef0=0.0, degree=3, epsilon=0.1,\n",
       "   gamma='auto_deprecated', kernel='rbf', max_iter=-1, shrinking=True,\n",
       "   tol=0.001, verbose=False),\n",
       " 'estimator__C': 1.0,\n",
       " 'estimator__cache_size': 200,\n",
       " 'estimator__coef0': 0.0,\n",
       " 'estimator__degree': 3,\n",
       " 'estimator__epsilon': 0.1,\n",
       " 'estimator__gamma': 'auto_deprecated',\n",
       " 'estimator__kernel': 'rbf',\n",
       " 'estimator__max_iter': -1,\n",
       " 'estimator__shrinking': True,\n",
       " 'estimator__tol': 0.001,\n",
       " 'estimator__verbose': False,\n",
       " 'fit_params': None,\n",
       " 'iid': 'warn',\n",
       " 'n_jobs': None,\n",
       " 'param_grid': [{'C': [1, 10, 100, 1000],\n",
       "   'gamma': [0.001, 0.0001],\n",
       "   'kernel': ['rbf']}],\n",
       " 'pre_dispatch': '2*n_jobs',\n",
       " 'refit': True,\n",
       " 'return_train_score': 'warn',\n",
       " 'scoring': None,\n",
       " 'verbose': 0}"
      ]
     },
     "execution_count": 42,
     "metadata": {},
     "output_type": "execute_result"
    }
   ],
   "source": [
    "clf.get_params()"
   ]
  },
  {
   "cell_type": "markdown",
   "metadata": {},
   "source": [
    "# Gradient boosting"
   ]
  },
  {
   "cell_type": "code",
   "execution_count": 53,
   "metadata": {},
   "outputs": [],
   "source": [
    "import lightgbm as lgb"
   ]
  },
  {
   "cell_type": "code",
   "execution_count": 54,
   "metadata": {},
   "outputs": [],
   "source": [
    "def model_good_prediction_ratio_diffs_array(diffs, max_distance):\n",
    "    predictionsDiff = list(map(lambda x: abs(x), list(diffs)))\n",
    "    return len(list(filter(lambda x: x < max_distance, predictionsDiff)))/len(predictionsDiff)"
   ]
  },
  {
   "cell_type": "code",
   "execution_count": 292,
   "metadata": {},
   "outputs": [],
   "source": [
    "my_equipment_success = equipment_success.copy()\n",
    "\n",
    "#my_equipment_success = my_equipment_success.query(' valid == True').copy()\n",
    "my_equipment_success = my_equipment_success.sample(frac=1)"
   ]
  },
  {
   "cell_type": "code",
   "execution_count": 293,
   "metadata": {},
   "outputs": [
    {
     "data": {
      "text/plain": [
       "[(12458, 7), (12458,)]"
      ]
     },
     "execution_count": 293,
     "metadata": {},
     "output_type": "execute_result"
    }
   ],
   "source": [
    "my_features = [\n",
    "   'center_id',\n",
    "     'freq_1000',\n",
    "   'decades_old',\n",
    "   # 'years',\n",
    "   'genderNum',\n",
    "#'freq_250',\n",
    " 'freq_500',\n",
    " #'freq_750',\n",
    " #'freq_1500',\n",
    " 'freq_2000',\n",
    " #'freq_3000',\n",
    " 'freq_4000',\n",
    " #'freq_6000',\n",
    " #'freq_8000'\n",
    "              ]\n",
    "\n",
    "data = my_equipment_success[my_features].values\n",
    "labels = (my_equipment_success['eq_freq_1000'].values)\n",
    "losses = (my_equipment_success['freq_1000'].values)\n",
    "labels_ratio = (my_equipment_success['eq_freq_1000'].values)/losses\n",
    "\n",
    "[data.shape, labels.shape]"
   ]
  },
  {
   "cell_type": "code",
   "execution_count": 294,
   "metadata": {},
   "outputs": [],
   "source": [
    "center_ids = my_equipment_success['center_id'].values\n",
    "tests_per_center = {}\n",
    "for i in range(len(data)):\n",
    "    center_id = center_ids[i]\n",
    "    tests_per_center[center_id] = safe_inc(tests_per_center.get(center_id))\n",
    "    \n",
    "labels_per_center = {}\n",
    "for i in range(len(data)):\n",
    "    center_id = center_ids[i]\n",
    "    labels_per_center[center_id] = safe_append(labels_per_center.get(center_id), labels[i])\n",
    "    \n",
    "mean_labels_per_center = {k: np.mean(v) for k, v in labels_per_center.items()}\n",
    "\n",
    "labels_ratio_per_center = {}\n",
    "for i in range(len(data)):\n",
    "    center_id = center_ids[i]\n",
    "    labels_ratio_per_center[center_id] = safe_append(labels_ratio_per_center.get(center_id),\n",
    "                                                          labels[i]/data[i][1])\n",
    "    \n",
    "mean_labels_ratio_per_center = {k: np.mean(v) for k, v in labels_ratio_per_center.items()}"
   ]
  },
  {
   "cell_type": "code",
   "execution_count": 295,
   "metadata": {},
   "outputs": [],
   "source": [
    "labels_ratio_scaled_per_center = []\n",
    "for i in range(len(data)):\n",
    "    center_id = center_ids[i]\n",
    "    labels_ratio_scaled_per_center.append(labels_ratio[i]/mean_labels_ratio_per_center[center_id])"
   ]
  },
  {
   "cell_type": "code",
   "execution_count": 329,
   "metadata": {},
   "outputs": [
    {
     "data": {
      "text/plain": [
       "[(5715, 7), (5715,)]"
      ]
     },
     "execution_count": 329,
     "metadata": {},
     "output_type": "execute_result"
    }
   ],
   "source": [
    "min_test_per_center = 200\n",
    "good_indexes = []\n",
    "for i in range(len(data)):\n",
    "    center_id = center_ids[i]\n",
    "    if tests_per_center[center_id] > min_test_per_center:\n",
    "        good_indexes.append(i)\n",
    "    \n",
    "data = np.asarray([data[index] for index in good_indexes])\n",
    "labels = np.asarray([labels[index] for index in good_indexes])\n",
    "losses = np.asarray([losses[index] for index in good_indexes])\n",
    "labels_ratio = np.asarray([labels_ratio[index] for index in good_indexes])\n",
    "labels_ratio_scaled_per_center = np.asarray([labels_ratio_scaled_per_center[index] for index in good_indexes])\n",
    "center_ids = np.asarray([center_ids[index] for index in good_indexes])\n",
    "\n",
    "n = 4000\n",
    "[data.shape, labels_ratio.shape]"
   ]
  },
  {
   "cell_type": "code",
   "execution_count": 330,
   "metadata": {},
   "outputs": [
    {
     "data": {
      "text/plain": [
       "{27: [0.6615291296421173, 202],\n",
       " 29: [0.5491049400196061, 549],\n",
       " 32: [0.5621041186451897, 235],\n",
       " 36: [0.5793794054731441, 325],\n",
       " 66: [0.6471333491744541, 446],\n",
       " 74: [0.47952955856314183, 301],\n",
       " 86: [0.6027677507483583, 381],\n",
       " 106: [0.5788376567093665, 281],\n",
       " 156: [0.5937166550062908, 819],\n",
       " 438: [0.5457609343887593, 502],\n",
       " 466: [0.5432235574687376, 220],\n",
       " 508: [0.5549011064843103, 569],\n",
       " 922: [0.5788570323005848, 215],\n",
       " 959: [0.5879650354526585, 200],\n",
       " 1103: [0.6243686425718854, 234],\n",
       " 1138: [0.6225736324942368, 221],\n",
       " 1139: [0.6335174579942021, 215]}"
      ]
     },
     "execution_count": 330,
     "metadata": {},
     "output_type": "execute_result"
    }
   ],
   "source": [
    "{k:[v,tests_per_center.get(k)] for k,v in mean_labels_ratio_per_center.items() if tests_per_center.get(k) >= min_test_per_center}"
   ]
  },
  {
   "cell_type": "code",
   "execution_count": 361,
   "metadata": {},
   "outputs": [
    {
     "name": "stdout",
     "output_type": "stream",
     "text": [
      "training\n",
      "7.549966291315479\n",
      "4.311113972536869\n",
      "0.539\n",
      "0.7895\n",
      "validation\n",
      "7.594777231872682\n",
      "5.596403104340586\n",
      "0.5239206534422404\n",
      "0.676196032672112\n"
     ]
    }
   ],
   "source": [
    "\n",
    "train_data = lgb.Dataset(data[0:n], label=labels[0:n],\n",
    "                         feature_name=my_features, categorical_feature=['genderNum', 'center_id'])\n",
    "param = {'num_leaves':37,\n",
    "        # 'max_depth':20,\n",
    "   # 'min_gain_to_split': 1000,\n",
    "        'num_trees':85, \n",
    "#          'min_data_in_leaf': 100,\n",
    "#          'max_bin': 100,\n",
    "         'objective':'regression'}\n",
    "num_round = 30\n",
    "bst = lgb.train(param, train_data, num_round)\n",
    "predictions = bst.predict(data)#*losses\n",
    "\n",
    "# for i in range(len(data)):\n",
    "#     center_id = center_ids[i]\n",
    "#     predictions[i] = predictions[i]*mean_labels_ratio_per_center[center_id]\n",
    "\n",
    "delta = 5\n",
    "\n",
    "print(\"training\")\n",
    "print(np.std(labels[0:n]-np.mean(labels)))\n",
    "print(np.std(labels[0:n]-predictions[0:n]))\n",
    "print(model_good_prediction_ratio_array(labels[0:n], np.mean(labels), delta))\n",
    "print(model_good_prediction_ratio_array(labels[0:n], predictions[0:n], delta))\n",
    "\n",
    "print(\"validation\")\n",
    "print(np.std(labels[n+1:]-np.mean(labels)))\n",
    "print(np.std(labels[n+1:]-predictions[n+1:]))\n",
    "print(model_good_prediction_ratio_array(labels[n+1:], np.mean(labels), delta))\n",
    "print(model_good_prediction_ratio_array(labels[n+1:], predictions[n+1:], delta))"
   ]
  },
  {
   "cell_type": "code",
   "execution_count": 275,
   "metadata": {},
   "outputs": [],
   "source": [
    "center_ids = my_equipment_success['center_id'].values\n",
    "diff_per_center = {}\n",
    "low_baseline_diff_per_center = {}\n",
    "baseline_diff_per_center = {}\n",
    "for i in range(0,n):#,len(data)):\n",
    "    center_id = data[i][0]\n",
    "    diff = (predictions - labels)[i]\n",
    "    baseline_diff = labels[i] - mean_labels_per_center[center_id]\n",
    "    low_baseline_diff = labels[i] - np.mean(labels)\n",
    "    diff_per_center[center_id] = safe_append(diff_per_center.get(center_id), diff)\n",
    "    baseline_diff_per_center[center_id] = safe_append(baseline_diff_per_center.get(center_id), baseline_diff)\n",
    "    low_baseline_diff_per_center[center_id] = safe_append(low_baseline_diff_per_center.get(center_id), low_baseline_diff)"
   ]
  },
  {
   "cell_type": "code",
   "execution_count": 276,
   "metadata": {},
   "outputs": [
    {
     "data": {
      "text/plain": [
       "[4000, 4000]"
      ]
     },
     "execution_count": 276,
     "metadata": {},
     "output_type": "execute_result"
    }
   ],
   "source": [
    "my_dictionary = {k: [np.std(v),\n",
    "                     model_good_prediction_ratio_diffs_array(v, delta),\n",
    "                     len(v)] for k, v in diff_per_center.items()}\n",
    "good_centers = {k: 1 for k,v in my_dictionary.items() if v[1] >= 0}\n",
    "good_centers = {k:v  for k,v in my_dictionary.items() if good_centers.get(k) }\n",
    "[sum(list(map(lambda x: x[2], list(my_dictionary.values())))),\n",
    " sum(list(map(lambda x: x[2], list(good_centers.values()))))]"
   ]
  },
  {
   "cell_type": "code",
   "execution_count": 277,
   "metadata": {},
   "outputs": [
    {
     "data": {
      "text/plain": [
       "{27: 0.6615291296421175,\n",
       " 29: 0.5491049400196062,\n",
       " 32: 0.5621041186451898,\n",
       " 36: 0.5793794054731441,\n",
       " 66: 0.6471333491744541,\n",
       " 74: 0.47952955856314183,\n",
       " 86: 0.6027677507483582,\n",
       " 87: 0.6245610619486368,\n",
       " 88: 0.625296424395777,\n",
       " 96: 0.45723775168268754,\n",
       " 106: 0.5788376567093666,\n",
       " 116: 0.6014878672713359,\n",
       " 134: 0.5373598777746839,\n",
       " 145: 0.5983636742228073,\n",
       " 149: 0.40578344798375304,\n",
       " 155: 0.5959848726168014,\n",
       " 156: 0.5937166550062908,\n",
       " 165: 0.6057000526431721,\n",
       " 169: 0.663904851430363,\n",
       " 263: 0.5620032261286131,\n",
       " 350: 0.6523138141059617,\n",
       " 352: 0.6202313499265899,\n",
       " 427: 0.5895843902237764,\n",
       " 438: 0.5457609343887593,\n",
       " 455: 0.6431517035390274,\n",
       " 466: 0.5432235574687376,\n",
       " 468: 0.5305261852780123,\n",
       " 508: 0.5549011064843103,\n",
       " 912: 0.6049200575896966,\n",
       " 922: 0.5788570323005847,\n",
       " 923: 0.6428144044863062,\n",
       " 959: 0.5879650354526587,\n",
       " 1053: 0.6088558969019073,\n",
       " 1078: 0.5762032259332995,\n",
       " 1103: 0.6243686425718854,\n",
       " 1138: 0.6225736324942368,\n",
       " 1139: 0.6335174579942021,\n",
       " 1256: 0.5780173946567728}"
      ]
     },
     "execution_count": 277,
     "metadata": {},
     "output_type": "execute_result"
    }
   ],
   "source": [
    "{k:v for k,v in mean_labels_ratio_per_center.items() if tests_per_center.get(k) >= 100}"
   ]
  },
  {
   "cell_type": "code",
   "execution_count": 278,
   "metadata": {},
   "outputs": [
    {
     "name": "stdout",
     "output_type": "stream",
     "text": [
      "validation on good centers\n",
      "8.109799432736496\n",
      "6.130291309791985\n",
      "0.4914236706689537\n",
      "0.6383647798742138\n"
     ]
    }
   ],
   "source": [
    "print(\"validation on good centers\")\n",
    "validation_labels = labels[n+1:]\n",
    "validation_predictions = predictions[n+1:]\n",
    "validation_data = data[n+1:]\n",
    "validataion_center_ids = center_ids[n+1:]\n",
    "\n",
    "\n",
    "\n",
    "validation_predictions_good = []\n",
    "validation_labels_good = []\n",
    "for i in range(len(validation_data)):\n",
    "    center_id = validataion_center_ids[i]\n",
    "    if good_centers.get(center_id):\n",
    "        validation_labels_good.append(validation_labels[i])\n",
    "        validation_predictions_good.append(validation_predictions[i])\n",
    "\n",
    "validation_labels_good = np.asarray(validation_labels_good)\n",
    "validation_predictions_good = np.asarray(validation_predictions_good)\n",
    "\n",
    "\n",
    "print(np.std(validation_labels_good - np.mean(labels)))\n",
    "print(np.std(validation_labels_good - validation_predictions_good))\n",
    "print(model_good_prediction_ratio_array(validation_labels_good, np.mean(labels), delta))\n",
    "print(model_good_prediction_ratio_array(validation_labels_good, validation_predictions_good, delta))"
   ]
  },
  {
   "cell_type": "code",
   "execution_count": 279,
   "metadata": {},
   "outputs": [
    {
     "data": {
      "text/plain": [
       "{27.0: [6.701223194983862, 0.6233766233766234, 77],\n",
       " 29.0: [7.411166487751607, 0.4942084942084942, 259],\n",
       " 32.0: [8.126855203904826, 0.45045045045045046, 111],\n",
       " 36.0: [6.625365756824689, 0.551948051948052, 154],\n",
       " 66.0: [6.766508697871945, 0.5852534562211982, 217],\n",
       " 74.0: [6.361751275135966, 0.6296296296296297, 135],\n",
       " 86.0: [7.5728214007027885, 0.4943181818181818, 176],\n",
       " 87.0: [7.756715387613727, 0.5352112676056338, 71],\n",
       " 88.0: [6.43327685085117, 0.5978260869565217, 92],\n",
       " 96.0: [8.325098812218156, 0.5185185185185185, 54],\n",
       " 106.0: [5.257902798467696, 0.6962962962962963, 135],\n",
       " 116.0: [8.240220541217404, 0.4691358024691358, 81],\n",
       " 134.0: [9.9950384516916, 0.47619047619047616, 42],\n",
       " 145.0: [7.866480179639853, 0.5416666666666666, 48],\n",
       " 149.0: [10.08794992539185, 0.4576271186440678, 59],\n",
       " 155.0: [7.9410457900091584, 0.48936170212765956, 47],\n",
       " 156.0: [6.847882126696921, 0.6325301204819277, 332],\n",
       " 165.0: [7.46807945483989, 0.5340909090909091, 88],\n",
       " 169.0: [6.475394805758809, 0.648936170212766, 94],\n",
       " 263.0: [7.973480349815185, 0.5333333333333333, 60],\n",
       " 350.0: [8.15019139865505, 0.5681818181818182, 44],\n",
       " 352.0: [8.102647256420797, 0.43636363636363634, 55],\n",
       " 427.0: [9.180269263480238, 0.53125, 64],\n",
       " 438.0: [9.387697394303204, 0.4930875576036866, 217],\n",
       " 455.0: [6.39974468719447, 0.5573770491803278, 61],\n",
       " 466.0: [7.402478543060584, 0.6216216216216216, 111],\n",
       " 468.0: [10.555327117411167, 0.3194444444444444, 72],\n",
       " 508.0: [7.252251332518833, 0.5042735042735043, 234],\n",
       " 912.0: [5.216164472743335, 0.7017543859649122, 57],\n",
       " 922.0: [5.619233822481022, 0.7129629629629629, 108],\n",
       " 923.0: [5.916079783099616, 0.64, 50],\n",
       " 959.0: [6.758763789623549, 0.5483870967741935, 93],\n",
       " 1053.0: [7.0825673605456565, 0.6875, 48],\n",
       " 1078.0: [7.687842337383461, 0.5977011494252874, 87],\n",
       " 1103.0: [7.720299513274676, 0.5130434782608696, 115],\n",
       " 1138.0: [9.457207748363242, 0.4368932038834951, 103],\n",
       " 1139.0: [5.887939888020548, 0.6170212765957447, 94],\n",
       " 1256.0: [6.700043172427823, 0.5454545454545454, 55]}"
      ]
     },
     "execution_count": 279,
     "metadata": {},
     "output_type": "execute_result"
    }
   ],
   "source": [
    "my_dictionary = {k: [np.std(v),\n",
    "                     model_good_prediction_ratio_diffs_array(v, delta),\n",
    "                     len(v)] for k, v in baseline_diff_per_center.items()}\n",
    "my_dictionary"
   ]
  },
  {
   "cell_type": "code",
   "execution_count": 291,
   "metadata": {},
   "outputs": [
    {
     "data": {
      "text/plain": [
       "{27.0: [6.377042156569663, 0.4, 15],\n",
       " 29.0: [6.119859240437565, 0.5348837209302325, 43],\n",
       " 32.0: [9.164298936634488, 0.5, 16],\n",
       " 36.0: [5.158662324883007, 0.6666666666666666, 27],\n",
       " 66.0: [5.60585393451057, 0.6129032258064516, 31],\n",
       " 74.0: [7.200211385455552, 0.6206896551724138, 29],\n",
       " 86.0: [6.670067159959288, 0.5428571428571428, 35],\n",
       " 87.0: [5.436502143433363, 0.6666666666666666, 15],\n",
       " 88.0: [5.266343608235224, 0.3125, 16],\n",
       " 96.0: [4.979295977319692, 0.7272727272727273, 11],\n",
       " 106.0: [4.06786184622831, 0.55, 20],\n",
       " 116.0: [6.952686081652184, 0.5, 16],\n",
       " 156.0: [6.577954919428706, 0.49056603773584906, 53],\n",
       " 165.0: [10.70436048222094, 0.1111111111111111, 18],\n",
       " 169.0: [5.378254348272378, 0.6363636363636364, 11],\n",
       " 427.0: [6.431020501550125, 0.6666666666666666, 18],\n",
       " 438.0: [8.339997335464535, 0.5111111111111111, 45],\n",
       " 455.0: [5.328701692569688, 0.3333333333333333, 9],\n",
       " 466.0: [6.79869268479038, 0.6, 15],\n",
       " 468.0: [8.854098583616238, 0.1111111111111111, 9],\n",
       " 508.0: [7.05878097754059, 0.5416666666666666, 48],\n",
       " 922.0: [6.760648725613226, 0.5789473684210527, 19],\n",
       " 959.0: [8.499080832654787, 0.5, 24],\n",
       " 1078.0: [3.5355339059327378, 0.625, 8],\n",
       " 1103.0: [6.897268593406145, 0.5454545454545454, 22],\n",
       " 1138.0: [8.819171036881968, 0.5, 18],\n",
       " 1139.0: [8.16496580927726, 0.5238095238095238, 21]}"
      ]
     },
     "execution_count": 291,
     "metadata": {},
     "output_type": "execute_result"
    }
   ],
   "source": [
    "my_dictionary = {k: [np.std(v),\n",
    "                     model_good_prediction_ratio_diffs_array(v, delta),\n",
    "                     len(v)] for k, v in low_baseline_diff_per_center.items()}\n",
    "my_dictionary"
   ]
  },
  {
   "cell_type": "code",
   "execution_count": 292,
   "metadata": {},
   "outputs": [
    {
     "ename": "ValueError",
     "evalue": "operands could not be broadcast together with shapes (7612,) (12458,) ",
     "output_type": "error",
     "traceback": [
      "\u001b[0;31m---------------------------------------------------------------------------\u001b[0m",
      "\u001b[0;31mValueError\u001b[0m                                Traceback (most recent call last)",
      "\u001b[0;32m<ipython-input-292-035977b8dacf>\u001b[0m in \u001b[0;36m<module>\u001b[0;34m\u001b[0m\n\u001b[0;32m----> 1\u001b[0;31m \u001b[0mpredictions\u001b[0m \u001b[0;34m=\u001b[0m \u001b[0mbst\u001b[0m\u001b[0;34m.\u001b[0m\u001b[0mpredict\u001b[0m\u001b[0;34m(\u001b[0m\u001b[0mdata\u001b[0m\u001b[0;34m)\u001b[0m\u001b[0;34m*\u001b[0m\u001b[0;34m(\u001b[0m\u001b[0mmy_equipment_success\u001b[0m\u001b[0;34m[\u001b[0m\u001b[0;34m'freq_1000'\u001b[0m\u001b[0;34m]\u001b[0m\u001b[0;34m.\u001b[0m\u001b[0mvalues\u001b[0m\u001b[0;34m)\u001b[0m\u001b[0;34m\u001b[0m\u001b[0m\n\u001b[0m\u001b[1;32m      2\u001b[0m \u001b[0;34m\u001b[0m\u001b[0m\n\u001b[1;32m      3\u001b[0m \u001b[0mdelta\u001b[0m \u001b[0;34m=\u001b[0m \u001b[0;36m5\u001b[0m\u001b[0;34m\u001b[0m\u001b[0m\n\u001b[1;32m      4\u001b[0m \u001b[0;34m\u001b[0m\u001b[0m\n\u001b[1;32m      5\u001b[0m \u001b[0mprint\u001b[0m\u001b[0;34m(\u001b[0m\u001b[0;34m\"training\"\u001b[0m\u001b[0;34m)\u001b[0m\u001b[0;34m\u001b[0m\u001b[0m\n",
      "\u001b[0;31mValueError\u001b[0m: operands could not be broadcast together with shapes (7612,) (12458,) "
     ]
    }
   ],
   "source": [
    "predictions = bst.predict(data)*(my_equipment_success['freq_1000'].values)\n",
    "\n",
    "delta = 5\n",
    "\n",
    "print(\"training\")\n",
    "print(np.std(labels[0:n]-np.mean(labels)))\n",
    "print(np.std(labels[0:n]-predictions[0:n]))\n",
    "print(model_good_prediction_ratio_array(labels[0:n], np.mean(labels), delta))\n",
    "print(model_good_prediction_ratio_array(labels[0:n], predictions[0:n], delta))\n",
    "\n",
    "print(\"validation\")\n",
    "print(np.std(labels[n+1:]-np.mean(labels)))\n",
    "print(np.std(labels[n+1:]-predictions[n+1:]))\n",
    "print(model_good_prediction_ratio_array(labels[n+1:], np.mean(labels), delta))\n",
    "print(model_good_prediction_ratio_array(labels[n+1:], predictions[n+1:], delta))"
   ]
  },
  {
   "cell_type": "markdown",
   "metadata": {},
   "source": [
    "# Decision Tree"
   ]
  },
  {
   "cell_type": "code",
   "execution_count": 31,
   "metadata": {},
   "outputs": [],
   "source": [
    "from sklearn import tree\n",
    "import graphviz "
   ]
  },
  {
   "cell_type": "code",
   "execution_count": 46,
   "metadata": {},
   "outputs": [
    {
     "data": {
      "text/plain": [
       "[(12458, 8), (12458,)]"
      ]
     },
     "execution_count": 46,
     "metadata": {},
     "output_type": "execute_result"
    }
   ],
   "source": [
    "my_features = [\n",
    "    'center_id',\n",
    "   'decades_old',\n",
    " 'genderNum',\n",
    "#'freq_250',\n",
    " 'freq_500',\n",
    "# 'freq_750',\n",
    " 'freq_1000',\n",
    "# 'freq_1500',\n",
    " 'freq_2000',\n",
    "# 'freq_3000',\n",
    " 'freq_4000',\n",
    "# 'freq_6000',\n",
    " 'freq_8000'\n",
    "              ]\n",
    "my_equipment_success = equipment_success.copy()\n",
    "\n",
    "\n",
    "#my_equipment_success = my_equipment_success.query(' valid == True').copy()\n",
    "my_equipment_success = my_equipment_success.sample(frac=1)\n",
    "data = my_equipment_success[my_features].values\n",
    "labels = (my_equipment_success['eq_freq_1000'].values)\n",
    "[data.shape, labels.shape]"
   ]
  },
  {
   "cell_type": "markdown",
   "metadata": {},
   "source": [
    "## Regression"
   ]
  },
  {
   "cell_type": "code",
   "execution_count": 47,
   "metadata": {},
   "outputs": [
    {
     "data": {
      "text/plain": [
       "[0.39196318556472687, 0.3679486075425974]"
      ]
     },
     "execution_count": 47,
     "metadata": {},
     "output_type": "execute_result"
    }
   ],
   "source": [
    "n = 10000\n",
    "clf = tree.DecisionTreeRegressor(#min_samples_leaf=2,\n",
    "   max_depth=6\n",
    "                                 # min_impurity_decrease=0.025\n",
    ")\n",
    "clf.fit(data[0:n], labels[0:n])\n",
    "[clf.score(data[0:n], labels[0:n]), clf.score(data[n+1:], labels[n+1:])]"
   ]
  },
  {
   "cell_type": "code",
   "execution_count": 48,
   "metadata": {},
   "outputs": [
    {
     "data": {
      "text/plain": [
       "array([0.03908399, 0.01528429, 0.        , 0.01119611, 0.90036189,\n",
       "       0.01926639, 0.00893682, 0.00587051])"
      ]
     },
     "execution_count": 48,
     "metadata": {},
     "output_type": "execute_result"
    }
   ],
   "source": [
    "clf.feature_importances_"
   ]
  },
  {
   "cell_type": "code",
   "execution_count": 49,
   "metadata": {},
   "outputs": [
    {
     "data": {
      "text/plain": [
       "'idris.pdf'"
      ]
     },
     "execution_count": 49,
     "metadata": {},
     "output_type": "execute_result"
    }
   ],
   "source": [
    "dot_data = tree.export_graphviz(clf, out_file=None)\n",
    "graph = graphviz.Source(dot_data) \n",
    "graph.render(\"idris\")"
   ]
  },
  {
   "cell_type": "code",
   "execution_count": 50,
   "metadata": {},
   "outputs": [
    {
     "name": "stdout",
     "output_type": "stream",
     "text": [
      "training\n",
      "8.232142853473816\n",
      "6.419154604058657\n",
      "0.4831\n",
      "0.6373\n",
      "validation\n",
      "8.072538085122492\n",
      "6.415310251217082\n",
      "0.48473748473748474\n",
      "0.6247456247456248\n"
     ]
    }
   ],
   "source": [
    "predictions = clf.predict(data)\n",
    "print(\"training\")\n",
    "\n",
    "print(np.std(labels[0:n]-np.mean(labels)))\n",
    "print(np.std(labels[0:n]-predictions[0:n]))\n",
    "print(model_good_prediction_ratio_array(labels[0:n], np.mean(labels), 5))\n",
    "print(model_good_prediction_ratio_array(labels[0:n], predictions[0:n], 5))\n",
    "print(\"validation\")\n",
    "print(np.std(labels[n+1:]-np.mean(labels)))\n",
    "print(np.std(labels[n+1:]-predictions[n+1:]))\n",
    "print(model_good_prediction_ratio_array(labels[n+1:], np.mean(labels), 5))\n",
    "print(model_good_prediction_ratio_array(labels[n+1:], predictions[n+1:], 5))"
   ]
  },
  {
   "cell_type": "code",
   "execution_count": 41,
   "metadata": {},
   "outputs": [],
   "source": [
    "from sklearn.ensemble import RandomForestRegressor"
   ]
  },
  {
   "cell_type": "code",
   "execution_count": 42,
   "metadata": {},
   "outputs": [
    {
     "data": {
      "text/plain": [
       "[0.3969013571288529, 0.3739782208927186]"
      ]
     },
     "execution_count": 42,
     "metadata": {},
     "output_type": "execute_result"
    }
   ],
   "source": [
    "clf2 = RandomForestRegressor(n_estimators=40, max_features=7, max_depth=6) #, min_impurity_decrease=0.025)#,min_samples_leaf=10)\n",
    "clf2.fit(data[0:n], labels[0:n])\n",
    "[clf2.score(data[0:n], labels[0:n]), clf2.score(data[n+1:], labels[n+1:])]\n"
   ]
  },
  {
   "cell_type": "code",
   "execution_count": 43,
   "metadata": {},
   "outputs": [
    {
     "data": {
      "text/plain": [
       "{'bootstrap': True,\n",
       " 'criterion': 'mse',\n",
       " 'max_depth': 6,\n",
       " 'max_features': 7,\n",
       " 'max_leaf_nodes': None,\n",
       " 'min_impurity_decrease': 0.0,\n",
       " 'min_impurity_split': None,\n",
       " 'min_samples_leaf': 1,\n",
       " 'min_samples_split': 2,\n",
       " 'min_weight_fraction_leaf': 0.0,\n",
       " 'n_estimators': 40,\n",
       " 'n_jobs': None,\n",
       " 'oob_score': False,\n",
       " 'random_state': None,\n",
       " 'verbose': 0,\n",
       " 'warm_start': False}"
      ]
     },
     "execution_count": 43,
     "metadata": {},
     "output_type": "execute_result"
    }
   ],
   "source": [
    "clf2.get_params()"
   ]
  },
  {
   "cell_type": "code",
   "execution_count": 45,
   "metadata": {},
   "outputs": [
    {
     "name": "stdout",
     "output_type": "stream",
     "text": [
      "training\n",
      "8.240442121634008\n",
      "6.399473509363351\n",
      "0.4795\n",
      "0.6336\n",
      "validation\n",
      "8.054815793079321\n",
      "6.372408010667829\n",
      "0.49898249898249897\n",
      "0.6149776149776149\n"
     ]
    }
   ],
   "source": [
    "predictions = clf2.predict(data)\n",
    "print(\"training\")\n",
    "\n",
    "print(np.std(labels[0:n]-np.mean(labels)))\n",
    "print(np.std(labels[0:n]-predictions[0:n]))\n",
    "print(model_good_prediction_ratio_array(labels[0:n], np.mean(labels), 5))\n",
    "print(model_good_prediction_ratio_array(labels[0:n], predictions[0:n], 5))\n",
    "print(\"validation\")\n",
    "print(np.std(labels[n+1:]-np.mean(labels)))\n",
    "print(np.std(labels[n+1:]-predictions[n+1:]))\n",
    "print(model_good_prediction_ratio_array(labels[n+1:], np.mean(labels), 5))\n",
    "print(model_good_prediction_ratio_array(labels[n+1:], predictions[n+1:], 5))"
   ]
  },
  {
   "cell_type": "markdown",
   "metadata": {},
   "source": [
    "## Classifier"
   ]
  },
  {
   "cell_type": "code",
   "execution_count": 42,
   "metadata": {},
   "outputs": [
    {
     "name": "stdout",
     "output_type": "stream",
     "text": [
      "[6 5 4 ... 6 6 7]\n"
     ]
    },
    {
     "data": {
      "text/plain": [
       "99.88743492331504"
      ]
     },
     "execution_count": 42,
     "metadata": {},
     "output_type": "execute_result"
    },
    {
     "data": {
      "image/png": "[encoded data removed]",
      "text/plain": [
       "<Figure size 432x288 with 1 Axes>"
      ]
     },
     "metadata": {
      "needs_background": "light"
     },
     "output_type": "display_data"
    }
   ],
   "source": [
    "def rounder(t): \n",
    "    return int(round(t / 5))\n",
    "\n",
    "\n",
    "classes = np.array([rounder(xi) for xi in labels])\n",
    "print(classes)\n",
    "plt.hist(classes)\n",
    "100*len(list(filter(lambda x : 10 < x < 60, labels)))/len(data)"
   ]
  },
  {
   "cell_type": "code",
   "execution_count": 43,
   "metadata": {},
   "outputs": [
    {
     "data": {
      "text/plain": [
       "array([15.,  0.,  1.,  1.,  1.,  1.,  1.,  1.,  1.,  1.,  2.,  2.])"
      ]
     },
     "execution_count": 43,
     "metadata": {},
     "output_type": "execute_result"
    }
   ],
   "source": [
    "data[0] = np.array([rounder(xi) for xi in data[0]])\n",
    "data[0]"
   ]
  },
  {
   "cell_type": "code",
   "execution_count": 45,
   "metadata": {},
   "outputs": [
    {
     "data": {
      "text/plain": [
       "{4, 5, 6, 7, 8, 9, 10, 11, 12}"
      ]
     },
     "execution_count": 45,
     "metadata": {},
     "output_type": "execute_result"
    }
   ],
   "source": [
    "set(classes)"
   ]
  },
  {
   "cell_type": "code",
   "execution_count": 20,
   "metadata": {},
   "outputs": [],
   "source": [
    "from sklearn.ensemble import RandomForestClassifier"
   ]
  },
  {
   "cell_type": "code",
   "execution_count": 21,
   "metadata": {},
   "outputs": [
    {
     "data": {
      "text/plain": [
       "[0.986, 0.43595634692705343]"
      ]
     },
     "execution_count": 21,
     "metadata": {},
     "output_type": "execute_result"
    }
   ],
   "source": [
    "clf2 = RandomForestClassifier(n_estimators=10, max_features=3)#,min_samples_leaf=10)\n",
    "clf2.fit(data[0:4000], classes[0:4000])\n",
    "[clf2.score(data[0:4000], classes[0:4000]), clf2.score(data[4000:], classes[4000:])]"
   ]
  },
  {
   "cell_type": "code",
   "execution_count": 23,
   "metadata": {},
   "outputs": [
    {
     "data": {
      "text/plain": [
       "[1512, 65]"
      ]
     },
     "execution_count": 23,
     "metadata": {},
     "output_type": "execute_result"
    }
   ],
   "source": [
    "proba = np.asarray(list(map(lambda x: np.max(x), clf2.predict_proba(data))))\n",
    "good_indices = np.ndarray.nonzero(proba > 0.8)[0]\n",
    "good_indices.shape\n",
    "training_good_indices = list(filter(lambda x : x < 4000, good_indices))\n",
    "validation_good_indices = list(filter(lambda x : 5000 > x >= 4000, good_indices))\n",
    "\n",
    "[len(training_good_indices), len(validation_good_indices)]"
   ]
  },
  {
   "cell_type": "code",
   "execution_count": 24,
   "metadata": {},
   "outputs": [
    {
     "data": {
      "text/plain": [
       "[1.0, 0.6]"
      ]
     },
     "execution_count": 24,
     "metadata": {},
     "output_type": "execute_result"
    }
   ],
   "source": [
    "[clf2.score(data[training_good_indices], classes[training_good_indices]), \n",
    " clf2.score(data[validation_good_indices], classes[validation_good_indices])]\n"
   ]
  },
  {
   "cell_type": "code",
   "execution_count": 25,
   "metadata": {},
   "outputs": [],
   "source": [
    "def classifier_good_prediction_ratio_array(targets, predictions):\n",
    "    predictionsDiff = (targets == predictions)\n",
    "    return len(list(filter(lambda x: x , predictionsDiff)))/len(predictionsDiff)"
   ]
  },
  {
   "cell_type": "code",
   "execution_count": 64,
   "metadata": {},
   "outputs": [
    {
     "data": {
      "text/plain": [
       "[0.6895, 0.2774380431284197]"
      ]
     },
     "execution_count": 64,
     "metadata": {},
     "output_type": "execute_result"
    }
   ],
   "source": [
    "clf = tree.DecisionTreeClassifier(#min_samples_leaf=None,\n",
    "                                  min_impurity_decrease=0.0004)\n",
    "clf.fit(data[0:4000], classes[0:4000])\n",
    "[clf.score(data[0:4000], classes[0:4000]), clf.score(data[4000:], classes[4000:])]"
   ]
  },
  {
   "cell_type": "code",
   "execution_count": 48,
   "metadata": {},
   "outputs": [
    {
     "data": {
      "text/plain": [
       "[921, 238]"
      ]
     },
     "execution_count": 48,
     "metadata": {},
     "output_type": "execute_result"
    }
   ],
   "source": [
    "proba = np.asarray(list(map(lambda x: np.max(x), clf.predict_proba(data))))\n",
    "good_indices = np.ndarray.nonzero(proba > 0.8)[0]\n",
    "good_indices.shape\n",
    "training_good_indices = list(filter(lambda x : x < 4000, good_indices))\n",
    "validation_good_indices = list(filter(lambda x : 5000 > x >= 4000, good_indices))\n",
    "\n",
    "[len(training_good_indices), len(validation_good_indices)]"
   ]
  },
  {
   "cell_type": "code",
   "execution_count": 65,
   "metadata": {},
   "outputs": [
    {
     "data": {
      "text/plain": [
       "'idris.pdf'"
      ]
     },
     "execution_count": 65,
     "metadata": {},
     "output_type": "execute_result"
    }
   ],
   "source": [
    "dot_data = tree.export_graphviz(clf, out_file=None)\n",
    "graph = graphviz.Source(dot_data) \n",
    "graph.render(\"idris\")"
   ]
  },
  {
   "cell_type": "code",
   "execution_count": 66,
   "metadata": {},
   "outputs": [
    {
     "data": {
      "text/plain": [
       "['age_in_months_at_equipped_start',\n",
       " 'genderNum',\n",
       " 'freq_250',\n",
       " 'freq_500',\n",
       " 'freq_750',\n",
       " 'freq_1000',\n",
       " 'freq_1500',\n",
       " 'freq_2000',\n",
       " 'freq_3000',\n",
       " 'freq_4000',\n",
       " 'freq_6000',\n",
       " 'freq_8000']"
      ]
     },
     "execution_count": 66,
     "metadata": {},
     "output_type": "execute_result"
    }
   ],
   "source": [
    "my_features"
   ]
  },
  {
   "cell_type": "code",
   "execution_count": 68,
   "metadata": {},
   "outputs": [
    {
     "data": {
      "text/plain": [
       "array([0.16884115, 0.0379173 , 0.08200905, 0.05728869, 0.05819589,\n",
       "       0.18872879, 0.07068765, 0.07153705, 0.06494943, 0.06334823,\n",
       "       0.07325976, 0.06323702])"
      ]
     },
     "execution_count": 68,
     "metadata": {},
     "output_type": "execute_result"
    }
   ],
   "source": [
    "clf.feature_importances_"
   ]
  },
  {
   "cell_type": "code",
   "execution_count": 70,
   "metadata": {},
   "outputs": [
    {
     "data": {
      "text/plain": [
       "[1369, 342]"
      ]
     },
     "execution_count": 70,
     "metadata": {},
     "output_type": "execute_result"
    }
   ],
   "source": [
    "proba = np.asarray(list(map(lambda x: np.max(x), clf.predict_proba(data))))\n",
    "good_indices = np.ndarray.nonzero(proba > 0.8)[0]\n",
    "good_indices.shape\n",
    "training_good_indices = list(filter(lambda x : x < 4000, good_indices))\n",
    "validation_good_indices = list(filter(lambda x : 5000 > x >= 4000, good_indices))\n",
    "\n",
    "[len(training_good_indices), len(validation_good_indices)]"
   ]
  },
  {
   "cell_type": "code",
   "execution_count": 71,
   "metadata": {},
   "outputs": [
    {
     "data": {
      "text/plain": [
       "[0.9642074506939372, 0.24269005847953215]"
      ]
     },
     "execution_count": 71,
     "metadata": {},
     "output_type": "execute_result"
    }
   ],
   "source": [
    "[clf.score(data[training_good_indices], classes[training_good_indices]), \n",
    " clf.score(data[validation_good_indices], classes[validation_good_indices])]\n"
   ]
  },
  {
   "cell_type": "code",
   "execution_count": 56,
   "metadata": {},
   "outputs": [
    {
     "data": {
      "text/plain": [
       "[0.308, 0.65225]"
      ]
     },
     "execution_count": 56,
     "metadata": {},
     "output_type": "execute_result"
    }
   ],
   "source": [
    "relevant_labels = classes[0:4000]\n",
    "[classifier_good_prediction_ratio_array(relevant_labels, int(np.average(relevant_labels))), \n",
    "  clf.score(data[0:4000], classes[0:4000])]"
   ]
  },
  {
   "cell_type": "code",
   "execution_count": 920,
   "metadata": {},
   "outputs": [
    {
     "data": {
      "text/plain": [
       "[0.27484204480183805, 0.46898334290637567]"
      ]
     },
     "execution_count": 920,
     "metadata": {},
     "output_type": "execute_result"
    }
   ],
   "source": [
    "relevant_labels = classes[4000:]\n",
    "[classifier_good_prediction_ratio_array(relevant_labels, int(np.average(relevant_labels))), \n",
    "  clf.score(data[4000:], classes[4000:])]"
   ]
  },
  {
   "cell_type": "code",
   "execution_count": 878,
   "metadata": {},
   "outputs": [
    {
     "name": "stdout",
     "output_type": "stream",
     "text": [
      "4042\n",
      "[[0.         0.         0.91891892 0.08108108 0.         0.        ]]\n"
     ]
    },
    {
     "data": {
      "text/plain": [
       "3"
      ]
     },
     "execution_count": 878,
     "metadata": {},
     "output_type": "execute_result"
    }
   ],
   "source": [
    "i = validation_good_indices[1]\n",
    "print(i)\n",
    "print(clf.predict_proba(data[[i]]))\n",
    "classes[i]"
   ]
  },
  {
   "cell_type": "code",
   "execution_count": 882,
   "metadata": {},
   "outputs": [
    {
     "data": {
      "text/plain": [
       "[40.0, array([780.,   0.,  50.,  55.,  60.,  60.,  70.,  65.,  70.,  80.,  75.,\n",
       "         85.])]"
      ]
     },
     "execution_count": 882,
     "metadata": {},
     "output_type": "execute_result"
    }
   ],
   "source": [
    "[labels[4042],\n",
    "data[4042]]"
   ]
  },
  {
   "cell_type": "code",
   "execution_count": 911,
   "metadata": {},
   "outputs": [
    {
     "data": {
      "text/plain": [
       "[[1, 0],\n",
       " [2, 0],\n",
       " [3, 0],\n",
       " [4, 0],\n",
       " [5, 0],\n",
       " [6, 0],\n",
       " [7, 0],\n",
       " [8, 0],\n",
       " [9, 0],\n",
       " [10, 1],\n",
       " [11, 1],\n",
       " [12, 1],\n",
       " [13, 1],\n",
       " [14, 1],\n",
       " [15, 2],\n",
       " [16, 2],\n",
       " [17, 2],\n",
       " [18, 2],\n",
       " [19, 2],\n",
       " [20, 2],\n",
       " [21, 2],\n",
       " [22, 2],\n",
       " [23, 2],\n",
       " [24, 2],\n",
       " [25, 2],\n",
       " [26, 3],\n",
       " [27, 3],\n",
       " [28, 3],\n",
       " [29, 3],\n",
       " [30, 3],\n",
       " [31, 3],\n",
       " [32, 3],\n",
       " [33, 3],\n",
       " [34, 3],\n",
       " [35, 4],\n",
       " [36, 4],\n",
       " [37, 4],\n",
       " [38, 4],\n",
       " [39, 4],\n",
       " [40, 4],\n",
       " [41, 4],\n",
       " [42, 4],\n",
       " [43, 4],\n",
       " [44, 4],\n",
       " [45, 4],\n",
       " [46, 5],\n",
       " [47, 5],\n",
       " [48, 5],\n",
       " [49, 5],\n",
       " [50, 5],\n",
       " [51, 5],\n",
       " [52, 5],\n",
       " [53, 5],\n",
       " [54, 5],\n",
       " [55, 6],\n",
       " [56, 6],\n",
       " [57, 6],\n",
       " [58, 6],\n",
       " [59, 6],\n",
       " [60, 6],\n",
       " [61, 12],\n",
       " [62, 12],\n",
       " [63, 12],\n",
       " [64, 12],\n",
       " [65, 12],\n",
       " [66, 12],\n",
       " [67, 12],\n",
       " [68, 12],\n",
       " [69, 12],\n",
       " [70, 12],\n",
       " [71, 12],\n",
       " [72, 12],\n",
       " [73, 12],\n",
       " [74, 12],\n",
       " [75, 12],\n",
       " [76, 12],\n",
       " [77, 12],\n",
       " [78, 12],\n",
       " [79, 12],\n",
       " [80, 12],\n",
       " [81, 12],\n",
       " [82, 12],\n",
       " [83, 12],\n",
       " [84, 12],\n",
       " [85, 12],\n",
       " [86, 12],\n",
       " [87, 12],\n",
       " [88, 12],\n",
       " [89, 12],\n",
       " [90, 12],\n",
       " [91, 12],\n",
       " [92, 12],\n",
       " [93, 12],\n",
       " [94, 12],\n",
       " [95, 12],\n",
       " [96, 12],\n",
       " [97, 12],\n",
       " [98, 12],\n",
       " [99, 12]]"
      ]
     },
     "execution_count": 911,
     "metadata": {},
     "output_type": "execute_result"
    }
   ],
   "source": [
    "list(map(lambda x: [x, rounder(x)], range(1, 100)))"
   ]
  },
  {
   "cell_type": "markdown",
   "metadata": {},
   "source": [
    "# Neural Network"
   ]
  },
  {
   "cell_type": "code",
   "execution_count": 87,
   "metadata": {},
   "outputs": [],
   "source": [
    "def good_prediction_error(y_true, y_pred):\n",
    "    g = tf.subtract(y_true, y_pred)\n",
    "    g = tf.cast(g < 5.0, tf.float32)\n",
    "    return g\n",
    "    \n",
    "    \n",
    "#good_prediction_error(np.array([1, 20]), np.array([0, 0]))"
   ]
  },
  {
   "cell_type": "code",
   "execution_count": 88,
   "metadata": {},
   "outputs": [
    {
     "data": {
      "text/plain": [
       "['years_scaled',\n",
       " 'isMale',\n",
       " 'isFemale',\n",
       " 'freq_500_scaled',\n",
       " 'freq_1000_scaled',\n",
       " 'freq_2000_scaled',\n",
       " 'freq_4000_scaled',\n",
       " 'freq_8000_scaled']"
      ]
     },
     "execution_count": 88,
     "metadata": {},
     "output_type": "execute_result"
    }
   ],
   "source": [
    "features"
   ]
  },
  {
   "cell_type": "code",
   "execution_count": 90,
   "metadata": {},
   "outputs": [],
   "source": [
    "eq = equipment_success.sample(frac=1)\n",
    "data = (equipment_success[features].values)\n",
    "labels = (equipment_success['eq_freq_1000'].values)"
   ]
  },
  {
   "cell_type": "code",
   "execution_count": 91,
   "metadata": {},
   "outputs": [
    {
     "data": {
      "text/plain": [
       "(12458, 8)"
      ]
     },
     "execution_count": 91,
     "metadata": {},
     "output_type": "execute_result"
    }
   ],
   "source": [
    "data = original_data.copy()\n",
    "np.random.shuffle(data)\n",
    "data.shape\n"
   ]
  },
  {
   "cell_type": "code",
   "execution_count": 97,
   "metadata": {},
   "outputs": [
    {
     "name": "stdout",
     "output_type": "stream",
     "text": [
      "Train on 9966 samples, validate on 2492 samples\n",
      "Epoch 1/200\n",
      "100/100 [==============================] - 10s 99ms/step - loss: 119.6624 - mean_squared_error: 119.6624 - val_loss: 64.9613 - val_mean_squared_error: 64.9613\n",
      "Epoch 2/200\n",
      "100/100 [==============================] - 9s 88ms/step - loss: 67.1530 - mean_squared_error: 67.1530 - val_loss: 65.1030 - val_mean_squared_error: 65.1030\n",
      "Epoch 3/200\n",
      "100/100 [==============================] - 9s 85ms/step - loss: 66.5064 - mean_squared_error: 66.5064 - val_loss: 65.4505 - val_mean_squared_error: 65.4505\n",
      "Epoch 4/200\n",
      "100/100 [==============================] - 9s 86ms/step - loss: 66.0074 - mean_squared_error: 66.0074 - val_loss: 65.9980 - val_mean_squared_error: 65.9980\n",
      "Epoch 5/200\n",
      "100/100 [==============================] - 9s 88ms/step - loss: 65.9446 - mean_squared_error: 65.9446 - val_loss: 66.2983 - val_mean_squared_error: 66.2983\n",
      "Epoch 6/200\n",
      "100/100 [==============================] - 9s 87ms/step - loss: 65.2721 - mean_squared_error: 65.2721 - val_loss: 66.6089 - val_mean_squared_error: 66.6089\n",
      "Epoch 7/200\n",
      "100/100 [==============================] - 9s 89ms/step - loss: 65.5550 - mean_squared_error: 65.5550 - val_loss: 67.1301 - val_mean_squared_error: 67.1301\n",
      "Epoch 8/200\n",
      "100/100 [==============================] - 9s 93ms/step - loss: 65.1530 - mean_squared_error: 65.1530 - val_loss: 67.3751 - val_mean_squared_error: 67.3751\n",
      "Epoch 9/200\n",
      "100/100 [==============================] - 9s 91ms/step - loss: 65.6433 - mean_squared_error: 65.6433 - val_loss: 67.3106 - val_mean_squared_error: 67.3106\n",
      "Epoch 10/200\n",
      " 11/100 [==>...........................] - ETA: 8s - loss: 64.6427 - mean_squared_error: 64.6427"
     ]
    },
    {
     "ename": "KeyboardInterrupt",
     "evalue": "",
     "output_type": "error",
     "traceback": [
      "\u001b[0;31m---------------------------------------------------------------------------\u001b[0m",
      "\u001b[0;31mKeyboardInterrupt\u001b[0m                         Traceback (most recent call last)",
      "\u001b[0;32m<ipython-input-97-a0e222ded978>\u001b[0m in \u001b[0;36m<module>\u001b[0;34m\u001b[0m\n\u001b[1;32m     20\u001b[0m                    \u001b[0mvalidation_split\u001b[0m\u001b[0;34m=\u001b[0m\u001b[0mvalidation_split\u001b[0m\u001b[0;34m,\u001b[0m\u001b[0;34m\u001b[0m\u001b[0m\n\u001b[1;32m     21\u001b[0m                     \u001b[0mvalidation_steps\u001b[0m\u001b[0;34m=\u001b[0m\u001b[0;36m100\u001b[0m\u001b[0;34m,\u001b[0m\u001b[0;34m\u001b[0m\u001b[0m\n\u001b[0;32m---> 22\u001b[0;31m                     verbose=1)\n\u001b[0m",
      "\u001b[0;32m/usr/local/lib/python3.5/dist-packages/keras/engine/training.py\u001b[0m in \u001b[0;36mfit\u001b[0;34m(self, x, y, batch_size, epochs, verbose, callbacks, validation_split, validation_data, shuffle, class_weight, sample_weight, initial_epoch, steps_per_epoch, validation_steps, **kwargs)\u001b[0m\n\u001b[1;32m   1037\u001b[0m                                         \u001b[0minitial_epoch\u001b[0m\u001b[0;34m=\u001b[0m\u001b[0minitial_epoch\u001b[0m\u001b[0;34m,\u001b[0m\u001b[0;34m\u001b[0m\u001b[0m\n\u001b[1;32m   1038\u001b[0m                                         \u001b[0msteps_per_epoch\u001b[0m\u001b[0;34m=\u001b[0m\u001b[0msteps_per_epoch\u001b[0m\u001b[0;34m,\u001b[0m\u001b[0;34m\u001b[0m\u001b[0m\n\u001b[0;32m-> 1039\u001b[0;31m                                         validation_steps=validation_steps)\n\u001b[0m\u001b[1;32m   1040\u001b[0m \u001b[0;34m\u001b[0m\u001b[0m\n\u001b[1;32m   1041\u001b[0m     def evaluate(self, x=None, y=None,\n",
      "\u001b[0;32m/usr/local/lib/python3.5/dist-packages/keras/engine/training_arrays.py\u001b[0m in \u001b[0;36mfit_loop\u001b[0;34m(model, f, ins, out_labels, batch_size, epochs, verbose, callbacks, val_f, val_ins, shuffle, callback_metrics, initial_epoch, steps_per_epoch, validation_steps)\u001b[0m\n\u001b[1;32m    152\u001b[0m                 \u001b[0mbatch_logs\u001b[0m\u001b[0;34m[\u001b[0m\u001b[0;34m'size'\u001b[0m\u001b[0;34m]\u001b[0m \u001b[0;34m=\u001b[0m \u001b[0;36m1\u001b[0m\u001b[0;34m\u001b[0m\u001b[0m\n\u001b[1;32m    153\u001b[0m                 \u001b[0mcallbacks\u001b[0m\u001b[0;34m.\u001b[0m\u001b[0mon_batch_begin\u001b[0m\u001b[0;34m(\u001b[0m\u001b[0mstep_index\u001b[0m\u001b[0;34m,\u001b[0m \u001b[0mbatch_logs\u001b[0m\u001b[0;34m)\u001b[0m\u001b[0;34m\u001b[0m\u001b[0m\n\u001b[0;32m--> 154\u001b[0;31m                 \u001b[0mouts\u001b[0m \u001b[0;34m=\u001b[0m \u001b[0mf\u001b[0m\u001b[0;34m(\u001b[0m\u001b[0mins\u001b[0m\u001b[0;34m)\u001b[0m\u001b[0;34m\u001b[0m\u001b[0m\n\u001b[0m\u001b[1;32m    155\u001b[0m \u001b[0;34m\u001b[0m\u001b[0m\n\u001b[1;32m    156\u001b[0m                 \u001b[0mouts\u001b[0m \u001b[0;34m=\u001b[0m \u001b[0mto_list\u001b[0m\u001b[0;34m(\u001b[0m\u001b[0mouts\u001b[0m\u001b[0;34m)\u001b[0m\u001b[0;34m\u001b[0m\u001b[0m\n",
      "\u001b[0;32m/usr/local/lib/python3.5/dist-packages/keras/backend/tensorflow_backend.py\u001b[0m in \u001b[0;36m__call__\u001b[0;34m(self, inputs)\u001b[0m\n\u001b[1;32m   2713\u001b[0m                 \u001b[0;32mreturn\u001b[0m \u001b[0mself\u001b[0m\u001b[0;34m.\u001b[0m\u001b[0m_legacy_call\u001b[0m\u001b[0;34m(\u001b[0m\u001b[0minputs\u001b[0m\u001b[0;34m)\u001b[0m\u001b[0;34m\u001b[0m\u001b[0m\n\u001b[1;32m   2714\u001b[0m \u001b[0;34m\u001b[0m\u001b[0m\n\u001b[0;32m-> 2715\u001b[0;31m             \u001b[0;32mreturn\u001b[0m \u001b[0mself\u001b[0m\u001b[0;34m.\u001b[0m\u001b[0m_call\u001b[0m\u001b[0;34m(\u001b[0m\u001b[0minputs\u001b[0m\u001b[0;34m)\u001b[0m\u001b[0;34m\u001b[0m\u001b[0m\n\u001b[0m\u001b[1;32m   2716\u001b[0m         \u001b[0;32melse\u001b[0m\u001b[0;34m:\u001b[0m\u001b[0;34m\u001b[0m\u001b[0m\n\u001b[1;32m   2717\u001b[0m             \u001b[0;32mif\u001b[0m \u001b[0mpy_any\u001b[0m\u001b[0;34m(\u001b[0m\u001b[0mis_tensor\u001b[0m\u001b[0;34m(\u001b[0m\u001b[0mx\u001b[0m\u001b[0;34m)\u001b[0m \u001b[0;32mfor\u001b[0m \u001b[0mx\u001b[0m \u001b[0;32min\u001b[0m \u001b[0minputs\u001b[0m\u001b[0;34m)\u001b[0m\u001b[0;34m:\u001b[0m\u001b[0;34m\u001b[0m\u001b[0m\n",
      "\u001b[0;32m/usr/local/lib/python3.5/dist-packages/keras/backend/tensorflow_backend.py\u001b[0m in \u001b[0;36m_call\u001b[0;34m(self, inputs)\u001b[0m\n\u001b[1;32m   2673\u001b[0m             \u001b[0mfetched\u001b[0m \u001b[0;34m=\u001b[0m \u001b[0mself\u001b[0m\u001b[0;34m.\u001b[0m\u001b[0m_callable_fn\u001b[0m\u001b[0;34m(\u001b[0m\u001b[0;34m*\u001b[0m\u001b[0marray_vals\u001b[0m\u001b[0;34m,\u001b[0m \u001b[0mrun_metadata\u001b[0m\u001b[0;34m=\u001b[0m\u001b[0mself\u001b[0m\u001b[0;34m.\u001b[0m\u001b[0mrun_metadata\u001b[0m\u001b[0;34m)\u001b[0m\u001b[0;34m\u001b[0m\u001b[0m\n\u001b[1;32m   2674\u001b[0m         \u001b[0;32melse\u001b[0m\u001b[0;34m:\u001b[0m\u001b[0;34m\u001b[0m\u001b[0m\n\u001b[0;32m-> 2675\u001b[0;31m             \u001b[0mfetched\u001b[0m \u001b[0;34m=\u001b[0m \u001b[0mself\u001b[0m\u001b[0;34m.\u001b[0m\u001b[0m_callable_fn\u001b[0m\u001b[0;34m(\u001b[0m\u001b[0;34m*\u001b[0m\u001b[0marray_vals\u001b[0m\u001b[0;34m)\u001b[0m\u001b[0;34m\u001b[0m\u001b[0m\n\u001b[0m\u001b[1;32m   2676\u001b[0m         \u001b[0;32mreturn\u001b[0m \u001b[0mfetched\u001b[0m\u001b[0;34m[\u001b[0m\u001b[0;34m:\u001b[0m\u001b[0mlen\u001b[0m\u001b[0;34m(\u001b[0m\u001b[0mself\u001b[0m\u001b[0;34m.\u001b[0m\u001b[0moutputs\u001b[0m\u001b[0;34m)\u001b[0m\u001b[0;34m]\u001b[0m\u001b[0;34m\u001b[0m\u001b[0m\n\u001b[1;32m   2677\u001b[0m \u001b[0;34m\u001b[0m\u001b[0m\n",
      "\u001b[0;32m/usr/local/lib/python3.5/dist-packages/tensorflow/python/client/session.py\u001b[0m in \u001b[0;36m__call__\u001b[0;34m(self, *args, **kwargs)\u001b[0m\n\u001b[1;32m   1437\u001b[0m           ret = tf_session.TF_SessionRunCallable(\n\u001b[1;32m   1438\u001b[0m               \u001b[0mself\u001b[0m\u001b[0;34m.\u001b[0m\u001b[0m_session\u001b[0m\u001b[0;34m.\u001b[0m\u001b[0m_session\u001b[0m\u001b[0;34m,\u001b[0m \u001b[0mself\u001b[0m\u001b[0;34m.\u001b[0m\u001b[0m_handle\u001b[0m\u001b[0;34m,\u001b[0m \u001b[0margs\u001b[0m\u001b[0;34m,\u001b[0m \u001b[0mstatus\u001b[0m\u001b[0;34m,\u001b[0m\u001b[0;34m\u001b[0m\u001b[0m\n\u001b[0;32m-> 1439\u001b[0;31m               run_metadata_ptr)\n\u001b[0m\u001b[1;32m   1440\u001b[0m         \u001b[0;32mif\u001b[0m \u001b[0mrun_metadata\u001b[0m\u001b[0;34m:\u001b[0m\u001b[0;34m\u001b[0m\u001b[0m\n\u001b[1;32m   1441\u001b[0m           \u001b[0mproto_data\u001b[0m \u001b[0;34m=\u001b[0m \u001b[0mtf_session\u001b[0m\u001b[0;34m.\u001b[0m\u001b[0mTF_GetBuffer\u001b[0m\u001b[0;34m(\u001b[0m\u001b[0mrun_metadata_ptr\u001b[0m\u001b[0;34m)\u001b[0m\u001b[0;34m\u001b[0m\u001b[0m\n",
      "\u001b[0;31mKeyboardInterrupt\u001b[0m: "
     ]
    }
   ],
   "source": [
    "\n",
    "model = Sequential([\n",
    "    Dense(300, input_dim=len(features)),\n",
    "    advanced_activations.LeakyReLU(alpha=0.3),\n",
    "    Dense(100),\n",
    "    advanced_activations.LeakyReLU(alpha=0.3),\n",
    "    Dense(100),\n",
    "    advanced_activations.LeakyReLU(alpha=0.3),\n",
    "    Dense(1),\n",
    "])\n",
    "\n",
    "\n",
    "model.compile(optimizer=optimizers.Adam(lr=0.01),\n",
    "              loss='mean_squared_error',       \n",
    "              metrics=[ 'mean_squared_error'])  \n",
    "\n",
    "validation_split=0.2\n",
    "training_samples = int(len(data)*(1-validation_split))\n",
    "history = model.fit(data, labels, epochs=200, steps_per_epoch=100,\n",
    "                   validation_split=validation_split, \n",
    "                    validation_steps=100,\n",
    "                    verbose=1)"
   ]
  },
  {
   "cell_type": "code",
   "execution_count": 75,
   "metadata": {},
   "outputs": [
    {
     "data": {
      "text/plain": [
       "[197, 6.261045729461158]"
      ]
     },
     "execution_count": 75,
     "metadata": {},
     "output_type": "execute_result"
    }
   ],
   "source": [
    "from operator import itemgetter\n",
    "# ע\n",
    "a, b = min(enumerate(history.history['mean_squared_error']), key=itemgetter(1)) \n",
    "[a, math.sqrt(b)]"
   ]
  },
  {
   "cell_type": "code",
   "execution_count": 76,
   "metadata": {},
   "outputs": [
    {
     "data": {
      "text/plain": [
       "[0.6122817579771223, 0.4813365442504515, 6.132738280095858, 8.24388650902084]"
      ]
     },
     "execution_count": 76,
     "metadata": {},
     "output_type": "execute_result"
    }
   ],
   "source": [
    "\n",
    "relevant_data = data[0:training_samples]\n",
    "relevant_labels = labels[0:training_samples]\n",
    "predictions = model.predict(relevant_data).transpose()[0]\n",
    "[model_good_prediction_ratio_array(relevant_labels, predictions, 5),\n",
    " model_good_prediction_ratio_array(relevant_labels, np.average(relevant_labels), 5),\n",
    " np.std(relevant_labels - predictions),\n",
    " np.std(relevant_labels - np.average(relevant_labels))\n",
    "]\n",
    "\n"
   ]
  },
  {
   "cell_type": "code",
   "execution_count": 77,
   "metadata": {},
   "outputs": [
    {
     "data": {
      "text/plain": [
       "[0.4085072231139647, 0.49157303370786515, 9.732953396268867, 8.042764194759142]"
      ]
     },
     "execution_count": 77,
     "metadata": {},
     "output_type": "execute_result"
    }
   ],
   "source": [
    "relevant_data = data[training_samples:]\n",
    "relevant_labels = labels[training_samples:]\n",
    "predictions = model.predict(relevant_data).transpose()[0]\n",
    "[model_good_prediction_ratio_array(relevant_labels, predictions, 5),\n",
    " model_good_prediction_ratio_array(relevant_labels, np.average(relevant_labels), 5),\n",
    " np.std(relevant_labels - predictions),\n",
    " np.std(relevant_labels - np.average(relevant_labels))\n",
    "]\n"
   ]
  },
  {
   "cell_type": "code",
   "execution_count": 78,
   "metadata": {},
   "outputs": [
    {
     "data": {
      "image/png": "[encoded data removed]",
      "text/plain": [
       "<Figure size 432x288 with 1 Axes>"
      ]
     },
     "metadata": {
      "needs_background": "light"
     },
     "output_type": "display_data"
    }
   ],
   "source": [
    "\n",
    "# Plot training & validation loss values\n",
    "plt.plot(history.history['mean_squared_error'])\n",
    "plt.plot(history.history['val_mean_squared_error'])\n",
    "plt.title('Model mean_squared_error')\n",
    "plt.ylabel('mean_squared_error')\n",
    "plt.ylim(0, 100)\n",
    "plt.xlabel('Epoch')\n",
    "plt.legend(['Train', 'Test'], loc='upper right')\n",
    "plt.show()"
   ]
  },
  {
   "cell_type": "code",
   "execution_count": 138,
   "metadata": {},
   "outputs": [
    {
     "data": {
      "text/plain": [
       "[0.578, 0.515]"
      ]
     },
     "execution_count": 138,
     "metadata": {},
     "output_type": "execute_result"
    }
   ],
   "source": [
    "test_dataset = equipment_success_all.copy() #[(equipment_success_valid['isMale'] == 0)\n",
    "                                           # & (equipment_success_valid['decades_old'] == 7)\n",
    "                                           #].copy()\n",
    "        \n",
    "test_dataset = test_dataset.sample(frac=1)\n",
    "test_dataset = test_dataset.tail(1000)\n",
    "test_data = (test_dataset[features].values)\n",
    "test_labels = (test_dataset['eq_freq_2000'].values)\n",
    "\n",
    "test_predictions = model.predict(test_data).transpose()[0]\n",
    "[model_good_prediction_ratio_array(test_labels, test_predictions, 5),\n",
    " model_good_prediction_ratio_array(test_labels, np.average(test_labels), 5)]\n"
   ]
  },
  {
   "cell_type": "code",
   "execution_count": 24,
   "metadata": {},
   "outputs": [
    {
     "data": {
      "text/plain": [
       "array([ 2.05080795e+00, -7.94754410e+00, -1.29538536e+01, -2.95101547e+00,\n",
       "        3.27393723e+00,  8.27403069e+00, -2.28575363e+01, -1.57872200e+00,\n",
       "        4.10610580e+00, -6.93192291e+00,  2.07655716e+00, -2.19954643e+01,\n",
       "       -2.95190430e+00,  3.52158165e+00, -1.57377625e+00,  3.27444458e+00,\n",
       "       -2.95045471e+00,  2.04628754e+00, -1.82958221e+00, -1.72612762e+00,\n",
       "       -7.61500168e+00, -1.73098564e+00,  2.04937744e+00,  3.27481079e+00,\n",
       "        1.47110004e+01,  1.25687962e+01, -1.72239685e+00,  1.32738705e+01,\n",
       "       -3.20412064e+00,  8.34257889e+00, -2.95625305e+00,  2.74271011e-01,\n",
       "       -1.73409271e+00, -1.72612953e+00, -1.29504852e+01,  7.04953384e+00,\n",
       "        3.12254906e+00, -1.67822075e+00, -7.96102142e+00,  4.94232178e-02,\n",
       "       -1.19523697e+01,  2.30931072e+01,  1.32749939e+01, -2.95349121e+00,\n",
       "       -3.82720566e+00,  3.26380539e+00,  2.00729370e+00, -7.95290375e+00,\n",
       "        3.72333717e+00,  2.04780197e+00, -2.95038605e+00, -1.70900726e+00,\n",
       "        3.27503395e+00,  1.32776623e+01, -6.72487068e+00, -1.72620201e+00,\n",
       "        7.04476929e+00, -1.79536018e+01, -6.34048271e+00, -1.81956215e+01,\n",
       "       -1.11610603e+01,  8.09549141e+00,  3.27504921e+00,  8.27280998e+00,\n",
       "       -6.72530556e+00, -2.64917336e+01, -2.95037079e+00, -7.95343781e+00,\n",
       "       -1.60257721e+00,  3.27507591e+00,  7.74510002e+00, -2.74247360e+00,\n",
       "        8.21200180e+00,  9.84550476e-01, -1.72495651e+00, -8.92032623e-01,\n",
       "       -1.72619629e+00, -5.42310715e-01,  2.04675674e+00, -6.72336769e+00,\n",
       "        3.27289581e+00, -1.75029182e+00,  3.27279091e+00, -2.95460510e+00,\n",
       "       -3.72619057e+00,  1.22954865e+01, -4.00642014e+00,  3.27317619e+00,\n",
       "       -6.72608185e+00,  6.31781960e+00, -1.36374130e+01, -6.71955109e+00,\n",
       "        3.57110786e+00,  3.74641609e+00, -8.48542595e+00, -6.72525215e+00,\n",
       "        8.28709602e+00, -3.00452423e+00, -4.77939987e+00, -1.72492599e+00,\n",
       "        3.41761017e+00, -6.28467560e+00, -1.17277489e+01, -5.88823509e+00,\n",
       "       -2.95346069e+00, -6.72710800e+00, -7.94307327e+00, -2.44201088e+00,\n",
       "        7.25388336e+00,  8.27324104e+00,  8.98711777e+00,  5.13569641e+00,\n",
       "        7.67414856e+00,  4.72267532e+00, -7.94725418e+00, -4.48934555e-01,\n",
       "       -3.48882294e+00, -1.72611427e+00, -1.41445160e+00, -5.56194305e+00,\n",
       "        7.16250229e+00,  2.36677361e+00, -7.84000587e+00, -7.09196281e+00,\n",
       "        3.82750416e+01,  7.01235199e+00, -1.72623444e+00,  3.66388321e+00,\n",
       "       -2.95351028e+00, -1.70657730e+00,  2.06041336e+00, -2.34187508e+00,\n",
       "        1.08742189e+01,  8.31432724e+00,  2.06445312e+00,  3.27510643e+00,\n",
       "       -6.34449005e+00,  4.90188599e-02, -1.17269688e+01, -1.72656822e+00,\n",
       "        4.53322506e+00,  8.27502823e+00, -1.72690392e+00, -6.72716331e+00,\n",
       "        3.27283669e+00,  2.05881500e+00,  2.04834747e+00,  3.05103874e+00,\n",
       "       -2.83943176e+00,  4.08803177e+00,  4.00103378e+00,  3.27398872e+00,\n",
       "       -1.43753624e+00,  3.27384758e+00, -2.95139694e+00, -1.72644043e+00,\n",
       "        5.10811996e+00, -1.29537506e+01, -2.93307877e+00, -1.59879723e+01,\n",
       "       -3.23112679e+00, -7.94634247e+00,  6.69429779e+00,  3.27392960e+00,\n",
       "       -1.42509995e+01,  3.27281952e+00,  3.20647430e+00, -1.72626495e+00,\n",
       "        3.27282333e+00,  2.04905701e+00, -8.35475159e+00, -1.72712517e+00,\n",
       "        7.11196136e+00, -5.97184181e+00, -7.95100021e+00, -1.72595406e+00,\n",
       "        8.79023170e+00, -1.29666634e+01, -1.71980858e+00,  7.38701439e+00,\n",
       "       -6.72607613e+00, -3.22044373e+00,  8.13646889e+00,  3.27373695e+00,\n",
       "        2.27134132e+00, -1.72607994e+00,  8.38178062e+00,  4.78782654e-01,\n",
       "        7.04609680e+00, -1.64472961e+00,  3.27389717e+00, -1.75545311e+00,\n",
       "       -1.05218468e+01, -2.95034790e+00, -1.56073952e+00, -5.23785019e+00,\n",
       "       -1.29523354e+01,  4.82532692e+00, -1.72623825e+00, -1.17271996e+01,\n",
       "        1.32735271e+01, -1.29538002e+01, -6.38226509e+00, -1.24533615e+01,\n",
       "       -8.72722626e-01, -1.94601059e+00, -1.72718620e+00, -2.90885162e+00,\n",
       "        3.64070320e+00,  7.05745697e+00,  3.27470779e+00,  7.79351807e+00,\n",
       "       -3.46860504e+00,  3.85189819e+00,  3.27855873e+00,  6.07184982e+00,\n",
       "        8.27327728e+00,  1.23497849e+01, -7.43430138e+00, -7.52534866e-01,\n",
       "       -9.82615280e+00,  7.18515968e+00,  3.27377892e+00, -7.27592850e+00,\n",
       "        2.57573700e+00, -1.15819244e+01, -1.16722908e+01, -7.95068741e+00,\n",
       "       -1.75771904e+00, -3.35055923e+00, -9.87846184e+00, -3.71957397e+00,\n",
       "       -1.85804253e+01,  1.79728127e+00, -4.46857452e-01, -1.72671509e+00,\n",
       "       -7.69005203e+00, -9.60697746e+00, -2.95106125e+00,  8.72650146e-01,\n",
       "       -5.28478813e+00,  2.73614311e+00,  2.06243134e+00, -7.92250443e+00,\n",
       "        2.82550297e+01,  1.32709045e+01, -2.74002647e+00, -1.71153069e+00,\n",
       "       -2.15885735e+00, -1.72631264e+00, -1.72635078e+00,  8.84360313e+00,\n",
       "        1.32738476e+01, -1.22818451e+01, -1.29510307e+01,  5.70238113e+00,\n",
       "        8.27312088e+00,  6.89574051e+00,  8.27394295e+00, -1.87797546e-02,\n",
       "       -1.72724342e+00, -1.27857513e+01,  8.27351379e+00, -4.06961823e+00,\n",
       "        3.27508545e+00,  3.08994293e+00, -1.72681618e+00, -6.81254387e+00,\n",
       "       -7.98640442e+00, -1.72718620e+00, -6.72658348e+00,  8.27386856e+00,\n",
       "        7.14806366e+00, -7.95289993e+00, -1.38088226e-01, -5.64286613e+00,\n",
       "        1.93652344e+00,  1.20098038e+01,  8.27503777e+00,  8.69421577e+00,\n",
       "        1.97939682e+00,  2.15381622e+00,  1.00324440e+00, -3.57106400e+00,\n",
       "        8.22959328e+00, -1.19209518e+01,  8.27484322e+00, -1.59048080e+00,\n",
       "       -1.72241783e+00, -2.52096176e+00, -2.32506561e+00,  8.27379799e+00,\n",
       "        3.75284767e+00, -7.13842010e+00, -6.02381325e+00, -2.76176834e+00,\n",
       "       -1.24435616e+00,  7.88642311e+00,  2.04660034e+00, -1.29514313e+01,\n",
       "       -1.20873070e+00, -6.72501183e+00,  3.27385712e+00, -1.28529606e+01,\n",
       "        4.12853241e+00, -7.95341873e+00, -7.95363998e+00, -2.04874039e+00,\n",
       "        7.05011749e+00, -1.72625923e+00,  1.32738476e+01, -1.72578239e+00,\n",
       "        3.27620506e+00, -6.72760963e+00,  1.20461693e+01,  1.32728100e+01,\n",
       "       -1.72629738e+00, -6.81126213e+00, -1.63526535e+00, -4.39374161e+00,\n",
       "        8.27281952e+00, -6.44054604e+00,  5.22268105e+00, -1.72612190e+00,\n",
       "        1.02066736e+01, -6.72604370e+00, -2.93483734e+00,  3.27379036e+00,\n",
       "       -5.95212555e+00, -6.72702599e+00,  3.27316856e+00, -2.47849274e+00,\n",
       "        8.67438126e+00, -2.95379257e+00, -1.71982574e+00,  3.78409538e+01,\n",
       "        1.32780094e+01,  8.27508354e+00,  2.72947311e-01, -2.57664871e+01,\n",
       "       -5.08518600e+00,  1.62338715e+01, -2.94846344e+00, -1.29552612e+01,\n",
       "        9.81501198e+00, -1.72568321e+00, -8.00064850e+00, -1.25865669e+01,\n",
       "       -1.17144566e+01, -1.17247849e+01,  1.23004799e+01, -7.93134689e+00,\n",
       "        2.05024338e+00, -1.67252922e+01, -2.40232468e-01, -1.29509010e+01,\n",
       "       -1.65820312e+01,  3.27442932e+00, -5.89884567e+00, -1.67262230e+01,\n",
       "        2.72800446e-01, -2.72546387e+00,  3.27383804e+00, -3.36257553e+00,\n",
       "        8.27668571e+00,  8.10957146e+00,  1.00604563e+01, -1.06369247e+01,\n",
       "        8.27285194e+00, -6.68648720e+00, -6.87757111e+00, -2.13857040e+01,\n",
       "        3.27334404e+00, -6.72562981e+00,  1.32750511e+01, -5.93067169e-01,\n",
       "        3.20460281e+01, -2.95378113e+00,  2.04621506e+00, -2.90022278e+00,\n",
       "       -1.72614479e+00,  2.28465996e+01, -6.09003067e+00, -9.77894592e+00,\n",
       "       -7.93857574e+00,  1.22644081e+01,  2.32738247e+01,  5.83347321e-01,\n",
       "       -7.72994995e-01,  3.27330399e+00, -1.72616196e+00, -2.78328896e+00,\n",
       "       -3.80857086e+00, -1.72605705e+00,  9.03987503e+00,  2.83853531e-01,\n",
       "        3.27458382e+00,  3.27561378e+00, -9.66323471e+00, -7.39122581e+00,\n",
       "       -6.72498131e+00, -4.45461273e-02, -2.95319748e+00, -2.09665413e+01,\n",
       "       -1.78472710e+00,  4.30262947e+00, -4.01092911e+00, -1.72720528e+00,\n",
       "        3.07542229e+00, -6.88428688e+00, -7.93678284e+00, -1.72618103e+00,\n",
       "       -6.68294334e+00, -4.69067192e+00, -1.72603035e+00,  6.54279709e+00,\n",
       "       -1.17261295e+01, -1.55728912e+00, -7.95250702e+00, -1.71617126e+00,\n",
       "        4.01055717e+00, -1.08279419e+01, -6.85178375e+00, -1.67046165e+00,\n",
       "       -1.73479271e+00,  4.40059662e+00, -2.80222130e+00, -5.21941376e+00,\n",
       "        3.32728310e+01,  8.31045151e+00, -1.66943932e+00,  8.27319908e+00,\n",
       "       -1.72617531e+00,  1.32738647e+01,  2.04653931e+00,  3.52741051e+00,\n",
       "        3.20251846e+01,  8.27369499e+00,  2.32750149e+01,  1.32733402e+01,\n",
       "       -7.11396408e+00,  2.81569862e+00,  2.27400780e+00, -2.94568634e+00,\n",
       "        8.11742783e+00, -6.49602318e+00,  1.06071472e+00, -7.18210220e+00,\n",
       "        2.04617310e+00,  3.27382088e+00, -5.03258896e+00, -3.28489113e+00,\n",
       "       -2.87876511e+00,  1.08952522e+01,  3.79095840e+00,  7.86094666e-02,\n",
       "       -1.72692108e+00, -1.79535217e+01, -5.95223999e+00, -2.95215988e+00,\n",
       "       -2.95168686e+00,  3.28693581e+00, -1.72623634e+00,  3.27385139e+00,\n",
       "        5.30951691e+00,  1.32738438e+01, -2.32537460e+00, -2.52824402e+00,\n",
       "        5.94112206e+00, -1.37311935e-01, -1.73485565e+00,  3.27511406e+00,\n",
       "        4.75514030e+00, -6.72719765e+00,  7.14049530e+00,  1.20486984e+01,\n",
       "        1.21981812e+00,  9.46262360e+00,  1.82667046e+01, -6.72620010e+00,\n",
       "        1.20130157e+01,  1.82751408e+01,  3.27287483e+00, -3.34302521e+00,\n",
       "       -2.95020676e+00, -2.88444138e+00, -7.41563416e+00,  3.94532013e+00,\n",
       "        8.29160881e+00,  2.04740524e+00,  4.70099449e+00,  3.63084412e+00,\n",
       "        5.63471413e+00, -6.52088165e-01, -8.00054932e+00,  3.16288567e+00,\n",
       "       -2.08399277e+01, -2.94461060e+00,  3.27396584e+00,  4.27234650e+00,\n",
       "       -6.72615623e+00,  2.75075912e-01, -5.29585838e+00, -5.58965302e+00,\n",
       "       -5.51330566e+00, -8.27300835e+00, -1.79490852e+01, -7.95386124e+00,\n",
       "       -3.55863571e+00, -1.72796440e+00, -7.93394852e+00,  1.47395334e+01,\n",
       "       -7.95268250e+00, -4.46628952e+00, -1.72608757e+00, -3.76415443e+00,\n",
       "       -3.59012222e+00, -5.99603081e+00, -2.96591187e+00, -3.71379852e+00,\n",
       "       -1.17244682e+01, -6.46621895e+00,  3.11775017e+00,  3.27866173e+00,\n",
       "        7.91498184e-01, -7.95159149e+00,  3.27392578e+00, -2.00300007e+01,\n",
       "        8.43998528e+00, -7.05319214e+00,  3.07029343e+00,  3.27497482e+00,\n",
       "       -2.95085526e+00,  3.70318985e+00,  2.69620895e+00, -1.72553825e+00,\n",
       "        2.70490837e+01, -3.18618393e+00, -2.35159492e+00, -1.31213951e+00,\n",
       "       -1.72688293e+00,  3.62305069e+00, -6.72752190e+00, -1.17261829e+01,\n",
       "        1.58934135e+01,  1.00251570e+01,  8.27434540e+00, -7.89894867e+00,\n",
       "        1.86261749e+00, -6.72591591e+00, -1.72430801e+00, -2.94982529e+00,\n",
       "       -6.63033295e+00, -2.16602516e+00,  2.04914093e+00, -1.72720909e+00,\n",
       "       -5.96857834e+00,  1.38906479e+00,  2.04748535e+00,  3.27890778e+00,\n",
       "       -6.72509003e+00,  1.32731113e+01, -4.96269226e+00, -8.69361877e-01,\n",
       "       -1.15502205e+01,  1.02663641e+01, -1.72472000e+00,  3.15719032e+00,\n",
       "       -6.03570938e+00, -2.95184708e+00,  3.27239418e+00,  1.82731819e+01,\n",
       "        3.25551605e+00, -6.72622681e+00, -7.23065567e+00, -1.63097572e+00,\n",
       "        3.25204277e+00, -1.17237301e+01, -1.72519302e+00, -1.93790054e+00,\n",
       "       -7.95093536e+00, -1.72615623e+00,  2.01938629e+00, -1.49766922e+01,\n",
       "       -6.72706032e+00,  3.27418900e+00, -1.47622871e+00,  1.32750511e+01,\n",
       "       -6.72399712e+00,  1.82737713e+01,  1.70449753e+01, -2.54660416e+00,\n",
       "       -1.72609901e+00,  5.22092819e-01,  8.13954163e+00,  4.52261543e+00,\n",
       "       -1.65758667e+01, -2.93757248e+00, -1.73429871e+00, -6.72607422e+00,\n",
       "        8.27354431e+00, -5.25531006e+00, -1.71264458e+00,  3.27383614e+00,\n",
       "       -9.58408737e+00, -2.94375229e+00,  1.02038422e+01,  8.27387047e+00,\n",
       "        8.19802666e+00, -1.72489548e+00,  8.04640961e+00,  1.72956657e+00,\n",
       "        1.02397623e+01,  1.00909557e+01,  2.77204514e+00, -5.61120415e+00,\n",
       "       -1.88909531e+00,  4.54671478e+00, -2.13126945e+01, -7.95362854e+00,\n",
       "        1.32958488e+01, -2.47907333e+01,  1.32749424e+01,  3.27278519e+00,\n",
       "       -2.35894012e+00, -7.95186234e+00,  3.39523506e+00, -1.29532928e+01,\n",
       "        1.52413549e+01,  1.32731171e+01, -2.95122910e+00, -2.73158264e+00,\n",
       "        2.27535248e-01, -1.72623444e+00, -6.72575760e+00,  7.04891968e+00,\n",
       "       -2.95136642e+00, -9.28625107e-01, -1.72593117e+00, -5.04758263e+00,\n",
       "        6.04689789e+00,  7.81291771e+00, -4.14745331e+00,  2.06278992e+00,\n",
       "       -1.17713203e+01, -1.72424316e+00, -2.95138931e+00, -7.95333099e+00,\n",
       "       -5.44670296e+00, -1.54104233e+00, -6.39077377e+00,  3.21025085e+00,\n",
       "        8.27230072e+00,  1.82751637e+01, -6.80549431e+00,  7.04027939e+00,\n",
       "        3.23307228e+00, -1.73138237e+00,  4.33638000e+00,  3.27500534e+00,\n",
       "        9.90856171e-01,  3.27387810e+00, -1.72540283e+00, -3.31642151e+00,\n",
       "        8.27281380e+00, -1.72594833e+00, -9.02221680e-01, -8.24475098e+00,\n",
       "        7.03432083e+00, -1.72945976e+00,  8.27582932e+00,  8.27429199e+00,\n",
       "       -5.08343601e+00, -1.23663712e+00,  8.29710197e+00,  4.27381134e+00,\n",
       "        3.27469444e+00, -6.72752762e+00, -4.56449318e+00, -6.74151421e+00,\n",
       "        3.27387428e+00, -1.11288261e+00,  2.11835480e+00,  2.82739086e+01,\n",
       "       -6.72500801e+00,  3.30306816e+00,  5.76652527e-01, -2.91233826e+00,\n",
       "       -1.75285721e+00,  3.27375221e+00, -1.72616959e+00, -7.95027542e+00,\n",
       "        6.10313416e-02, -1.23585777e+01, -1.72631073e+00,  3.27385712e+00,\n",
       "       -5.43731689e+00, -1.72078514e+00, -1.72350693e+00, -8.91486740e+00,\n",
       "       -1.72510338e+00, -3.04906082e+00, -6.72616959e+00,  6.93944550e+00,\n",
       "        3.27488518e+00, -4.66822433e+00,  8.27387428e+00, -2.00390854e+01,\n",
       "       -3.72591972e+00, -3.38847160e+00, -2.95372391e+00, -5.83511353e+00,\n",
       "       -1.89358292e+01, -1.72620964e+00, -1.26853600e+01, -1.16641998e+00,\n",
       "       -1.73100853e+00, -6.72603416e+00, -2.91319656e+00,  4.27384758e+00,\n",
       "        3.27517700e+00,  2.04656219e+00, -7.83224869e+00, -6.66223526e+00,\n",
       "       -2.93503189e+00,  2.28643036e+00,  1.12265396e+01, -5.95354843e+00,\n",
       "       -1.72540283e+00, -1.72665787e+00, -7.80242920e+00,  3.27492905e+00,\n",
       "        1.19261742e+01,  7.24018097e-01, -1.72663116e+00,  1.20526428e+01,\n",
       "        8.27400589e+00,  2.77383232e+00, -1.72619438e+00,  7.66750908e+00,\n",
       "       -6.29320145e-01, -8.32011032e+00, -1.72495461e+00, -1.72613907e+00,\n",
       "       -9.70964050e+00, -7.95368195e+00,  1.32738457e+01, -2.95293045e+00,\n",
       "       -2.69618607e+00,  3.75135231e+00, -1.73729897e+00, -7.95357895e+00,\n",
       "        8.27507973e+00, -1.72583008e+00,  1.14051781e+01,  1.27173996e+00,\n",
       "        2.73977280e-01,  3.04723015e+01,  3.22666168e-01, -2.94726562e+00,\n",
       "        4.20921135e+00,  7.20337296e+00, -1.73413658e+00, -1.20170250e+01,\n",
       "       -2.95217896e+00, -3.15532303e+00,  3.27313614e+00, -5.22927094e+00,\n",
       "        4.14990234e+00,  1.82727947e+01, -1.26586075e+01, -5.52308083e+00,\n",
       "       -1.78735008e+01,  8.23647118e+00,  2.04848862e+00,  8.20598221e+00,\n",
       "       -1.72597313e+00,  3.26860809e+00,  3.69739342e+00,  3.52603912e+00,\n",
       "        1.81060886e+01,  4.59353828e+00, -1.60023499e+00, -1.46979980e+01,\n",
       "        4.45826721e+00, -1.72719765e+00, -7.81725693e+00,  3.39333534e+00,\n",
       "        3.27382278e+00,  3.27360725e+00,  6.72992706e+00, -7.83394241e+00,\n",
       "       -1.34424782e+00, -3.96707344e+00, -5.88239288e+00,  2.04630661e+00,\n",
       "        8.27380562e+00,  3.21393204e+00,  7.11495590e+00, -1.43437195e+00,\n",
       "       -1.72706223e+00,  3.48160934e+00, -2.94117355e+00, -2.95321274e+00,\n",
       "       -1.75168419e+00, -6.99812889e+00,  7.04737854e+00,  3.64505577e+00,\n",
       "       -6.45224190e+00, -5.30532074e+00, -6.51201057e+00,  4.25690937e+00,\n",
       "        3.81461716e+00, -1.55379105e+00, -6.06885910e-01, -1.59056473e+00,\n",
       "       -7.95428467e+00, -1.73094749e+00,  3.27279091e+00,  3.48914146e+00,\n",
       "       -7.95203781e+00, -6.67591667e+00,  1.66435623e+00, -1.72614861e+00,\n",
       "       -2.50735664e+00, -2.84659576e+00,  2.27348900e+00, -4.30254364e+00,\n",
       "       -4.81233215e+00, -1.39827728e-01, -4.44072723e-01, -7.95145798e+00,\n",
       "       -6.72675514e+00, -1.72508812e+00,  3.66047287e+00,  3.27381325e+00,\n",
       "        1.20484810e+01,  8.31595993e+00, -3.75692749e+00, -3.92904282e-01,\n",
       "       -1.15449677e+01, -1.72601509e+00, -2.43093109e+00, -7.95113754e+00,\n",
       "        3.76113892e-01, -1.36296654e+00, -2.13480186e+01, -3.72589493e+00,\n",
       "       -1.72719955e+00,  3.10390472e+00,  8.29353523e+00, -1.22685471e+01,\n",
       "        4.34266472e+00, -2.95271301e+00,  2.99823952e+00,  3.28067932e+01,\n",
       "       -7.95336151e+00, -1.11768131e+01, -2.82318878e+00, -1.29520416e+01,\n",
       "        1.82736664e+01, -6.72605705e+00, -1.46709442e+00,  3.27282143e+00,\n",
       "        3.39654922e-01,  3.26893616e+00, -6.71420670e+00,  7.10233307e+00,\n",
       "       -1.72629166e+00, -2.12017670e+01,  1.06398468e+01,  1.32740555e+01,\n",
       "       -1.72613525e+00, -1.72484016e+00, -7.20458603e+00, -2.21888542e+00,\n",
       "        4.77207756e+00, -1.72607803e+00, -2.98900414e+00, -1.72525597e+00,\n",
       "        8.27334023e+00, -2.29536972e+01,  1.06250992e+01,  3.27501106e+00,\n",
       "       -3.00838089e+00, -1.68010139e+00,  2.29947472e+01,  2.04582596e+00,\n",
       "        3.27279091e+00,  8.27426338e+00,  2.04637909e+00, -3.79895782e+00,\n",
       "        2.04865265e+00, -1.88018036e+00, -6.72718620e+00, -6.72366142e+00,\n",
       "       -3.74563026e+00,  2.04841232e+00,  3.27280998e+00,  3.27406311e+00,\n",
       "       -1.29438972e+01,  8.27403831e+00, -5.94578934e+00, -1.72597694e+00,\n",
       "       -6.21716309e+00, -6.09291077e-01,  3.27386093e+00,  8.27300262e+00,\n",
       "        7.36460114e+00,  9.85145378e+00, -1.29506149e+01,  1.18663521e+01,\n",
       "       -8.01836777e+00,  3.27465630e+00, -1.72602272e+00,  3.60472107e+00,\n",
       "        3.27380753e+00,  1.32761631e+01,  3.67606354e+00,  3.27554512e+00,\n",
       "        2.17131805e+00,  7.79429626e+00,  2.04969788e+00,  3.27334785e+00,\n",
       "       -1.17257519e+01,  2.32738228e+01,  2.04850769e+00,  3.36659050e+00,\n",
       "       -1.24031067e-01, -1.72614670e+00, -5.39497185e+00, -1.72719002e+00,\n",
       "       -1.72620964e+00,  2.43585968e+00, -7.95052719e+00, -7.96118164e+00,\n",
       "       -6.61567116e+00,  2.27770042e+00, -4.64969921e+00, -1.76690826e+01,\n",
       "       -1.72712708e+00, -3.11056328e+01, -1.72837448e+00, -4.06624603e+00,\n",
       "        2.27383041e+00,  1.99177170e+00, -1.79284096e+00,  3.27467155e+00,\n",
       "        3.27292442e+00, -3.04719543e+00, -2.94876480e+00,  1.85581207e+00,\n",
       "        7.76059723e+00,  1.44002686e+01, -7.47699738e-01,  2.71627808e+00,\n",
       "       -7.95378494e+00, -1.72418404e+00, -4.23660851e+00, -7.95698166e+00,\n",
       "       -1.67154312e+00, -4.74897766e+00, -1.72719955e+00,  8.22985077e+00,\n",
       "       -6.28909302e+00, -3.49748993e+00,  8.27397728e+00, -7.95034790e+00,\n",
       "        1.32745152e+01, -1.63071632e+01, -1.64118729e+01,  3.27387810e+00,\n",
       "        6.02173996e+00,  8.27394676e+00,  3.27173233e+00, -7.95132446e+00,\n",
       "        3.81774712e+00, -7.85224915e+00, -1.72509956e+00,  3.15668106e+00,\n",
       "       -1.69411850e+00,  1.70472946e+01, -1.96190796e+01, -1.71942520e+00,\n",
       "       -1.13329506e+00, -1.72864723e+00, -1.29503899e+01,  3.27384758e+00,\n",
       "       -2.95125580e+00,  3.27544022e+00, -2.95059204e+00, -1.29816399e+01,\n",
       "       -7.69121933e+00, -1.23601341e+00,  1.61072159e+00, -6.72927475e+00,\n",
       "        8.27405930e+00,  4.60065079e+00, -1.29537582e+01,  1.32727909e+01])"
      ]
     },
     "execution_count": 24,
     "metadata": {},
     "output_type": "execute_result"
    }
   ],
   "source": [
    "test_labels - test_predictions"
   ]
  }
 ],
 "metadata": {
  "kernelspec": {
   "display_name": "Python 3",
   "language": "python",
   "name": "python3"
  },
  "language_info": {
   "codemirror_mode": {
    "name": "ipython",
    "version": 3
   },
   "file_extension": ".py",
   "mimetype": "text/x-python",
   "name": "python",
   "nbconvert_exporter": "python",
   "pygments_lexer": "ipython3",
   "version": "3.5.2"
  }
 },
 "nbformat": 4,
 "nbformat_minor": 2
}
