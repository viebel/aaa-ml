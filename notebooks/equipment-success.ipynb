{
 "cells": [
  {
   "cell_type": "code",
   "execution_count": 1,
   "metadata": {},
   "outputs": [],
   "source": [
    "from __future__ import print_function\n",
    "import math\n",
    "\n",
    "from IPython import display\n",
    "from matplotlib import cm\n",
    "from matplotlib import gridspec\n",
    "from matplotlib import pyplot as plt\n",
    "from mpl_toolkits.mplot3d import Axes3D \n",
    "import numpy as np\n",
    "import pandas as pd\n",
    "from sklearn import metrics\n",
    "import tensorflow as tf\n",
    "\n",
    "from tensorflow.python.data import Dataset\n",
    "\n",
    "tf.logging.set_verbosity(tf.logging.ERROR)\n",
    "pd.options.display.max_rows = 10\n",
    "pd.options.display.float_format = '{:.1f}'.format\n"
   ]
  },
  {
   "cell_type": "code",
   "execution_count": 2,
   "metadata": {},
   "outputs": [
    {
     "name": "stdout",
     "output_type": "stream",
     "text": [
      "aa.ipynb\t\t equipment_success.csv\t       mlcc-exercises_en.zip\r\n",
      "demo.ipynb\t\t equipment_success_unique.csv\r\n",
      "equipment-success.ipynb  mlcc-exercises\r\n"
     ]
    }
   ],
   "source": [
    "! ls"
   ]
  },
  {
   "cell_type": "code",
   "execution_count": 112,
   "metadata": {},
   "outputs": [
    {
     "data": {
      "text/html": [
       "<div>\n",
       "<style scoped>\n",
       "    .dataframe tbody tr th:only-of-type {\n",
       "        vertical-align: middle;\n",
       "    }\n",
       "\n",
       "    .dataframe tbody tr th {\n",
       "        vertical-align: top;\n",
       "    }\n",
       "\n",
       "    .dataframe thead th {\n",
       "        text-align: right;\n",
       "    }\n",
       "</style>\n",
       "<table border=\"1\" class=\"dataframe\">\n",
       "  <thead>\n",
       "    <tr style=\"text-align: right;\">\n",
       "      <th></th>\n",
       "      <th>patient_id</th>\n",
       "      <th>center_id</th>\n",
       "      <th>months_since_equipped</th>\n",
       "      <th>average_loss</th>\n",
       "      <th>high_loss</th>\n",
       "      <th>low_loss</th>\n",
       "      <th>eq_average_loss</th>\n",
       "      <th>eq_high_loss</th>\n",
       "      <th>eq_low_loss</th>\n",
       "      <th>id</th>\n",
       "      <th>age_in_months_at_equipped_start</th>\n",
       "      <th>rk</th>\n",
       "    </tr>\n",
       "  </thead>\n",
       "  <tbody>\n",
       "    <tr>\n",
       "      <th>count</th>\n",
       "      <td>86176.0</td>\n",
       "      <td>86176.0</td>\n",
       "      <td>86176.0</td>\n",
       "      <td>68510.0</td>\n",
       "      <td>86176.0</td>\n",
       "      <td>86176.0</td>\n",
       "      <td>72789.0</td>\n",
       "      <td>86176.0</td>\n",
       "      <td>86176.0</td>\n",
       "      <td>86176.0</td>\n",
       "      <td>71126.0</td>\n",
       "      <td>86176.0</td>\n",
       "    </tr>\n",
       "    <tr>\n",
       "      <th>mean</th>\n",
       "      <td>183134.4</td>\n",
       "      <td>464.7</td>\n",
       "      <td>24.0</td>\n",
       "      <td>56.7</td>\n",
       "      <td>53.5</td>\n",
       "      <td>39.8</td>\n",
       "      <td>34.6</td>\n",
       "      <td>36.9</td>\n",
       "      <td>30.1</td>\n",
       "      <td>650853.6</td>\n",
       "      <td>838.0</td>\n",
       "      <td>1.0</td>\n",
       "    </tr>\n",
       "    <tr>\n",
       "      <th>std</th>\n",
       "      <td>61256.1</td>\n",
       "      <td>408.9</td>\n",
       "      <td>30.4</td>\n",
       "      <td>21.0</td>\n",
       "      <td>29.6</td>\n",
       "      <td>28.1</td>\n",
       "      <td>9.5</td>\n",
       "      <td>10.5</td>\n",
       "      <td>11.0</td>\n",
       "      <td>77045.4</td>\n",
       "      <td>219.8</td>\n",
       "      <td>0.0</td>\n",
       "    </tr>\n",
       "    <tr>\n",
       "      <th>min</th>\n",
       "      <td>51.0</td>\n",
       "      <td>2.0</td>\n",
       "      <td>0.0</td>\n",
       "      <td>-10.0</td>\n",
       "      <td>-9.2</td>\n",
       "      <td>-10.0</td>\n",
       "      <td>-1.2</td>\n",
       "      <td>-10.0</td>\n",
       "      <td>-10.0</td>\n",
       "      <td>525947.0</td>\n",
       "      <td>0.0</td>\n",
       "      <td>1.0</td>\n",
       "    </tr>\n",
       "    <tr>\n",
       "      <th>25%</th>\n",
       "      <td>145368.5</td>\n",
       "      <td>96.0</td>\n",
       "      <td>1.0</td>\n",
       "      <td>42.5</td>\n",
       "      <td>41.4</td>\n",
       "      <td>22.5</td>\n",
       "      <td>28.8</td>\n",
       "      <td>30.0</td>\n",
       "      <td>23.3</td>\n",
       "      <td>586604.0</td>\n",
       "      <td>766.0</td>\n",
       "      <td>1.0</td>\n",
       "    </tr>\n",
       "    <tr>\n",
       "      <th>50%</th>\n",
       "      <td>185960.0</td>\n",
       "      <td>312.0</td>\n",
       "      <td>12.0</td>\n",
       "      <td>52.5</td>\n",
       "      <td>56.0</td>\n",
       "      <td>36.7</td>\n",
       "      <td>33.8</td>\n",
       "      <td>35.8</td>\n",
       "      <td>30.0</td>\n",
       "      <td>636870.0</td>\n",
       "      <td>882.0</td>\n",
       "      <td>1.0</td>\n",
       "    </tr>\n",
       "    <tr>\n",
       "      <th>75%</th>\n",
       "      <td>228606.0</td>\n",
       "      <td>852.0</td>\n",
       "      <td>37.0</td>\n",
       "      <td>65.0</td>\n",
       "      <td>70.0</td>\n",
       "      <td>53.8</td>\n",
       "      <td>38.8</td>\n",
       "      <td>41.7</td>\n",
       "      <td>35.0</td>\n",
       "      <td>728280.2</td>\n",
       "      <td>974.0</td>\n",
       "      <td>1.0</td>\n",
       "    </tr>\n",
       "    <tr>\n",
       "      <th>max</th>\n",
       "      <td>288723.0</td>\n",
       "      <td>1390.0</td>\n",
       "      <td>215.0</td>\n",
       "      <td>125.0</td>\n",
       "      <td>125.0</td>\n",
       "      <td>125.0</td>\n",
       "      <td>120.0</td>\n",
       "      <td>120.0</td>\n",
       "      <td>117.5</td>\n",
       "      <td>778886.0</td>\n",
       "      <td>1559.0</td>\n",
       "      <td>1.0</td>\n",
       "    </tr>\n",
       "  </tbody>\n",
       "</table>\n",
       "</div>"
      ],
      "text/plain": [
       "       patient_id  center_id  months_since_equipped  average_loss  high_loss  \\\n",
       "count     86176.0    86176.0                86176.0       68510.0    86176.0   \n",
       "mean     183134.4      464.7                   24.0          56.7       53.5   \n",
       "std       61256.1      408.9                   30.4          21.0       29.6   \n",
       "min          51.0        2.0                    0.0         -10.0       -9.2   \n",
       "25%      145368.5       96.0                    1.0          42.5       41.4   \n",
       "50%      185960.0      312.0                   12.0          52.5       56.0   \n",
       "75%      228606.0      852.0                   37.0          65.0       70.0   \n",
       "max      288723.0     1390.0                  215.0         125.0      125.0   \n",
       "\n",
       "       low_loss  eq_average_loss  eq_high_loss  eq_low_loss       id  \\\n",
       "count   86176.0          72789.0       86176.0      86176.0  86176.0   \n",
       "mean       39.8             34.6          36.9         30.1 650853.6   \n",
       "std        28.1              9.5          10.5         11.0  77045.4   \n",
       "min       -10.0             -1.2         -10.0        -10.0 525947.0   \n",
       "25%        22.5             28.8          30.0         23.3 586604.0   \n",
       "50%        36.7             33.8          35.8         30.0 636870.0   \n",
       "75%        53.8             38.8          41.7         35.0 728280.2   \n",
       "max       125.0            120.0         120.0        117.5 778886.0   \n",
       "\n",
       "       age_in_months_at_equipped_start      rk  \n",
       "count                          71126.0 86176.0  \n",
       "mean                             838.0     1.0  \n",
       "std                              219.8     0.0  \n",
       "min                                0.0     1.0  \n",
       "25%                              766.0     1.0  \n",
       "50%                              882.0     1.0  \n",
       "75%                              974.0     1.0  \n",
       "max                             1559.0     1.0  "
      ]
     },
     "execution_count": 112,
     "metadata": {},
     "output_type": "execute_result"
    }
   ],
   "source": [
    "equipment_success_dataframe = pd.read_csv(\"./equipment_success_unique.csv\", sep=\",\")\n",
    "equipment_success_dataframe.describe()"
   ]
  },
  {
   "cell_type": "code",
   "execution_count": 271,
   "metadata": {},
   "outputs": [
    {
     "data": {
      "text/html": [
       "<div>\n",
       "<style scoped>\n",
       "    .dataframe tbody tr th:only-of-type {\n",
       "        vertical-align: middle;\n",
       "    }\n",
       "\n",
       "    .dataframe tbody tr th {\n",
       "        vertical-align: top;\n",
       "    }\n",
       "\n",
       "    .dataframe thead th {\n",
       "        text-align: right;\n",
       "    }\n",
       "</style>\n",
       "<table border=\"1\" class=\"dataframe\">\n",
       "  <thead>\n",
       "    <tr style=\"text-align: right;\">\n",
       "      <th></th>\n",
       "      <th>patient_id</th>\n",
       "      <th>center_id</th>\n",
       "      <th>ears</th>\n",
       "      <th>months_since_equipped</th>\n",
       "      <th>average_loss</th>\n",
       "      <th>high_loss</th>\n",
       "      <th>low_loss</th>\n",
       "      <th>eq_average_loss</th>\n",
       "      <th>eq_high_loss</th>\n",
       "      <th>eq_low_loss</th>\n",
       "      <th>id</th>\n",
       "      <th>age_in_months_at_equipped_start</th>\n",
       "      <th>gender</th>\n",
       "      <th>rk</th>\n",
       "      <th>valid</th>\n",
       "    </tr>\n",
       "  </thead>\n",
       "  <tbody>\n",
       "    <tr>\n",
       "      <th>0</th>\n",
       "      <td>51</td>\n",
       "      <td>14</td>\n",
       "      <td>L</td>\n",
       "      <td>0</td>\n",
       "      <td>nan</td>\n",
       "      <td>70.0</td>\n",
       "      <td>70.0</td>\n",
       "      <td>nan</td>\n",
       "      <td>85.0</td>\n",
       "      <td>85.0</td>\n",
       "      <td>756862</td>\n",
       "      <td>1069.0</td>\n",
       "      <td>NaN</td>\n",
       "      <td>1</td>\n",
       "      <td>False</td>\n",
       "    </tr>\n",
       "    <tr>\n",
       "      <th>1</th>\n",
       "      <td>51</td>\n",
       "      <td>14</td>\n",
       "      <td>R</td>\n",
       "      <td>0</td>\n",
       "      <td>nan</td>\n",
       "      <td>55.0</td>\n",
       "      <td>55.0</td>\n",
       "      <td>nan</td>\n",
       "      <td>0.0</td>\n",
       "      <td>70.0</td>\n",
       "      <td>756858</td>\n",
       "      <td>1069.0</td>\n",
       "      <td>NaN</td>\n",
       "      <td>1</td>\n",
       "      <td>False</td>\n",
       "    </tr>\n",
       "    <tr>\n",
       "      <th>2</th>\n",
       "      <td>58</td>\n",
       "      <td>199</td>\n",
       "      <td>L</td>\n",
       "      <td>24</td>\n",
       "      <td>32.5</td>\n",
       "      <td>42.5</td>\n",
       "      <td>13.3</td>\n",
       "      <td>31.2</td>\n",
       "      <td>39.2</td>\n",
       "      <td>16.2</td>\n",
       "      <td>565723</td>\n",
       "      <td>1229.0</td>\n",
       "      <td>male</td>\n",
       "      <td>1</td>\n",
       "      <td>False</td>\n",
       "    </tr>\n",
       "    <tr>\n",
       "      <th>3</th>\n",
       "      <td>58</td>\n",
       "      <td>199</td>\n",
       "      <td>R</td>\n",
       "      <td>26</td>\n",
       "      <td>nan</td>\n",
       "      <td>45.0</td>\n",
       "      <td>45.0</td>\n",
       "      <td>41.2</td>\n",
       "      <td>43.0</td>\n",
       "      <td>37.5</td>\n",
       "      <td>565730</td>\n",
       "      <td>1229.0</td>\n",
       "      <td>male</td>\n",
       "      <td>1</td>\n",
       "      <td>False</td>\n",
       "    </tr>\n",
       "    <tr>\n",
       "      <th>4</th>\n",
       "      <td>496</td>\n",
       "      <td>27</td>\n",
       "      <td>L</td>\n",
       "      <td>46</td>\n",
       "      <td>61.2</td>\n",
       "      <td>70.0</td>\n",
       "      <td>51.7</td>\n",
       "      <td>36.2</td>\n",
       "      <td>38.8</td>\n",
       "      <td>33.3</td>\n",
       "      <td>594098</td>\n",
       "      <td>929.0</td>\n",
       "      <td>NaN</td>\n",
       "      <td>1</td>\n",
       "      <td>True</td>\n",
       "    </tr>\n",
       "    <tr>\n",
       "      <th>...</th>\n",
       "      <td>...</td>\n",
       "      <td>...</td>\n",
       "      <td>...</td>\n",
       "      <td>...</td>\n",
       "      <td>...</td>\n",
       "      <td>...</td>\n",
       "      <td>...</td>\n",
       "      <td>...</td>\n",
       "      <td>...</td>\n",
       "      <td>...</td>\n",
       "      <td>...</td>\n",
       "      <td>...</td>\n",
       "      <td>...</td>\n",
       "      <td>...</td>\n",
       "      <td>...</td>\n",
       "    </tr>\n",
       "    <tr>\n",
       "      <th>86171</th>\n",
       "      <td>288699</td>\n",
       "      <td>466</td>\n",
       "      <td>BIN</td>\n",
       "      <td>52</td>\n",
       "      <td>nan</td>\n",
       "      <td>0.0</td>\n",
       "      <td>0.0</td>\n",
       "      <td>31.2</td>\n",
       "      <td>31.0</td>\n",
       "      <td>31.2</td>\n",
       "      <td>617887</td>\n",
       "      <td>965.0</td>\n",
       "      <td>female</td>\n",
       "      <td>1</td>\n",
       "      <td>False</td>\n",
       "    </tr>\n",
       "    <tr>\n",
       "      <th>86172</th>\n",
       "      <td>288711</td>\n",
       "      <td>883</td>\n",
       "      <td>BIN</td>\n",
       "      <td>0</td>\n",
       "      <td>41.2</td>\n",
       "      <td>40.0</td>\n",
       "      <td>36.2</td>\n",
       "      <td>26.2</td>\n",
       "      <td>26.0</td>\n",
       "      <td>21.2</td>\n",
       "      <td>639979</td>\n",
       "      <td>883.0</td>\n",
       "      <td>male</td>\n",
       "      <td>1</td>\n",
       "      <td>False</td>\n",
       "    </tr>\n",
       "    <tr>\n",
       "      <th>86173</th>\n",
       "      <td>288715</td>\n",
       "      <td>773</td>\n",
       "      <td>BIN</td>\n",
       "      <td>0</td>\n",
       "      <td>nan</td>\n",
       "      <td>0.0</td>\n",
       "      <td>0.0</td>\n",
       "      <td>33.8</td>\n",
       "      <td>38.6</td>\n",
       "      <td>30.0</td>\n",
       "      <td>574112</td>\n",
       "      <td>1097.0</td>\n",
       "      <td>male</td>\n",
       "      <td>1</td>\n",
       "      <td>False</td>\n",
       "    </tr>\n",
       "    <tr>\n",
       "      <th>86174</th>\n",
       "      <td>288718</td>\n",
       "      <td>1333</td>\n",
       "      <td>BIN</td>\n",
       "      <td>65</td>\n",
       "      <td>nan</td>\n",
       "      <td>0.0</td>\n",
       "      <td>0.0</td>\n",
       "      <td>37.5</td>\n",
       "      <td>41.0</td>\n",
       "      <td>30.0</td>\n",
       "      <td>743785</td>\n",
       "      <td>611.0</td>\n",
       "      <td>NaN</td>\n",
       "      <td>1</td>\n",
       "      <td>False</td>\n",
       "    </tr>\n",
       "    <tr>\n",
       "      <th>86175</th>\n",
       "      <td>288723</td>\n",
       "      <td>1360</td>\n",
       "      <td>L</td>\n",
       "      <td>0</td>\n",
       "      <td>92.5</td>\n",
       "      <td>92.1</td>\n",
       "      <td>88.8</td>\n",
       "      <td>102.5</td>\n",
       "      <td>100.8</td>\n",
       "      <td>102.5</td>\n",
       "      <td>745526</td>\n",
       "      <td>nan</td>\n",
       "      <td>female</td>\n",
       "      <td>1</td>\n",
       "      <td>False</td>\n",
       "    </tr>\n",
       "  </tbody>\n",
       "</table>\n",
       "<p>86176 rows × 15 columns</p>\n",
       "</div>"
      ],
      "text/plain": [
       "       patient_id  center_id ears  months_since_equipped  average_loss  \\\n",
       "0              51         14    L                      0           nan   \n",
       "1              51         14    R                      0           nan   \n",
       "2              58        199    L                     24          32.5   \n",
       "3              58        199    R                     26           nan   \n",
       "4             496         27    L                     46          61.2   \n",
       "...           ...        ...  ...                    ...           ...   \n",
       "86171      288699        466  BIN                     52           nan   \n",
       "86172      288711        883  BIN                      0          41.2   \n",
       "86173      288715        773  BIN                      0           nan   \n",
       "86174      288718       1333  BIN                     65           nan   \n",
       "86175      288723       1360    L                      0          92.5   \n",
       "\n",
       "       high_loss  low_loss  eq_average_loss  eq_high_loss  eq_low_loss  \\\n",
       "0           70.0      70.0              nan          85.0         85.0   \n",
       "1           55.0      55.0              nan           0.0         70.0   \n",
       "2           42.5      13.3             31.2          39.2         16.2   \n",
       "3           45.0      45.0             41.2          43.0         37.5   \n",
       "4           70.0      51.7             36.2          38.8         33.3   \n",
       "...          ...       ...              ...           ...          ...   \n",
       "86171        0.0       0.0             31.2          31.0         31.2   \n",
       "86172       40.0      36.2             26.2          26.0         21.2   \n",
       "86173        0.0       0.0             33.8          38.6         30.0   \n",
       "86174        0.0       0.0             37.5          41.0         30.0   \n",
       "86175       92.1      88.8            102.5         100.8        102.5   \n",
       "\n",
       "           id  age_in_months_at_equipped_start  gender  rk  valid  \n",
       "0      756862                           1069.0     NaN   1  False  \n",
       "1      756858                           1069.0     NaN   1  False  \n",
       "2      565723                           1229.0    male   1  False  \n",
       "3      565730                           1229.0    male   1  False  \n",
       "4      594098                            929.0     NaN   1   True  \n",
       "...       ...                              ...     ...  ..    ...  \n",
       "86171  617887                            965.0  female   1  False  \n",
       "86172  639979                            883.0    male   1  False  \n",
       "86173  574112                           1097.0    male   1  False  \n",
       "86174  743785                            611.0     NaN   1  False  \n",
       "86175  745526                              nan  female   1  False  \n",
       "\n",
       "[86176 rows x 15 columns]"
      ]
     },
     "execution_count": 271,
     "metadata": {},
     "output_type": "execute_result"
    }
   ],
   "source": [
    "equipment_success_dataframe"
   ]
  },
  {
   "cell_type": "code",
   "execution_count": 313,
   "metadata": {},
   "outputs": [],
   "source": [
    "equipment_success_dataframe['distance_from_target'] = (-equipment_success_dataframe['eq_average_loss'] + equipment_success_dataframe['average_loss'])/equipment_success_dataframe['average_loss']\n"
   ]
  },
  {
   "cell_type": "code",
   "execution_count": 314,
   "metadata": {},
   "outputs": [],
   "source": [
    "equipment_success_dataframe['valid'] = (equipment_success_dataframe['average_loss'].apply(lambda x : not math.isnan(x) and x > 20 and x < 90) & \n",
    "                                       equipment_success_dataframe['eq_average_loss'].apply(lambda x : not math.isnan(x)) &\n",
    "                                       equipment_success_dataframe['high_loss'].apply(lambda x : not math.isnan(x)) &\n",
    "                                       equipment_success_dataframe['low_loss'].apply(lambda x : not math.isnan(x)) &\n",
    "                                       equipment_success_dataframe['months_since_equipped'].apply(lambda x : x > 12) &\n",
    "                                       equipment_success_dataframe['age_in_months_at_equipped_start'].apply(lambda x : not math.isnan(x) and x < 12*90 and x > 12*20))"
   ]
  },
  {
   "cell_type": "code",
   "execution_count": 315,
   "metadata": {
    "scrolled": true
   },
   "outputs": [
    {
     "data": {
      "text/html": [
       "<div>\n",
       "<style scoped>\n",
       "    .dataframe tbody tr th:only-of-type {\n",
       "        vertical-align: middle;\n",
       "    }\n",
       "\n",
       "    .dataframe tbody tr th {\n",
       "        vertical-align: top;\n",
       "    }\n",
       "\n",
       "    .dataframe thead th {\n",
       "        text-align: right;\n",
       "    }\n",
       "</style>\n",
       "<table border=\"1\" class=\"dataframe\">\n",
       "  <thead>\n",
       "    <tr style=\"text-align: right;\">\n",
       "      <th></th>\n",
       "      <th>patient_id</th>\n",
       "      <th>center_id</th>\n",
       "      <th>ears</th>\n",
       "      <th>months_since_equipped</th>\n",
       "      <th>average_loss</th>\n",
       "      <th>high_loss</th>\n",
       "      <th>low_loss</th>\n",
       "      <th>eq_average_loss</th>\n",
       "      <th>eq_high_loss</th>\n",
       "      <th>eq_low_loss</th>\n",
       "      <th>id</th>\n",
       "      <th>age_in_months_at_equipped_start</th>\n",
       "      <th>gender</th>\n",
       "      <th>rk</th>\n",
       "      <th>valid</th>\n",
       "      <th>distance_from_target</th>\n",
       "    </tr>\n",
       "  </thead>\n",
       "  <tbody>\n",
       "    <tr>\n",
       "      <th>4</th>\n",
       "      <td>496</td>\n",
       "      <td>27</td>\n",
       "      <td>L</td>\n",
       "      <td>46</td>\n",
       "      <td>61.2</td>\n",
       "      <td>70.0</td>\n",
       "      <td>51.7</td>\n",
       "      <td>36.2</td>\n",
       "      <td>38.8</td>\n",
       "      <td>33.3</td>\n",
       "      <td>594098</td>\n",
       "      <td>929.0</td>\n",
       "      <td>NaN</td>\n",
       "      <td>1</td>\n",
       "      <td>True</td>\n",
       "      <td>0.4</td>\n",
       "    </tr>\n",
       "    <tr>\n",
       "      <th>5</th>\n",
       "      <td>496</td>\n",
       "      <td>27</td>\n",
       "      <td>R</td>\n",
       "      <td>21</td>\n",
       "      <td>55.0</td>\n",
       "      <td>68.0</td>\n",
       "      <td>43.3</td>\n",
       "      <td>38.8</td>\n",
       "      <td>33.3</td>\n",
       "      <td>46.7</td>\n",
       "      <td>593790</td>\n",
       "      <td>954.0</td>\n",
       "      <td>NaN</td>\n",
       "      <td>1</td>\n",
       "      <td>True</td>\n",
       "      <td>0.3</td>\n",
       "    </tr>\n",
       "    <tr>\n",
       "      <th>10</th>\n",
       "      <td>642</td>\n",
       "      <td>27</td>\n",
       "      <td>L</td>\n",
       "      <td>67</td>\n",
       "      <td>47.5</td>\n",
       "      <td>57.5</td>\n",
       "      <td>31.7</td>\n",
       "      <td>28.8</td>\n",
       "      <td>31.7</td>\n",
       "      <td>21.7</td>\n",
       "      <td>594210</td>\n",
       "      <td>788.0</td>\n",
       "      <td>NaN</td>\n",
       "      <td>1</td>\n",
       "      <td>True</td>\n",
       "      <td>0.4</td>\n",
       "    </tr>\n",
       "    <tr>\n",
       "      <th>11</th>\n",
       "      <td>642</td>\n",
       "      <td>27</td>\n",
       "      <td>R</td>\n",
       "      <td>67</td>\n",
       "      <td>48.8</td>\n",
       "      <td>58.8</td>\n",
       "      <td>35.0</td>\n",
       "      <td>28.8</td>\n",
       "      <td>30.0</td>\n",
       "      <td>26.7</td>\n",
       "      <td>593708</td>\n",
       "      <td>788.0</td>\n",
       "      <td>NaN</td>\n",
       "      <td>1</td>\n",
       "      <td>True</td>\n",
       "      <td>0.4</td>\n",
       "    </tr>\n",
       "    <tr>\n",
       "      <th>12</th>\n",
       "      <td>660</td>\n",
       "      <td>36</td>\n",
       "      <td>R</td>\n",
       "      <td>41</td>\n",
       "      <td>51.2</td>\n",
       "      <td>61.0</td>\n",
       "      <td>28.8</td>\n",
       "      <td>37.5</td>\n",
       "      <td>43.0</td>\n",
       "      <td>25.0</td>\n",
       "      <td>754597</td>\n",
       "      <td>892.0</td>\n",
       "      <td>NaN</td>\n",
       "      <td>1</td>\n",
       "      <td>True</td>\n",
       "      <td>0.3</td>\n",
       "    </tr>\n",
       "    <tr>\n",
       "      <th>...</th>\n",
       "      <td>...</td>\n",
       "      <td>...</td>\n",
       "      <td>...</td>\n",
       "      <td>...</td>\n",
       "      <td>...</td>\n",
       "      <td>...</td>\n",
       "      <td>...</td>\n",
       "      <td>...</td>\n",
       "      <td>...</td>\n",
       "      <td>...</td>\n",
       "      <td>...</td>\n",
       "      <td>...</td>\n",
       "      <td>...</td>\n",
       "      <td>...</td>\n",
       "      <td>...</td>\n",
       "      <td>...</td>\n",
       "    </tr>\n",
       "    <tr>\n",
       "      <th>86137</th>\n",
       "      <td>288394</td>\n",
       "      <td>1262</td>\n",
       "      <td>BIN</td>\n",
       "      <td>28</td>\n",
       "      <td>30.0</td>\n",
       "      <td>35.7</td>\n",
       "      <td>20.0</td>\n",
       "      <td>20.0</td>\n",
       "      <td>21.0</td>\n",
       "      <td>16.2</td>\n",
       "      <td>673116</td>\n",
       "      <td>678.0</td>\n",
       "      <td>NaN</td>\n",
       "      <td>1</td>\n",
       "      <td>True</td>\n",
       "      <td>0.3</td>\n",
       "    </tr>\n",
       "    <tr>\n",
       "      <th>86148</th>\n",
       "      <td>288500</td>\n",
       "      <td>56</td>\n",
       "      <td>R</td>\n",
       "      <td>84</td>\n",
       "      <td>61.2</td>\n",
       "      <td>76.4</td>\n",
       "      <td>41.2</td>\n",
       "      <td>33.8</td>\n",
       "      <td>34.0</td>\n",
       "      <td>35.0</td>\n",
       "      <td>760809</td>\n",
       "      <td>868.0</td>\n",
       "      <td>NaN</td>\n",
       "      <td>1</td>\n",
       "      <td>True</td>\n",
       "      <td>0.4</td>\n",
       "    </tr>\n",
       "    <tr>\n",
       "      <th>86153</th>\n",
       "      <td>288536</td>\n",
       "      <td>1295</td>\n",
       "      <td>BIN</td>\n",
       "      <td>28</td>\n",
       "      <td>45.0</td>\n",
       "      <td>47.0</td>\n",
       "      <td>26.2</td>\n",
       "      <td>36.2</td>\n",
       "      <td>37.0</td>\n",
       "      <td>31.2</td>\n",
       "      <td>737590</td>\n",
       "      <td>966.0</td>\n",
       "      <td>NaN</td>\n",
       "      <td>1</td>\n",
       "      <td>True</td>\n",
       "      <td>0.2</td>\n",
       "    </tr>\n",
       "    <tr>\n",
       "      <th>86154</th>\n",
       "      <td>288539</td>\n",
       "      <td>1295</td>\n",
       "      <td>R</td>\n",
       "      <td>23</td>\n",
       "      <td>46.2</td>\n",
       "      <td>55.7</td>\n",
       "      <td>41.2</td>\n",
       "      <td>36.2</td>\n",
       "      <td>37.0</td>\n",
       "      <td>33.8</td>\n",
       "      <td>737756</td>\n",
       "      <td>591.0</td>\n",
       "      <td>NaN</td>\n",
       "      <td>1</td>\n",
       "      <td>True</td>\n",
       "      <td>0.2</td>\n",
       "    </tr>\n",
       "    <tr>\n",
       "      <th>86160</th>\n",
       "      <td>288599</td>\n",
       "      <td>895</td>\n",
       "      <td>BIN</td>\n",
       "      <td>61</td>\n",
       "      <td>45.0</td>\n",
       "      <td>38.0</td>\n",
       "      <td>55.0</td>\n",
       "      <td>27.5</td>\n",
       "      <td>26.0</td>\n",
       "      <td>28.8</td>\n",
       "      <td>758297</td>\n",
       "      <td>884.0</td>\n",
       "      <td>NaN</td>\n",
       "      <td>1</td>\n",
       "      <td>True</td>\n",
       "      <td>0.4</td>\n",
       "    </tr>\n",
       "  </tbody>\n",
       "</table>\n",
       "<p>20750 rows × 16 columns</p>\n",
       "</div>"
      ],
      "text/plain": [
       "       patient_id  center_id ears  months_since_equipped  average_loss  \\\n",
       "4             496         27    L                     46          61.2   \n",
       "5             496         27    R                     21          55.0   \n",
       "10            642         27    L                     67          47.5   \n",
       "11            642         27    R                     67          48.8   \n",
       "12            660         36    R                     41          51.2   \n",
       "...           ...        ...  ...                    ...           ...   \n",
       "86137      288394       1262  BIN                     28          30.0   \n",
       "86148      288500         56    R                     84          61.2   \n",
       "86153      288536       1295  BIN                     28          45.0   \n",
       "86154      288539       1295    R                     23          46.2   \n",
       "86160      288599        895  BIN                     61          45.0   \n",
       "\n",
       "       high_loss  low_loss  eq_average_loss  eq_high_loss  eq_low_loss  \\\n",
       "4           70.0      51.7             36.2          38.8         33.3   \n",
       "5           68.0      43.3             38.8          33.3         46.7   \n",
       "10          57.5      31.7             28.8          31.7         21.7   \n",
       "11          58.8      35.0             28.8          30.0         26.7   \n",
       "12          61.0      28.8             37.5          43.0         25.0   \n",
       "...          ...       ...              ...           ...          ...   \n",
       "86137       35.7      20.0             20.0          21.0         16.2   \n",
       "86148       76.4      41.2             33.8          34.0         35.0   \n",
       "86153       47.0      26.2             36.2          37.0         31.2   \n",
       "86154       55.7      41.2             36.2          37.0         33.8   \n",
       "86160       38.0      55.0             27.5          26.0         28.8   \n",
       "\n",
       "           id  age_in_months_at_equipped_start gender  rk  valid  \\\n",
       "4      594098                            929.0    NaN   1   True   \n",
       "5      593790                            954.0    NaN   1   True   \n",
       "10     594210                            788.0    NaN   1   True   \n",
       "11     593708                            788.0    NaN   1   True   \n",
       "12     754597                            892.0    NaN   1   True   \n",
       "...       ...                              ...    ...  ..    ...   \n",
       "86137  673116                            678.0    NaN   1   True   \n",
       "86148  760809                            868.0    NaN   1   True   \n",
       "86153  737590                            966.0    NaN   1   True   \n",
       "86154  737756                            591.0    NaN   1   True   \n",
       "86160  758297                            884.0    NaN   1   True   \n",
       "\n",
       "       distance_from_target  \n",
       "4                       0.4  \n",
       "5                       0.3  \n",
       "10                      0.4  \n",
       "11                      0.4  \n",
       "12                      0.3  \n",
       "...                     ...  \n",
       "86137                   0.3  \n",
       "86148                   0.4  \n",
       "86153                   0.2  \n",
       "86154                   0.2  \n",
       "86160                   0.4  \n",
       "\n",
       "[20750 rows x 16 columns]"
      ]
     },
     "execution_count": 315,
     "metadata": {},
     "output_type": "execute_result"
    }
   ],
   "source": [
    "equipment_success = equipment_success_dataframe.query('valid == True').copy()\n",
    "equipment_success"
   ]
  },
  {
   "cell_type": "code",
   "execution_count": 316,
   "metadata": {},
   "outputs": [
    {
     "data": {
      "text/plain": [
       "array([[<matplotlib.axes._subplots.AxesSubplot object at 0x7f61da8f4f98>]],\n",
       "      dtype=object)"
      ]
     },
     "metadata": {},
     "output_type": "display_data"
    },
    {
     "data": {
      "text/plain": [
       "array([[<matplotlib.axes._subplots.AxesSubplot object at 0x7f61da904748>]],\n",
       "      dtype=object)"
      ]
     },
     "metadata": {},
     "output_type": "display_data"
    },
    {
     "data": {
      "text/plain": [
       "array([[<matplotlib.axes._subplots.AxesSubplot object at 0x7f61da8c7080>]],\n",
       "      dtype=object)"
      ]
     },
     "metadata": {},
     "output_type": "display_data"
    },
    {
     "data": {
      "text/plain": [
       "array([[<matplotlib.axes._subplots.AxesSubplot object at 0x7f61da869978>]],\n",
       "      dtype=object)"
      ]
     },
     "metadata": {},
     "output_type": "display_data"
    },
    {
     "data": {
      "text/plain": [
       "array([[<matplotlib.axes._subplots.AxesSubplot object at 0x7f61da894208>]],\n",
       "      dtype=object)"
      ]
     },
     "metadata": {},
     "output_type": "display_data"
    },
    {
     "data": {
      "text/plain": [
       "array([[<matplotlib.axes._subplots.AxesSubplot object at 0x7f61da83aac8>]],\n",
       "      dtype=object)"
      ]
     },
     "metadata": {},
     "output_type": "display_data"
    },
    {
     "data": {
      "text/plain": [
       "array([[<matplotlib.axes._subplots.AxesSubplot object at 0x7f61da864400>]],\n",
       "      dtype=object)"
      ]
     },
     "metadata": {},
     "output_type": "display_data"
    },
    {
     "data": {
      "image/png": "[encoded data removed]",
      "text/plain": [
       "<Figure size 432x288 with 1 Axes>"
      ]
     },
     "metadata": {
      "needs_background": "light"
     },
     "output_type": "display_data"
    },
    {
     "data": {
      "image/png": "[encoded data removed]",
      "text/plain": [
       "<Figure size 432x288 with 1 Axes>"
      ]
     },
     "metadata": {
      "needs_background": "light"
     },
     "output_type": "display_data"
    },
    {
     "data": {
      "image/png": "[encoded data removed]",
      "text/plain": [
       "<Figure size 432x288 with 1 Axes>"
      ]
     },
     "metadata": {
      "needs_background": "light"
     },
     "output_type": "display_data"
    },
    {
     "data": {
      "image/png": "[encoded data removed]",
      "text/plain": [
       "<Figure size 432x288 with 1 Axes>"
      ]
     },
     "metadata": {
      "needs_background": "light"
     },
     "output_type": "display_data"
    },
    {
     "data": {
      "image/png": "[encoded data removed]",
      "text/plain": [
       "<Figure size 432x288 with 1 Axes>"
      ]
     },
     "metadata": {
      "needs_background": "light"
     },
     "output_type": "display_data"
    },
    {
     "data": {
      "image/png": "[encoded data removed]",
      "text/plain": [
       "<Figure size 432x288 with 1 Axes>"
      ]
     },
     "metadata": {
      "needs_background": "light"
     },
     "output_type": "display_data"
    },
    {
     "data": {
      "image/png": "[encoded data removed]",
      "text/plain": [
       "<Figure size 432x288 with 1 Axes>"
      ]
     },
     "metadata": {
      "needs_background": "light"
     },
     "output_type": "display_data"
    }
   ],
   "source": [
    "for feature in ['months_since_equipped', 'average_loss', 'eq_average_loss', 'high_loss', 'low_loss', 'age_in_months_at_equipped_start','distance_from_target']:\n",
    "    display.display(equipment_success.hist(feature))"
   ]
  },
  {
   "cell_type": "code",
   "execution_count": 317,
   "metadata": {
    "scrolled": true
   },
   "outputs": [
    {
     "data": {
      "text/html": [
       "<div>\n",
       "<style scoped>\n",
       "    .dataframe tbody tr th:only-of-type {\n",
       "        vertical-align: middle;\n",
       "    }\n",
       "\n",
       "    .dataframe tbody tr th {\n",
       "        vertical-align: top;\n",
       "    }\n",
       "\n",
       "    .dataframe thead th {\n",
       "        text-align: right;\n",
       "    }\n",
       "</style>\n",
       "<table border=\"1\" class=\"dataframe\">\n",
       "  <thead>\n",
       "    <tr style=\"text-align: right;\">\n",
       "      <th></th>\n",
       "      <th>patient_id</th>\n",
       "      <th>center_id</th>\n",
       "      <th>months_since_equipped</th>\n",
       "      <th>average_loss</th>\n",
       "      <th>high_loss</th>\n",
       "      <th>low_loss</th>\n",
       "      <th>eq_average_loss</th>\n",
       "      <th>eq_high_loss</th>\n",
       "      <th>eq_low_loss</th>\n",
       "      <th>id</th>\n",
       "      <th>age_in_months_at_equipped_start</th>\n",
       "      <th>rk</th>\n",
       "      <th>distance_from_target</th>\n",
       "    </tr>\n",
       "  </thead>\n",
       "  <tbody>\n",
       "    <tr>\n",
       "      <th>count</th>\n",
       "      <td>20750.0</td>\n",
       "      <td>20750.0</td>\n",
       "      <td>20750.0</td>\n",
       "      <td>20750.0</td>\n",
       "      <td>20750.0</td>\n",
       "      <td>20750.0</td>\n",
       "      <td>20750.0</td>\n",
       "      <td>20750.0</td>\n",
       "      <td>20750.0</td>\n",
       "      <td>20750.0</td>\n",
       "      <td>20750.0</td>\n",
       "      <td>20750.0</td>\n",
       "      <td>20750.0</td>\n",
       "    </tr>\n",
       "    <tr>\n",
       "      <th>mean</th>\n",
       "      <td>168076.4</td>\n",
       "      <td>440.4</td>\n",
       "      <td>47.0</td>\n",
       "      <td>52.8</td>\n",
       "      <td>60.0</td>\n",
       "      <td>42.0</td>\n",
       "      <td>34.2</td>\n",
       "      <td>36.3</td>\n",
       "      <td>30.0</td>\n",
       "      <td>649563.2</td>\n",
       "      <td>854.3</td>\n",
       "      <td>1.0</td>\n",
       "      <td>0.3</td>\n",
       "    </tr>\n",
       "    <tr>\n",
       "      <th>std</th>\n",
       "      <td>69314.7</td>\n",
       "      <td>401.0</td>\n",
       "      <td>31.7</td>\n",
       "      <td>13.0</td>\n",
       "      <td>13.5</td>\n",
       "      <td>15.6</td>\n",
       "      <td>7.6</td>\n",
       "      <td>8.3</td>\n",
       "      <td>8.5</td>\n",
       "      <td>78792.5</td>\n",
       "      <td>144.3</td>\n",
       "      <td>0.0</td>\n",
       "      <td>0.2</td>\n",
       "    </tr>\n",
       "    <tr>\n",
       "      <th>min</th>\n",
       "      <td>496.0</td>\n",
       "      <td>5.0</td>\n",
       "      <td>13.0</td>\n",
       "      <td>21.2</td>\n",
       "      <td>19.0</td>\n",
       "      <td>3.8</td>\n",
       "      <td>5.0</td>\n",
       "      <td>5.8</td>\n",
       "      <td>-1.2</td>\n",
       "      <td>525957.0</td>\n",
       "      <td>243.0</td>\n",
       "      <td>1.0</td>\n",
       "      <td>-1.4</td>\n",
       "    </tr>\n",
       "    <tr>\n",
       "      <th>25%</th>\n",
       "      <td>132725.8</td>\n",
       "      <td>96.0</td>\n",
       "      <td>23.0</td>\n",
       "      <td>43.8</td>\n",
       "      <td>51.0</td>\n",
       "      <td>30.0</td>\n",
       "      <td>29.0</td>\n",
       "      <td>31.0</td>\n",
       "      <td>25.0</td>\n",
       "      <td>582885.5</td>\n",
       "      <td>776.0</td>\n",
       "      <td>1.0</td>\n",
       "      <td>0.3</td>\n",
       "    </tr>\n",
       "    <tr>\n",
       "      <th>50%</th>\n",
       "      <td>172595.0</td>\n",
       "      <td>263.0</td>\n",
       "      <td>37.0</td>\n",
       "      <td>51.2</td>\n",
       "      <td>59.3</td>\n",
       "      <td>40.0</td>\n",
       "      <td>33.8</td>\n",
       "      <td>35.8</td>\n",
       "      <td>30.0</td>\n",
       "      <td>635803.0</td>\n",
       "      <td>883.0</td>\n",
       "      <td>1.0</td>\n",
       "      <td>0.3</td>\n",
       "    </tr>\n",
       "    <tr>\n",
       "      <th>75%</th>\n",
       "      <td>217958.5</td>\n",
       "      <td>795.0</td>\n",
       "      <td>64.0</td>\n",
       "      <td>61.2</td>\n",
       "      <td>68.6</td>\n",
       "      <td>52.0</td>\n",
       "      <td>38.8</td>\n",
       "      <td>40.8</td>\n",
       "      <td>35.0</td>\n",
       "      <td>732610.8</td>\n",
       "      <td>959.0</td>\n",
       "      <td>1.0</td>\n",
       "      <td>0.4</td>\n",
       "    </tr>\n",
       "    <tr>\n",
       "      <th>max</th>\n",
       "      <td>288599.0</td>\n",
       "      <td>1384.0</td>\n",
       "      <td>209.0</td>\n",
       "      <td>89.5</td>\n",
       "      <td>111.4</td>\n",
       "      <td>102.5</td>\n",
       "      <td>108.8</td>\n",
       "      <td>108.8</td>\n",
       "      <td>106.7</td>\n",
       "      <td>778854.0</td>\n",
       "      <td>1079.0</td>\n",
       "      <td>1.0</td>\n",
       "      <td>0.9</td>\n",
       "    </tr>\n",
       "  </tbody>\n",
       "</table>\n",
       "</div>"
      ],
      "text/plain": [
       "       patient_id  center_id  months_since_equipped  average_loss  high_loss  \\\n",
       "count     20750.0    20750.0                20750.0       20750.0    20750.0   \n",
       "mean     168076.4      440.4                   47.0          52.8       60.0   \n",
       "std       69314.7      401.0                   31.7          13.0       13.5   \n",
       "min         496.0        5.0                   13.0          21.2       19.0   \n",
       "25%      132725.8       96.0                   23.0          43.8       51.0   \n",
       "50%      172595.0      263.0                   37.0          51.2       59.3   \n",
       "75%      217958.5      795.0                   64.0          61.2       68.6   \n",
       "max      288599.0     1384.0                  209.0          89.5      111.4   \n",
       "\n",
       "       low_loss  eq_average_loss  eq_high_loss  eq_low_loss       id  \\\n",
       "count   20750.0          20750.0       20750.0      20750.0  20750.0   \n",
       "mean       42.0             34.2          36.3         30.0 649563.2   \n",
       "std        15.6              7.6           8.3          8.5  78792.5   \n",
       "min         3.8              5.0           5.8         -1.2 525957.0   \n",
       "25%        30.0             29.0          31.0         25.0 582885.5   \n",
       "50%        40.0             33.8          35.8         30.0 635803.0   \n",
       "75%        52.0             38.8          40.8         35.0 732610.8   \n",
       "max       102.5            108.8         108.8        106.7 778854.0   \n",
       "\n",
       "       age_in_months_at_equipped_start      rk  distance_from_target  \n",
       "count                          20750.0 20750.0               20750.0  \n",
       "mean                             854.3     1.0                   0.3  \n",
       "std                              144.3     0.0                   0.2  \n",
       "min                              243.0     1.0                  -1.4  \n",
       "25%                              776.0     1.0                   0.3  \n",
       "50%                              883.0     1.0                   0.3  \n",
       "75%                              959.0     1.0                   0.4  \n",
       "max                             1079.0     1.0                   0.9  "
      ]
     },
     "execution_count": 317,
     "metadata": {},
     "output_type": "execute_result"
    }
   ],
   "source": [
    "equipment_success.describe()"
   ]
  },
  {
   "cell_type": "code",
   "execution_count": 267,
   "metadata": {},
   "outputs": [],
   "source": [
    "def scaleInner(df, feature):\n",
    "    stats = df[feature].describe();\n",
    "    std = stats['std']\n",
    "    mean = stats['mean']\n",
    "    df[feature + '_scaled'] = (df[feature] - mean)/std\n",
    "    return df\n",
    "\n",
    "def scale(df, features):\n",
    "    scaledDf = df.copy()\n",
    "    for feature in features:\n",
    "        scaleInner(scaledDf, feature)\n",
    "    return scaledDf        "
   ]
  },
  {
   "cell_type": "code",
   "execution_count": 382,
   "metadata": {},
   "outputs": [],
   "source": [
    "def success_ratio(equipment_success, threshold):\n",
    "    data = pd.value_counts(equipment_success['eq_average_loss'] < (equipment_success['average_loss']*.5 + threshold))\n",
    "    return data[True]/(data[False] + data[True])"
   ]
  },
  {
   "cell_type": "code",
   "execution_count": 398,
   "metadata": {},
   "outputs": [],
   "source": [
    "def model_good_prediction_ratio(targets, predictions, max_distance):\n",
    "    predictionsDiff = (targets - predictions).apply (lambda x: abs(x))\n",
    "    return len(list(filter(lambda x: x < max_distance, predictionsDiff)))/len(predictionsDiff)"
   ]
  },
  {
   "cell_type": "code",
   "execution_count": 399,
   "metadata": {},
   "outputs": [
    {
     "data": {
      "text/plain": [
       "0.5438554216867469"
      ]
     },
     "execution_count": 399,
     "metadata": {},
     "output_type": "execute_result"
    }
   ],
   "source": [
    "model_good_prediction_ratio(equipment_success['eq_average_loss'], 34.4, 5)"
   ]
  },
  {
   "cell_type": "code",
   "execution_count": 385,
   "metadata": {},
   "outputs": [
    {
     "data": {
      "text/plain": [
       "0.10289156626506024"
      ]
     },
     "execution_count": 385,
     "metadata": {},
     "output_type": "execute_result"
    }
   ],
   "source": [
    "success_ratio(equipment_success, 0)"
   ]
  },
  {
   "cell_type": "code",
   "execution_count": 327,
   "metadata": {},
   "outputs": [
    {
     "data": {
      "text/plain": [
       "count   20750.0\n",
       "mean        8.7\n",
       "std         5.9\n",
       "min         0.0\n",
       "25%         4.4\n",
       "50%         8.1\n",
       "75%        11.9\n",
       "max        85.0\n",
       "dtype: float64"
      ]
     },
     "execution_count": 327,
     "metadata": {},
     "output_type": "execute_result"
    }
   ],
   "source": [
    "(equipment_success['eq_average_loss'] - equipment_success['average_loss']/2).apply(lambda x : abs(x)).describe()          "
   ]
  },
  {
   "cell_type": "code",
   "execution_count": 395,
   "metadata": {},
   "outputs": [],
   "source": [
    "aa = (equipment_success['eq_average_loss'] - equipment_success['average_loss']/2).apply(lambda x : abs(x))\n",
    "aa."
   ]
  },
  {
   "cell_type": "code",
   "execution_count": 348,
   "metadata": {},
   "outputs": [
    {
     "data": {
      "text/plain": [
       "7.644759329487"
      ]
     },
     "execution_count": 348,
     "metadata": {},
     "output_type": "execute_result"
    }
   ],
   "source": [
    "(equipment_success['eq_average_loss'] ).describe()['std'] "
   ]
  },
  {
   "cell_type": "code",
   "execution_count": 364,
   "metadata": {},
   "outputs": [
    {
     "data": {
      "text/plain": [
       "13.020507056187245"
      ]
     },
     "execution_count": 364,
     "metadata": {},
     "output_type": "execute_result"
    }
   ],
   "source": [
    "(equipment_success['average_loss'] ).describe()['std'] "
   ]
  },
  {
   "cell_type": "code",
   "execution_count": 345,
   "metadata": {},
   "outputs": [
    {
     "data": {
      "text/plain": [
       "8.52251445808019"
      ]
     },
     "execution_count": 345,
     "metadata": {},
     "output_type": "execute_result"
    }
   ],
   "source": [
    "(equipment_success['eq_low_loss'] ).describe()['std']"
   ]
  },
  {
   "cell_type": "code",
   "execution_count": 346,
   "metadata": {},
   "outputs": [
    {
     "data": {
      "text/plain": [
       "8.335846652749458"
      ]
     },
     "execution_count": 346,
     "metadata": {},
     "output_type": "execute_result"
    }
   ],
   "source": [
    "(equipment_success['eq_high_loss'] ).describe()['std']"
   ]
  },
  {
   "cell_type": "code",
   "execution_count": 363,
   "metadata": {},
   "outputs": [
    {
     "data": {
      "text/plain": [
       "[34.16693975903615, 7.644575116199356]"
      ]
     },
     "execution_count": 363,
     "metadata": {},
     "output_type": "execute_result"
    }
   ],
   "source": [
    "mean = (equipment_success['eq_average_loss']).describe()['mean'] \n",
    "[mean, math.sqrt((equipment_success['eq_average_loss'] - mean).apply(lambda x : x*x).describe()['mean'])]  "
   ]
  },
  {
   "cell_type": "code",
   "execution_count": 401,
   "metadata": {},
   "outputs": [],
   "source": [
    "def preprocess_features(df):\n",
    "  \"\"\"Prepares input features from a data set.\n",
    "\n",
    "  Args:\n",
    "    df: A Pandas DataFrame expected to contain data\n",
    "      from the California housing data set.\n",
    "  Returns:\n",
    "    A DataFrame that contains the features to be used for the model, including\n",
    "    synthetic features.\n",
    "  \"\"\"\n",
    "  selected_features = scale(df, ['average_loss', 'high_loss', 'low_loss', 'age_in_months_at_equipped_start'])\n",
    "  selected_features = selected_features[\n",
    "    [\"age_in_months_at_equipped_start\",\n",
    "     \"average_loss\",\n",
    "     \"high_loss\",\n",
    "     \"low_loss\",\n",
    "     \"age_in_months_at_equipped_start_scaled\",\n",
    "     \"average_loss_scaled\",\n",
    "     \"high_loss_scaled\",\n",
    "     \"low_loss_scaled\",\n",
    "    ]]\n",
    "  processed_features = selected_features\n",
    "\n",
    "\n",
    "  #processed_features[\"buck_average_loss\"] = bucketized_average_loss\n",
    "  #processed_features['x1'] = processed_features['average_loss'] * processed_features['high_loss']\n",
    "  #processed_features['x2'] = processed_features['average_loss'] * processed_features['low_loss']\n",
    "  #processed_features['x3'] = processed_features['high_loss'] * processed_features['low_loss']\n",
    "  #processed_features['x4'] = processed_features['average_loss'] * processed_features['months_since_equipped']\n",
    "  #processed_features['x5'] = processed_features['average_loss'] * processed_features['age_in_months_at_equipped_start']\n",
    "  #processed_features['x6'] = processed_features['average_loss'] ** 2\n",
    "  #processed_features['x7'] = processed_features['months_since_equipped'] ** 2\n",
    "  #processed_features['x8'] = processed_features['age_in_months_at_equipped_start'] ** 2\n",
    "  \n",
    "  return processed_features\n",
    "\n",
    "def preprocess_targets(df):\n",
    "  \"\"\"Prepares target features (i.e., labels) from a data set.\n",
    "\n",
    "  Args:\n",
    "    df: A Pandas DataFrame expected to contain data\n",
    "      from the California housing data set.\n",
    "  Returns:\n",
    "    A DataFrame that contains the target feature.\n",
    "  \"\"\"\n",
    "  output_targets = pd.DataFrame()\n",
    "  output_targets['eq_average_loss'] = df['eq_average_loss'] \n",
    "  #output_targets['distance_from_target'] = ((df['eq_average_loss'] - df['average_loss']/2))\n",
    "  #output_targets['target_reached'] = (df['eq_average_loss'] < df['average_loss']/2 + 5).astype('float')\n",
    "    \n",
    "\n",
    "  #output_targets['distance_from_target'] = ((df['eq_average_loss'] - df['average_loss']/2).apply (lambda x : max(x,0)))\n",
    "\n",
    "  return output_targets"
   ]
  },
  {
   "cell_type": "code",
   "execution_count": 402,
   "metadata": {},
   "outputs": [
    {
     "data": {
      "text/html": [
       "<div>\n",
       "<style scoped>\n",
       "    .dataframe tbody tr th:only-of-type {\n",
       "        vertical-align: middle;\n",
       "    }\n",
       "\n",
       "    .dataframe tbody tr th {\n",
       "        vertical-align: top;\n",
       "    }\n",
       "\n",
       "    .dataframe thead th {\n",
       "        text-align: right;\n",
       "    }\n",
       "</style>\n",
       "<table border=\"1\" class=\"dataframe\">\n",
       "  <thead>\n",
       "    <tr style=\"text-align: right;\">\n",
       "      <th></th>\n",
       "      <th>patient_id</th>\n",
       "      <th>center_id</th>\n",
       "      <th>months_since_equipped</th>\n",
       "      <th>average_loss</th>\n",
       "      <th>high_loss</th>\n",
       "      <th>low_loss</th>\n",
       "      <th>eq_average_loss</th>\n",
       "      <th>eq_high_loss</th>\n",
       "      <th>eq_low_loss</th>\n",
       "      <th>id</th>\n",
       "      <th>age_in_months_at_equipped_start</th>\n",
       "      <th>rk</th>\n",
       "      <th>distance_from_target</th>\n",
       "    </tr>\n",
       "  </thead>\n",
       "  <tbody>\n",
       "    <tr>\n",
       "      <th>count</th>\n",
       "      <td>20750.0</td>\n",
       "      <td>20750.0</td>\n",
       "      <td>20750.0</td>\n",
       "      <td>20750.0</td>\n",
       "      <td>20750.0</td>\n",
       "      <td>20750.0</td>\n",
       "      <td>20750.0</td>\n",
       "      <td>20750.0</td>\n",
       "      <td>20750.0</td>\n",
       "      <td>20750.0</td>\n",
       "      <td>20750.0</td>\n",
       "      <td>20750.0</td>\n",
       "      <td>20750.0</td>\n",
       "    </tr>\n",
       "    <tr>\n",
       "      <th>mean</th>\n",
       "      <td>168076.4</td>\n",
       "      <td>440.4</td>\n",
       "      <td>47.0</td>\n",
       "      <td>52.8</td>\n",
       "      <td>60.0</td>\n",
       "      <td>42.0</td>\n",
       "      <td>34.2</td>\n",
       "      <td>36.3</td>\n",
       "      <td>30.0</td>\n",
       "      <td>649563.2</td>\n",
       "      <td>854.3</td>\n",
       "      <td>1.0</td>\n",
       "      <td>0.3</td>\n",
       "    </tr>\n",
       "    <tr>\n",
       "      <th>std</th>\n",
       "      <td>69314.7</td>\n",
       "      <td>401.0</td>\n",
       "      <td>31.7</td>\n",
       "      <td>13.0</td>\n",
       "      <td>13.5</td>\n",
       "      <td>15.6</td>\n",
       "      <td>7.6</td>\n",
       "      <td>8.3</td>\n",
       "      <td>8.5</td>\n",
       "      <td>78792.5</td>\n",
       "      <td>144.3</td>\n",
       "      <td>0.0</td>\n",
       "      <td>0.2</td>\n",
       "    </tr>\n",
       "    <tr>\n",
       "      <th>min</th>\n",
       "      <td>496.0</td>\n",
       "      <td>5.0</td>\n",
       "      <td>13.0</td>\n",
       "      <td>21.2</td>\n",
       "      <td>19.0</td>\n",
       "      <td>3.8</td>\n",
       "      <td>5.0</td>\n",
       "      <td>5.8</td>\n",
       "      <td>-1.2</td>\n",
       "      <td>525957.0</td>\n",
       "      <td>243.0</td>\n",
       "      <td>1.0</td>\n",
       "      <td>-1.4</td>\n",
       "    </tr>\n",
       "    <tr>\n",
       "      <th>25%</th>\n",
       "      <td>132725.8</td>\n",
       "      <td>96.0</td>\n",
       "      <td>23.0</td>\n",
       "      <td>43.8</td>\n",
       "      <td>51.0</td>\n",
       "      <td>30.0</td>\n",
       "      <td>29.0</td>\n",
       "      <td>31.0</td>\n",
       "      <td>25.0</td>\n",
       "      <td>582885.5</td>\n",
       "      <td>776.0</td>\n",
       "      <td>1.0</td>\n",
       "      <td>0.3</td>\n",
       "    </tr>\n",
       "    <tr>\n",
       "      <th>50%</th>\n",
       "      <td>172595.0</td>\n",
       "      <td>263.0</td>\n",
       "      <td>37.0</td>\n",
       "      <td>51.2</td>\n",
       "      <td>59.3</td>\n",
       "      <td>40.0</td>\n",
       "      <td>33.8</td>\n",
       "      <td>35.8</td>\n",
       "      <td>30.0</td>\n",
       "      <td>635803.0</td>\n",
       "      <td>883.0</td>\n",
       "      <td>1.0</td>\n",
       "      <td>0.3</td>\n",
       "    </tr>\n",
       "    <tr>\n",
       "      <th>75%</th>\n",
       "      <td>217958.5</td>\n",
       "      <td>795.0</td>\n",
       "      <td>64.0</td>\n",
       "      <td>61.2</td>\n",
       "      <td>68.6</td>\n",
       "      <td>52.0</td>\n",
       "      <td>38.8</td>\n",
       "      <td>40.8</td>\n",
       "      <td>35.0</td>\n",
       "      <td>732610.8</td>\n",
       "      <td>959.0</td>\n",
       "      <td>1.0</td>\n",
       "      <td>0.4</td>\n",
       "    </tr>\n",
       "    <tr>\n",
       "      <th>max</th>\n",
       "      <td>288599.0</td>\n",
       "      <td>1384.0</td>\n",
       "      <td>209.0</td>\n",
       "      <td>89.5</td>\n",
       "      <td>111.4</td>\n",
       "      <td>102.5</td>\n",
       "      <td>108.8</td>\n",
       "      <td>108.8</td>\n",
       "      <td>106.7</td>\n",
       "      <td>778854.0</td>\n",
       "      <td>1079.0</td>\n",
       "      <td>1.0</td>\n",
       "      <td>0.9</td>\n",
       "    </tr>\n",
       "  </tbody>\n",
       "</table>\n",
       "</div>"
      ],
      "text/plain": [
       "       patient_id  center_id  months_since_equipped  average_loss  high_loss  \\\n",
       "count     20750.0    20750.0                20750.0       20750.0    20750.0   \n",
       "mean     168076.4      440.4                   47.0          52.8       60.0   \n",
       "std       69314.7      401.0                   31.7          13.0       13.5   \n",
       "min         496.0        5.0                   13.0          21.2       19.0   \n",
       "25%      132725.8       96.0                   23.0          43.8       51.0   \n",
       "50%      172595.0      263.0                   37.0          51.2       59.3   \n",
       "75%      217958.5      795.0                   64.0          61.2       68.6   \n",
       "max      288599.0     1384.0                  209.0          89.5      111.4   \n",
       "\n",
       "       low_loss  eq_average_loss  eq_high_loss  eq_low_loss       id  \\\n",
       "count   20750.0          20750.0       20750.0      20750.0  20750.0   \n",
       "mean       42.0             34.2          36.3         30.0 649563.2   \n",
       "std        15.6              7.6           8.3          8.5  78792.5   \n",
       "min         3.8              5.0           5.8         -1.2 525957.0   \n",
       "25%        30.0             29.0          31.0         25.0 582885.5   \n",
       "50%        40.0             33.8          35.8         30.0 635803.0   \n",
       "75%        52.0             38.8          40.8         35.0 732610.8   \n",
       "max       102.5            108.8         108.8        106.7 778854.0   \n",
       "\n",
       "       age_in_months_at_equipped_start      rk  distance_from_target  \n",
       "count                          20750.0 20750.0               20750.0  \n",
       "mean                             854.3     1.0                   0.3  \n",
       "std                              144.3     0.0                   0.2  \n",
       "min                              243.0     1.0                  -1.4  \n",
       "25%                              776.0     1.0                   0.3  \n",
       "50%                              883.0     1.0                   0.3  \n",
       "75%                              959.0     1.0                   0.4  \n",
       "max                             1079.0     1.0                   0.9  "
      ]
     },
     "execution_count": 402,
     "metadata": {},
     "output_type": "execute_result"
    }
   ],
   "source": [
    "equipment_success = equipment_success.sample(frac=1)\n",
    "equipment_success.describe()"
   ]
  },
  {
   "cell_type": "code",
   "execution_count": 403,
   "metadata": {},
   "outputs": [
    {
     "data": {
      "text/plain": [
       "[5532, 1384]"
      ]
     },
     "execution_count": 403,
     "metadata": {},
     "output_type": "execute_result"
    }
   ],
   "source": [
    "total_samples = math.floor(equipment_success.count()['ears'] /3 )\n",
    "examples = preprocess_features(equipment_success)\n",
    "targets = preprocess_targets(equipment_success)\n",
    "\n",
    "training_test_ratio = 0.8\n",
    "training_samples = math.floor(total_samples*0.8)\n",
    "validation_samples = total_samples - training_samples\n",
    "\n",
    "[training_samples, validation_samples]"
   ]
  },
  {
   "cell_type": "code",
   "execution_count": 404,
   "metadata": {
    "scrolled": true
   },
   "outputs": [
    {
     "data": {
      "text/html": [
       "<div>\n",
       "<style scoped>\n",
       "    .dataframe tbody tr th:only-of-type {\n",
       "        vertical-align: middle;\n",
       "    }\n",
       "\n",
       "    .dataframe tbody tr th {\n",
       "        vertical-align: top;\n",
       "    }\n",
       "\n",
       "    .dataframe thead th {\n",
       "        text-align: right;\n",
       "    }\n",
       "</style>\n",
       "<table border=\"1\" class=\"dataframe\">\n",
       "  <thead>\n",
       "    <tr style=\"text-align: right;\">\n",
       "      <th></th>\n",
       "      <th>age_in_months_at_equipped_start</th>\n",
       "      <th>average_loss</th>\n",
       "      <th>high_loss</th>\n",
       "      <th>low_loss</th>\n",
       "      <th>age_in_months_at_equipped_start_scaled</th>\n",
       "      <th>average_loss_scaled</th>\n",
       "      <th>high_loss_scaled</th>\n",
       "      <th>low_loss_scaled</th>\n",
       "    </tr>\n",
       "  </thead>\n",
       "  <tbody>\n",
       "    <tr>\n",
       "      <th>47063</th>\n",
       "      <td>787.0</td>\n",
       "      <td>76.2</td>\n",
       "      <td>72.0</td>\n",
       "      <td>77.5</td>\n",
       "      <td>-0.5</td>\n",
       "      <td>1.8</td>\n",
       "      <td>0.9</td>\n",
       "      <td>2.3</td>\n",
       "    </tr>\n",
       "    <tr>\n",
       "      <th>47940</th>\n",
       "      <td>778.0</td>\n",
       "      <td>47.5</td>\n",
       "      <td>59.0</td>\n",
       "      <td>20.0</td>\n",
       "      <td>-0.5</td>\n",
       "      <td>-0.4</td>\n",
       "      <td>-0.1</td>\n",
       "      <td>-1.4</td>\n",
       "    </tr>\n",
       "    <tr>\n",
       "      <th>38164</th>\n",
       "      <td>1015.0</td>\n",
       "      <td>31.2</td>\n",
       "      <td>45.0</td>\n",
       "      <td>16.2</td>\n",
       "      <td>1.1</td>\n",
       "      <td>-1.7</td>\n",
       "      <td>-1.1</td>\n",
       "      <td>-1.7</td>\n",
       "    </tr>\n",
       "    <tr>\n",
       "      <th>78689</th>\n",
       "      <td>959.0</td>\n",
       "      <td>88.8</td>\n",
       "      <td>90.7</td>\n",
       "      <td>87.5</td>\n",
       "      <td>0.7</td>\n",
       "      <td>2.8</td>\n",
       "      <td>2.3</td>\n",
       "      <td>2.9</td>\n",
       "    </tr>\n",
       "    <tr>\n",
       "      <th>10247</th>\n",
       "      <td>1029.0</td>\n",
       "      <td>56.2</td>\n",
       "      <td>80.0</td>\n",
       "      <td>34.0</td>\n",
       "      <td>1.2</td>\n",
       "      <td>0.3</td>\n",
       "      <td>1.5</td>\n",
       "      <td>-0.5</td>\n",
       "    </tr>\n",
       "    <tr>\n",
       "      <th>...</th>\n",
       "      <td>...</td>\n",
       "      <td>...</td>\n",
       "      <td>...</td>\n",
       "      <td>...</td>\n",
       "      <td>...</td>\n",
       "      <td>...</td>\n",
       "      <td>...</td>\n",
       "      <td>...</td>\n",
       "    </tr>\n",
       "    <tr>\n",
       "      <th>78889</th>\n",
       "      <td>598.0</td>\n",
       "      <td>37.5</td>\n",
       "      <td>44.0</td>\n",
       "      <td>28.3</td>\n",
       "      <td>-1.8</td>\n",
       "      <td>-1.2</td>\n",
       "      <td>-1.2</td>\n",
       "      <td>-0.9</td>\n",
       "    </tr>\n",
       "    <tr>\n",
       "      <th>37052</th>\n",
       "      <td>853.0</td>\n",
       "      <td>45.0</td>\n",
       "      <td>51.7</td>\n",
       "      <td>28.8</td>\n",
       "      <td>-0.0</td>\n",
       "      <td>-0.6</td>\n",
       "      <td>-0.6</td>\n",
       "      <td>-0.9</td>\n",
       "    </tr>\n",
       "    <tr>\n",
       "      <th>77965</th>\n",
       "      <td>913.0</td>\n",
       "      <td>42.5</td>\n",
       "      <td>59.3</td>\n",
       "      <td>21.2</td>\n",
       "      <td>0.4</td>\n",
       "      <td>-0.8</td>\n",
       "      <td>-0.1</td>\n",
       "      <td>-1.3</td>\n",
       "    </tr>\n",
       "    <tr>\n",
       "      <th>78626</th>\n",
       "      <td>1035.0</td>\n",
       "      <td>55.0</td>\n",
       "      <td>70.7</td>\n",
       "      <td>41.0</td>\n",
       "      <td>1.3</td>\n",
       "      <td>0.2</td>\n",
       "      <td>0.8</td>\n",
       "      <td>-0.1</td>\n",
       "    </tr>\n",
       "    <tr>\n",
       "      <th>63139</th>\n",
       "      <td>990.0</td>\n",
       "      <td>67.5</td>\n",
       "      <td>68.6</td>\n",
       "      <td>62.5</td>\n",
       "      <td>0.9</td>\n",
       "      <td>1.1</td>\n",
       "      <td>0.6</td>\n",
       "      <td>1.3</td>\n",
       "    </tr>\n",
       "  </tbody>\n",
       "</table>\n",
       "<p>20750 rows × 8 columns</p>\n",
       "</div>"
      ],
      "text/plain": [
       "       age_in_months_at_equipped_start  average_loss  high_loss  low_loss  \\\n",
       "47063                            787.0          76.2       72.0      77.5   \n",
       "47940                            778.0          47.5       59.0      20.0   \n",
       "38164                           1015.0          31.2       45.0      16.2   \n",
       "78689                            959.0          88.8       90.7      87.5   \n",
       "10247                           1029.0          56.2       80.0      34.0   \n",
       "...                                ...           ...        ...       ...   \n",
       "78889                            598.0          37.5       44.0      28.3   \n",
       "37052                            853.0          45.0       51.7      28.8   \n",
       "77965                            913.0          42.5       59.3      21.2   \n",
       "78626                           1035.0          55.0       70.7      41.0   \n",
       "63139                            990.0          67.5       68.6      62.5   \n",
       "\n",
       "       age_in_months_at_equipped_start_scaled  average_loss_scaled  \\\n",
       "47063                                    -0.5                  1.8   \n",
       "47940                                    -0.5                 -0.4   \n",
       "38164                                     1.1                 -1.7   \n",
       "78689                                     0.7                  2.8   \n",
       "10247                                     1.2                  0.3   \n",
       "...                                       ...                  ...   \n",
       "78889                                    -1.8                 -1.2   \n",
       "37052                                    -0.0                 -0.6   \n",
       "77965                                     0.4                 -0.8   \n",
       "78626                                     1.3                  0.2   \n",
       "63139                                     0.9                  1.1   \n",
       "\n",
       "       high_loss_scaled  low_loss_scaled  \n",
       "47063               0.9              2.3  \n",
       "47940              -0.1             -1.4  \n",
       "38164              -1.1             -1.7  \n",
       "78689               2.3              2.9  \n",
       "10247               1.5             -0.5  \n",
       "...                 ...              ...  \n",
       "78889              -1.2             -0.9  \n",
       "37052              -0.6             -0.9  \n",
       "77965              -0.1             -1.3  \n",
       "78626               0.8             -0.1  \n",
       "63139               0.6              1.3  \n",
       "\n",
       "[20750 rows x 8 columns]"
      ]
     },
     "execution_count": 404,
     "metadata": {},
     "output_type": "execute_result"
    }
   ],
   "source": [
    "examples"
   ]
  },
  {
   "cell_type": "code",
   "execution_count": 405,
   "metadata": {},
   "outputs": [
    {
     "data": {
      "text/html": [
       "<div>\n",
       "<style scoped>\n",
       "    .dataframe tbody tr th:only-of-type {\n",
       "        vertical-align: middle;\n",
       "    }\n",
       "\n",
       "    .dataframe tbody tr th {\n",
       "        vertical-align: top;\n",
       "    }\n",
       "\n",
       "    .dataframe thead th {\n",
       "        text-align: right;\n",
       "    }\n",
       "</style>\n",
       "<table border=\"1\" class=\"dataframe\">\n",
       "  <thead>\n",
       "    <tr style=\"text-align: right;\">\n",
       "      <th></th>\n",
       "      <th>eq_average_loss</th>\n",
       "    </tr>\n",
       "  </thead>\n",
       "  <tbody>\n",
       "    <tr>\n",
       "      <th>count</th>\n",
       "      <td>20750.0</td>\n",
       "    </tr>\n",
       "    <tr>\n",
       "      <th>mean</th>\n",
       "      <td>34.2</td>\n",
       "    </tr>\n",
       "    <tr>\n",
       "      <th>std</th>\n",
       "      <td>7.6</td>\n",
       "    </tr>\n",
       "    <tr>\n",
       "      <th>min</th>\n",
       "      <td>5.0</td>\n",
       "    </tr>\n",
       "    <tr>\n",
       "      <th>25%</th>\n",
       "      <td>29.0</td>\n",
       "    </tr>\n",
       "    <tr>\n",
       "      <th>50%</th>\n",
       "      <td>33.8</td>\n",
       "    </tr>\n",
       "    <tr>\n",
       "      <th>75%</th>\n",
       "      <td>38.8</td>\n",
       "    </tr>\n",
       "    <tr>\n",
       "      <th>max</th>\n",
       "      <td>108.8</td>\n",
       "    </tr>\n",
       "  </tbody>\n",
       "</table>\n",
       "</div>"
      ],
      "text/plain": [
       "       eq_average_loss\n",
       "count          20750.0\n",
       "mean              34.2\n",
       "std                7.6\n",
       "min                5.0\n",
       "25%               29.0\n",
       "50%               33.8\n",
       "75%               38.8\n",
       "max              108.8"
      ]
     },
     "execution_count": 405,
     "metadata": {},
     "output_type": "execute_result"
    }
   ],
   "source": [
    "targets.describe()"
   ]
  },
  {
   "cell_type": "code",
   "execution_count": 406,
   "metadata": {},
   "outputs": [
    {
     "data": {
      "text/html": [
       "<div>\n",
       "<style scoped>\n",
       "    .dataframe tbody tr th:only-of-type {\n",
       "        vertical-align: middle;\n",
       "    }\n",
       "\n",
       "    .dataframe tbody tr th {\n",
       "        vertical-align: top;\n",
       "    }\n",
       "\n",
       "    .dataframe thead th {\n",
       "        text-align: right;\n",
       "    }\n",
       "</style>\n",
       "<table border=\"1\" class=\"dataframe\">\n",
       "  <thead>\n",
       "    <tr style=\"text-align: right;\">\n",
       "      <th></th>\n",
       "      <th>age_in_months_at_equipped_start</th>\n",
       "      <th>average_loss</th>\n",
       "      <th>high_loss</th>\n",
       "      <th>low_loss</th>\n",
       "      <th>age_in_months_at_equipped_start_scaled</th>\n",
       "      <th>average_loss_scaled</th>\n",
       "      <th>high_loss_scaled</th>\n",
       "      <th>low_loss_scaled</th>\n",
       "    </tr>\n",
       "  </thead>\n",
       "  <tbody>\n",
       "    <tr>\n",
       "      <th>count</th>\n",
       "      <td>5532.0</td>\n",
       "      <td>5532.0</td>\n",
       "      <td>5532.0</td>\n",
       "      <td>5532.0</td>\n",
       "      <td>5532.0</td>\n",
       "      <td>5532.0</td>\n",
       "      <td>5532.0</td>\n",
       "      <td>5532.0</td>\n",
       "    </tr>\n",
       "    <tr>\n",
       "      <th>mean</th>\n",
       "      <td>855.1</td>\n",
       "      <td>52.7</td>\n",
       "      <td>59.9</td>\n",
       "      <td>42.0</td>\n",
       "      <td>0.0</td>\n",
       "      <td>-0.0</td>\n",
       "      <td>-0.0</td>\n",
       "      <td>-0.0</td>\n",
       "    </tr>\n",
       "    <tr>\n",
       "      <th>std</th>\n",
       "      <td>141.2</td>\n",
       "      <td>13.0</td>\n",
       "      <td>13.5</td>\n",
       "      <td>15.6</td>\n",
       "      <td>1.0</td>\n",
       "      <td>1.0</td>\n",
       "      <td>1.0</td>\n",
       "      <td>1.0</td>\n",
       "    </tr>\n",
       "    <tr>\n",
       "      <th>min</th>\n",
       "      <td>251.0</td>\n",
       "      <td>22.5</td>\n",
       "      <td>20.7</td>\n",
       "      <td>6.2</td>\n",
       "      <td>-4.2</td>\n",
       "      <td>-2.3</td>\n",
       "      <td>-2.9</td>\n",
       "      <td>-2.3</td>\n",
       "    </tr>\n",
       "    <tr>\n",
       "      <th>25%</th>\n",
       "      <td>777.0</td>\n",
       "      <td>43.8</td>\n",
       "      <td>51.0</td>\n",
       "      <td>30.0</td>\n",
       "      <td>-0.5</td>\n",
       "      <td>-0.7</td>\n",
       "      <td>-0.7</td>\n",
       "      <td>-0.8</td>\n",
       "    </tr>\n",
       "    <tr>\n",
       "      <th>50%</th>\n",
       "      <td>882.0</td>\n",
       "      <td>51.2</td>\n",
       "      <td>59.8</td>\n",
       "      <td>40.0</td>\n",
       "      <td>0.2</td>\n",
       "      <td>-0.1</td>\n",
       "      <td>-0.0</td>\n",
       "      <td>-0.1</td>\n",
       "    </tr>\n",
       "    <tr>\n",
       "      <th>75%</th>\n",
       "      <td>958.0</td>\n",
       "      <td>60.0</td>\n",
       "      <td>68.0</td>\n",
       "      <td>51.7</td>\n",
       "      <td>0.7</td>\n",
       "      <td>0.6</td>\n",
       "      <td>0.6</td>\n",
       "      <td>0.6</td>\n",
       "    </tr>\n",
       "    <tr>\n",
       "      <th>max</th>\n",
       "      <td>1079.0</td>\n",
       "      <td>89.5</td>\n",
       "      <td>102.5</td>\n",
       "      <td>101.7</td>\n",
       "      <td>1.6</td>\n",
       "      <td>2.8</td>\n",
       "      <td>3.2</td>\n",
       "      <td>3.8</td>\n",
       "    </tr>\n",
       "  </tbody>\n",
       "</table>\n",
       "</div>"
      ],
      "text/plain": [
       "       age_in_months_at_equipped_start  average_loss  high_loss  low_loss  \\\n",
       "count                           5532.0        5532.0     5532.0    5532.0   \n",
       "mean                             855.1          52.7       59.9      42.0   \n",
       "std                              141.2          13.0       13.5      15.6   \n",
       "min                              251.0          22.5       20.7       6.2   \n",
       "25%                              777.0          43.8       51.0      30.0   \n",
       "50%                              882.0          51.2       59.8      40.0   \n",
       "75%                              958.0          60.0       68.0      51.7   \n",
       "max                             1079.0          89.5      102.5     101.7   \n",
       "\n",
       "       age_in_months_at_equipped_start_scaled  average_loss_scaled  \\\n",
       "count                                  5532.0               5532.0   \n",
       "mean                                      0.0                 -0.0   \n",
       "std                                       1.0                  1.0   \n",
       "min                                      -4.2                 -2.3   \n",
       "25%                                      -0.5                 -0.7   \n",
       "50%                                       0.2                 -0.1   \n",
       "75%                                       0.7                  0.6   \n",
       "max                                       1.6                  2.8   \n",
       "\n",
       "       high_loss_scaled  low_loss_scaled  \n",
       "count            5532.0           5532.0  \n",
       "mean               -0.0             -0.0  \n",
       "std                 1.0              1.0  \n",
       "min                -2.9             -2.3  \n",
       "25%                -0.7             -0.8  \n",
       "50%                -0.0             -0.1  \n",
       "75%                 0.6              0.6  \n",
       "max                 3.2              3.8  "
      ]
     },
     "execution_count": 406,
     "metadata": {},
     "output_type": "execute_result"
    }
   ],
   "source": [
    "training_examples = examples.head(training_samples).copy()\n",
    "training_examples.describe()"
   ]
  },
  {
   "cell_type": "code",
   "execution_count": 407,
   "metadata": {
    "scrolled": false
   },
   "outputs": [
    {
     "data": {
      "text/html": [
       "<div>\n",
       "<style scoped>\n",
       "    .dataframe tbody tr th:only-of-type {\n",
       "        vertical-align: middle;\n",
       "    }\n",
       "\n",
       "    .dataframe tbody tr th {\n",
       "        vertical-align: top;\n",
       "    }\n",
       "\n",
       "    .dataframe thead th {\n",
       "        text-align: right;\n",
       "    }\n",
       "</style>\n",
       "<table border=\"1\" class=\"dataframe\">\n",
       "  <thead>\n",
       "    <tr style=\"text-align: right;\">\n",
       "      <th></th>\n",
       "      <th>age_in_months_at_equipped_start</th>\n",
       "      <th>average_loss</th>\n",
       "      <th>high_loss</th>\n",
       "      <th>low_loss</th>\n",
       "      <th>age_in_months_at_equipped_start_scaled</th>\n",
       "      <th>average_loss_scaled</th>\n",
       "      <th>high_loss_scaled</th>\n",
       "      <th>low_loss_scaled</th>\n",
       "    </tr>\n",
       "  </thead>\n",
       "  <tbody>\n",
       "    <tr>\n",
       "      <th>count</th>\n",
       "      <td>1384.0</td>\n",
       "      <td>1384.0</td>\n",
       "      <td>1384.0</td>\n",
       "      <td>1384.0</td>\n",
       "      <td>1384.0</td>\n",
       "      <td>1384.0</td>\n",
       "      <td>1384.0</td>\n",
       "      <td>1384.0</td>\n",
       "    </tr>\n",
       "    <tr>\n",
       "      <th>mean</th>\n",
       "      <td>847.0</td>\n",
       "      <td>53.2</td>\n",
       "      <td>60.5</td>\n",
       "      <td>42.1</td>\n",
       "      <td>-0.1</td>\n",
       "      <td>0.0</td>\n",
       "      <td>0.0</td>\n",
       "      <td>0.0</td>\n",
       "    </tr>\n",
       "    <tr>\n",
       "      <th>std</th>\n",
       "      <td>146.9</td>\n",
       "      <td>13.1</td>\n",
       "      <td>13.9</td>\n",
       "      <td>15.4</td>\n",
       "      <td>1.0</td>\n",
       "      <td>1.0</td>\n",
       "      <td>1.0</td>\n",
       "      <td>1.0</td>\n",
       "    </tr>\n",
       "    <tr>\n",
       "      <th>min</th>\n",
       "      <td>243.0</td>\n",
       "      <td>21.2</td>\n",
       "      <td>22.0</td>\n",
       "      <td>7.5</td>\n",
       "      <td>-4.2</td>\n",
       "      <td>-2.4</td>\n",
       "      <td>-2.8</td>\n",
       "      <td>-2.2</td>\n",
       "    </tr>\n",
       "    <tr>\n",
       "      <th>25%</th>\n",
       "      <td>766.8</td>\n",
       "      <td>44.4</td>\n",
       "      <td>51.4</td>\n",
       "      <td>31.2</td>\n",
       "      <td>-0.6</td>\n",
       "      <td>-0.6</td>\n",
       "      <td>-0.6</td>\n",
       "      <td>-0.7</td>\n",
       "    </tr>\n",
       "    <tr>\n",
       "      <th>50%</th>\n",
       "      <td>872.0</td>\n",
       "      <td>52.5</td>\n",
       "      <td>60.0</td>\n",
       "      <td>41.0</td>\n",
       "      <td>0.1</td>\n",
       "      <td>-0.0</td>\n",
       "      <td>0.0</td>\n",
       "      <td>-0.1</td>\n",
       "    </tr>\n",
       "    <tr>\n",
       "      <th>75%</th>\n",
       "      <td>957.0</td>\n",
       "      <td>61.3</td>\n",
       "      <td>70.0</td>\n",
       "      <td>51.2</td>\n",
       "      <td>0.7</td>\n",
       "      <td>0.7</td>\n",
       "      <td>0.7</td>\n",
       "      <td>0.6</td>\n",
       "    </tr>\n",
       "    <tr>\n",
       "      <th>max</th>\n",
       "      <td>1079.0</td>\n",
       "      <td>88.8</td>\n",
       "      <td>107.1</td>\n",
       "      <td>93.8</td>\n",
       "      <td>1.6</td>\n",
       "      <td>2.8</td>\n",
       "      <td>3.5</td>\n",
       "      <td>3.3</td>\n",
       "    </tr>\n",
       "  </tbody>\n",
       "</table>\n",
       "</div>"
      ],
      "text/plain": [
       "       age_in_months_at_equipped_start  average_loss  high_loss  low_loss  \\\n",
       "count                           1384.0        1384.0     1384.0    1384.0   \n",
       "mean                             847.0          53.2       60.5      42.1   \n",
       "std                              146.9          13.1       13.9      15.4   \n",
       "min                              243.0          21.2       22.0       7.5   \n",
       "25%                              766.8          44.4       51.4      31.2   \n",
       "50%                              872.0          52.5       60.0      41.0   \n",
       "75%                              957.0          61.3       70.0      51.2   \n",
       "max                             1079.0          88.8      107.1      93.8   \n",
       "\n",
       "       age_in_months_at_equipped_start_scaled  average_loss_scaled  \\\n",
       "count                                  1384.0               1384.0   \n",
       "mean                                     -0.1                  0.0   \n",
       "std                                       1.0                  1.0   \n",
       "min                                      -4.2                 -2.4   \n",
       "25%                                      -0.6                 -0.6   \n",
       "50%                                       0.1                 -0.0   \n",
       "75%                                       0.7                  0.7   \n",
       "max                                       1.6                  2.8   \n",
       "\n",
       "       high_loss_scaled  low_loss_scaled  \n",
       "count            1384.0           1384.0  \n",
       "mean                0.0              0.0  \n",
       "std                 1.0              1.0  \n",
       "min                -2.8             -2.2  \n",
       "25%                -0.6             -0.7  \n",
       "50%                 0.0             -0.1  \n",
       "75%                 0.7              0.6  \n",
       "max                 3.5              3.3  "
      ]
     },
     "execution_count": 407,
     "metadata": {},
     "output_type": "execute_result"
    }
   ],
   "source": [
    "validation_examples = examples.tail(validation_samples).copy()\n",
    "validation_examples.describe()"
   ]
  },
  {
   "cell_type": "code",
   "execution_count": 408,
   "metadata": {
    "scrolled": true
   },
   "outputs": [],
   "source": [
    "training_targets = targets.head(training_samples)"
   ]
  },
  {
   "cell_type": "code",
   "execution_count": 409,
   "metadata": {
    "scrolled": true
   },
   "outputs": [],
   "source": [
    "validation_targets = targets.tail(validation_samples)"
   ]
  },
  {
   "cell_type": "code",
   "execution_count": 410,
   "metadata": {},
   "outputs": [
    {
     "data": {
      "text/html": [
       "<div>\n",
       "<style scoped>\n",
       "    .dataframe tbody tr th:only-of-type {\n",
       "        vertical-align: middle;\n",
       "    }\n",
       "\n",
       "    .dataframe tbody tr th {\n",
       "        vertical-align: top;\n",
       "    }\n",
       "\n",
       "    .dataframe thead th {\n",
       "        text-align: right;\n",
       "    }\n",
       "</style>\n",
       "<table border=\"1\" class=\"dataframe\">\n",
       "  <thead>\n",
       "    <tr style=\"text-align: right;\">\n",
       "      <th></th>\n",
       "      <th>eq_average_loss</th>\n",
       "    </tr>\n",
       "  </thead>\n",
       "  <tbody>\n",
       "    <tr>\n",
       "      <th>count</th>\n",
       "      <td>5532.0</td>\n",
       "    </tr>\n",
       "    <tr>\n",
       "      <th>mean</th>\n",
       "      <td>34.2</td>\n",
       "    </tr>\n",
       "    <tr>\n",
       "      <th>std</th>\n",
       "      <td>7.7</td>\n",
       "    </tr>\n",
       "    <tr>\n",
       "      <th>min</th>\n",
       "      <td>5.0</td>\n",
       "    </tr>\n",
       "    <tr>\n",
       "      <th>25%</th>\n",
       "      <td>29.5</td>\n",
       "    </tr>\n",
       "    <tr>\n",
       "      <th>50%</th>\n",
       "      <td>33.8</td>\n",
       "    </tr>\n",
       "    <tr>\n",
       "      <th>75%</th>\n",
       "      <td>38.8</td>\n",
       "    </tr>\n",
       "    <tr>\n",
       "      <th>max</th>\n",
       "      <td>103.2</td>\n",
       "    </tr>\n",
       "  </tbody>\n",
       "</table>\n",
       "</div>"
      ],
      "text/plain": [
       "       eq_average_loss\n",
       "count           5532.0\n",
       "mean              34.2\n",
       "std                7.7\n",
       "min                5.0\n",
       "25%               29.5\n",
       "50%               33.8\n",
       "75%               38.8\n",
       "max              103.2"
      ]
     },
     "execution_count": 410,
     "metadata": {},
     "output_type": "execute_result"
    }
   ],
   "source": [
    "training_targets.describe()"
   ]
  },
  {
   "cell_type": "code",
   "execution_count": 411,
   "metadata": {},
   "outputs": [],
   "source": [
    "def my_input_fn(features, targets, batch_size=1, shuffle=True, num_epochs=None):\n",
    "    \"\"\"Trains a linear regression model of multiple features.\n",
    "  \n",
    "    Args:\n",
    "      features: pandas DataFrame of features\n",
    "      targets: pandas DataFrame of targets\n",
    "      batch_size: Size of batches to be passed to the model\n",
    "      shuffle: True or False. Whether to shuffle the data.\n",
    "      num_epochs: Number of epochs for which data should be repeated. None = repeat indefinitely\n",
    "    Returns:\n",
    "      Tuple of (features, labels) for next data batch\n",
    "    \"\"\"\n",
    "    \n",
    "    # Convert pandas data into a dict of np arrays.\n",
    "    features = {key:np.array(value) for key,value in dict(features).items()}                                           \n",
    " \n",
    "    # Construct a dataset, and configure batching/repeating.\n",
    "    ds = Dataset.from_tensor_slices((features,targets)) # warning: 2GB limit\n",
    "    ds = ds.batch(batch_size).repeat(num_epochs)\n",
    "    \n",
    "    # Shuffle the data, if specified.\n",
    "    if shuffle:\n",
    "      ds = ds.shuffle(10000)\n",
    "    \n",
    "    # Return the next batch of data.\n",
    "    features, labels = ds.make_one_shot_iterator().get_next()\n",
    "    return features, labels"
   ]
  },
  {
   "cell_type": "code",
   "execution_count": 412,
   "metadata": {},
   "outputs": [],
   "source": [
    "def construct_feature_columns():\n",
    "  \"\"\"Construct the TensorFlow Feature Columns.\n",
    "\n",
    "  Args:\n",
    "    input_features: The names of the numerical input features to use.\n",
    "  Returns:\n",
    "    A set of feature columns\n",
    "  \"\"\" \n",
    "  deafness_levels = [20, 40, 55, 70, 80, 90]\n",
    "\n",
    "  #gender = tf.feature_column.categorical_column_with_vocabulary_list('gender', ['male', 'female', 'NaN'])\n",
    "  age_in_months_at_equipped_start_scaled = tf.feature_column.numeric_column(\"age_in_months_at_equipped_start_scaled\")\n",
    "  average_loss_scaled = tf.feature_column.numeric_column(\"average_loss_scaled\")\n",
    "  high_loss_scaled = tf.feature_column.numeric_column(\"high_loss_scaled\")\n",
    "  low_loss_scaled = tf.feature_column.numeric_column(\"low_loss_scaled\")\n",
    "\n",
    "\n",
    "\n",
    "  average_loss = tf.feature_column.numeric_column(\"average_loss\")\n",
    "  bucketized_average_loss = tf.feature_column.bucketized_column(\n",
    "    average_loss, boundaries=deafness_levels)\n",
    "\n",
    "  high_loss = tf.feature_column.numeric_column(\"high_loss\")\n",
    "  bucketized_high_loss = tf.feature_column.bucketized_column(\n",
    "    high_loss, boundaries=deafness_levels)\n",
    "\n",
    "  low_loss = tf.feature_column.numeric_column(\"low_loss\")\n",
    "  bucketized_low_loss = tf.feature_column.bucketized_column(\n",
    "    low_loss, boundaries=deafness_levels)\n",
    "\n",
    "  average_x_high_x_low = tf.feature_column.crossed_column(set([bucketized_average_loss, bucketized_high_loss, bucketized_low_loss]), hash_bucket_size=1000) \n",
    "  average_x_high = tf.feature_column.crossed_column(set([bucketized_average_loss, bucketized_high_loss]), hash_bucket_size=1000) \n",
    "  average_x_low = tf.feature_column.crossed_column(set([bucketized_average_loss, bucketized_low_loss]), hash_bucket_size=1000) \n",
    "  return set([average_loss_scaled, high_loss_scaled, low_loss_scaled , age_in_months_at_equipped_start_scaled])\n",
    "  # return set([average_loss_scaled, high_loss_scaled, low_loss_scaled, average_x_high_x_low, average_x_high, average_x_low, age_in_months_at_equipped_start_scaled])"
   ]
  },
  {
   "cell_type": "code",
   "execution_count": 413,
   "metadata": {},
   "outputs": [],
   "source": [
    "def train_model(\n",
    "    model_type,\n",
    "    learning_rate,\n",
    "    steps,\n",
    "    batch_size,\n",
    "    label,\n",
    "    training_examples,\n",
    "    training_targets,\n",
    "    validation_examples,\n",
    "    validation_targets,\n",
    "    hidden_units=[]):\n",
    "  \"\"\"Trains a linear regression model of multiple features.\n",
    "  \n",
    "  In addition to training, this function also prints training progress information,\n",
    "  as well as a plot of the training and validation loss over time.\n",
    "  \n",
    "  Args:\n",
    "    learning_rate: A `float`, the learning rate.\n",
    "    steps: A non-zero `int`, the total number of training steps. A training step\n",
    "      consists of a forward and backward pass using a single batch.\n",
    "    batch_size: A non-zero `int`, the batch size.\n",
    "    training_examples: A `DataFrame` containing one or more columns from\n",
    "      `california_housing_dataframe` to use as input features for training.\n",
    "    training_targets: A `DataFrame` containing exactly one column from\n",
    "      `california_housing_dataframe` to use as target for training.\n",
    "    validation_examples: A `DataFrame` containing one or more columns from\n",
    "      `california_housing_dataframe` to use as input features for validation.\n",
    "    validation_targets: A `DataFrame` containing exactly one column from\n",
    "      `california_housing_dataframe` to use as target for validation.\n",
    "      \n",
    "  Returns:\n",
    "    A `LinearRegressor` object trained on the training data.\n",
    "  \"\"\"\n",
    "\n",
    "  periods = 10\n",
    "  steps_per_period = steps / periods\n",
    "  \n",
    "  print('hidden_units: '+ str(hidden_units))\n",
    "  # Create a linear regressor object.\n",
    "  #my_optimizer = tf.train.GradientDescentOptimizer(learning_rate=learning_rate)\n",
    "  my_optimizer = tf.train.FtrlOptimizer(learning_rate=learning_rate)\n",
    " # my_optimizer = tf.contrib.estimator.clip_gradients_by_norm(my_optimizer, 5.0)\n",
    "  if model_type == 'linear':\n",
    "      regressor = tf.estimator.LinearRegressor(\n",
    "          feature_columns=construct_feature_columns(),\n",
    "          optimizer=my_optimizer)\n",
    "  elif model_type == 'neural_net':\n",
    "      dnn_regressor = tf.estimator.DNNRegressor(\n",
    "          feature_columns=construct_feature_columns(),\n",
    "          hidden_units=hidden_units,\n",
    "          optimizer=my_optimizer)\n",
    "  else:\n",
    "    raise Exception('Invalid model type:' + model_type)\n",
    "  \n",
    "  \n",
    "  # Create input functions.\n",
    "  training_input_fn = lambda: my_input_fn(\n",
    "      training_examples, \n",
    "      training_targets[label], \n",
    "      batch_size=batch_size)\n",
    "  predict_training_input_fn = lambda: my_input_fn(\n",
    "      training_examples, \n",
    "      training_targets[label], \n",
    "      num_epochs=1, \n",
    "      shuffle=False)\n",
    "  predict_validation_input_fn = lambda: my_input_fn(\n",
    "      validation_examples, validation_targets[label], \n",
    "      num_epochs=1, \n",
    "      shuffle=False)\n",
    "\n",
    "  # Train the model, but do so inside a loop so that we can periodically assess\n",
    "  # loss metrics.\n",
    "  print(\"Training model...\")\n",
    "  print(\"RMSE (on training data):\")\n",
    "  training_rmse = []\n",
    "  validation_rmse = []\n",
    "  for period in range (0, periods):\n",
    "    # Train the model, starting from the prior state.\n",
    "    linear_regressor.train(\n",
    "        input_fn=training_input_fn,\n",
    "        steps=steps_per_period,\n",
    "    )\n",
    "    # Take a break and compute predictions.\n",
    "    training_predictions = linear_regressor.predict(input_fn=predict_training_input_fn)\n",
    "    training_predictions = np.array([item['predictions'][0] for item in training_predictions])\n",
    "    \n",
    "    validation_predictions = linear_regressor.predict(input_fn=predict_validation_input_fn)\n",
    "    validation_predictions = np.array([item['predictions'][0] for item in validation_predictions])\n",
    "    \n",
    "    \n",
    "    # Compute training and validation loss.\n",
    "    training_root_mean_squared_error = math.sqrt(\n",
    "        metrics.mean_squared_error(training_predictions, training_targets))\n",
    "    validation_root_mean_squared_error = math.sqrt(\n",
    "        metrics.mean_squared_error(validation_predictions, validation_targets))\n",
    "    # Occasionally print the current loss.\n",
    "    print(\"  period %02d : %0.2f\" % (period, training_root_mean_squared_error))\n",
    "    # Add the loss metrics from this period to our list.\n",
    "    training_rmse.append(training_root_mean_squared_error)\n",
    "    validation_rmse.append(validation_root_mean_squared_error)\n",
    "  print(\"Model training finished.\")\n",
    "\n",
    "  # Output a graph of loss metrics over periods.\n",
    "  plt.ylabel(\"RMSE\")\n",
    "  plt.xlabel(\"Periods\")\n",
    "  plt.title(\"Root Mean Squared Error vs. Periods\")\n",
    "  plt.tight_layout()\n",
    "  plt.plot(training_rmse, label=\"training\")\n",
    "  plt.plot(validation_rmse, label=\"validation\")\n",
    "  plt.legend()\n",
    "\n",
    "  return linear_regressor, training_predictions, training_targets[label]"
   ]
  },
  {
   "cell_type": "code",
   "execution_count": 414,
   "metadata": {},
   "outputs": [],
   "source": [
    "def train_linear_classifier_model(\n",
    "    learning_rate,\n",
    "    steps,\n",
    "    batch_size,\n",
    "    label,\n",
    "    training_examples,\n",
    "    training_targets,\n",
    "    validation_examples,\n",
    "    validation_targets):\n",
    "  \"\"\"Trains a linear classification model.\n",
    "  \n",
    "  In addition to training, this function also prints training progress information,\n",
    "  as well as a plot of the training and validation loss over time.\n",
    "  \n",
    "  Args:\n",
    "    learning_rate: A `float`, the learning rate.\n",
    "    steps: A non-zero `int`, the total number of training steps. A training step\n",
    "      consists of a forward and backward pass using a single batch.\n",
    "    batch_size: A non-zero `int`, the batch size.\n",
    "    training_examples: A `DataFrame` containing one or more columns from\n",
    "      `california_housing_dataframe` to use as input features for training.\n",
    "    training_targets: A `DataFrame` containing exactly one column from\n",
    "      `california_housing_dataframe` to use as target for training.\n",
    "    validation_examples: A `DataFrame` containing one or more columns from\n",
    "      `california_housing_dataframe` to use as input features for validation.\n",
    "    validation_targets: A `DataFrame` containing exactly one column from\n",
    "      `california_housing_dataframe` to use as target for validation.\n",
    "      \n",
    "  Returns:\n",
    "    A `LinearClassifier` object trained on the training data.\n",
    "  \"\"\"\n",
    "\n",
    "  periods = 10\n",
    "  steps_per_period = steps / periods\n",
    "  \n",
    "  # Create a linear classifier object.\n",
    "  my_optimizer = tf.train.GradientDescentOptimizer(learning_rate=learning_rate)\n",
    "  #my_optimizer = tf.contrib.estimator.clip_gradients_by_norm(my_optimizer, 5.0)  \n",
    "  linear_classifier = tf.estimator.LinearClassifier(\n",
    "      feature_columns=construct_feature_columns(),\n",
    "      optimizer=my_optimizer\n",
    "  )\n",
    "  \n",
    "  # Create input functions.\n",
    "  training_input_fn = lambda: my_input_fn(training_examples, \n",
    "                                          training_targets[label], \n",
    "                                          batch_size=batch_size)\n",
    "  predict_training_input_fn = lambda: my_input_fn(training_examples, \n",
    "                                                  training_targets[label], \n",
    "                                                  num_epochs=1, \n",
    "                                                  shuffle=False)\n",
    "  predict_validation_input_fn = lambda: my_input_fn(validation_examples, \n",
    "                                                    validation_targets[label], \n",
    "                                                    num_epochs=1, \n",
    "                                                    shuffle=False)\n",
    "  \n",
    "  # Train the model, but do so inside a loop so that we can periodically assess\n",
    "  # loss metrics.\n",
    "  print(\"Training model...\")\n",
    "  print(\"LogLoss (on training data):\")\n",
    "  training_log_losses = []\n",
    "  validation_log_losses = []\n",
    "  for period in range (0, periods):\n",
    "    # Train the model, starting from the prior state.\n",
    "    linear_classifier.train(\n",
    "        input_fn=training_input_fn,\n",
    "        steps=steps_per_period\n",
    "    )\n",
    "    # Take a break and compute predictions.    \n",
    "    training_probabilities = linear_classifier.predict(input_fn=predict_training_input_fn)\n",
    "    training_probabilities = np.array([item['probabilities'] for item in training_probabilities])\n",
    "    \n",
    "    validation_probabilities = linear_classifier.predict(input_fn=predict_validation_input_fn)\n",
    "    validation_probabilities = np.array([item['probabilities'] for item in validation_probabilities])\n",
    "    \n",
    "    training_log_loss = metrics.log_loss(training_targets, training_probabilities)\n",
    "    validation_log_loss = metrics.log_loss(validation_targets, validation_probabilities)\n",
    "    # Occasionally print the current loss.\n",
    "    print(\"  period %02d : %0.3f\" % (period, training_log_loss))\n",
    "    # Add the loss metrics from this period to our list.\n",
    "    training_log_losses.append(training_log_loss)\n",
    "    validation_log_losses.append(validation_log_loss)\n",
    "  print(\"Model training finished.\")\n",
    "  \n",
    "  # Output a graph of loss metrics over periods.\n",
    "  plt.ylabel(\"LogLoss\")\n",
    "  plt.xlabel(\"Periods\")\n",
    "  plt.title(\"LogLoss vs. Periods\")\n",
    "  plt.tight_layout()\n",
    "  plt.plot(training_log_losses, label=\"training\")\n",
    "  plt.plot(validation_log_losses, label=\"validation\")\n",
    "  plt.legend()\n",
    "\n",
    "  return linear_classifier"
   ]
  },
  {
   "cell_type": "code",
   "execution_count": 205,
   "metadata": {},
   "outputs": [
    {
     "ename": "TypeError",
     "evalue": "train_model() missing 1 required positional argument: 'model_type'",
     "output_type": "error",
     "traceback": [
      "\u001b[0;31m---------------------------------------------------------------------------\u001b[0m",
      "\u001b[0;31mTypeError\u001b[0m                                 Traceback (most recent call last)",
      "\u001b[0;32m<ipython-input-205-5d7f08f051e9>\u001b[0m in \u001b[0;36m<module>\u001b[0;34m()\u001b[0m\n\u001b[1;32m      7\u001b[0m     \u001b[0mtraining_targets\u001b[0m\u001b[0;34m=\u001b[0m\u001b[0mtraining_targets\u001b[0m\u001b[0;34m,\u001b[0m\u001b[0;34m\u001b[0m\u001b[0m\n\u001b[1;32m      8\u001b[0m     \u001b[0mvalidation_examples\u001b[0m\u001b[0;34m=\u001b[0m\u001b[0mvalidation_examples\u001b[0m\u001b[0;34m,\u001b[0m\u001b[0;34m\u001b[0m\u001b[0m\n\u001b[0;32m----> 9\u001b[0;31m     validation_targets=validation_targets)\n\u001b[0m",
      "\u001b[0;31mTypeError\u001b[0m: train_model() missing 1 required positional argument: 'model_type'"
     ]
    }
   ],
   "source": [
    "linear_regressor, predictions, targets = train_model(\n",
    "    learning_rate=5,\n",
    "    steps=300,\n",
    "    batch_size=100,\n",
    "    label='eq_average_loss',\n",
    "    training_examples=training_examples,\n",
    "    training_targets=training_targets,\n",
    "    validation_examples=validation_examples,\n",
    "    validation_targets=validation_targets)"
   ]
  },
  {
   "cell_type": "code",
   "execution_count": 421,
   "metadata": {},
   "outputs": [
    {
     "name": "stdout",
     "output_type": "stream",
     "text": [
      "hidden_units: [5, 5, 5]\n",
      "Training model...\n",
      "RMSE (on training data):\n",
      "  period 00 : 6.65\n",
      "  period 01 : 6.66\n",
      "  period 02 : 6.66\n",
      "  period 03 : 6.65\n",
      "  period 04 : 6.65\n",
      "  period 05 : 6.65\n",
      "  period 06 : 6.65\n",
      "  period 07 : 6.65\n",
      "  period 08 : 6.65\n",
      "  period 09 : 6.65\n",
      "Model training finished.\n"
     ]
    },
    {
     "data": {
      "image/png": "[encoded data removed]",
      "text/plain": [
       "<Figure size 432x288 with 1 Axes>"
      ]
     },
     "metadata": {
      "needs_background": "light"
     },
     "output_type": "display_data"
    }
   ],
   "source": [
    "linear_regressor, predictions, targets = train_model(\n",
    "    model_type='neural_net',\n",
    "    hidden_units=[5, 5, 5],\n",
    "    learning_rate=10,\n",
    "    steps=1000,\n",
    "    batch_size=200,\n",
    "    label='eq_average_loss',\n",
    "    training_examples=training_examples,\n",
    "    training_targets=training_targets,\n",
    "    validation_examples=validation_examples,\n",
    "    validation_targets=validation_targets)"
   ]
  },
  {
   "cell_type": "code",
   "execution_count": 419,
   "metadata": {},
   "outputs": [
    {
     "data": {
      "text/plain": [
       "[0.636117136659436, 0.546999276934201]"
      ]
     },
     "execution_count": 419,
     "metadata": {},
     "output_type": "execute_result"
    }
   ],
   "source": [
    "[model_good_prediction_ratio(targets, predictions, 5), model_good_prediction_ratio(targets, training_targets.describe()['eq_average_loss']['mean'], 5)]"
   ]
  },
  {
   "cell_type": "code",
   "execution_count": 422,
   "metadata": {},
   "outputs": [
    {
     "data": {
      "text/plain": [
       "[0.6366594360086768, 0.546999276934201]"
      ]
     },
     "execution_count": 422,
     "metadata": {},
     "output_type": "execute_result"
    }
   ],
   "source": [
    "[model_good_prediction_ratio(targets, predictions, 5), model_good_prediction_ratio(targets, training_targets.describe()['eq_average_loss']['mean'], 5)]"
   ]
  },
  {
   "cell_type": "code",
   "execution_count": 293,
   "metadata": {},
   "outputs": [
    {
     "name": "stdout",
     "output_type": "stream",
     "text": [
      "Training model...\n",
      "LogLoss (on training data):\n",
      "  period 00 : 0.530\n",
      "  period 01 : 0.519\n",
      "  period 02 : 0.518\n",
      "  period 03 : 0.517\n",
      "  period 04 : 0.517\n",
      "  period 05 : 0.517\n",
      "  period 06 : 0.517\n",
      "  period 07 : 0.517\n",
      "  period 08 : 0.517\n",
      "  period 09 : 0.517\n",
      "Model training finished.\n"
     ]
    },
    {
     "data": {
      "image/png": "[encoded data removed]",
      "text/plain": [
       "<Figure size 432x288 with 1 Axes>"
      ]
     },
     "metadata": {
      "needs_background": "light"
     },
     "output_type": "display_data"
    }
   ],
   "source": [
    "linear_classifier = train_linear_classifier_model(\n",
    "    learning_rate=0.0005,\n",
    "    steps=600,\n",
    "    batch_size=200,\n",
    "    label='target_reached',\n",
    "    training_examples=training_examples,\n",
    "    training_targets=training_targets,\n",
    "    validation_examples=validation_examples,\n",
    "    validation_targets=validation_targets)"
   ]
  },
  {
   "cell_type": "code",
   "execution_count": 294,
   "metadata": {},
   "outputs": [
    {
     "name": "stdout",
     "output_type": "stream",
     "text": [
      "AUC on the validation set: 0.71\n",
      "Accuracy on the validation set: 0.75\n"
     ]
    },
    {
     "data": {
      "text/plain": [
       "{'accuracy': 0.7485549,\n",
       " 'accuracy_baseline': 0.7138728,\n",
       " 'auc': 0.7140829,\n",
       " 'auc_precision_recall': 0.5333876,\n",
       " 'average_loss': 0.5367404,\n",
       " 'global_step': 600,\n",
       " 'label/mean': 0.28612718,\n",
       " 'loss': 0.5367404,\n",
       " 'precision': 0.6090909,\n",
       " 'prediction/mean': 0.30263147,\n",
       " 'recall': 0.33838382}"
      ]
     },
     "execution_count": 294,
     "metadata": {},
     "output_type": "execute_result"
    }
   ],
   "source": [
    "predict_validation_input_fn = lambda: my_input_fn(validation_examples, \n",
    "                                                  validation_targets[\"target_reached\"], \n",
    "                                                  num_epochs=1, \n",
    "                                                  shuffle=False)\n",
    "\n",
    "evaluation_metrics = linear_classifier.evaluate(input_fn=predict_validation_input_fn)\n",
    "\n",
    "print(\"AUC on the validation set: %0.2f\" % evaluation_metrics['auc'])\n",
    "print(\"Accuracy on the validation set: %0.2f\" % evaluation_metrics['accuracy'])\n",
    "evaluation_metrics"
   ]
  },
  {
   "cell_type": "code",
   "execution_count": 213,
   "metadata": {},
   "outputs": [
    {
     "data": {
      "image/png": "[encoded data removed]",
      "text/plain": [
       "<Figure size 432x288 with 1 Axes>"
      ]
     },
     "metadata": {
      "needs_background": "light"
     },
     "output_type": "display_data"
    }
   ],
   "source": [
    "validation_probabilities = linear_classifier.predict(input_fn=predict_validation_input_fn)\n",
    "# Get just the probabilities for the positive class.\n",
    "validation_probabilities = np.array([item['probabilities'][1] for item in validation_probabilities])\n",
    "\n",
    "precision, recall, thresholds = metrics.precision_recall_curve(\n",
    "    validation_targets, validation_probabilities)\n",
    "plt.plot(recall, precision)\n",
    "plt.xlabel(\"Recall\")\n",
    "plt.ylabel(\"Precision\")\n",
    "plt.title(\"Precison vs. Recall\")\n",
    "_ = plt.show()"
   ]
  },
  {
   "cell_type": "code",
   "execution_count": 217,
   "metadata": {},
   "outputs": [
    {
     "data": {
      "text/plain": [
       "array([0.06635913, 0.02331385, 0.01645223, ..., 0.15750562, 0.01856546,\n",
       "       0.07513855], dtype=float32)"
      ]
     },
     "execution_count": 217,
     "metadata": {},
     "output_type": "execute_result"
    }
   ],
   "source": [
    "validation_probabilities"
   ]
  },
  {
   "cell_type": "code",
   "execution_count": 242,
   "metadata": {},
   "outputs": [
    {
     "data": {
      "text/plain": [
       "array([0., 0., 0., ..., 0., 0., 0.])"
      ]
     },
     "execution_count": 242,
     "metadata": {},
     "output_type": "execute_result"
    }
   ],
   "source": [
    "validation_targets['target_reached'].values"
   ]
  },
  {
   "cell_type": "code",
   "execution_count": 241,
   "metadata": {},
   "outputs": [
    {
     "data": {
      "text/plain": [
       "0.0    1495\n",
       "1.0     158\n",
       "Name: target_reached, dtype: int64"
      ]
     },
     "execution_count": 241,
     "metadata": {},
     "output_type": "execute_result"
    }
   ],
   "source": [
    "pd.value_counts(validation_targets['target_reached'])"
   ]
  },
  {
   "cell_type": "code",
   "execution_count": 295,
   "metadata": {},
   "outputs": [
    {
     "data": {
      "image/png": "[encoded data removed]",
      "text/plain": [
       "<Figure size 432x288 with 1 Axes>"
      ]
     },
     "metadata": {
      "needs_background": "light"
     },
     "output_type": "display_data"
    }
   ],
   "source": [
    "validation_probabilities = linear_classifier.predict(input_fn=predict_validation_input_fn)\n",
    "# Get just the probabilities for the positive class.\n",
    "validation_probabilities = np.array([item['probabilities'][1] for item in validation_probabilities])\n",
    "\n",
    "false_positive_rate, true_positive_rate, thresholds = metrics.roc_curve(\n",
    "    validation_targets, validation_probabilities)\n",
    "plt.plot(false_positive_rate, true_positive_rate, label=\"our model\")\n",
    "plt.plot([0, 1], [0, 1], label=\"random classifier\")\n",
    "plt.ylabel(\"True Positive Rate\")\n",
    "plt.xlabel(\"False Positive Rate\")\n",
    "plt.title(\"ROC curve\")\n",
    "_ = plt.legend(loc=2)"
   ]
  },
  {
   "cell_type": "code",
   "execution_count": 27,
   "metadata": {},
   "outputs": [
    {
     "data": {
      "text/plain": [
       "array([33.161465, 32.640793, 37.437405, ..., 32.65567 , 34.765648,\n",
       "       33.240456], dtype=float32)"
      ]
     },
     "execution_count": 27,
     "metadata": {},
     "output_type": "execute_result"
    }
   ],
   "source": [
    " predict_training_input_fn = lambda: my_input_fn(\n",
    "  training_examples, \n",
    "  training_targets['eq_average_loss'], \n",
    "  num_epochs=1, \n",
    "  shuffle=False)\n",
    "    \n",
    "training_predictions = linear_regressor.predict(input_fn=predict_training_input_fn)\n",
    "training_predictions = np.array([item['predictions'][0] for item in training_predictions])\n",
    "\n",
    "training_predictions"
   ]
  },
  {
   "cell_type": "code",
   "execution_count": 685,
   "metadata": {},
   "outputs": [
    {
     "data": {
      "text/plain": [
       "<matplotlib.collections.PathCollection at 0x7fd269b91be0>"
      ]
     },
     "execution_count": 685,
     "metadata": {},
     "output_type": "execute_result"
    },
    {
     "data": {
      "image/png": "[encoded data removed]",
      "text/plain": [
       "<Figure size 1080x432 with 1 Axes>"
      ]
     },
     "metadata": {
      "needs_background": "light"
     },
     "output_type": "display_data"
    }
   ],
   "source": [
    "plt.figure(figsize=(15, 6))\n",
    "\n",
    "\n",
    "plt.subplot(1, 2, 1)\n",
    "plt.ylim(0, 60)\n",
    "plt.xlim(0, 60)\n",
    "plt.plot([0, 60], [0, 60], label=\"random classifier\")\n",
    "\n",
    "plt.scatter(targets, predictions )"
   ]
  },
  {
   "cell_type": "code",
   "execution_count": null,
   "metadata": {},
   "outputs": [],
   "source": []
  },
  {
   "cell_type": "code",
   "execution_count": 686,
   "metadata": {},
   "outputs": [
    {
     "data": {
      "text/plain": [
       "<matplotlib.axes._subplots.AxesSubplot at 0x7fd269bac780>"
      ]
     },
     "execution_count": 686,
     "metadata": {},
     "output_type": "execute_result"
    },
    {
     "data": {
      "image/png": "[encoded data removed]",
      "text/plain": [
       "<Figure size 432x288 with 1 Axes>"
      ]
     },
     "metadata": {
      "needs_background": "light"
     },
     "output_type": "display_data"
    }
   ],
   "source": [
    "pd.DataFrame({'x': predictions})['x'].hist()"
   ]
  },
  {
   "cell_type": "code",
   "execution_count": 669,
   "metadata": {},
   "outputs": [
    {
     "data": {
      "text/plain": [
       "<matplotlib.axes._subplots.AxesSubplot at 0x7fd2b5292da0>"
      ]
     },
     "execution_count": 669,
     "metadata": {},
     "output_type": "execute_result"
    },
    {
     "data": {
      "image/png": "[encoded data removed]",
      "text/plain": [
       "<Figure size 432x288 with 1 Axes>"
      ]
     },
     "metadata": {
      "needs_background": "light"
     },
     "output_type": "display_data"
    }
   ],
   "source": [
    "pd.DataFrame({'x': targets})['x'].hist()"
   ]
  },
  {
   "cell_type": "code",
   "execution_count": 689,
   "metadata": {},
   "outputs": [
    {
     "data": {
      "text/plain": [
       "count   6611.0\n",
       "mean       4.7\n",
       "std        4.6\n",
       "min        0.0\n",
       "25%        1.7\n",
       "50%        3.5\n",
       "75%        6.4\n",
       "max       61.7\n",
       "Name: x, dtype: float64"
      ]
     },
     "execution_count": 689,
     "metadata": {},
     "output_type": "execute_result"
    }
   ],
   "source": [
    "pd.DataFrame({'x': (targets - predictions).apply (lambda x: abs(x))})['x'].describe()"
   ]
  },
  {
   "cell_type": "code",
   "execution_count": 358,
   "metadata": {
    "scrolled": true
   },
   "outputs": [
    {
     "ename": "ValueError",
     "evalue": "If using all scalar values, you must pass an index",
     "output_type": "error",
     "traceback": [
      "\u001b[0;31m---------------------------------------------------------------------------\u001b[0m",
      "\u001b[0;31mValueError\u001b[0m                                Traceback (most recent call last)",
      "\u001b[0;32m<ipython-input-358-c157ddf6ae65>\u001b[0m in \u001b[0;36m<module>\u001b[0;34m()\u001b[0m\n\u001b[0;32m----> 1\u001b[0;31m \u001b[0mpd\u001b[0m\u001b[0;34m.\u001b[0m\u001b[0mDataFrame\u001b[0m\u001b[0;34m(\u001b[0m\u001b[0;34m{\u001b[0m\u001b[0;34m'x'\u001b[0m\u001b[0;34m:\u001b[0m \u001b[0;34m(\u001b[0m\u001b[0mtargets\u001b[0m \u001b[0;34m-\u001b[0m \u001b[0;36m34.4\u001b[0m\u001b[0;34m)\u001b[0m\u001b[0;34m.\u001b[0m\u001b[0mapply\u001b[0m \u001b[0;34m(\u001b[0m\u001b[0;32mlambda\u001b[0m \u001b[0mx\u001b[0m\u001b[0;34m:\u001b[0m \u001b[0mabs\u001b[0m\u001b[0;34m(\u001b[0m\u001b[0mx\u001b[0m\u001b[0;34m)\u001b[0m\u001b[0;34m)\u001b[0m\u001b[0;34m}\u001b[0m\u001b[0;34m)\u001b[0m\u001b[0;34m\u001b[0m\u001b[0m\n\u001b[0m",
      "\u001b[0;32m/usr/local/lib/python3.5/dist-packages/pandas/core/frame.py\u001b[0m in \u001b[0;36m__init__\u001b[0;34m(self, data, index, columns, dtype, copy)\u001b[0m\n\u001b[1;32m    346\u001b[0m                                  dtype=dtype, copy=copy)\n\u001b[1;32m    347\u001b[0m         \u001b[0;32melif\u001b[0m \u001b[0misinstance\u001b[0m\u001b[0;34m(\u001b[0m\u001b[0mdata\u001b[0m\u001b[0;34m,\u001b[0m \u001b[0mdict\u001b[0m\u001b[0;34m)\u001b[0m\u001b[0;34m:\u001b[0m\u001b[0;34m\u001b[0m\u001b[0m\n\u001b[0;32m--> 348\u001b[0;31m             \u001b[0mmgr\u001b[0m \u001b[0;34m=\u001b[0m \u001b[0mself\u001b[0m\u001b[0;34m.\u001b[0m\u001b[0m_init_dict\u001b[0m\u001b[0;34m(\u001b[0m\u001b[0mdata\u001b[0m\u001b[0;34m,\u001b[0m \u001b[0mindex\u001b[0m\u001b[0;34m,\u001b[0m \u001b[0mcolumns\u001b[0m\u001b[0;34m,\u001b[0m \u001b[0mdtype\u001b[0m\u001b[0;34m=\u001b[0m\u001b[0mdtype\u001b[0m\u001b[0;34m)\u001b[0m\u001b[0;34m\u001b[0m\u001b[0m\n\u001b[0m\u001b[1;32m    349\u001b[0m         \u001b[0;32melif\u001b[0m \u001b[0misinstance\u001b[0m\u001b[0;34m(\u001b[0m\u001b[0mdata\u001b[0m\u001b[0;34m,\u001b[0m \u001b[0mma\u001b[0m\u001b[0;34m.\u001b[0m\u001b[0mMaskedArray\u001b[0m\u001b[0;34m)\u001b[0m\u001b[0;34m:\u001b[0m\u001b[0;34m\u001b[0m\u001b[0m\n\u001b[1;32m    350\u001b[0m             \u001b[0;32mimport\u001b[0m \u001b[0mnumpy\u001b[0m\u001b[0;34m.\u001b[0m\u001b[0mma\u001b[0m\u001b[0;34m.\u001b[0m\u001b[0mmrecords\u001b[0m \u001b[0;32mas\u001b[0m \u001b[0mmrecords\u001b[0m\u001b[0;34m\u001b[0m\u001b[0m\n",
      "\u001b[0;32m/usr/local/lib/python3.5/dist-packages/pandas/core/frame.py\u001b[0m in \u001b[0;36m_init_dict\u001b[0;34m(self, data, index, columns, dtype)\u001b[0m\n\u001b[1;32m    457\u001b[0m             \u001b[0marrays\u001b[0m \u001b[0;34m=\u001b[0m \u001b[0;34m[\u001b[0m\u001b[0mdata\u001b[0m\u001b[0;34m[\u001b[0m\u001b[0mk\u001b[0m\u001b[0;34m]\u001b[0m \u001b[0;32mfor\u001b[0m \u001b[0mk\u001b[0m \u001b[0;32min\u001b[0m \u001b[0mkeys\u001b[0m\u001b[0;34m]\u001b[0m\u001b[0;34m\u001b[0m\u001b[0m\n\u001b[1;32m    458\u001b[0m \u001b[0;34m\u001b[0m\u001b[0m\n\u001b[0;32m--> 459\u001b[0;31m         \u001b[0;32mreturn\u001b[0m \u001b[0m_arrays_to_mgr\u001b[0m\u001b[0;34m(\u001b[0m\u001b[0marrays\u001b[0m\u001b[0;34m,\u001b[0m \u001b[0mdata_names\u001b[0m\u001b[0;34m,\u001b[0m \u001b[0mindex\u001b[0m\u001b[0;34m,\u001b[0m \u001b[0mcolumns\u001b[0m\u001b[0;34m,\u001b[0m \u001b[0mdtype\u001b[0m\u001b[0;34m=\u001b[0m\u001b[0mdtype\u001b[0m\u001b[0;34m)\u001b[0m\u001b[0;34m\u001b[0m\u001b[0m\n\u001b[0m\u001b[1;32m    460\u001b[0m \u001b[0;34m\u001b[0m\u001b[0m\n\u001b[1;32m    461\u001b[0m     \u001b[0;32mdef\u001b[0m \u001b[0m_init_ndarray\u001b[0m\u001b[0;34m(\u001b[0m\u001b[0mself\u001b[0m\u001b[0;34m,\u001b[0m \u001b[0mvalues\u001b[0m\u001b[0;34m,\u001b[0m \u001b[0mindex\u001b[0m\u001b[0;34m,\u001b[0m \u001b[0mcolumns\u001b[0m\u001b[0;34m,\u001b[0m \u001b[0mdtype\u001b[0m\u001b[0;34m=\u001b[0m\u001b[0;32mNone\u001b[0m\u001b[0;34m,\u001b[0m \u001b[0mcopy\u001b[0m\u001b[0;34m=\u001b[0m\u001b[0;32mFalse\u001b[0m\u001b[0;34m)\u001b[0m\u001b[0;34m:\u001b[0m\u001b[0;34m\u001b[0m\u001b[0m\n",
      "\u001b[0;32m/usr/local/lib/python3.5/dist-packages/pandas/core/frame.py\u001b[0m in \u001b[0;36m_arrays_to_mgr\u001b[0;34m(arrays, arr_names, index, columns, dtype)\u001b[0m\n\u001b[1;32m   7354\u001b[0m     \u001b[0;31m# figure out the index, if necessary\u001b[0m\u001b[0;34m\u001b[0m\u001b[0;34m\u001b[0m\u001b[0m\n\u001b[1;32m   7355\u001b[0m     \u001b[0;32mif\u001b[0m \u001b[0mindex\u001b[0m \u001b[0;32mis\u001b[0m \u001b[0;32mNone\u001b[0m\u001b[0;34m:\u001b[0m\u001b[0;34m\u001b[0m\u001b[0m\n\u001b[0;32m-> 7356\u001b[0;31m         \u001b[0mindex\u001b[0m \u001b[0;34m=\u001b[0m \u001b[0mextract_index\u001b[0m\u001b[0;34m(\u001b[0m\u001b[0marrays\u001b[0m\u001b[0;34m)\u001b[0m\u001b[0;34m\u001b[0m\u001b[0m\n\u001b[0m\u001b[1;32m   7357\u001b[0m \u001b[0;34m\u001b[0m\u001b[0m\n\u001b[1;32m   7358\u001b[0m     \u001b[0;31m# don't force copy because getting jammed in an ndarray anyway\u001b[0m\u001b[0;34m\u001b[0m\u001b[0;34m\u001b[0m\u001b[0m\n",
      "\u001b[0;32m/usr/local/lib/python3.5/dist-packages/pandas/core/frame.py\u001b[0m in \u001b[0;36mextract_index\u001b[0;34m(data)\u001b[0m\n\u001b[1;32m   7391\u001b[0m \u001b[0;34m\u001b[0m\u001b[0m\n\u001b[1;32m   7392\u001b[0m         \u001b[0;32mif\u001b[0m \u001b[0;32mnot\u001b[0m \u001b[0mindexes\u001b[0m \u001b[0;32mand\u001b[0m \u001b[0;32mnot\u001b[0m \u001b[0mraw_lengths\u001b[0m\u001b[0;34m:\u001b[0m\u001b[0;34m\u001b[0m\u001b[0m\n\u001b[0;32m-> 7393\u001b[0;31m             raise ValueError('If using all scalar values, you must pass'\n\u001b[0m\u001b[1;32m   7394\u001b[0m                              ' an index')\n\u001b[1;32m   7395\u001b[0m \u001b[0;34m\u001b[0m\u001b[0m\n",
      "\u001b[0;31mValueError\u001b[0m: If using all scalar values, you must pass an index"
     ]
    }
   ],
   "source": [
    "pd.DataFrame({'x': (targets - 34.4).apply (lambda x: abs(x))})['x'].describe()"
   ]
  },
  {
   "cell_type": "code",
   "execution_count": 691,
   "metadata": {},
   "outputs": [
    {
     "data": {
      "text/plain": [
       "<matplotlib.axes._subplots.AxesSubplot at 0x7fd269b13198>"
      ]
     },
     "execution_count": 691,
     "metadata": {},
     "output_type": "execute_result"
    },
    {
     "data": {
      "image/png": "[encoded data removed]",
      "text/plain": [
       "<Figure size 432x288 with 1 Axes>"
      ]
     },
     "metadata": {
      "needs_background": "light"
     },
     "output_type": "display_data"
    }
   ],
   "source": [
    "pd.DataFrame({'x': (targets - predictions).apply (lambda x: abs(x))})['x'].hist()"
   ]
  },
  {
   "cell_type": "code",
   "execution_count": 692,
   "metadata": {},
   "outputs": [
    {
     "data": {
      "text/plain": [
       "<matplotlib.axes._subplots.AxesSubplot at 0x7fd269ac6ef0>"
      ]
     },
     "execution_count": 692,
     "metadata": {},
     "output_type": "execute_result"
    },
    {
     "data": {
      "image/png": "[encoded data removed]",
      "text/plain": [
       "<Figure size 432x288 with 1 Axes>"
      ]
     },
     "metadata": {
      "needs_background": "light"
     },
     "output_type": "display_data"
    }
   ],
   "source": [
    "pd.DataFrame({'x': (targets - 34.4).apply (lambda x: abs(x))})['x'].hist()"
   ]
  }
 ],
 "metadata": {
  "kernelspec": {
   "display_name": "Python 3",
   "language": "python",
   "name": "python3"
  },
  "language_info": {
   "codemirror_mode": {
    "name": "ipython",
    "version": 3
   },
   "file_extension": ".py",
   "mimetype": "text/x-python",
   "name": "python",
   "nbconvert_exporter": "python",
   "pygments_lexer": "ipython3",
   "version": "3.5.2"
  }
 },
 "nbformat": 4,
 "nbformat_minor": 2
}
